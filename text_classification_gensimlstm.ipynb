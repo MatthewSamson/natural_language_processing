{
 "cells": [
  {
   "cell_type": "markdown",
   "metadata": {},
   "source": [
    "# Importing required packages"
   ]
  },
  {
   "cell_type": "code",
   "execution_count": 61,
   "metadata": {},
   "outputs": [
    {
     "data": {
      "text/plain": [
       "<torch._C.Generator at 0x1c5d350c8f0>"
      ]
     },
     "execution_count": 61,
     "metadata": {},
     "output_type": "execute_result"
    }
   ],
   "source": [
    "# importing regular built in packages\n",
    "import time\n",
    "import os\n",
    "import glob\n",
    "import urllib as url\n",
    "\n",
    "# importing required AI/ML packages\n",
    "import numpy as np\n",
    "import pandas as pd\n",
    "import sklearn as sk\n",
    "import torch\n",
    "import matplotlib.pyplot as plt\n",
    "%matplotlib inline\n",
    "\n",
    "# importing some nlp packages\n",
    "import nltk\n",
    "import spacy\n",
    "import gensim\n",
    "import gensim.downloader as api\n",
    "import unicodedata\n",
    "import re\n",
    "import string\n",
    "\n",
    "#glove_embed = api.load(\"glove-wiki-gigaword-300\")\n",
    "#nlp = spacy.load(\"en_core_web_sm\")\n",
    "torch.manual_seed(1234)"
   ]
  },
  {
   "cell_type": "code",
   "execution_count": null,
   "metadata": {},
   "outputs": [],
   "source": []
  },
  {
   "cell_type": "markdown",
   "metadata": {},
   "source": [
    "# 1. Loading and cleaning data"
   ]
  },
  {
   "cell_type": "code",
   "execution_count": 62,
   "metadata": {},
   "outputs": [],
   "source": [
    "def load_clean(fname):\n",
    "    '''\n",
    "    fname: the name of the file to be loaded and cleaned\n",
    "    '''\n",
    "    \n",
    "    ### load raw data section\n",
    "    data = []\n",
    "    \n",
    "    file = open(fname, \"r\")\n",
    "    text = file.read()\n",
    "    file.close()\n",
    "\n",
    "    data = text.split(\"\\n\")\n",
    "    print(\"File \", fname, \" has been loaded!!\")\n",
    "    print(\"File contains \",len(data), \" number of lines.\")\n",
    "    \n",
    "    \n",
    "    ### clean raw data section\n",
    "    mainlabels, sublabels, questions = [], [], []\n",
    "    no_punc, word_list = [], []\n",
    "    \n",
    "    # iterate through each line\n",
    "    for line in data:\n",
    "        words = line.split()\n",
    "        text = []\n",
    "        \n",
    "        # iterate through each word in the line\n",
    "        for i, w in enumerate(words):\n",
    "            # collecting all the labels\n",
    "            if i == 0:\n",
    "                lab = w.split(':')\n",
    "                mainlabels.append(lab[0])\n",
    "                sublabels.append(w)\n",
    "                continue   \n",
    "            \n",
    "            text.append(w.strip())\n",
    "            \n",
    "        # join the words to form the text\n",
    "        full_line = \" \".join([w for w in text])\n",
    "        questions.append(full_line)\n",
    "        \n",
    "        # clean up new line\n",
    "        text = full_line[:-2]\n",
    "        \n",
    "        # removing punctuations, forming sentence and split words\n",
    "        punct = \"\".join([c for c in string.punctuation if c is not '-'])\n",
    "        sentence = \" \".join([w.lower().strip() for w in text.split()])\n",
    "        \n",
    "        rm_punc = \"\".join([c for c in sentence if c not in punct])\n",
    "        rm_1char_punc = \" \".join([w for w in rm_punc.split() if len(w) > 1])\n",
    "        words = rm_1char_punc.split()\n",
    "        \n",
    "        no_punc.append(rm_1char_punc)\n",
    "        word_list.append(words)\n",
    "        \n",
    "    # convert all the required data into a dataframe for ease of visualization and manipulation\n",
    "    dataframe = pd.DataFrame({'label': mainlabels, 'inner label': sublabels, 'text': questions,\n",
    "                             'clean_sentence': no_punc, 'clean_words': word_list})\n",
    "    \n",
    "    return dataframe"
   ]
  },
  {
   "cell_type": "code",
   "execution_count": 230,
   "metadata": {},
   "outputs": [
    {
     "name": "stdout",
     "output_type": "stream",
     "text": [
      "File  [input] 5500 training questions.txt  has been loaded!!\n",
      "File contains  5452  number of lines.\n"
     ]
    },
    {
     "data": {
      "text/html": [
       "<div>\n",
       "<style scoped>\n",
       "    .dataframe tbody tr th:only-of-type {\n",
       "        vertical-align: middle;\n",
       "    }\n",
       "\n",
       "    .dataframe tbody tr th {\n",
       "        vertical-align: top;\n",
       "    }\n",
       "\n",
       "    .dataframe thead th {\n",
       "        text-align: right;\n",
       "    }\n",
       "</style>\n",
       "<table border=\"1\" class=\"dataframe\">\n",
       "  <thead>\n",
       "    <tr style=\"text-align: right;\">\n",
       "      <th></th>\n",
       "      <th>label</th>\n",
       "      <th>inner label</th>\n",
       "      <th>text</th>\n",
       "      <th>clean_sentence</th>\n",
       "      <th>clean_words</th>\n",
       "    </tr>\n",
       "  </thead>\n",
       "  <tbody>\n",
       "    <tr>\n",
       "      <th>0</th>\n",
       "      <td>DESC</td>\n",
       "      <td>DESC:manner</td>\n",
       "      <td>How did serfdom develop in and then leave Russ...</td>\n",
       "      <td>how did serfdom develop in and then leave russia</td>\n",
       "      <td>[how, did, serfdom, develop, in, and, then, le...</td>\n",
       "    </tr>\n",
       "    <tr>\n",
       "      <th>1</th>\n",
       "      <td>ENTY</td>\n",
       "      <td>ENTY:cremat</td>\n",
       "      <td>What films featured the character Popeye Doyle ?</td>\n",
       "      <td>what films featured the character popeye doyle</td>\n",
       "      <td>[what, films, featured, the, character, popeye...</td>\n",
       "    </tr>\n",
       "    <tr>\n",
       "      <th>2</th>\n",
       "      <td>DESC</td>\n",
       "      <td>DESC:manner</td>\n",
       "      <td>How can I find a list of celebrities ' real na...</td>\n",
       "      <td>how can find list of celebrities real names</td>\n",
       "      <td>[how, can, find, list, of, celebrities, real, ...</td>\n",
       "    </tr>\n",
       "    <tr>\n",
       "      <th>3</th>\n",
       "      <td>ENTY</td>\n",
       "      <td>ENTY:animal</td>\n",
       "      <td>What fowl grabs the spotlight after the Chines...</td>\n",
       "      <td>what fowl grabs the spotlight after the chines...</td>\n",
       "      <td>[what, fowl, grabs, the, spotlight, after, the...</td>\n",
       "    </tr>\n",
       "    <tr>\n",
       "      <th>4</th>\n",
       "      <td>ABBR</td>\n",
       "      <td>ABBR:exp</td>\n",
       "      <td>What is the full form of .com ?</td>\n",
       "      <td>what is the full form of com</td>\n",
       "      <td>[what, is, the, full, form, of, com]</td>\n",
       "    </tr>\n",
       "  </tbody>\n",
       "</table>\n",
       "</div>"
      ],
      "text/plain": [
       "  label  inner label                                               text  \\\n",
       "0  DESC  DESC:manner  How did serfdom develop in and then leave Russ...   \n",
       "1  ENTY  ENTY:cremat   What films featured the character Popeye Doyle ?   \n",
       "2  DESC  DESC:manner  How can I find a list of celebrities ' real na...   \n",
       "3  ENTY  ENTY:animal  What fowl grabs the spotlight after the Chines...   \n",
       "4  ABBR     ABBR:exp                    What is the full form of .com ?   \n",
       "\n",
       "                                      clean_sentence  \\\n",
       "0   how did serfdom develop in and then leave russia   \n",
       "1     what films featured the character popeye doyle   \n",
       "2        how can find list of celebrities real names   \n",
       "3  what fowl grabs the spotlight after the chines...   \n",
       "4                       what is the full form of com   \n",
       "\n",
       "                                         clean_words  \n",
       "0  [how, did, serfdom, develop, in, and, then, le...  \n",
       "1  [what, films, featured, the, character, popeye...  \n",
       "2  [how, can, find, list, of, celebrities, real, ...  \n",
       "3  [what, fowl, grabs, the, spotlight, after, the...  \n",
       "4               [what, is, the, full, form, of, com]  "
      ]
     },
     "execution_count": 230,
     "metadata": {},
     "output_type": "execute_result"
    }
   ],
   "source": [
    "# loading and cleaning the required data\n",
    "clean_5500 = load_clean('[input] 5500 training questions.txt')\n",
    "clean_5500.head()"
   ]
  },
  {
   "cell_type": "code",
   "execution_count": null,
   "metadata": {},
   "outputs": [],
   "source": []
  },
  {
   "cell_type": "markdown",
   "metadata": {},
   "source": [
    "# 2. One hot encoding the output label"
   ]
  },
  {
   "cell_type": "code",
   "execution_count": 231,
   "metadata": {},
   "outputs": [],
   "source": [
    "# function to one hot encode the labels of each question\n",
    "def onehot_label(df, feature):\n",
    "    '''\n",
    "    df: the dataframe being used currently\n",
    "    feature: the column name for which one hot encoded labels are to be labeled\n",
    "    '''\n",
    "    \n",
    "    # converting labels into arrays\n",
    "    label = np.array(df[feature]).reshape(-1, 1)\n",
    "    \n",
    "    # using the sklearn one hot encoding method\n",
    "    onehot = sk.preprocessing.OneHotEncoder()\n",
    "    onehot_label = onehot.fit_transform(label)\n",
    "    \n",
    "    print(\"One hot encoding of labels complete!\")\n",
    "    print(\"Categories in the one hot encoding: \", onehot.categories_)\n",
    "    print(\"Shape of the resulting encoding: \", onehot_label.shape)\n",
    "    \n",
    "    # returning the dataframe consisting of the results\n",
    "    encoded = pd.DataFrame(data=onehot_label.toarray(), columns=onehot.categories_)\n",
    "    return encoded"
   ]
  },
  {
   "cell_type": "code",
   "execution_count": 232,
   "metadata": {},
   "outputs": [
    {
     "name": "stdout",
     "output_type": "stream",
     "text": [
      "One hot encoding of labels complete!\n",
      "Categories in the one hot encoding:  [array(['ABBR', 'DESC', 'ENTY', 'HUM', 'LOC', 'NUM'], dtype=object)]\n",
      "Shape of the resulting encoding:  (5452, 6)\n"
     ]
    },
    {
     "data": {
      "text/html": [
       "<div>\n",
       "<style scoped>\n",
       "    .dataframe tbody tr th:only-of-type {\n",
       "        vertical-align: middle;\n",
       "    }\n",
       "\n",
       "    .dataframe tbody tr th {\n",
       "        vertical-align: top;\n",
       "    }\n",
       "\n",
       "    .dataframe thead tr th {\n",
       "        text-align: left;\n",
       "    }\n",
       "</style>\n",
       "<table border=\"1\" class=\"dataframe\">\n",
       "  <thead>\n",
       "    <tr>\n",
       "      <th></th>\n",
       "      <th>ABBR</th>\n",
       "      <th>DESC</th>\n",
       "      <th>ENTY</th>\n",
       "      <th>HUM</th>\n",
       "      <th>LOC</th>\n",
       "      <th>NUM</th>\n",
       "    </tr>\n",
       "  </thead>\n",
       "  <tbody>\n",
       "    <tr>\n",
       "      <th>0</th>\n",
       "      <td>0.0</td>\n",
       "      <td>1.0</td>\n",
       "      <td>0.0</td>\n",
       "      <td>0.0</td>\n",
       "      <td>0.0</td>\n",
       "      <td>0.0</td>\n",
       "    </tr>\n",
       "    <tr>\n",
       "      <th>1</th>\n",
       "      <td>0.0</td>\n",
       "      <td>0.0</td>\n",
       "      <td>1.0</td>\n",
       "      <td>0.0</td>\n",
       "      <td>0.0</td>\n",
       "      <td>0.0</td>\n",
       "    </tr>\n",
       "    <tr>\n",
       "      <th>2</th>\n",
       "      <td>0.0</td>\n",
       "      <td>1.0</td>\n",
       "      <td>0.0</td>\n",
       "      <td>0.0</td>\n",
       "      <td>0.0</td>\n",
       "      <td>0.0</td>\n",
       "    </tr>\n",
       "    <tr>\n",
       "      <th>3</th>\n",
       "      <td>0.0</td>\n",
       "      <td>0.0</td>\n",
       "      <td>1.0</td>\n",
       "      <td>0.0</td>\n",
       "      <td>0.0</td>\n",
       "      <td>0.0</td>\n",
       "    </tr>\n",
       "    <tr>\n",
       "      <th>4</th>\n",
       "      <td>1.0</td>\n",
       "      <td>0.0</td>\n",
       "      <td>0.0</td>\n",
       "      <td>0.0</td>\n",
       "      <td>0.0</td>\n",
       "      <td>0.0</td>\n",
       "    </tr>\n",
       "  </tbody>\n",
       "</table>\n",
       "</div>"
      ],
      "text/plain": [
       "  ABBR DESC ENTY  HUM  LOC  NUM\n",
       "0  0.0  1.0  0.0  0.0  0.0  0.0\n",
       "1  0.0  0.0  1.0  0.0  0.0  0.0\n",
       "2  0.0  1.0  0.0  0.0  0.0  0.0\n",
       "3  0.0  0.0  1.0  0.0  0.0  0.0\n",
       "4  1.0  0.0  0.0  0.0  0.0  0.0"
      ]
     },
     "execution_count": 232,
     "metadata": {},
     "output_type": "execute_result"
    }
   ],
   "source": [
    "# loading up the output encodings\n",
    "onehot_5500 = onehot_label(clean_5500, 'label')\n",
    "onehot_5500.head()"
   ]
  },
  {
   "cell_type": "code",
   "execution_count": null,
   "metadata": {},
   "outputs": [],
   "source": []
  },
  {
   "cell_type": "markdown",
   "metadata": {},
   "source": [
    "# 3. Training Word2Vec embeddings for the corpus"
   ]
  },
  {
   "cell_type": "code",
   "execution_count": 233,
   "metadata": {},
   "outputs": [
    {
     "data": {
      "text/html": [
       "<div>\n",
       "<style scoped>\n",
       "    .dataframe tbody tr th:only-of-type {\n",
       "        vertical-align: middle;\n",
       "    }\n",
       "\n",
       "    .dataframe tbody tr th {\n",
       "        vertical-align: top;\n",
       "    }\n",
       "\n",
       "    .dataframe thead th {\n",
       "        text-align: right;\n",
       "    }\n",
       "</style>\n",
       "<table border=\"1\" class=\"dataframe\">\n",
       "  <thead>\n",
       "    <tr style=\"text-align: right;\">\n",
       "      <th></th>\n",
       "      <th>label</th>\n",
       "      <th>inner label</th>\n",
       "      <th>text</th>\n",
       "      <th>clean_sentence</th>\n",
       "      <th>clean_words</th>\n",
       "      <th>gensim_clean</th>\n",
       "    </tr>\n",
       "  </thead>\n",
       "  <tbody>\n",
       "    <tr>\n",
       "      <th>0</th>\n",
       "      <td>DESC</td>\n",
       "      <td>DESC:manner</td>\n",
       "      <td>How did serfdom develop in and then leave Russ...</td>\n",
       "      <td>how did serfdom develop in and then leave russia</td>\n",
       "      <td>[how, did, serfdom, develop, in, and, then, le...</td>\n",
       "      <td>[how, did, serfdom, develop, in, and, then, le...</td>\n",
       "    </tr>\n",
       "    <tr>\n",
       "      <th>1</th>\n",
       "      <td>ENTY</td>\n",
       "      <td>ENTY:cremat</td>\n",
       "      <td>What films featured the character Popeye Doyle ?</td>\n",
       "      <td>what films featured the character popeye doyle</td>\n",
       "      <td>[what, films, featured, the, character, popeye...</td>\n",
       "      <td>[what, films, featured, the, character, popeye...</td>\n",
       "    </tr>\n",
       "    <tr>\n",
       "      <th>2</th>\n",
       "      <td>DESC</td>\n",
       "      <td>DESC:manner</td>\n",
       "      <td>How can I find a list of celebrities ' real na...</td>\n",
       "      <td>how can find list of celebrities real names</td>\n",
       "      <td>[how, can, find, list, of, celebrities, real, ...</td>\n",
       "      <td>[how, can, find, list, of, celebrities, real, ...</td>\n",
       "    </tr>\n",
       "    <tr>\n",
       "      <th>3</th>\n",
       "      <td>ENTY</td>\n",
       "      <td>ENTY:animal</td>\n",
       "      <td>What fowl grabs the spotlight after the Chines...</td>\n",
       "      <td>what fowl grabs the spotlight after the chines...</td>\n",
       "      <td>[what, fowl, grabs, the, spotlight, after, the...</td>\n",
       "      <td>[what, fowl, grabs, the, spotlight, after, the...</td>\n",
       "    </tr>\n",
       "    <tr>\n",
       "      <th>4</th>\n",
       "      <td>ABBR</td>\n",
       "      <td>ABBR:exp</td>\n",
       "      <td>What is the full form of .com ?</td>\n",
       "      <td>what is the full form of com</td>\n",
       "      <td>[what, is, the, full, form, of, com]</td>\n",
       "      <td>[what, is, the, full, form, of, com]</td>\n",
       "    </tr>\n",
       "  </tbody>\n",
       "</table>\n",
       "</div>"
      ],
      "text/plain": [
       "  label  inner label                                               text  \\\n",
       "0  DESC  DESC:manner  How did serfdom develop in and then leave Russ...   \n",
       "1  ENTY  ENTY:cremat   What films featured the character Popeye Doyle ?   \n",
       "2  DESC  DESC:manner  How can I find a list of celebrities ' real na...   \n",
       "3  ENTY  ENTY:animal  What fowl grabs the spotlight after the Chines...   \n",
       "4  ABBR     ABBR:exp                    What is the full form of .com ?   \n",
       "\n",
       "                                      clean_sentence  \\\n",
       "0   how did serfdom develop in and then leave russia   \n",
       "1     what films featured the character popeye doyle   \n",
       "2        how can find list of celebrities real names   \n",
       "3  what fowl grabs the spotlight after the chines...   \n",
       "4                       what is the full form of com   \n",
       "\n",
       "                                         clean_words  \\\n",
       "0  [how, did, serfdom, develop, in, and, then, le...   \n",
       "1  [what, films, featured, the, character, popeye...   \n",
       "2  [how, can, find, list, of, celebrities, real, ...   \n",
       "3  [what, fowl, grabs, the, spotlight, after, the...   \n",
       "4               [what, is, the, full, form, of, com]   \n",
       "\n",
       "                                        gensim_clean  \n",
       "0  [how, did, serfdom, develop, in, and, then, le...  \n",
       "1  [what, films, featured, the, character, popeye...  \n",
       "2  [how, can, find, list, of, celebrities, real, ...  \n",
       "3  [what, fowl, grabs, the, spotlight, after, the...  \n",
       "4               [what, is, the, full, form, of, com]  "
      ]
     },
     "execution_count": 233,
     "metadata": {},
     "output_type": "execute_result"
    }
   ],
   "source": [
    "# using the gensim function to clean and tokenize the text\n",
    "clean_5500['gensim_clean'] = clean_5500['text'].apply(lambda x: gensim.utils.simple_preprocess(x))\n",
    "clean_5500.head()"
   ]
  },
  {
   "cell_type": "code",
   "execution_count": 251,
   "metadata": {},
   "outputs": [],
   "source": [
    "# splitting into train test split\n",
    "#x_tr, x_te, y_tr, y_te = sk.model_selection.train_test_split(clean_5500['gensim_clean'], clean_5500['label'], test_size=0.2, random_state=123)\n",
    "\n",
    "# training pre-trained word2vec model on our data\n",
    "#w2v_5500 = gensim.models.Word2Vec(x_tr, size=100, window=2, min_count=2)"
   ]
  },
  {
   "cell_type": "code",
   "execution_count": 69,
   "metadata": {},
   "outputs": [],
   "source": [
    "# looking at all the words in the trained word2vec model\n",
    "#w2v_5500.wv.index2word"
   ]
  },
  {
   "cell_type": "code",
   "execution_count": 365,
   "metadata": {},
   "outputs": [],
   "source": [
    "# saving the word vectors to be used in option 2 post processing word embeddings\n",
    "\n",
    "# saving the trained pre-trained model\n",
    "#w2v_5500.save(\"../option 2 - post processing review/init_trained_wvmodel\")\n",
    "\n",
    "# saving the word vectors\n",
    "#w2v_5500.wv.save(\"../option 2 - post processing review/init_trained_wvvectors\")"
   ]
  },
  {
   "cell_type": "code",
   "execution_count": 396,
   "metadata": {},
   "outputs": [
    {
     "data": {
      "text/plain": [
       "array([-0.03767836, -0.14755373, -0.25785303,  0.3687091 , -0.17937383,\n",
       "       -0.01613118,  0.757773  , -0.10143571,  0.30006182,  0.17047554,\n",
       "        0.8188774 , -0.1041642 , -0.353399  ,  0.625181  , -0.69155914,\n",
       "        0.20440276,  0.38170278, -0.04678288,  0.4412677 , -0.4381382 ,\n",
       "       -0.26271564, -0.44058645, -0.23022822, -0.07919661, -0.46207285,\n",
       "       -0.43104732,  0.2878037 , -0.26285115,  0.5273679 ,  0.03374153,\n",
       "       -0.10948228, -0.00717028,  0.0291024 , -0.16392864,  0.08129709,\n",
       "       -0.1302403 ,  0.5638297 , -0.6421315 ,  0.11053333, -0.20486686,\n",
       "        0.25215313, -0.20635764,  0.01797247,  0.08350865, -0.3166323 ,\n",
       "        0.16504246, -0.01690575,  0.78841066, -0.10319585, -0.15116751,\n",
       "        0.13857701,  0.01183684,  0.30259028,  0.5597777 , -0.4233133 ,\n",
       "       -0.10353647,  0.00557435,  0.64496464,  0.05992203,  0.48058787,\n",
       "       -0.04977149,  0.36644852,  0.3276535 ,  0.01343803,  0.49237624,\n",
       "        0.17227092,  0.29820964, -0.33770066, -0.15252665, -0.4270305 ,\n",
       "        0.5826646 , -0.13418373,  0.2995371 , -0.18973564,  0.27195516,\n",
       "       -0.17823431,  0.40677935,  0.47724134, -0.10436034,  0.5231299 ,\n",
       "        0.2361599 ,  0.24491416,  0.6468431 ,  0.03728903,  0.14950688,\n",
       "        0.11111151,  0.41970712, -0.6342902 ,  0.11720961, -0.6473941 ,\n",
       "       -0.21182558,  0.06000227,  0.8478084 , -0.28454876,  0.18000658,\n",
       "        0.07847878,  0.20569296,  0.5829727 ,  0.2222706 ,  0.21130288],\n",
       "      dtype=float32)"
      ]
     },
     "execution_count": 396,
     "metadata": {},
     "output_type": "execute_result"
    }
   ],
   "source": [
    "## loading vectors after training the pre-trained word2vec model\n",
    "\n",
    "#w2v_5500_model = gensim.models.Word2Vec.load('ques_embed\\init_trained_wvmodel')\n",
    "w2v_5500_vectors = gensim.models.KeyedVectors.load('ques_embed\\init_trained_wvvectors')\n",
    "\n",
    "w2v_5500_vectors['and']"
   ]
  },
  {
   "cell_type": "code",
   "execution_count": null,
   "metadata": {},
   "outputs": [],
   "source": []
  },
  {
   "cell_type": "markdown",
   "metadata": {},
   "source": [
    "# 4. Helper Functions to training the LSTM"
   ]
  },
  {
   "cell_type": "code",
   "execution_count": 385,
   "metadata": {},
   "outputs": [],
   "source": [
    "def split_data(input_data, output_data, sp):\n",
    "    '''\n",
    "    input_data: the series containing the data to be used as input\n",
    "    output_data: the one hot encoded output\n",
    "    sp[0]: the split fraction to divide training and test data\n",
    "    sp[1]: the split fraction to divide training and validated data\n",
    "    '''\n",
    "    \n",
    "    x_tr, x_te, y_tr, y_te = sk.model_selection.train_test_split(input_data, output_data, test_size=sp[0], random_state=3)\n",
    "    x_tr, x_va, y_tr, y_va = sk.model_selection.train_test_split(x_tr, y_tr, test_size=sp[1], random_state=123)\n",
    "    \n",
    "    print(\"Shape of training set: \", x_tr.shape, y_tr.shape)\n",
    "    print(\"Shape of validation set: \", x_va.shape, y_va.shape)\n",
    "    print(\"Shape of testing set: \", x_te.shape, y_te.shape)\n",
    "    \n",
    "    return (x_tr, y_tr), (x_va, y_va), (x_te, y_te)\n",
    "\n",
    "\n",
    "# extracting the text into a group of tensors\n",
    "def text_tensor(text, embed):\n",
    "    '''\n",
    "    text: the input text consisting of a list of words\n",
    "    embed: the pre trained gensim embedding after being trained on the input data\n",
    "    '''\n",
    "    \n",
    "    # cleaning the text by gensim procedures\n",
    "    clean = gensim.utils.simple_preprocess(text)\n",
    "    \n",
    "    # creating a mean vector of the sentence in case the specific word is not encoded\n",
    "    mean_embed = torch.mean(torch.tensor([embed[w] for w in clean if w in embed.wv.index2word]), dim=0)\n",
    "    \n",
    "    # collect the respective tensors\n",
    "    samp = []\n",
    "    for w in clean:\n",
    "        if w in embed.wv.index2word:\n",
    "            samp.append(torch.tensor(embed[w]))\n",
    "        else:\n",
    "            samp.append(torch.tensor(mean_embed))\n",
    "            \n",
    "    # combine the tensors into a single batch\n",
    "    torch_text = torch.cat([torch.tensor(s) for s in samp]).reshape(len(clean), 1, -1)\n",
    "    return torch_text"
   ]
  },
  {
   "cell_type": "code",
   "execution_count": 386,
   "metadata": {},
   "outputs": [],
   "source": [
    "# saving a trained model\n",
    "def saving(model, loc):\n",
    "    '''\n",
    "    model: the trained model to be saved\n",
    "    loc: the name of the model (can be used together with /dir/name)\n",
    "    '''\n",
    "    torch.save(model, loc)\n",
    "    return\n",
    "\n",
    "\n",
    "# loading a trained model\n",
    "def loading(model, loc):\n",
    "    '''\n",
    "    model: the newly initialised model (should be the same architecture of the model to be loaded)\n",
    "    loc: the name of the model (can be used together with /dir/name)\n",
    "    '''\n",
    "    # model must be initialised with same class as saved\n",
    "    model = torch.load(loc)\n",
    "    return model"
   ]
  },
  {
   "cell_type": "code",
   "execution_count": null,
   "metadata": {},
   "outputs": [],
   "source": []
  },
  {
   "cell_type": "markdown",
   "metadata": {},
   "source": [
    "# 5. Building the LSTM model"
   ]
  },
  {
   "cell_type": "code",
   "execution_count": 387,
   "metadata": {
    "scrolled": true
   },
   "outputs": [],
   "source": [
    "class gensim_lstm(torch.nn.Module):\n",
    "    \n",
    "    def __init__(self, input_dim, output_dim, hidden_dim, hidden_layers, dropout):\n",
    "        super(gensim_lstm, self).__init__()\n",
    "        '''\n",
    "        input_dim: the size of the input vector (a single word in a sentence)\n",
    "        output_dim: the size of the expected output layer nodes\n",
    "        hidden_dim: the size of the hidden layer nodes\n",
    "        hidden_layers: the number of hidden lstm layers\n",
    "        dropout: fraction of lstm results that are to be dropped\n",
    "        '''\n",
    "        \n",
    "        self.input_dim = input_dim\n",
    "        self.output_dim = output_dim\n",
    "        self.hidden_dim = hidden_dim\n",
    "        self.hidden_layers = hidden_layers\n",
    "        self.dropout = dropout\n",
    "        \n",
    "        self.lstm = torch.nn.LSTM(self.input_dim, self.hidden_dim, self.hidden_layers, dropout=self.dropout)\n",
    "        self.dense = torch.nn.Linear(self.hidden_dim * 2, self.output_dim)\n",
    "        self.sigm = torch.nn.Sigmoid()\n",
    "        \n",
    "\n",
    "    def forward(self, vector, hid):\n",
    "        '''\n",
    "        vector: the input vector of the entire sentence\n",
    "        hid: the initialized hidden and cell state\n",
    "        '''\n",
    "        \n",
    "        # passing input and hid into lstm per each input vector\n",
    "        for vec in vector:\n",
    "            output, hid = self.lstm(vec.reshape(1, 1, -1), hid)\n",
    "            \n",
    "        # combining the last output and hidden\n",
    "        combined = torch.cat((output[-1, :, :], hid[0][-1, :, :]), dim=1)\n",
    "        # apply the combined into a dense layer\n",
    "        final_output = self.dense(combined)\n",
    "        # passing the final output through the sigmoid activation\n",
    "        active_output = self.sigm(final_output)\n",
    "        return active_output\n",
    "        \n",
    "        \n",
    "    def init_hidden(self):\n",
    "        # initializing the hidden and cell state\n",
    "        hidden = (torch.zeros(self.hidden_layers * self.hidden_dim).reshape(self.hidden_layers, 1, -1), \n",
    "                  torch.zeros(self.hidden_layers * self.hidden_dim).reshape(self.hidden_layers, 1, -1))\n",
    "        return hidden"
   ]
  },
  {
   "cell_type": "code",
   "execution_count": 388,
   "metadata": {},
   "outputs": [
    {
     "name": "stdout",
     "output_type": "stream",
     "text": [
      "Model Architecture: \n",
      "gensim_lstm(\n",
      "  (lstm): LSTM(100, 1000, num_layers=10, dropout=0.5)\n",
      "  (dense): Linear(in_features=2000, out_features=6, bias=True)\n",
      "  (sigm): Sigmoid()\n",
      ")\n"
     ]
    },
    {
     "data": {
      "text/plain": [
       "gensim_lstm(\n",
       "  (lstm): LSTM(100, 1000, num_layers=10, dropout=0.5)\n",
       "  (dense): Linear(in_features=2000, out_features=6, bias=True)\n",
       "  (sigm): Sigmoid()\n",
       ")"
      ]
     },
     "execution_count": 388,
     "metadata": {},
     "output_type": "execute_result"
    }
   ],
   "source": [
    "# hyperparameters\n",
    "def set_model(hidden_dim, hidden_layers, dropout):\n",
    "    '''\n",
    "    hidden_dim: the size of the lstm hidden layer\n",
    "    hidden_layers: the number of lstm hidden layers\n",
    "    dropout: the fraction of lstm results to be dropped\n",
    "    '''\n",
    "    \n",
    "    input_dim = 100\n",
    "    output_dim = 6\n",
    "\n",
    "    # instantiate the model\n",
    "    model = gensim_lstm(input_dim, output_dim, hidden_dim, hidden_layers, dropout)\n",
    "    \n",
    "    print(\"Model Architecture: \")\n",
    "    print(model)\n",
    "    return model\n",
    "\n",
    "set_model(1000, 10, 0.5)"
   ]
  },
  {
   "cell_type": "code",
   "execution_count": null,
   "metadata": {},
   "outputs": [],
   "source": [
    "'''\n",
    "# testing out the built model\n",
    "samp1 = text_tensor(clean_5500['text'][0], w2v_5500)\n",
    "samp2 = text_tensor(clean_5500['text'][1], w2v_5500)\n",
    "\n",
    "m1 = set_model(200, 2, 0.5)\n",
    "h = m1.init_hidden()\n",
    "\n",
    "p = m1(i, h)\n",
    "    \n",
    "p\n",
    "'''"
   ]
  },
  {
   "cell_type": "code",
   "execution_count": null,
   "metadata": {},
   "outputs": [],
   "source": []
  },
  {
   "cell_type": "markdown",
   "metadata": {},
   "source": [
    "# 6. Training and Validating the model"
   ]
  },
  {
   "cell_type": "code",
   "execution_count": 389,
   "metadata": {},
   "outputs": [],
   "source": [
    "def train_valid(model, train, valid, epochs, clip, name):\n",
    "    '''\n",
    "    model: the newly initialized model\n",
    "    train: the training dataset (train[0] is input train[1] is output)\n",
    "    valid: the validation dataset (valid[0] is input valid[1] is output)\n",
    "    epochs: the number of epochs to train the model\n",
    "    clip: the norm value of when to clip the gradients\n",
    "    name: the name of the model to be used in saving\n",
    "    '''\n",
    "    \n",
    "    # loss function\n",
    "    loss_fn = torch.nn.BCELoss()\n",
    "    \n",
    "    # set optimizer\n",
    "    optim = torch.optim.Adam(model.parameters(), lr=1e-3, weight_decay=1e-5)\n",
    "    \n",
    "    # collecting and averaging the loss\n",
    "    train_losses, train_avg_loss = [], []\n",
    "    valid_losses, valid_avg_loss = [], []\n",
    "    train_acc, valid_acc = [], []\n",
    "    \n",
    "    # iterating through the epochs\n",
    "    for i in range(epochs):\n",
    "        \n",
    "        tic = time.time()\n",
    "\n",
    "        # setting model to train mode\n",
    "        model.train()\n",
    "        train_actual_class, train_predict_class = [], []\n",
    "        \n",
    "        # iterating through the training data\n",
    "        for vec in range(len(train[0])):\n",
    "            \n",
    "            # initialize the hidden and cell state\n",
    "            hidden = model.init_hidden()\n",
    "            \n",
    "            # zeroing the gradients\n",
    "            model.zero_grad()\n",
    "\n",
    "            # setting up the input and output\n",
    "            inp = text_tensor(train[0].iloc[vec], w2v_5500_vectors)\n",
    "            out = torch.tensor(train[1].iloc[vec], dtype=torch.float).reshape(1, -1)\n",
    "            \n",
    "            #for vector in inp:\n",
    "            pred = model(inp, hidden)\n",
    "\n",
    "            # calculating the loss and back propagate\n",
    "            loss = loss_fn(pred, out)\n",
    "            train_losses.append(loss.item())\n",
    "            loss.backward()\n",
    "            \n",
    "            # `clip_grad_norm` helps prevent the exploding gradient problem\n",
    "            torch.nn.utils.clip_grad_norm_(model.parameters(), clip)\n",
    "            \n",
    "            # optimizing on the loss\n",
    "            optim.step()\n",
    "\n",
    "            train_actual_class.append(torch.argmax(out))\n",
    "            train_predict_class.append(torch.argmax(pred).detach())\n",
    "            \n",
    "            if (vec+1) % 500 == 0:\n",
    "                print(\"Training document \", vec+1, \" / \", len(train[0]), \"...\")\n",
    "\n",
    "        train_accuracy = sk.metrics.accuracy_score(train_actual_class, train_predict_class)\n",
    "        train_acc.append(train_accuracy)\n",
    "        train_avg_loss.append(sum(train_losses) / len(train_losses))\n",
    "        \n",
    "\n",
    "\n",
    "        #### setting model to evaluate mode\n",
    "        model.eval()\n",
    "        valid_actual_class, valid_predict_class = [], []\n",
    "\n",
    "        # iterating through the training data\n",
    "        for vec in range(len(valid[0])):\n",
    "            \n",
    "            # initialize the hidden and cell state\n",
    "            hidden = model.init_hidden()\n",
    "\n",
    "            # setting up the input and output\n",
    "            inp = text_tensor(valid[0].iloc[vec], w2v_5500_vectors)\n",
    "            out = torch.tensor(valid[1].iloc[vec], dtype=torch.float).reshape(1, -1)\n",
    "\n",
    "            #for vector in inp:\n",
    "            pred = model(inp, hidden)\n",
    "\n",
    "            # calculating the loss\n",
    "            loss = loss_fn(pred, out)\n",
    "            valid_losses.append(loss.item())\n",
    "\n",
    "            valid_actual_class.append(torch.argmax(out))\n",
    "            valid_predict_class.append(torch.argmax(pred).detach())\n",
    "\n",
    "            if (vec+1) % 500 == 0:\n",
    "                print(\"Validating document \", vec+1, \" / \", len(valid[0]), \"...\")\n",
    "\n",
    "\n",
    "        valid_avg_loss.append(sum(valid_losses) / len(valid_losses))\n",
    "        valid_accuracy = sk.metrics.accuracy_score(valid_actual_class, valid_predict_class)\n",
    "        valid_acc.append(valid_accuracy)\n",
    "        confusion = sk.metrics.confusion_matrix(valid_actual_class, valid_predict_class)\n",
    "\n",
    "        print(\"\\nTrain Loss: \", train_avg_loss[-1])\n",
    "        print(\"Validation Loss: \", valid_avg_loss[-1])\n",
    "        print(\"Train Accuracy: \", train_accuracy)\n",
    "        print(\"Validation Accuracy: \", valid_accuracy)\n",
    "\n",
    "        print(\"Confusion matrix:\")\n",
    "        print(confusion)\n",
    "\n",
    "        title = \"Confusion at epoch: \" + str(i + 1)\n",
    "        plt.title(title)\n",
    "        plt.imshow(confusion)\n",
    "        plt.show()\n",
    "        \n",
    "        \n",
    "        if (i+1) % 100 == 0:\n",
    "            mod_name = name + str(i+1)\n",
    "            location = \"ques_lstm/\" + mod_name\n",
    "            saving(model, location)\n",
    "            print(\"Saving the model at epoch: \", i + 1, \" as \", mod_name)\n",
    "        \n",
    "\n",
    "        print(\"Epoch \", i + 1, \" is complete!\")\n",
    "        print(\"Complete in \", (time.time() - tic), \" seconds\\n\\n\")\n",
    "\n",
    "    \n",
    "    plt.figure(figsize=(10, 5))\n",
    "    plt.title(\"Plotting the train loss vs. validation loss\")\n",
    "    plt.plot([i for i in range(epochs)], train_avg_loss)\n",
    "    plt.plot([i for i in range(epochs)], valid_avg_loss)\n",
    "    \n",
    "    plt.figure(figsize=(10, 5))\n",
    "    plt.title(\"Plotting the train accuracy vs. validation accuracy\")\n",
    "    plt.plot([i for i in range(epochs)], train_acc)\n",
    "    plt.plot([i for i in range(epochs)], valid_acc)\n",
    "    \n",
    "    res = pd.DataFrame({'train_accuracy': train_acc, 'valid_accuracy': valid_acc, 'train_avg_loss': train_avg_loss,\n",
    "                       'valid_avg_loss': valid_avg_loss,})\n",
    "    \n",
    "    return model, res"
   ]
  },
  {
   "cell_type": "code",
   "execution_count": null,
   "metadata": {},
   "outputs": [],
   "source": []
  },
  {
   "cell_type": "code",
   "execution_count": 390,
   "metadata": {
    "scrolled": true
   },
   "outputs": [
    {
     "name": "stdout",
     "output_type": "stream",
     "text": [
      "Shape of training set:  (3488,) (3488, 6)\n",
      "Shape of validation set:  (873,) (873, 6)\n",
      "Shape of testing set:  (1091,) (1091, 6)\n",
      "Model Architecture: \n",
      "gensim_lstm(\n",
      "  (lstm): LSTM(100, 300, num_layers=3, dropout=0.7)\n",
      "  (dense): Linear(in_features=600, out_features=6, bias=True)\n",
      "  (sigm): Sigmoid()\n",
      ")\n"
     ]
    },
    {
     "name": "stderr",
     "output_type": "stream",
     "text": [
      "C:\\Users\\sunny\\Anaconda3\\lib\\site-packages\\torch\\serialization.py:402: UserWarning: Couldn't retrieve source code for container of type gensim_lstm. It won't be checked for correctness upon loading.\n",
      "  \"type \" + obj.__name__ + \". It won't be checked \"\n",
      "C:\\Users\\sunny\\Anaconda3\\lib\\site-packages\\ipykernel_launcher.py:30: DeprecationWarning: Call to deprecated `wv` (Attribute will be removed in 4.0.0, use self instead).\n",
      "C:\\Users\\sunny\\Anaconda3\\lib\\site-packages\\ipykernel_launcher.py:35: DeprecationWarning: Call to deprecated `wv` (Attribute will be removed in 4.0.0, use self instead).\n",
      "C:\\Users\\sunny\\Anaconda3\\lib\\site-packages\\ipykernel_launcher.py:38: UserWarning: To copy construct from a tensor, it is recommended to use sourceTensor.clone().detach() or sourceTensor.clone().detach().requires_grad_(True), rather than torch.tensor(sourceTensor).\n",
      "C:\\Users\\sunny\\Anaconda3\\lib\\site-packages\\ipykernel_launcher.py:41: UserWarning: To copy construct from a tensor, it is recommended to use sourceTensor.clone().detach() or sourceTensor.clone().detach().requires_grad_(True), rather than torch.tensor(sourceTensor).\n"
     ]
    },
    {
     "name": "stdout",
     "output_type": "stream",
     "text": [
      "Training document  500  /  3488 ...\n",
      "Training document  1000  /  3488 ...\n",
      "Training document  1500  /  3488 ...\n",
      "Training document  2000  /  3488 ...\n",
      "Training document  2500  /  3488 ...\n",
      "Training document  3000  /  3488 ...\n",
      "Validating document  500  /  873 ...\n",
      "\n",
      "Train Loss:  0.4252344869609085\n",
      "Validation Loss:  0.41969587214350834\n",
      "Train Accuracy:  0.24913990825688073\n",
      "Validation Accuracy:  0.30584192439862545\n",
      "Confusion matrix:\n",
      "[[  0  15   4   0   0   0]\n",
      " [  0 101  84   1   0   0]\n",
      " [  0  47 140  17   0   0]\n",
      " [  0  61 120  26   0   0]\n",
      " [  0  32  84   4   0   0]\n",
      " [  0  34  96   7   0   0]]\n"
     ]
    },
    {
     "data": {
      "image/png": "[encoded data removed]",
      "text/plain": [
       "<Figure size 432x288 with 1 Axes>"
      ]
     },
     "metadata": {
      "needs_background": "light"
     },
     "output_type": "display_data"
    },
    {
     "name": "stdout",
     "output_type": "stream",
     "text": [
      "Epoch  1  is complete!\n",
      "Complete in  569.7329313755035  seconds\n",
      "\n",
      "\n",
      "Training document  500  /  3488 ...\n",
      "Training document  1000  /  3488 ...\n",
      "Training document  1500  /  3488 ...\n",
      "Training document  2000  /  3488 ...\n",
      "Training document  2500  /  3488 ...\n",
      "Training document  3000  /  3488 ...\n",
      "Validating document  500  /  873 ...\n",
      "\n",
      "Train Loss:  0.42010897073807696\n",
      "Validation Loss:  0.41477150161497783\n",
      "Train Accuracy:  0.2806766055045872\n",
      "Validation Accuracy:  0.29553264604810997\n",
      "Confusion matrix:\n",
      "[[  0  19   0   0   0   0]\n",
      " [  0 176   2   8   0   0]\n",
      " [  0 139  11  54   0   0]\n",
      " [  0 120  16  71   0   0]\n",
      " [  0  97   4  19   0   0]\n",
      " [  0 120   9   8   0   0]]\n"
     ]
    },
    {
     "data": {
      "image/png": "[encoded data removed]",
      "text/plain": [
       "<Figure size 432x288 with 1 Axes>"
      ]
     },
     "metadata": {
      "needs_background": "light"
     },
     "output_type": "display_data"
    },
    {
     "name": "stdout",
     "output_type": "stream",
     "text": [
      "Epoch  2  is complete!\n",
      "Complete in  498.5277338027954  seconds\n",
      "\n",
      "\n",
      "Training document  500  /  3488 ...\n",
      "Training document  1000  /  3488 ...\n",
      "Training document  1500  /  3488 ...\n",
      "Training document  2000  /  3488 ...\n",
      "Training document  2500  /  3488 ...\n",
      "Training document  3000  /  3488 ...\n",
      "Validating document  500  /  873 ...\n",
      "\n",
      "Train Loss:  0.41629193784551205\n",
      "Validation Loss:  0.4142929800068117\n",
      "Train Accuracy:  0.29759174311926606\n",
      "Validation Accuracy:  0.32646048109965636\n",
      "Confusion matrix:\n",
      "[[  0  15   0   0   0   4]\n",
      " [  0 101   0  11   0  74]\n",
      " [  0  46   0  62   0  96]\n",
      " [  0  46   0  88   0  73]\n",
      " [  0  31   0  22   0  67]\n",
      " [  0  24   0  17   0  96]]\n"
     ]
    },
    {
     "data": {
      "image/png": "[encoded data removed]",
      "text/plain": [
       "<Figure size 432x288 with 1 Axes>"
      ]
     },
     "metadata": {
      "needs_background": "light"
     },
     "output_type": "display_data"
    },
    {
     "name": "stdout",
     "output_type": "stream",
     "text": [
      "Epoch  3  is complete!\n",
      "Complete in  559.5023684501648  seconds\n",
      "\n",
      "\n",
      "Training document  500  /  3488 ...\n",
      "Training document  1000  /  3488 ...\n",
      "Training document  1500  /  3488 ...\n",
      "Training document  2000  /  3488 ...\n",
      "Training document  2500  /  3488 ...\n",
      "Training document  3000  /  3488 ...\n",
      "Validating document  500  /  873 ...\n",
      "\n",
      "Train Loss:  0.4144252882845173\n",
      "Validation Loss:  0.4132630463949867\n",
      "Train Accuracy:  0.29329128440366975\n",
      "Validation Accuracy:  0.3241695303550974\n",
      "Confusion matrix:\n",
      "[[  0  19   0   0   0   0]\n",
      " [  0 173   0  13   0   0]\n",
      " [  0 120   0  74   0  10]\n",
      " [  0  93   0  96   0  18]\n",
      " [  0  76   0  27   0  17]\n",
      " [  0  96   0  27   0  14]]\n"
     ]
    },
    {
     "data": {
      "image/png": "[encoded data removed]",
      "text/plain": [
       "<Figure size 432x288 with 1 Axes>"
      ]
     },
     "metadata": {
      "needs_background": "light"
     },
     "output_type": "display_data"
    },
    {
     "name": "stdout",
     "output_type": "stream",
     "text": [
      "Epoch  4  is complete!\n",
      "Complete in  643.3268830776215  seconds\n",
      "\n",
      "\n",
      "Training document  500  /  3488 ...\n",
      "Training document  1000  /  3488 ...\n",
      "Training document  1500  /  3488 ...\n",
      "Training document  2000  /  3488 ...\n",
      "Training document  2500  /  3488 ...\n",
      "Training document  3000  /  3488 ...\n",
      "Validating document  500  /  873 ...\n",
      "\n",
      "Train Loss:  0.41310485495770255\n",
      "Validation Loss:  0.41229806868924856\n",
      "Train Accuracy:  0.3073394495412844\n",
      "Validation Accuracy:  0.30469644902634596\n",
      "Confusion matrix:\n",
      "[[  0  19   0   0   0   0]\n",
      " [  0 172   0  12   0   2]\n",
      " [  0 123  11  57   0  13]\n",
      " [  0  93  20  69   0  25]\n",
      " [  0  76   5  19   0  20]\n",
      " [  0 104   4  15   0  14]]\n"
     ]
    },
    {
     "data": {
      "image/png": "[encoded data removed]",
      "text/plain": [
       "<Figure size 432x288 with 1 Axes>"
      ]
     },
     "metadata": {
      "needs_background": "light"
     },
     "output_type": "display_data"
    },
    {
     "name": "stdout",
     "output_type": "stream",
     "text": [
      "Epoch  5  is complete!\n",
      "Complete in  739.7209129333496  seconds\n",
      "\n",
      "\n",
      "Training document  500  /  3488 ...\n",
      "Training document  1000  /  3488 ...\n",
      "Training document  1500  /  3488 ...\n",
      "Training document  2000  /  3488 ...\n",
      "Training document  2500  /  3488 ...\n",
      "Training document  3000  /  3488 ...\n",
      "Validating document  500  /  873 ...\n",
      "\n",
      "Train Loss:  0.41159868065417504\n",
      "Validation Loss:  0.41082770507263516\n",
      "Train Accuracy:  0.3033256880733945\n",
      "Validation Accuracy:  0.3207331042382589\n",
      "Confusion matrix:\n",
      "[[  0  19   0   0   0   0]\n",
      " [  0 167   8   4   0   7]\n",
      " [  0 114  64   9   0  17]\n",
      " [  0  81  66  28   0  32]\n",
      " [  0  67  24   0   0  29]\n",
      " [  0  95   9  12   0  21]]\n"
     ]
    },
    {
     "data": {
      "image/png": "[encoded data removed]",
      "text/plain": [
       "<Figure size 432x288 with 1 Axes>"
      ]
     },
     "metadata": {
      "needs_background": "light"
     },
     "output_type": "display_data"
    },
    {
     "name": "stdout",
     "output_type": "stream",
     "text": [
      "Epoch  6  is complete!\n",
      "Complete in  751.7670781612396  seconds\n",
      "\n",
      "\n",
      "Training document  500  /  3488 ...\n",
      "Training document  1000  /  3488 ...\n",
      "Training document  1500  /  3488 ...\n",
      "Training document  2000  /  3488 ...\n",
      "Training document  2500  /  3488 ...\n",
      "Training document  3000  /  3488 ...\n",
      "Validating document  500  /  873 ...\n",
      "\n",
      "Train Loss:  0.40962853458491677\n",
      "Validation Loss:  0.4078022472156848\n",
      "Train Accuracy:  0.3334288990825688\n",
      "Validation Accuracy:  0.38831615120274915\n",
      "Confusion matrix:\n",
      "[[  0  19   0   0   0   0]\n",
      " [  0 144   1  12   4  25]\n",
      " [  0 114   5  80   2   3]\n",
      " [  0  77   5 105   3  17]\n",
      " [  0  29  10  37  42   2]\n",
      " [  0  72   1  21   0  43]]\n"
     ]
    },
    {
     "data": {
      "image/png": "[encoded data removed]",
      "text/plain": [
       "<Figure size 432x288 with 1 Axes>"
      ]
     },
     "metadata": {
      "needs_background": "light"
     },
     "output_type": "display_data"
    },
    {
     "name": "stdout",
     "output_type": "stream",
     "text": [
      "Epoch  7  is complete!\n",
      "Complete in  612.6248860359192  seconds\n",
      "\n",
      "\n",
      "Training document  500  /  3488 ...\n",
      "Training document  1000  /  3488 ...\n",
      "Training document  1500  /  3488 ...\n",
      "Training document  2000  /  3488 ...\n",
      "Training document  2500  /  3488 ...\n",
      "Training document  3000  /  3488 ...\n",
      "Validating document  500  /  873 ...\n",
      "\n",
      "Train Loss:  0.40633106886478915\n",
      "Validation Loss:  0.40663400316346365\n",
      "Train Accuracy:  0.38188073394495414\n",
      "Validation Accuracy:  0.35853379152348225\n",
      "Confusion matrix:\n",
      "[[  0  17   2   0   0   0]\n",
      " [  0 167   7   4   6   2]\n",
      " [  0 107  32  28  37   0]\n",
      " [  0  85  36  58  28   0]\n",
      " [  0  39  22   2  56   1]\n",
      " [  0  86  12  21  18   0]]\n"
     ]
    },
    {
     "data": {
      "image/png": "[encoded data removed]",
      "text/plain": [
       "<Figure size 432x288 with 1 Axes>"
      ]
     },
     "metadata": {
      "needs_background": "light"
     },
     "output_type": "display_data"
    },
    {
     "name": "stdout",
     "output_type": "stream",
     "text": [
      "Epoch  8  is complete!\n",
      "Complete in  624.6172840595245  seconds\n",
      "\n",
      "\n",
      "Training document  500  /  3488 ...\n",
      "Training document  1000  /  3488 ...\n",
      "Training document  1500  /  3488 ...\n",
      "Training document  2000  /  3488 ...\n",
      "Training document  2500  /  3488 ...\n",
      "Training document  3000  /  3488 ...\n",
      "Validating document  500  /  873 ...\n",
      "\n",
      "Train Loss:  0.40131611806987655\n",
      "Validation Loss:  0.40025843435392755\n",
      "Train Accuracy:  0.43061926605504586\n",
      "Validation Accuracy:  0.4627720504009164\n",
      "Confusion matrix:\n",
      "[[ 0 17  2  0  0  0]\n",
      " [ 0 97 20  7 22 40]\n",
      " [ 0 64 97 14 24  5]\n",
      " [ 0 45 65 53 19 25]\n",
      " [ 0 15 34  1 68  2]\n",
      " [ 0 15 17 12  4 89]]\n"
     ]
    },
    {
     "data": {
      "image/png": "[encoded data removed]",
      "text/plain": [
       "<Figure size 432x288 with 1 Axes>"
      ]
     },
     "metadata": {
      "needs_background": "light"
     },
     "output_type": "display_data"
    },
    {
     "name": "stdout",
     "output_type": "stream",
     "text": [
      "Epoch  9  is complete!\n",
      "Complete in  620.9947626590729  seconds\n",
      "\n",
      "\n",
      "Training document  500  /  3488 ...\n",
      "Training document  1000  /  3488 ...\n",
      "Training document  1500  /  3488 ...\n",
      "Training document  2000  /  3488 ...\n",
      "Training document  2500  /  3488 ...\n",
      "Training document  3000  /  3488 ...\n",
      "Validating document  500  /  873 ...\n",
      "\n",
      "Train Loss:  0.3967964517167241\n",
      "Validation Loss:  0.3952407521435741\n",
      "Train Accuracy:  0.4501146788990826\n",
      "Validation Accuracy:  0.4524627720504009\n",
      "Confusion matrix:\n",
      "[[  0  19   0   0   0   0]\n",
      " [  0 128  10   3   4  41]\n",
      " [  0 107  77  14   1   5]\n",
      " [  0  58  63  58   1  27]\n",
      " [  0  27  48   0  43   2]\n",
      " [  0  26  10  12   0  89]]\n"
     ]
    },
    {
     "data": {
      "image/png": "[encoded data removed]",
      "text/plain": [
       "<Figure size 432x288 with 1 Axes>"
      ]
     },
     "metadata": {
      "needs_background": "light"
     },
     "output_type": "display_data"
    },
    {
     "name": "stdout",
     "output_type": "stream",
     "text": [
      "Epoch  10  is complete!\n",
      "Complete in  601.5859694480896  seconds\n",
      "\n",
      "\n",
      "Training document  500  /  3488 ...\n",
      "Training document  1000  /  3488 ...\n",
      "Training document  1500  /  3488 ...\n",
      "Training document  2000  /  3488 ...\n",
      "Training document  2500  /  3488 ...\n",
      "Training document  3000  /  3488 ...\n",
      "Validating document  500  /  873 ...\n",
      "\n",
      "Train Loss:  0.3918044287566894\n",
      "Validation Loss:  0.3884431980942583\n",
      "Train Accuracy:  0.4833715596330275\n",
      "Validation Accuracy:  0.5269186712485682\n",
      "Confusion matrix:\n",
      "[[  0  15   4   0   0   0]\n",
      " [  0  77  39   3  24  43]\n",
      " [  0  38 122  13  25   6]\n",
      " [  0  10  71 107  16   3]\n",
      " [  0   5  52   0  61   2]\n",
      " [  0   5  26   8   5  93]]\n"
     ]
    },
    {
     "data": {
      "image/png": "[encoded data removed]",
      "text/plain": [
       "<Figure size 432x288 with 1 Axes>"
      ]
     },
     "metadata": {
      "needs_background": "light"
     },
     "output_type": "display_data"
    },
    {
     "name": "stdout",
     "output_type": "stream",
     "text": [
      "Epoch  11  is complete!\n",
      "Complete in  698.1475899219513  seconds\n",
      "\n",
      "\n",
      "Training document  500  /  3488 ...\n",
      "Training document  1000  /  3488 ...\n",
      "Training document  1500  /  3488 ...\n",
      "Training document  2000  /  3488 ...\n",
      "Training document  2500  /  3488 ...\n",
      "Training document  3000  /  3488 ...\n",
      "Validating document  500  /  873 ...\n",
      "\n",
      "Train Loss:  0.3871722833186953\n",
      "Validation Loss:  0.38252193586917366\n",
      "Train Accuracy:  0.48795871559633025\n",
      "Validation Accuracy:  0.5463917525773195\n",
      "Confusion matrix:\n",
      "[[  0  15   4   0   0   0]\n",
      " [  0  94  39   2   4  47]\n",
      " [  0  42 139  10   4   9]\n",
      " [  0  11  84 100   1  11]\n",
      " [  0   9  65   0  44   2]\n",
      " [  0   7  29   1   0 100]]\n"
     ]
    },
    {
     "data": {
      "image/png": "[encoded data removed]",
      "text/plain": [
       "<Figure size 432x288 with 1 Axes>"
      ]
     },
     "metadata": {
      "needs_background": "light"
     },
     "output_type": "display_data"
    },
    {
     "name": "stdout",
     "output_type": "stream",
     "text": [
      "Epoch  12  is complete!\n",
      "Complete in  523.7123034000397  seconds\n",
      "\n",
      "\n",
      "Training document  500  /  3488 ...\n",
      "Training document  1000  /  3488 ...\n",
      "Training document  1500  /  3488 ...\n",
      "Training document  2000  /  3488 ...\n",
      "Training document  2500  /  3488 ...\n",
      "Training document  3000  /  3488 ...\n",
      "Validating document  500  /  873 ...\n",
      "\n",
      "Train Loss:  0.38298978730098937\n",
      "Validation Loss:  0.37710749572071567\n",
      "Train Accuracy:  0.49684633027522934\n",
      "Validation Accuracy:  0.5395189003436426\n",
      "Confusion matrix:\n",
      "[[  0  16   3   0   0   0]\n",
      " [  0  79  54   2  17  34]\n",
      " [  0  27 157   8   1  11]\n",
      " [  0   5  91  99   0  12]\n",
      " [  0   5  70   0  43   2]\n",
      " [  0  11  32   1   0  93]]\n"
     ]
    },
    {
     "data": {
      "image/png": "[encoded data removed]",
      "text/plain": [
       "<Figure size 432x288 with 1 Axes>"
      ]
     },
     "metadata": {
      "needs_background": "light"
     },
     "output_type": "display_data"
    },
    {
     "name": "stdout",
     "output_type": "stream",
     "text": [
      "Epoch  13  is complete!\n",
      "Complete in  583.5524227619171  seconds\n",
      "\n",
      "\n",
      "Training document  500  /  3488 ...\n",
      "Training document  1000  /  3488 ...\n",
      "Training document  1500  /  3488 ...\n",
      "Training document  2000  /  3488 ...\n",
      "Training document  2500  /  3488 ...\n",
      "Training document  3000  /  3488 ...\n",
      "Validating document  500  /  873 ...\n",
      "\n",
      "Train Loss:  0.3790224857007381\n",
      "Validation Loss:  0.3727835508934331\n",
      "Train Accuracy:  0.5045871559633027\n",
      "Validation Accuracy:  0.5601374570446735\n",
      "Confusion matrix:\n",
      "[[  0  17   2   0   0   0]\n",
      " [  0 135  30   2   4  15]\n",
      " [  0  61 123  15   3   2]\n",
      " [  0  12  79 107   6   3]\n",
      " [  0  16  59   1  43   1]\n",
      " [  0  31  22   3   0  81]]\n"
     ]
    },
    {
     "data": {
      "image/png": "[encoded data removed]",
      "text/plain": [
       "<Figure size 432x288 with 1 Axes>"
      ]
     },
     "metadata": {
      "needs_background": "light"
     },
     "output_type": "display_data"
    },
    {
     "name": "stdout",
     "output_type": "stream",
     "text": [
      "Epoch  14  is complete!\n",
      "Complete in  612.9695007801056  seconds\n",
      "\n",
      "\n",
      "Training document  500  /  3488 ...\n",
      "Training document  1000  /  3488 ...\n",
      "Training document  1500  /  3488 ...\n",
      "Training document  2000  /  3488 ...\n",
      "Training document  2500  /  3488 ...\n",
      "Training document  3000  /  3488 ...\n",
      "Validating document  500  /  873 ...\n",
      "\n",
      "Train Loss:  0.3755613412255922\n",
      "Validation Loss:  0.3683148002158815\n",
      "Train Accuracy:  0.5157683486238532\n",
      "Validation Accuracy:  0.5555555555555556\n",
      "Confusion matrix:\n",
      "[[  0  17   2   0   0   0]\n",
      " [  0  97  36   2   4  47]\n",
      " [  0  48 118  32   1   5]\n",
      " [  0  15  58 127   0   7]\n",
      " [  0   7  64   4  43   2]\n",
      " [  0   9  26   2   0 100]]\n"
     ]
    },
    {
     "data": {
      "image/png": "[encoded data removed]",
      "text/plain": [
       "<Figure size 432x288 with 1 Axes>"
      ]
     },
     "metadata": {
      "needs_background": "light"
     },
     "output_type": "display_data"
    },
    {
     "name": "stdout",
     "output_type": "stream",
     "text": [
      "Epoch  15  is complete!\n",
      "Complete in  614.7011499404907  seconds\n",
      "\n",
      "\n",
      "Training document  500  /  3488 ...\n",
      "Training document  1000  /  3488 ...\n",
      "Training document  1500  /  3488 ...\n",
      "Training document  2000  /  3488 ...\n",
      "Training document  2500  /  3488 ...\n",
      "Training document  3000  /  3488 ...\n",
      "Validating document  500  /  873 ...\n",
      "\n",
      "Train Loss:  0.37231120737115553\n",
      "Validation Loss:  0.3641784268585286\n",
      "Train Accuracy:  0.5071674311926605\n",
      "Validation Accuracy:  0.5441008018327605\n",
      "Confusion matrix:\n",
      "[[  0  16   3   0   0   0]\n",
      " [  0  80  35   2  22  47]\n",
      " [  0  47 120  30   1   6]\n",
      " [  0  11  60 133   0   3]\n",
      " [  0   8  62   6  42   2]\n",
      " [  0  11  24   2   0 100]]\n"
     ]
    },
    {
     "data": {
      "image/png": "[encoded data removed]",
      "text/plain": [
       "<Figure size 432x288 with 1 Axes>"
      ]
     },
     "metadata": {
      "needs_background": "light"
     },
     "output_type": "display_data"
    },
    {
     "name": "stdout",
     "output_type": "stream",
     "text": [
      "Epoch  16  is complete!\n",
      "Complete in  536.3231601715088  seconds\n",
      "\n",
      "\n",
      "Training document  500  /  3488 ...\n",
      "Training document  1000  /  3488 ...\n",
      "Training document  1500  /  3488 ...\n",
      "Training document  2000  /  3488 ...\n",
      "Training document  2500  /  3488 ...\n",
      "Training document  3000  /  3488 ...\n",
      "Validating document  500  /  873 ...\n",
      "\n",
      "Train Loss:  0.3693660217062122\n",
      "Validation Loss:  0.3610040111385804\n",
      "Train Accuracy:  0.518348623853211\n",
      "Validation Accuracy:  0.5486827033218786\n",
      "Confusion matrix:\n",
      "[[  0  16   3   0   0   0]\n",
      " [  0 111  31   2  22  20]\n",
      " [  0  47 137  14   1   5]\n",
      " [  0   9  87 103   0   8]\n",
      " [  0  10  64   1  43   2]\n",
      " [  0  27  24   1   0  85]]\n"
     ]
    },
    {
     "data": {
      "image/png": "[encoded data removed]",
      "text/plain": [
       "<Figure size 432x288 with 1 Axes>"
      ]
     },
     "metadata": {
      "needs_background": "light"
     },
     "output_type": "display_data"
    },
    {
     "name": "stdout",
     "output_type": "stream",
     "text": [
      "Epoch  17  is complete!\n",
      "Complete in  619.1617906093597  seconds\n",
      "\n",
      "\n",
      "Training document  500  /  3488 ...\n",
      "Training document  1000  /  3488 ...\n",
      "Training document  1500  /  3488 ...\n",
      "Training document  2000  /  3488 ...\n",
      "Training document  2500  /  3488 ...\n",
      "Training document  3000  /  3488 ...\n",
      "Validating document  500  /  873 ...\n",
      "\n",
      "Train Loss:  0.3664641181603767\n",
      "Validation Loss:  0.358061630305007\n",
      "Train Accuracy:  0.5235091743119266\n",
      "Validation Accuracy:  0.5441008018327605\n",
      "Confusion matrix:\n",
      "[[  0  13   6   0   0   0]\n",
      " [  0  83  50  11   4  38]\n",
      " [  0  29 151  20   1   3]\n",
      " [  0   6  85 115   0   1]\n",
      " [  0   5  69   4  42   0]\n",
      " [  0   4  32  17   0  84]]\n"
     ]
    },
    {
     "data": {
      "image/png": "[encoded data removed]",
      "text/plain": [
       "<Figure size 432x288 with 1 Axes>"
      ]
     },
     "metadata": {
      "needs_background": "light"
     },
     "output_type": "display_data"
    },
    {
     "name": "stdout",
     "output_type": "stream",
     "text": [
      "Epoch  18  is complete!\n",
      "Complete in  610.4409513473511  seconds\n",
      "\n",
      "\n",
      "Training document  500  /  3488 ...\n",
      "Training document  1000  /  3488 ...\n",
      "Training document  1500  /  3488 ...\n",
      "Training document  2000  /  3488 ...\n",
      "Training document  2500  /  3488 ...\n",
      "Training document  3000  /  3488 ...\n",
      "Validating document  500  /  873 ...\n",
      "\n",
      "Train Loss:  0.36371047825004615\n",
      "Validation Loss:  0.35527608029230573\n",
      "Train Accuracy:  0.5200688073394495\n",
      "Validation Accuracy:  0.5337915234822451\n",
      "Confusion matrix:\n",
      "[[  0  17   2   0   0   0]\n",
      " [  0 116  17   2   4  47]\n",
      " [  0  85  86  27   1   5]\n",
      " [  0  18  65 121   0   3]\n",
      " [  0  22  52   1  43   2]\n",
      " [  0  24  11   2   0 100]]\n"
     ]
    },
    {
     "data": {
      "image/png": "[encoded data removed]",
      "text/plain": [
       "<Figure size 432x288 with 1 Axes>"
      ]
     },
     "metadata": {
      "needs_background": "light"
     },
     "output_type": "display_data"
    },
    {
     "name": "stdout",
     "output_type": "stream",
     "text": [
      "Epoch  19  is complete!\n",
      "Complete in  619.0706238746643  seconds\n",
      "\n",
      "\n",
      "Training document  500  /  3488 ...\n",
      "Training document  1000  /  3488 ...\n",
      "Training document  1500  /  3488 ...\n",
      "Training document  2000  /  3488 ...\n",
      "Training document  2500  /  3488 ...\n",
      "Training document  3000  /  3488 ...\n",
      "Validating document  500  /  873 ...\n",
      "\n",
      "Train Loss:  0.3610318398841828\n",
      "Validation Loss:  0.35254242043963685\n",
      "Train Accuracy:  0.5358371559633027\n",
      "Validation Accuracy:  0.5567010309278351\n",
      "Confusion matrix:\n",
      "[[  0  15   4   0   0   0]\n",
      " [  0  97  36   2   4  47]\n",
      " [  0  36 144  12   1  11]\n",
      " [  0  11  82 102   0  12]\n",
      " [  0   6  68   1  43   2]\n",
      " [  0   8  27   2   0 100]]\n"
     ]
    },
    {
     "data": {
      "image/png": "[encoded data removed]",
      "text/plain": [
       "<Figure size 432x288 with 1 Axes>"
      ]
     },
     "metadata": {
      "needs_background": "light"
     },
     "output_type": "display_data"
    },
    {
     "name": "stdout",
     "output_type": "stream",
     "text": [
      "Epoch  20  is complete!\n",
      "Complete in  621.447835445404  seconds\n",
      "\n",
      "\n",
      "Training document  500  /  3488 ...\n",
      "Training document  1000  /  3488 ...\n",
      "Training document  1500  /  3488 ...\n",
      "Training document  2000  /  3488 ...\n",
      "Training document  2500  /  3488 ...\n",
      "Training document  3000  /  3488 ...\n",
      "Validating document  500  /  873 ...\n",
      "\n",
      "Train Loss:  0.35842921362252056\n",
      "Validation Loss:  0.3499649157898694\n",
      "Train Accuracy:  0.5438646788990825\n",
      "Validation Accuracy:  0.5486827033218786\n",
      "Confusion matrix:\n",
      "[[  0  17   2   0   0   0]\n",
      " [  0 107  26   2   4  47]\n",
      " [  0  63 121  15   1   4]\n",
      " [  0  18  78 108   0   3]\n",
      " [  0  22  53   1  43   1]\n",
      " [  0  18  18   1   0 100]]\n"
     ]
    },
    {
     "data": {
      "image/png": "[encoded data removed]",
      "text/plain": [
       "<Figure size 432x288 with 1 Axes>"
      ]
     },
     "metadata": {
      "needs_background": "light"
     },
     "output_type": "display_data"
    },
    {
     "name": "stdout",
     "output_type": "stream",
     "text": [
      "Epoch  21  is complete!\n",
      "Complete in  784.6961948871613  seconds\n",
      "\n",
      "\n",
      "Training document  500  /  3488 ...\n",
      "Training document  1000  /  3488 ...\n",
      "Training document  1500  /  3488 ...\n",
      "Training document  2000  /  3488 ...\n",
      "Training document  2500  /  3488 ...\n",
      "Training document  3000  /  3488 ...\n",
      "Validating document  500  /  873 ...\n",
      "\n",
      "Train Loss:  0.35606441340653133\n",
      "Validation Loss:  0.3477423982181769\n",
      "Train Accuracy:  0.5415711009174312\n",
      "Validation Accuracy:  0.5211912943871707\n",
      "Confusion matrix:\n",
      "[[  0  17   2   0   0   0]\n",
      " [  0 150  18   1   6  11]\n",
      " [  0  91  45  23  42   3]\n",
      " [  0  25  27 112  35   8]\n",
      " [  0  21  32   1  65   1]\n",
      " [  0  40  11   2   1  83]]\n"
     ]
    },
    {
     "data": {
      "image/png": "[encoded data removed]",
      "text/plain": [
       "<Figure size 432x288 with 1 Axes>"
      ]
     },
     "metadata": {
      "needs_background": "light"
     },
     "output_type": "display_data"
    },
    {
     "name": "stdout",
     "output_type": "stream",
     "text": [
      "Epoch  22  is complete!\n",
      "Complete in  663.3414881229401  seconds\n",
      "\n",
      "\n",
      "Training document  500  /  3488 ...\n",
      "Training document  1000  /  3488 ...\n",
      "Training document  1500  /  3488 ...\n",
      "Training document  2000  /  3488 ...\n",
      "Training document  2500  /  3488 ...\n",
      "Training document  3000  /  3488 ...\n",
      "Validating document  500  /  873 ...\n",
      "\n",
      "Train Loss:  0.35397945445774226\n",
      "Validation Loss:  0.35028148442006435\n",
      "Train Accuracy:  0.5364105504587156\n",
      "Validation Accuracy:  0.32989690721649484\n",
      "Confusion matrix:\n",
      "[[  0  13   6   0   0   0]\n",
      " [  0 109  66   4   0   7]\n",
      " [  0  35 160   8   0   1]\n",
      " [  0  36 148  14   0   9]\n",
      " [  0  46  70   2   0   2]\n",
      " [  0  24 107   1   0   5]]\n"
     ]
    },
    {
     "data": {
      "image/png": "[encoded data removed]",
      "text/plain": [
       "<Figure size 432x288 with 1 Axes>"
      ]
     },
     "metadata": {
      "needs_background": "light"
     },
     "output_type": "display_data"
    },
    {
     "name": "stdout",
     "output_type": "stream",
     "text": [
      "Epoch  23  is complete!\n",
      "Complete in  733.2623851299286  seconds\n",
      "\n",
      "\n",
      "Training document  500  /  3488 ...\n",
      "Training document  1000  /  3488 ...\n",
      "Training document  1500  /  3488 ...\n",
      "Training document  2000  /  3488 ...\n",
      "Training document  2500  /  3488 ...\n",
      "Training document  3000  /  3488 ...\n",
      "Validating document  500  /  873 ...\n",
      "\n",
      "Train Loss:  0.35270468358245505\n",
      "Validation Loss:  0.3488736433697082\n",
      "Train Accuracy:  0.5160550458715596\n",
      "Validation Accuracy:  0.5223367697594502\n",
      "Confusion matrix:\n",
      "[[  0  17   2   0   0   0]\n",
      " [  0  97  36   2   5  46]\n",
      " [  0  50 101  32  18   3]\n",
      " [  0  16  51 126  13   1]\n",
      " [  0  11  49   6  54   0]\n",
      " [  0  12  27  20   0  78]]\n"
     ]
    },
    {
     "data": {
      "image/png": "[encoded data removed]",
      "text/plain": [
       "<Figure size 432x288 with 1 Axes>"
      ]
     },
     "metadata": {
      "needs_background": "light"
     },
     "output_type": "display_data"
    },
    {
     "name": "stdout",
     "output_type": "stream",
     "text": [
      "Epoch  24  is complete!\n",
      "Complete in  791.6814668178558  seconds\n",
      "\n",
      "\n",
      "Training document  500  /  3488 ...\n",
      "Training document  1000  /  3488 ...\n",
      "Training document  1500  /  3488 ...\n",
      "Training document  2000  /  3488 ...\n",
      "Training document  2500  /  3488 ...\n",
      "Training document  3000  /  3488 ...\n",
      "Validating document  500  /  873 ...\n",
      "\n",
      "Train Loss:  0.35182287444284\n",
      "Validation Loss:  0.34746657043708784\n",
      "Train Accuracy:  0.5045871559633027\n",
      "Validation Accuracy:  0.5670103092783505\n",
      "Confusion matrix:\n",
      "[[  0  17   2   0   0   0]\n",
      " [  0 139  24   2   4  17]\n",
      " [  0  59 124  10   2   9]\n",
      " [  0  17  78 101   1  10]\n",
      " [  0  13  61   1  43   2]\n",
      " [  0  31  17   1   0  88]]\n"
     ]
    },
    {
     "data": {
      "image/png": "[encoded data removed]",
      "text/plain": [
       "<Figure size 432x288 with 1 Axes>"
      ]
     },
     "metadata": {
      "needs_background": "light"
     },
     "output_type": "display_data"
    },
    {
     "name": "stdout",
     "output_type": "stream",
     "text": [
      "Epoch  25  is complete!\n",
      "Complete in  686.3734307289124  seconds\n",
      "\n",
      "\n",
      "Training document  500  /  3488 ...\n",
      "Training document  1000  /  3488 ...\n",
      "Training document  1500  /  3488 ...\n",
      "Training document  2000  /  3488 ...\n",
      "Training document  2500  /  3488 ...\n",
      "Training document  3000  /  3488 ...\n",
      "Validating document  500  /  873 ...\n",
      "\n",
      "Train Loss:  0.3501237497690678\n",
      "Validation Loss:  0.3459127114367668\n",
      "Train Accuracy:  0.5455848623853211\n",
      "Validation Accuracy:  0.5463917525773195\n",
      "Confusion matrix:\n",
      "[[  0  17   2   0   0   0]\n",
      " [  0  93  28   0  22  43]\n",
      " [  0  50 145   3   1   5]\n",
      " [  0  14  93  96   1   3]\n",
      " [  0  12  63   0  43   2]\n",
      " [  0  15  22   0   0 100]]\n"
     ]
    },
    {
     "data": {
      "image/png": "[encoded data removed]",
      "text/plain": [
       "<Figure size 432x288 with 1 Axes>"
      ]
     },
     "metadata": {
      "needs_background": "light"
     },
     "output_type": "display_data"
    },
    {
     "name": "stdout",
     "output_type": "stream",
     "text": [
      "Epoch  26  is complete!\n",
      "Complete in  667.7813317775726  seconds\n",
      "\n",
      "\n",
      "Training document  500  /  3488 ...\n",
      "Training document  1000  /  3488 ...\n",
      "Training document  1500  /  3488 ...\n",
      "Training document  2000  /  3488 ...\n",
      "Training document  2500  /  3488 ...\n",
      "Training document  3000  /  3488 ...\n",
      "Validating document  500  /  873 ...\n",
      "\n",
      "Train Loss:  0.3483255059914937\n",
      "Validation Loss:  0.34717834306893613\n",
      "Train Accuracy:  0.551605504587156\n",
      "Validation Accuracy:  0.43757159221076747\n",
      "Confusion matrix:\n",
      "[[  0  17   2   0   0   0]\n",
      " [  0 126  32   0  22   6]\n",
      " [  0  59 107  26   4   8]\n",
      " [  0  29  86  41   3  48]\n",
      " [  0  10  59   7  43   1]\n",
      " [  0  47  23   2   0  65]]\n"
     ]
    },
    {
     "data": {
      "image/png": "[encoded data removed]",
      "text/plain": [
       "<Figure size 432x288 with 1 Axes>"
      ]
     },
     "metadata": {
      "needs_background": "light"
     },
     "output_type": "display_data"
    },
    {
     "name": "stdout",
     "output_type": "stream",
     "text": [
      "Epoch  27  is complete!\n",
      "Complete in  701.4947693347931  seconds\n",
      "\n",
      "\n",
      "Training document  500  /  3488 ...\n",
      "Training document  1000  /  3488 ...\n",
      "Training document  1500  /  3488 ...\n",
      "Training document  2000  /  3488 ...\n",
      "Training document  2500  /  3488 ...\n",
      "Training document  3000  /  3488 ...\n",
      "Validating document  500  /  873 ...\n",
      "\n",
      "Train Loss:  0.3466769836193392\n",
      "Validation Loss:  0.3449464044207484\n",
      "Train Accuracy:  0.5581995412844036\n",
      "Validation Accuracy:  0.5922107674684994\n",
      "Confusion matrix:\n",
      "[[  0  15   4   0   0   0]\n",
      " [  0 118  46   3   9  10]\n",
      " [  0  34 129  37   1   3]\n",
      " [  0   8  59 137   0   3]\n",
      " [  0   5  58  12  43   2]\n",
      " [  0  18  27   2   0  90]]\n"
     ]
    },
    {
     "data": {
      "image/png": "[encoded data removed]",
      "text/plain": [
       "<Figure size 432x288 with 1 Axes>"
      ]
     },
     "metadata": {
      "needs_background": "light"
     },
     "output_type": "display_data"
    },
    {
     "name": "stdout",
     "output_type": "stream",
     "text": [
      "Epoch  28  is complete!\n",
      "Complete in  663.9106440544128  seconds\n",
      "\n",
      "\n",
      "Training document  500  /  3488 ...\n",
      "Training document  1000  /  3488 ...\n",
      "Training document  1500  /  3488 ...\n",
      "Training document  2000  /  3488 ...\n",
      "Training document  2500  /  3488 ...\n",
      "Training document  3000  /  3488 ...\n",
      "Validating document  500  /  873 ...\n",
      "\n",
      "Train Loss:  0.34510934304554036\n",
      "Validation Loss:  0.3430025252479808\n",
      "Train Accuracy:  0.5533256880733946\n",
      "Validation Accuracy:  0.5750286368843069\n",
      "Confusion matrix:\n",
      "[[  0  12   7   0   0   0]\n",
      " [  0 121  43   3  15   4]\n",
      " [  0  26 110  40  19   9]\n",
      " [  0   6  41 142  11   7]\n",
      " [  0   6  36  14  62   2]\n",
      " [  0  42  24   2   2  67]]\n"
     ]
    },
    {
     "data": {
      "image/png": "[encoded data removed]",
      "text/plain": [
       "<Figure size 432x288 with 1 Axes>"
      ]
     },
     "metadata": {
      "needs_background": "light"
     },
     "output_type": "display_data"
    },
    {
     "name": "stdout",
     "output_type": "stream",
     "text": [
      "Epoch  29  is complete!\n",
      "Complete in  746.3248937129974  seconds\n",
      "\n",
      "\n",
      "Training document  500  /  3488 ...\n",
      "Training document  1000  /  3488 ...\n",
      "Training document  1500  /  3488 ...\n",
      "Training document  2000  /  3488 ...\n",
      "Training document  2500  /  3488 ...\n",
      "Training document  3000  /  3488 ...\n",
      "Validating document  500  /  873 ...\n",
      "\n",
      "Train Loss:  0.3436258549921493\n",
      "Validation Loss:  0.3413804324186313\n",
      "Train Accuracy:  0.5536123853211009\n",
      "Validation Accuracy:  0.5624284077892325\n",
      "Confusion matrix:\n",
      "[[  0  15   4   0   0   0]\n",
      " [  0 103  35   3   4  41]\n",
      " [  0  44 106  39  10   5]\n",
      " [  0  11  53 132   8   3]\n",
      " [  0  10  50   8  50   2]\n",
      " [  0  17  18   2   0 100]]\n"
     ]
    },
    {
     "data": {
      "image/png": "[encoded data removed]",
      "text/plain": [
       "<Figure size 432x288 with 1 Axes>"
      ]
     },
     "metadata": {
      "needs_background": "light"
     },
     "output_type": "display_data"
    },
    {
     "name": "stdout",
     "output_type": "stream",
     "text": [
      "Epoch  30  is complete!\n",
      "Complete in  752.5611600875854  seconds\n",
      "\n",
      "\n",
      "Training document  500  /  3488 ...\n",
      "Training document  1000  /  3488 ...\n",
      "Training document  1500  /  3488 ...\n",
      "Training document  2000  /  3488 ...\n",
      "Training document  2500  /  3488 ...\n",
      "Training document  3000  /  3488 ...\n",
      "Validating document  500  /  873 ...\n",
      "\n",
      "Train Loss:  0.3421404494340956\n",
      "Validation Loss:  0.33973036391581646\n",
      "Train Accuracy:  0.5650802752293578\n",
      "Validation Accuracy:  0.5807560137457045\n",
      "Confusion matrix:\n",
      "[[  0  15   4   0   0   0]\n",
      " [  0 119  49   2   5  11]\n",
      " [  0  33 120  37  11   3]\n",
      " [  0   6  53 130  10   8]\n",
      " [  0   5  53   6  55   1]\n",
      " [  0  22  30   2   0  83]]\n"
     ]
    },
    {
     "data": {
      "image/png": "[encoded data removed]",
      "text/plain": [
       "<Figure size 432x288 with 1 Axes>"
      ]
     },
     "metadata": {
      "needs_background": "light"
     },
     "output_type": "display_data"
    },
    {
     "name": "stdout",
     "output_type": "stream",
     "text": [
      "Epoch  31  is complete!\n",
      "Complete in  745.3616049289703  seconds\n",
      "\n",
      "\n",
      "Training document  500  /  3488 ...\n",
      "Training document  1000  /  3488 ...\n",
      "Training document  1500  /  3488 ...\n",
      "Training document  2000  /  3488 ...\n",
      "Training document  2500  /  3488 ...\n",
      "Training document  3000  /  3488 ...\n",
      "Validating document  500  /  873 ...\n",
      "\n",
      "Train Loss:  0.3407212115445203\n",
      "Validation Loss:  0.33851231579733376\n",
      "Train Accuracy:  0.5650802752293578\n",
      "Validation Accuracy:  0.5624284077892325\n",
      "Confusion matrix:\n",
      "[[  0  16   3   0   0   0]\n",
      " [  0 139  36   2   5   4]\n",
      " [  0  35 119  23  19   8]\n",
      " [  0  13  52 115  20   7]\n",
      " [  0   7  53   3  56   1]\n",
      " [  0  47  26   2   0  62]]\n"
     ]
    },
    {
     "data": {
      "image/png": "[encoded data removed]",
      "text/plain": [
       "<Figure size 432x288 with 1 Axes>"
      ]
     },
     "metadata": {
      "needs_background": "light"
     },
     "output_type": "display_data"
    },
    {
     "name": "stdout",
     "output_type": "stream",
     "text": [
      "Epoch  32  is complete!\n",
      "Complete in  628.1725797653198  seconds\n",
      "\n",
      "\n",
      "Training document  500  /  3488 ...\n",
      "Training document  1000  /  3488 ...\n",
      "Training document  1500  /  3488 ...\n",
      "Training document  2000  /  3488 ...\n",
      "Training document  2500  /  3488 ...\n",
      "Training document  3000  /  3488 ...\n",
      "Validating document  500  /  873 ...\n",
      "\n",
      "Train Loss:  0.33949523838610907\n",
      "Validation Loss:  0.3371917037059062\n",
      "Train Accuracy:  0.5616399082568807\n",
      "Validation Accuracy:  0.5876288659793815\n",
      "Confusion matrix:\n",
      "[[  0  17   2   0   0   0]\n",
      " [  0 129  24   2   6  25]\n",
      " [  0  54  95  28  21   6]\n",
      " [  0  14  44 126  14   9]\n",
      " [  0  14  28   7  69   2]\n",
      " [  0  25  15   2   1  94]]\n"
     ]
    },
    {
     "data": {
      "image/png": "[encoded data removed]",
      "text/plain": [
       "<Figure size 432x288 with 1 Axes>"
      ]
     },
     "metadata": {
      "needs_background": "light"
     },
     "output_type": "display_data"
    },
    {
     "name": "stdout",
     "output_type": "stream",
     "text": [
      "Epoch  33  is complete!\n",
      "Complete in  637.65420794487  seconds\n",
      "\n",
      "\n",
      "Training document  500  /  3488 ...\n",
      "Training document  1000  /  3488 ...\n",
      "Training document  1500  /  3488 ...\n",
      "Training document  2000  /  3488 ...\n",
      "Training document  2500  /  3488 ...\n",
      "Training document  3000  /  3488 ...\n",
      "Validating document  500  /  873 ...\n",
      "\n",
      "Train Loss:  0.338200394251707\n",
      "Validation Loss:  0.33544729733147227\n",
      "Train Accuracy:  0.5650802752293578\n",
      "Validation Accuracy:  0.6071019473081328\n",
      "Confusion matrix:\n",
      "[[  0  17   2   0   0   0]\n",
      " [  0 142  31   2   5   6]\n",
      " [  0  46  89  34  34   1]\n",
      " [  0  12  39 138  17   1]\n",
      " [  0  11  30  10  69   0]\n",
      " [  0  25  14   3   3  92]]\n"
     ]
    },
    {
     "data": {
      "image/png": "[encoded data removed]",
      "text/plain": [
       "<Figure size 432x288 with 1 Axes>"
      ]
     },
     "metadata": {
      "needs_background": "light"
     },
     "output_type": "display_data"
    },
    {
     "name": "stdout",
     "output_type": "stream",
     "text": [
      "Epoch  34  is complete!\n",
      "Complete in  613.0877597332001  seconds\n",
      "\n",
      "\n",
      "Training document  500  /  3488 ...\n",
      "Training document  1000  /  3488 ...\n",
      "Training document  1500  /  3488 ...\n",
      "Training document  2000  /  3488 ...\n",
      "Training document  2500  /  3488 ...\n",
      "Training document  3000  /  3488 ...\n",
      "Validating document  500  /  873 ...\n",
      "\n",
      "Train Loss:  0.33687099933997156\n",
      "Validation Loss:  0.3343765150103901\n",
      "Train Accuracy:  0.573394495412844\n",
      "Validation Accuracy:  0.565864833906071\n",
      "Confusion matrix:\n",
      "[[  0  14   5   0   0   0]\n",
      " [  0 139  34   2   9   2]\n",
      " [  0  48 101  36  18   1]\n",
      " [  0  11  51 127  13   5]\n",
      " [  0  13  30  10  66   1]\n",
      " [  0  55  19   2   0  61]]\n"
     ]
    },
    {
     "data": {
      "image/png": "[encoded data removed]",
      "text/plain": [
       "<Figure size 432x288 with 1 Axes>"
      ]
     },
     "metadata": {
      "needs_background": "light"
     },
     "output_type": "display_data"
    },
    {
     "name": "stdout",
     "output_type": "stream",
     "text": [
      "Epoch  35  is complete!\n",
      "Complete in  635.8635387420654  seconds\n",
      "\n",
      "\n",
      "Training document  500  /  3488 ...\n",
      "Training document  1000  /  3488 ...\n",
      "Training document  1500  /  3488 ...\n",
      "Training document  2000  /  3488 ...\n",
      "Training document  2500  /  3488 ...\n",
      "Training document  3000  /  3488 ...\n",
      "Validating document  500  /  873 ...\n",
      "\n",
      "Train Loss:  0.33564426512592344\n",
      "Validation Loss:  0.3338843055126684\n",
      "Train Accuracy:  0.564506880733945\n",
      "Validation Accuracy:  0.5063001145475372\n",
      "Confusion matrix:\n",
      "[[  0  17   2   0   0   0]\n",
      " [  0 151  18   1  11   5]\n",
      " [  0  87  54   9  46   8]\n",
      " [  0  29  29  98  45   6]\n",
      " [  0  17  25   1  76   1]\n",
      " [  0  61  11   1   1  63]]\n"
     ]
    },
    {
     "data": {
      "image/png": "[encoded data removed]",
      "text/plain": [
       "<Figure size 432x288 with 1 Axes>"
      ]
     },
     "metadata": {
      "needs_background": "light"
     },
     "output_type": "display_data"
    },
    {
     "name": "stdout",
     "output_type": "stream",
     "text": [
      "Epoch  36  is complete!\n",
      "Complete in  704.2459855079651  seconds\n",
      "\n",
      "\n",
      "Training document  500  /  3488 ...\n",
      "Training document  1000  /  3488 ...\n",
      "Training document  1500  /  3488 ...\n",
      "Training document  2000  /  3488 ...\n",
      "Training document  2500  /  3488 ...\n",
      "Training document  3000  /  3488 ...\n",
      "Validating document  500  /  873 ...\n",
      "\n",
      "Train Loss:  0.3344255876321226\n",
      "Validation Loss:  0.3326608767924758\n",
      "Train Accuracy:  0.5831422018348624\n",
      "Validation Accuracy:  0.581901489117984\n",
      "Confusion matrix:\n",
      "[[  0  15   4   0   0   0]\n",
      " [  0 128  50   2   4   2]\n",
      " [  0  32 112  34  17   9]\n",
      " [  0   7  45 133  10  12]\n",
      " [  0   5  38  11  64   2]\n",
      " [  0  34  30   2   0  71]]\n"
     ]
    },
    {
     "data": {
      "image/png": "[encoded data removed]",
      "text/plain": [
       "<Figure size 432x288 with 1 Axes>"
      ]
     },
     "metadata": {
      "needs_background": "light"
     },
     "output_type": "display_data"
    },
    {
     "name": "stdout",
     "output_type": "stream",
     "text": [
      "Epoch  37  is complete!\n",
      "Complete in  652.9771676063538  seconds\n",
      "\n",
      "\n",
      "Training document  500  /  3488 ...\n",
      "Training document  1000  /  3488 ...\n",
      "Training document  1500  /  3488 ...\n",
      "Training document  2000  /  3488 ...\n",
      "Training document  2500  /  3488 ...\n",
      "Training document  3000  /  3488 ...\n",
      "Validating document  500  /  873 ...\n",
      "\n",
      "Train Loss:  0.3332692135548567\n",
      "Validation Loss:  0.3316018513580684\n",
      "Train Accuracy:  0.5814220183486238\n",
      "Validation Accuracy:  0.572737686139748\n",
      "Confusion matrix:\n",
      "[[  0  15   4   0   0   0]\n",
      " [  0 135  42   2   5   2]\n",
      " [  0  33 120  23  22   6]\n",
      " [  0   8  54 114  22   9]\n",
      " [  0   4  41   4  69   2]\n",
      " [  0  46  27   2   0  62]]\n"
     ]
    },
    {
     "data": {
      "image/png": "[encoded data removed]",
      "text/plain": [
       "<Figure size 432x288 with 1 Axes>"
      ]
     },
     "metadata": {
      "needs_background": "light"
     },
     "output_type": "display_data"
    },
    {
     "name": "stdout",
     "output_type": "stream",
     "text": [
      "Epoch  38  is complete!\n",
      "Complete in  644.2552053928375  seconds\n",
      "\n",
      "\n",
      "Training document  500  /  3488 ...\n",
      "Training document  1000  /  3488 ...\n",
      "Training document  1500  /  3488 ...\n",
      "Training document  2000  /  3488 ...\n",
      "Training document  2500  /  3488 ...\n",
      "Training document  3000  /  3488 ...\n",
      "Validating document  500  /  873 ...\n",
      "\n",
      "Train Loss:  0.33210435197310173\n",
      "Validation Loss:  0.3303760911854434\n",
      "Train Accuracy:  0.5797018348623854\n",
      "Validation Accuracy:  0.5933562428407789\n",
      "Confusion matrix:\n",
      "[[  0  13   6   0   0   0]\n",
      " [  0 114  49   1   9  13]\n",
      " [  0  30  96  29  47   2]\n",
      " [  0   5  37 131  31   3]\n",
      " [  0   4  28   8  79   1]\n",
      " [  0   5  27   2   5  98]]\n"
     ]
    },
    {
     "data": {
      "image/png": "[encoded data removed]",
      "text/plain": [
       "<Figure size 432x288 with 1 Axes>"
      ]
     },
     "metadata": {
      "needs_background": "light"
     },
     "output_type": "display_data"
    },
    {
     "name": "stdout",
     "output_type": "stream",
     "text": [
      "Epoch  39  is complete!\n",
      "Complete in  601.0503633022308  seconds\n",
      "\n",
      "\n",
      "Training document  500  /  3488 ...\n",
      "Training document  1000  /  3488 ...\n",
      "Training document  1500  /  3488 ...\n",
      "Training document  2000  /  3488 ...\n",
      "Training document  2500  /  3488 ...\n",
      "Training document  3000  /  3488 ...\n",
      "Validating document  500  /  873 ...\n",
      "\n",
      "Train Loss:  0.33107306113287005\n",
      "Validation Loss:  0.32912478235281256\n",
      "Train Accuracy:  0.5831422018348624\n",
      "Validation Accuracy:  0.6105383734249714\n",
      "Confusion matrix:\n",
      "[[  0  14   5   0   0   0]\n",
      " [  0 131  39   2   5   9]\n",
      " [  0  29 114  26  32   3]\n",
      " [  0   7  49 114  29   8]\n",
      " [  0   6  35   1  76   2]\n",
      " [  0  12  24   2   1  98]]\n"
     ]
    },
    {
     "data": {
      "image/png": "[encoded data removed]",
      "text/plain": [
       "<Figure size 432x288 with 1 Axes>"
      ]
     },
     "metadata": {
      "needs_background": "light"
     },
     "output_type": "display_data"
    },
    {
     "name": "stdout",
     "output_type": "stream",
     "text": [
      "Epoch  40  is complete!\n",
      "Complete in  494.64256596565247  seconds\n",
      "\n",
      "\n",
      "Training document  500  /  3488 ...\n",
      "Training document  1000  /  3488 ...\n",
      "Training document  1500  /  3488 ...\n",
      "Training document  2000  /  3488 ...\n",
      "Training document  2500  /  3488 ...\n",
      "Training document  3000  /  3488 ...\n",
      "Validating document  500  /  873 ...\n",
      "\n",
      "Train Loss:  0.3301028404581133\n",
      "Validation Loss:  0.32785397704224917\n",
      "Train Accuracy:  0.5908830275229358\n",
      "Validation Accuracy:  0.5956471935853379\n",
      "Confusion matrix:\n",
      "[[  0  17   2   0   0   0]\n",
      " [  0 142  32   2   7   3]\n",
      " [  0  46  93  33  30   2]\n",
      " [  0  10  41 127  23   6]\n",
      " [  0   8  31   7  73   1]\n",
      " [  0  30  19   2   1  85]]\n"
     ]
    },
    {
     "data": {
      "image/png": "[encoded data removed]",
      "text/plain": [
       "<Figure size 432x288 with 1 Axes>"
      ]
     },
     "metadata": {
      "needs_background": "light"
     },
     "output_type": "display_data"
    },
    {
     "name": "stdout",
     "output_type": "stream",
     "text": [
      "Epoch  41  is complete!\n",
      "Complete in  492.86714792251587  seconds\n",
      "\n",
      "\n",
      "Training document  500  /  3488 ...\n",
      "Training document  1000  /  3488 ...\n",
      "Training document  1500  /  3488 ...\n",
      "Training document  2000  /  3488 ...\n",
      "Training document  2500  /  3488 ...\n",
      "Training document  3000  /  3488 ...\n",
      "Validating document  500  /  873 ...\n",
      "\n",
      "Train Loss:  0.3291097104154621\n",
      "Validation Loss:  0.3270903279111814\n",
      "Train Accuracy:  0.5960435779816514\n",
      "Validation Accuracy:  0.5807560137457045\n",
      "Confusion matrix:\n",
      "[[  0  17   2   0   0   0]\n",
      " [  0 140  38   1   5   2]\n",
      " [  0  33 131  21  16   3]\n",
      " [  0   6  72 110  11   8]\n",
      " [  0   6  46   1  65   2]\n",
      " [  0  52  20   2   2  61]]\n"
     ]
    },
    {
     "data": {
      "image/png": "[encoded data removed]",
      "text/plain": [
       "<Figure size 432x288 with 1 Axes>"
      ]
     },
     "metadata": {
      "needs_background": "light"
     },
     "output_type": "display_data"
    },
    {
     "name": "stdout",
     "output_type": "stream",
     "text": [
      "Epoch  42  is complete!\n",
      "Complete in  546.1735424995422  seconds\n",
      "\n",
      "\n",
      "Training document  500  /  3488 ...\n",
      "Training document  1000  /  3488 ...\n",
      "Training document  1500  /  3488 ...\n",
      "Training document  2000  /  3488 ...\n",
      "Training document  2500  /  3488 ...\n",
      "Training document  3000  /  3488 ...\n",
      "Validating document  500  /  873 ...\n",
      "\n",
      "Train Loss:  0.3280525429768283\n",
      "Validation Loss:  0.32573895911932255\n",
      "Train Accuracy:  0.5994839449541285\n",
      "Validation Accuracy:  0.6219931271477663\n",
      "Confusion matrix:\n",
      "[[  0  15   4   0   0   0]\n",
      " [  0 145  31   2   5   3]\n",
      " [  0  41 106  35  21   1]\n",
      " [  0  11  47 130  18   1]\n",
      " [  0  11  30   8  71   0]\n",
      " [  0  26  14   2   4  91]]\n"
     ]
    },
    {
     "data": {
      "image/png": "[encoded data removed]",
      "text/plain": [
       "<Figure size 432x288 with 1 Axes>"
      ]
     },
     "metadata": {
      "needs_background": "light"
     },
     "output_type": "display_data"
    },
    {
     "name": "stdout",
     "output_type": "stream",
     "text": [
      "Epoch  43  is complete!\n",
      "Complete in  627.5584869384766  seconds\n",
      "\n",
      "\n",
      "Training document  500  /  3488 ...\n",
      "Training document  1000  /  3488 ...\n",
      "Training document  1500  /  3488 ...\n",
      "Training document  2000  /  3488 ...\n",
      "Training document  2500  /  3488 ...\n",
      "Training document  3000  /  3488 ...\n",
      "Validating document  500  /  873 ...\n",
      "\n",
      "Train Loss:  0.32703511174218064\n",
      "Validation Loss:  0.32451626386802673\n",
      "Train Accuracy:  0.5963302752293578\n",
      "Validation Accuracy:  0.6151202749140894\n",
      "Confusion matrix:\n",
      "[[  0  17   2   0   0   0]\n",
      " [  0 148  27   2   4   5]\n",
      " [  0  53  98  37  15   1]\n",
      " [  0  13  49 132  12   1]\n",
      " [  0  12  33  13  62   0]\n",
      " [  0  19  17   3   1  97]]\n"
     ]
    },
    {
     "data": {
      "image/png": "[encoded data removed]",
      "text/plain": [
       "<Figure size 432x288 with 1 Axes>"
      ]
     },
     "metadata": {
      "needs_background": "light"
     },
     "output_type": "display_data"
    },
    {
     "name": "stdout",
     "output_type": "stream",
     "text": [
      "Epoch  44  is complete!\n",
      "Complete in  617.5057747364044  seconds\n",
      "\n",
      "\n",
      "Training document  500  /  3488 ...\n",
      "Training document  1000  /  3488 ...\n",
      "Training document  1500  /  3488 ...\n",
      "Training document  2000  /  3488 ...\n",
      "Training document  2500  /  3488 ...\n",
      "Training document  3000  /  3488 ...\n",
      "Validating document  500  /  873 ...\n",
      "\n",
      "Train Loss:  0.32596025829077085\n",
      "Validation Loss:  0.32337525704296194\n",
      "Train Accuracy:  0.6055045871559633\n",
      "Validation Accuracy:  0.6105383734249714\n",
      "Confusion matrix:\n",
      "[[  0  15   4   0   0   0]\n",
      " [  0 125  37   2  13   9]\n",
      " [  0  32 107  31  33   1]\n",
      " [  0   5  46 129  26   1]\n",
      " [  0   6  34   7  73   0]\n",
      " [  0  10  22   2   4  99]]\n"
     ]
    },
    {
     "data": {
      "image/png": "[encoded data removed]",
      "text/plain": [
       "<Figure size 432x288 with 1 Axes>"
      ]
     },
     "metadata": {
      "needs_background": "light"
     },
     "output_type": "display_data"
    },
    {
     "name": "stdout",
     "output_type": "stream",
     "text": [
      "Epoch  45  is complete!\n",
      "Complete in  589.9319958686829  seconds\n",
      "\n",
      "\n",
      "Training document  500  /  3488 ...\n",
      "Training document  1000  /  3488 ...\n",
      "Training document  1500  /  3488 ...\n",
      "Training document  2000  /  3488 ...\n",
      "Training document  2500  /  3488 ...\n",
      "Training document  3000  /  3488 ...\n",
      "Validating document  500  /  873 ...\n",
      "\n",
      "Train Loss:  0.324886333801672\n",
      "Validation Loss:  0.32216481434305316\n",
      "Train Accuracy:  0.6106651376146789\n",
      "Validation Accuracy:  0.6162657502863689\n",
      "Confusion matrix:\n",
      "[[  0  17   2   0   0   0]\n",
      " [  0 145  27   3   4   7]\n",
      " [  0  58  96  40   8   2]\n",
      " [  0  16  44 139   7   1]\n",
      " [  0  12  34  13  60   1]\n",
      " [  0  21  15   3   0  98]]\n"
     ]
    },
    {
     "data": {
      "image/png": "[encoded data removed]",
      "text/plain": [
       "<Figure size 432x288 with 1 Axes>"
      ]
     },
     "metadata": {
      "needs_background": "light"
     },
     "output_type": "display_data"
    },
    {
     "name": "stdout",
     "output_type": "stream",
     "text": [
      "Epoch  46  is complete!\n",
      "Complete in  607.7184100151062  seconds\n",
      "\n",
      "\n",
      "Training document  500  /  3488 ...\n",
      "Training document  1000  /  3488 ...\n",
      "Training document  1500  /  3488 ...\n",
      "Training document  2000  /  3488 ...\n",
      "Training document  2500  /  3488 ...\n",
      "Training document  3000  /  3488 ...\n",
      "Validating document  500  /  873 ...\n",
      "\n",
      "Train Loss:  0.32403847819408055\n",
      "Validation Loss:  0.3211987903115011\n",
      "Train Accuracy:  0.6034977064220184\n",
      "Validation Accuracy:  0.6357388316151202\n",
      "Confusion matrix:\n",
      "[[  0  15   4   0   0   0]\n",
      " [  0 142  34   3   4   3]\n",
      " [  0  32 116  36  17   3]\n",
      " [  0   8  51 131   9   8]\n",
      " [  0   7  35   9  67   2]\n",
      " [  0  11  23   2   2  99]]\n"
     ]
    },
    {
     "data": {
      "image/png": "[encoded data removed]",
      "text/plain": [
       "<Figure size 432x288 with 1 Axes>"
      ]
     },
     "metadata": {
      "needs_background": "light"
     },
     "output_type": "display_data"
    },
    {
     "name": "stdout",
     "output_type": "stream",
     "text": [
      "Epoch  47  is complete!\n",
      "Complete in  502.822562456131  seconds\n",
      "\n",
      "\n",
      "Training document  500  /  3488 ...\n",
      "Training document  1000  /  3488 ...\n",
      "Training document  1500  /  3488 ...\n",
      "Training document  2000  /  3488 ...\n",
      "Training document  2500  /  3488 ...\n",
      "Training document  3000  /  3488 ...\n",
      "Validating document  500  /  873 ...\n",
      "\n",
      "Train Loss:  0.3230974151932626\n",
      "Validation Loss:  0.3203184414722779\n",
      "Train Accuracy:  0.6146788990825688\n",
      "Validation Accuracy:  0.6048109965635738\n",
      "Confusion matrix:\n",
      "[[  0  15   4   0   0   0]\n",
      " [  0 126  33   3  22   2]\n",
      " [  0  40 105  42  16   1]\n",
      " [  0   8  50 138  10   1]\n",
      " [  0   7  34  15  64   0]\n",
      " [  0  14  22   2   4  95]]\n"
     ]
    },
    {
     "data": {
      "image/png": "[encoded data removed]",
      "text/plain": [
       "<Figure size 432x288 with 1 Axes>"
      ]
     },
     "metadata": {
      "needs_background": "light"
     },
     "output_type": "display_data"
    },
    {
     "name": "stdout",
     "output_type": "stream",
     "text": [
      "Epoch  48  is complete!\n",
      "Complete in  593.4047439098358  seconds\n",
      "\n",
      "\n",
      "Training document  500  /  3488 ...\n",
      "Training document  1000  /  3488 ...\n",
      "Training document  1500  /  3488 ...\n",
      "Training document  2000  /  3488 ...\n",
      "Training document  2500  /  3488 ...\n",
      "Training document  3000  /  3488 ...\n",
      "Validating document  500  /  873 ...\n",
      "\n",
      "Train Loss:  0.3220948608764672\n",
      "Validation Loss:  0.31919153893260993\n",
      "Train Accuracy:  0.6221330275229358\n",
      "Validation Accuracy:  0.6288659793814433\n",
      "Confusion matrix:\n",
      "[[  0  15   4   0   0   0]\n",
      " [  0 144  30   1   6   5]\n",
      " [  0  39 116  20  27   2]\n",
      " [  0   8  61 118  19   1]\n",
      " [  0  10  31   4  74   1]\n",
      " [  0  18  16   2   4  97]]\n"
     ]
    },
    {
     "data": {
      "image/png": "[encoded data removed]",
      "text/plain": [
       "<Figure size 432x288 with 1 Axes>"
      ]
     },
     "metadata": {
      "needs_background": "light"
     },
     "output_type": "display_data"
    },
    {
     "name": "stdout",
     "output_type": "stream",
     "text": [
      "Epoch  49  is complete!\n",
      "Complete in  624.9560678005219  seconds\n",
      "\n",
      "\n",
      "Training document  500  /  3488 ...\n",
      "Training document  1000  /  3488 ...\n",
      "Training document  1500  /  3488 ...\n",
      "Training document  2000  /  3488 ...\n",
      "Training document  2500  /  3488 ...\n",
      "Training document  3000  /  3488 ...\n",
      "Validating document  500  /  873 ...\n",
      "\n",
      "Train Loss:  0.3211674452966713\n",
      "Validation Loss:  0.31823733464885134\n",
      "Train Accuracy:  0.6189793577981652\n",
      "Validation Accuracy:  0.6208476517754868\n",
      "Confusion matrix:\n",
      "[[  0  15   4   0   0   0]\n",
      " [  0 127  42   3   4  10]\n",
      " [  0  32 112  41  17   2]\n",
      " [  0   7  47 142  10   1]\n",
      " [  0   7  34  13  65   1]\n",
      " [  0  12  26   3   0  96]]\n"
     ]
    },
    {
     "data": {
      "image/png": "[encoded data removed]",
      "text/plain": [
       "<Figure size 432x288 with 1 Axes>"
      ]
     },
     "metadata": {
      "needs_background": "light"
     },
     "output_type": "display_data"
    },
    {
     "name": "stdout",
     "output_type": "stream",
     "text": [
      "Epoch  50  is complete!\n",
      "Complete in  675.3122525215149  seconds\n",
      "\n",
      "\n",
      "Training document  500  /  3488 ...\n",
      "Training document  1000  /  3488 ...\n",
      "Training document  1500  /  3488 ...\n",
      "Training document  2000  /  3488 ...\n",
      "Training document  2500  /  3488 ...\n",
      "Training document  3000  /  3488 ...\n",
      "Validating document  500  /  873 ...\n",
      "\n",
      "Train Loss:  0.32029039480074895\n",
      "Validation Loss:  0.317296146585016\n",
      "Train Accuracy:  0.625\n",
      "Validation Accuracy:  0.6368843069873997\n",
      "Confusion matrix:\n",
      "[[  0  15   4   0   0   0]\n",
      " [  0 142  36   2   4   2]\n",
      " [  0  28 122  34  18   2]\n",
      " [  0   5  57 129  13   3]\n",
      " [  0   6  38   8  67   1]\n",
      " [  0  10  25   2   4  96]]\n"
     ]
    },
    {
     "data": {
      "image/png": "[encoded data removed]",
      "text/plain": [
       "<Figure size 432x288 with 1 Axes>"
      ]
     },
     "metadata": {
      "needs_background": "light"
     },
     "output_type": "display_data"
    },
    {
     "name": "stdout",
     "output_type": "stream",
     "text": [
      "Epoch  51  is complete!\n",
      "Complete in  1053.1411204338074  seconds\n",
      "\n",
      "\n",
      "Training document  500  /  3488 ...\n",
      "Training document  1000  /  3488 ...\n",
      "Training document  1500  /  3488 ...\n",
      "Training document  2000  /  3488 ...\n",
      "Training document  2500  /  3488 ...\n",
      "Training document  3000  /  3488 ...\n",
      "Validating document  500  /  873 ...\n",
      "\n",
      "Train Loss:  0.31933383996848264\n",
      "Validation Loss:  0.31653488691001436\n",
      "Train Accuracy:  0.6186926605504587\n",
      "Validation Accuracy:  0.6345933562428407\n",
      "Confusion matrix:\n",
      "[[  0  15   4   0   0   0]\n",
      " [  0 146  31   3   4   2]\n",
      " [  0  39 109  39  14   3]\n",
      " [  0  10  46 138   9   4]\n",
      " [  0   9  31  13  65   2]\n",
      " [  0  16  21   3   1  96]]\n"
     ]
    },
    {
     "data": {
      "image/png": "[encoded data removed]",
      "text/plain": [
       "<Figure size 432x288 with 1 Axes>"
      ]
     },
     "metadata": {
      "needs_background": "light"
     },
     "output_type": "display_data"
    },
    {
     "name": "stdout",
     "output_type": "stream",
     "text": [
      "Epoch  52  is complete!\n",
      "Complete in  848.3129551410675  seconds\n",
      "\n",
      "\n",
      "Training document  500  /  3488 ...\n",
      "Training document  1000  /  3488 ...\n",
      "Training document  1500  /  3488 ...\n",
      "Training document  2000  /  3488 ...\n",
      "Training document  2500  /  3488 ...\n",
      "Training document  3000  /  3488 ...\n",
      "Validating document  500  /  873 ...\n",
      "\n",
      "Train Loss:  0.3186668285791663\n",
      "Validation Loss:  0.3154788968354904\n",
      "Train Accuracy:  0.6049311926605505\n",
      "Validation Accuracy:  0.6345933562428407\n",
      "Confusion matrix:\n",
      "[[  0  17   2   0   0   0]\n",
      " [  0 147  31   2   4   2]\n",
      " [  0  36 122  22  22   2]\n",
      " [  0   8  59 118  21   1]\n",
      " [  0   7  37   6  69   1]\n",
      " [  0  16  21   2   0  98]]\n"
     ]
    },
    {
     "data": {
      "image/png": "[encoded data removed]",
      "text/plain": [
       "<Figure size 432x288 with 1 Axes>"
      ]
     },
     "metadata": {
      "needs_background": "light"
     },
     "output_type": "display_data"
    },
    {
     "name": "stdout",
     "output_type": "stream",
     "text": [
      "Epoch  53  is complete!\n",
      "Complete in  860.4686944484711  seconds\n",
      "\n",
      "\n",
      "Training document  500  /  3488 ...\n",
      "Training document  1000  /  3488 ...\n",
      "Training document  1500  /  3488 ...\n",
      "Training document  2000  /  3488 ...\n",
      "Training document  2500  /  3488 ...\n",
      "Training document  3000  /  3488 ...\n",
      "Validating document  500  /  873 ...\n",
      "\n",
      "Train Loss:  0.3178640141543074\n",
      "Validation Loss:  0.315736347954253\n",
      "Train Accuracy:  0.6192660550458715\n",
      "Validation Accuracy:  0.5406643757159221\n",
      "Confusion matrix:\n",
      "[[  0  17   2   0   0   0]\n",
      " [  0 138  21   2  23   2]\n",
      " [  0  66  82  26  22   8]\n",
      " [  0  20  35 113  28  11]\n",
      " [  0  16  28   5  69   2]\n",
      " [  0  51  14   2   0  70]]\n"
     ]
    },
    {
     "data": {
      "image/png": "[encoded data removed]",
      "text/plain": [
       "<Figure size 432x288 with 1 Axes>"
      ]
     },
     "metadata": {
      "needs_background": "light"
     },
     "output_type": "display_data"
    },
    {
     "name": "stdout",
     "output_type": "stream",
     "text": [
      "Epoch  54  is complete!\n",
      "Complete in  898.7941358089447  seconds\n",
      "\n",
      "\n",
      "Training document  500  /  3488 ...\n",
      "Training document  1000  /  3488 ...\n",
      "Training document  1500  /  3488 ...\n",
      "Training document  2000  /  3488 ...\n",
      "Training document  2500  /  3488 ...\n",
      "Training document  3000  /  3488 ...\n",
      "Validating document  500  /  873 ...\n",
      "\n",
      "Train Loss:  0.31711661478706343\n",
      "Validation Loss:  0.31471924809571217\n",
      "Train Accuracy:  0.6138188073394495\n",
      "Validation Accuracy:  0.6300114547537228\n",
      "Confusion matrix:\n",
      "[[  0  15   4   0   0   0]\n",
      " [  0 145  33   2   4   2]\n",
      " [  0  41 112  32  18   1]\n",
      " [  0  13  51 127  15   1]\n",
      " [  0   8  35   9  68   0]\n",
      " [  0  17  16   2   4  98]]\n"
     ]
    },
    {
     "data": {
      "image/png": "[encoded data removed]",
      "text/plain": [
       "<Figure size 432x288 with 1 Axes>"
      ]
     },
     "metadata": {
      "needs_background": "light"
     },
     "output_type": "display_data"
    },
    {
     "name": "stdout",
     "output_type": "stream",
     "text": [
      "Epoch  55  is complete!\n",
      "Complete in  908.3704776763916  seconds\n",
      "\n",
      "\n",
      "Training document  500  /  3488 ...\n",
      "Training document  1000  /  3488 ...\n",
      "Training document  1500  /  3488 ...\n",
      "Training document  2000  /  3488 ...\n",
      "Training document  2500  /  3488 ...\n",
      "Training document  3000  /  3488 ...\n",
      "Validating document  500  /  873 ...\n",
      "\n",
      "Train Loss:  0.316257183574037\n",
      "Validation Loss:  0.3140451394874023\n",
      "Train Accuracy:  0.6310206422018348\n",
      "Validation Accuracy:  0.6139747995418099\n",
      "Confusion matrix:\n",
      "[[  0  16   3   0   0   0]\n",
      " [  0 135  32   1  16   2]\n",
      " [  0  40 105  39  19   1]\n",
      " [  0   8  46 136  17   0]\n",
      " [  0  10  32   9  68   1]\n",
      " [  0  18  16   2   9  92]]\n"
     ]
    },
    {
     "data": {
      "image/png": "[encoded data removed]",
      "text/plain": [
       "<Figure size 432x288 with 1 Axes>"
      ]
     },
     "metadata": {
      "needs_background": "light"
     },
     "output_type": "display_data"
    },
    {
     "name": "stdout",
     "output_type": "stream",
     "text": [
      "Epoch  56  is complete!\n",
      "Complete in  948.4054973125458  seconds\n",
      "\n",
      "\n",
      "Training document  500  /  3488 ...\n",
      "Training document  1000  /  3488 ...\n",
      "Training document  1500  /  3488 ...\n",
      "Training document  2000  /  3488 ...\n",
      "Training document  2500  /  3488 ...\n",
      "Training document  3000  /  3488 ...\n",
      "Validating document  500  /  873 ...\n",
      "\n",
      "Train Loss:  0.31544166929126055\n",
      "Validation Loss:  0.3131036541501951\n",
      "Train Accuracy:  0.6267201834862385\n",
      "Validation Accuracy:  0.6288659793814433\n",
      "Confusion matrix:\n",
      "[[  0  15   4   0   0   0]\n",
      " [  0 145  35   0   4   2]\n",
      " [  0  39 120  29  14   2]\n",
      " [  0  10  66 121   9   1]\n",
      " [  0   9  36   9  65   1]\n",
      " [  0  14  23   1   1  98]]\n"
     ]
    },
    {
     "data": {
      "image/png": "[encoded data removed]",
      "text/plain": [
       "<Figure size 432x288 with 1 Axes>"
      ]
     },
     "metadata": {
      "needs_background": "light"
     },
     "output_type": "display_data"
    },
    {
     "name": "stdout",
     "output_type": "stream",
     "text": [
      "Epoch  57  is complete!\n",
      "Complete in  762.9711036682129  seconds\n",
      "\n",
      "\n",
      "Training document  500  /  3488 ...\n",
      "Training document  1000  /  3488 ...\n",
      "Training document  1500  /  3488 ...\n",
      "Training document  2000  /  3488 ...\n",
      "Training document  2500  /  3488 ...\n",
      "Training document  3000  /  3488 ...\n",
      "Validating document  500  /  873 ...\n",
      "\n",
      "Train Loss:  0.3146477028586062\n",
      "Validation Loss:  0.31223515512809236\n",
      "Train Accuracy:  0.630447247706422\n",
      "Validation Accuracy:  0.6231386025200458\n",
      "Confusion matrix:\n",
      "[[  0  17   2   0   0   0]\n",
      " [  0 145  32   0   4   5]\n",
      " [  0  43 123  22  14   2]\n",
      " [  0  10  70 114  10   3]\n",
      " [  0  12  36   8  63   1]\n",
      " [  0  14  21   2   1  99]]\n"
     ]
    },
    {
     "data": {
      "image/png": "[encoded data removed]",
      "text/plain": [
       "<Figure size 432x288 with 1 Axes>"
      ]
     },
     "metadata": {
      "needs_background": "light"
     },
     "output_type": "display_data"
    },
    {
     "name": "stdout",
     "output_type": "stream",
     "text": [
      "Epoch  58  is complete!\n",
      "Complete in  675.154364824295  seconds\n",
      "\n",
      "\n",
      "Training document  500  /  3488 ...\n",
      "Training document  1000  /  3488 ...\n",
      "Training document  1500  /  3488 ...\n",
      "Training document  2000  /  3488 ...\n",
      "Training document  2500  /  3488 ...\n",
      "Training document  3000  /  3488 ...\n",
      "Validating document  500  /  873 ...\n",
      "\n",
      "Train Loss:  0.3138701047234294\n",
      "Validation Loss:  0.319159771926609\n",
      "Train Accuracy:  0.6258600917431193\n",
      "Validation Accuracy:  0.3837342497136312\n",
      "Confusion matrix:\n",
      "[[  0   3   0  16   0   0]\n",
      " [  0  77  10  93   4   2]\n",
      " [  0   4  56 125  12   7]\n",
      " [  0   6  55  80  21  45]\n",
      " [  0   2  23  48  46   1]\n",
      " [  0  24  10  27   0  76]]\n"
     ]
    },
    {
     "data": {
      "image/png": "[encoded data removed]",
      "text/plain": [
       "<Figure size 432x288 with 1 Axes>"
      ]
     },
     "metadata": {
      "needs_background": "light"
     },
     "output_type": "display_data"
    },
    {
     "name": "stdout",
     "output_type": "stream",
     "text": [
      "Epoch  59  is complete!\n",
      "Complete in  674.4360845088959  seconds\n",
      "\n",
      "\n",
      "Training document  500  /  3488 ...\n",
      "Training document  1000  /  3488 ...\n",
      "Training document  1500  /  3488 ...\n",
      "Training document  2000  /  3488 ...\n",
      "Training document  2500  /  3488 ...\n",
      "Training document  3000  /  3488 ...\n",
      "Validating document  500  /  873 ...\n",
      "\n",
      "Train Loss:  0.31308966750884815\n",
      "Validation Loss:  0.3180469617529396\n",
      "Train Accuracy:  0.6287270642201835\n",
      "Validation Accuracy:  0.6345933562428407\n",
      "Confusion matrix:\n",
      "[[  0  17   2   0   0   0]\n",
      " [  0 143  33   3   5   2]\n",
      " [  0  38 113  35  16   2]\n",
      " [  0   8  53 132  13   1]\n",
      " [  0   9  36   8  66   1]\n",
      " [  0  13  22   2   0 100]]\n"
     ]
    },
    {
     "data": {
      "image/png": "[encoded data removed]",
      "text/plain": [
       "<Figure size 432x288 with 1 Axes>"
      ]
     },
     "metadata": {
      "needs_background": "light"
     },
     "output_type": "display_data"
    },
    {
     "name": "stdout",
     "output_type": "stream",
     "text": [
      "Epoch  60  is complete!\n",
      "Complete in  675.580973148346  seconds\n",
      "\n",
      "\n",
      "Training document  500  /  3488 ...\n",
      "Training document  1000  /  3488 ...\n",
      "Training document  1500  /  3488 ...\n",
      "Training document  2000  /  3488 ...\n",
      "Training document  2500  /  3488 ...\n",
      "Training document  3000  /  3488 ...\n",
      "Validating document  500  /  873 ...\n",
      "\n",
      "Train Loss:  0.31229939648292776\n",
      "Validation Loss:  0.31727777455727707\n",
      "Train Accuracy:  0.6318807339449541\n",
      "Validation Accuracy:  0.6185567010309279\n",
      "Confusion matrix:\n",
      "[[  0  17   2   0   0   0]\n",
      " [  0 148  31   0   5   2]\n",
      " [  0  45 118  15  23   3]\n",
      " [  0  13  65 113  14   2]\n",
      " [  0  14  39   1  65   1]\n",
      " [  0  20  16   1   4  96]]\n"
     ]
    },
    {
     "data": {
      "image/png": "[encoded data removed]",
      "text/plain": [
       "<Figure size 432x288 with 1 Axes>"
      ]
     },
     "metadata": {
      "needs_background": "light"
     },
     "output_type": "display_data"
    },
    {
     "name": "stdout",
     "output_type": "stream",
     "text": [
      "Epoch  61  is complete!\n",
      "Complete in  674.383980512619  seconds\n",
      "\n",
      "\n",
      "Training document  500  /  3488 ...\n",
      "Training document  1000  /  3488 ...\n",
      "Training document  1500  /  3488 ...\n",
      "Training document  2000  /  3488 ...\n",
      "Training document  2500  /  3488 ...\n",
      "Training document  3000  /  3488 ...\n",
      "Validating document  500  /  873 ...\n",
      "\n",
      "Train Loss:  0.31181781406457915\n",
      "Validation Loss:  0.3164077398475163\n",
      "Train Accuracy:  0.6034977064220184\n",
      "Validation Accuracy:  0.6151202749140894\n",
      "Confusion matrix:\n",
      "[[  0  17   2   0   0   0]\n",
      " [  0 142  30   2   5   7]\n",
      " [  0  46  97  34  26   1]\n",
      " [  0  11  45 128  22   1]\n",
      " [  0   8  36   5  71   0]\n",
      " [  0   8  23   3   4  99]]\n"
     ]
    },
    {
     "data": {
      "image/png": "[encoded data removed]",
      "text/plain": [
       "<Figure size 432x288 with 1 Axes>"
      ]
     },
     "metadata": {
      "needs_background": "light"
     },
     "output_type": "display_data"
    },
    {
     "name": "stdout",
     "output_type": "stream",
     "text": [
      "Epoch  62  is complete!\n",
      "Complete in  680.8749120235443  seconds\n",
      "\n",
      "\n",
      "Training document  500  /  3488 ...\n",
      "Training document  1000  /  3488 ...\n",
      "Training document  1500  /  3488 ...\n",
      "Training document  2000  /  3488 ...\n",
      "Training document  2500  /  3488 ...\n",
      "Training document  3000  /  3488 ...\n",
      "Validating document  500  /  873 ...\n",
      "\n",
      "Train Loss:  0.31123961488160184\n",
      "Validation Loss:  0.31553818982135134\n",
      "Train Accuracy:  0.6155389908256881\n",
      "Validation Accuracy:  0.6414662084765178\n",
      "Confusion matrix:\n",
      "[[  0  14   5   0   0   0]\n",
      " [  0 146  31   3   4   2]\n",
      " [  0  33 112  30  28   1]\n",
      " [  0   7  47 128  24   1]\n",
      " [  0   6  34   5  75   0]\n",
      " [  0  11  24   3   0  99]]\n"
     ]
    },
    {
     "data": {
      "image/png": "[encoded data removed]",
      "text/plain": [
       "<Figure size 432x288 with 1 Axes>"
      ]
     },
     "metadata": {
      "needs_background": "light"
     },
     "output_type": "display_data"
    },
    {
     "name": "stdout",
     "output_type": "stream",
     "text": [
      "Epoch  63  is complete!\n",
      "Complete in  674.1914858818054  seconds\n",
      "\n",
      "\n",
      "Training document  500  /  3488 ...\n",
      "Training document  1000  /  3488 ...\n",
      "Training document  1500  /  3488 ...\n",
      "Training document  2000  /  3488 ...\n",
      "Training document  2500  /  3488 ...\n",
      "Training document  3000  /  3488 ...\n",
      "Validating document  500  /  873 ...\n",
      "\n",
      "Train Loss:  0.31057608360879746\n",
      "Validation Loss:  0.3148585739874651\n",
      "Train Accuracy:  0.6330275229357798\n",
      "Validation Accuracy:  0.6334478808705613\n",
      "Confusion matrix:\n",
      "[[  0  15   4   0   0   0]\n",
      " [  0 136  35   0  13   2]\n",
      " [  0  33 121  19  29   2]\n",
      " [  0   6  51 118  30   2]\n",
      " [  0   7  33   1  78   1]\n",
      " [  0   5  26   2   4 100]]\n"
     ]
    },
    {
     "data": {
      "image/png": "[encoded data removed]",
      "text/plain": [
       "<Figure size 432x288 with 1 Axes>"
      ]
     },
     "metadata": {
      "needs_background": "light"
     },
     "output_type": "display_data"
    },
    {
     "name": "stdout",
     "output_type": "stream",
     "text": [
      "Epoch  64  is complete!\n",
      "Complete in  674.4135267734528  seconds\n",
      "\n",
      "\n",
      "Training document  500  /  3488 ...\n",
      "Training document  1000  /  3488 ...\n",
      "Training document  1500  /  3488 ...\n",
      "Training document  2000  /  3488 ...\n",
      "Training document  2500  /  3488 ...\n",
      "Training document  3000  /  3488 ...\n",
      "Validating document  500  /  873 ...\n",
      "\n",
      "Train Loss:  0.3099130350153734\n",
      "Validation Loss:  0.31405863756325736\n",
      "Train Accuracy:  0.6318807339449541\n",
      "Validation Accuracy:  0.6265750286368843\n",
      "Confusion matrix:\n",
      "[[  0  15   4   0   0   0]\n",
      " [  0 148  27   3   4   4]\n",
      " [  0  49  88  47  16   4]\n",
      " [  0  12  39 146   9   1]\n",
      " [  0   8  28  16  66   2]\n",
      " [  0  17  15   2   4  99]]\n"
     ]
    },
    {
     "data": {
      "image/png": "[encoded data removed]",
      "text/plain": [
       "<Figure size 432x288 with 1 Axes>"
      ]
     },
     "metadata": {
      "needs_background": "light"
     },
     "output_type": "display_data"
    },
    {
     "name": "stdout",
     "output_type": "stream",
     "text": [
      "Epoch  65  is complete!\n",
      "Complete in  673.3537404537201  seconds\n",
      "\n",
      "\n",
      "Training document  500  /  3488 ...\n",
      "Training document  1000  /  3488 ...\n",
      "Training document  1500  /  3488 ...\n",
      "Training document  2000  /  3488 ...\n",
      "Training document  2500  /  3488 ...\n",
      "Training document  3000  /  3488 ...\n",
      "Validating document  500  /  873 ...\n",
      "\n",
      "Train Loss:  0.30919719384852007\n",
      "Validation Loss:  0.3132490621230084\n",
      "Train Accuracy:  0.6318807339449541\n",
      "Validation Accuracy:  0.6426116838487973\n",
      "Confusion matrix:\n",
      "[[  0  15   4   0   0   0]\n",
      " [  0 149  30   1   4   2]\n",
      " [  0  39 110  39  13   3]\n",
      " [  0  10  45 139  11   2]\n",
      " [  0   7  34  14  64   1]\n",
      " [  0  12  24   2   0  99]]\n"
     ]
    },
    {
     "data": {
      "image/png": "[encoded data removed]",
      "text/plain": [
       "<Figure size 432x288 with 1 Axes>"
      ]
     },
     "metadata": {
      "needs_background": "light"
     },
     "output_type": "display_data"
    },
    {
     "name": "stdout",
     "output_type": "stream",
     "text": [
      "Epoch  66  is complete!\n",
      "Complete in  718.3617856502533  seconds\n",
      "\n",
      "\n",
      "Training document  500  /  3488 ...\n",
      "Training document  1000  /  3488 ...\n",
      "Training document  1500  /  3488 ...\n",
      "Training document  2000  /  3488 ...\n",
      "Training document  2500  /  3488 ...\n",
      "Training document  3000  /  3488 ...\n",
      "Validating document  500  /  873 ...\n",
      "\n",
      "Train Loss:  0.30850842756718383\n",
      "Validation Loss:  0.31273722602868115\n",
      "Train Accuracy:  0.6330275229357798\n",
      "Validation Accuracy:  0.6139747995418099\n",
      "Confusion matrix:\n",
      "[[  0  17   2   0   0   0]\n",
      " [  0 144  35   0   4   3]\n",
      " [  0  40 110  26  23   5]\n",
      " [  0   9  51 122  21   4]\n",
      " [  0  10  32   4  72   2]\n",
      " [  0  20  23   2   4  88]]\n"
     ]
    },
    {
     "data": {
      "image/png": "[encoded data removed]",
      "text/plain": [
       "<Figure size 432x288 with 1 Axes>"
      ]
     },
     "metadata": {
      "needs_background": "light"
     },
     "output_type": "display_data"
    },
    {
     "name": "stdout",
     "output_type": "stream",
     "text": [
      "Epoch  67  is complete!\n",
      "Complete in  674.2134342193604  seconds\n",
      "\n",
      "\n",
      "Training document  500  /  3488 ...\n",
      "Training document  1000  /  3488 ...\n",
      "Training document  1500  /  3488 ...\n",
      "Training document  2000  /  3488 ...\n",
      "Training document  2500  /  3488 ...\n",
      "Training document  3000  /  3488 ...\n",
      "Validating document  500  /  873 ...\n",
      "\n",
      "Train Loss:  0.3079657383918113\n",
      "Validation Loss:  0.3123510197222169\n",
      "Train Accuracy:  0.6218463302752294\n",
      "Validation Accuracy:  0.6162657502863689\n",
      "Confusion matrix:\n",
      "[[  0  17   2   0   0   0]\n",
      " [  0 147  32   1   4   2]\n",
      " [  0  44 106  37  15   2]\n",
      " [  0  10  47 138   4   8]\n",
      " [  0   8  33  14  63   2]\n",
      " [  0  26  21   2   4  84]]\n"
     ]
    },
    {
     "data": {
      "image/png": "[encoded data removed]",
      "text/plain": [
       "<Figure size 432x288 with 1 Axes>"
      ]
     },
     "metadata": {
      "needs_background": "light"
     },
     "output_type": "display_data"
    },
    {
     "name": "stdout",
     "output_type": "stream",
     "text": [
      "Epoch  68  is complete!\n",
      "Complete in  666.3318486213684  seconds\n",
      "\n",
      "\n",
      "Training document  500  /  3488 ...\n",
      "Training document  1000  /  3488 ...\n",
      "Training document  1500  /  3488 ...\n",
      "Training document  2000  /  3488 ...\n",
      "Training document  2500  /  3488 ...\n",
      "Training document  3000  /  3488 ...\n",
      "Validating document  500  /  873 ...\n",
      "\n",
      "Train Loss:  0.3073372809043111\n",
      "Validation Loss:  0.31145070737859276\n",
      "Train Accuracy:  0.6367545871559633\n",
      "Validation Accuracy:  0.6483390607101948\n",
      "Confusion matrix:\n",
      "[[  0  15   4   0   0   0]\n",
      " [  0 140  40   0   4   2]\n",
      " [  0  30 122  36  15   1]\n",
      " [  0   7  50 139  10   1]\n",
      " [  0   5  39  12  64   0]\n",
      " [  0   8  24   2   2 101]]\n"
     ]
    },
    {
     "data": {
      "image/png": "[encoded data removed]",
      "text/plain": [
       "<Figure size 432x288 with 1 Axes>"
      ]
     },
     "metadata": {
      "needs_background": "light"
     },
     "output_type": "display_data"
    },
    {
     "name": "stdout",
     "output_type": "stream",
     "text": [
      "Epoch  69  is complete!\n",
      "Complete in  675.1608076095581  seconds\n",
      "\n",
      "\n",
      "Training document  500  /  3488 ...\n",
      "Training document  1000  /  3488 ...\n",
      "Training document  1500  /  3488 ...\n",
      "Training document  2000  /  3488 ...\n",
      "Training document  2500  /  3488 ...\n",
      "Training document  3000  /  3488 ...\n",
      "Validating document  500  /  873 ...\n",
      "\n",
      "Train Loss:  0.30670181104265304\n",
      "Validation Loss:  0.3107415191259834\n",
      "Train Accuracy:  0.6318807339449541\n",
      "Validation Accuracy:  0.6334478808705613\n",
      "Confusion matrix:\n",
      "[[  0  17   2   0   0   0]\n",
      " [  0 148  31   0   5   2]\n",
      " [  0  40 114  19  30   1]\n",
      " [  0  10  46 115  30   6]\n",
      " [  0   7  34   2  76   1]\n",
      " [  0   9  25   2   1 100]]\n"
     ]
    },
    {
     "data": {
      "image/png": "[encoded data removed]",
      "text/plain": [
       "<Figure size 432x288 with 1 Axes>"
      ]
     },
     "metadata": {
      "needs_background": "light"
     },
     "output_type": "display_data"
    },
    {
     "name": "stdout",
     "output_type": "stream",
     "text": [
      "Epoch  70  is complete!\n",
      "Complete in  673.8771789073944  seconds\n",
      "\n",
      "\n",
      "Training document  500  /  3488 ...\n",
      "Training document  1000  /  3488 ...\n",
      "Training document  1500  /  3488 ...\n",
      "Training document  2000  /  3488 ...\n",
      "Training document  2500  /  3488 ...\n",
      "Training document  3000  /  3488 ...\n",
      "Validating document  500  /  873 ...\n",
      "\n",
      "Train Loss:  0.3060481322859908\n",
      "Validation Loss:  0.3102559206013866\n",
      "Train Accuracy:  0.6310206422018348\n",
      "Validation Accuracy:  0.6105383734249714\n",
      "Confusion matrix:\n",
      "[[  0  15   4   0   0   0]\n",
      " [  0 142  37   0   5   2]\n",
      " [  0  41 107  24  29   3]\n",
      " [  0   7  53 119  20   8]\n",
      " [  0   7  35   7  69   2]\n",
      " [  0  13  24   1   3  96]]\n"
     ]
    },
    {
     "data": {
      "image/png": "[encoded data removed]",
      "text/plain": [
       "<Figure size 432x288 with 1 Axes>"
      ]
     },
     "metadata": {
      "needs_background": "light"
     },
     "output_type": "display_data"
    },
    {
     "name": "stdout",
     "output_type": "stream",
     "text": [
      "Epoch  71  is complete!\n",
      "Complete in  673.1584978103638  seconds\n",
      "\n",
      "\n",
      "Training document  500  /  3488 ...\n",
      "Training document  1000  /  3488 ...\n",
      "Training document  1500  /  3488 ...\n",
      "Training document  2000  /  3488 ...\n",
      "Training document  2500  /  3488 ...\n",
      "Training document  3000  /  3488 ...\n",
      "Validating document  500  /  873 ...\n",
      "\n",
      "Train Loss:  0.3054943932343651\n",
      "Validation Loss:  0.3096143825825656\n",
      "Train Accuracy:  0.6321674311926605\n",
      "Validation Accuracy:  0.6300114547537228\n",
      "Confusion matrix:\n",
      "[[  0  17   2   0   0   0]\n",
      " [  0 150  29   0   4   3]\n",
      " [  0  44 113  23  20   4]\n",
      " [  0  10  58 121  15   3]\n",
      " [  0  10  32   6  69   3]\n",
      " [  0  15  20   1   4  97]]\n"
     ]
    },
    {
     "data": {
      "image/png": "[encoded data removed]",
      "text/plain": [
       "<Figure size 432x288 with 1 Axes>"
      ]
     },
     "metadata": {
      "needs_background": "light"
     },
     "output_type": "display_data"
    },
    {
     "name": "stdout",
     "output_type": "stream",
     "text": [
      "Epoch  72  is complete!\n",
      "Complete in  673.7866337299347  seconds\n",
      "\n",
      "\n",
      "Training document  500  /  3488 ...\n",
      "Training document  1000  /  3488 ...\n",
      "Training document  1500  /  3488 ...\n",
      "Training document  2000  /  3488 ...\n",
      "Training document  2500  /  3488 ...\n",
      "Training document  3000  /  3488 ...\n",
      "Validating document  500  /  873 ...\n",
      "\n",
      "Train Loss:  0.30483935100437415\n",
      "Validation Loss:  0.3090255181540594\n",
      "Train Accuracy:  0.6427752293577982\n",
      "Validation Accuracy:  0.6219931271477663\n",
      "Confusion matrix:\n",
      "[[  0  16   3   0   0   0]\n",
      " [  0 140  39   0   5   2]\n",
      " [  0  34 115  18  36   1]\n",
      " [  0   8  52 119  27   1]\n",
      " [  0  11  33   3  72   1]\n",
      " [  0  11  24   1   4  97]]\n"
     ]
    },
    {
     "data": {
      "image/png": "[encoded data removed]",
      "text/plain": [
       "<Figure size 432x288 with 1 Axes>"
      ]
     },
     "metadata": {
      "needs_background": "light"
     },
     "output_type": "display_data"
    },
    {
     "name": "stdout",
     "output_type": "stream",
     "text": [
      "Epoch  73  is complete!\n",
      "Complete in  678.5905804634094  seconds\n",
      "\n",
      "\n",
      "Training document  500  /  3488 ...\n",
      "Training document  1000  /  3488 ...\n",
      "Training document  1500  /  3488 ...\n",
      "Training document  2000  /  3488 ...\n",
      "Training document  2500  /  3488 ...\n",
      "Training document  3000  /  3488 ...\n",
      "Validating document  500  /  873 ...\n",
      "\n",
      "Train Loss:  0.3042859666672068\n",
      "Validation Loss:  0.30864951318650835\n",
      "Train Accuracy:  0.6367545871559633\n",
      "Validation Accuracy:  0.6013745704467354\n",
      "Confusion matrix:\n",
      "[[  0  15   4   0   0   0]\n",
      " [  0 122  39   0  23   2]\n",
      " [  0  29 130  29  14   2]\n",
      " [  0   8  61 126  10   2]\n",
      " [  0   6  38   9  66   1]\n",
      " [  0  28  26   2   0  81]]\n"
     ]
    },
    {
     "data": {
      "image/png": "[encoded data removed]",
      "text/plain": [
       "<Figure size 432x288 with 1 Axes>"
      ]
     },
     "metadata": {
      "needs_background": "light"
     },
     "output_type": "display_data"
    },
    {
     "name": "stdout",
     "output_type": "stream",
     "text": [
      "Epoch  74  is complete!\n",
      "Complete in  676.7196106910706  seconds\n",
      "\n",
      "\n",
      "Training document  500  /  3488 ...\n",
      "Training document  1000  /  3488 ...\n",
      "Training document  1500  /  3488 ...\n",
      "Training document  2000  /  3488 ...\n",
      "Training document  2500  /  3488 ...\n",
      "Training document  3000  /  3488 ...\n",
      "Validating document  500  /  873 ...\n",
      "\n",
      "Train Loss:  0.3036869802048533\n",
      "Validation Loss:  0.3080257048657621\n",
      "Train Accuracy:  0.6456422018348624\n",
      "Validation Accuracy:  0.6265750286368843\n",
      "Confusion matrix:\n",
      "[[  0  15   4   0   0   0]\n",
      " [  0 139  37   2   4   4]\n",
      " [  0  40 109  37  17   1]\n",
      " [  0   9  47 136  14   1]\n",
      " [  0  12  30  12  66   0]\n",
      " [  0  16  17   4   3  97]]\n"
     ]
    },
    {
     "data": {
      "image/png": "[encoded data removed]",
      "text/plain": [
       "<Figure size 432x288 with 1 Axes>"
      ]
     },
     "metadata": {
      "needs_background": "light"
     },
     "output_type": "display_data"
    },
    {
     "name": "stdout",
     "output_type": "stream",
     "text": [
      "Epoch  75  is complete!\n",
      "Complete in  675.2871618270874  seconds\n",
      "\n",
      "\n",
      "Training document  500  /  3488 ...\n",
      "Training document  1000  /  3488 ...\n",
      "Training document  1500  /  3488 ...\n",
      "Training document  2000  /  3488 ...\n",
      "Training document  2500  /  3488 ...\n",
      "Training document  3000  /  3488 ...\n",
      "Validating document  500  /  873 ...\n",
      "\n",
      "Train Loss:  0.3030668395735727\n",
      "Validation Loss:  0.3075018344262161\n",
      "Train Accuracy:  0.6430619266055045\n",
      "Validation Accuracy:  0.6300114547537228\n",
      "Confusion matrix:\n",
      "[[  0  14   5   0   0   0]\n",
      " [  0 137  36   1   5   7]\n",
      " [  0  29 107  30  33   5]\n",
      " [  0   6  43 131  25   2]\n",
      " [  0   5  33   6  75   1]\n",
      " [  0   8  22   3   4 100]]\n"
     ]
    },
    {
     "data": {
      "image/png": "[encoded data removed]",
      "text/plain": [
       "<Figure size 432x288 with 1 Axes>"
      ]
     },
     "metadata": {
      "needs_background": "light"
     },
     "output_type": "display_data"
    },
    {
     "name": "stdout",
     "output_type": "stream",
     "text": [
      "Epoch  76  is complete!\n",
      "Complete in  673.8831140995026  seconds\n",
      "\n",
      "\n",
      "Training document  500  /  3488 ...\n",
      "Training document  1000  /  3488 ...\n",
      "Training document  1500  /  3488 ...\n",
      "Training document  2000  /  3488 ...\n",
      "Training document  2500  /  3488 ...\n",
      "Training document  3000  /  3488 ...\n",
      "Validating document  500  /  873 ...\n",
      "\n",
      "Train Loss:  0.3024930681560211\n",
      "Validation Loss:  0.3067934131622735\n",
      "Train Accuracy:  0.6396215596330275\n",
      "Validation Accuracy:  0.6345933562428407\n",
      "Confusion matrix:\n",
      "[[  0  16   3   0   0   0]\n",
      " [  0 136  42   1   5   2]\n",
      " [  0  27 116  36  23   2]\n",
      " [  0   5  51 133  17   1]\n",
      " [  0   5  36   9  69   1]\n",
      " [  0   7  27   3   0 100]]\n"
     ]
    },
    {
     "data": {
      "image/png": "[encoded data removed]",
      "text/plain": [
       "<Figure size 432x288 with 1 Axes>"
      ]
     },
     "metadata": {
      "needs_background": "light"
     },
     "output_type": "display_data"
    },
    {
     "name": "stdout",
     "output_type": "stream",
     "text": [
      "Epoch  77  is complete!\n",
      "Complete in  674.2034330368042  seconds\n",
      "\n",
      "\n",
      "Training document  500  /  3488 ...\n",
      "Training document  1000  /  3488 ...\n",
      "Training document  1500  /  3488 ...\n",
      "Training document  2000  /  3488 ...\n",
      "Training document  2500  /  3488 ...\n",
      "Training document  3000  /  3488 ...\n",
      "Validating document  500  /  873 ...\n",
      "\n",
      "Train Loss:  0.30193429022414947\n",
      "Validation Loss:  0.3061070275148405\n",
      "Train Accuracy:  0.6407683486238532\n",
      "Validation Accuracy:  0.6414662084765178\n",
      "Confusion matrix:\n",
      "[[  0  17   2   0   0   0]\n",
      " [  0 145  33   0   6   2]\n",
      " [  0  31 114  28  26   5]\n",
      " [  0   8  51 126  19   3]\n",
      " [  0   6  34   4  73   3]\n",
      " [  0   7  24   2   2 102]]\n"
     ]
    },
    {
     "data": {
      "image/png": "[encoded data removed]",
      "text/plain": [
       "<Figure size 432x288 with 1 Axes>"
      ]
     },
     "metadata": {
      "needs_background": "light"
     },
     "output_type": "display_data"
    },
    {
     "name": "stdout",
     "output_type": "stream",
     "text": [
      "Epoch  78  is complete!\n",
      "Complete in  678.3457803726196  seconds\n",
      "\n",
      "\n",
      "Training document  500  /  3488 ...\n",
      "Training document  1000  /  3488 ...\n",
      "Training document  1500  /  3488 ...\n",
      "Training document  2000  /  3488 ...\n",
      "Training document  2500  /  3488 ...\n",
      "Training document  3000  /  3488 ...\n",
      "Validating document  500  /  873 ...\n",
      "\n",
      "Train Loss:  0.301407919561016\n",
      "Validation Loss:  0.3055114287863804\n",
      "Train Accuracy:  0.6476490825688074\n",
      "Validation Accuracy:  0.6300114547537228\n",
      "Confusion matrix:\n",
      "[[  0  15   4   0   0   0]\n",
      " [  0 147  32   0   4   3]\n",
      " [  0  42 106  25  28   3]\n",
      " [  0   8  54 125  19   1]\n",
      " [  0   9  33   5  72   1]\n",
      " [  0  14  18   2   3 100]]\n"
     ]
    },
    {
     "data": {
      "image/png": "[encoded data removed]",
      "text/plain": [
       "<Figure size 432x288 with 1 Axes>"
      ]
     },
     "metadata": {
      "needs_background": "light"
     },
     "output_type": "display_data"
    },
    {
     "name": "stdout",
     "output_type": "stream",
     "text": [
      "Epoch  79  is complete!\n",
      "Complete in  675.535064458847  seconds\n",
      "\n",
      "\n",
      "Training document  500  /  3488 ...\n",
      "Training document  1000  /  3488 ...\n",
      "Training document  1500  /  3488 ...\n",
      "Training document  2000  /  3488 ...\n",
      "Training document  2500  /  3488 ...\n",
      "Training document  3000  /  3488 ...\n",
      "Validating document  500  /  873 ...\n",
      "\n",
      "Train Loss:  0.30083156639665753\n",
      "Validation Loss:  0.30485043811534923\n",
      "Train Accuracy:  0.6467889908256881\n",
      "Validation Accuracy:  0.6391752577319587\n",
      "Confusion matrix:\n",
      "[[  0  16   2   0   1   0]\n",
      " [  0 136  39   1   5   5]\n",
      " [  0  30 116  39  17   2]\n",
      " [  0   5  48 141  12   1]\n",
      " [  0   5  36  12  66   1]\n",
      " [  0   8  25   3   2  99]]\n"
     ]
    },
    {
     "data": {
      "image/png": "[encoded data removed]",
      "text/plain": [
       "<Figure size 432x288 with 1 Axes>"
      ]
     },
     "metadata": {
      "needs_background": "light"
     },
     "output_type": "display_data"
    },
    {
     "name": "stdout",
     "output_type": "stream",
     "text": [
      "Epoch  80  is complete!\n",
      "Complete in  675.5516803264618  seconds\n",
      "\n",
      "\n",
      "Training document  500  /  3488 ...\n",
      "Training document  1000  /  3488 ...\n",
      "Training document  1500  /  3488 ...\n",
      "Training document  2000  /  3488 ...\n",
      "Training document  2500  /  3488 ...\n",
      "Training document  3000  /  3488 ...\n",
      "Validating document  500  /  873 ...\n",
      "\n",
      "Train Loss:  0.3002737107416005\n",
      "Validation Loss:  0.30441399063435404\n",
      "Train Accuracy:  0.6505160550458715\n",
      "Validation Accuracy:  0.6242840778923253\n",
      "Confusion matrix:\n",
      "[[  0  17   2   0   0   0]\n",
      " [  0 145  29   0   8   4]\n",
      " [  0  42  97  27  33   5]\n",
      " [  0  10  34 127  31   5]\n",
      " [  0   8  29   5  74   4]\n",
      " [  0  12  18   1   4 102]]\n"
     ]
    },
    {
     "data": {
      "image/png": "[encoded data removed]",
      "text/plain": [
       "<Figure size 432x288 with 1 Axes>"
      ]
     },
     "metadata": {
      "needs_background": "light"
     },
     "output_type": "display_data"
    },
    {
     "name": "stdout",
     "output_type": "stream",
     "text": [
      "Epoch  81  is complete!\n",
      "Complete in  696.4793653488159  seconds\n",
      "\n",
      "\n",
      "Training document  500  /  3488 ...\n",
      "Training document  1000  /  3488 ...\n",
      "Training document  1500  /  3488 ...\n",
      "Training document  2000  /  3488 ...\n",
      "Training document  2500  /  3488 ...\n",
      "Training document  3000  /  3488 ...\n",
      "Validating document  500  /  873 ...\n",
      "\n",
      "Train Loss:  0.2996817371392141\n",
      "Validation Loss:  0.3038152738777855\n",
      "Train Accuracy:  0.6556766055045872\n",
      "Validation Accuracy:  0.6300114547537228\n",
      "Confusion matrix:\n",
      "[[  0  16   3   0   0   0]\n",
      " [  0 136  37   1   5   7]\n",
      " [  0  30 101  34  34   5]\n",
      " [  0   4  42 135  25   1]\n",
      " [  0   7  30   8  74   1]\n",
      " [  0   5  21   4   3 104]]\n"
     ]
    },
    {
     "data": {
      "image/png": "[encoded data removed]",
      "text/plain": [
       "<Figure size 432x288 with 1 Axes>"
      ]
     },
     "metadata": {
      "needs_background": "light"
     },
     "output_type": "display_data"
    },
    {
     "name": "stdout",
     "output_type": "stream",
     "text": [
      "Epoch  82  is complete!\n",
      "Complete in  675.8542387485504  seconds\n",
      "\n",
      "\n",
      "Training document  500  /  3488 ...\n",
      "Training document  1000  /  3488 ...\n",
      "Training document  1500  /  3488 ...\n",
      "Training document  2000  /  3488 ...\n",
      "Training document  2500  /  3488 ...\n",
      "Training document  3000  /  3488 ...\n",
      "Validating document  500  /  873 ...\n",
      "\n",
      "Train Loss:  0.299128449134564\n",
      "Validation Loss:  0.30330169867094453\n",
      "Train Accuracy:  0.6465022935779816\n",
      "Validation Accuracy:  0.6242840778923253\n",
      "Confusion matrix:\n",
      "[[  0  17   2   0   0   0]\n",
      " [  0 145  32   1   5   3]\n",
      " [  0  36 101  29  35   3]\n",
      " [  0   7  50 128  21   1]\n",
      " [  0   6  34   8  72   0]\n",
      " [  0   7  23   5   3  99]]\n"
     ]
    },
    {
     "data": {
      "image/png": "[encoded data removed]",
      "text/plain": [
       "<Figure size 432x288 with 1 Axes>"
      ]
     },
     "metadata": {
      "needs_background": "light"
     },
     "output_type": "display_data"
    },
    {
     "name": "stdout",
     "output_type": "stream",
     "text": [
      "Epoch  83  is complete!\n",
      "Complete in  677.1185760498047  seconds\n",
      "\n",
      "\n",
      "Training document  500  /  3488 ...\n",
      "Training document  1000  /  3488 ...\n",
      "Training document  1500  /  3488 ...\n",
      "Training document  2000  /  3488 ...\n",
      "Training document  2500  /  3488 ...\n",
      "Training document  3000  /  3488 ...\n",
      "Validating document  500  /  873 ...\n",
      "\n",
      "Train Loss:  0.29859057887405127\n",
      "Validation Loss:  0.3028239213862586\n",
      "Train Accuracy:  0.6467889908256881\n",
      "Validation Accuracy:  0.6277205040091638\n",
      "Confusion matrix:\n",
      "[[  7  10   2   0   0   0]\n",
      " [  2 129  43   0   4   8]\n",
      " [  1  26 120  27  27   3]\n",
      " [  0   6  52 126  23   0]\n",
      " [  0   7  36   5  71   1]\n",
      " [  0  10  26   3   3  95]]\n"
     ]
    },
    {
     "data": {
      "image/png": "[encoded data removed]",
      "text/plain": [
       "<Figure size 432x288 with 1 Axes>"
      ]
     },
     "metadata": {
      "needs_background": "light"
     },
     "output_type": "display_data"
    },
    {
     "name": "stdout",
     "output_type": "stream",
     "text": [
      "Epoch  84  is complete!\n",
      "Complete in  671.7102026939392  seconds\n",
      "\n",
      "\n",
      "Training document  500  /  3488 ...\n",
      "Training document  1000  /  3488 ...\n",
      "Training document  1500  /  3488 ...\n",
      "Training document  2000  /  3488 ...\n",
      "Training document  2500  /  3488 ...\n",
      "Training document  3000  /  3488 ...\n",
      "Validating document  500  /  873 ...\n",
      "\n",
      "Train Loss:  0.2981407084369503\n",
      "Validation Loss:  0.3022949008205772\n",
      "Train Accuracy:  0.6396215596330275\n",
      "Validation Accuracy:  0.6437571592210768\n",
      "Confusion matrix:\n",
      "[[  5  10   4   0   0   0]\n",
      " [  1 143  34   1   4   3]\n",
      " [  1  34 119  33  14   3]\n",
      " [  0   8  58 124  15   2]\n",
      " [  0   7  34  10  67   2]\n",
      " [  0   9  21   2   1 104]]\n"
     ]
    },
    {
     "data": {
      "image/png": "[encoded data removed]",
      "text/plain": [
       "<Figure size 432x288 with 1 Axes>"
      ]
     },
     "metadata": {
      "needs_background": "light"
     },
     "output_type": "display_data"
    },
    {
     "name": "stdout",
     "output_type": "stream",
     "text": [
      "Epoch  85  is complete!\n",
      "Complete in  673.8288798332214  seconds\n",
      "\n",
      "\n",
      "Training document  500  /  3488 ...\n",
      "Training document  1000  /  3488 ...\n",
      "Training document  1500  /  3488 ...\n",
      "Training document  2000  /  3488 ...\n",
      "Training document  2500  /  3488 ...\n",
      "Training document  3000  /  3488 ...\n",
      "Validating document  500  /  873 ...\n",
      "\n",
      "Train Loss:  0.29759142615677225\n",
      "Validation Loss:  0.30326642738352905\n",
      "Train Accuracy:  0.6539564220183486\n",
      "Validation Accuracy:  0.5292096219931272\n",
      "Confusion matrix:\n",
      "[[  3  12   4   0   0   0]\n",
      " [  1 122  36   0  23   4]\n",
      " [  1  32 108  18  35  10]\n",
      " [  0   7  47  74  29  50]\n",
      " [  0   8  33   5  72   2]\n",
      " [  0  28  23   2   1  83]]\n"
     ]
    },
    {
     "data": {
      "image/png": "[encoded data removed]",
      "text/plain": [
       "<Figure size 432x288 with 1 Axes>"
      ]
     },
     "metadata": {
      "needs_background": "light"
     },
     "output_type": "display_data"
    },
    {
     "name": "stdout",
     "output_type": "stream",
     "text": [
      "Epoch  86  is complete!\n",
      "Complete in  673.1177895069122  seconds\n",
      "\n",
      "\n",
      "Training document  500  /  3488 ...\n",
      "Training document  1000  /  3488 ...\n",
      "Training document  1500  /  3488 ...\n",
      "Training document  2000  /  3488 ...\n",
      "Training document  2500  /  3488 ...\n",
      "Training document  3000  /  3488 ...\n",
      "Validating document  500  /  873 ...\n",
      "\n",
      "Train Loss:  0.2970641572726364\n",
      "Validation Loss:  0.3028237857723873\n",
      "Train Accuracy:  0.6568233944954128\n",
      "Validation Accuracy:  0.6357388316151202\n",
      "Confusion matrix:\n",
      "[[  3  13   3   0   0   0]\n",
      " [  1 145  31   0   4   5]\n",
      " [  1  40 101  34  25   3]\n",
      " [  0  10  47 132  16   2]\n",
      " [  0   9  29   7  72   3]\n",
      " [  0  11  18   2   4 102]]\n"
     ]
    },
    {
     "data": {
      "image/png": "[encoded data removed]",
      "text/plain": [
       "<Figure size 432x288 with 1 Axes>"
      ]
     },
     "metadata": {
      "needs_background": "light"
     },
     "output_type": "display_data"
    },
    {
     "name": "stdout",
     "output_type": "stream",
     "text": [
      "Epoch  87  is complete!\n",
      "Complete in  674.1971755027771  seconds\n",
      "\n",
      "\n",
      "Training document  500  /  3488 ...\n",
      "Training document  1000  /  3488 ...\n",
      "Training document  1500  /  3488 ...\n",
      "Training document  2000  /  3488 ...\n",
      "Training document  2500  /  3488 ...\n",
      "Training document  3000  /  3488 ...\n",
      "Validating document  500  /  873 ...\n",
      "\n",
      "Train Loss:  0.2965668648262481\n",
      "Validation Loss:  0.302390264453449\n",
      "Train Accuracy:  0.6442087155963303\n",
      "Validation Accuracy:  0.6288659793814433\n",
      "Confusion matrix:\n",
      "[[  7   8   4   0   0   0]\n",
      " [  2 138  38   0   5   3]\n",
      " [  2  37  99  27  36   3]\n",
      " [  0   8  47 123  28   1]\n",
      " [  0   6  26   6  81   1]\n",
      " [  0   5  24   2   5 101]]\n"
     ]
    },
    {
     "data": {
      "image/png": "[encoded data removed]",
      "text/plain": [
       "<Figure size 432x288 with 1 Axes>"
      ]
     },
     "metadata": {
      "needs_background": "light"
     },
     "output_type": "display_data"
    },
    {
     "name": "stdout",
     "output_type": "stream",
     "text": [
      "Epoch  88  is complete!\n",
      "Complete in  673.7803587913513  seconds\n",
      "\n",
      "\n",
      "Training document  500  /  3488 ...\n",
      "Training document  1000  /  3488 ...\n",
      "Training document  1500  /  3488 ...\n",
      "Training document  2000  /  3488 ...\n",
      "Training document  2500  /  3488 ...\n",
      "Training document  3000  /  3488 ...\n",
      "Validating document  500  /  873 ...\n",
      "\n",
      "Train Loss:  0.29603287392744787\n",
      "Validation Loss:  0.30186613383633354\n",
      "Train Accuracy:  0.6591169724770642\n",
      "Validation Accuracy:  0.6414662084765178\n",
      "Confusion matrix:\n",
      "[[  3  12   4   0   0   0]\n",
      " [  1 140  37   0   4   4]\n",
      " [  1  33 114  24  26   6]\n",
      " [  0   8  49 128  19   3]\n",
      " [  0   7  32   7  72   2]\n",
      " [  0  10  20   2   2 103]]\n"
     ]
    },
    {
     "data": {
      "image/png": "[encoded data removed]",
      "text/plain": [
       "<Figure size 432x288 with 1 Axes>"
      ]
     },
     "metadata": {
      "needs_background": "light"
     },
     "output_type": "display_data"
    },
    {
     "name": "stdout",
     "output_type": "stream",
     "text": [
      "Epoch  89  is complete!\n",
      "Complete in  678.8519468307495  seconds\n",
      "\n",
      "\n",
      "Training document  500  /  3488 ...\n",
      "Training document  1000  /  3488 ...\n",
      "Training document  1500  /  3488 ...\n",
      "Training document  2000  /  3488 ...\n",
      "Training document  2500  /  3488 ...\n",
      "Training document  3000  /  3488 ...\n",
      "Validating document  500  /  873 ...\n",
      "\n",
      "Train Loss:  0.29548213627931147\n",
      "Validation Loss:  0.3013872997503175\n",
      "Train Accuracy:  0.6585435779816514\n",
      "Validation Accuracy:  0.6380297823596792\n",
      "Confusion matrix:\n",
      "[[  7   8   4   0   0   0]\n",
      " [  3 140  35   1   4   3]\n",
      " [  2  33 105  33  22   9]\n",
      " [  1  12  45 128  18   3]\n",
      " [  0   9  27   7  72   5]\n",
      " [  0   7  21   2   2 105]]\n"
     ]
    },
    {
     "data": {
      "image/png": "[encoded data removed]",
      "text/plain": [
       "<Figure size 432x288 with 1 Axes>"
      ]
     },
     "metadata": {
      "needs_background": "light"
     },
     "output_type": "display_data"
    },
    {
     "name": "stdout",
     "output_type": "stream",
     "text": [
      "Epoch  90  is complete!\n",
      "Complete in  673.8533806800842  seconds\n",
      "\n",
      "\n",
      "Training document  500  /  3488 ...\n",
      "Training document  1000  /  3488 ...\n",
      "Training document  1500  /  3488 ...\n",
      "Training document  2000  /  3488 ...\n",
      "Training document  2500  /  3488 ...\n",
      "Training document  3000  /  3488 ...\n",
      "Validating document  500  /  873 ...\n",
      "\n",
      "Train Loss:  0.2949781926051147\n",
      "Validation Loss:  0.3008486478505719\n",
      "Train Accuracy:  0.6565366972477065\n",
      "Validation Accuracy:  0.6391752577319587\n",
      "Confusion matrix:\n",
      "[[  7   8   4   0   0   0]\n",
      " [  3 140  33   1   4   5]\n",
      " [  2  34 105  39  17   7]\n",
      " [  0   8  50 136  12   1]\n",
      " [  0  10  31  11  67   1]\n",
      " [  0   7  23   3   1 103]]\n"
     ]
    },
    {
     "data": {
      "image/png": "[encoded data removed]",
      "text/plain": [
       "<Figure size 432x288 with 1 Axes>"
      ]
     },
     "metadata": {
      "needs_background": "light"
     },
     "output_type": "display_data"
    },
    {
     "name": "stdout",
     "output_type": "stream",
     "text": [
      "Epoch  91  is complete!\n",
      "Complete in  674.152360200882  seconds\n",
      "\n",
      "\n",
      "Training document  500  /  3488 ...\n",
      "Training document  1000  /  3488 ...\n",
      "Training document  1500  /  3488 ...\n",
      "Training document  2000  /  3488 ...\n",
      "Training document  2500  /  3488 ...\n",
      "Training document  3000  /  3488 ...\n",
      "Validating document  500  /  873 ...\n",
      "\n",
      "Train Loss:  0.29451309744812976\n",
      "Validation Loss:  0.3004062310808305\n",
      "Train Accuracy:  0.6585435779816514\n",
      "Validation Accuracy:  0.6334478808705613\n",
      "Confusion matrix:\n",
      "[[  7   8   4   0   0   0]\n",
      " [  1 142  34   1   5   3]\n",
      " [  2  31  92  36  36   7]\n",
      " [  0  10  36 132  27   2]\n",
      " [  0   9  22   5  82   2]\n",
      " [  1  11  24   2   1  98]]\n"
     ]
    },
    {
     "data": {
      "image/png": "[encoded data removed]",
      "text/plain": [
       "<Figure size 432x288 with 1 Axes>"
      ]
     },
     "metadata": {
      "needs_background": "light"
     },
     "output_type": "display_data"
    },
    {
     "name": "stdout",
     "output_type": "stream",
     "text": [
      "Epoch  92  is complete!\n",
      "Complete in  672.8892378807068  seconds\n",
      "\n",
      "\n",
      "Training document  500  /  3488 ...\n",
      "Training document  1000  /  3488 ...\n",
      "Training document  1500  /  3488 ...\n",
      "Training document  2000  /  3488 ...\n",
      "Training document  2500  /  3488 ...\n",
      "Training document  3000  /  3488 ...\n",
      "Validating document  500  /  873 ...\n",
      "\n",
      "Train Loss:  0.2940722839284851\n",
      "Validation Loss:  0.30059755117611847\n",
      "Train Accuracy:  0.654243119266055\n",
      "Validation Accuracy:  0.5670103092783505\n",
      "Confusion matrix:\n",
      "[[  3  14   2   0   0   0]\n",
      " [  1 143  34   0   4   4]\n",
      " [  1  35 102  29  16  21]\n",
      " [  0  12  43  91  15  46]\n",
      " [  0   7  30   8  69   6]\n",
      " [  0  31  17   2   0  87]]\n"
     ]
    },
    {
     "data": {
      "image/png": "[encoded data removed]",
      "text/plain": [
       "<Figure size 432x288 with 1 Axes>"
      ]
     },
     "metadata": {
      "needs_background": "light"
     },
     "output_type": "display_data"
    },
    {
     "name": "stdout",
     "output_type": "stream",
     "text": [
      "Epoch  93  is complete!\n",
      "Complete in  673.7649283409119  seconds\n",
      "\n",
      "\n",
      "Training document  500  /  3488 ...\n",
      "Training document  1000  /  3488 ...\n",
      "Training document  1500  /  3488 ...\n",
      "Training document  2000  /  3488 ...\n",
      "Training document  2500  /  3488 ...\n",
      "Training document  3000  /  3488 ...\n",
      "Validating document  500  /  873 ...\n",
      "\n",
      "Train Loss:  0.29380895216612746\n",
      "Validation Loss:  0.30015356178817443\n",
      "Train Accuracy:  0.6313073394495413\n",
      "Validation Accuracy:  0.6391752577319587\n",
      "Confusion matrix:\n",
      "[[  7   9   3   0   0   0]\n",
      " [  1 139  39   0   5   2]\n",
      " [  1  31 114  29  24   5]\n",
      " [  0   9  48 127  21   2]\n",
      " [  0   5  37   5  72   1]\n",
      " [  0   9  22   3   4  99]]\n"
     ]
    },
    {
     "data": {
      "image/png": "[encoded data removed]",
      "text/plain": [
       "<Figure size 432x288 with 1 Axes>"
      ]
     },
     "metadata": {
      "needs_background": "light"
     },
     "output_type": "display_data"
    },
    {
     "name": "stdout",
     "output_type": "stream",
     "text": [
      "Epoch  94  is complete!\n",
      "Complete in  678.4679808616638  seconds\n",
      "\n",
      "\n",
      "Training document  500  /  3488 ...\n",
      "Training document  1000  /  3488 ...\n",
      "Training document  1500  /  3488 ...\n",
      "Training document  2000  /  3488 ...\n",
      "Training document  2500  /  3488 ...\n",
      "Training document  3000  /  3488 ...\n",
      "Validating document  500  /  873 ...\n",
      "\n",
      "Train Loss:  0.29334821578318293\n",
      "Validation Loss:  0.29974978515813916\n",
      "Train Accuracy:  0.6596903669724771\n",
      "Validation Accuracy:  0.6288659793814433\n",
      "Confusion matrix:\n",
      "[[  3  13   3   0   0   0]\n",
      " [  2 142  36   0   4   2]\n",
      " [  1  37 111  26  22   7]\n",
      " [  0  10  52 123  21   1]\n",
      " [  0  12  29   3  73   3]\n",
      " [  0  12  24   3   1  97]]\n"
     ]
    },
    {
     "data": {
      "image/png": "[encoded data removed]",
      "text/plain": [
       "<Figure size 432x288 with 1 Axes>"
      ]
     },
     "metadata": {
      "needs_background": "light"
     },
     "output_type": "display_data"
    },
    {
     "name": "stdout",
     "output_type": "stream",
     "text": [
      "Epoch  95  is complete!\n",
      "Complete in  672.8071703910828  seconds\n",
      "\n",
      "\n",
      "Training document  500  /  3488 ...\n",
      "Training document  1000  /  3488 ...\n",
      "Training document  1500  /  3488 ...\n",
      "Training document  2000  /  3488 ...\n",
      "Training document  2500  /  3488 ...\n",
      "Training document  3000  /  3488 ...\n",
      "Validating document  500  /  873 ...\n",
      "\n",
      "Train Loss:  0.2928723504665057\n",
      "Validation Loss:  0.2992542068861468\n",
      "Train Accuracy:  0.6625573394495413\n",
      "Validation Accuracy:  0.6471935853379153\n",
      "Confusion matrix:\n",
      "[[  8   7   4   0   0   0]\n",
      " [  5 135  40   0   4   2]\n",
      " [  2  31 120  35  10   6]\n",
      " [  0   7  53 136  10   1]\n",
      " [  0   5  37  10  66   2]\n",
      " [  0   9  23   4   1 100]]\n"
     ]
    },
    {
     "data": {
      "image/png": "[encoded data removed]",
      "text/plain": [
       "<Figure size 432x288 with 1 Axes>"
      ]
     },
     "metadata": {
      "needs_background": "light"
     },
     "output_type": "display_data"
    },
    {
     "name": "stdout",
     "output_type": "stream",
     "text": [
      "Epoch  96  is complete!\n",
      "Complete in  675.9372832775116  seconds\n",
      "\n",
      "\n",
      "Training document  500  /  3488 ...\n",
      "Training document  1000  /  3488 ...\n",
      "Training document  1500  /  3488 ...\n",
      "Training document  2000  /  3488 ...\n",
      "Training document  2500  /  3488 ...\n",
      "Training document  3000  /  3488 ...\n",
      "Validating document  500  /  873 ...\n",
      "\n",
      "Train Loss:  0.29249800278628113\n",
      "Validation Loss:  0.29892649920308917\n",
      "Train Accuracy:  0.6573967889908257\n",
      "Validation Accuracy:  0.6368843069873997\n",
      "Confusion matrix:\n",
      "[[  3  12   4   0   0   0]\n",
      " [  2 140  37   0   4   3]\n",
      " [  1  35 106  45  11   6]\n",
      " [  0  12  44 141  10   0]\n",
      " [  0   7  29  14  67   3]\n",
      " [  1  13  21   3   0  99]]\n"
     ]
    },
    {
     "data": {
      "image/png": "[encoded data removed]",
      "text/plain": [
       "<Figure size 432x288 with 1 Axes>"
      ]
     },
     "metadata": {
      "needs_background": "light"
     },
     "output_type": "display_data"
    },
    {
     "name": "stdout",
     "output_type": "stream",
     "text": [
      "Epoch  97  is complete!\n",
      "Complete in  672.7540428638458  seconds\n",
      "\n",
      "\n",
      "Training document  500  /  3488 ...\n",
      "Training document  1000  /  3488 ...\n",
      "Training document  1500  /  3488 ...\n",
      "Training document  2000  /  3488 ...\n",
      "Training document  2500  /  3488 ...\n",
      "Training document  3000  /  3488 ...\n",
      "Validating document  500  /  873 ...\n",
      "\n",
      "Train Loss:  0.29200120477487\n",
      "Validation Loss:  0.2985968468549698\n",
      "Train Accuracy:  0.6608371559633027\n",
      "Validation Accuracy:  0.6277205040091638\n",
      "Confusion matrix:\n",
      "[[  7  10   2   0   0   0]\n",
      " [  2 139  37   0   4   4]\n",
      " [  2  33  95  35  31   8]\n",
      " [  0   9  38 136  24   0]\n",
      " [  0   8  32   8  70   2]\n",
      " [  0   9  17   5   5 101]]\n"
     ]
    },
    {
     "data": {
      "image/png": "[encoded data removed]",
      "text/plain": [
       "<Figure size 432x288 with 1 Axes>"
      ]
     },
     "metadata": {
      "needs_background": "light"
     },
     "output_type": "display_data"
    },
    {
     "name": "stdout",
     "output_type": "stream",
     "text": [
      "Epoch  98  is complete!\n",
      "Complete in  672.942699432373  seconds\n",
      "\n",
      "\n",
      "Training document  500  /  3488 ...\n",
      "Training document  1000  /  3488 ...\n",
      "Training document  1500  /  3488 ...\n",
      "Training document  2000  /  3488 ...\n",
      "Training document  2500  /  3488 ...\n",
      "Training document  3000  /  3488 ...\n",
      "Validating document  500  /  873 ...\n",
      "\n",
      "Train Loss:  0.2915403765738364\n",
      "Validation Loss:  0.29819274334127305\n",
      "Train Accuracy:  0.6576834862385321\n",
      "Validation Accuracy:  0.6242840778923253\n",
      "Confusion matrix:\n",
      "[[  7   8   3   0   1   0]\n",
      " [  5 137  36   0   4   4]\n",
      " [  2  33  98  30  32   9]\n",
      " [  0  12  34 125  28   8]\n",
      " [  0   9  27   8  72   4]\n",
      " [  0  10  18   3   0 106]]\n"
     ]
    },
    {
     "data": {
      "image/png": "[encoded data removed]",
      "text/plain": [
       "<Figure size 432x288 with 1 Axes>"
      ]
     },
     "metadata": {
      "needs_background": "light"
     },
     "output_type": "display_data"
    },
    {
     "name": "stdout",
     "output_type": "stream",
     "text": [
      "Epoch  99  is complete!\n",
      "Complete in  708.1955795288086  seconds\n",
      "\n",
      "\n",
      "Training document  500  /  3488 ...\n",
      "Training document  1000  /  3488 ...\n",
      "Training document  1500  /  3488 ...\n",
      "Training document  2000  /  3488 ...\n",
      "Training document  2500  /  3488 ...\n",
      "Training document  3000  /  3488 ...\n",
      "Validating document  500  /  873 ...\n",
      "\n",
      "Train Loss:  0.2910837039656027\n",
      "Validation Loss:  0.29772937973153396\n",
      "Train Accuracy:  0.6596903669724771\n",
      "Validation Accuracy:  0.6345933562428407\n",
      "Confusion matrix:\n",
      "[[  7   8   4   0   0   0]\n",
      " [  3 138  36   1   4   4]\n",
      " [  1  32  97  35  32   7]\n",
      " [  0   7  40 134  23   3]\n",
      " [  0   7  29   7  74   3]\n",
      " [  0  10  18   4   1 104]]\n"
     ]
    },
    {
     "data": {
      "image/png": "[encoded data removed]",
      "text/plain": [
       "<Figure size 432x288 with 1 Axes>"
      ]
     },
     "metadata": {
      "needs_background": "light"
     },
     "output_type": "display_data"
    },
    {
     "name": "stdout",
     "output_type": "stream",
     "text": [
      "Saving the model at epoch:  100  as  genlstm_300n_3l_100\n",
      "Epoch  100  is complete!\n",
      "Complete in  798.5785250663757  seconds\n",
      "\n",
      "\n"
     ]
    },
    {
     "data": {
      "image/png": "[encoded data removed]",
      "text/plain": [
       "<Figure size 720x360 with 1 Axes>"
      ]
     },
     "metadata": {
      "needs_background": "light"
     },
     "output_type": "display_data"
    },
    {
     "data": {
      "image/png": "[encoded data removed]",
      "text/plain": [
       "<Figure size 720x360 with 1 Axes>"
      ]
     },
     "metadata": {
      "needs_background": "light"
     },
     "output_type": "display_data"
    }
   ],
   "source": [
    "# training a model from scratch\n",
    "\n",
    "# setting up the train, validation and test sets\n",
    "#tr, va, te = split_data(clean_5500['text'], onehot_5500, (0.2, 0.2))\n",
    "\n",
    "# initializing a new model\n",
    "#mod1 = set_model(300, 3, 0.7)\n",
    "\n",
    "# saving the initialized model to be compared later in task 2\n",
    "#saving(mod1, 'ques_lstm/init_300n_3l')\n",
    "\n",
    "# training and validating the model\n",
    "#tr_mod1, res1 = train_valid(mod1, tr, va, 100, 5, 'genlstm_300n_3l_')"
   ]
  },
  {
   "cell_type": "code",
   "execution_count": 392,
   "metadata": {},
   "outputs": [
    {
     "name": "stdout",
     "output_type": "stream",
     "text": [
      "Model Architecture: \n",
      "gensim_lstm(\n",
      "  (lstm): LSTM(100, 300, num_layers=3, dropout=0.7)\n",
      "  (dense): Linear(in_features=600, out_features=6, bias=True)\n",
      "  (sigm): Sigmoid()\n",
      ")\n"
     ]
    }
   ],
   "source": [
    "## loading the recently trained model\n",
    "\n",
    "# setting a sample structure before loading a trained model\n",
    "mod0 = set_model(300, 3, 0.7)\n",
    "\n",
    "# directly load the trained lstm model\n",
    "trained_lstm = loading(mod0, 'ques_lstm/genlstm_300n_3l_100')"
   ]
  },
  {
   "cell_type": "markdown",
   "metadata": {},
   "source": [
    "# 7. Testing the trained model"
   ]
  },
  {
   "cell_type": "code",
   "execution_count": 415,
   "metadata": {},
   "outputs": [],
   "source": [
    "def test_model(model, test):\n",
    "    '''\n",
    "    model: the trained model that will then be tested\n",
    "    test: the testing dataset (test[0] is input test[1] is output)\n",
    "    '''\n",
    "    \n",
    "    # loss function\n",
    "    loss_fn = torch.nn.BCELoss()\n",
    "    \n",
    "    # setting model to train mode\n",
    "    model.eval()\n",
    "    \n",
    "    predict_class, actual_class = [], []\n",
    "    test_losses, all_class = [], []\n",
    "    \n",
    "    # iterating through the training data\n",
    "    for vec in range(len(test[0])):\n",
    "\n",
    "        # initializing the hidden layer\n",
    "        hid = model.init_hidden()\n",
    "\n",
    "        # setting up the input and output\n",
    "        inp = text_tensor(test[0].iloc[vec], w2v_5500_vectors)\n",
    "        out = torch.tensor(test[1].iloc[vec], dtype=torch.float).reshape(1, -1)\n",
    "\n",
    "        pred = model(inp, hid)\n",
    "\n",
    "        # calculating the loss\n",
    "        loss = loss_fn(pred, out)\n",
    "        test_losses.append(loss.item())\n",
    "\n",
    "        actual_class.append(torch.argmax(out))\n",
    "        predict_class.append(torch.argmax(pred).detach())\n",
    "        all_class.append(pred.detach())\n",
    "        \n",
    "        op = \"\"\n",
    "        if actual_class[-1] == predict_class[-1]:\n",
    "            op = 'Y'\n",
    "        else:\n",
    "            op = 'N'\n",
    "            \n",
    "        print(vec, \" : \", \"actual - \", te[1].columns[actual_class[-1].item()], \n",
    "              \" predict - \", te[1].columns[predict_class[-1].item()], \"grade: \", op)\n",
    "        \n",
    "    \n",
    "    accuracy = sk.metrics.accuracy_score(actual_class, predict_class)\n",
    "    confusion = sk.metrics.confusion_matrix(actual_class, predict_class)\n",
    "    \n",
    "    print(\"\\nAccuracy: \", accuracy)\n",
    "    print(\"Confusion matrix:\")\n",
    "    print(confusion)\n",
    "\n",
    "    title = \"Confusion visualization\"\n",
    "    plt.title(title)\n",
    "    plt.imshow(confusion)\n",
    "    plt.show()\n",
    "    \n",
    "    return all_class"
   ]
  },
  {
   "cell_type": "code",
   "execution_count": 416,
   "metadata": {
    "scrolled": true
   },
   "outputs": [
    {
     "name": "stderr",
     "output_type": "stream",
     "text": [
      "C:\\Users\\sunny\\Anaconda3\\lib\\site-packages\\ipykernel_launcher.py:30: DeprecationWarning: Call to deprecated `wv` (Attribute will be removed in 4.0.0, use self instead).\n",
      "C:\\Users\\sunny\\Anaconda3\\lib\\site-packages\\ipykernel_launcher.py:35: DeprecationWarning: Call to deprecated `wv` (Attribute will be removed in 4.0.0, use self instead).\n",
      "C:\\Users\\sunny\\Anaconda3\\lib\\site-packages\\ipykernel_launcher.py:41: UserWarning: To copy construct from a tensor, it is recommended to use sourceTensor.clone().detach() or sourceTensor.clone().detach().requires_grad_(True), rather than torch.tensor(sourceTensor).\n"
     ]
    },
    {
     "name": "stdout",
     "output_type": "stream",
     "text": [
      "0  :  actual -  ('NUM',)  predict -  ('NUM',) grade:  Y\n",
      "1  :  actual -  ('ENTY',)  predict -  ('ABBR',) grade:  N\n",
      "2  :  actual -  ('LOC',)  predict -  ('LOC',) grade:  Y\n",
      "3  :  actual -  ('DESC',)  predict -  ('DESC',) grade:  Y\n",
      "4  :  actual -  ('DESC',)  predict -  ('ENTY',) grade:  N\n",
      "5"
     ]
    },
    {
     "name": "stderr",
     "output_type": "stream",
     "text": [
      "C:\\Users\\sunny\\Anaconda3\\lib\\site-packages\\ipykernel_launcher.py:38: UserWarning: To copy construct from a tensor, it is recommended to use sourceTensor.clone().detach() or sourceTensor.clone().detach().requires_grad_(True), rather than torch.tensor(sourceTensor).\n"
     ]
    },
    {
     "name": "stdout",
     "output_type": "stream",
     "text": [
      "  :  actual -  ('HUM',)  predict -  ('HUM',) grade:  Y\n",
      "6  :  actual -  ('ENTY',)  predict -  ('ENTY',) grade:  Y\n",
      "7  :  actual -  ('HUM',)  predict -  ('HUM',) grade:  Y\n",
      "8  :  actual -  ('HUM',)  predict -  ('HUM',) grade:  Y\n",
      "9  :  actual -  ('LOC',)  predict -  ('LOC',) grade:  Y\n",
      "10  :  actual -  ('HUM',)  predict -  ('HUM',) grade:  Y\n",
      "11  :  actual -  ('DESC',)  predict -  ('DESC',) grade:  Y\n",
      "12  :  actual -  ('NUM',)  predict -  ('ENTY',) grade:  N\n",
      "13  :  actual -  ('ENTY',)  predict -  ('ENTY',) grade:  Y\n",
      "14  :  actual -  ('HUM',)  predict -  ('HUM',) grade:  Y\n",
      "15  :  actual -  ('HUM',)  predict -  ('ENTY',) grade:  N\n",
      "16  :  actual -  ('DESC',)  predict -  ('ENTY',) grade:  N\n",
      "17  :  actual -  ('NUM',)  predict -  ('DESC',) grade:  N\n",
      "18  :  actual -  ('NUM',)  predict -  ('NUM',) grade:  Y\n",
      "19  :  actual -  ('DESC',)  predict -  ('ENTY',) grade:  N\n",
      "20  :  actual -  ('NUM',)  predict -  ('NUM',) grade:  Y\n",
      "21  :  actual -  ('ENTY',)  predict -  ('ENTY',) grade:  Y\n",
      "22  :  actual -  ('ENTY',)  predict -  ('ENTY',) grade:  Y\n",
      "23  :  actual -  ('DESC',)  predict -  ('DESC',) grade:  Y\n",
      "24  :  actual -  ('NUM',)  predict -  ('ENTY',) grade:  N\n",
      "25  :  actual -  ('ENTY',)  predict -  ('DESC',) grade:  N\n",
      "26  :  actual -  ('ENTY',)  predict -  ('NUM',) grade:  N\n",
      "27  :  actual -  ('HUM',)  predict -  ('HUM',) grade:  Y\n",
      "28  :  actual -  ('HUM',)  predict -  ('ENTY',) grade:  N\n",
      "29  :  actual -  ('DESC',)  predict -  ('DESC',) grade:  Y\n",
      "30  :  actual -  ('DESC',)  predict -  ('NUM',) grade:  N\n",
      "31  :  actual -  ('NUM',)  predict -  ('NUM',) grade:  Y\n",
      "32  :  actual -  ('HUM',)  predict -  ('HUM',) grade:  Y\n",
      "33  :  actual -  ('LOC',)  predict -  ('ENTY',) grade:  N\n",
      "34  :  actual -  ('NUM',)  predict -  ('NUM',) grade:  Y\n",
      "35  :  actual -  ('ENTY',)  predict -  ('HUM',) grade:  N\n",
      "36  :  actual -  ('HUM',)  predict -  ('LOC',) grade:  N\n",
      "37  :  actual -  ('LOC',)  predict -  ('LOC',) grade:  Y\n",
      "38  :  actual -  ('NUM',)  predict -  ('ENTY',) grade:  N\n",
      "39  :  actual -  ('HUM',)  predict -  ('HUM',) grade:  Y\n",
      "40  :  actual -  ('ENTY',)  predict -  ('ENTY',) grade:  Y\n",
      "41  :  actual -  ('NUM',)  predict -  ('NUM',) grade:  Y\n",
      "42  :  actual -  ('DESC',)  predict -  ('DESC',) grade:  Y\n",
      "43  :  actual -  ('LOC',)  predict -  ('ENTY',) grade:  N\n",
      "44  :  actual -  ('DESC',)  predict -  ('LOC',) grade:  N\n",
      "45  :  actual -  ('NUM',)  predict -  ('NUM',) grade:  Y\n",
      "46  :  actual -  ('HUM',)  predict -  ('HUM',) grade:  Y\n",
      "47  :  actual -  ('ENTY',)  predict -  ('ENTY',) grade:  Y\n",
      "48  :  actual -  ('ENTY',)  predict -  ('HUM',) grade:  N\n",
      "49  :  actual -  ('ABBR',)  predict -  ('DESC',) grade:  N\n",
      "50  :  actual -  ('LOC',)  predict -  ('LOC',) grade:  Y\n",
      "51  :  actual -  ('ENTY',)  predict -  ('ENTY',) grade:  Y\n",
      "52  :  actual -  ('ENTY',)  predict -  ('ENTY',) grade:  Y\n",
      "53  :  actual -  ('HUM',)  predict -  ('HUM',) grade:  Y\n",
      "54  :  actual -  ('DESC',)  predict -  ('DESC',) grade:  Y\n",
      "55  :  actual -  ('LOC',)  predict -  ('LOC',) grade:  Y\n",
      "56  :  actual -  ('DESC',)  predict -  ('DESC',) grade:  Y\n",
      "57  :  actual -  ('NUM',)  predict -  ('ENTY',) grade:  N\n",
      "58  :  actual -  ('ENTY',)  predict -  ('ENTY',) grade:  Y\n",
      "59  :  actual -  ('LOC',)  predict -  ('LOC',) grade:  Y\n",
      "60  :  actual -  ('ENTY',)  predict -  ('ENTY',) grade:  Y\n",
      "61  :  actual -  ('HUM',)  predict -  ('HUM',) grade:  Y\n",
      "62  :  actual -  ('ENTY',)  predict -  ('LOC',) grade:  N\n",
      "63  :  actual -  ('NUM',)  predict -  ('NUM',) grade:  Y\n",
      "64  :  actual -  ('NUM',)  predict -  ('ENTY',) grade:  N\n",
      "65  :  actual -  ('NUM',)  predict -  ('NUM',) grade:  Y\n",
      "66  :  actual -  ('ENTY',)  predict -  ('HUM',) grade:  N\n",
      "67  :  actual -  ('ENTY',)  predict -  ('ENTY',) grade:  Y\n",
      "68  :  actual -  ('NUM',)  predict -  ('NUM',) grade:  Y\n",
      "69  :  actual -  ('DESC',)  predict -  ('DESC',) grade:  Y\n",
      "70  :  actual -  ('ENTY',)  predict -  ('ENTY',) grade:  Y\n",
      "71  :  actual -  ('HUM',)  predict -  ('ENTY',) grade:  N\n",
      "72  :  actual -  ('LOC',)  predict -  ('ENTY',) grade:  N\n",
      "73  :  actual -  ('DESC',)  predict -  ('DESC',) grade:  Y\n",
      "74  :  actual -  ('HUM',)  predict -  ('ENTY',) grade:  N\n",
      "75  :  actual -  ('DESC',)  predict -  ('DESC',) grade:  Y\n",
      "76  :  actual -  ('LOC',)  predict -  ('LOC',) grade:  Y\n",
      "77  :  actual -  ('HUM',)  predict -  ('HUM',) grade:  Y\n",
      "78  :  actual -  ('ENTY',)  predict -  ('ENTY',) grade:  Y\n",
      "79  :  actual -  ('DESC',)  predict -  ('DESC',) grade:  Y\n",
      "80  :  actual -  ('LOC',)  predict -  ('DESC',) grade:  N\n",
      "81  :  actual -  ('DESC',)  predict -  ('DESC',) grade:  Y\n",
      "82  :  actual -  ('ENTY',)  predict -  ('ENTY',) grade:  Y\n",
      "83  :  actual -  ('DESC',)  predict -  ('ENTY',) grade:  N\n",
      "84  :  actual -  ('ENTY',)  predict -  ('NUM',) grade:  N\n",
      "85  :  actual -  ('HUM',)  predict -  ('HUM',) grade:  Y\n",
      "86  :  actual -  ('HUM',)  predict -  ('HUM',) grade:  Y\n",
      "87  :  actual -  ('HUM',)  predict -  ('HUM',) grade:  Y\n",
      "88  :  actual -  ('DESC',)  predict -  ('NUM',) grade:  N\n",
      "89  :  actual -  ('HUM',)  predict -  ('HUM',) grade:  Y\n",
      "90  :  actual -  ('ENTY',)  predict -  ('ENTY',) grade:  Y\n",
      "91  :  actual -  ('LOC',)  predict -  ('ENTY',) grade:  N\n",
      "92  :  actual -  ('NUM',)  predict -  ('NUM',) grade:  Y\n",
      "93  :  actual -  ('DESC',)  predict -  ('DESC',) grade:  Y\n",
      "94  :  actual -  ('NUM',)  predict -  ('NUM',) grade:  Y\n",
      "95  :  actual -  ('LOC',)  predict -  ('ENTY',) grade:  N\n",
      "96  :  actual -  ('DESC',)  predict -  ('DESC',) grade:  Y\n",
      "97  :  actual -  ('NUM',)  predict -  ('NUM',) grade:  Y\n",
      "98  :  actual -  ('HUM',)  predict -  ('ENTY',) grade:  N\n",
      "99  :  actual -  ('LOC',)  predict -  ('LOC',) grade:  Y\n",
      "100  :  actual -  ('ENTY',)  predict -  ('HUM',) grade:  N\n",
      "101  :  actual -  ('NUM',)  predict -  ('NUM',) grade:  Y\n",
      "102  :  actual -  ('ENTY',)  predict -  ('ENTY',) grade:  Y\n",
      "103  :  actual -  ('ENTY',)  predict -  ('ENTY',) grade:  Y\n",
      "104  :  actual -  ('HUM',)  predict -  ('HUM',) grade:  Y\n",
      "105  :  actual -  ('ENTY',)  predict -  ('ENTY',) grade:  Y\n",
      "106  :  actual -  ('NUM',)  predict -  ('NUM',) grade:  Y\n",
      "107  :  actual -  ('NUM',)  predict -  ('NUM',) grade:  Y\n",
      "108  :  actual -  ('NUM',)  predict -  ('NUM',) grade:  Y\n",
      "109  :  actual -  ('LOC',)  predict -  ('LOC',) grade:  Y\n",
      "110  :  actual -  ('HUM',)  predict -  ('HUM',) grade:  Y\n",
      "111  :  actual -  ('NUM',)  predict -  ('NUM',) grade:  Y\n",
      "112  :  actual -  ('LOC',)  predict -  ('ENTY',) grade:  N\n",
      "113  :  actual -  ('DESC',)  predict -  ('DESC',) grade:  Y\n",
      "114  :  actual -  ('ENTY',)  predict -  ('ENTY',) grade:  Y\n",
      "115  :  actual -  ('HUM',)  predict -  ('HUM',) grade:  Y\n",
      "116  :  actual -  ('NUM',)  predict -  ('NUM',) grade:  Y\n",
      "117  :  actual -  ('ENTY',)  predict -  ('ENTY',) grade:  Y\n",
      "118  :  actual -  ('LOC',)  predict -  ('LOC',) grade:  Y\n",
      "119  :  actual -  ('DESC',)  predict -  ('DESC',) grade:  Y\n",
      "120  :  actual -  ('NUM',)  predict -  ('ENTY',) grade:  N\n",
      "121  :  actual -  ('NUM',)  predict -  ('HUM',) grade:  N\n",
      "122  :  actual -  ('LOC',)  predict -  ('LOC',) grade:  Y\n",
      "123  :  actual -  ('NUM',)  predict -  ('NUM',) grade:  Y\n",
      "124  :  actual -  ('DESC',)  predict -  ('DESC',) grade:  Y\n",
      "125  :  actual -  ('NUM',)  predict -  ('NUM',) grade:  Y\n",
      "126  :  actual -  ('HUM',)  predict -  ('ENTY',) grade:  N\n",
      "127  :  actual -  ('ENTY',)  predict -  ('ENTY',) grade:  Y\n",
      "128  :  actual -  ('NUM',)  predict -  ('NUM',) grade:  Y\n",
      "129  :  actual -  ('DESC',)  predict -  ('DESC',) grade:  Y\n",
      "130  :  actual -  ('ENTY',)  predict -  ('LOC',) grade:  N\n",
      "131  :  actual -  ('HUM',)  predict -  ('HUM',) grade:  Y\n",
      "132  :  actual -  ('HUM',)  predict -  ('HUM',) grade:  Y\n",
      "133  :  actual -  ('HUM',)  predict -  ('ENTY',) grade:  N\n",
      "134  :  actual -  ('HUM',)  predict -  ('HUM',) grade:  Y\n",
      "135  :  actual -  ('NUM',)  predict -  ('NUM',) grade:  Y\n",
      "136  :  actual -  ('DESC',)  predict -  ('ENTY',) grade:  N\n",
      "137  :  actual -  ('HUM',)  predict -  ('LOC',) grade:  N\n",
      "138  :  actual -  ('LOC',)  predict -  ('LOC',) grade:  Y\n",
      "139  :  actual -  ('LOC',)  predict -  ('ENTY',) grade:  N\n",
      "140  :  actual -  ('ENTY',)  predict -  ('ENTY',) grade:  Y\n",
      "141  :  actual -  ('DESC',)  predict -  ('DESC',) grade:  Y\n",
      "142  :  actual -  ('LOC',)  predict -  ('ENTY',) grade:  N\n",
      "143  :  actual -  ('NUM',)  predict -  ('ENTY',) grade:  N\n",
      "144  :  actual -  ('ENTY',)  predict -  ('ENTY',) grade:  Y\n",
      "145  :  actual -  ('ENTY',)  predict -  ('LOC',) grade:  N\n",
      "146  :  actual -  ('HUM',)  predict -  ('HUM',) grade:  Y\n",
      "147  :  actual -  ('NUM',)  predict -  ('NUM',) grade:  Y\n",
      "148  :  actual -  ('NUM',)  predict -  ('NUM',) grade:  Y\n",
      "149  :  actual -  ('ENTY',)  predict -  ('DESC',) grade:  N\n"
     ]
    },
    {
     "name": "stdout",
     "output_type": "stream",
     "text": [
      "150  :  actual -  ('HUM',)  predict -  ('LOC',) grade:  N\n",
      "151  :  actual -  ('LOC',)  predict -  ('ENTY',) grade:  N\n",
      "152  :  actual -  ('DESC',)  predict -  ('ENTY',) grade:  N\n",
      "153  :  actual -  ('HUM',)  predict -  ('ENTY',) grade:  N\n",
      "154  :  actual -  ('DESC',)  predict -  ('DESC',) grade:  Y\n",
      "155  :  actual -  ('ENTY',)  predict -  ('LOC',) grade:  N\n",
      "156  :  actual -  ('HUM',)  predict -  ('HUM',) grade:  Y\n",
      "157  :  actual -  ('ENTY',)  predict -  ('ENTY',) grade:  Y\n",
      "158  :  actual -  ('ENTY',)  predict -  ('ENTY',) grade:  Y\n",
      "159  :  actual -  ('ENTY',)  predict -  ('ENTY',) grade:  Y\n",
      "160  :  actual -  ('ABBR',)  predict -  ('ENTY',) grade:  N\n",
      "161  :  actual -  ('NUM',)  predict -  ('NUM',) grade:  Y\n",
      "162  :  actual -  ('ENTY',)  predict -  ('LOC',) grade:  N\n",
      "163  :  actual -  ('LOC',)  predict -  ('LOC',) grade:  Y\n",
      "164  :  actual -  ('HUM',)  predict -  ('LOC',) grade:  N\n",
      "165  :  actual -  ('HUM',)  predict -  ('HUM',) grade:  Y\n",
      "166  :  actual -  ('ENTY',)  predict -  ('ENTY',) grade:  Y\n",
      "167  :  actual -  ('DESC',)  predict -  ('DESC',) grade:  Y\n",
      "168  :  actual -  ('HUM',)  predict -  ('HUM',) grade:  Y\n",
      "169  :  actual -  ('HUM',)  predict -  ('HUM',) grade:  Y\n",
      "170  :  actual -  ('LOC',)  predict -  ('ENTY',) grade:  N\n",
      "171  :  actual -  ('ENTY',)  predict -  ('HUM',) grade:  N\n",
      "172  :  actual -  ('NUM',)  predict -  ('NUM',) grade:  Y\n",
      "173  :  actual -  ('LOC',)  predict -  ('LOC',) grade:  Y\n",
      "174  :  actual -  ('HUM',)  predict -  ('HUM',) grade:  Y\n",
      "175  :  actual -  ('ENTY',)  predict -  ('ENTY',) grade:  Y\n",
      "176  :  actual -  ('NUM',)  predict -  ('NUM',) grade:  Y\n",
      "177  :  actual -  ('DESC',)  predict -  ('DESC',) grade:  Y\n",
      "178  :  actual -  ('NUM',)  predict -  ('ENTY',) grade:  N\n",
      "179  :  actual -  ('ENTY',)  predict -  ('LOC',) grade:  N\n",
      "180  :  actual -  ('ENTY',)  predict -  ('ENTY',) grade:  Y\n",
      "181  :  actual -  ('ENTY',)  predict -  ('ENTY',) grade:  Y\n",
      "182  :  actual -  ('ENTY',)  predict -  ('ENTY',) grade:  Y\n",
      "183  :  actual -  ('DESC',)  predict -  ('DESC',) grade:  Y\n",
      "184  :  actual -  ('DESC',)  predict -  ('HUM',) grade:  N\n",
      "185  :  actual -  ('ENTY',)  predict -  ('ENTY',) grade:  Y\n",
      "186  :  actual -  ('ENTY',)  predict -  ('ABBR',) grade:  N\n",
      "187  :  actual -  ('NUM',)  predict -  ('DESC',) grade:  N\n",
      "188  :  actual -  ('NUM',)  predict -  ('NUM',) grade:  Y\n",
      "189  :  actual -  ('NUM',)  predict -  ('LOC',) grade:  N\n",
      "190  :  actual -  ('ENTY',)  predict -  ('HUM',) grade:  N\n",
      "191  :  actual -  ('LOC',)  predict -  ('LOC',) grade:  Y\n",
      "192  :  actual -  ('DESC',)  predict -  ('DESC',) grade:  Y\n",
      "193  :  actual -  ('DESC',)  predict -  ('ENTY',) grade:  N\n",
      "194  :  actual -  ('NUM',)  predict -  ('LOC',) grade:  N\n",
      "195  :  actual -  ('LOC',)  predict -  ('ENTY',) grade:  N\n",
      "196  :  actual -  ('ENTY',)  predict -  ('HUM',) grade:  N\n",
      "197  :  actual -  ('NUM',)  predict -  ('NUM',) grade:  Y\n",
      "198  :  actual -  ('DESC',)  predict -  ('DESC',) grade:  Y\n",
      "199  :  actual -  ('NUM',)  predict -  ('ENTY',) grade:  N\n",
      "200  :  actual -  ('HUM',)  predict -  ('HUM',) grade:  Y\n",
      "201  :  actual -  ('NUM',)  predict -  ('NUM',) grade:  Y\n",
      "202  :  actual -  ('ENTY',)  predict -  ('HUM',) grade:  N\n",
      "203  :  actual -  ('ENTY',)  predict -  ('HUM',) grade:  N\n",
      "204  :  actual -  ('NUM',)  predict -  ('ENTY',) grade:  N\n",
      "205  :  actual -  ('HUM',)  predict -  ('HUM',) grade:  Y\n",
      "206  :  actual -  ('ENTY',)  predict -  ('ENTY',) grade:  Y\n",
      "207  :  actual -  ('NUM',)  predict -  ('NUM',) grade:  Y\n",
      "208  :  actual -  ('DESC',)  predict -  ('DESC',) grade:  Y\n",
      "209  :  actual -  ('DESC',)  predict -  ('DESC',) grade:  Y\n",
      "210  :  actual -  ('ENTY',)  predict -  ('ABBR',) grade:  N\n",
      "211  :  actual -  ('LOC',)  predict -  ('LOC',) grade:  Y\n",
      "212  :  actual -  ('DESC',)  predict -  ('DESC',) grade:  Y\n",
      "213  :  actual -  ('ENTY',)  predict -  ('LOC',) grade:  N\n",
      "214  :  actual -  ('LOC',)  predict -  ('LOC',) grade:  Y\n",
      "215  :  actual -  ('HUM',)  predict -  ('HUM',) grade:  Y\n",
      "216  :  actual -  ('NUM',)  predict -  ('ENTY',) grade:  N\n",
      "217  :  actual -  ('NUM',)  predict -  ('ENTY',) grade:  N\n",
      "218  :  actual -  ('NUM',)  predict -  ('NUM',) grade:  Y\n",
      "219  :  actual -  ('ENTY',)  predict -  ('ENTY',) grade:  Y\n",
      "220  :  actual -  ('HUM',)  predict -  ('HUM',) grade:  Y\n",
      "221  :  actual -  ('HUM',)  predict -  ('HUM',) grade:  Y\n",
      "222  :  actual -  ('DESC',)  predict -  ('DESC',) grade:  Y\n",
      "223  :  actual -  ('ENTY',)  predict -  ('DESC',) grade:  N\n",
      "224  :  actual -  ('DESC',)  predict -  ('LOC',) grade:  N\n",
      "225  :  actual -  ('LOC',)  predict -  ('ENTY',) grade:  N\n",
      "226  :  actual -  ('DESC',)  predict -  ('DESC',) grade:  Y\n",
      "227  :  actual -  ('HUM',)  predict -  ('ENTY',) grade:  N\n",
      "228  :  actual -  ('DESC',)  predict -  ('DESC',) grade:  Y\n",
      "229  :  actual -  ('DESC',)  predict -  ('DESC',) grade:  Y\n",
      "230  :  actual -  ('LOC',)  predict -  ('LOC',) grade:  Y\n",
      "231  :  actual -  ('LOC',)  predict -  ('LOC',) grade:  Y\n",
      "232  :  actual -  ('DESC',)  predict -  ('DESC',) grade:  Y\n",
      "233  :  actual -  ('LOC',)  predict -  ('HUM',) grade:  N\n",
      "234  :  actual -  ('DESC',)  predict -  ('DESC',) grade:  Y\n",
      "235  :  actual -  ('HUM',)  predict -  ('HUM',) grade:  Y\n",
      "236  :  actual -  ('ENTY',)  predict -  ('ENTY',) grade:  Y\n",
      "237  :  actual -  ('LOC',)  predict -  ('LOC',) grade:  Y\n",
      "238  :  actual -  ('ENTY',)  predict -  ('HUM',) grade:  N\n",
      "239  :  actual -  ('DESC',)  predict -  ('HUM',) grade:  N\n",
      "240  :  actual -  ('ABBR',)  predict -  ('ENTY',) grade:  N\n",
      "241  :  actual -  ('DESC',)  predict -  ('DESC',) grade:  Y\n",
      "242  :  actual -  ('ENTY',)  predict -  ('HUM',) grade:  N\n",
      "243  :  actual -  ('DESC',)  predict -  ('DESC',) grade:  Y\n",
      "244  :  actual -  ('HUM',)  predict -  ('LOC',) grade:  N\n",
      "245  :  actual -  ('DESC',)  predict -  ('DESC',) grade:  Y\n",
      "246  :  actual -  ('DESC',)  predict -  ('ENTY',) grade:  N\n",
      "247  :  actual -  ('HUM',)  predict -  ('HUM',) grade:  Y\n",
      "248  :  actual -  ('DESC',)  predict -  ('DESC',) grade:  Y\n",
      "249  :  actual -  ('ENTY',)  predict -  ('ENTY',) grade:  Y\n",
      "250  :  actual -  ('HUM',)  predict -  ('LOC',) grade:  N\n",
      "251  :  actual -  ('ENTY',)  predict -  ('ENTY',) grade:  Y\n",
      "252  :  actual -  ('HUM',)  predict -  ('HUM',) grade:  Y\n",
      "253  :  actual -  ('HUM',)  predict -  ('HUM',) grade:  Y\n",
      "254  :  actual -  ('HUM',)  predict -  ('HUM',) grade:  Y\n",
      "255  :  actual -  ('ENTY',)  predict -  ('ENTY',) grade:  Y\n",
      "256  :  actual -  ('LOC',)  predict -  ('LOC',) grade:  Y\n",
      "257  :  actual -  ('ENTY',)  predict -  ('DESC',) grade:  N\n",
      "258  :  actual -  ('NUM',)  predict -  ('NUM',) grade:  Y\n",
      "259  :  actual -  ('NUM',)  predict -  ('ENTY',) grade:  N\n",
      "260  :  actual -  ('HUM',)  predict -  ('HUM',) grade:  Y\n",
      "261  :  actual -  ('ENTY',)  predict -  ('DESC',) grade:  N\n",
      "262  :  actual -  ('DESC',)  predict -  ('DESC',) grade:  Y\n",
      "263  :  actual -  ('DESC',)  predict -  ('ENTY',) grade:  N\n",
      "264  :  actual -  ('ENTY',)  predict -  ('LOC',) grade:  N\n",
      "265  :  actual -  ('HUM',)  predict -  ('HUM',) grade:  Y\n",
      "266  :  actual -  ('HUM',)  predict -  ('HUM',) grade:  Y\n",
      "267  :  actual -  ('DESC',)  predict -  ('DESC',) grade:  Y\n",
      "268  :  actual -  ('DESC',)  predict -  ('ENTY',) grade:  N\n",
      "269  :  actual -  ('LOC',)  predict -  ('LOC',) grade:  Y\n",
      "270  :  actual -  ('NUM',)  predict -  ('NUM',) grade:  Y\n",
      "271  :  actual -  ('ENTY',)  predict -  ('HUM',) grade:  N\n",
      "272  :  actual -  ('ENTY',)  predict -  ('NUM',) grade:  N\n",
      "273  :  actual -  ('LOC',)  predict -  ('ENTY',) grade:  N\n",
      "274  :  actual -  ('HUM',)  predict -  ('ENTY',) grade:  N\n",
      "275  :  actual -  ('HUM',)  predict -  ('HUM',) grade:  Y\n",
      "276  :  actual -  ('DESC',)  predict -  ('DESC',) grade:  Y\n",
      "277  :  actual -  ('ENTY',)  predict -  ('ENTY',) grade:  Y\n",
      "278  :  actual -  ('DESC',)  predict -  ('DESC',) grade:  Y\n",
      "279  :  actual -  ('HUM',)  predict -  ('HUM',) grade:  Y\n",
      "280  :  actual -  ('LOC',)  predict -  ('ENTY',) grade:  N\n",
      "281  :  actual -  ('ENTY',)  predict -  ('LOC',) grade:  N\n",
      "282  :  actual -  ('LOC',)  predict -  ('LOC',) grade:  Y\n",
      "283  :  actual -  ('LOC',)  predict -  ('ENTY',) grade:  N\n",
      "284  :  actual -  ('NUM',)  predict -  ('ENTY',) grade:  N\n",
      "285  :  actual -  ('LOC',)  predict -  ('ENTY',) grade:  N\n",
      "286  :  actual -  ('NUM',)  predict -  ('NUM',) grade:  Y\n",
      "287  :  actual -  ('DESC',)  predict -  ('DESC',) grade:  Y\n",
      "288  :  actual -  ('DESC',)  predict -  ('DESC',) grade:  Y\n",
      "289  :  actual -  ('DESC',)  predict -  ('DESC',) grade:  Y\n",
      "290  :  actual -  ('HUM',)  predict -  ('HUM',) grade:  Y\n",
      "291  :  actual -  ('NUM',)  predict -  ('NUM',) grade:  Y\n"
     ]
    },
    {
     "name": "stdout",
     "output_type": "stream",
     "text": [
      "292  :  actual -  ('DESC',)  predict -  ('DESC',) grade:  Y\n",
      "293  :  actual -  ('LOC',)  predict -  ('LOC',) grade:  Y\n",
      "294  :  actual -  ('LOC',)  predict -  ('ENTY',) grade:  N\n",
      "295  :  actual -  ('HUM',)  predict -  ('HUM',) grade:  Y\n",
      "296  :  actual -  ('LOC',)  predict -  ('LOC',) grade:  Y\n",
      "297  :  actual -  ('ENTY',)  predict -  ('ENTY',) grade:  Y\n",
      "298  :  actual -  ('LOC',)  predict -  ('LOC',) grade:  Y\n",
      "299  :  actual -  ('NUM',)  predict -  ('ENTY',) grade:  N\n",
      "300  :  actual -  ('DESC',)  predict -  ('DESC',) grade:  Y\n",
      "301  :  actual -  ('DESC',)  predict -  ('DESC',) grade:  Y\n",
      "302  :  actual -  ('DESC',)  predict -  ('DESC',) grade:  Y\n",
      "303  :  actual -  ('LOC',)  predict -  ('LOC',) grade:  Y\n",
      "304  :  actual -  ('DESC',)  predict -  ('DESC',) grade:  Y\n",
      "305  :  actual -  ('DESC',)  predict -  ('ENTY',) grade:  N\n",
      "306  :  actual -  ('DESC',)  predict -  ('DESC',) grade:  Y\n",
      "307  :  actual -  ('LOC',)  predict -  ('LOC',) grade:  Y\n",
      "308  :  actual -  ('HUM',)  predict -  ('ENTY',) grade:  N\n",
      "309  :  actual -  ('NUM',)  predict -  ('NUM',) grade:  Y\n",
      "310  :  actual -  ('ENTY',)  predict -  ('ENTY',) grade:  Y\n",
      "311  :  actual -  ('DESC',)  predict -  ('ENTY',) grade:  N\n",
      "312  :  actual -  ('DESC',)  predict -  ('DESC',) grade:  Y\n",
      "313  :  actual -  ('DESC',)  predict -  ('DESC',) grade:  Y\n",
      "314  :  actual -  ('LOC',)  predict -  ('ENTY',) grade:  N\n",
      "315  :  actual -  ('NUM',)  predict -  ('NUM',) grade:  Y\n",
      "316  :  actual -  ('NUM',)  predict -  ('NUM',) grade:  Y\n",
      "317  :  actual -  ('NUM',)  predict -  ('NUM',) grade:  Y\n",
      "318  :  actual -  ('DESC',)  predict -  ('ENTY',) grade:  N\n",
      "319  :  actual -  ('NUM',)  predict -  ('NUM',) grade:  Y\n",
      "320  :  actual -  ('ENTY',)  predict -  ('ENTY',) grade:  Y\n",
      "321  :  actual -  ('HUM',)  predict -  ('HUM',) grade:  Y\n",
      "322  :  actual -  ('ENTY',)  predict -  ('ENTY',) grade:  Y\n",
      "323  :  actual -  ('ENTY',)  predict -  ('ENTY',) grade:  Y\n",
      "324  :  actual -  ('ENTY',)  predict -  ('ENTY',) grade:  Y\n",
      "325  :  actual -  ('HUM',)  predict -  ('HUM',) grade:  Y\n",
      "326  :  actual -  ('ENTY',)  predict -  ('HUM',) grade:  N\n",
      "327  :  actual -  ('ENTY',)  predict -  ('ENTY',) grade:  Y\n",
      "328  :  actual -  ('LOC',)  predict -  ('LOC',) grade:  Y\n",
      "329  :  actual -  ('ENTY',)  predict -  ('HUM',) grade:  N\n",
      "330  :  actual -  ('DESC',)  predict -  ('DESC',) grade:  Y\n",
      "331  :  actual -  ('HUM',)  predict -  ('LOC',) grade:  N\n",
      "332  :  actual -  ('DESC',)  predict -  ('ENTY',) grade:  N\n",
      "333  :  actual -  ('DESC',)  predict -  ('ENTY',) grade:  N\n",
      "334  :  actual -  ('ENTY',)  predict -  ('DESC',) grade:  N\n",
      "335  :  actual -  ('HUM',)  predict -  ('HUM',) grade:  Y\n",
      "336  :  actual -  ('LOC',)  predict -  ('ENTY',) grade:  N\n",
      "337  :  actual -  ('NUM',)  predict -  ('NUM',) grade:  Y\n",
      "338  :  actual -  ('DESC',)  predict -  ('HUM',) grade:  N\n",
      "339  :  actual -  ('DESC',)  predict -  ('NUM',) grade:  N\n",
      "340  :  actual -  ('ENTY',)  predict -  ('DESC',) grade:  N\n",
      "341  :  actual -  ('ENTY',)  predict -  ('HUM',) grade:  N\n",
      "342  :  actual -  ('DESC',)  predict -  ('DESC',) grade:  Y\n",
      "343  :  actual -  ('ENTY',)  predict -  ('DESC',) grade:  N\n",
      "344  :  actual -  ('DESC',)  predict -  ('DESC',) grade:  Y\n",
      "345  :  actual -  ('HUM',)  predict -  ('HUM',) grade:  Y\n",
      "346  :  actual -  ('DESC',)  predict -  ('DESC',) grade:  Y\n",
      "347  :  actual -  ('ENTY',)  predict -  ('HUM',) grade:  N\n",
      "348  :  actual -  ('ENTY',)  predict -  ('HUM',) grade:  N\n",
      "349  :  actual -  ('HUM',)  predict -  ('ENTY',) grade:  N\n",
      "350  :  actual -  ('LOC',)  predict -  ('DESC',) grade:  N\n",
      "351  :  actual -  ('DESC',)  predict -  ('DESC',) grade:  Y\n",
      "352  :  actual -  ('NUM',)  predict -  ('HUM',) grade:  N\n",
      "353  :  actual -  ('NUM',)  predict -  ('NUM',) grade:  Y\n",
      "354  :  actual -  ('DESC',)  predict -  ('DESC',) grade:  Y\n",
      "355  :  actual -  ('DESC',)  predict -  ('DESC',) grade:  Y\n",
      "356  :  actual -  ('DESC',)  predict -  ('DESC',) grade:  Y\n",
      "357  :  actual -  ('ENTY',)  predict -  ('DESC',) grade:  N\n",
      "358  :  actual -  ('ENTY',)  predict -  ('ENTY',) grade:  Y\n",
      "359  :  actual -  ('DESC',)  predict -  ('DESC',) grade:  Y\n",
      "360  :  actual -  ('DESC',)  predict -  ('DESC',) grade:  Y\n",
      "361  :  actual -  ('DESC',)  predict -  ('DESC',) grade:  Y\n",
      "362  :  actual -  ('DESC',)  predict -  ('DESC',) grade:  Y\n",
      "363  :  actual -  ('LOC',)  predict -  ('LOC',) grade:  Y\n",
      "364  :  actual -  ('ENTY',)  predict -  ('LOC',) grade:  N\n",
      "365  :  actual -  ('HUM',)  predict -  ('HUM',) grade:  Y\n",
      "366  :  actual -  ('LOC',)  predict -  ('ENTY',) grade:  N\n",
      "367  :  actual -  ('LOC',)  predict -  ('LOC',) grade:  Y\n",
      "368  :  actual -  ('ENTY',)  predict -  ('ENTY',) grade:  Y\n",
      "369  :  actual -  ('LOC',)  predict -  ('LOC',) grade:  Y\n",
      "370  :  actual -  ('DESC',)  predict -  ('DESC',) grade:  Y\n",
      "371  :  actual -  ('DESC',)  predict -  ('DESC',) grade:  Y\n",
      "372  :  actual -  ('HUM',)  predict -  ('HUM',) grade:  Y\n",
      "373  :  actual -  ('DESC',)  predict -  ('DESC',) grade:  Y\n",
      "374  :  actual -  ('HUM',)  predict -  ('LOC',) grade:  N\n",
      "375  :  actual -  ('HUM',)  predict -  ('ENTY',) grade:  N\n",
      "376  :  actual -  ('ENTY',)  predict -  ('ENTY',) grade:  Y\n",
      "377  :  actual -  ('ENTY',)  predict -  ('ENTY',) grade:  Y\n",
      "378  :  actual -  ('NUM',)  predict -  ('NUM',) grade:  Y\n",
      "379  :  actual -  ('DESC',)  predict -  ('DESC',) grade:  Y\n",
      "380  :  actual -  ('NUM',)  predict -  ('NUM',) grade:  Y\n",
      "381  :  actual -  ('HUM',)  predict -  ('HUM',) grade:  Y\n",
      "382  :  actual -  ('DESC',)  predict -  ('DESC',) grade:  Y\n",
      "383  :  actual -  ('DESC',)  predict -  ('DESC',) grade:  Y\n",
      "384  :  actual -  ('DESC',)  predict -  ('DESC',) grade:  Y\n",
      "385  :  actual -  ('HUM',)  predict -  ('ENTY',) grade:  N\n",
      "386  :  actual -  ('LOC',)  predict -  ('ENTY',) grade:  N\n",
      "387  :  actual -  ('ENTY',)  predict -  ('ENTY',) grade:  Y\n",
      "388  :  actual -  ('NUM',)  predict -  ('NUM',) grade:  Y\n",
      "389  :  actual -  ('LOC',)  predict -  ('LOC',) grade:  Y\n",
      "390  :  actual -  ('HUM',)  predict -  ('DESC',) grade:  N\n",
      "391  :  actual -  ('NUM',)  predict -  ('NUM',) grade:  Y\n",
      "392  :  actual -  ('DESC',)  predict -  ('DESC',) grade:  Y\n",
      "393  :  actual -  ('ENTY',)  predict -  ('ENTY',) grade:  Y\n",
      "394  :  actual -  ('ENTY',)  predict -  ('ENTY',) grade:  Y\n",
      "395  :  actual -  ('HUM',)  predict -  ('HUM',) grade:  Y\n",
      "396  :  actual -  ('ABBR',)  predict -  ('DESC',) grade:  N\n",
      "397  :  actual -  ('ENTY',)  predict -  ('LOC',) grade:  N\n",
      "398  :  actual -  ('DESC',)  predict -  ('DESC',) grade:  Y\n",
      "399  :  actual -  ('NUM',)  predict -  ('NUM',) grade:  Y\n",
      "400  :  actual -  ('LOC',)  predict -  ('ENTY',) grade:  N\n",
      "401  :  actual -  ('ENTY',)  predict -  ('LOC',) grade:  N\n",
      "402  :  actual -  ('NUM',)  predict -  ('ENTY',) grade:  N\n",
      "403  :  actual -  ('ENTY',)  predict -  ('LOC',) grade:  N\n",
      "404  :  actual -  ('NUM',)  predict -  ('NUM',) grade:  Y\n",
      "405  :  actual -  ('HUM',)  predict -  ('HUM',) grade:  Y\n",
      "406  :  actual -  ('ENTY',)  predict -  ('ENTY',) grade:  Y\n",
      "407  :  actual -  ('ENTY',)  predict -  ('ENTY',) grade:  Y\n",
      "408  :  actual -  ('DESC',)  predict -  ('ENTY',) grade:  N\n",
      "409  :  actual -  ('DESC',)  predict -  ('DESC',) grade:  Y\n",
      "410  :  actual -  ('HUM',)  predict -  ('HUM',) grade:  Y\n",
      "411  :  actual -  ('ENTY',)  predict -  ('HUM',) grade:  N\n",
      "412  :  actual -  ('ENTY',)  predict -  ('DESC',) grade:  N\n",
      "413  :  actual -  ('ENTY',)  predict -  ('DESC',) grade:  N\n",
      "414  :  actual -  ('NUM',)  predict -  ('ENTY',) grade:  N\n",
      "415  :  actual -  ('DESC',)  predict -  ('DESC',) grade:  Y\n",
      "416  :  actual -  ('ENTY',)  predict -  ('ENTY',) grade:  Y\n",
      "417  :  actual -  ('HUM',)  predict -  ('HUM',) grade:  Y\n",
      "418  :  actual -  ('DESC',)  predict -  ('DESC',) grade:  Y\n",
      "419  :  actual -  ('LOC',)  predict -  ('LOC',) grade:  Y\n",
      "420  :  actual -  ('HUM',)  predict -  ('HUM',) grade:  Y\n",
      "421  :  actual -  ('DESC',)  predict -  ('DESC',) grade:  Y\n",
      "422  :  actual -  ('DESC',)  predict -  ('DESC',) grade:  Y\n",
      "423  :  actual -  ('ENTY',)  predict -  ('LOC',) grade:  N\n",
      "424  :  actual -  ('LOC',)  predict -  ('LOC',) grade:  Y\n",
      "425  :  actual -  ('ENTY',)  predict -  ('NUM',) grade:  N\n",
      "426  :  actual -  ('ENTY',)  predict -  ('LOC',) grade:  N\n",
      "427  :  actual -  ('HUM',)  predict -  ('HUM',) grade:  Y\n",
      "428  :  actual -  ('LOC',)  predict -  ('HUM',) grade:  N\n",
      "429  :  actual -  ('DESC',)  predict -  ('DESC',) grade:  Y\n",
      "430  :  actual -  ('ENTY',)  predict -  ('LOC',) grade:  N\n",
      "431  :  actual -  ('ENTY',)  predict -  ('ENTY',) grade:  Y\n",
      "432  :  actual -  ('HUM',)  predict -  ('HUM',) grade:  Y\n",
      "433  :  actual -  ('DESC',)  predict -  ('DESC',) grade:  Y\n",
      "434  :  actual -  ('ENTY',)  predict -  ('ENTY',) grade:  Y\n"
     ]
    },
    {
     "name": "stdout",
     "output_type": "stream",
     "text": [
      "435  :  actual -  ('NUM',)  predict -  ('ENTY',) grade:  N\n",
      "436  :  actual -  ('HUM',)  predict -  ('HUM',) grade:  Y\n",
      "437  :  actual -  ('LOC',)  predict -  ('LOC',) grade:  Y\n",
      "438  :  actual -  ('ENTY',)  predict -  ('LOC',) grade:  N\n",
      "439  :  actual -  ('ENTY',)  predict -  ('LOC',) grade:  N\n",
      "440  :  actual -  ('HUM',)  predict -  ('HUM',) grade:  Y\n",
      "441  :  actual -  ('DESC',)  predict -  ('DESC',) grade:  Y\n",
      "442  :  actual -  ('NUM',)  predict -  ('NUM',) grade:  Y\n",
      "443  :  actual -  ('DESC',)  predict -  ('DESC',) grade:  Y\n",
      "444  :  actual -  ('ENTY',)  predict -  ('HUM',) grade:  N\n",
      "445  :  actual -  ('HUM',)  predict -  ('HUM',) grade:  Y\n",
      "446  :  actual -  ('DESC',)  predict -  ('ENTY',) grade:  N\n",
      "447  :  actual -  ('NUM',)  predict -  ('NUM',) grade:  Y\n",
      "448  :  actual -  ('ENTY',)  predict -  ('DESC',) grade:  N\n",
      "449  :  actual -  ('LOC',)  predict -  ('ENTY',) grade:  N\n",
      "450  :  actual -  ('DESC',)  predict -  ('DESC',) grade:  Y\n",
      "451  :  actual -  ('ENTY',)  predict -  ('HUM',) grade:  N\n",
      "452  :  actual -  ('LOC',)  predict -  ('HUM',) grade:  N\n",
      "453  :  actual -  ('NUM',)  predict -  ('NUM',) grade:  Y\n",
      "454  :  actual -  ('HUM',)  predict -  ('ENTY',) grade:  N\n",
      "455  :  actual -  ('DESC',)  predict -  ('DESC',) grade:  Y\n",
      "456  :  actual -  ('LOC',)  predict -  ('LOC',) grade:  Y\n",
      "457  :  actual -  ('HUM',)  predict -  ('HUM',) grade:  Y\n",
      "458  :  actual -  ('HUM',)  predict -  ('ENTY',) grade:  N\n",
      "459  :  actual -  ('HUM',)  predict -  ('HUM',) grade:  Y\n",
      "460  :  actual -  ('HUM',)  predict -  ('HUM',) grade:  Y\n",
      "461  :  actual -  ('DESC',)  predict -  ('DESC',) grade:  Y\n",
      "462  :  actual -  ('HUM',)  predict -  ('DESC',) grade:  N\n",
      "463  :  actual -  ('LOC',)  predict -  ('LOC',) grade:  Y\n",
      "464  :  actual -  ('LOC',)  predict -  ('LOC',) grade:  Y\n",
      "465  :  actual -  ('NUM',)  predict -  ('NUM',) grade:  Y\n",
      "466  :  actual -  ('NUM',)  predict -  ('NUM',) grade:  Y\n",
      "467  :  actual -  ('DESC',)  predict -  ('DESC',) grade:  Y\n",
      "468  :  actual -  ('LOC',)  predict -  ('LOC',) grade:  Y\n",
      "469  :  actual -  ('HUM',)  predict -  ('HUM',) grade:  Y\n",
      "470  :  actual -  ('NUM',)  predict -  ('NUM',) grade:  Y\n",
      "471  :  actual -  ('LOC',)  predict -  ('HUM',) grade:  N\n",
      "472  :  actual -  ('HUM',)  predict -  ('HUM',) grade:  Y\n",
      "473  :  actual -  ('DESC',)  predict -  ('DESC',) grade:  Y\n",
      "474  :  actual -  ('ENTY',)  predict -  ('HUM',) grade:  N\n",
      "475  :  actual -  ('DESC',)  predict -  ('NUM',) grade:  N\n",
      "476  :  actual -  ('DESC',)  predict -  ('DESC',) grade:  Y\n",
      "477  :  actual -  ('HUM',)  predict -  ('ENTY',) grade:  N\n",
      "478  :  actual -  ('HUM',)  predict -  ('DESC',) grade:  N\n",
      "479  :  actual -  ('LOC',)  predict -  ('LOC',) grade:  Y\n",
      "480  :  actual -  ('HUM',)  predict -  ('HUM',) grade:  Y\n",
      "481  :  actual -  ('NUM',)  predict -  ('NUM',) grade:  Y\n",
      "482  :  actual -  ('HUM',)  predict -  ('HUM',) grade:  Y\n",
      "483  :  actual -  ('DESC',)  predict -  ('DESC',) grade:  Y\n",
      "484  :  actual -  ('NUM',)  predict -  ('NUM',) grade:  Y\n",
      "485  :  actual -  ('ENTY',)  predict -  ('ENTY',) grade:  Y\n",
      "486  :  actual -  ('ENTY',)  predict -  ('ENTY',) grade:  Y\n",
      "487  :  actual -  ('LOC',)  predict -  ('NUM',) grade:  N\n",
      "488  :  actual -  ('HUM',)  predict -  ('LOC',) grade:  N\n",
      "489  :  actual -  ('HUM',)  predict -  ('HUM',) grade:  Y\n",
      "490  :  actual -  ('ENTY',)  predict -  ('LOC',) grade:  N\n",
      "491  :  actual -  ('HUM',)  predict -  ('HUM',) grade:  Y\n",
      "492  :  actual -  ('HUM',)  predict -  ('LOC',) grade:  N\n",
      "493  :  actual -  ('DESC',)  predict -  ('DESC',) grade:  Y\n",
      "494  :  actual -  ('LOC',)  predict -  ('LOC',) grade:  Y\n",
      "495  :  actual -  ('LOC',)  predict -  ('ENTY',) grade:  N\n",
      "496  :  actual -  ('DESC',)  predict -  ('DESC',) grade:  Y\n",
      "497  :  actual -  ('DESC',)  predict -  ('DESC',) grade:  Y\n",
      "498  :  actual -  ('NUM',)  predict -  ('NUM',) grade:  Y\n",
      "499  :  actual -  ('LOC',)  predict -  ('LOC',) grade:  Y\n",
      "500  :  actual -  ('ENTY',)  predict -  ('ENTY',) grade:  Y\n",
      "501  :  actual -  ('DESC',)  predict -  ('DESC',) grade:  Y\n",
      "502  :  actual -  ('NUM',)  predict -  ('NUM',) grade:  Y\n",
      "503  :  actual -  ('HUM',)  predict -  ('ENTY',) grade:  N\n",
      "504  :  actual -  ('HUM',)  predict -  ('LOC',) grade:  N\n",
      "505  :  actual -  ('LOC',)  predict -  ('LOC',) grade:  Y\n",
      "506  :  actual -  ('HUM',)  predict -  ('HUM',) grade:  Y\n",
      "507  :  actual -  ('HUM',)  predict -  ('LOC',) grade:  N\n",
      "508  :  actual -  ('NUM',)  predict -  ('ENTY',) grade:  N\n",
      "509  :  actual -  ('NUM',)  predict -  ('NUM',) grade:  Y\n",
      "510  :  actual -  ('ENTY',)  predict -  ('HUM',) grade:  N\n",
      "511  :  actual -  ('LOC',)  predict -  ('ENTY',) grade:  N\n",
      "512  :  actual -  ('LOC',)  predict -  ('LOC',) grade:  Y\n",
      "513  :  actual -  ('DESC',)  predict -  ('NUM',) grade:  N\n",
      "514  :  actual -  ('DESC',)  predict -  ('DESC',) grade:  Y\n",
      "515  :  actual -  ('HUM',)  predict -  ('HUM',) grade:  Y\n",
      "516  :  actual -  ('NUM',)  predict -  ('NUM',) grade:  Y\n",
      "517  :  actual -  ('ENTY',)  predict -  ('DESC',) grade:  N\n",
      "518  :  actual -  ('DESC',)  predict -  ('DESC',) grade:  Y\n",
      "519  :  actual -  ('LOC',)  predict -  ('ENTY',) grade:  N\n",
      "520  :  actual -  ('DESC',)  predict -  ('DESC',) grade:  Y\n",
      "521  :  actual -  ('ENTY',)  predict -  ('HUM',) grade:  N\n",
      "522  :  actual -  ('LOC',)  predict -  ('ENTY',) grade:  N\n",
      "523  :  actual -  ('LOC',)  predict -  ('LOC',) grade:  Y\n",
      "524  :  actual -  ('DESC',)  predict -  ('ENTY',) grade:  N\n",
      "525  :  actual -  ('LOC',)  predict -  ('ENTY',) grade:  N\n",
      "526  :  actual -  ('LOC',)  predict -  ('LOC',) grade:  Y\n",
      "527  :  actual -  ('ENTY',)  predict -  ('NUM',) grade:  N\n",
      "528  :  actual -  ('LOC',)  predict -  ('LOC',) grade:  Y\n",
      "529  :  actual -  ('ENTY',)  predict -  ('ENTY',) grade:  Y\n",
      "530  :  actual -  ('NUM',)  predict -  ('DESC',) grade:  N\n",
      "531  :  actual -  ('ENTY',)  predict -  ('DESC',) grade:  N\n",
      "532  :  actual -  ('HUM',)  predict -  ('HUM',) grade:  Y\n",
      "533  :  actual -  ('ENTY',)  predict -  ('ENTY',) grade:  Y\n",
      "534  :  actual -  ('NUM',)  predict -  ('NUM',) grade:  Y\n",
      "535  :  actual -  ('LOC',)  predict -  ('ENTY',) grade:  N\n",
      "536  :  actual -  ('DESC',)  predict -  ('ENTY',) grade:  N\n",
      "537  :  actual -  ('NUM',)  predict -  ('LOC',) grade:  N\n",
      "538  :  actual -  ('DESC',)  predict -  ('HUM',) grade:  N\n",
      "539  :  actual -  ('ENTY',)  predict -  ('LOC',) grade:  N\n",
      "540  :  actual -  ('NUM',)  predict -  ('NUM',) grade:  Y\n",
      "541  :  actual -  ('HUM',)  predict -  ('HUM',) grade:  Y\n",
      "542  :  actual -  ('LOC',)  predict -  ('ENTY',) grade:  N\n",
      "543  :  actual -  ('LOC',)  predict -  ('LOC',) grade:  Y\n",
      "544  :  actual -  ('LOC',)  predict -  ('ENTY',) grade:  N\n",
      "545  :  actual -  ('NUM',)  predict -  ('NUM',) grade:  Y\n",
      "546  :  actual -  ('ENTY',)  predict -  ('LOC',) grade:  N\n",
      "547  :  actual -  ('LOC',)  predict -  ('HUM',) grade:  N\n",
      "548  :  actual -  ('NUM',)  predict -  ('NUM',) grade:  Y\n",
      "549  :  actual -  ('DESC',)  predict -  ('DESC',) grade:  Y\n",
      "550  :  actual -  ('DESC',)  predict -  ('DESC',) grade:  Y\n",
      "551  :  actual -  ('DESC',)  predict -  ('DESC',) grade:  Y\n",
      "552  :  actual -  ('NUM',)  predict -  ('NUM',) grade:  Y\n",
      "553  :  actual -  ('NUM',)  predict -  ('NUM',) grade:  Y\n",
      "554  :  actual -  ('HUM',)  predict -  ('HUM',) grade:  Y\n",
      "555  :  actual -  ('HUM',)  predict -  ('ENTY',) grade:  N\n",
      "556  :  actual -  ('HUM',)  predict -  ('HUM',) grade:  Y\n",
      "557  :  actual -  ('DESC',)  predict -  ('DESC',) grade:  Y\n",
      "558  :  actual -  ('LOC',)  predict -  ('LOC',) grade:  Y\n",
      "559  :  actual -  ('ENTY',)  predict -  ('ENTY',) grade:  Y\n",
      "560  :  actual -  ('HUM',)  predict -  ('HUM',) grade:  Y\n",
      "561  :  actual -  ('ENTY',)  predict -  ('ENTY',) grade:  Y\n",
      "562  :  actual -  ('ENTY',)  predict -  ('ENTY',) grade:  Y\n",
      "563  :  actual -  ('DESC',)  predict -  ('DESC',) grade:  Y\n",
      "564  :  actual -  ('ENTY',)  predict -  ('LOC',) grade:  N\n",
      "565  :  actual -  ('LOC',)  predict -  ('HUM',) grade:  N\n",
      "566  :  actual -  ('HUM',)  predict -  ('LOC',) grade:  N\n",
      "567  :  actual -  ('DESC',)  predict -  ('DESC',) grade:  Y\n",
      "568  :  actual -  ('ENTY',)  predict -  ('ENTY',) grade:  Y\n",
      "569  :  actual -  ('ENTY',)  predict -  ('ABBR',) grade:  N\n",
      "570  :  actual -  ('ENTY',)  predict -  ('HUM',) grade:  N\n",
      "571  :  actual -  ('NUM',)  predict -  ('NUM',) grade:  Y\n",
      "572  :  actual -  ('NUM',)  predict -  ('ENTY',) grade:  N\n",
      "573  :  actual -  ('DESC',)  predict -  ('DESC',) grade:  Y\n",
      "574  :  actual -  ('ENTY',)  predict -  ('ENTY',) grade:  Y\n",
      "575  :  actual -  ('LOC',)  predict -  ('ENTY',) grade:  N\n"
     ]
    },
    {
     "name": "stdout",
     "output_type": "stream",
     "text": [
      "576  :  actual -  ('DESC',)  predict -  ('DESC',) grade:  Y\n",
      "577  :  actual -  ('HUM',)  predict -  ('HUM',) grade:  Y\n",
      "578  :  actual -  ('LOC',)  predict -  ('ENTY',) grade:  N\n",
      "579  :  actual -  ('DESC',)  predict -  ('DESC',) grade:  Y\n",
      "580  :  actual -  ('DESC',)  predict -  ('DESC',) grade:  Y\n",
      "581  :  actual -  ('HUM',)  predict -  ('NUM',) grade:  N\n",
      "582  :  actual -  ('HUM',)  predict -  ('HUM',) grade:  Y\n",
      "583  :  actual -  ('LOC',)  predict -  ('LOC',) grade:  Y\n",
      "584  :  actual -  ('LOC',)  predict -  ('ENTY',) grade:  N\n",
      "585  :  actual -  ('NUM',)  predict -  ('ENTY',) grade:  N\n",
      "586  :  actual -  ('LOC',)  predict -  ('LOC',) grade:  Y\n",
      "587  :  actual -  ('ENTY',)  predict -  ('HUM',) grade:  N\n",
      "588  :  actual -  ('DESC',)  predict -  ('DESC',) grade:  Y\n",
      "589  :  actual -  ('LOC',)  predict -  ('LOC',) grade:  Y\n",
      "590  :  actual -  ('DESC',)  predict -  ('DESC',) grade:  Y\n",
      "591  :  actual -  ('LOC',)  predict -  ('DESC',) grade:  N\n",
      "592  :  actual -  ('HUM',)  predict -  ('HUM',) grade:  Y\n",
      "593  :  actual -  ('LOC',)  predict -  ('LOC',) grade:  Y\n",
      "594  :  actual -  ('HUM',)  predict -  ('HUM',) grade:  Y\n",
      "595  :  actual -  ('NUM',)  predict -  ('NUM',) grade:  Y\n",
      "596  :  actual -  ('ENTY',)  predict -  ('ENTY',) grade:  Y\n",
      "597  :  actual -  ('NUM',)  predict -  ('NUM',) grade:  Y\n",
      "598  :  actual -  ('ABBR',)  predict -  ('ENTY',) grade:  N\n",
      "599  :  actual -  ('DESC',)  predict -  ('DESC',) grade:  Y\n",
      "600  :  actual -  ('DESC',)  predict -  ('DESC',) grade:  Y\n",
      "601  :  actual -  ('ENTY',)  predict -  ('LOC',) grade:  N\n",
      "602  :  actual -  ('NUM',)  predict -  ('NUM',) grade:  Y\n",
      "603  :  actual -  ('ENTY',)  predict -  ('ENTY',) grade:  Y\n",
      "604  :  actual -  ('NUM',)  predict -  ('NUM',) grade:  Y\n",
      "605  :  actual -  ('DESC',)  predict -  ('DESC',) grade:  Y\n",
      "606  :  actual -  ('NUM',)  predict -  ('NUM',) grade:  Y\n",
      "607  :  actual -  ('NUM',)  predict -  ('NUM',) grade:  Y\n",
      "608  :  actual -  ('DESC',)  predict -  ('ENTY',) grade:  N\n",
      "609  :  actual -  ('DESC',)  predict -  ('ENTY',) grade:  N\n",
      "610  :  actual -  ('LOC',)  predict -  ('LOC',) grade:  Y\n",
      "611  :  actual -  ('DESC',)  predict -  ('DESC',) grade:  Y\n",
      "612  :  actual -  ('ENTY',)  predict -  ('ENTY',) grade:  Y\n",
      "613  :  actual -  ('HUM',)  predict -  ('HUM',) grade:  Y\n",
      "614  :  actual -  ('HUM',)  predict -  ('ENTY',) grade:  N\n",
      "615  :  actual -  ('DESC',)  predict -  ('DESC',) grade:  Y\n",
      "616  :  actual -  ('HUM',)  predict -  ('LOC',) grade:  N\n",
      "617  :  actual -  ('HUM',)  predict -  ('HUM',) grade:  Y\n",
      "618  :  actual -  ('ENTY',)  predict -  ('DESC',) grade:  N\n",
      "619  :  actual -  ('LOC',)  predict -  ('LOC',) grade:  Y\n",
      "620  :  actual -  ('HUM',)  predict -  ('HUM',) grade:  Y\n",
      "621  :  actual -  ('ENTY',)  predict -  ('DESC',) grade:  N\n",
      "622  :  actual -  ('LOC',)  predict -  ('HUM',) grade:  N\n",
      "623  :  actual -  ('HUM',)  predict -  ('LOC',) grade:  N\n",
      "624  :  actual -  ('ENTY',)  predict -  ('HUM',) grade:  N\n",
      "625  :  actual -  ('HUM',)  predict -  ('HUM',) grade:  Y\n",
      "626  :  actual -  ('ENTY',)  predict -  ('HUM',) grade:  N\n",
      "627  :  actual -  ('ENTY',)  predict -  ('ENTY',) grade:  Y\n",
      "628  :  actual -  ('NUM',)  predict -  ('NUM',) grade:  Y\n",
      "629  :  actual -  ('LOC',)  predict -  ('LOC',) grade:  Y\n",
      "630  :  actual -  ('LOC',)  predict -  ('DESC',) grade:  N\n",
      "631  :  actual -  ('ENTY',)  predict -  ('ENTY',) grade:  Y\n",
      "632  :  actual -  ('DESC',)  predict -  ('DESC',) grade:  Y\n",
      "633  :  actual -  ('LOC',)  predict -  ('ENTY',) grade:  N\n",
      "634  :  actual -  ('NUM',)  predict -  ('NUM',) grade:  Y\n",
      "635  :  actual -  ('HUM',)  predict -  ('HUM',) grade:  Y\n",
      "636  :  actual -  ('ENTY',)  predict -  ('ENTY',) grade:  Y\n",
      "637  :  actual -  ('HUM',)  predict -  ('HUM',) grade:  Y\n",
      "638  :  actual -  ('ENTY',)  predict -  ('ENTY',) grade:  Y\n",
      "639  :  actual -  ('NUM',)  predict -  ('ENTY',) grade:  N\n",
      "640  :  actual -  ('HUM',)  predict -  ('LOC',) grade:  N\n",
      "641  :  actual -  ('ENTY',)  predict -  ('ENTY',) grade:  Y\n",
      "642  :  actual -  ('DESC',)  predict -  ('DESC',) grade:  Y\n",
      "643  :  actual -  ('ENTY',)  predict -  ('DESC',) grade:  N\n",
      "644  :  actual -  ('ENTY',)  predict -  ('LOC',) grade:  N\n",
      "645  :  actual -  ('ENTY',)  predict -  ('ENTY',) grade:  Y\n",
      "646  :  actual -  ('LOC',)  predict -  ('LOC',) grade:  Y\n",
      "647  :  actual -  ('LOC',)  predict -  ('ENTY',) grade:  N\n",
      "648  :  actual -  ('LOC',)  predict -  ('HUM',) grade:  N\n",
      "649  :  actual -  ('ENTY',)  predict -  ('LOC',) grade:  N\n",
      "650  :  actual -  ('ENTY',)  predict -  ('DESC',) grade:  N\n",
      "651  :  actual -  ('NUM',)  predict -  ('NUM',) grade:  Y\n",
      "652  :  actual -  ('LOC',)  predict -  ('ENTY',) grade:  N\n",
      "653  :  actual -  ('HUM',)  predict -  ('HUM',) grade:  Y\n",
      "654  :  actual -  ('ENTY',)  predict -  ('DESC',) grade:  N\n",
      "655  :  actual -  ('DESC',)  predict -  ('DESC',) grade:  Y\n",
      "656  :  actual -  ('NUM',)  predict -  ('NUM',) grade:  Y\n",
      "657  :  actual -  ('DESC',)  predict -  ('ENTY',) grade:  N\n",
      "658  :  actual -  ('DESC',)  predict -  ('DESC',) grade:  Y\n",
      "659  :  actual -  ('LOC',)  predict -  ('ENTY',) grade:  N\n",
      "660  :  actual -  ('NUM',)  predict -  ('NUM',) grade:  Y\n",
      "661  :  actual -  ('DESC',)  predict -  ('DESC',) grade:  Y\n",
      "662  :  actual -  ('NUM',)  predict -  ('NUM',) grade:  Y\n",
      "663  :  actual -  ('ENTY',)  predict -  ('HUM',) grade:  N\n",
      "664  :  actual -  ('DESC',)  predict -  ('ENTY',) grade:  N\n",
      "665  :  actual -  ('DESC',)  predict -  ('ENTY',) grade:  N\n",
      "666  :  actual -  ('NUM',)  predict -  ('ENTY',) grade:  N\n",
      "667  :  actual -  ('HUM',)  predict -  ('HUM',) grade:  Y\n",
      "668  :  actual -  ('NUM',)  predict -  ('ENTY',) grade:  N\n",
      "669  :  actual -  ('HUM',)  predict -  ('ENTY',) grade:  N\n",
      "670  :  actual -  ('LOC',)  predict -  ('HUM',) grade:  N\n",
      "671  :  actual -  ('DESC',)  predict -  ('NUM',) grade:  N\n",
      "672  :  actual -  ('DESC',)  predict -  ('DESC',) grade:  Y\n",
      "673  :  actual -  ('ENTY',)  predict -  ('HUM',) grade:  N\n",
      "674  :  actual -  ('LOC',)  predict -  ('LOC',) grade:  Y\n",
      "675  :  actual -  ('LOC',)  predict -  ('LOC',) grade:  Y\n",
      "676  :  actual -  ('ENTY',)  predict -  ('DESC',) grade:  N\n",
      "677  :  actual -  ('HUM',)  predict -  ('LOC',) grade:  N\n",
      "678  :  actual -  ('NUM',)  predict -  ('ENTY',) grade:  N\n",
      "679  :  actual -  ('NUM',)  predict -  ('NUM',) grade:  Y\n",
      "680  :  actual -  ('NUM',)  predict -  ('NUM',) grade:  Y\n",
      "681  :  actual -  ('ENTY',)  predict -  ('HUM',) grade:  N\n",
      "682  :  actual -  ('LOC',)  predict -  ('LOC',) grade:  Y\n",
      "683  :  actual -  ('ENTY',)  predict -  ('ENTY',) grade:  Y\n",
      "684  :  actual -  ('ENTY',)  predict -  ('ENTY',) grade:  Y\n",
      "685  :  actual -  ('NUM',)  predict -  ('NUM',) grade:  Y\n",
      "686  :  actual -  ('DESC',)  predict -  ('ENTY',) grade:  N\n",
      "687  :  actual -  ('LOC',)  predict -  ('LOC',) grade:  Y\n",
      "688  :  actual -  ('ENTY',)  predict -  ('LOC',) grade:  N\n",
      "689  :  actual -  ('NUM',)  predict -  ('NUM',) grade:  Y\n",
      "690  :  actual -  ('HUM',)  predict -  ('HUM',) grade:  Y\n",
      "691  :  actual -  ('LOC',)  predict -  ('LOC',) grade:  Y\n",
      "692  :  actual -  ('ENTY',)  predict -  ('HUM',) grade:  N\n",
      "693  :  actual -  ('LOC',)  predict -  ('LOC',) grade:  Y\n",
      "694  :  actual -  ('DESC',)  predict -  ('DESC',) grade:  Y\n",
      "695  :  actual -  ('LOC',)  predict -  ('LOC',) grade:  Y\n",
      "696  :  actual -  ('LOC',)  predict -  ('ENTY',) grade:  N\n",
      "697  :  actual -  ('ENTY',)  predict -  ('ENTY',) grade:  Y\n",
      "698  :  actual -  ('HUM',)  predict -  ('HUM',) grade:  Y\n",
      "699  :  actual -  ('ENTY',)  predict -  ('ENTY',) grade:  Y\n",
      "700  :  actual -  ('HUM',)  predict -  ('HUM',) grade:  Y\n",
      "701  :  actual -  ('LOC',)  predict -  ('ENTY',) grade:  N\n",
      "702  :  actual -  ('ENTY',)  predict -  ('ENTY',) grade:  Y\n",
      "703  :  actual -  ('DESC',)  predict -  ('DESC',) grade:  Y\n",
      "704  :  actual -  ('DESC',)  predict -  ('ENTY',) grade:  N\n",
      "705  :  actual -  ('DESC',)  predict -  ('DESC',) grade:  Y\n",
      "706  :  actual -  ('HUM',)  predict -  ('ENTY',) grade:  N\n",
      "707  :  actual -  ('NUM',)  predict -  ('NUM',) grade:  Y\n",
      "708  :  actual -  ('DESC',)  predict -  ('ENTY',) grade:  N\n",
      "709  :  actual -  ('DESC',)  predict -  ('DESC',) grade:  Y\n",
      "710  :  actual -  ('LOC',)  predict -  ('LOC',) grade:  Y\n",
      "711  :  actual -  ('LOC',)  predict -  ('LOC',) grade:  Y\n",
      "712  :  actual -  ('DESC',)  predict -  ('DESC',) grade:  Y\n",
      "713  :  actual -  ('ENTY',)  predict -  ('ENTY',) grade:  Y\n",
      "714  :  actual -  ('ABBR',)  predict -  ('ENTY',) grade:  N\n",
      "715  :  actual -  ('NUM',)  predict -  ('ENTY',) grade:  N\n",
      "716  :  actual -  ('ENTY',)  predict -  ('LOC',) grade:  N\n",
      "717  :  actual -  ('LOC',)  predict -  ('LOC',) grade:  Y\n"
     ]
    },
    {
     "name": "stdout",
     "output_type": "stream",
     "text": [
      "718  :  actual -  ('NUM',)  predict -  ('NUM',) grade:  Y\n",
      "719  :  actual -  ('HUM',)  predict -  ('ENTY',) grade:  N\n",
      "720  :  actual -  ('ENTY',)  predict -  ('ENTY',) grade:  Y\n",
      "721  :  actual -  ('DESC',)  predict -  ('ENTY',) grade:  N\n",
      "722  :  actual -  ('ENTY',)  predict -  ('ENTY',) grade:  Y\n",
      "723  :  actual -  ('ENTY',)  predict -  ('HUM',) grade:  N\n",
      "724  :  actual -  ('LOC',)  predict -  ('HUM',) grade:  N\n",
      "725  :  actual -  ('HUM',)  predict -  ('ENTY',) grade:  N\n",
      "726  :  actual -  ('HUM',)  predict -  ('HUM',) grade:  Y\n",
      "727  :  actual -  ('ENTY',)  predict -  ('ENTY',) grade:  Y\n",
      "728  :  actual -  ('ENTY',)  predict -  ('LOC',) grade:  N\n",
      "729  :  actual -  ('LOC',)  predict -  ('DESC',) grade:  N\n",
      "730  :  actual -  ('HUM',)  predict -  ('HUM',) grade:  Y\n",
      "731  :  actual -  ('DESC',)  predict -  ('NUM',) grade:  N\n",
      "732  :  actual -  ('HUM',)  predict -  ('HUM',) grade:  Y\n",
      "733  :  actual -  ('DESC',)  predict -  ('ABBR',) grade:  N\n",
      "734  :  actual -  ('DESC',)  predict -  ('DESC',) grade:  Y\n",
      "735  :  actual -  ('DESC',)  predict -  ('DESC',) grade:  Y\n",
      "736  :  actual -  ('DESC',)  predict -  ('DESC',) grade:  Y\n",
      "737  :  actual -  ('HUM',)  predict -  ('ENTY',) grade:  N\n",
      "738  :  actual -  ('HUM',)  predict -  ('HUM',) grade:  Y\n",
      "739  :  actual -  ('DESC',)  predict -  ('ENTY',) grade:  N\n",
      "740  :  actual -  ('DESC',)  predict -  ('ENTY',) grade:  N\n",
      "741  :  actual -  ('DESC',)  predict -  ('DESC',) grade:  Y\n",
      "742  :  actual -  ('LOC',)  predict -  ('LOC',) grade:  Y\n",
      "743  :  actual -  ('DESC',)  predict -  ('DESC',) grade:  Y\n",
      "744  :  actual -  ('HUM',)  predict -  ('ENTY',) grade:  N\n",
      "745  :  actual -  ('ENTY',)  predict -  ('LOC',) grade:  N\n",
      "746  :  actual -  ('NUM',)  predict -  ('NUM',) grade:  Y\n",
      "747  :  actual -  ('ENTY',)  predict -  ('DESC',) grade:  N\n",
      "748  :  actual -  ('NUM',)  predict -  ('NUM',) grade:  Y\n",
      "749  :  actual -  ('HUM',)  predict -  ('HUM',) grade:  Y\n",
      "750  :  actual -  ('DESC',)  predict -  ('ENTY',) grade:  N\n",
      "751  :  actual -  ('ENTY',)  predict -  ('LOC',) grade:  N\n",
      "752  :  actual -  ('HUM',)  predict -  ('ENTY',) grade:  N\n",
      "753  :  actual -  ('DESC',)  predict -  ('DESC',) grade:  Y\n",
      "754  :  actual -  ('LOC',)  predict -  ('LOC',) grade:  Y\n",
      "755  :  actual -  ('DESC',)  predict -  ('ENTY',) grade:  N\n",
      "756  :  actual -  ('NUM',)  predict -  ('NUM',) grade:  Y\n",
      "757  :  actual -  ('ENTY',)  predict -  ('ENTY',) grade:  Y\n",
      "758  :  actual -  ('ENTY',)  predict -  ('ENTY',) grade:  Y\n",
      "759  :  actual -  ('HUM',)  predict -  ('HUM',) grade:  Y\n",
      "760  :  actual -  ('ENTY',)  predict -  ('ENTY',) grade:  Y\n",
      "761  :  actual -  ('HUM',)  predict -  ('ENTY',) grade:  N\n",
      "762  :  actual -  ('NUM',)  predict -  ('ENTY',) grade:  N\n",
      "763  :  actual -  ('HUM',)  predict -  ('ENTY',) grade:  N\n",
      "764  :  actual -  ('LOC',)  predict -  ('HUM',) grade:  N\n",
      "765  :  actual -  ('HUM',)  predict -  ('HUM',) grade:  Y\n",
      "766  :  actual -  ('ENTY',)  predict -  ('ENTY',) grade:  Y\n",
      "767  :  actual -  ('LOC',)  predict -  ('LOC',) grade:  Y\n",
      "768  :  actual -  ('ENTY',)  predict -  ('HUM',) grade:  N\n",
      "769  :  actual -  ('LOC',)  predict -  ('ENTY',) grade:  N\n",
      "770  :  actual -  ('ENTY',)  predict -  ('HUM',) grade:  N\n",
      "771  :  actual -  ('HUM',)  predict -  ('HUM',) grade:  Y\n",
      "772  :  actual -  ('ENTY',)  predict -  ('LOC',) grade:  N\n",
      "773  :  actual -  ('HUM',)  predict -  ('HUM',) grade:  Y\n",
      "774  :  actual -  ('DESC',)  predict -  ('DESC',) grade:  Y\n",
      "775  :  actual -  ('ENTY',)  predict -  ('ENTY',) grade:  Y\n",
      "776  :  actual -  ('HUM',)  predict -  ('LOC',) grade:  N\n",
      "777  :  actual -  ('NUM',)  predict -  ('NUM',) grade:  Y\n",
      "778  :  actual -  ('NUM',)  predict -  ('NUM',) grade:  Y\n",
      "779  :  actual -  ('ENTY',)  predict -  ('DESC',) grade:  N\n",
      "780  :  actual -  ('DESC',)  predict -  ('DESC',) grade:  Y\n",
      "781  :  actual -  ('LOC',)  predict -  ('LOC',) grade:  Y\n",
      "782  :  actual -  ('LOC',)  predict -  ('ENTY',) grade:  N\n",
      "783  :  actual -  ('LOC',)  predict -  ('ENTY',) grade:  N\n",
      "784  :  actual -  ('HUM',)  predict -  ('HUM',) grade:  Y\n",
      "785  :  actual -  ('DESC',)  predict -  ('ENTY',) grade:  N\n",
      "786  :  actual -  ('DESC',)  predict -  ('ENTY',) grade:  N\n",
      "787  :  actual -  ('ENTY',)  predict -  ('HUM',) grade:  N\n",
      "788  :  actual -  ('ENTY',)  predict -  ('ENTY',) grade:  Y\n",
      "789  :  actual -  ('DESC',)  predict -  ('ENTY',) grade:  N\n",
      "790  :  actual -  ('ENTY',)  predict -  ('ENTY',) grade:  Y\n",
      "791  :  actual -  ('DESC',)  predict -  ('NUM',) grade:  N\n",
      "792  :  actual -  ('LOC',)  predict -  ('NUM',) grade:  N\n",
      "793  :  actual -  ('ENTY',)  predict -  ('ENTY',) grade:  Y\n",
      "794  :  actual -  ('DESC',)  predict -  ('DESC',) grade:  Y\n",
      "795  :  actual -  ('HUM',)  predict -  ('HUM',) grade:  Y\n",
      "796  :  actual -  ('NUM',)  predict -  ('NUM',) grade:  Y\n",
      "797  :  actual -  ('DESC',)  predict -  ('DESC',) grade:  Y\n",
      "798  :  actual -  ('HUM',)  predict -  ('HUM',) grade:  Y\n",
      "799  :  actual -  ('NUM',)  predict -  ('NUM',) grade:  Y\n",
      "800  :  actual -  ('ENTY',)  predict -  ('ENTY',) grade:  Y\n",
      "801  :  actual -  ('ENTY',)  predict -  ('ENTY',) grade:  Y\n",
      "802  :  actual -  ('HUM',)  predict -  ('HUM',) grade:  Y\n",
      "803  :  actual -  ('HUM',)  predict -  ('HUM',) grade:  Y\n",
      "804  :  actual -  ('HUM',)  predict -  ('HUM',) grade:  Y\n",
      "805  :  actual -  ('DESC',)  predict -  ('DESC',) grade:  Y\n",
      "806  :  actual -  ('LOC',)  predict -  ('ENTY',) grade:  N\n",
      "807  :  actual -  ('HUM',)  predict -  ('HUM',) grade:  Y\n",
      "808  :  actual -  ('HUM',)  predict -  ('HUM',) grade:  Y\n",
      "809  :  actual -  ('HUM',)  predict -  ('HUM',) grade:  Y\n",
      "810  :  actual -  ('ENTY',)  predict -  ('DESC',) grade:  N\n",
      "811  :  actual -  ('NUM',)  predict -  ('LOC',) grade:  N\n",
      "812  :  actual -  ('NUM',)  predict -  ('NUM',) grade:  Y\n",
      "813  :  actual -  ('DESC',)  predict -  ('DESC',) grade:  Y\n",
      "814  :  actual -  ('HUM',)  predict -  ('HUM',) grade:  Y\n",
      "815  :  actual -  ('DESC',)  predict -  ('DESC',) grade:  Y\n",
      "816  :  actual -  ('DESC',)  predict -  ('DESC',) grade:  Y\n",
      "817  :  actual -  ('HUM',)  predict -  ('HUM',) grade:  Y\n",
      "818  :  actual -  ('HUM',)  predict -  ('LOC',) grade:  N\n",
      "819  :  actual -  ('ENTY',)  predict -  ('ENTY',) grade:  Y\n",
      "820  :  actual -  ('ENTY',)  predict -  ('ENTY',) grade:  Y\n",
      "821  :  actual -  ('ENTY',)  predict -  ('HUM',) grade:  N\n",
      "822  :  actual -  ('ENTY',)  predict -  ('DESC',) grade:  N\n",
      "823  :  actual -  ('HUM',)  predict -  ('HUM',) grade:  Y\n",
      "824  :  actual -  ('DESC',)  predict -  ('DESC',) grade:  Y\n",
      "825  :  actual -  ('ENTY',)  predict -  ('DESC',) grade:  N\n",
      "826  :  actual -  ('DESC',)  predict -  ('DESC',) grade:  Y\n",
      "827  :  actual -  ('LOC',)  predict -  ('LOC',) grade:  Y\n",
      "828  :  actual -  ('DESC',)  predict -  ('DESC',) grade:  Y\n",
      "829  :  actual -  ('ENTY',)  predict -  ('ENTY',) grade:  Y\n",
      "830  :  actual -  ('NUM',)  predict -  ('DESC',) grade:  N\n",
      "831  :  actual -  ('HUM',)  predict -  ('ENTY',) grade:  N\n",
      "832  :  actual -  ('DESC',)  predict -  ('ENTY',) grade:  N\n",
      "833  :  actual -  ('NUM',)  predict -  ('HUM',) grade:  N\n",
      "834  :  actual -  ('HUM',)  predict -  ('HUM',) grade:  Y\n",
      "835  :  actual -  ('HUM',)  predict -  ('HUM',) grade:  Y\n",
      "836  :  actual -  ('HUM',)  predict -  ('HUM',) grade:  Y\n",
      "837  :  actual -  ('DESC',)  predict -  ('DESC',) grade:  Y\n",
      "838  :  actual -  ('LOC',)  predict -  ('LOC',) grade:  Y\n",
      "839  :  actual -  ('NUM',)  predict -  ('NUM',) grade:  Y\n",
      "840  :  actual -  ('NUM',)  predict -  ('NUM',) grade:  Y\n",
      "841  :  actual -  ('HUM',)  predict -  ('DESC',) grade:  N\n",
      "842  :  actual -  ('NUM',)  predict -  ('ENTY',) grade:  N\n",
      "843  :  actual -  ('DESC',)  predict -  ('DESC',) grade:  Y\n",
      "844  :  actual -  ('ENTY',)  predict -  ('DESC',) grade:  N\n",
      "845  :  actual -  ('HUM',)  predict -  ('ENTY',) grade:  N\n",
      "846  :  actual -  ('LOC',)  predict -  ('ENTY',) grade:  N\n",
      "847  :  actual -  ('ENTY',)  predict -  ('HUM',) grade:  N\n",
      "848  :  actual -  ('ENTY',)  predict -  ('ENTY',) grade:  Y\n",
      "849  :  actual -  ('HUM',)  predict -  ('HUM',) grade:  Y\n",
      "850  :  actual -  ('DESC',)  predict -  ('ENTY',) grade:  N\n",
      "851  :  actual -  ('DESC',)  predict -  ('DESC',) grade:  Y\n",
      "852  :  actual -  ('HUM',)  predict -  ('HUM',) grade:  Y\n",
      "853  :  actual -  ('LOC',)  predict -  ('LOC',) grade:  Y\n",
      "854  :  actual -  ('NUM',)  predict -  ('NUM',) grade:  Y\n",
      "855  :  actual -  ('DESC',)  predict -  ('DESC',) grade:  Y\n",
      "856  :  actual -  ('HUM',)  predict -  ('HUM',) grade:  Y\n",
      "857  :  actual -  ('NUM',)  predict -  ('NUM',) grade:  Y\n"
     ]
    },
    {
     "name": "stdout",
     "output_type": "stream",
     "text": [
      "858  :  actual -  ('NUM',)  predict -  ('ENTY',) grade:  N\n",
      "859  :  actual -  ('NUM',)  predict -  ('NUM',) grade:  Y\n",
      "860  :  actual -  ('DESC',)  predict -  ('DESC',) grade:  Y\n",
      "861  :  actual -  ('HUM',)  predict -  ('HUM',) grade:  Y\n",
      "862  :  actual -  ('HUM',)  predict -  ('ENTY',) grade:  N\n",
      "863  :  actual -  ('ABBR',)  predict -  ('ENTY',) grade:  N\n",
      "864  :  actual -  ('DESC',)  predict -  ('DESC',) grade:  Y\n",
      "865  :  actual -  ('DESC',)  predict -  ('DESC',) grade:  Y\n",
      "866  :  actual -  ('LOC',)  predict -  ('LOC',) grade:  Y\n",
      "867  :  actual -  ('ENTY',)  predict -  ('HUM',) grade:  N\n",
      "868  :  actual -  ('DESC',)  predict -  ('LOC',) grade:  N\n",
      "869  :  actual -  ('HUM',)  predict -  ('ENTY',) grade:  N\n",
      "870  :  actual -  ('NUM',)  predict -  ('NUM',) grade:  Y\n",
      "871  :  actual -  ('ABBR',)  predict -  ('ABBR',) grade:  Y\n",
      "872  :  actual -  ('LOC',)  predict -  ('LOC',) grade:  Y\n",
      "873  :  actual -  ('HUM',)  predict -  ('ENTY',) grade:  N\n",
      "874  :  actual -  ('DESC',)  predict -  ('DESC',) grade:  Y\n",
      "875  :  actual -  ('ENTY',)  predict -  ('LOC',) grade:  N\n",
      "876  :  actual -  ('HUM',)  predict -  ('HUM',) grade:  Y\n",
      "877  :  actual -  ('DESC',)  predict -  ('DESC',) grade:  Y\n",
      "878  :  actual -  ('ENTY',)  predict -  ('ENTY',) grade:  Y\n",
      "879  :  actual -  ('HUM',)  predict -  ('HUM',) grade:  Y\n",
      "880  :  actual -  ('LOC',)  predict -  ('HUM',) grade:  N\n",
      "881  :  actual -  ('ENTY',)  predict -  ('LOC',) grade:  N\n",
      "882  :  actual -  ('ENTY',)  predict -  ('ENTY',) grade:  Y\n",
      "883  :  actual -  ('NUM',)  predict -  ('ENTY',) grade:  N\n",
      "884  :  actual -  ('DESC',)  predict -  ('ENTY',) grade:  N\n",
      "885  :  actual -  ('HUM',)  predict -  ('HUM',) grade:  Y\n",
      "886  :  actual -  ('LOC',)  predict -  ('LOC',) grade:  Y\n",
      "887  :  actual -  ('NUM',)  predict -  ('ENTY',) grade:  N\n",
      "888  :  actual -  ('ENTY',)  predict -  ('ENTY',) grade:  Y\n",
      "889  :  actual -  ('HUM',)  predict -  ('HUM',) grade:  Y\n",
      "890  :  actual -  ('HUM',)  predict -  ('HUM',) grade:  Y\n",
      "891  :  actual -  ('ENTY',)  predict -  ('DESC',) grade:  N\n",
      "892  :  actual -  ('HUM',)  predict -  ('HUM',) grade:  Y\n",
      "893  :  actual -  ('ENTY',)  predict -  ('ENTY',) grade:  Y\n",
      "894  :  actual -  ('NUM',)  predict -  ('ENTY',) grade:  N\n",
      "895  :  actual -  ('DESC',)  predict -  ('DESC',) grade:  Y\n",
      "896  :  actual -  ('LOC',)  predict -  ('ENTY',) grade:  N\n",
      "897  :  actual -  ('DESC',)  predict -  ('DESC',) grade:  Y\n",
      "898  :  actual -  ('HUM',)  predict -  ('LOC',) grade:  N\n",
      "899  :  actual -  ('DESC',)  predict -  ('ABBR',) grade:  N\n",
      "900  :  actual -  ('HUM',)  predict -  ('HUM',) grade:  Y\n",
      "901  :  actual -  ('LOC',)  predict -  ('LOC',) grade:  Y\n",
      "902  :  actual -  ('DESC',)  predict -  ('HUM',) grade:  N\n",
      "903  :  actual -  ('ENTY',)  predict -  ('ENTY',) grade:  Y\n",
      "904  :  actual -  ('DESC',)  predict -  ('DESC',) grade:  Y\n",
      "905  :  actual -  ('LOC',)  predict -  ('LOC',) grade:  Y\n",
      "906  :  actual -  ('HUM',)  predict -  ('ENTY',) grade:  N\n",
      "907  :  actual -  ('DESC',)  predict -  ('DESC',) grade:  Y\n",
      "908  :  actual -  ('DESC',)  predict -  ('DESC',) grade:  Y\n",
      "909  :  actual -  ('HUM',)  predict -  ('HUM',) grade:  Y\n",
      "910  :  actual -  ('LOC',)  predict -  ('ENTY',) grade:  N\n",
      "911  :  actual -  ('DESC',)  predict -  ('DESC',) grade:  Y\n",
      "912  :  actual -  ('HUM',)  predict -  ('LOC',) grade:  N\n",
      "913  :  actual -  ('LOC',)  predict -  ('LOC',) grade:  Y\n",
      "914  :  actual -  ('LOC',)  predict -  ('LOC',) grade:  Y\n",
      "915  :  actual -  ('DESC',)  predict -  ('DESC',) grade:  Y\n",
      "916  :  actual -  ('HUM',)  predict -  ('LOC',) grade:  N\n",
      "917  :  actual -  ('LOC',)  predict -  ('LOC',) grade:  Y\n",
      "918  :  actual -  ('ENTY',)  predict -  ('ENTY',) grade:  Y\n",
      "919  :  actual -  ('LOC',)  predict -  ('LOC',) grade:  Y\n",
      "920  :  actual -  ('LOC',)  predict -  ('LOC',) grade:  Y\n",
      "921  :  actual -  ('NUM',)  predict -  ('NUM',) grade:  Y\n",
      "922  :  actual -  ('DESC',)  predict -  ('DESC',) grade:  Y\n",
      "923  :  actual -  ('HUM',)  predict -  ('ENTY',) grade:  N\n",
      "924  :  actual -  ('LOC',)  predict -  ('LOC',) grade:  Y\n",
      "925  :  actual -  ('HUM',)  predict -  ('HUM',) grade:  Y\n",
      "926  :  actual -  ('DESC',)  predict -  ('DESC',) grade:  Y\n",
      "927  :  actual -  ('NUM',)  predict -  ('NUM',) grade:  Y\n",
      "928  :  actual -  ('NUM',)  predict -  ('NUM',) grade:  Y\n",
      "929  :  actual -  ('LOC',)  predict -  ('LOC',) grade:  Y\n",
      "930  :  actual -  ('HUM',)  predict -  ('HUM',) grade:  Y\n",
      "931  :  actual -  ('DESC',)  predict -  ('DESC',) grade:  Y\n",
      "932  :  actual -  ('NUM',)  predict -  ('ENTY',) grade:  N\n",
      "933  :  actual -  ('HUM',)  predict -  ('HUM',) grade:  Y\n",
      "934  :  actual -  ('DESC',)  predict -  ('ENTY',) grade:  N\n",
      "935  :  actual -  ('DESC',)  predict -  ('DESC',) grade:  Y\n",
      "936  :  actual -  ('DESC',)  predict -  ('DESC',) grade:  Y\n",
      "937  :  actual -  ('DESC',)  predict -  ('ENTY',) grade:  N\n",
      "938  :  actual -  ('NUM',)  predict -  ('NUM',) grade:  Y\n",
      "939  :  actual -  ('LOC',)  predict -  ('LOC',) grade:  Y\n",
      "940  :  actual -  ('NUM',)  predict -  ('LOC',) grade:  N\n",
      "941  :  actual -  ('NUM',)  predict -  ('NUM',) grade:  Y\n",
      "942  :  actual -  ('LOC',)  predict -  ('LOC',) grade:  Y\n",
      "943  :  actual -  ('HUM',)  predict -  ('HUM',) grade:  Y\n",
      "944  :  actual -  ('DESC',)  predict -  ('DESC',) grade:  Y\n",
      "945  :  actual -  ('ENTY',)  predict -  ('ENTY',) grade:  Y\n",
      "946  :  actual -  ('ENTY',)  predict -  ('LOC',) grade:  N\n",
      "947  :  actual -  ('NUM',)  predict -  ('ENTY',) grade:  N\n",
      "948  :  actual -  ('ENTY',)  predict -  ('HUM',) grade:  N\n",
      "949  :  actual -  ('ENTY',)  predict -  ('ENTY',) grade:  Y\n",
      "950  :  actual -  ('LOC',)  predict -  ('LOC',) grade:  Y\n",
      "951  :  actual -  ('HUM',)  predict -  ('DESC',) grade:  N\n",
      "952  :  actual -  ('ENTY',)  predict -  ('DESC',) grade:  N\n",
      "953  :  actual -  ('ENTY',)  predict -  ('ENTY',) grade:  Y\n",
      "954  :  actual -  ('ENTY',)  predict -  ('HUM',) grade:  N\n",
      "955  :  actual -  ('DESC',)  predict -  ('DESC',) grade:  Y\n",
      "956  :  actual -  ('ENTY',)  predict -  ('ENTY',) grade:  Y\n",
      "957  :  actual -  ('DESC',)  predict -  ('LOC',) grade:  N\n",
      "958  :  actual -  ('HUM',)  predict -  ('HUM',) grade:  Y\n",
      "959  :  actual -  ('LOC',)  predict -  ('LOC',) grade:  Y\n",
      "960  :  actual -  ('DESC',)  predict -  ('DESC',) grade:  Y\n",
      "961  :  actual -  ('LOC',)  predict -  ('DESC',) grade:  N\n",
      "962  :  actual -  ('HUM',)  predict -  ('HUM',) grade:  Y\n",
      "963  :  actual -  ('HUM',)  predict -  ('HUM',) grade:  Y\n",
      "964  :  actual -  ('NUM',)  predict -  ('NUM',) grade:  Y\n",
      "965  :  actual -  ('HUM',)  predict -  ('HUM',) grade:  Y\n",
      "966  :  actual -  ('ENTY',)  predict -  ('ENTY',) grade:  Y\n",
      "967  :  actual -  ('HUM',)  predict -  ('HUM',) grade:  Y\n",
      "968  :  actual -  ('NUM',)  predict -  ('NUM',) grade:  Y\n",
      "969  :  actual -  ('NUM',)  predict -  ('NUM',) grade:  Y\n",
      "970  :  actual -  ('LOC',)  predict -  ('LOC',) grade:  Y\n",
      "971  :  actual -  ('LOC',)  predict -  ('LOC',) grade:  Y\n",
      "972  :  actual -  ('ENTY',)  predict -  ('LOC',) grade:  N\n",
      "973  :  actual -  ('DESC',)  predict -  ('DESC',) grade:  Y\n",
      "974  :  actual -  ('DESC',)  predict -  ('DESC',) grade:  Y\n",
      "975  :  actual -  ('LOC',)  predict -  ('LOC',) grade:  Y\n",
      "976  :  actual -  ('ENTY',)  predict -  ('ENTY',) grade:  Y\n",
      "977  :  actual -  ('DESC',)  predict -  ('DESC',) grade:  Y\n",
      "978  :  actual -  ('DESC',)  predict -  ('DESC',) grade:  Y\n",
      "979  :  actual -  ('DESC',)  predict -  ('DESC',) grade:  Y\n",
      "980  :  actual -  ('LOC',)  predict -  ('LOC',) grade:  Y\n",
      "981  :  actual -  ('DESC',)  predict -  ('DESC',) grade:  Y\n",
      "982  :  actual -  ('ENTY',)  predict -  ('LOC',) grade:  N\n",
      "983  :  actual -  ('HUM',)  predict -  ('HUM',) grade:  Y\n",
      "984  :  actual -  ('DESC',)  predict -  ('LOC',) grade:  N\n",
      "985  :  actual -  ('DESC',)  predict -  ('DESC',) grade:  Y\n",
      "986  :  actual -  ('HUM',)  predict -  ('HUM',) grade:  Y\n",
      "987  :  actual -  ('DESC',)  predict -  ('DESC',) grade:  Y\n",
      "988  :  actual -  ('LOC',)  predict -  ('LOC',) grade:  Y\n",
      "989  :  actual -  ('LOC',)  predict -  ('LOC',) grade:  Y\n",
      "990  :  actual -  ('LOC',)  predict -  ('DESC',) grade:  N\n",
      "991  :  actual -  ('ENTY',)  predict -  ('ENTY',) grade:  Y\n",
      "992  :  actual -  ('HUM',)  predict -  ('HUM',) grade:  Y\n",
      "993  :  actual -  ('LOC',)  predict -  ('LOC',) grade:  Y\n",
      "994  :  actual -  ('NUM',)  predict -  ('NUM',) grade:  Y\n",
      "995  :  actual -  ('NUM',)  predict -  ('NUM',) grade:  Y\n",
      "996  :  actual -  ('LOC',)  predict -  ('ENTY',) grade:  N\n",
      "997  :  actual -  ('NUM',)  predict -  ('NUM',) grade:  Y\n"
     ]
    },
    {
     "name": "stdout",
     "output_type": "stream",
     "text": [
      "998  :  actual -  ('HUM',)  predict -  ('HUM',) grade:  Y\n",
      "999  :  actual -  ('LOC',)  predict -  ('ENTY',) grade:  N\n",
      "1000  :  actual -  ('ENTY',)  predict -  ('ENTY',) grade:  Y\n",
      "1001  :  actual -  ('DESC',)  predict -  ('ENTY',) grade:  N\n",
      "1002  :  actual -  ('ENTY',)  predict -  ('HUM',) grade:  N\n",
      "1003  :  actual -  ('ENTY',)  predict -  ('NUM',) grade:  N\n",
      "1004  :  actual -  ('HUM',)  predict -  ('HUM',) grade:  Y\n",
      "1005  :  actual -  ('ENTY',)  predict -  ('ENTY',) grade:  Y\n",
      "1006  :  actual -  ('HUM',)  predict -  ('DESC',) grade:  N\n",
      "1007  :  actual -  ('DESC',)  predict -  ('DESC',) grade:  Y\n",
      "1008  :  actual -  ('LOC',)  predict -  ('LOC',) grade:  Y\n",
      "1009  :  actual -  ('HUM',)  predict -  ('LOC',) grade:  N\n",
      "1010  :  actual -  ('HUM',)  predict -  ('HUM',) grade:  Y\n",
      "1011  :  actual -  ('NUM',)  predict -  ('DESC',) grade:  N\n",
      "1012  :  actual -  ('ENTY',)  predict -  ('LOC',) grade:  N\n",
      "1013  :  actual -  ('DESC',)  predict -  ('ENTY',) grade:  N\n",
      "1014  :  actual -  ('DESC',)  predict -  ('DESC',) grade:  Y\n",
      "1015  :  actual -  ('HUM',)  predict -  ('LOC',) grade:  N\n",
      "1016  :  actual -  ('ABBR',)  predict -  ('DESC',) grade:  N\n",
      "1017  :  actual -  ('ENTY',)  predict -  ('ENTY',) grade:  Y\n",
      "1018  :  actual -  ('ENTY',)  predict -  ('ENTY',) grade:  Y\n",
      "1019  :  actual -  ('ENTY',)  predict -  ('HUM',) grade:  N\n",
      "1020  :  actual -  ('ENTY',)  predict -  ('DESC',) grade:  N\n",
      "1021  :  actual -  ('DESC',)  predict -  ('ENTY',) grade:  N\n",
      "1022  :  actual -  ('HUM',)  predict -  ('ENTY',) grade:  N\n",
      "1023  :  actual -  ('LOC',)  predict -  ('LOC',) grade:  Y\n",
      "1024  :  actual -  ('ENTY',)  predict -  ('HUM',) grade:  N\n",
      "1025  :  actual -  ('HUM',)  predict -  ('ENTY',) grade:  N\n",
      "1026  :  actual -  ('DESC',)  predict -  ('DESC',) grade:  Y\n",
      "1027  :  actual -  ('DESC',)  predict -  ('DESC',) grade:  Y\n",
      "1028  :  actual -  ('HUM',)  predict -  ('HUM',) grade:  Y\n",
      "1029  :  actual -  ('DESC',)  predict -  ('ENTY',) grade:  N\n",
      "1030  :  actual -  ('LOC',)  predict -  ('LOC',) grade:  Y\n",
      "1031  :  actual -  ('NUM',)  predict -  ('ENTY',) grade:  N\n",
      "1032  :  actual -  ('HUM',)  predict -  ('HUM',) grade:  Y\n",
      "1033  :  actual -  ('LOC',)  predict -  ('ENTY',) grade:  N\n",
      "1034  :  actual -  ('HUM',)  predict -  ('HUM',) grade:  Y\n",
      "1035  :  actual -  ('DESC',)  predict -  ('LOC',) grade:  N\n",
      "1036  :  actual -  ('ENTY',)  predict -  ('ENTY',) grade:  Y\n",
      "1037  :  actual -  ('ENTY',)  predict -  ('ENTY',) grade:  Y\n",
      "1038  :  actual -  ('HUM',)  predict -  ('HUM',) grade:  Y\n",
      "1039  :  actual -  ('HUM',)  predict -  ('HUM',) grade:  Y\n",
      "1040  :  actual -  ('DESC',)  predict -  ('DESC',) grade:  Y\n",
      "1041  :  actual -  ('DESC',)  predict -  ('DESC',) grade:  Y\n",
      "1042  :  actual -  ('HUM',)  predict -  ('HUM',) grade:  Y\n",
      "1043  :  actual -  ('DESC',)  predict -  ('DESC',) grade:  Y\n",
      "1044  :  actual -  ('ABBR',)  predict -  ('DESC',) grade:  N\n",
      "1045  :  actual -  ('ENTY',)  predict -  ('ENTY',) grade:  Y\n",
      "1046  :  actual -  ('HUM',)  predict -  ('HUM',) grade:  Y\n",
      "1047  :  actual -  ('ABBR',)  predict -  ('ENTY',) grade:  N\n",
      "1048  :  actual -  ('ENTY',)  predict -  ('HUM',) grade:  N\n",
      "1049  :  actual -  ('ENTY',)  predict -  ('ENTY',) grade:  Y\n",
      "1050  :  actual -  ('HUM',)  predict -  ('ENTY',) grade:  N\n",
      "1051  :  actual -  ('LOC',)  predict -  ('LOC',) grade:  Y\n",
      "1052  :  actual -  ('LOC',)  predict -  ('LOC',) grade:  Y\n",
      "1053  :  actual -  ('DESC',)  predict -  ('DESC',) grade:  Y\n",
      "1054  :  actual -  ('NUM',)  predict -  ('ENTY',) grade:  N\n",
      "1055  :  actual -  ('ENTY',)  predict -  ('LOC',) grade:  N\n",
      "1056  :  actual -  ('HUM',)  predict -  ('HUM',) grade:  Y\n",
      "1057  :  actual -  ('ENTY',)  predict -  ('ENTY',) grade:  Y\n",
      "1058  :  actual -  ('ABBR',)  predict -  ('ENTY',) grade:  N\n",
      "1059  :  actual -  ('HUM',)  predict -  ('LOC',) grade:  N\n",
      "1060  :  actual -  ('DESC',)  predict -  ('DESC',) grade:  Y\n",
      "1061  :  actual -  ('ENTY',)  predict -  ('ENTY',) grade:  Y\n",
      "1062  :  actual -  ('LOC',)  predict -  ('LOC',) grade:  Y\n",
      "1063  :  actual -  ('NUM',)  predict -  ('NUM',) grade:  Y\n",
      "1064  :  actual -  ('HUM',)  predict -  ('ENTY',) grade:  N\n",
      "1065  :  actual -  ('DESC',)  predict -  ('DESC',) grade:  Y\n",
      "1066  :  actual -  ('ENTY',)  predict -  ('ENTY',) grade:  Y\n",
      "1067  :  actual -  ('HUM',)  predict -  ('ENTY',) grade:  N\n",
      "1068  :  actual -  ('NUM',)  predict -  ('NUM',) grade:  Y\n",
      "1069  :  actual -  ('HUM',)  predict -  ('HUM',) grade:  Y\n",
      "1070  :  actual -  ('LOC',)  predict -  ('LOC',) grade:  Y\n",
      "1071  :  actual -  ('NUM',)  predict -  ('DESC',) grade:  N\n",
      "1072  :  actual -  ('HUM',)  predict -  ('ABBR',) grade:  N\n",
      "1073  :  actual -  ('NUM',)  predict -  ('ENTY',) grade:  N\n",
      "1074  :  actual -  ('ENTY',)  predict -  ('ENTY',) grade:  Y\n",
      "1075  :  actual -  ('LOC',)  predict -  ('LOC',) grade:  Y\n",
      "1076  :  actual -  ('ABBR',)  predict -  ('NUM',) grade:  N\n",
      "1077  :  actual -  ('HUM',)  predict -  ('HUM',) grade:  Y\n",
      "1078  :  actual -  ('NUM',)  predict -  ('NUM',) grade:  Y\n",
      "1079  :  actual -  ('ENTY',)  predict -  ('DESC',) grade:  N\n",
      "1080  :  actual -  ('LOC',)  predict -  ('HUM',) grade:  N\n",
      "1081  :  actual -  ('DESC',)  predict -  ('ENTY',) grade:  N\n",
      "1082  :  actual -  ('NUM',)  predict -  ('NUM',) grade:  Y\n",
      "1083  :  actual -  ('HUM',)  predict -  ('HUM',) grade:  Y\n",
      "1084  :  actual -  ('ENTY',)  predict -  ('DESC',) grade:  N\n",
      "1085  :  actual -  ('ABBR',)  predict -  ('ENTY',) grade:  N\n",
      "1086  :  actual -  ('LOC',)  predict -  ('ENTY',) grade:  N\n",
      "1087  :  actual -  ('NUM',)  predict -  ('NUM',) grade:  Y\n",
      "1088  :  actual -  ('HUM',)  predict -  ('DESC',) grade:  N\n",
      "1089  :  actual -  ('DESC',)  predict -  ('DESC',) grade:  Y\n",
      "1090  :  actual -  ('NUM',)  predict -  ('ENTY',) grade:  N\n",
      "\n",
      "Accuracy:  0.6315307057745188\n",
      "Confusion matrix:\n",
      "[[  1   4   8   0   0   1]\n",
      " [  2 185  45   5   6   8]\n",
      " [  4  31 125  44  38   6]\n",
      " [  1   7  41 155  25   1]\n",
      " [  0   7  51  13 106   2]\n",
      " [  0   6  38   3   5 117]]\n"
     ]
    },
    {
     "data": {
      "image/png": "[encoded data removed]",
      "text/plain": [
       "<Figure size 432x288 with 1 Axes>"
      ]
     },
     "metadata": {
      "needs_background": "light"
     },
     "output_type": "display_data"
    }
   ],
   "source": [
    "# testing the 1st model genlstm_200n_2l\n",
    "mod1_test_results = test_model(trained_lstm, te)"
   ]
  },
  {
   "cell_type": "code",
   "execution_count": null,
   "metadata": {},
   "outputs": [],
   "source": []
  }
 ],
 "metadata": {
  "kernelspec": {
   "display_name": "Python 3",
   "language": "python",
   "name": "python3"
  },
  "language_info": {
   "codemirror_mode": {
    "name": "ipython",
    "version": 3
   },
   "file_extension": ".py",
   "mimetype": "text/x-python",
   "name": "python",
   "nbconvert_exporter": "python",
   "pygments_lexer": "ipython3",
   "version": "3.6.7"
  }
 },
 "nbformat": 4,
 "nbformat_minor": 2
}
