{
 "cells": [
  {
   "cell_type": "markdown",
   "metadata": {},
   "source": [
    "# Packages to Import"
   ]
  },
  {
   "cell_type": "code",
   "execution_count": 1,
   "metadata": {},
   "outputs": [],
   "source": [
    "import pandas as pd\n",
    "import numpy as np\n",
    "import sklearn as sk\n",
    "import torch\n",
    "import nltk\n",
    "import matplotlib.pyplot as plt\n",
    "import os\n",
    "import sqlite3"
   ]
  },
  {
   "cell_type": "code",
   "execution_count": null,
   "metadata": {},
   "outputs": [],
   "source": []
  },
  {
   "cell_type": "markdown",
   "metadata": {},
   "source": [
    "# Load and Analyse data"
   ]
  },
  {
   "cell_type": "code",
   "execution_count": 2,
   "metadata": {},
   "outputs": [],
   "source": [
    "#os.chdir('..')\n",
    "#os.getcwd()"
   ]
  },
  {
   "cell_type": "code",
   "execution_count": 3,
   "metadata": {},
   "outputs": [],
   "source": [
    "def load_csv(direc, fname):\n",
    "    for di in direc:\n",
    "        os.chdir(di)\n",
    "    \n",
    "    data = pd.read_csv(fname)\n",
    "    print(\"Data from \", fname, \" is loaded!\")\n",
    "    \n",
    "    for di in direc:\n",
    "        os.chdir('..')\n",
    "        \n",
    "    return data"
   ]
  },
  {
   "cell_type": "code",
   "execution_count": 4,
   "metadata": {},
   "outputs": [
    {
     "name": "stdout",
     "output_type": "stream",
     "text": [
      "Data from  Tweets.csv  is loaded!\n"
     ]
    }
   ],
   "source": [
    "data_csv = load_csv(['tweets_sentiment'], 'Tweets.csv')"
   ]
  },
  {
   "cell_type": "code",
   "execution_count": 5,
   "metadata": {},
   "outputs": [],
   "source": [
    "def load_sql(direc, fname):\n",
    "    for di in direc:\n",
    "        os.chdir(di)\n",
    "    \n",
    "    conn = sqlite3.connect(fname)\n",
    "    cur = conn.cursor()\n",
    "    \n",
    "    tables = cur.execute(\"select name from sqlite_master where type = 'table'\").fetchall()\n",
    "    # tables are in a list of tuple pairs, so select first table and first element of tuple\n",
    "    query = \"select * from \" + tables[0][0] + \";\"\n",
    "    df = pd.read_sql_query(query, conn)\n",
    "    print(\"Data from \", fname, \" is loaded!\")\n",
    "    \n",
    "    cur.close()\n",
    "    conn.close()\n",
    "    \n",
    "    for di in direc:\n",
    "        os.chdir('..')\n",
    "        \n",
    "    return df"
   ]
  },
  {
   "cell_type": "code",
   "execution_count": 6,
   "metadata": {},
   "outputs": [
    {
     "name": "stdout",
     "output_type": "stream",
     "text": [
      "Data from  database.sqlite  is loaded!\n"
     ]
    }
   ],
   "source": [
    "data_sql = load_sql(['tweets_sentiment'], 'database.sqlite')"
   ]
  },
  {
   "cell_type": "code",
   "execution_count": 7,
   "metadata": {},
   "outputs": [],
   "source": [
    "def describe_pd(df):\n",
    "    print(\"Shape of data: \", df.shape, \"\\n\")\n",
    "    print(\"Features in the dataframe: \", df.columns.values, \"\\n\")\n",
    "    print(\"Description of the dataframe: \", df.info(), \"\\n\")\n",
    "    print(\"Top 5 rows in the dataframe: \", df.head(), \"\\n\")"
   ]
  },
  {
   "cell_type": "code",
   "execution_count": 8,
   "metadata": {
    "scrolled": true
   },
   "outputs": [
    {
     "name": "stdout",
     "output_type": "stream",
     "text": [
      "Shape of data:  (14640, 15) \n",
      "\n",
      "Features in the dataframe:  ['tweet_id' 'airline_sentiment' 'airline_sentiment_confidence'\n",
      " 'negativereason' 'negativereason_confidence' 'airline'\n",
      " 'airline_sentiment_gold' 'name' 'negativereason_gold' 'retweet_count'\n",
      " 'text' 'tweet_coord' 'tweet_created' 'tweet_location' 'user_timezone'] \n",
      "\n",
      "<class 'pandas.core.frame.DataFrame'>\n",
      "RangeIndex: 14640 entries, 0 to 14639\n",
      "Data columns (total 15 columns):\n",
      "tweet_id                        14640 non-null int64\n",
      "airline_sentiment               14640 non-null object\n",
      "airline_sentiment_confidence    14640 non-null float64\n",
      "negativereason                  9178 non-null object\n",
      "negativereason_confidence       10522 non-null float64\n",
      "airline                         14640 non-null object\n",
      "airline_sentiment_gold          40 non-null object\n",
      "name                            14640 non-null object\n",
      "negativereason_gold             32 non-null object\n",
      "retweet_count                   14640 non-null int64\n",
      "text                            14640 non-null object\n",
      "tweet_coord                     1019 non-null object\n",
      "tweet_created                   14640 non-null object\n",
      "tweet_location                  9907 non-null object\n",
      "user_timezone                   9820 non-null object\n",
      "dtypes: float64(2), int64(2), object(11)\n",
      "memory usage: 1.7+ MB\n",
      "Description of the dataframe:  None \n",
      "\n",
      "Top 5 rows in the dataframe:               tweet_id airline_sentiment  airline_sentiment_confidence  \\\n",
      "0  570306133677760513           neutral                        1.0000   \n",
      "1  570301130888122368          positive                        0.3486   \n",
      "2  570301083672813571           neutral                        0.6837   \n",
      "3  570301031407624196          negative                        1.0000   \n",
      "4  570300817074462722          negative                        1.0000   \n",
      "\n",
      "  negativereason  negativereason_confidence         airline  \\\n",
      "0            NaN                        NaN  Virgin America   \n",
      "1            NaN                     0.0000  Virgin America   \n",
      "2            NaN                        NaN  Virgin America   \n",
      "3     Bad Flight                     0.7033  Virgin America   \n",
      "4     Can't Tell                     1.0000  Virgin America   \n",
      "\n",
      "  airline_sentiment_gold        name negativereason_gold  retweet_count  \\\n",
      "0                    NaN     cairdin                 NaN              0   \n",
      "1                    NaN    jnardino                 NaN              0   \n",
      "2                    NaN  yvonnalynn                 NaN              0   \n",
      "3                    NaN    jnardino                 NaN              0   \n",
      "4                    NaN    jnardino                 NaN              0   \n",
      "\n",
      "                                                text tweet_coord  \\\n",
      "0                @VirginAmerica What @dhepburn said.         NaN   \n",
      "1  @VirginAmerica plus you've added commercials t...         NaN   \n",
      "2  @VirginAmerica I didn't today... Must mean I n...         NaN   \n",
      "3  @VirginAmerica it's really aggressive to blast...         NaN   \n",
      "4  @VirginAmerica and it's a really big bad thing...         NaN   \n",
      "\n",
      "               tweet_created tweet_location               user_timezone  \n",
      "0  2015-02-24 11:35:52 -0800            NaN  Eastern Time (US & Canada)  \n",
      "1  2015-02-24 11:15:59 -0800            NaN  Pacific Time (US & Canada)  \n",
      "2  2015-02-24 11:15:48 -0800      Lets Play  Central Time (US & Canada)  \n",
      "3  2015-02-24 11:15:36 -0800            NaN  Pacific Time (US & Canada)  \n",
      "4  2015-02-24 11:14:45 -0800            NaN  Pacific Time (US & Canada)   \n",
      "\n"
     ]
    }
   ],
   "source": [
    "describe_pd(data_csv)"
   ]
  },
  {
   "cell_type": "code",
   "execution_count": 9,
   "metadata": {
    "scrolled": true
   },
   "outputs": [
    {
     "name": "stdout",
     "output_type": "stream",
     "text": [
      "Shape of data:  (14485, 15) \n",
      "\n",
      "Features in the dataframe:  ['tweet_id' 'airline_sentiment' 'airline_sentiment_confidence'\n",
      " 'negativereason' 'negativereason_confidence' 'airline'\n",
      " 'airline_sentiment_gold' 'name' 'negativereason_gold' 'retweet_count'\n",
      " 'text' 'tweet_coord' 'tweet_created' 'tweet_location' 'user_timezone'] \n",
      "\n",
      "<class 'pandas.core.frame.DataFrame'>\n",
      "RangeIndex: 14485 entries, 0 to 14484\n",
      "Data columns (total 15 columns):\n",
      "tweet_id                        14485 non-null int64\n",
      "airline_sentiment               14485 non-null object\n",
      "airline_sentiment_confidence    14485 non-null float64\n",
      "negativereason                  14485 non-null object\n",
      "negativereason_confidence       14485 non-null object\n",
      "airline                         14485 non-null object\n",
      "airline_sentiment_gold          14485 non-null object\n",
      "name                            14485 non-null object\n",
      "negativereason_gold             14485 non-null object\n",
      "retweet_count                   14485 non-null int64\n",
      "text                            14485 non-null object\n",
      "tweet_coord                     14485 non-null object\n",
      "tweet_created                   14485 non-null object\n",
      "tweet_location                  14485 non-null object\n",
      "user_timezone                   14485 non-null object\n",
      "dtypes: float64(1), int64(2), object(12)\n",
      "memory usage: 1.7+ MB\n",
      "Description of the dataframe:  None \n",
      "\n",
      "Top 5 rows in the dataframe:               tweet_id airline_sentiment  airline_sentiment_confidence  \\\n",
      "0  567588278875213824           neutral                           1.0   \n",
      "1  567590027375702016          negative                           1.0   \n",
      "2  567591480085463040          negative                           1.0   \n",
      "3  567592368451248130          negative                           1.0   \n",
      "4  567594449874587648          negative                           1.0   \n",
      "\n",
      "           negativereason negativereason_confidence    airline  \\\n",
      "0                                                        Delta   \n",
      "1              Can't Tell                    0.6503      Delta   \n",
      "2             Late Flight                     0.346     United   \n",
      "3             Late Flight                         1     United   \n",
      "4  Customer Service Issue                    0.3451  Southwest   \n",
      "\n",
      "  airline_sentiment_gold         name negativereason_gold  retweet_count  \\\n",
      "0                         JetBlueNews                                  0   \n",
      "1                           nesi_1992                                  0   \n",
      "2                           CPoutloud                                  0   \n",
      "3                            brenduch                                  0   \n",
      "4                            VahidESQ                                  0   \n",
      "\n",
      "                                                text tweet_coord  \\\n",
      "0  @JetBlue's new CEO seeks the right balance to ...               \n",
      "1  @JetBlue is REALLY getting on my nerves !! 😡😡 ...               \n",
      "2  @united yes. We waited in line for almost an h...               \n",
      "3  @united the we got into the gate at IAH on tim...               \n",
      "4  @SouthwestAir its cool that my bags take a bit...               \n",
      "\n",
      "               tweet_created   tweet_location               user_timezone  \n",
      "0  2015-02-16 23:36:05 -0800              USA                      Sydney  \n",
      "1  2015-02-16 23:43:02 -0800        undecided  Pacific Time (US & Canada)  \n",
      "2  2015-02-16 23:48:48 -0800   Washington, DC                              \n",
      "3  2015-02-16 23:52:20 -0800                                 Buenos Aires  \n",
      "4  2015-02-17 00:00:36 -0800  Los Angeles, CA  Pacific Time (US & Canada)   \n",
      "\n"
     ]
    }
   ],
   "source": [
    "describe_pd(data_sql)"
   ]
  },
  {
   "cell_type": "code",
   "execution_count": 10,
   "metadata": {},
   "outputs": [],
   "source": [
    "def combine_df(dflist):\n",
    "    data = pd.concat(dflist, ignore_index=True)\n",
    "    print(data.shape)\n",
    "    return data"
   ]
  },
  {
   "cell_type": "code",
   "execution_count": 11,
   "metadata": {},
   "outputs": [
    {
     "name": "stdout",
     "output_type": "stream",
     "text": [
      "(29125, 15)\n"
     ]
    }
   ],
   "source": [
    "data = combine_df([data_csv, data_sql])"
   ]
  },
  {
   "cell_type": "code",
   "execution_count": 12,
   "metadata": {},
   "outputs": [
    {
     "name": "stdout",
     "output_type": "stream",
     "text": [
      "Meta data: \n",
      "<class 'pandas.core.frame.DataFrame'>\n",
      "RangeIndex: 29125 entries, 0 to 29124\n",
      "Data columns (total 15 columns):\n",
      "tweet_id                        29125 non-null int64\n",
      "airline_sentiment               29125 non-null object\n",
      "airline_sentiment_confidence    29125 non-null float64\n",
      "negativereason                  23663 non-null object\n",
      "negativereason_confidence       25007 non-null object\n",
      "airline                         29125 non-null object\n",
      "airline_sentiment_gold          14525 non-null object\n",
      "name                            29125 non-null object\n",
      "negativereason_gold             14517 non-null object\n",
      "retweet_count                   29125 non-null int64\n",
      "text                            29125 non-null object\n",
      "tweet_coord                     15504 non-null object\n",
      "tweet_created                   29125 non-null object\n",
      "tweet_location                  24392 non-null object\n",
      "user_timezone                   24305 non-null object\n",
      "dtypes: float64(1), int64(2), object(12)\n",
      "memory usage: 3.3+ MB\n",
      "None\n",
      "Data per class: \n",
      "negative    18260\n",
      "neutral      6168\n",
      "positive     4697\n",
      "Name: airline_sentiment, dtype: int64\n"
     ]
    },
    {
     "data": {
      "image/png": "[encoded data removed]",
      "text/plain": [
       "<Figure size 432x288 with 1 Axes>"
      ]
     },
     "metadata": {
      "needs_background": "light"
     },
     "output_type": "display_data"
    },
    {
     "name": "stdout",
     "output_type": "stream",
     "text": [
      "First 5 rows of data: \n"
     ]
    },
    {
     "data": {
      "text/html": [
       "<div>\n",
       "<style scoped>\n",
       "    .dataframe tbody tr th:only-of-type {\n",
       "        vertical-align: middle;\n",
       "    }\n",
       "\n",
       "    .dataframe tbody tr th {\n",
       "        vertical-align: top;\n",
       "    }\n",
       "\n",
       "    .dataframe thead th {\n",
       "        text-align: right;\n",
       "    }\n",
       "</style>\n",
       "<table border=\"1\" class=\"dataframe\">\n",
       "  <thead>\n",
       "    <tr style=\"text-align: right;\">\n",
       "      <th></th>\n",
       "      <th>tweet_id</th>\n",
       "      <th>airline_sentiment</th>\n",
       "      <th>airline_sentiment_confidence</th>\n",
       "      <th>negativereason</th>\n",
       "      <th>negativereason_confidence</th>\n",
       "      <th>airline</th>\n",
       "      <th>airline_sentiment_gold</th>\n",
       "      <th>name</th>\n",
       "      <th>negativereason_gold</th>\n",
       "      <th>retweet_count</th>\n",
       "      <th>text</th>\n",
       "      <th>tweet_coord</th>\n",
       "      <th>tweet_created</th>\n",
       "      <th>tweet_location</th>\n",
       "      <th>user_timezone</th>\n",
       "    </tr>\n",
       "  </thead>\n",
       "  <tbody>\n",
       "    <tr>\n",
       "      <th>0</th>\n",
       "      <td>570306133677760513</td>\n",
       "      <td>neutral</td>\n",
       "      <td>1.0000</td>\n",
       "      <td>NaN</td>\n",
       "      <td>NaN</td>\n",
       "      <td>Virgin America</td>\n",
       "      <td>NaN</td>\n",
       "      <td>cairdin</td>\n",
       "      <td>NaN</td>\n",
       "      <td>0</td>\n",
       "      <td>@VirginAmerica What @dhepburn said.</td>\n",
       "      <td>NaN</td>\n",
       "      <td>2015-02-24 11:35:52 -0800</td>\n",
       "      <td>NaN</td>\n",
       "      <td>Eastern Time (US &amp; Canada)</td>\n",
       "    </tr>\n",
       "    <tr>\n",
       "      <th>1</th>\n",
       "      <td>570301130888122368</td>\n",
       "      <td>positive</td>\n",
       "      <td>0.3486</td>\n",
       "      <td>NaN</td>\n",
       "      <td>0</td>\n",
       "      <td>Virgin America</td>\n",
       "      <td>NaN</td>\n",
       "      <td>jnardino</td>\n",
       "      <td>NaN</td>\n",
       "      <td>0</td>\n",
       "      <td>@VirginAmerica plus you've added commercials t...</td>\n",
       "      <td>NaN</td>\n",
       "      <td>2015-02-24 11:15:59 -0800</td>\n",
       "      <td>NaN</td>\n",
       "      <td>Pacific Time (US &amp; Canada)</td>\n",
       "    </tr>\n",
       "    <tr>\n",
       "      <th>2</th>\n",
       "      <td>570301083672813571</td>\n",
       "      <td>neutral</td>\n",
       "      <td>0.6837</td>\n",
       "      <td>NaN</td>\n",
       "      <td>NaN</td>\n",
       "      <td>Virgin America</td>\n",
       "      <td>NaN</td>\n",
       "      <td>yvonnalynn</td>\n",
       "      <td>NaN</td>\n",
       "      <td>0</td>\n",
       "      <td>@VirginAmerica I didn't today... Must mean I n...</td>\n",
       "      <td>NaN</td>\n",
       "      <td>2015-02-24 11:15:48 -0800</td>\n",
       "      <td>Lets Play</td>\n",
       "      <td>Central Time (US &amp; Canada)</td>\n",
       "    </tr>\n",
       "    <tr>\n",
       "      <th>3</th>\n",
       "      <td>570301031407624196</td>\n",
       "      <td>negative</td>\n",
       "      <td>1.0000</td>\n",
       "      <td>Bad Flight</td>\n",
       "      <td>0.7033</td>\n",
       "      <td>Virgin America</td>\n",
       "      <td>NaN</td>\n",
       "      <td>jnardino</td>\n",
       "      <td>NaN</td>\n",
       "      <td>0</td>\n",
       "      <td>@VirginAmerica it's really aggressive to blast...</td>\n",
       "      <td>NaN</td>\n",
       "      <td>2015-02-24 11:15:36 -0800</td>\n",
       "      <td>NaN</td>\n",
       "      <td>Pacific Time (US &amp; Canada)</td>\n",
       "    </tr>\n",
       "    <tr>\n",
       "      <th>4</th>\n",
       "      <td>570300817074462722</td>\n",
       "      <td>negative</td>\n",
       "      <td>1.0000</td>\n",
       "      <td>Can't Tell</td>\n",
       "      <td>1</td>\n",
       "      <td>Virgin America</td>\n",
       "      <td>NaN</td>\n",
       "      <td>jnardino</td>\n",
       "      <td>NaN</td>\n",
       "      <td>0</td>\n",
       "      <td>@VirginAmerica and it's a really big bad thing...</td>\n",
       "      <td>NaN</td>\n",
       "      <td>2015-02-24 11:14:45 -0800</td>\n",
       "      <td>NaN</td>\n",
       "      <td>Pacific Time (US &amp; Canada)</td>\n",
       "    </tr>\n",
       "  </tbody>\n",
       "</table>\n",
       "</div>"
      ],
      "text/plain": [
       "             tweet_id airline_sentiment  airline_sentiment_confidence  \\\n",
       "0  570306133677760513           neutral                        1.0000   \n",
       "1  570301130888122368          positive                        0.3486   \n",
       "2  570301083672813571           neutral                        0.6837   \n",
       "3  570301031407624196          negative                        1.0000   \n",
       "4  570300817074462722          negative                        1.0000   \n",
       "\n",
       "  negativereason negativereason_confidence         airline  \\\n",
       "0            NaN                       NaN  Virgin America   \n",
       "1            NaN                         0  Virgin America   \n",
       "2            NaN                       NaN  Virgin America   \n",
       "3     Bad Flight                    0.7033  Virgin America   \n",
       "4     Can't Tell                         1  Virgin America   \n",
       "\n",
       "  airline_sentiment_gold        name negativereason_gold  retweet_count  \\\n",
       "0                    NaN     cairdin                 NaN              0   \n",
       "1                    NaN    jnardino                 NaN              0   \n",
       "2                    NaN  yvonnalynn                 NaN              0   \n",
       "3                    NaN    jnardino                 NaN              0   \n",
       "4                    NaN    jnardino                 NaN              0   \n",
       "\n",
       "                                                text tweet_coord  \\\n",
       "0                @VirginAmerica What @dhepburn said.         NaN   \n",
       "1  @VirginAmerica plus you've added commercials t...         NaN   \n",
       "2  @VirginAmerica I didn't today... Must mean I n...         NaN   \n",
       "3  @VirginAmerica it's really aggressive to blast...         NaN   \n",
       "4  @VirginAmerica and it's a really big bad thing...         NaN   \n",
       "\n",
       "               tweet_created tweet_location               user_timezone  \n",
       "0  2015-02-24 11:35:52 -0800            NaN  Eastern Time (US & Canada)  \n",
       "1  2015-02-24 11:15:59 -0800            NaN  Pacific Time (US & Canada)  \n",
       "2  2015-02-24 11:15:48 -0800      Lets Play  Central Time (US & Canada)  \n",
       "3  2015-02-24 11:15:36 -0800            NaN  Pacific Time (US & Canada)  \n",
       "4  2015-02-24 11:14:45 -0800            NaN  Pacific Time (US & Canada)  "
      ]
     },
     "execution_count": 12,
     "metadata": {},
     "output_type": "execute_result"
    }
   ],
   "source": [
    "print(\"Meta data: \")\n",
    "print(data.info())\n",
    "\n",
    "print(\"Data per class: \")\n",
    "print(data['airline_sentiment'].value_counts())\n",
    "\n",
    "sentiment_count = data.groupby('airline_sentiment').count()\n",
    "plt.bar(sentiment_count.index.values, sentiment_count['text'])\n",
    "plt.xlabel('Review sentiments')\n",
    "plt.ylabel('Number of reviews')\n",
    "plt.show()\n",
    "\n",
    "print(\"First 5 rows of data: \")\n",
    "data.head()"
   ]
  },
  {
   "cell_type": "code",
   "execution_count": 13,
   "metadata": {},
   "outputs": [
    {
     "data": {
      "text/plain": [
       "array(['tweet_id', 'airline_sentiment', 'airline_sentiment_confidence',\n",
       "       'negativereason', 'negativereason_confidence', 'airline',\n",
       "       'airline_sentiment_gold', 'name', 'negativereason_gold',\n",
       "       'retweet_count', 'text', 'tweet_coord', 'tweet_created',\n",
       "       'tweet_location', 'user_timezone'], dtype=object)"
      ]
     },
     "execution_count": 13,
     "metadata": {},
     "output_type": "execute_result"
    }
   ],
   "source": [
    "data.columns.values"
   ]
  },
  {
   "cell_type": "code",
   "execution_count": 14,
   "metadata": {},
   "outputs": [
    {
     "data": {
      "text/html": [
       "<div>\n",
       "<style scoped>\n",
       "    .dataframe tbody tr th:only-of-type {\n",
       "        vertical-align: middle;\n",
       "    }\n",
       "\n",
       "    .dataframe tbody tr th {\n",
       "        vertical-align: top;\n",
       "    }\n",
       "\n",
       "    .dataframe thead th {\n",
       "        text-align: right;\n",
       "    }\n",
       "</style>\n",
       "<table border=\"1\" class=\"dataframe\">\n",
       "  <thead>\n",
       "    <tr style=\"text-align: right;\">\n",
       "      <th></th>\n",
       "      <th>airline_sentiment</th>\n",
       "      <th>text</th>\n",
       "    </tr>\n",
       "  </thead>\n",
       "  <tbody>\n",
       "    <tr>\n",
       "      <th>0</th>\n",
       "      <td>neutral</td>\n",
       "      <td>@VirginAmerica What @dhepburn said.</td>\n",
       "    </tr>\n",
       "    <tr>\n",
       "      <th>1</th>\n",
       "      <td>positive</td>\n",
       "      <td>@VirginAmerica plus you've added commercials t...</td>\n",
       "    </tr>\n",
       "    <tr>\n",
       "      <th>2</th>\n",
       "      <td>neutral</td>\n",
       "      <td>@VirginAmerica I didn't today... Must mean I n...</td>\n",
       "    </tr>\n",
       "    <tr>\n",
       "      <th>3</th>\n",
       "      <td>negative</td>\n",
       "      <td>@VirginAmerica it's really aggressive to blast...</td>\n",
       "    </tr>\n",
       "    <tr>\n",
       "      <th>4</th>\n",
       "      <td>negative</td>\n",
       "      <td>@VirginAmerica and it's a really big bad thing...</td>\n",
       "    </tr>\n",
       "  </tbody>\n",
       "</table>\n",
       "</div>"
      ],
      "text/plain": [
       "  airline_sentiment                                               text\n",
       "0           neutral                @VirginAmerica What @dhepburn said.\n",
       "1          positive  @VirginAmerica plus you've added commercials t...\n",
       "2           neutral  @VirginAmerica I didn't today... Must mean I n...\n",
       "3          negative  @VirginAmerica it's really aggressive to blast...\n",
       "4          negative  @VirginAmerica and it's a really big bad thing..."
      ]
     },
     "execution_count": 14,
     "metadata": {},
     "output_type": "execute_result"
    }
   ],
   "source": [
    "chdata = data.copy()\n",
    "chdata = chdata.drop(['tweet_id', 'airline_sentiment_confidence', 'negativereason', 'negativereason_confidence', 'airline',\n",
    "       'airline_sentiment_gold', 'name', 'negativereason_gold', 'retweet_count', 'tweet_coord', 'tweet_created',\n",
    "       'tweet_location', 'user_timezone'], axis=1)\n",
    "chdata.head()"
   ]
  },
  {
   "cell_type": "code",
   "execution_count": 15,
   "metadata": {},
   "outputs": [
    {
     "name": "stdout",
     "output_type": "stream",
     "text": [
      "\n",
      "Sentence Tokenization:  ['@VirginAmerica What @dhepburn said.'] \n",
      "\n",
      "Word Tokenization:  ['@', 'VirginAmerica', 'What', '@', 'dhepburn', 'said', '.'] \n",
      "\n",
      "Frequency:  <FreqDist with 6 samples and 7 outcomes>\n",
      "[('@', 2), ('VirginAmerica', 1)]\n"
     ]
    },
    {
     "data": {
      "image/png": "[encoded data removed]",
      "text/plain": [
       "<Figure size 432x288 with 1 Axes>"
      ]
     },
     "metadata": {
      "needs_background": "light"
     },
     "output_type": "display_data"
    },
    {
     "data": {
      "text/plain": [
       "<matplotlib.axes._subplots.AxesSubplot at 0x17b77e96908>"
      ]
     },
     "execution_count": 15,
     "metadata": {},
     "output_type": "execute_result"
    }
   ],
   "source": [
    "# taking a sample of the text to perform analysis\n",
    "text = chdata.iloc[0, 1]\n",
    "print()\n",
    "\n",
    "# sentence tokenization of text\n",
    "sentence = nltk.tokenize.sent_tokenize(text)\n",
    "print(\"Sentence Tokenization: \", sentence, \"\\n\")\n",
    "\n",
    "# word tokenization of text\n",
    "word = nltk.tokenize.word_tokenize(text)\n",
    "print(\"Word Tokenization: \", word, \"\\n\")\n",
    "\n",
    "# frequency distribution\n",
    "fdist = nltk.probability.FreqDist(word)\n",
    "print(\"Frequency: \", fdist)\n",
    "print(fdist.most_common(2))\n",
    "\n",
    "# plotting the word frequency\n",
    "fdist.plot(30, cumulative=False)"
   ]
  },
  {
   "cell_type": "code",
   "execution_count": 16,
   "metadata": {},
   "outputs": [
    {
     "name": "stdout",
     "output_type": "stream",
     "text": [
      "First 10 Stop words:  ['m', 'shan', 'after', 'ourselves', \"couldn't\", 'once', \"aren't\", \"wouldn't\", 'too', 'when']\n",
      "Before stoppers:  ['@', 'VirginAmerica', 'What', '@', 'dhepburn', 'said', '.']\n",
      "After removing stoppers:  ['@', 'VirginAmerica', 'What', '@', 'dhepburn', 'said', '.']\n",
      "Plotting after removing stop words:\n"
     ]
    },
    {
     "data": {
      "image/png": "[encoded data removed]",
      "text/plain": [
       "<Figure size 432x288 with 1 Axes>"
      ]
     },
     "metadata": {
      "needs_background": "light"
     },
     "output_type": "display_data"
    },
    {
     "name": "stdout",
     "output_type": "stream",
     "text": [
      "After performing stemmings:  ['@', 'virginamerica', 'what', '@', 'dhepburn', 'said', '.']\n",
      "After performing lemmatization:  ['@', 'virginamerica', 'what', '@', 'dhepburn', 'said', '.']\n",
      "The resulting POS tagging:\n",
      "[('@', 'NN'), ('VirginAmerica', 'NNP'), ('What', 'WP'), ('@', 'NNP'), ('dhepburn', 'NN'), ('said', 'VBD'), ('.', '.')]\n"
     ]
    }
   ],
   "source": [
    "stopper = list(set(nltk.corpus.stopwords.words(\"english\")))\n",
    "print(\"First 10 Stop words: \", stopper[:10])\n",
    "\n",
    "filtered = []\n",
    "\n",
    "for w in word:\n",
    "    if w not in stopper:\n",
    "        filtered.append(w)\n",
    "\n",
    "print(\"Before stoppers: \", word)\n",
    "print(\"After removing stoppers: \", filtered)\n",
    "\n",
    "after_stem = nltk.probability.FreqDist(filtered)\n",
    "print(\"Plotting after removing stop words:\")\n",
    "after_stem.plot(30, cumulative=False)\n",
    "\n",
    "# performing text normalization\n",
    "# stemming\n",
    "ps = nltk.stem.PorterStemmer()\n",
    "\n",
    "stemmed = []\n",
    "for w in filtered:\n",
    "    stemmed.append(ps.stem(w))\n",
    "\n",
    "print(\"After performing stemmings: \", stemmed)\n",
    "\n",
    "# lemmatization - a dictionary look up\n",
    "lem = nltk.stem.wordnet.WordNetLemmatizer()\n",
    "\n",
    "lemmaed = []\n",
    "for w in stemmed:\n",
    "    lemmaed.append(lem.lemmatize(w))\n",
    "\n",
    "print(\"After performing lemmatization: \", lemmaed)\n",
    "\n",
    "# applying pos tagging\n",
    "postag = nltk.pos_tag(nltk.word_tokenize(text))\n",
    "print(\"The resulting POS tagging:\")\n",
    "print(postag)"
   ]
  },
  {
   "cell_type": "code",
   "execution_count": 17,
   "metadata": {},
   "outputs": [
    {
     "data": {
      "text/plain": [
       "'@VirginAmerica What @dhepburn said.'"
      ]
     },
     "execution_count": 17,
     "metadata": {},
     "output_type": "execute_result"
    }
   ],
   "source": [
    "lem.lemmatize(text)"
   ]
  },
  {
   "cell_type": "code",
   "execution_count": null,
   "metadata": {},
   "outputs": [],
   "source": []
  },
  {
   "cell_type": "markdown",
   "metadata": {},
   "source": [
    "# Reducing the corpus size"
   ]
  },
  {
   "cell_type": "code",
   "execution_count": 18,
   "metadata": {},
   "outputs": [
    {
     "data": {
      "text/plain": [
       "502875"
      ]
     },
     "execution_count": 18,
     "metadata": {},
     "output_type": "execute_result"
    }
   ],
   "source": [
    "# function to collect the word corpus in the \n",
    "def collect_words(df, feature):\n",
    "    total = []\n",
    "    for f in df[feature]:\n",
    "        wordlis = nltk.tokenize.word_tokenize(f)\n",
    "        \n",
    "        for st in wordlis:\n",
    "            if len(st) > 1:\n",
    "                total.append(st)\n",
    "            \n",
    "    return total\n",
    "\n",
    "corpus = collect_words(chdata, 'text')\n",
    "len(corpus)"
   ]
  },
  {
   "cell_type": "code",
   "execution_count": 19,
   "metadata": {},
   "outputs": [
    {
     "data": {
      "image/png": "[encoded data removed]",
      "text/plain": [
       "<Figure size 1440x720 with 1 Axes>"
      ]
     },
     "metadata": {
      "needs_background": "light"
     },
     "output_type": "display_data"
    },
    {
     "data": {
      "text/plain": [
       "<matplotlib.axes._subplots.AxesSubplot at 0x17b773737b8>"
      ]
     },
     "execution_count": 19,
     "metadata": {},
     "output_type": "execute_result"
    }
   ],
   "source": [
    "corpus_freq = nltk.probability.FreqDist(corpus)\n",
    "plt.figure(figsize=(20, 10))\n",
    "corpus_freq.plot(100, cumulative=False)"
   ]
  },
  {
   "cell_type": "code",
   "execution_count": 20,
   "metadata": {},
   "outputs": [
    {
     "data": {
      "text/plain": [
       "'\\ndef collect_common(freqd, thresh_above):\\n    after1 = freqd.copy()\\n    \\n    for key in freqd.keys():\\n        if freqd[key] < thresh_above:\\n            del(after1[key])\\n            \\n    return after1\\n\\n# the newly obtained keys will then be used for further filtering\\nover_top = collect_common(corpus_freq, 10000)\\n\\nlen(over_top.keys())\\n'"
      ]
     },
     "execution_count": 20,
     "metadata": {},
     "output_type": "execute_result"
    }
   ],
   "source": [
    "'''\n",
    "def collect_common(freqd, thresh_above):\n",
    "    after1 = freqd.copy()\n",
    "    \n",
    "    for key in freqd.keys():\n",
    "        if freqd[key] < thresh_above:\n",
    "            del(after1[key])\n",
    "            \n",
    "    return after1\n",
    "\n",
    "# the newly obtained keys will then be used for further filtering\n",
    "over_top = collect_common(corpus_freq, 10000)\n",
    "\n",
    "len(over_top.keys())\n",
    "'''"
   ]
  },
  {
   "cell_type": "code",
   "execution_count": 21,
   "metadata": {},
   "outputs": [
    {
     "data": {
      "text/plain": [
       "(29125, 502875, 19706)"
      ]
     },
     "execution_count": 21,
     "metadata": {},
     "output_type": "execute_result"
    }
   ],
   "source": [
    "def clean_text(df, feature):\n",
    "    \n",
    "    fin = []\n",
    "    all_words = []\n",
    "    \n",
    "    for f in df[feature]:\n",
    "        cl = []\n",
    "        wordlis = nltk.tokenize.word_tokenize(f)\n",
    "        \n",
    "        # performing lemmatization and stop words removal\n",
    "        for st in wordlis:\n",
    "            if len(st) > 1:\n",
    "                # collect all the words\n",
    "                all_words.append(st)\n",
    "                # collect words that are filtered\n",
    "                cl.append(st)\n",
    "                \n",
    "        fin.append(cl)\n",
    "    \n",
    "    return fin, all_words\n",
    "\n",
    "cleaned, full = clean_text(chdata, 'text')\n",
    "len(cleaned), len(full), len(set(full))"
   ]
  },
  {
   "cell_type": "code",
   "execution_count": 22,
   "metadata": {},
   "outputs": [
    {
     "data": {
      "text/plain": [
       "['VirginAmerica', 'What', 'dhepburn', 'said']"
      ]
     },
     "execution_count": 22,
     "metadata": {},
     "output_type": "execute_result"
    }
   ],
   "source": [
    "cleaned[0]"
   ]
  },
  {
   "cell_type": "code",
   "execution_count": 23,
   "metadata": {},
   "outputs": [
    {
     "data": {
      "text/html": [
       "<div>\n",
       "<style scoped>\n",
       "    .dataframe tbody tr th:only-of-type {\n",
       "        vertical-align: middle;\n",
       "    }\n",
       "\n",
       "    .dataframe tbody tr th {\n",
       "        vertical-align: top;\n",
       "    }\n",
       "\n",
       "    .dataframe thead th {\n",
       "        text-align: right;\n",
       "    }\n",
       "</style>\n",
       "<table border=\"1\" class=\"dataframe\">\n",
       "  <thead>\n",
       "    <tr style=\"text-align: right;\">\n",
       "      <th></th>\n",
       "      <th>airline_sentiment</th>\n",
       "      <th>text</th>\n",
       "      <th>cleaned</th>\n",
       "    </tr>\n",
       "  </thead>\n",
       "  <tbody>\n",
       "    <tr>\n",
       "      <th>0</th>\n",
       "      <td>neutral</td>\n",
       "      <td>@VirginAmerica What @dhepburn said.</td>\n",
       "      <td>[VirginAmerica, What, dhepburn, said]</td>\n",
       "    </tr>\n",
       "    <tr>\n",
       "      <th>1</th>\n",
       "      <td>positive</td>\n",
       "      <td>@VirginAmerica plus you've added commercials t...</td>\n",
       "      <td>[VirginAmerica, plus, you, 've, added, commerc...</td>\n",
       "    </tr>\n",
       "    <tr>\n",
       "      <th>2</th>\n",
       "      <td>neutral</td>\n",
       "      <td>@VirginAmerica I didn't today... Must mean I n...</td>\n",
       "      <td>[VirginAmerica, did, n't, today, ..., Must, me...</td>\n",
       "    </tr>\n",
       "    <tr>\n",
       "      <th>3</th>\n",
       "      <td>negative</td>\n",
       "      <td>@VirginAmerica it's really aggressive to blast...</td>\n",
       "      <td>[VirginAmerica, it, 's, really, aggressive, to...</td>\n",
       "    </tr>\n",
       "    <tr>\n",
       "      <th>4</th>\n",
       "      <td>negative</td>\n",
       "      <td>@VirginAmerica and it's a really big bad thing...</td>\n",
       "      <td>[VirginAmerica, and, it, 's, really, big, bad,...</td>\n",
       "    </tr>\n",
       "  </tbody>\n",
       "</table>\n",
       "</div>"
      ],
      "text/plain": [
       "  airline_sentiment                                               text  \\\n",
       "0           neutral                @VirginAmerica What @dhepburn said.   \n",
       "1          positive  @VirginAmerica plus you've added commercials t...   \n",
       "2           neutral  @VirginAmerica I didn't today... Must mean I n...   \n",
       "3          negative  @VirginAmerica it's really aggressive to blast...   \n",
       "4          negative  @VirginAmerica and it's a really big bad thing...   \n",
       "\n",
       "                                             cleaned  \n",
       "0              [VirginAmerica, What, dhepburn, said]  \n",
       "1  [VirginAmerica, plus, you, 've, added, commerc...  \n",
       "2  [VirginAmerica, did, n't, today, ..., Must, me...  \n",
       "3  [VirginAmerica, it, 's, really, aggressive, to...  \n",
       "4  [VirginAmerica, and, it, 's, really, big, bad,...  "
      ]
     },
     "execution_count": 23,
     "metadata": {},
     "output_type": "execute_result"
    }
   ],
   "source": [
    "chdata['cleaned'] = cleaned\n",
    "chdata.head()"
   ]
  },
  {
   "cell_type": "markdown",
   "metadata": {},
   "source": [
    "# Feature Engineering"
   ]
  },
  {
   "cell_type": "code",
   "execution_count": 24,
   "metadata": {},
   "outputs": [
    {
     "data": {
      "text/plain": [
       "(19706, 19706)"
      ]
     },
     "execution_count": 24,
     "metadata": {},
     "output_type": "execute_result"
    }
   ],
   "source": [
    "len(set(corpus_freq.keys())), len(set(full))"
   ]
  },
  {
   "cell_type": "code",
   "execution_count": 25,
   "metadata": {},
   "outputs": [
    {
     "name": "stdout",
     "output_type": "stream",
     "text": [
      "141\n"
     ]
    }
   ],
   "source": [
    "def binary_encoding(corpus):\n",
    "    encoding = dict()\n",
    "    bitsize = 0\n",
    "    \n",
    "    for i in range(1000):\n",
    "        length = i ** 2\n",
    "        if length > len(list(corpus.keys())):\n",
    "            bitsize = i\n",
    "            print(bitsize)\n",
    "            break\n",
    "            \n",
    "    for num, key in enumerate(corpus.keys()):\n",
    "        init = np.zeros(bitsize).reshape(-1, 1)\n",
    "        binval = np.array([str(b) for b in bin(num + 1)[2:]]).reshape(-1, 1)\n",
    "        #print(init[-(len(binval)):].shape, binval.shape)\n",
    "        init[-(len(binval)):] = binval\n",
    "        encoding[key] = init\n",
    "        \n",
    "    return encoding\n",
    "\n",
    "bin_en = binary_encoding(corpus_freq)"
   ]
  },
  {
   "cell_type": "code",
   "execution_count": 98,
   "metadata": {},
   "outputs": [
    {
     "data": {
      "text/plain": [
       "array([[0.],\n",
       "       [0.],\n",
       "       [0.],\n",
       "       [0.],\n",
       "       [0.],\n",
       "       [0.],\n",
       "       [0.],\n",
       "       [0.],\n",
       "       [0.],\n",
       "       [0.],\n",
       "       [0.],\n",
       "       [0.],\n",
       "       [0.],\n",
       "       [0.],\n",
       "       [0.],\n",
       "       [0.],\n",
       "       [0.],\n",
       "       [0.],\n",
       "       [0.],\n",
       "       [0.],\n",
       "       [0.],\n",
       "       [0.],\n",
       "       [0.],\n",
       "       [0.],\n",
       "       [0.],\n",
       "       [0.],\n",
       "       [0.],\n",
       "       [0.],\n",
       "       [0.],\n",
       "       [0.],\n",
       "       [0.],\n",
       "       [0.],\n",
       "       [0.],\n",
       "       [0.],\n",
       "       [0.],\n",
       "       [0.],\n",
       "       [0.],\n",
       "       [0.],\n",
       "       [0.],\n",
       "       [0.],\n",
       "       [0.],\n",
       "       [0.],\n",
       "       [0.],\n",
       "       [0.],\n",
       "       [0.],\n",
       "       [0.],\n",
       "       [0.],\n",
       "       [0.],\n",
       "       [0.],\n",
       "       [0.],\n",
       "       [0.],\n",
       "       [0.],\n",
       "       [0.],\n",
       "       [0.],\n",
       "       [0.],\n",
       "       [0.],\n",
       "       [0.],\n",
       "       [0.],\n",
       "       [0.],\n",
       "       [0.],\n",
       "       [0.],\n",
       "       [0.],\n",
       "       [0.],\n",
       "       [0.],\n",
       "       [0.],\n",
       "       [0.],\n",
       "       [0.],\n",
       "       [0.],\n",
       "       [0.],\n",
       "       [0.],\n",
       "       [0.],\n",
       "       [0.],\n",
       "       [0.],\n",
       "       [0.],\n",
       "       [0.],\n",
       "       [0.],\n",
       "       [0.],\n",
       "       [0.],\n",
       "       [0.],\n",
       "       [0.],\n",
       "       [0.],\n",
       "       [0.],\n",
       "       [0.],\n",
       "       [0.],\n",
       "       [0.],\n",
       "       [0.],\n",
       "       [0.],\n",
       "       [0.],\n",
       "       [0.],\n",
       "       [0.],\n",
       "       [0.],\n",
       "       [0.],\n",
       "       [0.],\n",
       "       [0.],\n",
       "       [0.],\n",
       "       [0.],\n",
       "       [0.],\n",
       "       [0.],\n",
       "       [0.],\n",
       "       [0.],\n",
       "       [0.],\n",
       "       [0.],\n",
       "       [0.],\n",
       "       [0.],\n",
       "       [0.],\n",
       "       [0.],\n",
       "       [0.],\n",
       "       [0.],\n",
       "       [0.],\n",
       "       [0.],\n",
       "       [0.],\n",
       "       [0.],\n",
       "       [0.],\n",
       "       [0.],\n",
       "       [0.],\n",
       "       [0.],\n",
       "       [0.],\n",
       "       [0.],\n",
       "       [0.],\n",
       "       [0.],\n",
       "       [0.],\n",
       "       [0.],\n",
       "       [0.],\n",
       "       [0.],\n",
       "       [0.],\n",
       "       [0.],\n",
       "       [0.],\n",
       "       [0.],\n",
       "       [0.],\n",
       "       [1.],\n",
       "       [1.],\n",
       "       [0.],\n",
       "       [1.],\n",
       "       [1.],\n",
       "       [1.],\n",
       "       [0.],\n",
       "       [1.],\n",
       "       [1.],\n",
       "       [0.],\n",
       "       [0.],\n",
       "       [1.]])"
      ]
     },
     "execution_count": 98,
     "metadata": {},
     "output_type": "execute_result"
    }
   ],
   "source": [
    "bin_en['Golds.']"
   ]
  },
  {
   "cell_type": "code",
   "execution_count": 99,
   "metadata": {},
   "outputs": [],
   "source": [
    "# testing if all the words have an encoding\n",
    "for i in list(set(corpus_freq.keys())):\n",
    "    if i in corpus_freq.keys():\n",
    "        continue\n",
    "    else:\n",
    "        print(i)"
   ]
  },
  {
   "cell_type": "code",
   "execution_count": null,
   "metadata": {},
   "outputs": [],
   "source": []
  },
  {
   "cell_type": "markdown",
   "metadata": {},
   "source": [
    "# Word2Vec (CBOW) Embedding Model"
   ]
  },
  {
   "cell_type": "code",
   "execution_count": 100,
   "metadata": {},
   "outputs": [],
   "source": [
    "def wordvec(encoding, gram=3):\n",
    "    \n",
    "    input_size = encoding[list(encoding.keys())[0]].shape[0] * (gram - 1)\n",
    "    hidden_sizes = [input_size * 2]\n",
    "    output_size = encoding[list(encoding.keys())[0]].shape[0]\n",
    "    \n",
    "    # Build a feed-forward network\n",
    "    model = torch.nn.Sequential(torch.nn.Linear(input_size, hidden_sizes[0]),\n",
    "                          torch.nn.ReLU(),\n",
    "                          torch.nn.Linear(hidden_sizes[0], output_size),\n",
    "                          torch.nn.Sigmoid())\n",
    "    \n",
    "    print(\"Model Parameters:\")\n",
    "    print(model)\n",
    "    \n",
    "    return model"
   ]
  },
  {
   "cell_type": "code",
   "execution_count": 101,
   "metadata": {},
   "outputs": [
    {
     "data": {
      "text/html": [
       "<div>\n",
       "<style scoped>\n",
       "    .dataframe tbody tr th:only-of-type {\n",
       "        vertical-align: middle;\n",
       "    }\n",
       "\n",
       "    .dataframe tbody tr th {\n",
       "        vertical-align: top;\n",
       "    }\n",
       "\n",
       "    .dataframe thead th {\n",
       "        text-align: right;\n",
       "    }\n",
       "</style>\n",
       "<table border=\"1\" class=\"dataframe\">\n",
       "  <thead>\n",
       "    <tr style=\"text-align: right;\">\n",
       "      <th></th>\n",
       "      <th>airline_sentiment</th>\n",
       "      <th>text</th>\n",
       "      <th>cleaned</th>\n",
       "    </tr>\n",
       "  </thead>\n",
       "  <tbody>\n",
       "    <tr>\n",
       "      <th>0</th>\n",
       "      <td>neutral</td>\n",
       "      <td>@VirginAmerica What @dhepburn said.</td>\n",
       "      <td>[VirginAmerica, What, dhepburn, said]</td>\n",
       "    </tr>\n",
       "    <tr>\n",
       "      <th>1</th>\n",
       "      <td>positive</td>\n",
       "      <td>@VirginAmerica plus you've added commercials t...</td>\n",
       "      <td>[VirginAmerica, plus, you, 've, added, commerc...</td>\n",
       "    </tr>\n",
       "    <tr>\n",
       "      <th>2</th>\n",
       "      <td>neutral</td>\n",
       "      <td>@VirginAmerica I didn't today... Must mean I n...</td>\n",
       "      <td>[VirginAmerica, did, n't, today, ..., Must, me...</td>\n",
       "    </tr>\n",
       "    <tr>\n",
       "      <th>3</th>\n",
       "      <td>negative</td>\n",
       "      <td>@VirginAmerica it's really aggressive to blast...</td>\n",
       "      <td>[VirginAmerica, it, 's, really, aggressive, to...</td>\n",
       "    </tr>\n",
       "    <tr>\n",
       "      <th>4</th>\n",
       "      <td>negative</td>\n",
       "      <td>@VirginAmerica and it's a really big bad thing...</td>\n",
       "      <td>[VirginAmerica, and, it, 's, really, big, bad,...</td>\n",
       "    </tr>\n",
       "  </tbody>\n",
       "</table>\n",
       "</div>"
      ],
      "text/plain": [
       "  airline_sentiment                                               text  \\\n",
       "0           neutral                @VirginAmerica What @dhepburn said.   \n",
       "1          positive  @VirginAmerica plus you've added commercials t...   \n",
       "2           neutral  @VirginAmerica I didn't today... Must mean I n...   \n",
       "3          negative  @VirginAmerica it's really aggressive to blast...   \n",
       "4          negative  @VirginAmerica and it's a really big bad thing...   \n",
       "\n",
       "                                             cleaned  \n",
       "0              [VirginAmerica, What, dhepburn, said]  \n",
       "1  [VirginAmerica, plus, you, 've, added, commerc...  \n",
       "2  [VirginAmerica, did, n't, today, ..., Must, me...  \n",
       "3  [VirginAmerica, it, 's, really, aggressive, to...  \n",
       "4  [VirginAmerica, and, it, 's, really, big, bad,...  "
      ]
     },
     "execution_count": 101,
     "metadata": {},
     "output_type": "execute_result"
    }
   ],
   "source": [
    "chdata.head()"
   ]
  },
  {
   "cell_type": "code",
   "execution_count": 102,
   "metadata": {},
   "outputs": [],
   "source": [
    "def batched(sentences, encoding, gram=3):\n",
    "    \n",
    "    for s in sentences:\n",
    "        \n",
    "        i = 0\n",
    "        for word in range(3, len(s)+1):\n",
    "            coding = []\n",
    "            values = s[i:word]\n",
    "            i += 1\n",
    "            \n",
    "            for w in values:\n",
    "                code = encoding[w]\n",
    "                coding.append(code)\n",
    "                \n",
    "            yield coding"
   ]
  },
  {
   "cell_type": "code",
   "execution_count": 103,
   "metadata": {},
   "outputs": [],
   "source": [
    "#for i in batched(chdata['cleaned'], bin_en):\n",
    "    #print(i, len(i))"
   ]
  },
  {
   "cell_type": "code",
   "execution_count": 110,
   "metadata": {},
   "outputs": [],
   "source": [
    "def run_wordvec(model, values, encode):\n",
    "    \n",
    "    epochs = 100\n",
    "    #stop_counter = 0\n",
    "    #early_stop = 100\n",
    "    learning_rate = 1e-3\n",
    "    #every = 10\n",
    "    #threshold = 50.0\n",
    "    #stoc = 1000\n",
    "    train_log, valid_log = [], []\n",
    "    \n",
    "    loss_fn = torch.nn.MSELoss()\n",
    "    optimizer = torch.optim.Adam(model.parameters(), lr=learning_rate)\n",
    "\n",
    "    for t in range(1, epochs + 1):\n",
    "        train_iter, valid_iter = [], []\n",
    "        train_score, valid_score = 0, 0\n",
    "        idx = np.random.randint(99, 110)\n",
    "        store = []\n",
    "        \n",
    "        for num, batch in enumerate(batched(values, encode)):\n",
    "            \n",
    "            out_idx = int(np.floor(len(batch) / 2))\n",
    "            inp1 = torch.tensor(batch[out_idx - 1], dtype=torch.float).reshape(1, -1)\n",
    "            inp2 = torch.tensor(batch[out_idx + 1], dtype=torch.float).reshape(1, -1)\n",
    "            inp = torch.cat([inp1, inp2], dim=1)\n",
    "            out = torch.tensor(batch[out_idx], dtype=torch.float).reshape(1, -1)\n",
    "            #print(inp.shape, out.shape)\n",
    "            \n",
    "            #####set the model to train mode\n",
    "            if num % idx != 0:\n",
    "                model.train()\n",
    "                \n",
    "                # forward pass\n",
    "                pred = model(inp)\n",
    "                # compute and print loss\n",
    "                loss = loss_fn(pred, out)\n",
    "                # collect the loss\n",
    "                train_iter.append(loss.item())\n",
    "                \n",
    "                # backward pass\n",
    "                loss.backward()\n",
    "        \n",
    "                # optimizer makes an update to its parameters\n",
    "                optimizer.step()\n",
    "                \n",
    "                # zero the gradient before back prop\n",
    "                optimizer.zero_grad()\n",
    "            \n",
    "            #####set the model to eval mode\n",
    "            else:\n",
    "                model.eval()\n",
    "                \n",
    "                # forward pass\n",
    "                pred = model(inp)\n",
    "                # compute and print loss\n",
    "                loss = loss_fn(pred, out)\n",
    "                # collect the loss\n",
    "                valid_iter.append(loss.item())\n",
    "\n",
    "            \n",
    "        train_score = sum(train_iter)/len(train_iter)\n",
    "        valid_score = sum(valid_iter)/len(valid_iter)\n",
    "        train_log.append(train_score)\n",
    "        valid_log.append(valid_score)\n",
    "        print(\"Epoch \", t, (t / epochs) * 100, \"% complete...\")\n",
    "        print(\"Train loss: \", train_score, \"Validation score: \", valid_score)\n",
    "        print(\"\\n\")\n",
    "                            \n",
    "    print(\"Plotting the training and validation losses:\")\n",
    "    plt.figure(figsize=(15, 5))\n",
    "    plt.title(\"Training vs Validation plot\")\n",
    "    p1, = plt.plot(train_log, label=\"Train loss\")\n",
    "    p2, = plt.plot(valid_log, label=\"Valid loss\")\n",
    "    plt.legend(handles=[p1, p2])\n",
    "    plt.show()\n",
    "    \n",
    "    return model"
   ]
  },
  {
   "cell_type": "code",
   "execution_count": 107,
   "metadata": {
    "scrolled": true
   },
   "outputs": [],
   "source": [
    "# already trained!\n",
    "#m1_init_word = wordvec(bin_en)\n",
    "#m1_trai_word = run_wordvec(m1_init_word, chdata['cleaned'], bin_en)"
   ]
  },
  {
   "cell_type": "code",
   "execution_count": 112,
   "metadata": {
    "scrolled": true
   },
   "outputs": [
    {
     "name": "stdout",
     "output_type": "stream",
     "text": [
      "Model Parameters:\n",
      "Sequential(\n",
      "  (0): Linear(in_features=282, out_features=564, bias=True)\n",
      "  (1): ReLU()\n",
      "  (2): Linear(in_features=564, out_features=141, bias=True)\n",
      "  (3): Sigmoid()\n",
      ")\n",
      "Epoch  1 1.0 % complete...\n",
      "Train loss:  0.01929986368331393 Validation score:  0.01941832307247228\n",
      "\n",
      "\n",
      "Epoch  2 2.0 % complete...\n",
      "Train loss:  0.01917178584845617 Validation score:  0.019256813617370087\n",
      "\n",
      "\n",
      "Epoch  3 3.0 % complete...\n",
      "Train loss:  0.01918923027053674 Validation score:  0.019225570643441905\n",
      "\n",
      "\n",
      "Epoch  4 4.0 % complete...\n",
      "Train loss:  0.0192154608296652 Validation score:  0.019259292859124692\n",
      "\n",
      "\n",
      "Epoch  5 5.0 % complete...\n",
      "Train loss:  0.019223657984416494 Validation score:  0.019286906715321614\n",
      "\n",
      "\n",
      "Epoch  6 6.0 % complete...\n",
      "Train loss:  0.019222265516922406 Validation score:  0.0192508079176288\n",
      "\n",
      "\n",
      "Epoch  7 7.000000000000001 % complete...\n",
      "Train loss:  0.0192526288238337 Validation score:  0.019247982960478527\n",
      "\n",
      "\n",
      "Epoch  8 8.0 % complete...\n",
      "Train loss:  0.01925691990875182 Validation score:  0.019003871013428306\n",
      "\n",
      "\n",
      "Epoch  9 9.0 % complete...\n",
      "Train loss:  0.019264916086788188 Validation score:  0.019305472583076914\n",
      "\n",
      "\n",
      "Epoch  10 10.0 % complete...\n",
      "Train loss:  0.019292830695160305 Validation score:  0.01924109314162576\n",
      "\n",
      "\n",
      "Epoch  11 11.0 % complete...\n",
      "Train loss:  0.019300052432118926 Validation score:  0.019256592178525565\n",
      "\n",
      "\n",
      "Epoch  12 12.0 % complete...\n",
      "Train loss:  0.019296558823402022 Validation score:  0.01928143874259258\n",
      "\n",
      "\n",
      "Epoch  13 13.0 % complete...\n",
      "Train loss:  0.0192963180708797 Validation score:  0.019138056602952452\n",
      "\n",
      "\n",
      "Epoch  14 14.000000000000002 % complete...\n",
      "Train loss:  0.01929947142941897 Validation score:  0.019046633943193277\n",
      "\n",
      "\n",
      "Epoch  15 15.0 % complete...\n",
      "Train loss:  0.019296572899920254 Validation score:  0.019288136723253253\n",
      "\n",
      "\n",
      "Epoch  16 16.0 % complete...\n",
      "Train loss:  0.0193005951572084 Validation score:  0.01924327451604364\n",
      "\n",
      "\n",
      "Epoch  17 17.0 % complete...\n",
      "Train loss:  0.019291630730252352 Validation score:  0.019175632861375778\n",
      "\n",
      "\n",
      "Epoch  18 18.0 % complete...\n",
      "Train loss:  0.019289707466658035 Validation score:  0.019375327831226433\n",
      "\n",
      "\n",
      "Epoch  19 19.0 % complete...\n",
      "Train loss:  0.019299436978992723 Validation score:  0.019434445391298613\n",
      "\n",
      "\n",
      "Epoch  20 20.0 % complete...\n",
      "Train loss:  0.0193116568333584 Validation score:  0.019280225577116613\n",
      "\n",
      "\n",
      "Epoch  21 21.0 % complete...\n",
      "Train loss:  0.01931206104549548 Validation score:  0.01915729731692928\n",
      "\n",
      "\n",
      "Epoch  22 22.0 % complete...\n",
      "Train loss:  0.019313549047182292 Validation score:  0.019053513820469756\n",
      "\n",
      "\n",
      "Epoch  23 23.0 % complete...\n",
      "Train loss:  0.019310655102253847 Validation score:  0.01929425378795978\n",
      "\n",
      "\n",
      "Epoch  24 24.0 % complete...\n",
      "Train loss:  0.019309434598732064 Validation score:  0.01926301902811189\n",
      "\n",
      "\n",
      "Epoch  25 25.0 % complete...\n",
      "Train loss:  0.019310669596652296 Validation score:  0.019297181112443232\n",
      "\n",
      "\n",
      "Epoch  26 26.0 % complete...\n",
      "Train loss:  0.01930823410121449 Validation score:  0.019337159133378773\n",
      "\n",
      "\n",
      "Epoch  27 27.0 % complete...\n",
      "Train loss:  0.019306968900769144 Validation score:  0.019365415165215987\n",
      "\n",
      "\n",
      "Epoch  28 28.000000000000004 % complete...\n",
      "Train loss:  0.019308426634838626 Validation score:  0.019376252258000777\n",
      "\n",
      "\n",
      "Epoch  29 28.999999999999996 % complete...\n",
      "Train loss:  0.019310891900623302 Validation score:  0.019371749934471306\n",
      "\n",
      "\n",
      "Epoch  30 30.0 % complete...\n",
      "Train loss:  0.019308373625517725 Validation score:  0.019452514792829594\n",
      "\n",
      "\n",
      "Epoch  31 31.0 % complete...\n",
      "Train loss:  0.019311923083026462 Validation score:  0.019146876063778066\n",
      "\n",
      "\n",
      "Epoch  32 32.0 % complete...\n",
      "Train loss:  0.019310946409029025 Validation score:  0.019199539779705357\n",
      "\n",
      "\n",
      "Epoch  33 33.0 % complete...\n",
      "Train loss:  0.019310781394219087 Validation score:  0.01928016544879897\n",
      "\n",
      "\n",
      "Epoch  34 34.0 % complete...\n",
      "Train loss:  0.01931140661376714 Validation score:  0.019057948981608955\n",
      "\n",
      "\n",
      "Epoch  35 35.0 % complete...\n",
      "Train loss:  0.019308641683040174 Validation score:  0.01933256584634889\n",
      "\n",
      "\n",
      "Epoch  36 36.0 % complete...\n",
      "Train loss:  0.01931240705845885 Validation score:  0.019190596636804953\n",
      "\n",
      "\n",
      "Epoch  37 37.0 % complete...\n",
      "Train loss:  0.01930906436273177 Validation score:  0.01937891859805433\n",
      "\n",
      "\n",
      "Epoch  38 38.0 % complete...\n",
      "Train loss:  0.01931116633852948 Validation score:  0.019202755163986097\n",
      "\n",
      "\n",
      "Epoch  39 39.0 % complete...\n",
      "Train loss:  0.019311360863846435 Validation score:  0.019195484896520953\n",
      "\n",
      "\n",
      "Epoch  40 40.0 % complete...\n",
      "Train loss:  0.019308642216291826 Validation score:  0.019374957711865058\n",
      "\n",
      "\n",
      "Epoch  41 41.0 % complete...\n",
      "Train loss:  0.01930961664485496 Validation score:  0.019382053615823302\n",
      "\n",
      "\n",
      "Epoch  42 42.0 % complete...\n",
      "Train loss:  0.019311430669324166 Validation score:  0.01907604610160142\n",
      "\n",
      "\n",
      "Epoch  43 43.0 % complete...\n",
      "Train loss:  0.01930828222012025 Validation score:  0.01942602737477505\n",
      "\n",
      "\n",
      "Epoch  44 44.0 % complete...\n",
      "Train loss:  0.01930891459955013 Validation score:  0.01936835117628635\n",
      "\n",
      "\n",
      "Epoch  45 45.0 % complete...\n",
      "Train loss:  0.01931049277141093 Validation score:  0.019069266573484046\n",
      "\n",
      "\n",
      "Epoch  46 46.0 % complete...\n",
      "Train loss:  0.019308032412878755 Validation score:  0.019269755730656438\n",
      "\n",
      "\n",
      "Epoch  47 47.0 % complete...\n",
      "Train loss:  0.019308622697363623 Validation score:  0.019264033320802353\n",
      "\n",
      "\n",
      "Epoch  48 48.0 % complete...\n",
      "Train loss:  0.01930811540379717 Validation score:  0.019154622727074477\n",
      "\n",
      "\n",
      "Epoch  49 49.0 % complete...\n",
      "Train loss:  0.019308779117354936 Validation score:  0.019366448592716176\n",
      "\n",
      "\n",
      "Epoch  50 50.0 % complete...\n",
      "Train loss:  0.019306972770728424 Validation score:  0.01941558704396365\n",
      "\n",
      "\n",
      "Epoch  51 51.0 % complete...\n",
      "Train loss:  0.01930807601142114 Validation score:  0.01907708071671982\n",
      "\n",
      "\n",
      "Epoch  52 52.0 % complete...\n",
      "Train loss:  0.019306609976326744 Validation score:  0.01929725531693967\n",
      "\n",
      "\n",
      "Epoch  53 53.0 % complete...\n",
      "Train loss:  0.01930461954633748 Validation score:  0.01916164493869798\n",
      "\n",
      "\n",
      "Epoch  54 54.0 % complete...\n",
      "Train loss:  0.019303566068860346 Validation score:  0.019251990809010987\n",
      "\n",
      "\n",
      "Epoch  55 55.00000000000001 % complete...\n",
      "Train loss:  0.01930310501152889 Validation score:  0.019264836917350963\n",
      "\n",
      "\n",
      "Epoch  56 56.00000000000001 % complete...\n",
      "Train loss:  0.01930215246963219 Validation score:  0.01924720200996882\n",
      "\n",
      "\n",
      "Epoch  57 56.99999999999999 % complete...\n",
      "Train loss:  0.019301280825628105 Validation score:  0.019420203467729772\n",
      "\n",
      "\n",
      "Epoch  58 57.99999999999999 % complete...\n",
      "Train loss:  0.019303328124196318 Validation score:  0.019260164344022904\n",
      "\n",
      "\n",
      "Epoch  59 59.0 % complete...\n",
      "Train loss:  0.01930330857199657 Validation score:  0.01934352301327778\n",
      "\n",
      "\n",
      "Epoch  60 60.0 % complete...\n",
      "Train loss:  0.019301719369922844 Validation score:  0.019428969091955083\n",
      "\n",
      "\n",
      "Epoch  61 61.0 % complete...\n",
      "Train loss:  0.019302093465767865 Validation score:  0.019248496367411973\n",
      "\n",
      "\n",
      "Epoch  62 62.0 % complete...\n",
      "Train loss:  0.019300327176450135 Validation score:  0.019251376627179993\n",
      "\n",
      "\n",
      "Epoch  63 63.0 % complete...\n",
      "Train loss:  0.019299325049144212 Validation score:  0.019353917884235888\n",
      "\n",
      "\n",
      "Epoch  64 64.0 % complete...\n",
      "Train loss:  0.019300583421357723 Validation score:  0.019260685935688908\n",
      "\n",
      "\n"
     ]
    },
    {
     "ename": "KeyboardInterrupt",
     "evalue": "",
     "output_type": "error",
     "traceback": [
      "\u001b[1;31m---------------------------------------------------------------------------\u001b[0m",
      "\u001b[1;31mKeyboardInterrupt\u001b[0m                         Traceback (most recent call last)",
      "\u001b[1;32m<ipython-input-112-764b088a4ec6>\u001b[0m in \u001b[0;36m<module>\u001b[1;34m\u001b[0m\n\u001b[0;32m      1\u001b[0m \u001b[0mm2_init_word\u001b[0m \u001b[1;33m=\u001b[0m \u001b[0mwordvec\u001b[0m\u001b[1;33m(\u001b[0m\u001b[0mbin_en\u001b[0m\u001b[1;33m)\u001b[0m\u001b[1;33m\u001b[0m\u001b[1;33m\u001b[0m\u001b[0m\n\u001b[1;32m----> 2\u001b[1;33m \u001b[0mm2_100iter_word\u001b[0m \u001b[1;33m=\u001b[0m \u001b[0mrun_wordvec\u001b[0m\u001b[1;33m(\u001b[0m\u001b[0mm2_init_word\u001b[0m\u001b[1;33m,\u001b[0m \u001b[0mchdata\u001b[0m\u001b[1;33m[\u001b[0m\u001b[1;34m'cleaned'\u001b[0m\u001b[1;33m]\u001b[0m\u001b[1;33m,\u001b[0m \u001b[0mbin_en\u001b[0m\u001b[1;33m)\u001b[0m\u001b[1;33m\u001b[0m\u001b[1;33m\u001b[0m\u001b[0m\n\u001b[0m",
      "\u001b[1;32m<ipython-input-110-956d0c1962fc>\u001b[0m in \u001b[0;36mrun_wordvec\u001b[1;34m(model, values, encode)\u001b[0m\n\u001b[0;32m     46\u001b[0m \u001b[1;33m\u001b[0m\u001b[0m\n\u001b[0;32m     47\u001b[0m                 \u001b[1;31m# zero the gradient before back prop\u001b[0m\u001b[1;33m\u001b[0m\u001b[1;33m\u001b[0m\u001b[1;33m\u001b[0m\u001b[0m\n\u001b[1;32m---> 48\u001b[1;33m                 \u001b[0moptimizer\u001b[0m\u001b[1;33m.\u001b[0m\u001b[0mzero_grad\u001b[0m\u001b[1;33m(\u001b[0m\u001b[1;33m)\u001b[0m\u001b[1;33m\u001b[0m\u001b[1;33m\u001b[0m\u001b[0m\n\u001b[0m\u001b[0;32m     49\u001b[0m \u001b[1;33m\u001b[0m\u001b[0m\n\u001b[0;32m     50\u001b[0m             \u001b[1;31m#####set the model to eval mode\u001b[0m\u001b[1;33m\u001b[0m\u001b[1;33m\u001b[0m\u001b[1;33m\u001b[0m\u001b[0m\n",
      "\u001b[1;32m~\\Anaconda3\\envs\\tensorflow\\lib\\site-packages\\torch\\optim\\optimizer.py\u001b[0m in \u001b[0;36mzero_grad\u001b[1;34m(self)\u001b[0m\n\u001b[0;32m    160\u001b[0m             \u001b[1;32mfor\u001b[0m \u001b[0mp\u001b[0m \u001b[1;32min\u001b[0m \u001b[0mgroup\u001b[0m\u001b[1;33m[\u001b[0m\u001b[1;34m'params'\u001b[0m\u001b[1;33m]\u001b[0m\u001b[1;33m:\u001b[0m\u001b[1;33m\u001b[0m\u001b[1;33m\u001b[0m\u001b[0m\n\u001b[0;32m    161\u001b[0m                 \u001b[1;32mif\u001b[0m \u001b[0mp\u001b[0m\u001b[1;33m.\u001b[0m\u001b[0mgrad\u001b[0m \u001b[1;32mis\u001b[0m \u001b[1;32mnot\u001b[0m \u001b[1;32mNone\u001b[0m\u001b[1;33m:\u001b[0m\u001b[1;33m\u001b[0m\u001b[1;33m\u001b[0m\u001b[0m\n\u001b[1;32m--> 162\u001b[1;33m                     \u001b[0mp\u001b[0m\u001b[1;33m.\u001b[0m\u001b[0mgrad\u001b[0m\u001b[1;33m.\u001b[0m\u001b[0mdetach_\u001b[0m\u001b[1;33m(\u001b[0m\u001b[1;33m)\u001b[0m\u001b[1;33m\u001b[0m\u001b[1;33m\u001b[0m\u001b[0m\n\u001b[0m\u001b[0;32m    163\u001b[0m                     \u001b[0mp\u001b[0m\u001b[1;33m.\u001b[0m\u001b[0mgrad\u001b[0m\u001b[1;33m.\u001b[0m\u001b[0mzero_\u001b[0m\u001b[1;33m(\u001b[0m\u001b[1;33m)\u001b[0m\u001b[1;33m\u001b[0m\u001b[1;33m\u001b[0m\u001b[0m\n\u001b[0;32m    164\u001b[0m \u001b[1;33m\u001b[0m\u001b[0m\n",
      "\u001b[1;31mKeyboardInterrupt\u001b[0m: "
     ]
    }
   ],
   "source": [
    "m2_init_word = wordvec(bin_en)\n",
    "m2_100iter_word = run_wordvec(m2_init_word, chdata['cleaned'], bin_en)"
   ]
  },
  {
   "cell_type": "code",
   "execution_count": null,
   "metadata": {},
   "outputs": [],
   "source": []
  },
  {
   "cell_type": "markdown",
   "metadata": {},
   "source": [
    "# Saving and Applying the Embedding"
   ]
  },
  {
   "cell_type": "code",
   "execution_count": 34,
   "metadata": {},
   "outputs": [],
   "source": [
    "def saving(model, loc):\n",
    "    torch.save(model, loc)\n",
    "    return"
   ]
  },
  {
   "cell_type": "code",
   "execution_count": 35,
   "metadata": {},
   "outputs": [],
   "source": [
    "def loading(model, loc):\n",
    "    # model must be initialised with same class as saved\n",
    "    model = torch.load(loc)\n",
    "    return model"
   ]
  },
  {
   "cell_type": "code",
   "execution_count": 114,
   "metadata": {},
   "outputs": [],
   "source": [
    "saving(m2_init_word, 'tweets_sentiment/m1_64part_word')"
   ]
  },
  {
   "cell_type": "code",
   "execution_count": 37,
   "metadata": {},
   "outputs": [
    {
     "name": "stdout",
     "output_type": "stream",
     "text": [
      "Model Parameters:\n",
      "Sequential(\n",
      "  (0): Linear(in_features=282, out_features=564, bias=True)\n",
      "  (1): ReLU()\n",
      "  (2): Linear(in_features=564, out_features=141, bias=True)\n",
      "  (3): Sigmoid()\n",
      ")\n"
     ]
    },
    {
     "data": {
      "text/plain": [
       "odict_keys(['0.weight', '0.bias', '2.weight', '2.bias'])"
      ]
     },
     "execution_count": 37,
     "metadata": {},
     "output_type": "execute_result"
    }
   ],
   "source": [
    "#m11_init_word = wordvec(bin_en)\n",
    "#m11_trai_word = loading(m11_init_word, 'tweets_sentiment/m1_trai_word')\n",
    "#m11_trai_word.state_dict().keys()"
   ]
  },
  {
   "cell_type": "code",
   "execution_count": 115,
   "metadata": {},
   "outputs": [
    {
     "name": "stdout",
     "output_type": "stream",
     "text": [
      "Model Parameters:\n",
      "Sequential(\n",
      "  (0): Linear(in_features=282, out_features=564, bias=True)\n",
      "  (1): ReLU()\n",
      "  (2): Linear(in_features=564, out_features=141, bias=True)\n",
      "  (3): Sigmoid()\n",
      ")\n"
     ]
    },
    {
     "data": {
      "text/plain": [
       "odict_keys(['0.weight', '0.bias', '2.weight', '2.bias'])"
      ]
     },
     "execution_count": 115,
     "metadata": {},
     "output_type": "execute_result"
    }
   ],
   "source": [
    "m22_init_word = wordvec(bin_en)\n",
    "m22_trai_word = loading(m22_init_word, 'tweets_sentiment/m1_64part_word')\n",
    "m22_trai_word.state_dict().keys()"
   ]
  },
  {
   "cell_type": "code",
   "execution_count": 116,
   "metadata": {},
   "outputs": [],
   "source": [
    "def embedding(model, encoding):\n",
    "    embed = dict()\n",
    "    wt = np.transpose(model.state_dict()['2.weight'].detach().numpy())\n",
    "    for i in encoding.keys():\n",
    "        val = np.dot(wt, encoding[i])\n",
    "        embed[i] = val\n",
    "        \n",
    "    return embed"
   ]
  },
  {
   "cell_type": "code",
   "execution_count": 118,
   "metadata": {},
   "outputs": [
    {
     "data": {
      "text/plain": [
       "19705"
      ]
     },
     "execution_count": 118,
     "metadata": {},
     "output_type": "execute_result"
    }
   ],
   "source": [
    "word_m1en = embedding(m22_trai_word, bin_en)\n",
    "del(word_m1en['VirginAmerica'])\n",
    "len(word_m1en.keys())"
   ]
  },
  {
   "cell_type": "code",
   "execution_count": 119,
   "metadata": {},
   "outputs": [
    {
     "data": {
      "text/plain": [
       "dict_keys(['What', 'dhepburn', 'said', 'plus', 'you', \"'ve\", 'added', 'commercials', 'to', 'the', 'experience', '...', 'tacky', 'did', \"n't\", 'today', 'Must', 'mean', 'need', 'take', 'another', 'trip', 'it', \"'s\", 'really', 'aggressive', 'blast', 'obnoxious', '``', 'entertainment', \"''\", 'in', 'your', 'guests', 'faces', 'amp', 'they', 'have', 'little', 'recourse', 'and', 'big', 'bad', 'thing', 'about', 'seriously', 'would', 'pay', '30', 'flight', 'for', 'seats', 'that', 'this', 'playing', 'only', 'flying', 'VA', 'yes', 'nearly', 'every', 'time', 'fly', 'VX', 'ear', 'worm', 'won', 'go', 'away', 'Really', 'missed', 'prime', 'opportunity', 'Men', 'Without', 'Hats', 'parody', 'there', 'https', '//t.co/mWpG7grEZP', 'virginamerica', 'Well', \"didn't…but\", 'NOW', 'DO', '-D', 'was', 'amazing', 'arrived', 'an', 'hour', 'early', 'You', \"'re\", 'too', 'good', 'me', 'know', 'suicide', 'is', 'second', 'leading', 'cause', 'of', 'death', 'among', 'teens', '10-24', 'lt', 'pretty', 'graphics', 'so', 'much', 'better', 'than', 'minimal', 'iconography', 'This', 'such', 'great', 'deal', 'Already', 'thinking', 'my', '2nd', 'Australia', 'even', 'gone', 'on', '1st', 'yet', 'virginmedia', \"'m\", 'fabulous', 'Seductive', 'skies', 'again', 'all', 'stress', 'from', 'travel', 'http', '//t.co/ahlXHhKiyn', 'Thanks', 'SFO-PDX', 'schedule', 'still', 'MIA', 'So', 'excited', 'first', 'cross', 'country', 'LAX', 'MCO', 'heard', 'nothing', 'but', 'things', 'Virgin', 'America', '29DaysToGo', 'flew', 'NYC', 'SFO', 'last', 'week', 'could', 'fully', 'sit', 'seat', 'due', 'two', 'large', 'gentleman', 'either', 'side', 'HELP', '❤️', '☺️👍', 'what', 'be', 'amazingly', 'awesome', 'BOS-FLL', 'PLEASE', 'want', 'with', 'why', 'are', 'fares', 'May', 'over', 'three', 'times', 'more', 'other', 'carriers', 'when', 'available', 'select', 'love', 'graphic', '//t.co/UT5GrRwAaA', 'hipster', 'innovation', 'feel', 'brand', 'will', 'making', 'BOS', 'gt', 'LAS', 'non', 'stop', 'permanently', 'anytime', 'soon', 'guys', 'messed', 'up', 'seating', '..', 'reserved', 'friends', 'gave', 'free', 'internet', 'status', 'match', 'program', 'applied', 'been', 'weeks', 'Called', 'emailed', 'no', 'response', 'happened', 'ur', 'vegan', 'food', 'options', 'At', 'least', 'say', 'site', 'wo', 'able', 'eat', 'anything', 'next', 'hrs', 'fail', 'do', 'miss', 'Do', 'worry', 'we', \"'ll\", 'together', 'very', 'ca', 'get', 'any', 'cold', 'air', 'vents', 'VX358', 'noair', 'worstflightever', 'roasted', 'SFOtoBOS', 'EWR', 'Middle', 'red', 'eye', 'Such', 'noob', 'maneuver', 'sendambien', 'andchexmix', 'hi', 'just', 'bked', 'cool', 'birthday', 'add', 'elevate', 'entered', 'middle', 'name', 'during', 'Flight', 'Booking', 'Problems', 'Are', 'hours', 'operation', 'Club', 'at', 'posted', 'online', 'current', 'help', 'left', 'expensive', 'headphones', '89', 'IAD', 'Seat', '2A', 'No', 'one', 'answering', 'number', 'awaiting', 'return', 'phone', 'call', 'prefer', 'use', 'self-service', 'option', 'news', 'start', 'flights', 'Hawaii', 'by', 'end', 'year', '//t.co/r8p2Zy3fe4', 'via', 'Pacificbiznews', 'Nice', 'RT', 'Vibe', 'moodlight', 'takeoff', 'touchdown', 'MoodlitMonday', 'ScienceBehindTheExperience', '//t.co/Y7O0uNxTQP', 'Moodlighting', 'way', 'Best', 'EVER', 'Cool', 'calming', '💜✈', 'freddieawards', 'Done', 'done', 'airline', 'around', 'hands', 'down', 'can', 'book', 'Your', 'chat', 'support', 'not', 'working', '//t.co/vhp2GtDWPk', 'View', 'downtown', 'Los', 'Angeles', 'Hollywood', 'Sign', 'beyond', 'rain', 'mountains', '//t.co/Dw5nf0ibtr', 'Hey', 'flyer', 'But', 'having', 'hard', 'getting', 'Elevate', 'account', 'Help', 'plz', 'win', 'bid', 'upgrade', '2/27', '--', 'SEA', '🍷👍💺✈️', 'unused', 'ticket', 'moved', 'new', 'city', 'where', 'How', 'before', 'expires', 'travelhelp', 'leaving', 'Dallas', 'Seattle', 'Feb', '24', 'elevategold', 'reason', 'rock', 'DREAM', '//t.co/oA2dRfAoQ2', '//t.co/lWWdAc2kHx', 'wow', 'blew', 'mind', 'ladygaga', 'carrieunderwood', 'After', 'night', 'tribute', 'SoundOfMusic', 'Oscars2015', 'think', 'agree', 'All', 'were', 'entertaining', 'Is', '769', 'Was', 'supposed', 'off', 'minutes', 'ago', 'Website', 'shows', 'On', 'Time', 'In', 'Julie', 'Andrews', 'though', 'impressive', 'NO', 'Carrieunderwood', 'wish', 'out', 'Atlanta', 'Soon', 'Hands', 'Will', 'LA', 'February', '24th', '99', 'LGA-', 'DAL', 'deal-', 'trying', 'since', 'page', 'never', 'loads', 'thx', 'Need', 'spotify', 'stat', 'guiltypleasures', 'Lady', 'Gaga', 'She', 'Carrie', 'New', 'marketing', 'song', '//t.co/F2LFULCbQ7', 'let', 'us', \"'d\", 'Meh', 'called', '3-4', 'adding', '2014', 'shown', 'CarrieUnderwood', '😍👌', 'LadyGaga', 'Sorry', 'Mary', 'Martin', 'had', 'beat', 'classics', '0736', 'DCA', '2/24', '2:10pm', 'Tried', 'check', 'Status', 'please', 'heyyyy', 'guyyyys', 'through', 'someone', 'Hi', 'hold', '40-50', 'earlier', 'tonight', '11:50pm', 'Congrats', 'winning', 'Travelzoo', 'award', 'Deals', 'Airline', 'US', '//t.co/kj1iljaebV', 'everything', 'fine', 'until', 'lost', 'bag', 'change', 'reservation', 'Have', 'credit', 'card', 'modify', 'waive', 'fee', 'Or', 'customer', 'service', 'team', 'Let', 'if', 'tracking', 'booked', 'baggage', 'how', 'lax', 'loft', 'needs', 'step', 'its', 'game', '40', 'dirty', 'tables', 'floors', '//t.co/hy0VrfhjHt', 'worried', 'ride', 'plane', 'crew', 'airlines', 'should', 'like', 'yall', 'Sat', 'morning', 'Any', 'correct', 'bill', 'watch', 'some', 'best', 'student', 'films', '35,000', 'feet', 'CMFat35000feet', '//t.co/KEK5pDMGiF', 'different', 'rate/policy', 'media', 'Bags', 'going', 'anyway', 'speak', 'human', 'asap', 'Thank', 'Doom', 'supp', 'biz', 'traveler', 'SouthwestAir', 'JetBlue', 'neverflyvirginforbusiness', 'then', 'once', 'member', 'inflight', 'Im', '100', 'interested', 'flightattendant', 'dreampath', '-G', 'Whenever', 'begrudgingly', 'delayed', 'Late', 'interesting', 'after', 'Cancelled', 'four', 'planned.', 'disappointing', 'which', 'shared', 'business', 'meet', 'neverflyvirgin', 'trouble', 'wife', '//t.co/pX8hQOKS3R', 'Ca', 'bring', 'using', 'code', 'Random', 'distribution', 'avatars', 'bet', 'kitty', 'has', 'disproportionate', 'share', '//t.co/APtZpuROp4', 'Flying', 'Life', 'happens', 'am', 'JPERHI', 'Can', 'help.VA', 'home', 'Why', 'When', 'back', 'RNP', 'Yeah', 'points', 'most', 'recent', 'TV', 'video', 'Just', 'disappointed', 'Flightled', 'went', 'jfk', 'Saturday', 'landed', 'here', 'friendly', 'nomorevirgin', '345', 'redirected', 'or', 'website', 'BTW', 'user', 'redesign', 'tried', 'both', 'desktop', 'mobile', '//t.co/AvyqdMpi1Y', 'scanned', 'passengers', 'leave', 'told', 'remove', 'their', 'class', 'bin', 'uncomfortable', 'find', 'who', 'anyone', 'doing', 'useless', 'boy', 'Prince', 'ressie', 'SF', 'Thursday', '//t.co/GsB2J3c4gM', 'must', 'appointments', 'sfo2lax', 'music', '//t.co/maRcnOCWzn', 'direct', 'FLL-', 'unexpected', 'layover', 'Vegas', 'fuel', 'peeps', 'bought', 'sneaky', 'AM', 'apt', 'Three', 'people', 'same', 'exp', '💕💕', 'RaeAnn', 'she', 'customerservice', 'line', 'hung', 'sarcasm', 'tripping', 'plain', 'text', 'version', 'reluctant', 'enter', 'info', 'scheduled', '714', 'Changed', 'weather', 'Looks', 'getaway', 'deals', '59', 'one-way', 'Lots', 'cities', '//t.co/tZZJhuIbCH', 'CheapFlights', 'FareCompare', '//t.co/RPdBpX3wNd', '//t.co/B2Xi4YG5T8', '//t.co/QDlJHslOI5', '🌞✈', 'come', 'PHL', 'already', 'We', 'horrible', 'pleasecomeback', '//t.co/gLXFwP6nQH', 'concerned', 'tech', 'flown', 'on.Easy', 'helpful', 'representatives', 'comfortable', 'Another', 'rep', 'kicked', 'butt', 'Naelah', 'represents', 'beautifully', 'beautiful', 'front-end', 'design', 'right', 'now', 'b/c', 'back-end', 'secure', 'Love', 'running', 'Gate', 'E9', 'Waited', 'kept', 'Use', 'browser', '2015', 'reputation', 'built', 'does', 'cross-browser', 'compatible', 'And', 'totally', 'Folks', 'problem', 'min', 'delay', 'connecting', 'seems', 'long', 'VA370', 'thanks', 'outstanding', 'NYC-JFK', 'San', 'Francisco', 'absolute', 'ever', 'Every', 'delighted', 'provide', 'complimentary', 'upgrades', 'thats', '120', 'wait', 'calling', 'intern', 'completely', 'month', 'BOS-LAS', 'nonstop', 'depart', 'VAbeatsJblue', 'JFK-', '882', 'failing', 'customers', 'because', 'process', 'link', 'TSA', 'pre-check', 'FiDiFamilies', 'Terrible', 'hotel', 'hotline', 'sorry', '276', 'Cabo', 'Lucas', 'ChrysiChrysic', 'assistance', 'yesterday', 'our', 'give', 'Shame', 'likingyoulessandless', 'register', 'dog', 'Dulles', 'The', 'queue', 'longer', 'Pls', 'advise', 'ROCK', 'Oscars', 'redcarpet', 'oscars', 'oscars2015', 'reallytallchris', 'dropped', 'track', '//t.co/zv2pt6TRK9', 'always', 'Xoxo', 'buy', 'them', 'Creates', 'anxiety', 'frustrated', 'paying', 'extra', 'bucks', 'luggage', 'might', 'afford', 'hiring', 'hand', 'sfo', 'lame', 'world', 'irmafromDallas', 'takes', 'cake', 'flt', 'sooner', 'midnight', 'Monday', 'That', 'cant', 'imagine', 'as', 'Web', 'indicates', 'dude', 'and/or', 'staff', 'super', 'ran', 'WaltDisneyWorld', 'PrincessHalf', 'spoiled', 'comfort', 'paid', 'premium', 'across', 'offer', 'Sad', 'face', 'question', 'possible', 'infant', 'under', 'It', 'giving', 'him', 'Always', 'welcome', 'jessicajaymes', 'dc', 'sunset', 'globe', 'backtowinter', 'work', 'refreshed', '//t.co/VX9vBCTdLf', 'understand', 'DM', 'answer', 'damaged', 'policy', 'destroyed', 'special', 'alone', 'w/2', 'kids', 'Priority', 'boarding', 'thank', 'checking', 'tickets', 'purchased', 'happy', 'coming', '713', 'Field', 'definitely', '23', '0769', 'LGA', 'DFW', 'drivers', 'license', 'expired', 'Friday', 'problems', 'web', 'keeps', 'error', 'contact', 'minute', 'reschedule', 'button', 'greyed', 'rang', '35', 'vendor', 'fix', 'got', '4:50', 'checked', 'email', '50', 'TOMORROW', 'unacceptable', 'into', 'lga', 'Flighted', 'stuck', '1/2', 'pairings', 'include', 'wine', 'Only', 'white', 'offered', 'redwineisbetter', 'wonked', 'look', 'browsers', 'CSS', '//t.co/8qsQMM7KF2', 'agent', 'designated', 'silver', 'Dulles_Airport', 'closed', 'assist', 'pasengers', 'Plans', 'Include', 'Austin', 'Route', 'TopNews', 'Arab', 'Emirates', '//t.co/aqZWecOkk2', 'normal', 'receive', 'reply', 'Central', 'Baggage', 'baggageissues', 'smh', 'Logan', 'airport', 'waiting', 'checkin', '9am', 'Checkin', 'desk', 'open', 'jump', 'Dallas-Austin', 'market', 'Dallas_News', '//t.co/EwwGi97gdx', 'Beats', 'EPS', 'Views', 'Takes', 'LUV', 'Investor', 'Business', 'Daily', '//t.co/FLwmGDAHxu', 'Lister', 'show', '1230', '130', 'begin', 'April', '88.9', 'KETR', '//t.co/SSUVWwkyHH', 'congrats', 'SFO/LAX', 'Fuck', 'united', 'fl1289', 'SFO/EWR', 'clincher', 'follow', 'many', 'apologies', 'worse', 'respond', 'cudtomers', 'shame', 'spend', 'money', 'stranded', 'landing', 'JFK', 'Who', 'reimburse', 'TTINAC11', 'SJC', 'choice', 'Southwest', '😩😭', '10', '14', 'days', 'YOUR', 'confirmation', 'inquired', 'claim', 'tomorrow', 'notification', '1+', 'rebook', 've', 'met', 'Got', 'Upgrade', '+restr', '//t.co/RHKaMx9VF5', '//t.co/PYalebgkJt', 'Gold', 'If', 'CMH', 'lot', 'being', 'thrown', 'see.Very', 'sad', 'Worst', 'stuff', 'wrong', 'Had', 'worst', 'Having', 'issue', 'finding', 'missing', 'item', 'headed', 'AmericanAirlines', 'match.Got', '//t.co/H952rDKTqy', 'asarco_ES_ar', 'lose', 'suck', 'Same', 'persisting', 'Because', 'rec', 'Flightlation', 'notice', 'PS', 'Driving', 'Mon', 'Boston', 'stink', 'PSP', 'ability', 'expected', 'guy', 'dancing', 'high', 'school', 'dance', 'revue', 'quick', 'apparently', 'faster', 'sitting', 'nervous', 'DC', 'sent', 'picture', 'wing', '//t.co/5B2agFd8c4', 'Keep', 'goodness', 'field', 'pressure', '❤️from', 'Texas', 'beatstheothers', 'crisis', 'Please', 'NY', 'Pilots', 'job', 'snow', 'york', 'area', 'monday', 'afternoon', 'Row', 'recline', 'mention', 'soreback', '404', 'mechanical', 'Handle', 'pros', 'tossed', 'drink', 'precipitation', 'scared', '❄️❄️❄️', 'twitter', 'killed', 'rescheduling', 'charged', 'refusing', 'refund', 'access', 'Safari', 'iPhone', 'Seems', 'Mac', 'iPad', 'Passbook', 'clicking', 'CHECKIN', 'received', '24hrs', 'broken', 'header.elevateUser.numOfPointsAvailable', '||', 'Points', 'looking', 'forward', 'rescheduled', 'diehardvirgin', 'VX413', 'One', 'sec', 'Gon', 'na', 'check-in', 'land', 'Cost', '800', 'ugh', 'along', 'subsequent', 'putting', 'PDX', '//t.co/enIQg0buzj', 'gon', 'bug', 'report', 'center', 'bit', 'Like', '//t.co/VPqEm31XUQ', 'Site', 'attendant', '//t.co/PxdEL1nq3l', 'Awesome', 'Watch', 'nominated', 'MeetTheFleet', '//t.co/DnStITRzWy', 'Trying', 'reset', 'password', 'arrives', 'based', 'Silicon', 'Valley', 'disruption', 'FCmostinnovative', 'incubator', 'FastCompany', '//t.co/wU3LbCNcr9', 'Very', 'nicely', 'watching', 'something', 'bubbly', 'departure', '413', 'todays', 'Palm', 'Springs', 'hahaha', 'YOU', 'GUYS', 'ARE', 'AMAZING', 'LOVE', 'sounds', 'fun', 'updates', 'Jfk', 'Lax', 'spruce', 'moose', 'unusable', '910', 'count', 'somehow', 'classiq', 'luv', 'Greetingz', 'continues', 'helping', 'sorted', 'Sweet', 'route', 'Rockies', 'airplanemodewason', '90s', 'blasting', 'gate', 'while', 'SanFrancisco', 'iced', 'coffee', 'passenger', '7D', 'Flt', '338', 'assaulted', 'trust', 'he', 'banned', 'Crew', 'filed', 'FAANews', 'selecting', 'destination', '//t.co/SLLYIBE2vQ', 'severely', 'dented/missing', 'wheel', 'SAN', 'Luggage', 'Miranda', 'easy', 'itinerary', 'shift', 'impending', 'Quick', 'painless', 'see', 'girls', 'inspired', 'become', 'pilots', 'WOAW', 'event', 'March', '2-8', 'ABQ', '//t.co/rfXlV1kGDh', 'Good', 'Vodkatonics', 'entire', 'flight🍸', 'beats', 'expectations', 'shares', 'Santa', 'Cruz', 'Sentinel', '//t.co/qm9dQbai6G', 'plans', 'BIG', 'Love/gratitude.mpower', 'w/', '//t.co/1AGR9knCpf', 'weRin', 'OSCARS2105', 'VIPswagbags', 'AvalonHollywood', '//t.co/ybMbGs0dHn', 'luxuries/aesthetics', 'improve', 'requested', 'window', 'confirmed', 'Not', 'treat', 'member😒', 'Grand', 'Budapest', 'Hotel', 'OscarsCountdown', 'NewsVP', 'Next', '407', 'wtf', 'purpose', 'exhausted', 'frequent', 'flier', 'inconvenience', 'full', 'dfw-lax', '883', 'sweet', 'Boo', 'refunding', 'place', 'rise', 'Q4', 'financial', 'results', 'USA', 'TODAY', '//t.co/lFS4PEFE6y', 'Adds', 'Pillows', 'Instead', 'Lie-Flat', 'Seats', 'First', 'Class', 'Arms', 'Race', '//t.co/rGYwJBbhm4', 'advantage', 'MayweatherPacquiao', 'virgin', 'fight', 'makes', 'cutest', 'salt', 'pepper', 'shaker', '//t.co/vC6Keulg2J', 'Better', 'cabin', 'behind', 'row', 'selected👎', 'DISAPPOINTED', '4Q', 'iol', '//t.co/XZ6qeG3nef', 'fav', 'hot', 'female', 'pilot', '👍👍✈️✈️💗', 'Paris', 'LizaUtter', 'surgery', 'tell', 'doctor', 'contacted', 'RenttheRunway', 'charging', 'dress', 'suitcase', 'errors', 'past', 'ah', 'order', 'KCIAirport', '😊😀😃😄', 'regulation', 'VirginAtlantic', 'Atlantic', 'benefits', 'husband', 'ordered', 'drinks', 'screen', 'came', 'soooo', 'seatbelt', 'light', 'barely', 'turbulence', 'posts', 'consecutive', 'full-year', 'net', 'profit', 'ATWOnline', '//t.co/tvB5zbzVhg', 'Funny', 'story', 'javascript', 'stylesheets', 'dislike', 'GoPro', 'Results', 'Handily', 'Exceed', 'Forecasts', 'NYTimes', '//t.co/gonmRwEM6I', 'position', 'flyLAXairport', 'wondering', 'application', 'achieves', 'profitability', 'despite', 'revenue', 'CAPA_Aviation', '//t.co/zSuZTNAIJq', 'gives', 'positive', 'outlook', 'sees', 'increased', 'competition', 'Reuters', '//t.co/jEu7Od3eYJ', '10:50AM', 'CT', 'tmm', 'sort', 'caching', 'SOS', 'delays', 'few', 'madbee95', 'links', 'emails', '//t.co/2npXB6oBMr', 'says', 'expect', 'choppy', 'gusty', 'winds', 'w/a', 'temperature', 'degrees', 'w/the', 'windchill', '-8', 'loved', 'Mostly', 'safety', 'sorrynotsorry', '112', 'day', 'response.Please', 'section', 'Chrome', 'Might', 'wan', 'wanted', 'routes', 'planned', 'Newark', 'hope', 'Probably', 'inappropriate', 'board', 'saving', 'sanity', '//t.co/ELtBOLjUl9', 'standby', 'They', 'understanding', 'helped', 'Thx', 'Comps', 'brought', '//t.co/TKaUyGcPmS', 'absolutely', 'assets', '//t.co/OArDjjGrrD', 'ready', \"'Noooo\", 'manage', '//t.co/2pUJvCElNg', 'looks', '//t.co/kAcY2AwDbW', 'FreyaBevan_Fund', 'urgent', 'treatment', 'in🇺🇸2y', 'old', 'battling', 'cancer', 'freyasfund', 'may', '//t.co/yPo7nYpRZl', 'biztravel', 'virginAmerica', 'Other', 'less', 'half', 'price', 'round', 'fare', 'stunned', '//t.co/UKdjjijroW', 'WTF', 'happening', '550', 'DTW', 'sold', 'promo', 'SSal', 'momma', 'made', '😁😁😁', 'portfolio', '27', 'tonite', '7AM', 'returned', 'Call', '914-329-0185', 'JKF', '7C', 'shrinerack', 'bound', 'Wifey', 'duffle', 'vday', 'keeper', 'Holla', '//t.co/JlOIbLnair', 'paperwork', 'promised', 'call/email', 'Still', 'resolution', 'central', 'Debbie', 'Baldwin', 'rockstar', 'performance', 'demo', 'evening', 'VX919', 'LAS2SFO', 'BestCrew', 'SheRocks', 'taking', 'care', 'SuuperG', 'her', 'rockstars', 'lovely', 'soft', 'views', '//t.co/CnctL7G1ef', 'mileage', 'challenge', 'several', 'facing', 'styling', 'keep', 'Many', 'Follow', 'ourprincess', 'Bandie', 'Looking', 'Help😍', '💗🇬🇧💗🇺🇸💗', '🎀🌏🎀', '//t.co/UJfS9Zi6kd', 'Lofty', 'SilverStatus', '//t.co/F4Tp0dAwbd', 'Applied', 'Match', 'ball', 'Flightly', 'GMA', 'AmericanAir', '🎀🇬🇧🎀🇺🇸🎀', '//t.co/778AzTDaer', 'adore', 'glad', 'mentioned', 'took', 'years', 'transformative', 'uphold', 'taxes', 'earned', 'statusmatch', 'spending', 'DAL-DCA', 'Get', 'Sent', 'couple', 'messages', 'provided', 'avail', 'try', 'Cheers', '.Thanks', 'smooth', 'Easily', 'SFO-FLL', 'purchase', 'hoping', 'ws', 'forced', 'small', 'carry', 'empty', 'space', 'wjere', 'slow', '//t.co/SzR0pioA21', 'spoke', 'representative', 'solution', 'loyal', 'flies', 'well', 'deeply', 'mere', 'dontdothistome', 'Left', 'blazer', 'Kooples', 'jacket', '3rd', '36', 'T3', 'partners', 'Visa', 'Checkout', 'payment', 'method', 'boost', 'conversion', 'rates', 'etailwest', 'payments', 'visa', 'promoting', 'product', 'southwest', 'recommend', 'noneother', '//t.co/tFaNXBh1Cf', 'pls', 'AUS', 'Bruh', 'giannilee', 'Turn', 'VXSafetyDance', 'course', 'obsessed', 'family', 'ok', 'Digging', 'swanky', 'pink', 'mood', 'lighting', 'cabaret', 'singer', 'Think', 'receipt', 'ASAP', 'Could', '150219-000114', '2d', '3d', 'embossed', 'badges', 'patches', 'superior', 'ones', 'currently', '//t.co/3fq3XElbOn', 'VX399', 'standards', 'dirtiest', 'squared', 'Someone', 'picked', 'tweeted', 'Should', 'Avis', 'rental', 'continue', 'car', 'sucks', 'to10.30', 'cust', 'lap', 'child', '//t.co/SfjDuahx9Z', 'skift', 'KarinSLee', 'Of', 'celebrating', 'Happy', 'Chinese', 'Year', 'SFO-', 'chance', 'gift', 'Comenity', 'Bank', 'joke', 'Nothing', 'constant', 'bank', 'also', 'For', 'Grandma', 'Ella', '80th', 'bday', 'greeting', 'stewardess', 'Eastern', 'Airlines', 'tix', 'ATX', 'yr', 'BEST', 'transactional', 'Anytime', 'sugafly', 'Great', 'Wow', 'moment', 'Unexpected', 'gesture', 'send', 'submitted', 'request', 'haven', 'accelerate', '//t.co/CqMm7nuE9m', 'LOVED', 'livewelltraveled', 'sytycd', 'fat', 'yummy', 'CEO', 'jetblue', 'strayed', 'low', 'cost', 'model', '//t.co/96Sctomh29', 'brilliant', 'brisk', 'cue', 'vx363', '//t.co/rMZNIVGmg6', 'ploughs', 'lone', 'furrow', 'MiddleEast', '//t.co/FVUdmh27pF', 'TheNationalUAE', '//t.co/DCoBoKN7EE', '//t.co/vw4P4T4tLh', 'omg', 'omg😍😍', 'virgin✨😱✈️', 'planes', 'thought', 'hawaii', 'pulling', 'hair', 'iPad.do', 'computer', '15', '....', 'Incident', '150202-000419', 'texas', 'moodlighting', '//t.co/N3BVZTY3zI', 'laptop', '4C', 'starting', 'those', 'Guess', 'road', '27…', 'Been', 'needing', 'make', 'trips', 'announced', 'w/fares', '39/way', '//t.co/gA8pbamu0C', 'Sprint', \"'kewl\", '0_0', 'Never', '39', 'dollar', 'LAX-Las', 'deserved', 'FYI', 'virginamerica.com', 'address', 'exist', 'Emails', 'bounce', 'news.Flt', 'towards', 'requirement', 'Cust', 'Svc', 'donkey', 'dicks', 'develop', 'app', 'favorite', 'crap', 'channels', 'UK', 'tv', 'set', 'channel', 'passbook', 'Mobile', 'Mexico', 'integrate', 'Giants', 'heaven', 'Also', 'friday', 'nwk', 'sf', 'BOOM', 'waste', 'paper', 'system', 'accept', 'cards', 'apostrophe', 'surname', 'apostrophefail', 'slots', 'instead', 'Adding', 'likely', 'Tinder', 'TinderTips', 'tinderchamp', '//t.co/jBmVVha63A', 'charge', 'herbal', 'tea', 'black', 'caffeine', 'drinker', 'See', \"y'all\", 'expansion', 'destinations', 'Spread', 'wings', 'announces', 'AUStinAirport', 'DallasLoveField', 'intro', '//t.co/qXnOaQtYN8', '//t.co/JK7qmdfqgf', 'adds', 'Austin-Dallas', '//t.co/XWJoL55FLH', '//t.co/Y8AOrMfkaC', 'learn', 'Hope', 'returns', 'tweet', 'Flight/chng', 'affiliates', 'afiliates', 'INCREDIBLE', 'experienced', 'refreshing', 'Now', 'Philadelphia', 'dreaming', 'Did', 'between', 'Houston', 'OMG', 'FINALLY', '5xweekly', 'A319', '28APR', 'avgeek', 'expanding', 'forget', 'SanDiego', 'kinda', 'sucked', 'earphone', 'jack', 'future', 'poor', 'malfunction', 'Stuck', 'Missing', 'meeting', 'Diego', 'battle', 'DallasLoveField-', '//t.co/6RLz0EBk2X', 'usatoday', 'thankyou', 'DAL-AUS', 'each', '//t.co/xCVQXYkg49', 'nerdbird', 'Jose', 'backyard', 'Consumers', 'competes', 'excellent', 'nerd', 'frequency', 'Portland', '✈️🎉', 'additional', '1k', 'Thurs', '2y', '🇺🇸', 'extortion', 'items', 'worrying', 'carryon', 'broken/stolen', 'lock', 'group', 'room', 'bins', 'bags', 'nightmare', 'forcing', 'lots', '..........', 'artisanal', 'cheese', 'pairing', 'classy', 'sure', '747', '777', 'JFK-LHR', '513mph', 'strong', 'tailwind', 't-minus', '32', 'Silver', 'opens', 'FreeNeverSucks', '😃👍', 'save', '871', '12', 'shit', 'JezzieGoldz', 'club', 'bumping', 'York', '//t.co/HaQc7GDg7c', 'rough', 'LUCKILY', 'thestarter', 'Minneapolis', 'St.', 'Paul', 'YES', 'MY', 'BFF', 'perfect', 'sun', 'visors', 'stay', 'raise', 'man', 'steel', 'WiFi', 'saying', '//t.co/FGRbpAZSiX', 'richard', 'beans', 'don', '=/', 'll', 'ALL', 'RIGHT', 'iOS', 'saw', '/3', 'Man', 'sharing', '//t.co/TsviBTvT8h', 'point', 'hotspot', 'pLate', 'Flights', 'Dad', 'Segway', 'part', 'whole', 'infographic', 'short', 'haul', 'Europe', 'Would', 'defiantly', 'wifi', 'AND', 'ABC', 'network', 'started', 'scolding', 'overhead', 'person', 'seated', 'calls', 'ask', 'myVXexperience', 'While', 'Flighting', 'luck', 'Dear', '1000cost-', 'accommodate', 'commercial', 'lol', '//t.co/pXEXIlSjBs', 'Grouping', 'others', 'exposed', 'actual', 'Cus', 'Serv', 'As', 'travelers', 'affected', 'storm', 'shocked', 'complete', 'apathy', 'toward', 'Umm', 'definitive', 'advance', 'prior', '…tried', '300', 'fees', 'driving', 'PA', 'cut', 'Philly', 'Main', 'Cabin', 'Select', 'without', 'penalty', 'WeRVirgin', \"Y'all\", 'industry', 'months', 'Fargo', 'fargoairport', 'amazings', 'point🙌', 'Reclining', 'kickin', 'feet💤', '6000', '1pm', 'update', 'waived', '2/18', 'reps', 'sign', 'bonuses', 'enroll', 'folks', 'incredible', 'letsgohome', 'regarding', 'Starryeyes_Dev_', 'recieved', 'dm', 'potentially', 'movie', 'lineup', 'actually', 'Book', 'town', '59/way', '//t.co/xRdTOV7nl8', '//t.co/4Y78byAckc', 'JenniferDawnPro', 'MR', 'word', 'resolve', 'assistant', 'Delayed', 'lack', 'deicing', 'filled', 'common', 'ERI-ORD', 'express', 'connections', 'hugely', 'popular', 'ERI-EWR', 'hop', 'international', 'Glasgow', 'U.S.', 'Then', 'orlando', '90', 'mins', 'boarded', 'AU1066', 'tough', 'w/o', 'serious', 'risk', 'accident', 'steep', 'hooked', 'alternate', 'PREVENT', 'issues', 'gla-mco', 'domestic', 'Ta', 'law', 'Nonrefundable', 'Oh', 'Global/FC', 'auto', 'selects', 'economy', 'w/upgrade', 'CheerTymeDad', 'transfer', 'Flawed', 'security', 'logic', '8-10', 'unrealistic', 'child.Ridiculous', 'beautifull', 'United', 'pair', 'shoes', 'necessity', 'David', 'Allan', 'KMM24999563V99860L0KM', 'case', '8719519', 'highbuddyyy', 'cousin', 'worked', 'wonderful', 'Rosetta', '6457', 'Dan', 'Ase', 'wasappreciated', 'voucher', 'January', '26th', 'beginning', 'mail', 'tiredofwaiting', 'emailing', 'executives', 'company', 'maybe', 'timely', 'manner', 'Chase', 'pass', '8yr', 'son', 'suppose', 'weak', 'ya', 'didnt', 'given', 'Miami', 'aeroport', 'jan', '26', 'awards', 'September', 'aegeanairlines', 'availab', 'drive', 'total', 'own', 'explain', 'debacle', 'wants', 'talk', 'Gee', 'almost', 'caring', 'ppl', 'int', 'trusted', 'adult', 'daughter', 'repeatedly', 'Flightr', 'defibrillator', 'preferred', 'anymore', 'My', 'pull', 'SilverAirways', 'partner', 'Platinum', 'Newarkliberty', 'Airport', 'indicate', 'terminals', 'C.', 'Flyingainteasy', 'newly', 'married', 'preexisting', 'refuse', 'reissue', '400', 'mechanics', 'badcustomerservice', 'run', 'instructed', 'shattered', '//t.co/oAflfr7WXB', 'agents', 'rude', 'thankfully', 'Ladan', 'nice', 'right-', 'overnight', 'clients', '11', 'hr', 'IAH', 'recheck', 'taken', 'loaner', 'used', 'illegal', 'according', 'regulations', 'DMed', 'details', 'iah', 'charlotte', 'latrice', 'h.', 'existent', 'Ignored', 'inappropriately', 'touched', 'Kewl', 'Inop', 'abbreve', '_austrian', 'guess', 'awhile', 'UCtraveladvisor', 'form', 'vouchers', 'expense', 'inconvenient', 'anywhere', 'concern', 'upon', 'ground', \"'on\", 'tiredofthis', 'removal', '22', 'Cessna', '//t.co/9v8tMUsJvU', 'else', 'moving', 'measly', 'e-certificate', 'appreciate', '3hrs', 'tarmac', 'UA1116', 'address/username', 'sign-on', 'Am', 'interim', 'expenses', 'Austrian', 'codeshare', 'Rebook', 'incls', 'outside', 'truly', 'breaks', 'guitars', 'unitedbreaksguitars', 'wantmymoneyback', 'TelAviv', 'third', 'Besides', 'impolite', 'Colo', 'disabled', 'search', 'unfamiliar', 'outcome', 'flex', 'rules', 'Even', 'Neurosurgery', 'ICU', 'enough', 'Denver', 'handle', 'Colo.', 'training', 'Too', 'put', 'mistakes', '6533', 'ORD', 'found', 'avoided', 'plague', 'supervisor', 'ZCC82U', '16h', 'connect', 'Gf', 'waited', 'addition', 'arriving', 'KC', 'announcement', 'pre', 'addresses', 'mobility', 'disability', 'requires', 'preboard', 'AWESOME', 'thru', 'dept', 'Okc', 'willing', 'connection', 'upset', 'services', 'employees', 'carrying', 'medical', 'equipment', 'thnx', 'Our', 'intl', 'grp', 'considerable', 'wont', 'accompany', 'active', 'military', 'mom', 'emergency', 'brain', 'WOW', 'getmeontop', 'WEEKS', 'FlightR', 'STILL', 'HAVE', 'NOT', 'RECEIVED', 'MILES', 'FROM', 'THE', 'MileagePlus', 'Gift', 'Card', '150', 'STARBUCKS', 'CARD', 'HANDED', 'OVER', 'improvement', 'complained', 'throwing', 'Unfortunate', 'coincidence', 'OKC', 'Roger', 'McLarren', 'sp', 'LESS', 'Intl', 'apps', 'construction', 'OS', 'category', 'American', '441', 'WC', 'coach', 'bird', 'ahead', 'os', 'controlled', 'rather', 'VerizonWireless', 'App', 'Customer', 'Care', 'telling', 'break', 'sincerely', 'silly', 'delta', 'attendants', 'surly', 'unhelpful', 'seem', 'bothered', 'pesky', 'folk', 'buddies', '30th', 'negligence', 'attempt', 'believe', 'Said', 'bc', 'screening', 'FLL', 'disappeared', 'standing', 'Second', 'Hmm', 'record-', 'Rozana', 'choosekind', '1235/ORD-LGA', 'these', 'nuts', 'eager', 'vision', 'ccicanine', 'guide', 'asking', 'servicedog', 'read', 'Continued', 'bogota', 'everyone', 'worst2unitedflightsever', 'UA', '236', 'wtfodds', 'informative', 'outbound', 'thurs', '4hrs', 'UA1429', '2/19', 'switched', 'aircraft', '3.5', 'crashed', 'Again', '30+', 'Easy', 'knew', 'winter', '//t.co/aQjn4HwNaC', 'negotiate', 'resolutions', '768', 'gong', 'enforcement', 'Bins', 'coats', 'Blackmailed', '£130', 'nullified', 'scam', 'reach', 'honor', 'Taking', 'elsewhere', '✌️out', 'ua1673', 'Supposed', '9:08', 'hear', 'quite', 'pathetic', 'booted', 'umpteen', 'unavailable', 'ways', 'unaccompanied', 'minor', 'simonroesner', 'concrete', 'bench', 'Baby', 'Hannah', 'life', 'surgeries', 'requires.She', 'help.Pls', 'Donate/RT', '//t.co/kQnrrP86A5', 'honour', 'mine', 'ey', 'scheduling', 'huh', 'TRY', 'remorse', 'By', 'simple', 'apology', 'goes', 'hollow', 'obvious', 'well-being', 'shocking', 'pattern', 'repeated', 'neglect', 'disrespect', 'Fingers', 'crossed', 'intact', 'enjoyed', 'incredibly', 'zone', 'ours', 'July', 'ZERO', 'excuses', 'out-of-date', 'causes', 'Everyone', 'members', 'October', 'December', 'talking', 'SNA', 'weekend', 'asked', 'legitimate', 'systemwide', 'vs.', 'localized', 'unreLate', 'Flightd', 'copy/paste', 'skis', 'faith', 'Amazing', 'continually', 'fails', 'held', 'accountable', 'Tourist', 'Wonder', 'Super', 'Tides', 'Tide', 'Century', 'French', 'U.K', 'coasts', '//t.co/gXdqORtsS0', 'probably', 'BBBNE_SD_KS_IA', 'whoever', 'listens', 'caused', 'wonder', 'FB', 'insta', 'produce', '140', 'characters', 'limits', 'negligent', 'resent', 'doesnt', 'appear', 'POP-', '25', 'coupon', '9-hour', 'Ridiculousness', 'learncustomerservice', 'drop', 'cheaper', 'airfare', 'property', 'Heathrow', 'message', 'twitter-literate', 'REALLY', '18hrs', 'unhappy', 'complaint', 'ref.8441639', 'Awful', 'private', 'jet', 'TravelBank', 'recouping', 'funds', '1585', 'meetings', 'ChooseChicago', '3659', 'YUL-ORD', 'yep', '12:30', 'matter', 'atl', 'grounded', 'Montreal', 'ua3659', 'ua3417', 'Louis', 'difficult', 'prepares', 'reduce', 'distress', 'ALWAYS', 'traveling', 'stressful', 'severe', 'seeking', 'client', 'B/c', 'confident', 'works', 'indication', '.Thnx', 'bot', \"'improvement\", 'easily', 'attained', 'worth', 'unrivalled', 'California', 'airports', 'one-stop', 'year-round', 'ThaiAirways', 'seeing', 'conf', 'Thai', 'Luckily', 'communication', '3466', 'atl-ord', 'far', 'horrid', 'note', 'Booked', 'fiancée', 'UNACCEPTABLE', 'HORRIBLE', '17', 'pennypincher', 'ok.', 'To', 'top', 'ANY', 'UnitedAirlines', 'kudos', 'Flightling', 'usually', 'panic', 'youcouldntmakethis', 'brokenwheel', '587', 'on-time', 'advisory', 'quoted', '//t.co/mJkpgVXmPC', 'delayed-no', 'remembered', 'turn', 'heat', '559', 'ORD-seriously', '1584', 'extremely', 'Captain', 'Steve', 'Connolly', 'real', 'resolved', 'politely', 'efficiently', '2/2', 'disputed', 'hence', 'iad', 'clothes', 'curious', 'Saipan', 'Guam', 'adventure', 'CapeAir', 'operational', 'Washington', 'convenient', 'lostluggage', 'leg', 'Chicago', 'China', 'lounge', 'DMs', 'owed', 'file', 'Okay', 'properly', 'train', 'Requested', 'transferred', 'dead', 'remembering', 'load', 'onto', 'forgot', 'Iceland', 'platter', 'abundance', 'atrocious', 'disrupted', 'impossible', 'TALK', 'TO', 'HUMAN', 'terminal', '5am', 'esp', '6am', 'Two', 'recommended', '1001', 'GetMartyHome', 'responded', 'various', 'requests', 'numbers', 'Lusaka', 'transatlantic', 'LHR', 'arrival', '20', 'shower', 'Planning', 'finalizing', 'information', 'Want', 'confirm', 'completed', 'doubt', 'vacation', 'Sure', 'responsibility', 'Definitely', 'compliment', 'thanx', 'followed', '1000', 'unitedairlines', 'remember', 'EWR-STI', 'season', '35A', 'pays', 'nope', 'sleep', 'assured', 'updated', 'j-burg', 'holiday', 'RUINED', 'compensation', 'his', 'original', 'He', 'frankly', 'happen', 'defines', 'valid', 'strange', 'inbound', 'canned', '1K', 'unforeseeable', 'lands', 'delivered', 'arrive', 'delivery', 'hotels', 'hostage', 'passes', 'FAIL', 'Outbound', '70', 'lbs', 'Returning', 'WHY', 'writing', 'Machine', 'Human', 'required', 'lindaSWC', 'w/our', '//t.co/HIsc4NdMgZ', 'Flightn', 'fend', 'ourselves', 'Getting', 'runaround', 'Each', 'employee', 'blaming', 'previous', 'local', 'UNITED', 'Malaysia', '0011', '800-55558000', 'Kuala', 'Lumpur', 'KUL', 'okay', 'ase24766m', 'Find', 'w/delays', 'eservice', 'united.com', 'BG0KWM', 'Narayanan', 'Tel', 'A380s', 'lady', 'tel', 'aviv', 'Aviv', 'knows', 'MelanieSpring', '^KN', 'Most', 'answers', 'Unacceptable', 'feedback', 'taxis', 'offering', 'rooms', 'tired', 'action', 'solving', 'skiing', 'bright', 'keeping', 'promise', 'comment', '4124', 'CLT', 'move', 'Unhappy', 'idea', 'neveragain', 'responding', 'inquiries', 'within', '7-10', 'Bergstrom', 'Cancun', '737', 'frustrating', 'Continental', 'equals', 'Deep', 'Vein', 'thrombosis', 'figure', 'pack', 'screws', 'connectns', 'claims', 'hotl', 'Fran', 'pax', 'Way', 'hou', 'Wtf', '//t.co/ZfqMpGXVS6', 'POS', 'Lost', 'Agent', 'waking', '3am', 'counter', 'nobody', '10:55', 'unfortunately', 'Tarmac', 'fly2ohare', 'flypdx', 'GonnaBeALongNight', 'Darquenloveli', 'regret', 'finally', 'UA80', 'Manchester', 'doors', 'premier', 'briefings', 'annoyed', 'yea', 'phoenix', 'Delays', 'bullshit', 'consolation', 'stellar', 'hour+', 'encountered', 'ua3576', 'b1', 'ray', '736', '917', 'unfortunate', 'Tumitravel', 'xmas', 'razor', 'ripped', 'front', 'pocket', 'Delhi', 'centers', 'Poor', 'spread', 'thin', 'stressed', 'Yes', 'Does', 'mistake', 'absurd', 'fact', 'inconveniently', 'constantly', 'challenges', 'charges', 'prevent', 'DVT', 'addtl', '180', '//t.co/xC6jQ70r7B', 'sarcastically', 'walked', 'happily', 'publicly', 'strangers', 'luke_mcintosh68', 'nah', 'needed', 'split', '2wks', 'ruined', 'w/25', 'phn', 'means', '1146', 'BWI', 'Pretty', 'pm', 'mammoth', 'appropriate', 'reviewed', 'nada', 'Expect', 'fixed', 'Tweeting', 'BS', 'questions', 'stall', 'Phone', 'Yo', 'yo', 'Going', 'HelpImStuck', 'highly', 'unprofessional', 'overbook', 'rearrange', 'mismanagement', 'considering', 'claimed', 'unable', \"'call\", 'corp', 'JP', 'sabe', 'Ice', '15+', 'Flightations', '1249', '3:30', 'courtesy', 'diff', 'tag', '0016', '964012', '964077', '964078', 'decorum', 'consider', 'revisiting', 'terrible', 'certificate', 'bar', 'post', 'disappointment', 'apple', 'spoil', 'bunch', 'impress', '//t.co/cIh1qNllcM', 'phones', 'Twitter/email/web', 'Ethiopia', 'adopting', 'existing', 'onboad', '110', 'volt', 'outlets', 'deserves', 'html5', 'FTW', 'effing', 'holidays', 'incompetence', 'FlyYOW', 'Twitter', 'letting', 'helps', 'Finishes', 'walks', 'Connection', 'exact', 'Checked', 'carry-on', 'ridiculous', 'encouraged', 'CPAP', 'carousel', 'stopped', 'sched', 'monitor', 'patterns', 'jobs/lose', 'transition', 'easier', 'Delay', 'DEN-CLE', 'manually', 'tags', '1ker', 'friendlyskies', 'spare', 'unless', 'Zambia', 'disaster', 'period', '2am', 'Ridiculous', 'reimbursement', 'UA938', 'ORD-LHR', 'loaded', '30min', 'Frigid', 'Plane', 'feels', 'falling', 'apart', 'fleet', 'served', 'beverage', 'ua6076', 'notcool', 'balancing', 'major', 'impact', 'cyberattack', 'unscheduled', 'refueling', '4ward', 'bed', 'PB', 'sandwich', 'spent', 'hundreds', 'rectify', 'situation', 'quiet', 'UA276', 'sked', 'Pilot', 'computers', 'clue', 'ends', 'Come', 'traveled', 'literally', 'Made', 'list', 'StatusMatchPaidOff', '//t.co/ATfRKp6goY', 'refunded', 'DIA', 'reminder', '//t.co/pPVA4Rch9f', 'looked', 'A320', 'device', 'devices', 'scan', 'inside', 'changes', 'thinks', 'wasted', 'failures', 'Soooo', 'assume', 'norm', 'Terrific', 'Vancouver', 'Calls', 'resulted', '2hrs', '2day', 'suspect', 'investigated—my', '~3', 'Case', '8477733', 'requesting', 'wi-fi', 'Where', 'efforts', 'correct—I', 'final', 'Today', 'finest', 'prevented', 'advising', '200', '1032', 'UA63', 'Madrid', 'mass', 'confusion', 'fro', 'MaryJo', 'failure', 'trend', 'Software', 'projects', 'airplane', 'reports', 'delaying', 'Currently', 'OGG', 'rebooting', 'dispatch', 'pivotalcf', 'shaky', 'touch', '//t.co/hj5kq82Chn', 'however', 'control—the', 'displayed', 'closest', 'clothing', 'comically', 'ASE', 'adjacent', 'gates', 'clear', 'GRK13575M', 'reference', 'discuss', 'experiences', 'shot', '746', 'Pacific', 'Rim', 'Date', 'Night', 'randomly', 'spot', 'repeatably', 'generic', 'Yet', 'Kindle', '1544', 'Burgundy', '27D', '0162424965446', 'unnecessary', 'carseat', 'loner', 'Decisions', 'MandarinJourney', '//t.co/xbQqqbRgVF', '^KP', 'momsgoodeats', 'amenity', 'kits', 'PJ', 'included', 'AA', 'thehipmunk', 'showed', 'site—it', 'ensure', 'correctness', 'lie', 'flat', 'STL', 'date', '25th', 'mllovelace', 'Premier', '//t.co/u6Duw27mDE', '^JP', 'membership', 'catch', 'Original', 'wastedtime', 'Dmed', 'Karen', 'Salisbury', 'Found', 'UA1516', 'tells', 'RenoAirport', 'Reno', 'continental', 'chicken', 'feat', 'fairs', '1016', '6:55am', 'contacting', 'DEN', 'Direct', 'Ugh', 'caught', \"O'Hare\", '20minutes', 'whitterbug', 'Reservations', 'reinstated', '^EY', 'captain', 'behalf', 'office', 'board.', 'laughed', 'funnycaptain', 'Dm', 'referencing', 'photo', 'attached', '6232', 'JAC', '//t.co/PnBajfkmHG', 'These', 'Christmas', 'vacatinn', 'devalue', 'THANK', 'Secured', 'VERY', 'N.', 'Dorns', 'thanked', 'goodenoughmother', 'damn', 'Greetings', 'Air', 'Canada', 'Lounge', 'YVR', 'diverted', 'MSY', 'cared', 'Male', 'agnt', 'threatens', 'Canadian', 'pic', 'announce', 'Apollochplayers', 'reserv', 'w/out', 'permission', 'PH6RPS', 'Stressed', 'Overwhelmed', 'delyd', 'LAS-DEN', '1657', 'Yelling', 'tho', 'frm', 'GJT', 'reFlight', 'OUR', 'PERMISSION', 'goodenufmother', 'connector', 'cozy', 'floor', 'OHare', 'gross', 'HelpMePlease', 'AnyoneThere', 'statement', 'vice', 'directly', 'example', 'Vail/Eagle', 'dealing', 'otherwise', '//t.co/5hpSqVRjK8', 'BusinessTravel', 'proper', 'Delta', 'Stood', 'inline', 'disgutedindenver', 'upload', 'on-demand', 'listing', '✈️', 'inadequate', 'reebok', 'rockinwellness', 'International', '//t.co/tKVmHBkeC3', 'quickly', 'tool', 'dustyob', '45.', '4:00', '//t.co/zCBJyo6lsN', 'unfriendlyskies', '//t.co/QuzVmK2rTR', 'empathizes', '1stClass', 'w/nonworking', 'entertainmnt', 'UnFriendlySkies', '//t.co/lOecO4gmvd', 'seen', 'About', 'mcdonnell', 'Douglas', 'Goodnight', 'searched', 'BOM', 'single', 'saver', 'play', 'Earn', 'miles', 'promises', 'location', 'girl', 'ta', 'SHE', 'ex', 'boyfriend', 'signed', 'notifications', 'shall', '❄️❄️', 'wallet', 'stolen', 'til', 'flysaa', 'baggage…', 'cs', 'repair', 'damage', '0530', 'Tuesday', 'Took', 'Opened', 'changed', 'responses', 'overbooked', 'fit', 'nonsense', 'life.stop', '//t.co/QDebyaHqfM', 'incur', 'mysterious', 'costs', 'Exhausted', 'Link', 'abt', '//t.co/LaRKC8vc4s', 'denied', 'prove', 'fits', 'rookie', 'Read', 'bio', 'exactly', 'Boarding', 'yrs', 'Placing', 'blame', 'assuming', 'Check', 'Staff', 'Expensive', 'etc', 'fucked', 'voided', 'KEPT', 'MONEY', 'WORST', 'svcs', 'Kevin', 'investigated', 'argument', 'sell', '//t.co/onhXHCO6bK', 'demoted', 'cuz', 'hubby', 'PQD', 'enuf', 'Golds.', 'spousal.discrimination/angry', 'Belfast', 'resume', '//t.co/vGN2X1ckg0', 'awful', 'appears', 'raising', 'ignored', 'Lovely', 'power', 'ID', 'reveal', 'bettween', '71A', '73', 'droppeditoffyet', 'rarely', 'ceases', 'amaze', 'iCloud', '703', '1472', 'absurdly', '//t.co/2Z3Jv73IlW', 'vía', 'albanyairport', 'claiming', 'walk', 'spaces', 'poorcustomerservice', 'AN', 'HOUR', 'dfpietra', 'THAT', \"'S\", 'Shaking', 'head', 'forth', 'tsk', 'better-from', '35K', 'RTB', 'multiple', 'way/way', 'back-', 'avoid', 'correctly', 'Extremely', 'management', 'Waives', 'Gives', 'Jana', 'Acosta', 'Salt', 'Lake', 'refuses', 'Angry', 'consistent', 'AlwaysDelayedOnUnited', 'angry', 'branson', 'virginatlantic', 'committed', 'ContinentalAirlines', 'merger', 'CommunicationFail', 'glitch', 'notfair', 'poor/non-communication', 'unaccounted', 'flyers', 'states', 'maintenance', 'truth', 'unfriendly', 'personal', 'possessions', 'departing', 'killing', 'levels', 'reaches', 'Etihad', 'lets', 'realistically', 'Lufthansa', 'ill', 'sick', 'FORGOT', 'replacement', 'theworst', 'Asked', 'typical', '^JH', 'prompt', 'Simply', 'Rather', 'unpleased', 'During', 'NON-English', 'speaking', 'friend', 'TWICE', '12+', 'hates', 'ISIS', 'Nope', 'Walked', 'ORF', 'Showed', 'panicked', 'driven', 'frustration', 'clue.Could', 'effort', 'clearing', 'rollerboards', 'art', 'priority', 'Iove', 'Pleased', '1212', 'Waiting', 'campilley', '😃😃😃', 'Apparently', 'miscalculation', 'choosing', 'difference', 'reuniting', 'aging', 'PoorService', 'general', 'enquires', 'attention', 'LIT', 'Fix', 'AspenBaggageFail', 'Aspen', 'NEVER', 'Disappointed', 'understatement', 'placed', '2000', 'TRUU_Tall', 'certainly', 'recovering', 'condo', 'Florida', 'NOANSWER', 'buying', 'legs', 'Required', 'not-', 'allowed', 'w/mom', 'listening', '1hr', 'overweight', 'fb', 'Mention', '1other', 'measure', 'woman', 'counting', 'max', 'epicfailunited', 'dedication', 'nor', 'miserable', 'mos', 'blocked', \"DM'ing\", 'complain', 'public', 'forum', 'Big', 'Ms.', 'Winston', 'assisting', 'mile', 'article', '~Tom', '779', '389.50', 'twice', 'Means', 'redeem', 'CC', 'ton', 'Whats', 'pedophile', 'Split', 'myself', 'rows', '1254', 'boston', 'Horrible', 'Arriving', 'gains', 'wiped', 'musicians', 'bass', 'rebooked', 'deep', '//t.co/2b4bDTldX2', 'FlyEIA', 'whose', '30k/', 'deserve', 'holder', 'Ok', '1161', 'Cleveland', 'Sunday', '2/22', 'Stay', 'tuned', 'blog', '//t.co/VdFdODqVGx', 'imran_r44', 'UA6366', '1491', 'basically', 'assigned', 'pairs', '2086', 'sense', 'strand', 'cnxns', 'Heads', '//t.co/dplQ3mhQGD', 'drone', 'KeamBleam', 'Bag', 'Change', 'seconds', 'thrilled', 'Loved', 'doesn', 'English', 'deaf', 'Stop', 'yelling', 'slowly', 'hassle', 'terribly', 'hate', 'Fee', '4972', 'control', 'Robin', 'Premiere', 'Desk', 'Huge', 'accommodations', 'originally', 'Jimmy', 'Samartzis', 'Vice', 'President', 'Experience', 'Wo', 'activate', 'surf', 'AC', 'returning', 'Mojave', 'Desert', 'PressureCooker', 'HeatTrap', 'Giving', 'badservice', '8602947', 'jon', '//t.co/58tuTgli0D', 'whatever', 'steps', 'remedy', 'screw', 'UA1270', 'descending', 'farce', 'UA23', 'Dublin', 'London', 'shambles', '45+', 'stillnobags', 'writers', 'hosting', 'cute', 'PJs', 'confidence', 'loading', '//t.co/NfAQHhr09j', 'pt', 'Finally', 'stndby', 'missedWork', 'clientNotHappy', '//t.co/sUPrLfOi8T', 'kindness', 'above', 'justifiable', 'conveniently', 'Woke', 'notification-', '1.5', 'Barely', 'Hopefully', 'w/c', 'result', 'complaints', '45', 'beauty', '//t.co/MvYoizRPdE', 'fill', 'duped', 'BETTER', '//t.co/tmccExYaaQ', 'suffer', 'speed', 'extent', 'Coworker', 'flight-', 'urgency', 'ceo', 'focused', 'partial', '11:56', '1:05', 'G8CVWJ', 'Kailua', 'hell', 'bulkhead', 'reserve', 'o/head', '1B', 'UA246', 'impressed', 'refresh', '18', '13', 'including', 'Flightst', 'mandatory', 'IN', 'MEXICO', 'Thankyou', 'Greatly', 'replies', 'Feel', 'settled', 'RDU', 'medal', 'saga', 'MelissaAFrancis', 'reunion', 'shopping', '211/ORD', 'onboard', 'reasonable', 'Literally', 'preboarding', 'Making', 'unnecessarily', 'pts', 'UA381', 'Feb.', 'Point', 'overselling', 'flights=', 'kick', 'classed', 'ua5396', 'compliant', 'screwed', 'Hold', '5396', 'UA5396', 'MEX', 'NRT', 'dates', 'TBD', 'USD', 'quotations', 'compared', 'BKK', 'saves', 'FWA', 'boards', 'ten', 'gold', 'nowhereland', 'answered', 'USAirways', 'usairwaysfail', 'practical', 'adapted', 'cushion', 'noooooooooooooooooooooope', 'occurs', 'consistently', 'YYJ', 'daily', 'JMS2802', 'outsource', 'loving', 'Outsource', 'SFO-LAX-SAL-CLO', '1h45m', 'collect', 'AV', 'suggest', 'senior', 'manager', 'retrain', 'States', 'faundation', 'Judeo', 'Cristian', 'ideologias', '//t.co/mWBk68k0A3', 'supporting', 'workers', 'puts', 'TIMCO', 'outsourced', 'knack', 'substandard', 'formally', 'handler', 'misconnected', 'bridge', 'freezing', 'temps', '3763', 'IAd-Sat', 'outdoor', 'SERIOUSLY', '5hr', 'CLE-SFO', '1589', 'ONLY', \"'unwind\", '2hr', 'linesforever', 'pointless', 'b4', 'shoe', 'sock', 'foot', '//t.co/755VpYm4Mv', '6:20', '12:20', '3709', 'Either', 'However', 'plundering', 'hard-earned', 'dollars', 'retailbagholder', 'SFO-YYJ', 'bother', 'door', 'BROKE', 'global', 'unsafe', 'STUNNING', 'reimbursed', 'Flightation', 'UA1589', 're', 'Jurassic', 'dinosaur/plane', 'YYZ', 'e-ticket', '0162389030167', '16866853', 'id', '8465981', 'piss', 'Farelock', 'fake', 'shanghai', '858', '5hrs', 'engine', 'sfo-sea', 'confusing', 'shes', 'frigid', 'Laissez', 'Faire', 'Her', 'fritz', '381', 'Held', 'pick', 'aspen', 'flight911', 'released', 'w/others', 'deplaning', '.50', 'peopleOn', '//t.co/HfoF33iyhi', 'extend', 'advertise', '.Tells', 'AirCanada', 'Lesson', 'verbal', 'written', 'confirmations', 'BUT', 'ticketed', 'electronic', '1.75', 'precioustime', 'confirming', 'Shameful', '//t.co/6kqLhVaP7G', 'moms', 'UA871', 'pray', 'FYVRFN', 'tickt', 'chair', 'STEP', 'UP', 'Lol', 'forces', 'baby', 'complains', 'meals', 'san', 'francisco', 'Unreal', 'issued', '4yr', 'Tickets', 'fixing', 'l8r', 'Arrive', 'Taiwan', 'Reservation', 'Slow', 'Sukhdeep', 'excuse', 'understaffed', 'costumer', 'Weather', 'Has', 'departed', 'Crisis', 'averted', 'Beers', '6th', 'prize', 'SBA', 'waitingonapilot', 'denver', 'siouxfalls', 'whyairtravelsucks', 'Understood', 'reaching', 'oops', 'discomfort', '3750', 'Last', '5000', 'UA5282', 'x2', 'crazy', 'frustratingly', 'heads', 'b44', '9:30am', 'MPAgent', 'seanMFmadden', 'PeterStraubMMA', 'jmercadoMMA', 'TonySimsMMA', 'UA3426', 'stretching', 'exhausting', 'Ha…', 'robbing', 'UA4646', '2/23', 'MegZezzo', 'injured', 'TY', 'roadwarrior', 'will1531', 'UA1532', 'travelled', 'SCL-', 'IHA', 'feb', '17.', '21L', 'ON', 'FA', 'From', 'worthless', 'SUCK', 'shut', 'scotthroth', 'scott', 'suggestion', 'JH', '3866', 'stand', '25mins', 'Problem', '30mins', 'police', 'msg', 'invoice', 'dry', 'cleaning', 'wet', 'DELAY', 'BECAUSE', 'CA', \"N'T\", 'PRINT', 'PIECE', 'OF', 'PAPER', 'MCI', 'DEL', 'Preferably', 'Jet', 'Airways', 'EWR-BRU-DEL', 'segment', 'assign', '174', 'There', 'deliver', 'Slightly', 'searching', 'altitude', 'sharp', 'drops', 'transaction', 'PQMs', 'PQDs', 'showing', 'acct', 'policies', 'make/change', 'reservations', 'ETA', 'More', 'communication/details', 'rights', 'btv', 'nite', 'cun', 'ewr', 'WORSTCUSTOMERSERVICE', 'rerouted', 'intended', 'solved', '7:21', 'dulles', 'flierfriendly', 'Doctors', 'notes', 'Among', 'issues-', 'pleased', 'garbage', 'cry', 'supplies', 'limited', 'epic', 'reagan', 'jetway', 'Brussels', 'operated', 'B767-300ER', 'Zurich', 'ZRH_airport', 'replacing', 'B767-400ER', '6MAY-23SEP', 'till', '23OCT', 'Venezuela', 'UA1130', '+more', 'B777-200ER', 'Milan', 'Malpensa', '7APR', '28MAR', 'Frankfurt', 'airport_fra', '2JUL', 'huge', 'fan', '683', 'bad4business', 'Beyond', 'Sked', 'double', '++', 'svc', 'Lisa', '634', 'breakfast', 'Rachelle', 'irritated', 'gets', '^JJ', 'Joking', 'humor', 'seatback', 'UA1260', 'birthdate', 'Glad', 'copy', 'paste', 'failed', 'Small', 'ual', '605', 'hanger', '1153', 'Lax-EWR', 'sdf', 'ATL', 'Tampa', 'Arrived', 'Wifi', 'Birthdate', '11/13/2012', 'robotic', 'UA862', 'deck', 'dismissed', 'DR', 'write', 'bounces', 'worstservice', '433', 'clowns', '500', '4th', '6-year-old', 'terribleservice', 'NoService', 'campus', 'visit', 'wearing', 'Adopting', 'ADD', 'GRR', '2/28', 'recognize', 'Terri', 'Raleigh', 'freq', 'treated', 'poorly', 'ServiceFail', 'ua1619', 'rsw', 'Saga', 'home.Intentional', 'lousy', 'AFTER', 'reissued', '42', 'fault', 'blatant', 'LIE', 'Jersey', 'jx4s2t', 'honeymoon', 'damper', 'iy', 'WHERE', 'IS', 'RECEIPT', 'upgraded', '//t.co/DAjWzhLVyu', 'STI', 'building', 'gotten', '737-800', '3511', 'ORD-DCA', 'Newark-Brussels', 'EU', '.We', 'agreement', 'certain', 'epicfail', 'CX', 'de-icing', 'Make', 'aware', '//t.co/t5mRj5Yw6I', 'hilarious', 'hahahahaha', 'WHy', 'KTN', 'applying', 'Unfortunately', 'picking', 'funny', '1086', 'BEGGING', 'stamp', 'yourself', 'wreck', '//t.co/0pRGySvuRm', 'sending', 'main', 'Due', 'officially', 'displaced', 'DeltaAssist', 'pleasant', 'timeliness', '1m', 'switching', 'bouncer', '//t.co/MHHS9RUpLv', 'ShowExpert', 'Mileage', 'Program', 'fraction', 'Saying', 'ons', 'UA3388', 'Re-Flight', 'acknowledge', 'affiliate', 'losing', 'DOT', 'london', 'straightend', '3745', 'brother', 'Victoria', 'condescending', 'house', 'sombrons', 'Michelle', 'T1', 'pleasure', 'Sending', 'Stopped', 'bdl', 'pssngrs', 'chk', 'notcomingback', 'Group', 'Almost', 'Groups', '3-5', 'Explorer', 'Facebook', 'fuckinlame', 'naia_miaa', 'WILL', 'befor', 'bos', 'reclining', 'lastflightwithyouever', 'efficient', 'layout', 'kiosks/bag', 'lines', 'definition', 'Additional', '75', 'groups', 'UA51', 'Barbara', 'FABULOUS', 'CUST', 'SERV', 'you😊', '//t.co/KMQuLY9g5E', 'sleep.But', 'wake', 'BA_USA', '20mins', 'CMH-IAD', 'BF', 'GF', '919', 'further', 'Cc', 'CiscoJimFrench', 'cobedien', 'Maybe', 'HOPELESS', 'Tues', 'encourage', 're-interview', 'sole', 'UAL', '6166', 'BUF', 'Blatantly', 'stable', 'Uncomfortable', '-going', 'Nashville', 'Downgraded', 'super-fast', 'CGJase', '11th', 'surprised', 'Morning', '4603', '10am', 'mktg', 'branding', 'ads', 'savings', 'cxp', '430am', '8pm', 'File', 'DCA48810M', 'Fail', 'solutions', 'freaked', 'limbo', 'DENAirport', '787', 'snowy', '//t.co/w1AaKJumXA', 'inefficiency', '70min', 'attempted', \"'error\", 'UA992', '//t.co/49pV3KcHNR', 'Coach', 'interior', '992', 'salvaged', '80s', 'Tiny', 'lifevests', 'dozen', 'CSR', 'Kiosks', 'Rebecca', 'Levi', 'PLZ', 'aaaand', 'catching', '6AM', 'snowstorm', 'hotel-how', 'patience', 'whats', '1205', 'newark', 'DelonGerry', 'Peace', 're-booked', 'UGGH', 'bus', 'WMASS', 'BDL', 'changing', 'annoying', 'Missed', 'UA1568', 'UA1543', 'uplink', 'prob', 'compensate', 'hearing', 'jacked', 'cousins', 'de-ice', 'AGAIN', 'Disgraceful', '1580', '//t.co/H3k3oWOhD1', 'filling', 'hit', '//t.co/JbDkxd6eFz', 'FOREVER', 'refused', 'tone', 'language', 'managed', 'lazy', 'reasons', 'grand', 'watched', 'ice', 'frozen', 'metal', 'walkway', 'Wasted', 'jobs', 'inept', 'truck', 'hours-', 'value', 'AirlineSecurity', 'cking', 'Ever', 'Actually', '//t.co/Qf0Oc2HqeZ', 'Managed', '10:00pm', 'fast', 'reconsider', 'attitude', 'level', 'respect', 'expects', '1247', 'Ph', 'pat', 'sat', '9:05', 'Over', 'Disgusting', 'restore', 'surprise', 'nogate', 'fucken', 'worstairlineever', 'belabor', 'rollers', 'maybemange', 'alittlebetter', 'GATE', 'howisthatpossible', 'w/u', 'valuable', 'removed', 'parked', 'Stranded', 'desperately', 'girlfriend', 'Flightled/delayed', 'chances', 'coat', 'frontrunner', 'oscars2016', 'KING', 'woeful', 'sponsor', 'Worked', 'charm', 'welldone', 'goodflight', 'friendlysky', 'pretzels', 'frauds', 'lowered', 'earn', 'gottogetbetter', 'Apart', 'talked', 'caned', 'crappy', 'performing', 'placed/ranked', 'century', 'legal', 'hanging', 'intentionally', 'higher', '1130', 'felt', 'bait', 'switch', 'tactic', 'stayed', 'IAH-MNL', '4/1/15-4/17/15', 'advertised', '1038', 'bookable', 'clicked', '//t.co/N7oSjz8a59', '3/31/15', '4/17/15', 'advertising', '1051', 'view', 'MI', 'connected', 'resources/ratings', 'quality', '8th', '//t.co/deWIthPeW2', '1534', 'regards', 'bounced', '472', '//t.co/DQJl8vZ2h2', 'spanish', 'mech', 'sincere', 'sunglasses', '8am', 'retrieve', 'reccewife', 'exception', 'Heh', 'UA1731', 'contract', 'PVD', 'UA1469', 'upcoming', 'Singapore', '435', 'cover', 'dumb', 'programs', 'hurt', 'ua', 'taxi', 'bull', '600', '10,000', '6600', 'courrier', 'memories', 'avalible', '7am', 'comes', 'hotelliving', 'crying', 'ski', 'prolly', 'tryna', 'fulfill', 'dreams', 'attempting', 'locate', 'worker', 'Thailand', 'Toronto', 'seriousness', 'Given', 'circumstances', 'disconnect', 'PR', 'strategy', 'liars', 'segments', 'BAD', 'Maui', 'DIS-SERVICE', '100+', 'FlightFail', 'Hour20Delay', 'reliable', 'happycustomer', 'DOESNT', 'GIVE', 'SHITS', 'ABOUT', 'THEIR', 'CUSTOMERS', 'none', 'tweets', \"'ya\", 'travelling', 'Melbourne', 'Bogota', 'Colombia', 'relative', 'MY8YB4', 'Clarita', 'Jaramillo', 'Mejia', 'doorstep', 'act', 'united-rebooked', 'OMA', 'Spotty', 'stressors', 'quote', '//t.co/GGuIg3t28z', 'vague', 'organization', 'timing', 'Otis', 'Bay', '8.', 'pissed', 'important', 'StrandUsInDenver', 'HourAndTenMinuteDelay', 'kidding', 'Bagage', 'ny', 'trace', 'HourDelay', 'MultipleDoorOpeningAndClosing', 'DangerOfGettingSnowedIn', 'dissapointment', 'FUCKING', 'BAG', 'fuck', 'fucking', 'TELL', 'ME', 'OR', 'NUMBER', 'CALL', 'SAN68059M', 'thanking', '4461', 'braving', 'amongst', 'Flightlations', '8:23', '//t.co/xAToxBnsFa', 'describe', 'LOL', 'UA6259', 'Per', 'flightaware', 'tail', 'UA5525', 'probs', 'Miss', '1758', 'vacate', 'findanothergate', '2:30', 'dinner', 'acc', 'honest', 'Ua6318', 'Seriously', 'solve', 'Charging', 'Brilliant', 'excellence', 'efficiency', 'Huh', '//t.co/XlTV5z6sT1', 'Kansas', 'KCI', 'except', 'ua1758', 'irresponsible', 'fedup', 'disastrous', 'den', 'capt', 'sympathetic', 'Questions', 'unanswered', 'explanation', 'UA978', 'São', 'Paulo', '1180', 'Asking', 'availability', 'intent', 'cab', 'PIT', 'baftz', 'rcvd', 'extended', 'dont', 'delivered/Hotel', '10pm', 'UA484', '11:30', '//t.co/i9s86KiHge', 'cheap', 'UA1510', 'cooker', 'Cheap', 'WorstAirline', 'Sundays', 'travels', 'misses', 'horrific', 'comedy', 'incompetent', 'UA3785', '++unhelpful', 'ideas', 'ai', 'bummer', 'clothes/suit', 'realize', 'bag/', 'contents', 'suit/shirts', 'cleaned', 'Mtgs', 'knowing', 'discover', 'fueled', 'im', 'voicemail', 'riot', 'inaccurate', 'Ive', 'resolving', 'Hung', 'reboot', 'attentiveness', 'BHM', 'FernHeinig18', 'accountability', '//t.co/2nY5TuXFqf', '4232', 'sardine', 'belief', 'EWR-FLL', '3-8', 'compare', 'god', 'safer', 'Wanted', 'Jeanette', '.....', 'Educate', 'Bohol', '501', 'w/all', 'volunteer', 'Albuquerque', 'NM', 'Cebu', 'Philippines', 'providing', 'educational', 'UA1118', 'drunk', 'uncle', 'aisle', '//t.co/cdZhTyd0aK', 'thoughtful', 'cos', 'Appreciated', '55', 'mechanic', 'fax', 'log', 'Fax', 'S/O', 'clutch', '🙌🙌', 'hang', 'strikes', 'Common', 'GNV', 'FSD', '2.19-2.21', 'KTM', 'Mike', 'disgusting', 'MCO-', 'social', 'OscarNight', 'MAINTENECE', 'ord', \"'request\", 'Interesting', 'intention', 'pales', 'comparison', 'wages', 'plan', 'nowhere', 'UA647', 'heading', 'improper', 'packing', 'gills', 'expecting', 'comp', 'Houston-bush', 'possibly', 'planet', 'deceptive', 'practices', 'retain', 'granting', 'Neverflyunited', 'Hayden/steamboat', 'HDN', 'shuttle', 'concourse', 'honestly', 'handled', 'UA1534', 'dark', 'tries', 'following', 'Claudia', 'Known', 'Traveler', 'Number', 'MDT-my', 'origin', '5/6', 'Service', 'UA1565', 'SJO', 'Crazy', 'explore', 'me.Seems', 'ongoing', 'CDG-LAS', 'flythefriendlyskies', 'trapped', 'houston', 'sight', 'unitedworstever', 'trappedhouston', 'numerous', 'slept', 'ensuring', '//t.co/NTUIx5dbYR', 'winterstorm2015', 'whichisworsedenordfw', '-How', 'official', 'record', 'gettin', 'sunrise', 'UAL212', 'LAX-JFK', 'steamboat', '3pm', 'describing', 'decline', 'arrogant', 'handlers', 'lungs', '3870', 'runway', 'false', 'welcomed', 'ANA', 'holders', 'grumpykim', 'unbalanced', 'idiots', '//t.co/avRTOWTyzk', 'ers', 'curtesy', 'Inpolite', 'bhm', 'updating', '🙅🙅🙅', 'Nippon', 'replace', 'subtlety', '15yr', 'relationship', 'thus', 'spots', 'rikrik__', 'inconvience', 'convince', 'Resolved', 'itself', 'response/service', 'alwaysLate', 'EVERYTIME', 'UR', '1071', 'bumped', 'fewer', 'awfulness', 'green', 'daughters', '5th', 'Bday', 'present', 'named', 'lpdstock', 'bots', 'obviously', 'PGH', 'Orlando', 'overFlight', 'Departing', \"'more\", 'fixes', 'breaking', 'attitudy-customer', 'worstairline', 'jeffsmisek', 'RobertFor39', 'Fioretti2ndWard', 'garcia4chicago', 'FAA', 'invest', 'near', 'wk', '//t.co/jVJ73ZZa4A', 'Pay', 'shirts', 'suit', 'viable', 'elite', 'pres', 'EQM', 'Elite', 'Once', 'centricity', 'astounding', '//t.co/uygeW2Nosr', 'staralliance', 'PQM', '1,200', '5639', 'dc-10', '//t.co/NS1aCFqCdQ', 'WorstAirlineEver', 'snobby', 'remarks', 'poker', 'sisters', 'UA1266', 'click', 'true', 'ErieAirport', 'logs', 'seg', 'hayden/steamboat', 'siting', 'coast-coast', 'nomorecheckedbags', 'in-flight', 'live', 'UA469', 'DEN-EWR', 'United\\u200b', 'SHV', '23rd', 'UA5168', '/UA795', 'exceptional', 'GiveThoseLadiesRaise', '2065', 'unsure', 'come.This', 'pushing', 'five', 'ass', 'extraordinaire', 'Seau', 'Fong', 'Boise', 'hopefully', 'sometime', 'UA1481', 'STT', 'ase', 'separated', 'ATC', '45min', 'listen', 'radio', 'often', 'TCMParty', 'CE3K', '31DaysOfOscar', 'kiosk', 'b737-800w', 'smallest', 'dad', 'tiny', 'bathroom', 'ad', 'disspointed', 'premier1k', 'WE', 'GOT', 'VOUCHERS', 'FOR', 'HOTEL', 'CAB', 'SERIOUS', 'credits', '+the', 'on+', 'unitedsucks', 'continuous', 'dunno', 'Dunno', '2/20', 'AP', 'B91', 'Fe', 'Ashley', 'Kudos', 'americanisbetter', 'Volkswagen', 'disgruntled', 'whatacluster', '4:36', '6:30', 'enjoy', 'screaming', 'toddlers', 'choose', 'competitor', 'fransico', 'evacuated', '4994', 'Jackson', 'Wyoming', 'Full', 'toilets', 'Deplaned', '2ndary', 'pending', 'misfortune', '44', 'countries', 'outrageous', '1142', 'causing', '6hour', 'flydeltanexttime', 'talks', 'govt', 'Chi', 'Eri', 'zero', 'UnitedAirlinesSux', 'safe', 'sound', 'state', 'whenever', '24h', 'ans', 'sleeping', '806', 'copilot', 'Disappointing', 'bs', 'luggage-', 'Lied', 'proof', 'ouch', 'fair', 'synonymous', 'unfair', 'stingiest', 'Nobody', 'PTFO', 'bastards', 'stingy', 'Maintenance', 'automatically', 'A+', 'fete', '1600', 'Ps', 'deplaned', 'catering', 'poorservice', 'barrel', 'sky', '600mph', 'piece', 'TVs', 'voucher/miles', 'outfitted', 'rubbish', 'meaningful', 'tire', 'Shuttle', 'broke', '425pm', 'CLE', '//t.co/vBfIeo2qJC', 'MISCOUNTING', 'SEATS', 'PLANE', 'UA5097', 'processed', 'yyz', 'busy', '//t.co/6KpyhckA9l', 'rayja9', 'las', 'vegas', 'Goes', 'reading', 'UA230', 'oversized', 'carryons', 'Enforce', 'Conf', 'MQXC64', 'MPWNC2', 'appreciated', 'LSUsoftball', 'LSUQuinlanDuhon', '16-0', '5721', 'PIT/IAD', 'limit', 'deplane', 'Personal', 'Device', 'Entertainment', 'crashing', '10/15', 'texts', '15mins', '15mins-It', 'defend', 'Toilets', 'strongly', 'worded', 'FUnited', 'hire', 'reps.', 'UA3774', 'Norfolk', 'Renting', 'historically', 'lifeline', 'world-hungry', 'moderate', 'Maine', 'Told', 'sector', 'whereby', 'allowance', 'PHL-SFO', 'Major', 'Unfriendly', 'cluster', 'reroute', 'geography', 'down.My', 'Phl', 'flyingwithUS', 'lostacustomer', '15:30', 'stranding', 'disgusted', 'conference', 'continuing', \"'passenger\", 'Memphis', 'Off', 'notify', 'Smallest', 'smoothest', 'allow', 'Says', '//t.co/KcVUbUYExc', 'YXE', 'affect', 'UA6136', '//t.co/4JdvK8tCqx', 'Bereavement', 'discount', 'grandfather', 'passed', 'attend', 'funeral', 'notified', 'Complete', 'violation', 'AerocivilCol', 'maintained', 'aircrafts', 'safely', 'Flightledflight', 'Lmuschel', 'sep', 'F3KxB8', '^ML', ':3:15', 'meant', '3494', 'EWR-ORD', '47', '5491', 'ORD-YWG', '6pm', 'CT.', '5644', 'connex', 'reseated', 'itineraries', '403', \"'missing\", 'Tucson', '3345', 'volunteers', 'bringbackrealstaff', 'earnings', 'JAN', 'dishonoring', 'notifying', 'gay', 'emails/calls', '1:45', '2:00pm', '1:40pm', 'Capt', 'smoothie', '2pm', 'passport', 'recovered', 'Ap', 'Terminal', '//t.co/tFjfMSHa2k', 'tick', 'tock', 'rapidly', 'approaching', 'dream', '1:45pm', 'fantasy', 'hiccups', 'Train', 'communicate', 'pants', 'smelled', 'empathy', 'Japan', 'Uh', '😡😡', 'Re-booked', 'appalled', 'journey', '2/21', 'explained', 'DMing', 'self', 'Swipe', 'Tag', 'ImproveTheProcess', 'Name', 'spelled', 'Cause', 'consistency', 'citing', 'time2switch', 'calendar', 'inquiry', 'universally', 'adopted', '-/', 'BadCustomerService', 'occur', 'Hoping', '12:26pm', 'premier1K', '416', '514', 'Start', 'perhaps', 'retook', 'GooseBayAirport', 'Goose', 'Labrador', '//t.co/4kI6Xr67nk', 'Ua649', 'czamkoff', 'greed', '479', 'btw', 'ahold', 'delete', 'now.3', 're-book', 'characterize', 'TiffanyAndCo', 'NTrustOpen', 'hep', '757', 'Model', '5903', 'notch', 'Less', 'jockeying', 'happier', 'ontime', 'departures', 'logged', 'redeemed', 'Pushing', 'Priceless', '//t.co/thS10LDY2a', 'CVG', 'thread', '38E', 'Twtr', 'Eco', 'Premium', 'UA6016053916', 'occurred', 'purchasing', 'Honalulu', 'delayUA53', 'Kauai', 'screwing', 'CAE', 'Incredibly', 'theairhelper', 'below', 'skilled', 'deleted', 'Norway', 'Shoulder', 'shrugging', 'dependable', 'Western', 'Hemisphere', 'belong', 'Star', 'Alliance', 'SkyTeam', 'staffed', 'Iah', 'hospitality', 'helpfulness', 'Anthony', 'Lastella', '👏👏👏✈️', 'def', 'buzzkill', 'Nicely', '1008', 'Bogotá-Houston', 'enjoying', 'Perhaps', '//t.co/8VnCKgZxl1', 'snowboard', 'boot', 'standard', 'emptied', 'pressurization', '1109', 'Juan', 'personnel', 'Honolulu', 'Appreciate', 'particularly', 'distressed', 'pointed', 'startling', 'Ua', 'cnx', '4geiger', 'burst', 'ua3882', 'crewe', 'Ty', 'earliest', 'Though', 'UA2066', 'UA6194', 'runners', 'fam', 'miscnx', 'checkpoint', 'authors', 'fiction', 'secured', 'UA5037', '//t.co/T78k7aBtWF', 'realise', 'pricey', 'oh', 'stinks', 'feeling', 'stuck.on', 'UNITEDFAIL', 'leadership', 'counts', '11:15', 'night-deplaned', '12:40', 'Inexcusable', 'employee=faceless', 'throw', 'Starts', 'million', 'miler', 'pulled', 'departs', '//t.co/2IKbP8gxWi', 'phantom', 'apeared', 'cmh', 'wouldnt', 'immediate', 'visible', '3387', 'weight', 'hopped', 'winwin', '25/bag', 'platinum', 'mbr', 'assurance', 'Russell', 'Daiber', 'okc', 'Sacramento', 'Dfw', 'Out', 'curiosity', 'arranged', 'announcements', 'Providence', 'handling', '//t.co/3uBCoAsyws', 'conditions', 'UA994', 'Everything', 'induce', 'accepting', 'immediately', 'involuntarily', 'guarantee', 'guidelines', 'acceptable', 'ruining', 'newest', '//t.co/96fTLZWtvO', 'shouldnt', 'Agents', 'pin', 'badbadbad', 'I6EP18', '38', '2.5', \"DM'ed\", 'Nicole', 'Quito', 'Handled', 'professional/nice', 'Pat', 'taxing', 'makestoomuchsense', 'shouldhaveflowndelta', '1547', 'de-iced', 'Albany', 'united1K', 'peanuts', 'layovers', '360', 'LAX-IAD', \"'trained\", 'Claim', 'arose', '1689', 'noticing', 'icing', 'mid-travel', 'lies', '//t.co/BEqoTLNugc', 'Real', 'WashingtonDC', 'Edinburgh', '//t.co/7z3GqEBfK2', 'DKYDE6', '4583', '3636', '606', '4404', 'help.', 'Pa', 'quicker', 'sits', 'clarify', 'eastern', 'auciello', 'transpired', 'belongings', 'BE', 'HONEST', 'Back', 'Ready', 'non-stop', 'UnitedHatesUsAll', 'hdn', 'hdndl11785', 'loses', 'disappears', 'NH10', '5713', '3277', 'wasting', 'FLY', 'WITH', 'CHECKED', 'BAGGAGE', 'English/Spanish', 'Wed', 'unknown', 'courier', 'trashy', 'conversations', 'Spanish', 'mislead', 'operate', 'ramp', 'sends', 'outrage', '//t.co/KkwiwI97A4', 'ots', 'cranky', 'check-ins', 'UA1764', '3883', 'treating', 'no-enertainment-on-6-hour-flights', 'Innovation', 'Hello', '//t.co/HI76BOavXY', 'mths', 'relations', 'humans', 'clean', 'ramps', 'danger', '6491', 'wamo66', 'leaves', 'sister', 'BIL', 'Detroit', 'FIFTY', '2X', '60', 'ea', 'bk', 'Asia', 'Korea', 'easiest', 'BC', 'engineer', 'designed', 'frame', '27A', 'Bush', 'nt', 'unitedagainstunited', '//t.co/g00sAozgtv', '//t.co/Mb3bJwGOAp', 'Consequence', '1531', '.......', 'mess', '//t.co/tlPBaupIk5', 'UA761', 'onboard.Alerted', 'socket.You', 'Vouchers', 'flip', 'beta', 'Tks', 'restriction', \"'We\", 'routing', 'NJ', 'bish', 'Conference', 'begins', 'Up', '14A', 'UA895', '4:30am', 'scream', 'border', 'IND43728M', 'flighted', '4am', 'suntoshi', '2100', 'ticket,12h', 'trvl', 'wifi.Missed', 'con', 'meeting,7', 'chkout', 'Shanghai', 'European', 'Fabrice', 'ggqzqd', 'e.g', 'MUC', 'providence', 'accidentally', 'popuLate', \"'til\", 'NewAmericanStinks', 'UA922', 'aircrft', 'build', 'ottawa', 'ending', '863-', 'pleasure-', '//t.co/trqlpeinzW', 'hey', 'concerns', 'addressed', 'DUH', 'whereabouts', 'Greeeaat', 'ruin', 'Wait', 'unitedairlinessucks', 'alright', 'Especially', 'shitty', 'MaxAbrahms', 'Scooby', 'Doo', 'tour', 'finds', 'feces', 'sprinkled', 'manilla', 'unconscionable', 'hepl', 'ThisIsCoach', 'robotweeting', 'disrespectfully', 'lied', 'strive', 'matters', 'tremendous', 'amount', 'gee', 'actively', 'monitoring', 'serve', 'unreal', 'averaging', '4x', '240minute', 'unbelievably', 'Abysmal', '3x', 'submit', 'UA125', 'deciding', 'published', 'unitedfail', 'UA1550', 'mark', 'redeye', '443min', 'avoidable', 'non-weather', 'Appreciation', 'GoldenTickets', 'flySFO', '//t.co/XzBAjMiekx', 'Figured', 'families', 'children', 'goal', '✔️', 'draw', 'round-trip', '🌴🌴', 'lake', 'loyalty', 'Bangkok', 'accommodation', 'hardly', '1,000+', 'cutting', 'edge', '1/10', 'perk', 'Say', 'acknowledgment', 'download', 'jeokoo', 'routinely', 'solo', 'traveller', 'scary', 'foreign', 'airborne', 'hacks', 'jokers', 'Prime', 'impacts', 'HNL', 'UA252', 'hangs', 'THREE', 'disconnected', 'mis', 'Hah.Not', 'ftw', 'weasel', '//t.co/Flcnnn2USD', '//t.co/6Kp4m0R1f7', 'Much', 'appreciation', 'operator', '354', 'nit', 'tryn', 'comping', 'cxl', '//t.co/o1u96Xc3bo', 'Freakin', 'Pick', 'Suck', 'ABC11_WTVD', 'Continental/united', 'exclusively', 'fl1289sfo/EWR', 'getmeoffrhisFUCKINplane', '2:15', 'reservation-', 'progressed', '919-675-0985', 'badly', 'age', 'fiasco', 'outward', 'qantas', 'lax-Syd', 'FF', 'callback', 'connectfor', '60+min', 'Ewr', '1,5', 'THEN', 'pvd', 'rent', 'NOLO', 'corporate', 'rage', 'created', 'UnitedAirlinesSucks', 'relaxing', 'Global', '//t.co/j4cj0lrF2d', '//t.co/dTLGUQ1kAk', 'sadly', 'wasnt', 'mother', 'nature', 'investigate', 'incident', 'ua90', '1750', 'cruel', '350pm', 'virtually', 'rentals', 'GREAT', 'FLATTERING', 'proud', '//t.co/7br5t5QCXk', 'ParachuteGuy', 'AggieMensGolf', '12thMan', '//t.co/G8DKa3Edhf', 'SUCKS', 'Incompetent', 'matter-', 'Bet', 'water', 'costumerservice', 'legit', 'jk', 'increase', 'legroom', '//t.co/diUfep8n2q', 'CNNMoney', 'yvr', 'zurich', 'segs', '6377', 'tagged', 'Bad', 'pillows', 'grandma', 'ladies', 'closet', 'unitedlies', 'threw', 'UA936', 'rest', 'refueled', 'Hurry', 'retards', 'orig', 'snit', 'stepped', 'compensates', '//t.co/96apr35qan', 'cookies', 'UA57', 'With', 'fingers', 'young', 'Chose', 'swapped', 'ZRH', '2:45hrs', 'Wife', 'Spoke', '1-800', 'tmrw', 'EWR-PDX', 'GPU', 'weird', 'Las', '1125', 'cases', 'define', 'UA1616', 'Spotify', 'lagging', 'stream', 'rate', 'travelocity', 'UA1459', 'threehoursLate', 'print', 'known', 'prescreen', 'decent', '2.5hrs', '6hrs', 'MakesSense', '9:56', 'stated', 'Lack', 'suffering', 'immensely', 'merge', 'airlineGave', 'pounding', 'Sandra', 'offensive', 'commented', '25yrs', 'legally', 'blind', 'operators', 'Tell', 'Which', 'speaks', 'Try', 'fire', 'handedly', 'blow', 'hook', '//t.co/ZHxOk07Aqa', '95', 'invoices', 'approx', 'allowing', 'buddy', 'turns', 'unitedsucksdick', 'rated', 'Print', 'Calgary', 'Both', 'sides', 'eventually', 'extreme', 'Anyone', '732', 'unplanned', 'pain', 'regardless', 'FoxNews', 'CNN', 'msnbc', 'Example-', '4/20', 'upgrade-', 'approve', 'CS', 'a/c', '1171', 'ship', 'flts', 'Hubby', 'skin', 'teeth', 'stunning', 'similar', 'peer', 'beer', 'inch', '//t.co/LulGnwEfFH', 'Miles', 'copay', 'couldnt', 'restrm', 'row7', 'myself/others', 'w/no', 'restating', 'South', 'Additionally', 'halfway', 'ua14', 'PM', 'horribleservice', 'degree', 'Excited', 'YOW', 'YXU', 'six', 'pre-paid', 'DirectTV', 'firstworldproblems', 'peanuts/nuts', 'contradictory', 'advice', 'Anaphylaxis', 'refrain', 'closer', '6:47', 'texted', 'traffic', 'b12', 'Ord', '1220', 'needtobehonest', 'cnxn', 'strike', 'Belize', 'Unimpressed', 'UA3782', 'UA1069', '26F', 'transit', 'unlikely', '4595', 'overheating', '3+', 'hours.Love', 'congratulations', 'Sky', 'electrical', 'Airbus', 'interiors', 'whyjeff', 'Reply', 'preflight', '15-hr', 'w/broken', 'Dreamliner', 'Witness', 'mental', 'breakdown', 'walls', 'Remind', 'activities', 'Fred', 'Flintstone', '//t.co/gKgKZLAwpR', 'regrading', 'Recommend', 'ehsanisMpowered', 'lmfao', 'God', '6:40', 'culture', 'blamed', 'Phoenix', 'RUINING', 'LIFE', 'Shout', 'diligent', 'ua748', 'assignment', 'C4', '//t.co/9xbO5daKaK', 'Ruined', 'events', 'millions', 'ranked', '930pm', '6500', 'somewhat', 'egregious', 'Sam', 'Adams', 'draft', 'usurious', 'explaining', 'capabilities', 'context', 'stevelord212', 'UA1750', 'prison', '6delays', 'reminded', 'carrier', 'Us', '2-4', 'arvls', 'custs', 'w/Cancelled', 'connects', 'irrops', 'americanone', '4016688561', 'MGA', 'uncontrollably', 'livid', 'disregard', 'operations', 'Opal', 'Dragon', 'ALI', 'woven', 'murdering', '//t.co/N2fvElcYgz', 'UA1470', 'Buy', '//t.co/p3N2w8JfpS', 'Road', 'pens', 'collection', 'pen', 'Backup', 'Kurt', 'UA1745', 'Ottawa', 'Suitcase', 'remains', 'JAX', 'BNA', 'UA1002', 'Traveling', 'internationally', 'mild', 'poisoning', 'UA5', 'LHR-IAH', 'responds', 'Flighted.Still', '10voucherwhatajoke', 'formal', 'ages', 'spam/junk', 'case—nothing', 'sloppy', 'raised', 'tagging', 'led', 'backing', 'offenders', 'stood', 'conversational', 'blocking', 'exiting', 'block', 'exit', 'wheelchairs', 'commitment', 'turnaround', 'mgr', 'counted', 'individual', '//t.co/TsvgbrL15f', 'observe', 'crews', 'compensating', 'deodorant', 'shampoo', 'toothpaste', '70oz', 'rollaboard', '715', 'Plenty', '//t.co/5xvNnmLTiW', 'planning', '1hr+', 'concept', 'zones', 'YAAYY', 'YAY', 'PROM', '//t.co/DXicoyioxF', 'away.now', '27L', 'Economy', 'Econ', 'JUST', 'ASKED', 'BOYFRIEND', 'LOUDSPEAKER', 'FLIGHT', '494', 'HE', 'SAID', 'DAY', 'SO', 'MUCH', 'yep—used', 'again-get', 'submitting', '20L', 'Hmmm', 'flyerfriendly', 'LOOONG', 'FRA', 'satisfactory', 'disappoint', 'decisions', 'UA1150', 'normally', 'plowing', 'SATURDAY', 'dies', 'Ebola', '//t.co/hXVVIS0VWw', 'Rhonda', 'straightened', 'kind', 'robbed.Explain', 'GIG', 'carried', 'movement', '15min', 'Be', 'competent', 'rivals', 'filthy', 'disinfectant', 'wipe', 'trash', 'wipes', 'stains', 'aboard', 'Gross', 'cldnt', 'plastic', 'pins', '//t.co/CbV7f3KBKx', '1226', 'ORD-EWR', 'meal', 'catered', 'Invest', 'stock', 'buybacks', 'executive', 'ROC', 'useful', 'substitutes', 'A3', \"o'head\", '26+', 'developers', 'morn', 'w/45', '1.5hr', 'Munich', '20min', 'Home', 'nathankillam', 'Orleans', 'Huston', 'hello', 'phl', 'Cowardly', 'eyes', 'preference', 'Ill', '1427', 'Moved', '333', 'troubling', '//t.co/nmbHNGnMkI', '1632', 'phenomenal', 'apply', 'Traveled', '8000', 'roundtrip', 'hops', 'freaking', 'map', '//t.co/AgPb45v8wt', 'values', 'lostmybusiness', 'insulted', 'disrespected', 'operating', 'Friend', 'appropriately', 'royally', 'fakesincerity', 'boots', 'ha', 'HappyFlight', 'angriest', 'angst-iest', 'Tasha', 'dad_or_alive', 'doubtful', 'sales', 'covering', 'North', 'threatened', 'Thnx', 'non-service', 'MPLS', 'mid', 'deployment', 'vital', 'Line', 'tkt', 'smile', 'Zero', 'Award', 'Computers', 'humour', '//t.co/JNqNbk7HuT', 'Right', 'Tropic', 'Pedro', 'elected', 'appointed', '//t.co/kKEDjNRTWo', 'mistaken', 'scarf', 'Before', 'slightly', 'assure', '3618', 'VP', 'CustExp', 'survey/email', '//t.co/OtFZ7CygUQ', 'City', 'Office', 'guessing', 'overcharging', 'UNBELIEVABLY', 'STOP', 'MESSING', '//t.co/oKtUkjY92O', 'ind', 'IND', 'roads', 'interviewed', 'recruiter', 'interview', '4h2m', '5h2m', 'timezones', 'accuratetraveltimes', '3rdtimethishashappened', '//t.co/e0C9bI09cf', 'BUMS', 'HOW', 'LOSE', 'BIGGEST', 'comcast', 'XFINITY', 'cable/internet', '//t.co/qP6Aw3nLIP', 'decision', 'skills', 'ops', 'pushed', 'Meanwhile', 'festivities', 'swing', 'Fairway', 'overlooking', '17th', 'hole', 'prices', 'unbelievable', 'RipOffs', 'PriceDiscrimination', 'although', 'cracker-jack', 'Trip', 'difficulty', 'makeup', 'nothappy', 'bullying', 'workforce', 'against', 'Hilo', '2hr30min', 'software', '8hrs', 'nothin', 'B36a', '//t.co/bnFlHPXtmw', '//t.co/xAIzW2isml', '21st', 'celebrate', '6475', 'SLC', 'DEN-PHX', '2nite', 'LAX/SNA', '10AM', 'Geneva', 'spaghetti', 'Hate', 'selected', 'non-empty', 'flt803', 'nonupgrade', 'argueing', 'ContinentalAir1', 'Here', 'wakes', 'Total', 'BS.have', 'supply', 'images', 'names', 'astounds', 'history', 'Flight6831', 'pssgrs', 'Psngrs', 'besides', 'overall', 'Services', 'NPBHD0', '//t.co/eWXwXiDTfX', '//t.co/scQUjbvsTA', 'contains', 'poles', 'reLate', 'Impressed', 'dtw-ase', 'Wi-Fi', 'router', 'fuselage', 'UA343', '2/17', 'IS9JX1', 'mite', 'Dr', 'recently', 'bites', 'mites', 'reopen', '1285', 'growing', 'backlog', '16hr', 'Expedia', '55mins', 'document', 'technical', 'difficulties', 'Used', 'AirNZUSA', '//t.co/6hJucP694l', 'upgrading', 'digging', 'earning', '1/3', 'outsourcing', 'advised', 'downhill', 'fliers', 'Long', 'ua1523', 'accounts', 'Login', 'username', 'incentive', 'orbitz', '1514', 'PUJ', '02/20/15', 'Newark-London', 'PANYNJ', 'BoeingAirplanes', 'FroschTravel', '//t.co/RdJ1MwFLg1', 'baldordash', 'Rebooked', 'Bahamas', 'cruise', 'nola', 'errored', \"A'dam\", 'horrendous', 'An', 'sms', 'frequentflyer', 'disgrace', 'JimTrotter_NFL', 'listened', 'diverged', 'Burlington', 'Vermont', 'inefficient', 'procedure', 'DUB-JAC', '29/9', 'JAC-LAX', '8/10', 'LAX-DUB', '13/10', 'G.', 'N33103', 'taxies', 'bhx_official', 'UA26', 'Liberty', '//t.co/IALiCEH2FT', 'afraid', '13th', 'bd', 'party', 'w/proj', 'cond', 'promising', 'Cmh', 'favor', 'inevitable', 'cramped', 'Yuck', 'UA1665', 'cell', 'conversed', '15.99', 'wireless', '6.99', 'greedy', 'piggy', 'inspected', 'routine', 'NYT', '//t.co/bNgpli8JT6', 'Airserv', 'contractors', 'UA1566', 'calamity', 'lostsuitcase', 'noreimbursement', 'pita', '132', 'thoughts', 'comeonpeople', 'Herman', 'relayed', 'chief', '1665', 'difficulties-what', 'teach', 'Officer', 'Safety', '//t.co/1TFH2v0a7z', 'lh', 'pqd', 'coupled', 'policies/cost', 'exacerbates', 'noted', '3/3', 'long-term', 'issue/not', 'ski/bootbag', 'awkward', 'isnt', 'generally', 'in/baggage', 'unhelpfulness', 'illogical', 're-route', '800-number', 'Went', 'a320', 'TPA', 'inches', '//t.co/9tbsJquw41', 'ELP', 'Friendly', 'emb145', 'elpaso', '//t.co/9mEOzBO4xl', 'curbside', 'TeamUSA', 'Addair', 're-Flight', '^CP', 'UA6', 'earnedmybusiness', 'MSP', 'w/3', 'hundred', 'detail', 'usual', 'Cleanliness', 'smells', 'satisfied', '8:03', '495', '7:38', 'forgive', 'BGM', 'Worse', '4651', '1706', 'decided', 'typically', \"King'sCollegeLondon\", 'charity', 'jailbreak', 'RAG', 'PEK', 'Add', 'gluten', 'supervisors', 'aviation', 'NewYork', '//t.co/zv6CfPoHl5', 'paigeworthy', 'rare', 'complimenting', 'gfc', '//t.co/nvLnGLnMGN', 'Thinking', 'danahajek', 'push', 'sobbed', 'consideration', '1136', '//t.co/geG4nghmIE', 'TAG', 'OWN', 'race', 'smoothly', 'worn', 'EnoughIsEnough', 'becoming', '-Mia', 'screenshot', 'wedding', 'irreplaceable', 'milestone', 'repaid', 'Brothers', 'Copa', '635', 'competing', 'Panamerican', 'Cross', 'Country', 'Cup', 'BringYourOwn', 'kleankanteen', '//t.co/daaa0rqBXW', 'teams', 'Championship', 'Columbia', 'His', 'PLENTY', 'Vicky', 'Thomas', 'Rotten', 'at-gate', 'plenty', 'exasperating', 'undergoing', 'walking', 'touching', 'SCVPools', '310-795-2210', 'lax29108m', 'wks', 'Its', 'guitar', 'royal', 'commission', 'extension', 'especially', 'locations', 'seemed', 'Providing', 'situations', 'Leaving', '6:15', 'standbys', 'connectin', 'NYFW', 'Brian', 'cheer', 'w/miles', '50m', '1tix', 'liable', 'youretheworst', 'explanations', 'arguing', 'Looked', '7.Unnecessary', '5-6', 'Incompetence', 'mentioning', 'owner', 'mortified', 'acted', 'yours', 'forever', 'Lea', 'facts', 'keepingit100', 'weaktea', 'leigh_emery', 'UA7985', 'coshared', 'Unable', 'ordeal', 'sigh', 'luggages', '1669', '3781', 'Guitar', 'living', 'per', 'weblink', 'notgoodenough', 'ignore', 'today-', '21', 'fra', 'mco', 'avoiding', '//t.co/VO61LME5ja', 'remaining', 'validity', '767', 'AirlineGeeks', '//t.co/uPocMmuLUN', 'underweight', 'cares', 'pound', 'somebody', 'Rapid', 'Snow', 'fall', 'Everglades', 'faint', 'sunburn', '3367', 'Some', 'saddening', 'John', 'Wayne', 'WheresThePilot', 'Flt1088', '157', 'CHEAPER', '9:05pm', 'UA3462', 'blankets', 'UA1088', 'Treated', 'straighten', 'star', 'alliance', '//t.co/U1ViEuiDF5', 'verify', 'wheelchair', 'dildo', 'terrific', 'mileageplus', 'clearly', 'terriblecustomerservice', '//t.co/feC4i3Vwq7', 'misinformation', 'damages', 'credibility', 'fwiw', 'FC', 'ravioli', 'idiot', 'Typical', 'improved', 'cheers', 'attendents', 'UA1022', 'platinummember', 'furious', '//t.co/IG2dgctt2M', 'bankrupt', 'Marcus', 'listed', 'False', 'unsmiling', 'rep.', 'Breezy', '14hrs', 'department', 'WO', 'UA863', 'SydneyAirport', 'recognition', 'type', 'Loyal', '3:15', '2+', 'UA1157', 'DTV', '10yr', 'Loyalty', 'Team', 'flipped', 'Google', '^LOL', 'spin', 'unitedSucks', 'opaque', 'basic', 'Ted', 'Plus', 'Bye', 'bye', 'B3', '1299', 'M13', 'Swiss', 'LX009', 'behaves', 'disgraceful', 'Amy', 'Lloyd', 'golf', 'cart', 'former', 'PIA', 'quit', 'responsible', 'saved', 'refuel', 'bro', 'Bosnia', '//t.co/M9Nywr5Kbs', 'CPUs', 'JFK-LAX', 'joking', 'blowing', 'proportion', 'significantly', 'goddamn', 'insane', 'resend', 'handy', 'historical', 'society', 'afterall', 'Armrest', 'remote', 'resting', 'elbows', 'mix', 'Seatmate', 'volume', 'bump', 'Listen', 'Remove', 'insulting', '^HA', 'Alavera', 'wins', 'marks', 'turned', 'soda', '//t.co/xhlc30MTfF', 'tucking', 'transfers', 'miles/status', '//t.co/H6HN33JJJE', 'moneynotspentonunited', 'disunited', 'servicefail', 'UA5184', 'CHI', 'WPG', 'patient', 'clockwork', 'KeepIt100', 'booze', 'Bach', '10D', 'folder', 'incompetent/rude', 'untd', 'UA415', '5.5', 'twelve', 'UA4636', 'painful', 'UA82', 'BattierCCIpuppy', 'puppy', '👏👏', 'AIRLINE', 'BEWARE', 'THEY', 'MAINTAIN', 'THERE', 'PLAIN', 'BEEN', 'RUNWAY', 'PAST', 'HOURS', '1997', 'Existing', '0600', 'CMH-ORD', '0638', \"O'hare\", 'SouthBendINWhere', '//t.co/qGwK10dEwv', 'Lindsay', 'Darn', 'memory', 'tight', '.5', 'iflyalot', 'OK', 'clarification', 'IFlyOAKland', 'East', 'base', 'premiere', 'embarrassed', 'launched', 'NWS', 'warning', 'Skywest', '56', 'Honululu', 'beg', 'conection', 'isn', 'letsgo', '4016', '529557', 'chicago', 'Montana', 'waivers', 'frontier', '//t.co/n8WiNFu6C5', 'refreshments', 'Wednesday', 'res', 'combine', '//t.co/Eis9hcNPrO', 'american', '//t.co/0EWj7oKlji', 'snacks', 'uhuh.Group', 'preemptive', '//t.co/yBv0xaowKv', 'FriendlyFriday', 'Awesomeness', 'paws', 'blood', 'appt', '18009174929', '//t.co/6UXwPaduGS', 'litter', 'waiving', 'Winter', 'Storm', 'harsh', 'resell', 'Watched', 'conveyer', 'belt', '//t.co/lyoocx5mSH', 'automated', 'therefore', 'unanticipated', 'd_goodspeed', 'Cares', 'Terribly', 'Confirmed', 'Employee', 'wheels', 'dimensions', 'dmangen', 'visualclubconcepts.com', 'Respond', 'edinburgh', 'entitled', 'transport', 'reeks', 'vomit', 'indicated', 'grossed', 'disappointment-yet', 'again-flying', 'REEKS', '304', '//t.co/QKquRagGoO', 'mad', 'ed', 'num', 'approach', 'bagage', 'partly', 'del-ewr', 'Old', 'flyingRetro', '//t.co/6asuwx3Kv0', 'troubles', '10:30', 'GJQX6J', 'A587CW', 'Discrimination', 'notimpressed', 'inconveniences', 'Cranky', '791', 'reminding', 'expiring', 'June', 'Followback', 'MIA-EWR', '384', '😄😄😄', 'EWR-IAD', '3589', '😡😡😡', 'beingsuckontarmacsucks', 'UA1023', 'visibly', 'Reassign', 'Usually', 'Express', 'Positive', 'Mainline', 'p.s', 'enjoyable', 'SATO', 'unnerving', '//t.co/QdXfT9qqT9', 'refreshes', 'checkout.error', 'Ticket', '358', 'DoUNotWantMyBusiness', 'JedediahBila', 'voted', 'title', 'Jedediah', 'whatstheholdup', 'CHItoCLE', 'themselves', 'teeming', 'morons', 'flights/year', 'UA6357', 'Stat', 'Path', 'railed', 'bobwesson', 'everybody', 'Although', 'slight', 'turning', 'ref', 'recording', 'repeat', 'JJ', '307', 'ethics', 'sir', 'lying', 'splitting', 'quadruples', 'contd', 'trials', 'shoulder', 'specific', 'transcontinental', '72h', 'pleasure/relief', 'lavatory', 'functioning', 'lining', 'menus', 'Changing', 'Winners', 'Losers', '//t.co/F1yvAiO9ul', '//t.co/vGlx6Ykwqg', 'ant_kneee', 'wave', 'warmth', '2:55', 'sentiment', 'login', '337', 'chain', 'expire', 'accruing', 'naming', 'depression', 'familiar', 'unhappytraveler', 'inaccurate/misleading', 'hopethegearmakesitintact', 'regional', 'friendliest', '417', 'ogg', 'HKG', 'KP', 'Bila', '750', '539', 'workin', '395', 'Rolling', 'Narita', 'Tokyo', 'motel', '2days', 'played', '^LO', 'UA475', 'gently', 'placing', 'pile', 'whipped', 'cream', 'Smoothest', 'safari', 'Canadaair', 'jets', 'abuse', 'overcharge', 'privilege', '//t.co/SdyLuKR7pt', 'robthecameraman', 'airfarewatchdog', 'tripitPro', 'accurate', '2hours', 'standbye', 'potential', '6373', 'transparency', '44Stocker', 'Sarah', 'stocker', 'victim', 'SHIT', '1219', 'boiled', '7.99', 'Free', 'preventative', 'unresolved', 'darn', '//t.co/Ph8QJzaPKx', 'narrower', 'bloated', '^MN', 'patiently', 'clarifying', 'uh', '5559', 'YYC', 'lightbulb', 'companion', 'necessary', 'Whoever', 'handshake', 'chocoLate', 'problemsolvers', 'UA4689', 'YHZ-EWR', '129', 'thousand', 'fans', 'utmost', 'tpallini', '//t.co/oDlall5eDH', '5187', 'hurricane', 'checkers', 'Overkill', 'Bummer', 'LRuns4Cupcakes', 'ClarkHoward', 'Issues', 'Kathryn', 'Sotelo', 'arrange', '5957', '1449', 'PBI', 'stow', 'costing', 'aggravation', 'father', 'kit', '//t.co/Pd3nbAAkxH', 'PNR', 'A3ZZ0F', 'waitlisted', 'Jim', 'Compton', 'Jeff', 'Smisek', 'insurance', 'FLT', '3444', 'full-fare', 'GSA', 'lifetime', 'wind', 'chill', 'Ithica', '-17', 't-shirt', 'burn', 'Aw', 'words', 'Totally', 'SOOOO', 'Frontier', 'exceptions', 'misplaced', 'FO', 'keepingtraditionsalive', 'Ran', '-door', 'thanksunited', 'upgrd', 'Kit', 'Kat', 'tasty', 'LaGuardia', 'tray', 'table', 'size', 'mouse', 'pad', '1558', '//t.co/FY6f9rZB9k', 'KathrynSotelo', '9c', '//t.co/9sKrLyrZ1O', 'acts', 'Kind', 'ticked', 'EpicFail', 'businessFirst', 'Amarillo', '11pm', 'HN', 'sucking', 'airbus', 'C-130', 'rubber', 'issuing', 'surcharge', '//t.co/jpd7NsGRT7', 'Fyi', 'ua688', 'Based', 'suggestions', 'box', 'Hug', 'unmissable', 'BusHug', 'format', 'busads', 'thinkbus', 'BelfastAirport', '//t.co/AvbdstJUJS', '//t.co/27aitZl6nd', 'haha', 'hangar', 'Sounds', 'screensand', '1612', 'Adam_Karren', 'zj76', 'prem.gold', 'guilty', '5012', '4781', '5102newflight', 'rented', 'heathrow', 'airnzusa', '3:55pm', 'donation', 'ThankYou', 'WTH', 'everytime', '5001', 'hungry', 'vegetarian', 'SHRUG', 'PRIORITY', 'Tweets', 'Learned', 'lesson', 'link/email', 'Irene', 'PaxEx', 'Int', 'CUN-EWR', '2:55pm', 'woke', 'education', 'Item', 'mysteriously', 'ended', '//t.co/SJQEmDtQmA', '16', 'smaller/thinner', 'jam', 'concentrate', 'maint', 'asses', 'DEFINITELY', 'FULL', 'chocked', 'UNMET', 'ARRIVAL', 'abigailedge', 'spite', 'Janet', 'believing', 'whatgives', 'dullessucks', '3xdaily', 'EmbraerSA', 'ERJ145', 'Evansville', '4JUN', '4465', 'papers', 'slew', 'galley', 'boardingpass', 'rad', 'hemispheresmag', 'Charlotte', '8thtime5MonthsOld', '//t.co/kCqnwIXUCm', 'UA49', 'FirstClass', 'LondonFashionWeek', 'LFW15', '👠🇬🇧👠🇬🇧👠🇬🇧', '20k', 'alternatives', 'practice', 'cement', 'UA1724', '//t.co/nDTLJ15ZpU', '6212', 'massive', 'needtocatchmynextflight', 'alreadyrebookedonce', '-huge', '1623', 'sjo-iad', 'Handed', 'Keeping', 'traditions', 'alive', '1701', 'flightdelay', 'craft', 'nocustomerservice', 'nocompensation', 'despise', 'thee', 'dullestostatecollege', 'runningonthreehoursofsleep', 'delayedovernight', '912', 'Came', 'Wonderful', 'ambassador', 'biggest', 'tiredandwanttogohome', 'fantastic', 'Except', 'entry', 'united-first', 'unsympathetic', 'confrontational', 'e-mails', 'facebook', 'wating', 'SW', 'pre-dawn', 'miami', 'Annual', 'SOBEWFF', 'exchange', 'senses', 'gg8929', 'UnitedAppeals', 'cont', '//t.co/46n9kDcsxU', 'stickingToDelta', 'dan_roam', 'loudly', 'throug', 'lights', 'dimmed', 'Resulting', 'stepping', 'Oreos', 'dial', 'asus', 'tablet', '16th', 'wondered', 'queues', 'reclaim', 'aunts', '€600', 'accordingly', 'Trust', 'swapping', 'ONT', 'continued', 'onlyinAmerica', 'customerservices', 'Lousy', 'transparent', 'TEN', 'CHAR', 'Rick', 'Clifton', 'SEA-HOU', 'dying', 'handbag', 'shameful', 'escorted', 'Prebooked', 'JenniferWalshPR', 'dissatisfaction', 'und', 'Yup', 'courteous', 'understood', 'duty', 'pre-booked', 'die', 'Lagos', 'Nigeria', 'uncaring', 'Ou', 'inexcusable', 'keepitclassy', '359', 'bragged', 'driver', '9+hours', 'RobBogart', 'fib', 'vanished', '//t.co/WNdcEO5QlK', 'rapid', 'Idaho', 'flow', 'hour.Never', 'Anna', '19', 'pro', 'alerted', 'showsomerespect', 'Availability', 'w/computer', '8473573', '2/5', 'nawww', 'fave', 'Formed', 'betting', 'LH', 'Den', 'Fra.If', 'Fra', '€202.88', 'shots', '//t.co/IpaamZT7Z2', 'Kids', 'kindle', 'HD', 'UA1037', 'ORD-SFO', '9ABC-DEF', 'opened', '10:30pm', '3hourdelay', 'settle', 'Surprised', 'Perth', 'dest', 'straight', 'anniversary', 'UA4904', 'nxt', 'tolerable', 'Learn', 'Problemss', 'Evry', 'evry', 'lastflightofthenight', 'breakup', 'ID-', '//t.co/dN1if2cGwE', 'US3645', 'dpt', '5:59pm', 'dpted', '8:30pm', '-checked', 'average', 'UA3645', '-shameful', '7:54pm', 'alert', 'whatstatus', 'AUSTRALIA', 'compensated', '9:11', 'a.m.', '9/11', '2spooky', '4me', 'm8', 'spook', 'scare', 'Set', '6+', 'expedited', 'us651621', 'NC', 'aweful', 'waitingforbags', '9:40pm', 'tiredcustomer', 'dmb41shows', 'buffalo', 'progress', 'cold.😡', 'estimate', '//t.co/zOUOwgv3Q6', 'CREW', '689', 'Freezing', '9pm', 'HiltonWorldwide', 'Caravannyc', 'MaysvilleNYC', 'Join', 'NYC…as', 'tourist', '//t.co/egaEjtRGLb', 'w/4840', 'refundable', '38A', 'Assumed', '8E', 'GAs', 'cleared', '4840', 'MHT', 'ALB', 'Update', 'Ur', 'multi-city', '1of', '+2nd', 'UMP', '//t.co/hBsJ2sF17h', 'C25', '619-', 'lugging', 'SERVICE', 'Denied', 'praying', 'JustGetMeHome', 'hide', 'seek', 'Force', 'SBN', '8:20', 'LGJW7B', 'voluntarily', '8B', 'Res', '5.5hrs', 'embarrassing', 'ua3728', '//t.co/vFTUyJh45X', '//t.co/VTqE8m1L3i', 'sept', 'usa', '€67', 'ripoff', 'prepared', '//t.co/U69fAfqhsF', 'DELAYED', 'G6455C', 'Pr', 'privileges', 'Roanoke', 'sous', 'falls', 'Painful', 'Doumented', 'WHAT', 'crucial', 'YourAgentsHaveNoClue', '//t.co/A37N3oHOKL', 'Makes', 'oversold', '78', 'cloud', 'RU', '1.5lb', 'w/8', 'Lon', 'REASON', '4841', 'points/mileage', 'None', '//t.co/3zpJr7kWbk', '//t.co/dJHXvJT201', 'silence', '//t.co/GCWVFuopl2', 'Bought', 'illiterate', 'magic', '//t.co/t4gcKs2bh5', 'nasty', 'Selling', 'Stars', 'Bars', 'airlineguys', '//t.co/mWSoGUC33p', 'confused', 'directed', 'DELAYS', '//t.co/cypRHe5GOK', 'MSN', 'RX', 'eyeglasses', 'thick', 'Admiral', 'RobCNYC', '//t.co/gBIw9ugFNm', '3/5', '1007', 'Filled', 'experiencing', 'substantial', 'downgrade', '40+', 'Different', 'austin', 'demonstration', 'Corporate', 'CORNY', 'a…', '//t.co/lwOtKIEKGU', '2daysofunitedfailures', '1thingafteranother', 'labyrinth', 'swindle', 'considered', '//t.co/YMFTw1uyHr', 'Cont…', 'Sitting', 'UA3728', '3.5hrs', 'Wish', 'accomidating', 'slower', 'customerservicefail', '5979', 'dfw', 'heavy', 'BACK', 'QRO', 'Yall', 'alwaysdelayed', 'capable', 'A-', 'amt', 'incoming', '1-2', 'Frustrating', 'impatience', 'untruthful', 'systems', 'stick', 'Effort', 'survey', 'overcharged', 'underserved', 'Fair', 'rant', 'SonyaSloanMD', '//t.co/2TrgEMteBZ', 'comedian', 'stage', '2,000', 'moon', 'Puerto', 'Rico', 'REBOARD', '20+', '//t.co/EEReKDf9Fq', '1712', 'duecto', 'Willl', 'Argentina', 'annricord', 'it😊', 'a-ok', 'snowforce', 'Woo', 'Hoo', '🎉🎉🎉', 'GROW', 'close', 'alot', '11:15p', 'complaining', '10p', 'smiling', 'world-8', 'bwood', 'surveying', 'NudgeNudge', 'Save', '70+', 'vocab', 'SOP', 'Donna', 'Club_', '1528', '909', 'interrogated', 'PoorForm', 'pet', 'thatisall', 'downgrading', 'booze/food', 'selections', 'aircanada', 'Far', 'GolfUnited', 'West', '//t.co/XijYrPsLZK', 'installed', 'Kicked', 'Four', 'possiable', 'Schiphol', 'fr', 'entering', 'typo', 'out/in', '4-6hrs', '20hrs', '8.5', 'GFC', '//t.co/MKpoGNntYC', 'perfectomobile', 'admit', 'func', 'UPS', 'FedEx', '10:20', 'boss', '//t.co/bm9O2K5X5J', 'menu', 'Yummy', '//t.co/egKvFoKogj', 'pleasantly', 'flight.Flew', 'LGA-CLE-DEN', 'byod', 'worksnicely', 'replied', '//t.co/caf2cx3gfi', 'Rude', 'grouchy', 'nap', '80', '//t.co/qd2lyUXAZg', '12pm', 'Thats', 'Helps', '//t.co/HSMpbSF4UF', 'subsequently', '-30', 'Oregon', 'Women', 'Tennis', 'supposedly', 'reminds', 'desks', 'Bos-SF', 'before/after', 'flexibility/compassion', 'forgetting', 'incorrect', 'tweeting', 'ignoring', 'CantLogOutOfUnitedWifi', '24-26', 'awake', 'Paying', 'Logout', 'support-', 'saddened', 'east', 'coast', 'storms', 'ANOTHER', 'CKING', 'inchecking', 'Netherlands', 'ams', 'youareonyourown', 'logging', 'promotions', 'Antigua', 'UA5631', 'Burbank', 'extravaganza', 'dobetter', '//t.co/V8PVpHMtZc', 'ec', 'prem', 'deaffriendly', 'review', '//t.co/2Brt0aTHaU', '//t.co/WzNp5q1M0H', 'shipped', 'ph', '800-335-2247', 'weighed', '45.5', 'whether', 'rear', 'nonrefundable', 'wrote', 'nothanks', 'yesterday-', 'thru-', 'hime', 'estellevw', 'auto-applied', 'online-', 'agent-', 'syastem', '8544484', 'suite', 'keepusguessing', 'isthisyourfirsttry', 'promptly', '240', 'kms', 'Death', '440', 'Police', '12h30am', 'crash', 'crashes', 'abused', 'lower', 'cabine', 'Sao', 'Contacted', 'suggested', 'iamtedking', 'RES', '0167560070877', 'Fsqthg', '1583', 'therealaviation', 'Instagram', \"'crashing\", 'sayin', 'inquire', 'pretend', 'Responded', 'ailing', 'parent', 'custserv', 'heartless', 'term', 'lacking', 'owe', 'camera', 'interrupted', 'whom', 'messaged', 'requested-', '//t.co/4ojE523PTw', '71', 'Definately', 'employer', 'united13', 'busiest', 'traffic/fuel', 'didn', 'FL', 'expedient', 'Joni', '5653', '3/10', 'Hang', 'baggage.find', 'Pittsburgh', 'OrthoDoc', 'on-call', 'regains', 'karma', 'sweaty', 'Guy', '//t.co/UCZzP9YpHk', 'lounges', 'tab', 'supported', 'S/A', 'located', 'shout', '4:40pm', 'UA4935', 'Pax', 'Dispatcher', 'IL', 'Network', 'Operations', 'Centerl', '//t.co/lio6oCpTEQ', 'harder', '747-400s', 'seat-back', 'Tokyo-Narita', '28th', 'sitters', 'early/on', 'Flew', '1:30', 'DM-', 'incorrectly', 'estimated', 'dep', 'trick', 'wellplayed', 'jokesonus', 'THIS', 'YEAR', 'VAN', 'GOGH', 'FANS', 'VISIT', 'EUROPE', '//t.co/e1EOfthgAJ', 'equally', '1200', 'rechecked', 'UNCvsDUKE', 'timed', '4hr', 'etihad', 'areyounew', 'no800number', 'feeltheheat', 'relevant', 'Ritz', '700', 'ramada', 'priceless', 'toddler', 'Ramada', 'kidnapped', 'HELL', 'fyi', 'site/app', 'sellout', 'obsolete', 'Promises', 'board/deplane', '285', '50lbs', 'angrycustomer', 'unitedairlinessuck', 'JT', 'HeathrowAirport', 'customs', '1/30/15', 'customary', 'uniform', 'vs', '1020', 'somewhere', 'irritating', 'UA1740', '4.5', 'spends', 'beating', 'stranger', 'Randomactsofcorporategreed', 'hi.I', 'ridiculous.Or', 'refund.Please', 'wht', '^mr', 'appeared', 'err', 'no-', 'boarding-', 'travellers', '1800', '2x/day', 'loc', 'Ruth', 're-routing', 'Punta', 'Cana', 'reps-', 'linked', 'rez', '630a', 'milage', 'stillwaiting', 'rushed', '-6', 'idnumber8569822', 'hopetogetanswersoon', 'handed', 'slip', 'airport.Have', 'medallion', 'ProbablyNot', 'abroad', 'recap', 'LIED', 'think/do', 'overseas', 'goods', 'hotelstonight', 'StartingBloc', 'Monica', '8h', 'unitedfails', 'worsttripofmylife', 'UnitedFlyerHD', 'United_Airline', 'N26902', 'B787fans', '//t.co/aI0Yzwt8Za', '^GJ', '1101', 'AnotherDisappointment', '7+', 'Ralph', 'Nader', 'letter', 'Leave', '//t.co/O0745APIau', 'treats', 'specifically', 'discouraging', '37d', 'KOA-LAX', 'fresh', 'U😻😻😻', 'registered', '400/ticket', 'Travelocity', '2of2', 'selection', 'unaware', '4348', 'Value', 'thier', 'stopping', 'realized', 'in1st', 'grab', 'bite', 'follows', 'threat', 'sue', 'couldn', 'belligerent', 'jerk', 'ranting', 'hoot', 'Aaron', 'Mission', 'accomplished', 'tell/purchase', 'Turkish', 'blanket', 'subpar', 'RunAround', 'whiskey', 'shortly', 'UA5029', 'RIC', 'UA507', 'UA423', '-ALL', 'youre', 'batting', '1.000', 'reward', 'August', 'blacked', 'clouds', 'RSW', '-me', 'twin', 'olds', 'boys', 'Lifesaver', 'pre-flight', 'preparations', '10:35', '9:20', '1K/2mm', 'cancun', 'breach', 'headache', 'corrected', 'beought', 'unexpactable', 'ecom', 'procedures', 'counters', 'coworker', 'conflict', 'erased', 'parents', '7PM', '11PM', 'SAME', 'SlapInTheFace', 'christinebpc', 'versions', '738', 'Go', 'shin', 'splits', 'SPRINTING', 'income', 'dca', 'exams', 'DCA-EWR', '4372', '1242', 'FU', 'despicable', 'Sydney', 'Easiest', 're-check', 'woo', 'pref', 'Pac', 'hardworking', 'missin', 'Classy', 'VUSA_Australia', 'Aussie', 'cowgirl', 'lookin', 'cowboy', 'Take', 'Fort', 'Worth', 'Estelle', '820pm', 'UA1416', 'failagain', 'thirty', 're-unite', 'fashion', 'capital', 'unitedVUSA', '//t.co/rBn7StUij1', 'distinguish', 'quantas', 'Auckland', 'DMd', 'CustomerService', 'professor', 'Skiplagged', 'startups', 'reinstate', 'UnitedFail', 'negative', 'amateurs', 'vibrant', 'habitrails', 'worries', 'cushions', 'sprinted', 'Coughed', 'lung', 'Tnx', 'loganairports', 'amypoehler', 'Oscar', 'bafore', '53', 'run-around', 'simplify', 'communications-', 'LHRT2', 'remotely', 'YYZUA70435', 'shenanigans', '72', 'invite', 'Fallow', 'HelacoHLC', 'activities.Prevention', 'Programs', 'Health', 'Condom-Rito', 'Family.We', 'sticking', 'AA/', 'BA', 'British_Airways', 're-purchased', '1535', 'UA4727', 'Turrible', 'unaccomidating', '280', '1640', 'N33289', 'FlyTPA', '//t.co/RvCDA2nnme', 'careyon', 'Leah', 'anchorage', 'protected', 'Kerry', 'UA768', 'ebokeers', 'informed', 'guaranteed', '^JT', '9:15', 'CDT', 'ticket/hotel', 'delayed/over', 'Dominican', 'Apologize', 'neither', 'airside', 'ATL-HOU', '165', '574', 'math', 'fairbanks', '//t.co/FjkvQMbmaS', 'UA1641', 'EWR-MCO', 'aren', 'rudest', 'americanair', 're-upgrade', 'overheads', 'ItsAaronChriz', 'Alright', 'Specifically', 'sorta', 'Aquadilla', '547', '//t.co/8FMZZOltv9', 'UA1564', 'UA4232', 'parryaftab', 'Travel', 'Certificate', 'withheld', '//t.co/KvfwajVViD', 'PTY', 'UNHAPPY', 'separate', 'punished', 'metro', 'Honestly', 'laugh', 'accrue', 'cosmetic', 'understandable', 'Houston-Bogota', 'energy', 'home/family', 'weigh', 'scale', 'conveyor', 'reported', 'Istanbul', 'Understandable', 'mexico', 'tkts', '2/11/15', 'flight.Told', 'nonexistent', '12th', 'February-I', 'LLY144', 'situation-', 'Stacey', 'details-no', 'began', 'POTUS', 'DVR', 'insufficient', 'motion', '//t.co/m81rV0blxs', '-pilots', '//t.co/LoLuWfCi11', 'determined', 'drinking', 'yourselves', 'overpriced', 'sub', 'par', 'overflowed', 'toilet', 'plumber', 'luxurious', 'explains', '6:18', '6:07', 'string', 'includes', 'Williams', 'Tough', 'edit', 'observation', 'reads', 'Bc', 'Answer', 'nothing.and', '.It', 'thing.Will', 'ypu', '787s', 'qlyss8', 'UA304', '10A', '10F', 'creative', 'noodles', 'peas', 'zukes', 'Non-vegan', 'yogurt', 'stillmakingmepoorthough', 'Hughes', 'trains', 'automobiles', 'beneficial', 'longstanding', 'consumers', 'blah', 'shoulda', 'burningman', '6PM', 'Board', 'Meeting', 'Thor', 'Midland', 'em', 'motto', 'idonotcare', 'doc', 'Give', 'UA3466', 'Fantastic', 'ua22', 'packed', 'pressed', 'staffer', 'Sfo', 'destination-', '9year', 'cabins', 'en', 'church-mouse', 'grown', 'tears', 'sailed', 'UA6002', 'MLI-', 'UA3530', 'DEN-', 'YEG', '90+', 'FAY', 'heathrow-Newark', 'Hartford', 'yards', 'retracted', 'reduced', 'certificates', 'Million', 'Miler', 'amateurish', 'SilverAirwsys', 'affiliated', 'mostly', 'LH7631', '21/2/15', 'Margo', 'Intercontinental', 'WestJet', \"'we\", \"'the\", 'cats', '1+hour', 'reduction', 'E+', '737-900s', 'Forget', 'exhorbitantfees', 'apparent', 'outpost', '~1M', 'incurring', '5431', 'UA1297', 'customerexperience', 'approved', 'ShulemStern', 'Raise', 'dispute', 'cc', 'provider', 'movies', 'increasing', 'FtLauderdaleSun', 'orlandosentinel', '//t.co/1AtEafnC6R', 'pleasent', 'mke', 'communicating', 'DJ', 'scratching', 'chase', 'referral', 'bonus', '3586', 'loud', '70s', 'inner', 'lowstandards', '//t.co/m67WnBglXQ', 'Boeing', 'finals', 'Heathrowairport', 'winters', 'Avgeek', '//t.co/owMaXOyEhZ', 'blown', '//t.co/JOrEScfb4x', 'warm', 'annnnddddd', 'shuffle', 'nicest', '101', 'Multiple', 'trade', 'sunkist', 'webbernaturals', '//t.co/1L9sCWPhph', 'Rapids', 'KN', 'bypass', '//t.co/Cju102xP2k', 'locally', 'confuses', 'content', '6in', 'screens', 'technology', 'mailing', 'surliness', 'coworkers', 'speechless', 'monopoly', '4-6', 'doesntfeellikestatusyet', 'inflexible', 'LE2V9D', 'pnr', 'numbered', 'iatanbul', 'suggests', 'cert', 'odd', 'structure', 'dramatically', 'diminishes', 'certs', 'ClearVision', 'TV4U', '//t.co/Q9bYn9pCTf', 'Designed', 'deter', 'storage', 'latter', 'package', '//t.co/Lug4MFVWsA', 'preferences', 'ConF', 'ILC0HP', 'ridic', 'Atleast', 'Weird', 'omaha', 'Training', 'bitch', 'Send', 'paycheck', 'crackers', 'nabisco', 'Pepperidge', 'Farms', '//t.co/72RMpkOGwu', '2daysofhell', 'helpless', 'THANKS', '65', 'knees', 'cbcallinaday', 'CBCNews', 'hoped', 'Exit-Row', 'shades', 'windows', 'RJ-145s', '//t.co/aOEaeszDLX', 'wrap', 'amounts', 'apologized', 'sobbing', 'actions', '//t.co/901HLNgBtX', 'answerthis', 'dreadful', 'email-', 'whacked', 'verifies', 'initial', 'comments', 'harris', 'circulation', 'upgd', 'premiers', 'Ft.', 'Lauderdale', 'alerts', 'MKWLKR', 'ansleyhutson', 'emily_donneIIy', '3xweekly', 'B737-900', 'NewOrleans', '9MAY-5SEP', '//t.co/Axpn28xiQB', 'Breaks', 'Guitars', 'LMAO', '9148445695', 'regard', 'expressing', 'UA6465', 'Otherwise', 'consoled', 'died', '6344,6373', 'Sfo-Dfw', '1576', 'SFO-ORD', 'feed', 'CHILDREN', 'Appalling', 'ESP', 'waspaid', 'Miriam', '-today', 'UA6255', 'winnipeg', 'UA1059', 'tightconnection', 'ColtsMissingBags', 'lightyears', 'precious', 'frightening', '1627', 'Montego', '1person', 'breathe', 'LOT', 'agAin', 'borderline', 'letsworktogether', 'dope', '299', 'locked', '15th', 'troubleshoot', 'ins', 'earth', 'staff/cust', 'boise', '-LGA-ORD', '711', 'Argument', 'unempathetic', 'full.do', 'pri', 'Active', 'Military', 'Uniform', 'OPSEC', 'leisure', 'Masters', 'SMF', 'shannon', 'lowest', '4411', 'fortunately', 'volumes', '//t.co/pKfI9bTtzf', 'aircargo', '//t.co/BBj6kMTYUl', 'BCN', 'accepted', 'forms', 'shoddy', 'whatsoever', 'unitedairline', 'correspondence', '2600', 'Jan', '7th', 'laurasbrown5', 'Clearly', 'lives', 'stone', 'tablets', 'skateboards', 'PGATOUR', 'court', 'anti-consumer', 'hashtag', 'replying', '3thparty', 'ITproblems', 'warnings', 'Coast', 'respects', 'dear', \"'cuz\", 'IT', 'pretending', 'welfare', 'previously', 'Odd', 'associated', 'e-mail', 'Checking', 'tracing', 'turquoise', 'UA1121', 'UPC', 'Vacation-', 'swimsuits', 'competitively', 'priced', '179', '324', 'Identical', 'honored', 'hits', '//t.co/44ZHmfDIW6', 'unitedwithivy', 'Since', 'falseadvertising', 'UA1127', 'tons', 'fields', 'Expected', 'addr', 'signin', 'msp', 'dxb', 'hearts', '512', 'sime', 'flashlight', 'noapology', 'restructured', 'brotha', 'multiplier', 'equal', 'dang', 'teleportation', 'Ua514', '45mins', 'payed', 'DIRECTV', '//t.co/HQDTK6aTue', '//t.co/t3Gnk2N7LD', 'headaches', 'neighbors', 'smoking', 'cigarettes', 'Contact', 'federal', 'prohibits', 'stonewalled', 'ua3710', 'passing', '3710', 'colliding', 'fella', 'pacific', 'Messaged', 'yup', '644', 'Golf', 'presented', 'Holiday', 'wontflyagainwithyou', 'staffers', 'Forced', 'clubs', 'faults', '1114', 'isoLate', 'icy', 'mtn', 'Hemispheres', 'magazine', '//t.co/VrQDpqEPFW', 'ritacomo', 'understandably', 'edgy', 'chipper', 'ser', 'chatting', 'yelled', 'Put', 'stdby', 'Diff', 'Sivi', 'Stewart', 'amid', 'Their', 'humiliating', 'serves', 'benefit', '12/13EWR-LAX', 'UA1151', 'seat/armrest', 'full.FA', 'go…', 'internal', '//t.co/ZksX79itdN', '......', 'contracts', '618', '374', 'Fam', 'DadBoner', 'boldflavors', 'bringing', 'Bourbon', 'ft.', 'bold', 'flavors', 'ingredients', 'dining', 'csfail', 'Milageplus', 'explorer', 'shady', 'holding', 'flyunited', 'Hours', 'greatservice', 'undetermined', 'hometown', 'SaveTheDiagonals', 'FlyQuiet', 'ORDNoise', '856.81', 'Cyndi', 'Troy', 'superben', 'Excellent', 'RNO', '-DEN', '10min', '2yr', 'street', '3875', 'staying', 'EARLY', 'Refused', 'apologize', 'glance', 'starboard', 'reinstating', 'kosher', '757-300', 'LAX.When', 'Screens', 'UnitedFirst', 'upfare', 'Bringing', '//t.co/zgOQoxjBQY', 'connectors', 'moments', 'eta', 'Things', 'considerably', 'wise', 'Useless', 'cheeze', 'Functionality', 'satisfaction', 'Reimburse', 'Unbelievable', 'hypocrisy', 'BusinessFirst', '25,000', 'jilted', 'moneyelsewhere', 'memphis', 'Landed', 'Customers', 'tryagain', 'EZEE', 'born', 'India', 'Wilson', '//t.co/tvk0PyxQv5', 'UA3787', 'PVD-IAD', 'ooh', '7:55', 'Purchased', 'amnt', 'nexus', 'over/carry', 'replaced', 'cheated', '0162431184663', 'rudeness', 'IT-problems', 'indeed', '//t.co/FuCHZRZjg5', 'Supervisor', 'igiveup', 'signup', 'captive', '//t.co/nYVV1X3d67', '5hr+', 'NoFun', 'Jane', 'Disgusted', 'FRIENDLY', 'pre-select', '//t.co/aZltJhf7lv', 'forelock', 'Hypocrisy', 'COMPLETELY', 'OUT', 'CONTROL', 'AlaskaAir', 'convinced', 'b/f', 'vary', '0/3', '👎👎', 'el_ingeniero', 'ITO', 'highlight', 'Nexus', 'Serious', 'firing', 'loaned', '//t.co/bT37KyrByJ', 'theres', 'Classic', 'Elizabeth', 'qualifies', 'UA3364', 'input', 'Yesterday', 'retweet', 'Paid', 'thousands', 'doublestandards', 'disappear', '40mins', '877', 'amsterdam', '02.27.2015', '737-300', '253', 'Heading', 'travelingwithsmallkids', 'sending/posting', 'surrounding', 'ashamed', 'Hidden', 'Incoming', 'jetbridge', 'Ladies', 'gents', 'passenegers', 'Allright', '2hr+', 'technically', 'frank', 'postsecret.com', 'UA1159', 'RMOUG15', 're-cheduled', 'decency', 'care/respond', 'closings', 'rewards', 'birthdays', 'fiancé', '//t.co/uayWrr45as', 'resending', '02/14', 'Disloyal', 'Workers', '//t.co/0cevY3P42b', 'HuffPostBiz', '10x9x17', '20x15.7x8.7', 'taller', 'Little', 'Rock', 'iAd', 'speedy', 'figured', 'simply', 'debating', 'firm', 'Despite', 'protect', 'holy', 'batman', 'Speeds', 'insanely', 'upsell-laden', 'MrAndyEp', 'Creative', '4487', 'MAJOR', 'SLOW', 'philly', 'albeit', 'OC', 'w/40', 'toiletries', '//t.co/pZAl4wtrEZ', '86', 'CLEANED', 'tissues', 'everywhere', 'asks', '9h', '//t.co/U390cZpLHl', '3359', 'Those', 'offers', 'buy/transfer', 'miles.The', '//t.co/ZZPs5ywVE2', 'Supposedly', 'nonetheless', 'Yay', 'entirely', '//t.co/IVGpZSjtkW', '8273993', '//t.co/6tz6imqZlG', 'voucher/compensation', '4567', 'audition', 'ferry', 'Quiche', 'Tandoori', 'entrees', 'accompaniments', 'equipped', 'wandered', 'txting', 'Pathetic', 'kp', 'luckily', 'Inbox', 'junk/spam', 'refunds', 'success', '2/4', 'Counter', 'Pittsburg', 'honoring', 'Media', 'Rate', 'assignments', 'untrained', 'crossing', 'boat', 'whispering', 'pointing', 'bitty', 'Flight-March', 'acquire', 'distance', 'functionality', '//t.co/5IMDckODfx', 'broken.i', 'NY_NJairports', 'bizarre', '//t.co/Hlm2Oks6xl', 'Nearly', '48', '1591', 'outage', '1618', 'pricing', 'user-perceived', 'bandwidth', 'Flightncy', 'GoGo', 'hubs', 'outdated', 'thankful', 'Fab', 'Myers', 'phl-ord', 'Blegh', 'braved', 'Miserable', 'shipping', 'Mia', 'edition', 'dime', 'kid', 'Confirmation', 'NJV4BP', '//t.co/38OTLzAK5d', 'Brandi', 'Zabsonre', 'delight', 'ups', '//t.co/TK3aOpdtSQ', 'Durango', 'Farmington', 'hitting', 'slopes', 'UA5025', '5237', 'Stand', 'rajuchinthala', 'DRAMATICALLY', 'feck', 'rolling', 'improvements', 'Meantime', 'FlyANA_official', 'transpacific', 'Step', 'Charge', 'survive', 'self-interest', 'casleah', 'Fly', 'Skies', 'jsumiyasu', 'gist', 'remind', 'indicating', '+what', 'aback', 'squarely', 'shoulders', 'cld', 'disorganized', 'stays', 'Sigh', 'united-', 'connections-', 'time-Not', 'HAPPY', 'first-class', 'cockup', '//t.co/oh7CFv7DHR', 'swag', 'ijustwanttosleep', 'proficient', '29.1.15', '10.2.15', 'IAH-HNL', 'reactive', 'proactive', 'juice', 'GetPhilz', '//t.co/Sg7IQqFVsO', 'mot', 'incl', 'clusterfucks', 'overheard', 'Power', 'MOAR', 'Insufficient', 'RoadWarrior', 'THRILLED', 'dropping', 'bully', 'mentality', 'fostering', 'inspiration', 'greater', 'EmployeeRelations', '757s', 'btwn', 'ports', 'TORTURE', 'Broken', 'hopeless', 'glasgow', 'Apple', 'crâpe', 'Live', 'UA1207', 'biscuits', '//t.co/gZ9GqDT7Jj', '//t.co/xMAQcucWZl', 'sentimental', 'heartbroken', 'MP', 'flights/airports', 'BWI-EWR-MCO', 'Connect', 'nicer', 'connetion', 'wanting', '1am', 'phx', 'teaching', 'research', 'budget', '//t.co/Qll48r57ep', 'loooooong', '2053', 'fr1/5/2015', 'SR', '256746438028', 'service/care', 'prompted', 'prev', 'Alone', 'pregnant', '34', 'Price', 'meantime', 'Glassdoor', 'Places', 'Work', 'snagging', 'notsurprising', 'LUVthem', 'leverage', 'Meagan', 'Fouty', 'Brancato', 'fl', '2771', 'w/kids', 'Jacksonville', 'parentsonboard', '28', '//t.co/Fx9BIJlxAt', 'Ding', 'chrome/Firefox', 'swell', 'Midway-Chicago', '8th-April', 'FlyPBI', 'Logically', 'drove', 'sweetheart', 'AltonBrownLive', 'SOhappy', 'unfollow', '😡😡😡😡😤😤😤', '85', '210pm', '4649', 'USED', 'Taxi', 'Spent', 'Sweetheart', 'FlyFrontier', 'scramble', 'auction', 'Post-Masters', 'Invitational', '//t.co/mRfBjtePef', 'processing', 'Laguardia', '1999', '2011', 'World', 'Finals', 'throwback', 'bestflightever', 'FFL', 'heavenlychc9', 'cocktail', '9NEWS', 'fly-away', '9NEWSBusiness', '//t.co/o3WlaInImY', '218', 'Hell', 'facepalm', '//t.co/7poFSXOjSY', 'approvals', '5hours', 'De', 'Boarded', 'online-was', 'de', 'perfectly', 'Fml', 'Teyana', 'Taylor', 'Performing', 'MedusaFridays', '2.27', 'Till11', '//t.co/qwFMoQ0dQl', '//t.co/kbb0B5FxMK', 'TheMenOfBusiness', 'vacay', 'playa', 'del', 'Carmen', 'expiration', 'SMiles1307', '5:30', 'Birmingham', 'Christine', '//t.co/1xzrK66wVQ', 'mx', 'dignity', 'Redeem-points', 'packages', 'magically', '10:01', 'baitandswitch', '2/25', 'IDs', 'Brutal', '2373', 'CHI-BUF', 'bf', 'barely-expired', 'RapidRewards', 'Rewards', 'Lasttweetaboutthis', 'puerto', 'Vallarta', 'groupA', 'south', 'west', 'honey', 'checks', 'midway', 'portal', '//t.co/hUcLXluV5h', '//t.co/O4ZR27Qpcr', 'solid', 'length', 'reverted', '5-minute', 'SWA', 'Flights/delays', 'role-model', 'finger', 'Barzegar', 'tourists', 'euros', 'tent', 'village', 'runs', '//t.co/igSVzvrbbN', '3/27-4/2', 'promotion', 'Error', 'Chantilly', 'France', 'vacationfail', 'frozenwater', 'gettingimpatient', 'theycouldatleastofferfreebooze', 'Carol', 'Thrower', 'Venetia', 'Crook', '210', 'Mother', '1614', 'oyu', 'A-list', 'IVR', 'proceed', 'strives', \"'Customer\", 'Centric', 'communications', 'ANAmarketers', 'INSANE', '1625', 'RR', 'Marriott', 'checkin/out', 'NOR', 'SpiritAirlines', 'smalls', 'traditionally', 'sledge', 'hammer', 'scalpel', 'data', 'science', 'Centricity', 'ANAMarketers', 'worstcustomerservice', 'largest', 'Bible', 'VIPLiveintheVieyard', 'intuit', 'jhamilton2007', 'careers', 'intuitlife', 'leanin', '//t.co/2qJbCv5jzq', 'southwestairlines', 'resource', 'delays/Cancelled', '❄️', 'Switching', 'reboarding', 'A49', 'List', 'KTA', 'VIP', 'Vineyard', 'Oscar-worthy', 'entrance', '//t.co/10tmtHVFDC', 'affordable', 'happycamper', 'Ella-Mae', 'PHLAirport', '2155', 'E11', 'penguin', 'ALS', '//t.co/m1yyWAFkFI', 'KevinSwan_', 'ALSTDI', 'A_Life_Story_', 'smoooothest', 'SouthwestSmoothie', '//t.co/Vr9k180LaI', 'Charleston', '7:50pm', 'stepup', 'makeitright', 'wewillsee', 'Data', 'throughout', '//t.co/aaU9MKA6Zy', 'SOL', 'shifts', 'raps', 'SouthwestAir-', '3500pts', 'PartnerRewards', 'Anything', 'atleast', 'tip', 'evolved', '//t.co/forNpF69Ky', '1700', 'Whatever', 'heart', 'aimed', 'satisfy', 'nano-smattering', 'urgently', 'receipts', 'ETD', 'SWA1004', 'Appears', 'birth', 'Lynn', '^CB', '//t.co/4RL0p5JChB', 'Filed', 'Received', '4471', 'sauna', 'nephew', 'buisness', 'Cant', 'hail', 'Lindsey', 'schoolgirl', 'typing', 'clever', 'bagsflyfree', 'badpolicy', 'allows', 'cheatcustomers', 'principle', 'mugged', 'wrongiswrong', 'BadBussiness', 'Theft', '//t.co/63zaQ2lt8f', 'Uncool', 'larger', '//t.co/h44uJ63CJG', 'terrible.no', 'are.his', 'gear', 'attempts', '4AM', 'southwestair', '//t.co/kl9BAiMES6', 'POC', 'partnerships', 'nonprofit', 'organizations', 'husbands', 'filmjobnoequipment', 'nowarmclothes', 'MDW', 'TUS', 'lostbags', 'c_istudios', 'youdidit', 'higgs', 'boson', 'discounts', 'nonprofits', 'donate', 'CUN', 'TheBachelor', 'wah', 'Thanks~', 'FloridaVacation', 'smoothflight', 'flutter', 'fullprice', '👏👏👏', 'BETHonors', 'Fact', 'Black', 'History', 'Month', 'Months', 'Honorable', 'Economic', 'Base', 'Corp.', 'Future', 'cdn', 'towns', 'customerappreciation', 'gaincustomers', 'keepem2', 'peanut', 'allergy', '👍😊', 'lovedflyingwiththem', 'notanymore', '261093929756', '336', 'Lubbock', 'TMobile', 'combination', 'texting', '40,000', 'crooked', 'shouldwearmasks', 'F8NEQM', 'rule', 'Dont', 'IF', 'fell', \"'service\", 'AT', 'AIRPORT', '//t.co/YNc2ZUt4zz', 'LUVSWA', '//t.co/elhxUV0Uj1', '/I', 'Lou', 'Ann', 'Phx', 'rocks', 'SW.', 'Ourguest', 'DestinationDragons', 'winners', '//t.co/AY1GIdcfa4', '//t.co/yC7V2s0iOd', 'enrolled', 'Katie', 'C47', '7:10', 'temp', '//t.co/5tXU5tSFkJ', '206', 'canthurtasking', 'Imaginedragons', 'sweepstakes', 'nutsaboutsouthwest', '👍👌', 'vinyl', 'brooding', '//t.co/X9BLwgWA68', 'monkey', 'mdw2mci', 'homeandreadyfornexttrip', '//t.co/2xJvUn66ZZ', 'voice', 'satisfactorily', 'justsayin', 'sass', 'genuinely', 'comparable', 'shittydeal', 'TaylorLumsden', 'responsiveness', 'escaping', 'Internet', 'Maltese', '805', 'MDW-FLL', 'capacity', 'mean…it', 'PHX', 'Wheels', 'professionals', 'improving', 'Runway', 'Girl', '//t.co/h46HT1Oz40', 'FuyukaiDesuYo', 'dragon', 'SHES', 'HUGEEEEE', 'FAN', 'evennotified', 'theflight', 'isdelayed', 'email/text/phone', 'call.If', 'wererunning', 'unreliable', 'weekend/', 'closes', 'tests', 'chemistry', '2/22-MDW', '1687', 'Melissa', 'Fast', 'albums', 'Accidents', 'fistfights', 'applications', 'Fall', 'positions', 'Apply', '//t.co/GmL7ot3IMH', 'honesty', '//t.co/9eueYxAwcv', 'briughy', 'ComClassic', 'AIF2015', 'agcommunity', 'April/may', 'feature', 'Plants', 'Increase', 'Productivity', 'LuvSWA', 'healthbenefitsofplants', 'gardening', '//t.co/BVfAxDUBAQ', '//t.co/iQnVyFPg4P', 'Cuz', 'bae', 'Darrel', 'contest', 'entertain', 'lifting', 'spirits', 'C9', 'luvswa', 'strip', 'Stoked', '//t.co/ToPqmVqnJp', 'proving', 'clues', 'MKT', 'whathappend', 'Devalued-', '-http', '//t.co/mDbDYomrs7', 'scavenger', 'hunt', 'detective', 'Insult', 'injury', 'MS', 'Pre-Check', 'profile', 'sadie4406', '//t.co/MRAW3qDw4D', 'Downtown', 'kelsey', 'locals', 'parking', 'bellagio', 'Bellagio', 'Vinyl', 'L.A.', '//t.co/YcCITaeP3S', 'sports', '//t.co/X4tDY84dBH', 'destinationdragon', 'Dang', 'boo', 'booo', 'Warm', '3138', 'givethemraises', 'crabby', 'EarlyBird', 'grrrrrr', 'Luv', 'Television', 'Commercials', 'feltthelove', '10+', 'netneutrality', 'prioritize', 'streaming', 'sites', 'Northern', '//t.co/nm4VNNF8Kb', '//t.co/iItoJhUIKH', 'paradise', '//t.co/KDzQcZlpyR', 'Feeling', 'WIFI', 'flight2149', 'entertained', 'gin', 'tonic', 'toyingwithouremotions', '6:35', '-most', 'apologizing', 'personally', 'waits', 'fox8news', 'Kristi_Capel', 'toughtomakeplans', 'gettingthirsty', 'Terry', 'hero', 'cellphone', '85832', '11:50', '11:00', '46mins', 'dice', 'Moms', 'signal', 'hooking', 'grateful', 'businesstrip', '1/27', 'reflect', 'EST', 'HDsportsguy', 'Dos', \"Don'ts\", 'Announcer', '651', 'Midway', '//t.co/SbA0ARicyq', '823', '3075-', 'broad', 'yeah', 'Completely', 'Act', 'weather-reLate', 'stops', 'notsatisfied', 'Georgia', 'RI', 'hopeful', 'motions', 'Ct', 'intercom', 'integration', 'pre-boards', 'station', 'N366SW', '//t.co/WQZZtIemX0', '99.99999999', 'allgood', 'chg', 'online/app', 'DRIVE', 'RnCahill', 'ideserveareward', '//t.co/l7hSnLgie2', 'rudely', 'partnering', 'Hilton', 'Hotels', 'GENIUS', 'flgt', 'purchase.error.INVALID_LOYALTY_MEMBER_ACCOUNT_STATUS', 'Antonio', 'marriage', 'scene', \"'Flight\", 'thanks.are', '24hr', 'dnt', 'sld', 'LukeWyckoff', '617-653-3040', 'matthewebel', 'coachGS', 'cheap1', 'noon', '376', 'antonio', 'unveils', 'Ohio', '//t.co/grkBj7bxlk', 'B737-700', 'Reagan', 'FtLauderdale', '8AUG', 'FtMyers', '2xdaily', 'OrangeCounty', 'Columbus', 'OH', 'Oakland', 'BostonLogan', 'Password', 'spam', 'ClinicPolly', '8UXZJ2', 'TERRIBLE', 'SellMyPointsSoon', 'body', 'downs', 'Starting', 'meat', 'punishedforflying', 'Fri.', 'equip', 'flamethrowers', 'plow', '//t.co/4uRzvBPJKO', '1028', 'linking', 'FurryFiesta', 'tok', 'possession', '//t.co/vUdWJm1lYB', 'airtran', 'Q4VNMB', 'email/call', 'displays', 'pleaseeee', '😩😫😢', 'nakedmeetings', 'tuesday', 'fron', 'fran', 'march', 'banning', 'allergic', 'ignores', 'p-nut', 'oil', 'dust', 'sighed', 'heavily', 'nelsjeff', 'interaction', \"'ing\", 'interest', 'Lin', 'series', 'MDW-SAN', 'websites', 'mission', 'Lasalle', 'Bos', 'WEDNESDAY', '//t.co/v4ZVUGMkJw', '1156', 'kkwhb', 'B46', 'arrangements', 'Me', 'Arizona', '184', '//t.co/Finq5Fh6ue', 'NotHappy', 'directional', 'dislexia', 'Trouble', 'triple', 'looped', '3744', 'N284WN', 'enroute', 'PHXSkyHarbor', '//t.co/Bd5tvr3Gcy', 'GIS2015', 'soaking', '//t.co/dzeGAPfqw1', 'Scavenger', 'Hunt', 'READY', '//t.co/vHgkiTzSaw', 'flight~please', 'EWK', 'pseudo-voucher', 'daysinn', 'existence', 'lease', 'empathetic', 'Monika', 'MWA', 'ambivalence', 'Patricia', 'B11', '//t.co/MmCWkqp2gy', 'ranging', '3-10', 'jparkermastin', 'passive', 'rethinking', 'stroller', 'Calling', 'Preferred', '💔😪', 'nbd', 'workaround', 'Muchas', 'grassy', '1-4am', 'fired', 'dissaponted', 'robot', 'conversation', 'knowledge', 'WN3946', 'SAN-SFO', 'Rita', 'SpecialOlympics', 'athletes', 'Olympic', 'athlete', 'Employees', 'Akron', 'wretched', 'MEM', 'suspended', '60-90', 'allegiantair', 'Companion', '1050', 'Momma', 'beers', 'ar', 'companionpass', 'fly2midway', 'DEN-DAL', 'Tue', 'Epic', 'Daytona', 'Boss', '//t.co/SbGBN7oUXy', 'offices', 'Youve', 'IChangedYourDiaper', 'MegElizabeth631', 'alt', 'signs', 'Words', 'Actions', 'EOM', 'credited', 'inconsistent', 'mates', 'CB', 'tru', '777.70', 'A1', 'thatthis', 'contingencies', 'Huntsville', '3267', 'N659SW', 'MitchellAirport', '//t.co/LJ2YdKoR8q', 'mighty', '//t.co/Enh1keUUTd', 'retiring', '//t.co/SxVaGbRTlI', 'Shannon', 'LASairport', 'C22', 'miracle', 'canx', 'weatherless', 'md', 'anderson', 'sweeps', '//t.co/nOfG0TQHYN', 'precludes', 'lit', 'please.my', 'SouthwestLuv', '//t.co/9UNxqOTzIK', 'carpet', 'tx', 'destroy', 'w/them', 'Guys', '50th', 'Anniversary', '10th', 'Sweethearts', 'Companions', 'Lifetime', 'Sons', 'Families', 'aim', '3130', 'functionally', 'gim', 'combat', 'Aruba', 'discontinued', '+1', 'dontmakemebeg', 'CP', 'RedCarpet', 'Pass', 'bwi', 'Memorial', 'Day', 'aka', 'everyones', 'DESERVE', '//t.co/QjKL4aBprG', 'secrets', 'brighter', 'stars', 'combined', 'qualified', 'HollyMais', 'mines', 'amazed', 'obtain', '//t.co/OQUKSo3s2O', 'subscribe', 'investment', '4179', 'Awaiting', '-U', 'fransisco', 'sale', 'FOUR', 'fasten', 'telephone', 'tiday', '//t.co/KJKuVJ6CMo', 'slowing', 'planing', 'Dal', '7pm', '//t.co/XMZ3Tf9Ix8', 'BUR', 'gettingbetter', 'ring', '2707', '2/21/2015', 'infinity', 'band', 'Neither', 'homeless', 'get2', '436', 'unpleasant', 'angering', 'slowness', 'Ack', '//t.co/qRXvZFrD1Z', 'Sort', 'wentook3', '79', 'sometimes', 'shouldhaveflownjetblue', 'Mario', 'Bros', 'gameboy', 'color', 'props', 'C11', 'opposed', 'chaotic', 'crappiest', 'enemy', 'compassion', 'handicapped', 'strandedNYC', 'grader', 'project', 'loves', '//t.co/BaYePZkMiz', 'ohk', 'B/C', 'inexpensive', 'airfares', '209', 'Mad', '//t.co/4ojrSDWPkK', 'NYC-', 'notmadeofmoney', 'Fav', 'curse', 'lucky', 'deed', 'smashed', '😂💁', '//t.co/0pDNtGBXC6', 'essentials', 'TheAcademy', 'hotlanta', '//t.co/x5ZQssJtRB', 'Galaxy', 'S4', 'zoom', 'scroll', 'letitgo', '//t.co/qxTeqZm3yz', 'rumor', '898', 'peanutsonaplatter', '380', 'elderly', 'firstclass', 'msgs', '1708', 'PHX-', 'danihampton', 'Dani', 'Boooo', '//t.co/WHAGPknnLF', 'gent', 'FIND', 'WAY', '310', 'Flighting/delaying', 'FlySWA', 'denverairport', 'officer', '52', 'stowaway', 'Promotion', 'Jamaica', 'defective', 'chalk', 'loss', 'Imagine', 'Dragons', 'Sunny', 'nolove', 'noexcuses', 'cali', '//t.co/kumtbgER03', 'coldly', 'neveryamind', '450', '250', '//t.co/vn3JJIa53O', 'tear', 'seam', 'soaked', 'busted', 'zippers', 'SORRY', '//t.co/LHwFBKFynI', 'uninformed', 'unapologetic', 'dynamite', 'comped', 'quietly', 'irate', 'justsaying', 'promo-fly', 'rnd', '2-3', 'spring', 'Something', 'Arkansas', 'Gov', 'Governor', 'SB-202', 'legalizes', 'discrimination', 'LGBT.Can', 'lend', 'boycott', 'harbor', 'expeditious', 'onechildfourbags', 'conflicting', 'Outrageous', 'specials', '7:20', 'PBI-', 'C-42', 'MKE', 'redirects', 'Desktop', 'AARP', 'tfw1', 'JimCramer', '75yo', 'Hire', 'audience', 'r/scheduling', 'TY-Spent', 'Cell', 'battery', 'Rep', 'Visit', 'use/open', 'holds', 'earlybird', '636', 'complimentarybeveragesneeded', 'A=', 'earlybirdmeansnothing', 'yday', '90min', 'drenched', 'CustomerServiceFail', '1629', 'BWI-LAX', '//t.co/89gKYuf1Qh', 'consumermarketing', 'tsa', '4001', '1215pm', \"cx'ed\", 'Nev', '//t.co/X1EqYAHfvZ', 'impression', '681', 'Running', 'Alison', 'Bobbi', 'B8', 'Offers', 'Unprecedented', 'Perk', '//t.co/nustgpElSf', '//t.co/Be0B4K1Xbt', '🙌😏', '9:50AM', 'GetMeOuttaHere', 'SouthwestSucks', 'imaginedragons', 'slaycancerwithdragons', 'swa', 'noluv', 'goin', '//t.co/6Zj6L2ZTua', 'ALEX', 'Mon-Fr', 'asshole', 'ORL', 'photos', 'e-book', 'Tips', '//t.co/7dM2J8H97M', '//t.co/xeDeckGMW5', '//t.co/frGhglMkqF', 'happend', '668', 'Adam', 'B12', '4pm', 'blames', 'Flightlation.You', '-thx', 'tracks', 'mashing', 'tones', 'them.Estimated', 'Swell', 'suitcases', 'SD', 'Hour', 'holdup', 'DeLacy', 'compassionate', 'professional', 'priorities', '🌟🌟', '3999', 'OUTSTANDING', '1800IFlySWA', 'AZ', 'Omaha', 'muh', '96', 'TUESDAY', '170', 'Refund', 'Baltimore', 'laps', 'laughing', '//t.co/8dQZlrJo9p', 'dilemma', 'Valentines', 'tomorrow.would', 'diabetic', 'insulin', 'greenville', 'USAir', 'male', '3913', 'Indy', '4199', 'GRAND', '3825', 'SEATAC', 'GrandCanyon', 'Photography', '//t.co/D7pQOUAtdF', 'baggagefail', 'bagsflyfreebutnotwithme', 'November', 'grabbed', 'northeast', '50min', 'epitimeoffail', 'Jamie', 'McKinnie', 'owning', 'maiden', 'retroactively', 'flights/miles/points', 'balance', 'PoteetTJ', 'coupons', 'trees', 'OptOut', '//t.co/CXrZhcdTVz', 'KIDDING', 'furnish', 'flyUnited', 'talents', 'flySWA', 'Spirit', 'TMadCLE', 'meh', '2x', '3104', '3336', 'Voucher', 'wld', 'cup', 'relax', 'Promotions', 'Avon', 'Doug', 'dcoadavon', 'getmeoutofhere', 'concert', '//t.co/G9b6e0a2sZ', 'rating', '-9', 'sudden', 'intlcheckin', 'restroom', 'sink', 'sanitizer', 'GROSS', 'homegirl', 'out✈️📱', 'stuckintampa', 'ChicagoMidway', 'Mgmt', 'Cmon', '^AH', '3hrs-', '//t.co/c9p2ioSphM', 'Cavalli', 'calves', 'interfering', 'McCarran', 'C16', 'southwestfail', '//t.co/RX8z53M7yy', '8Q6MFD', 'El', 'Paso', 'coordinate', 'Officially', 'wills', '2hr30', 'loser', '2464', 'insubstantial', 'BlackHistoryMonth', 'musician', 'BlackLivesMatter', 'recruiting', 'Spring', 'Internships', '2/23/15', '5-', 'JindalCMC', 'Davidson', 'Auditorium', '1.118', 'JSOM', 'UTDallas', 'AH', 'vitaminwater', 'Bravo', '🍻🍻', 'Leinenkugels', 'DosEquis', 'FatTire', 'FEHQNE', '21FEB15', 'DCA-RSW', \"C'mon\", 'opening', '2646', 'precheck', 'tomorro', 'fwwe7f', 'Va', 'Ant', 'nashville', 'tn', 'TX', '3076', 'loose', 'brag', 'totalfail', 'letdown', 'Diverted', '😞😡', '4229', 'servicing', 'Greenville', 'forgiven', 'HighHopes', 'presidential', '899', 'Rerouted', 'FSZ4YO', '5:05', '6mos', 'Early', 'ASSIGNED', 'LAS2BUF', 'Alas', 'Books', 'nights', 'hv', 'spoken', '4040', '3113', 'sev', '2k', 'Decided', 'cx', 'Getyourlife', 'wounded', 'vets', 'Hv', '3252', 'Manchester-BWI', 'vet', 'healing', 'idols', 'Sooooo', 'amazing💖', 'CallMeStanley7', 'flySW', 'particular', '525', 'Travelers', 'urged', 'forty', 'Finish', 'Oops', '45minflight', 'been3hours', 'celebration', 'heck', '408', 'windy', 'sunny', '70F', '//t.co/2IR7ynMBdU', 'ticketing', 'unorganized', 'Mass', 'craziness', 'Half', 'stations', 'unmanned', 'tweak', '-any', 'skip', '4158', 'nyc', 'microsecond', '😂😂😂😂😂😭😭😭😭😢😢😢😢', 'after2', '//t.co/vLCI2KV1IP', 'corner', 'Online', 'pleasehelp', 'whenitsnowsitpours', 'tgcyaLate', 'library', '3899', 'HOU', '2PM', 'WheelsUp', '//t.co/ORY89eEGek', 'portion', 'on-line', 'Holding', 'opinion', 'grandmothers', 'colleague', 'Anyway', 'anhour', '//t.co/mHA3xXaeD5', 'EVERY', 'bgr1061', 'insist', 'werenot', '2chng', 'Tld', 'going2', 'whch', 'advsry', 'english', 'removes', 'Indianapolis', 'readily', 'ImJustSaying', '😔😔😔', '//t.co/t6fYyBHjhL', 'Comcast', 'mouth', '3403', '8hr', 'FREE', 'Cable', 'Technology', 'mans', 'PORTABLE', '//t.co/Qw1til96YA', '//t.co/ucVnilMb4x', 'ryand2285', 'HappyBirthday', 'Incredible', '//t.co/3nsUSfSBPv', 'profitable', 'venture', 'IsItTheGaryKellyWay', '//t.co/0BJNz4EIX5', 'disrespectful', 'learned', 'Travelling', 'greetings', 'THANKYOU', 'cutoff', 'counting…just', '//t.co/5Siczx1oez', 'LOST', 'Kay', 'Chapman', 'Designs', 'art-luggage', '//t.co/FxNv618B1A', '3970', 'bna-rdu', '15minutes', 'getmorehands', 'Indian', 'aunties', 'Aruna', '//t.co/aypyaDUY6a', 'SouthwestOliver', 'nogood', 'tremendously', 'Saw', 'cspkcats', 'Tix', 'Velour', 'show-entered', 'TheEllenShow', 'kdepetro313', '.what', '//t.co/N3LrFo4UaY', 'que', 'Plz', 'complicated', 'DAL-MDW', '4053', 'WinterWeather', '1:34.', '//t.co/PgwUkrpMOx', '3867', 'invited', 'cockpit', 'getmeoffthisbird', 'crutches', '//t.co/a3YCFlaLxV', 'resched', 'tmw', 'backroads', 'STL-BOS', 'SDF', 'NE', '//t.co/NGG3N0wIaR', 'Show', '💝too', '3ticketsforJax', 'olive201', '↔️', 'directs', 'okcdirects', 'okcprofessionals', 'competitors', 'customerloyalty', '3.', 'pulse', '//t.co/auFM4xdaj2', 'batteries', '//t.co/iWoiGRLHXb', '4315', 'N231WN', 'Fly_Nashville', '//t.co/IDRa8keNoH', 'fort', 'launder', 'dale', 'PortColumbusCMH', 'waitin', 'BadService', 'Being', 'hiremorepeople', 'Suggestions', 'approximate', 'cxld', 'Cs', '1h', 'KeepItMovin', '3260', 'mht', 'grandkids', 'Jack', '//t.co/BHOOiyT6ZQ', 'jumped', 'gun', 'Louisville', 'supvsr', 'Sally', 'gr8', 'timed-out', 'horror', 'implement', 'call-back', '//t.co/LIQWoblFbT', 'hyperlinked', '//t.co/IH5w9nfKz2', '800IFLYSWA', '51', 'handing', 'sleet', 'Sun', 'eve-did', '8:10', 'Clarence', 'Frank', '😜😂', '65,000', '22nd', 'childrens', 'seats/tray', 'sanitized', 'purifier', '😷😱', 'troubadour', '//t.co/rKlQXXaWhc', 'baking', '3415', 'blue', 'sourhwest', '//t.co/EczHcmM5vi', 'Salted', 'vote', 'salted', 'dread', '//t.co/RHw78ktQFO', 'surveys', 'TifffyHuang', 'Troubadour', '//t.co/lf69waf5ad', '⭐️', 'SAC', 'Passengers', 'betch', '3472', 'f/', 'FortuneMagazine', 'nationwide', 'Buffalo', '4/10', '68', '1140', 'bone', 'Tomorrow', '//t.co/1AAVvoREpH', 'kmdw', 'b738', '//t.co/6cpYPGFnD6', 'stretch', 'JasonWhitely', '947', 'Emer', 'Albuquer', 'condition', 'Maverick', 'divert', 'adjusting', 'snowstorms', 'airpt', '330', 'Open', '//t.co/zFrOINPSzI', 'LUVed', '372', 'purely', '-17mph', 'SwagglikeBean', 'NOLA-Orlando', 'applauded', 'takemeback', '//t.co/OQZ7Wc4lLA', 'lunch', 'STL2ATL', 'FWHEI6', 'alist', 'wifiless', 'Screw', 'Az', 'Eat', 'buzz', '300s', 'anxious', 'Ahah😃💕🎵', 'SW✈❗', '^^', 'Destination', 'Annamarie', 'Norris', 'recognized', 'changes/Deval', '2bwi', 'nMaryland', '2morrw', 'inclement', 'dultch97', 'scumbag', 'WANTED', 'SEE', 'THEM', 'TONIGHT', 'CRYING', 'SacIntlAirport', 'Feels', 'bestinclass', '30000ft', 'takemehome', '2672', '192', 'rndtrp', '4/30-5/5', 'DJQ_KC', 'djimpact', 'horse', 'radish', '😤🐴', 'receiving', 'wednesday', 'NOC', 'marry', 'lamp', 'desperate', 'promotions/codes', 'Nashville-Denver', '2/15', '5/17', 'tO', 'GO', 'VEGAS', 'SHOW', 'MAN', '630', 'intend', 'DID', 'JulGood1', 'miscommunicated', 'popped', 'amin_aur', 'students', 'prospective', 'schools', 'graduate', 'eternally', '͡°', '͜ʖ', 'bless', 'Blatimore', '//t.co/tTXRSyNLxr', 'songs', 'HOOM', 'soul', 'interferes', 'w/Ellen', 'concerts', 'alway', 'treasure', 'LiveAtFirefly', '//t.co/o3sRL1hfho', 'range', '_defcon_', 'weathered', 'Stacy', 'Gary', 'Kelly', 'himself', 'corporation', 'rip', 'Buyer', 'beware', 'Credit', 'Attendant', 'Wernicke', 'Beat', 'LACMA', 'Fairfax', 'Noone', 'ACCESS', 'theTroubadour', 'Crying', '/dying', 'rn', 'ripme', 'Disneyland', '//t.co/nKAFbjyARi', 'heyo', '1836', 'arrivals', '5pm', 'headlines', 'LiveOnFOX17', 'FebruaryFreezeFox17', '//t.co/tGSB1DfPS3', 'Northeast', '//t.co/1ZT2kEe8up', '//t.co/eQqi1nfSZh', 'okaaaaay', 'UGH', 'IM', 'MIN', 'AWAY', 'franks105', '//t.co/xiJiFYmvqP', 'Jacquie', 'Plitt', 'gal', 'CABO', '//t.co/VbUxfPCKfa', 'Happily', 'four-yr-old', 'Cap', '//t.co/C8mqEzXVdH', '//t.co/QxWW1p09a0', '//t.co/bbZiJWFDL3', '3056', 'southwestAir', 'Orangecounty', 'manana', 'StLouis', '//t.co/RcdH183Q1J', '505', 'Bradley', 'wway', 'HAD', 'Spvsr', 'blows', '//t.co/7ujt8VTCpa', 'stupid', 'stories', 'WAIT', 'ME😭😭😭', '4146', 'summer', 'labor', '//t.co/ysqbVq6Mgb', 'cash', 'THO', '😭😭💔💔💔💔💔💔💔', 'bna', 'Tonight', 'rock😎', 'PadresST', '😂😂', 'destinationdragons', '//t.co/iqu0PPVq2S', 'teamspirit', '//t.co/X5JenA7NyE', 'SAMoore10', 'acknowledgement', 'southwestrocks', '25+', 'cocktails', 'Includes', 'Inclement', 'ReFlight', '//t.co/KeyrpFlHil', 'bestairlineever', 'neverchange', 'unhappycustomer', 'mytimeismoney', 'roundtrips', '4569', 'refer', 'SouthwestVerity', 'wmn4life', 'hotmail.com', 'printed', 'Deficiency', 'LuvAgent', 'assuring', 'guessweflyingdelta', 'iPodTouch', '//t.co/XxSaomBdGS', 'needtogethome', 'buck', 'Lucky', '6:30am', '9,000', 'draws', 'crowd', 'BWI_Airport', 'Partnership', '//t.co/CVba4olcBl', '//t.co/wTa5pX70A5', '//t.co/hrvuKtpvn1', '//t.co/MY3dnVBZAZ', 'CarryOnBagsSlowEverybodyDown', 'Sound', 'Volleyball', '//t.co/tN5cXCld6M', 'Brother', 'laws', 'graduation', 'VelourLive', 'Utah', 'ABSOULUTELY', 'LOWEST', 'manufactured', 'quirkiness', 'Mmm', 'Signed', '-CaptiveAudience', 'triflight', 'AshevilleAir', 'functional', '20th-30th', 'mid-B', 'Spend', 'MurraySawChuck', 'machine', 'luxuries', 'expires.why', 'mightmismybrosgraduation', 'flight…', 'shhhh', 'steal', 'deal😉', 'Deborah', 'me💁', '4-4', 'Empty', 'wantcharge', 'Srsly', 'accommodating', 'extending', 'credit.Whats', 'notahappytraveler', 'enforcing', 'obey', 'Imdetermined', '//t.co/oXm6cWGaB7', 'relay', 'how/why', 'allowabl', 'Shopping', 'horizon', 'gosh', 'YOURE', 'GOING', 'CRY', '12:15', '10:10', 'forfeited', 'DestinationDragon', 'Kats', '930', '3458', '314505529', 'geekstiel', 'Vindictive_tK', 'Larry', 'MoveAboutTheCountry', 'FJBFSC', '776.20', 'Amex', '656.xx', 'ISP', 'FrigidFriday', '//t.co/bfPfW6eyKU', 'Rocks', '//t.co/q8VSfFRd1u', '4386', '122', 'STL-AUS', 'Ahhhhh', 'Jackpot', '//t.co/ZO2iceG4lI', 'devaluation', 'iD', '2bestfriends', 'Longer', 'retire', 'excruciatingly', 'happiness', '😭🙏', 'in-browser', 'hover', 'intrusive', 'responsive', 'Helped', 'Repeating', 'repeating', 'pockets', \"'Thanks\", 'tarmack', 'ImagineDragons', 'selfie', 'goingtovegas', 'PayPal', 'getconnected', 'Southwestair', 'SWEET', 'achieving', 'Wx', 'Advisory', 'Cold', 'luxury', 'missedflight', 'Blue', 'releasing', 'lbb', 'tripofalifetime', 'Gracias', 'Provo', 'Crossed', 'chi', 'Bait', 'Laguardia/dal', 'sinuses', 'contend', 'landings', 'preregistration', 'IMAGINE', 'DRAGONS', 'EOULD', 'DIE', 'TICKETS', 'WANNAA', 'DOO', 'ANYTHING', 'dragons', 'flipping', '♥️', 'WOULD', 'whiny', 'accommodated', '//t.co/lO6LghPcdU', 'BETSY', 'BESTY', 'Gettin', 'homewardbound', 'betsy', 'besty', 'bringin', 'mor', 'parhetic', 'bagawim', '//t.co/nGxAl9OmL6', 'memo', 'stoked', 'buttons', 'bands', 'atlanta', 'Blames', 'VeryLoyalCustomer', 'looong', 'vaca', '😊🌴', '//t.co/9TRvfnCedL', 'useable', 'Possible', '8X7XVM', '❤️you', 'Turned', 'TOS', 'NASCAR', 'BeBetter', 'invalid', 'Android', 'MRN', 'DISupdates', 'BudweiserDuels', 'unacceptable.I', 'lined', 'cattle', 'desirable', 'Jason', '108639', 'stellarservice', 'MichaelBColeman', 'byebyeusairline', 'know/expect', 'EB', 'nearby', 'non-existent', '4028', 'medically', 'trained', 'perform', '4007', 'AV-8B', 'XW', 'bostonlogan', 'brd', 'now.frustrated', 'ROC.if', 'tld', 'gng', '2b', 'mess.cng', 'overbk', 'Chiberia', 'Miracles', 'wheelsup', 'REFUND', 'execution', '2851', 'overbooked.Gng', 'dest.Feel', 'bec', 'AMiltx3', '^LL', 'weekends', '👍👍', 'done.0', 'Carolina', 'resort', '3:05pm', '7:40', '✈️✈️', 'wilco', 'Boyfriend', '2009', 'nvm', 'rescue', 'Sundown', '//t.co/rQBpmwETtq', '4200', '3:35', 'subterfuge', 'rid', 'Aug', 'Sept', '8HH4P2', '317', 'Support', '//t.co/lJzDTHD9Bv', '♥️🙏', 'pancho_joe', 'mixtape', 'EASIEST', 'DEAL', 'LOVEEEE', '11AM', 'empathize', 'capitalized', 'lowercase', 'gotcha', '✈️😃👍', 'bathrooms', 'fairly', '702', 'excitement', 'livvyports16', 'became', 'Bcuz', 'sammi_jon3s', '❤️❤️❤️', 'setting', 'heroes', 'SouthwestRally', 'bestemployees', 'swaculture', '//t.co/JTxyHQHfJJ', 'gmail', 'swapic', 'AUS-CUN', 'DreSparkles', 'Luvin', 'Paypal', 'Pres/CEO', 'TheRoFo', 'addressing', 'cbsbaltimore', '//t.co/OI32uq2tTZ', 'bowl', 'OAK', 'Pleaseeeeee', 'HRL', 'UNO_Baseball', 'singing', 'LuvInTheAir', 'joy', 'videos', 'heartlanta', 'noticed', 'fist', 'bump/high', 'iGotMonte', 'hopin', 'reviewing', 'oversize', 'Hardcase', 'golfbags', 'instruments', 'saianel', 'St', 'IfThe80sNeverStopped', 'rocking', 'chart-topping', '4467', '152', '503', '2/26th', 'PWM', 'Saturdays', 'permanent', 'ineligible', 'forgotten', 'Budget', 'fiancee', 'protocol', '411', 'evrytime', '955', 'Correct', 'rolled', 'NAS-BWI', 'bz', 'BWI-SJD', 'fallow', 'suggestion-', 'prettyplease', 'JOKE', 'customers.Time', 'go-to', 'airliner', 'cache', '159', 'HayleyMad', 'A-List', 'Pref', 'exclusive', 'HUGE', 'seasonal', 'Scott', 'bottom', 'heart💕', '4:45pm', 'BOS-BNA', 'CMH-OAK', 'daydreaming', 'bay', 'OhioProbz', 'origami', 'OldPoliciesWayBetter', 'WORSTAIRLINEEVER', 'park', 'yeehaw', 'vent', 'ensured', '455', '830', 'malfunctioning', 'BrittanyOBX11', 'quirky', 'archaic', 'accommodates', 'Report', 'Info', 'c/s', 'OneLove', 'bestairline', '578', 'favoriteairline', 'luvforSW', 'PreCheck', 'unserved', '//t.co/VQTyza6Mzu', 'dialup', 'speeds', 'Flight7', '3/19-3/23', 'A60', 'Whether', 'Bird', 'B15', 'childish', 'remain', 'LOYAL', 'constructive', 'criticism', 'bringbacktheluvtordu', 'directflights', '//t.co/p8Vcz4XTHM', 'DispatchAlerts', '//t.co/1ESmMnIZEk', '261633561838', 'Mail', 'RUDE', 'Wholly', 'sw', 'forever😃💕😍⤴⤴', 'consultant', 'kiosks', 'yearly', 'accumulation', 'Congratulations', 'phishing', 'cheapest', 'Superb', 'raving', 'glitches', 'custexp', 'Social', 'Listening', 'Ctr', 'time-rest', 'areas', 'RaganDisney', 'jlittle100', 'Double', 'GONE', 'nonstops', 'Download', '0.21mbps', 'UTAH', 'w/my', 'infant/toddler', 'Harbor', 'Willing', 'bestfriend', 'MAC', '14th', 'Reward', 'recovery', 'owner.', '😒👎', 'presenting', 'ragandisney', '//t.co/5ZNMwxDI9U', 'roadmap', 'intelligent', 'path', 'embed', 'enterprise', 'oak', '1-15', 'thirty_lives', 'integrating', '2012', '4464', 'Ft', 'myers', 'milwaukee', '//t.co/07XhCacjax', 'supporter', 'Jesus', 'portrayed', 'homosexual', 'Judas', 'performs', 'WN4287', '9:35pm', 'fan-', '1137', 'ATL-AUS', 'Whoot', 'gap', 'lasted', 'redeeming', '423', '☀️', 'races', 'aww', 'wknd', 'England', '~50K', 'logo', 'airplanes', 'rapids', 'lovetotravel', 'chaching', 'college', 'luxclark', 'Laura', 'onlywaytofly', 'leathery', '4251', 'Faaaannntastic.😭', '//t.co/JM8gQ1KGrF', '😜😎', 'thaw', 'Kinda', 'horribleattitudes', 'players', 'Chgd', 'acoustic', 'DisneyPrincessHalfMarathon', 'girlsweekend', 'bffs', '463', 'CO', 'Ops', 'Agt', 'Rich', 'Westagard', 'Att', 'Nancy', 'Airport.Held', '1027', 'Bus', 'CustomersFirst', 'MVP', 'kicking', '//t.co/sbEhi46bMk', 'qualification', '//t.co/nw7vx7DGMF', 'flightspots', 'mobileboarding', 'bridesmaid', 'tbuccheriFRNC3E', '13.5', 'Beijing', 'understands', 'unpredictable', 'Pound', 'tiks', '😱❤️im', 'aside', 'Herb', 'gracias', 'LA😄Flying', 'guest', 'NEED', 'Willie', 'Nelson', 'impersonator', 'sang', 'peanutsandtoons', '//t.co/kCDdOD7uFF', '6.5hr', '1172', '30k', 'skymall', 'ripskymall', 'passngr', 'physically', '134', 'early-bird', 'flythroughs', 'TIME', 'timieyancey', '//t.co/TkVCMhbPim', '//t.co/qn5odUGFqK', 'A30', 'Rethinking', 'misleading', '//t.co/a68d5fULmH', 'sporadically', 'Uncharacteristic', '//t.co/TXhYJ40llG', 'aired', 'BET', 'BookofNegroes', \"'On\", '77', '7:30', 'sests', 'Savannah', 'GA', 'Pleeeease', 'Chicago-LAX-PHX', 'spotting', 'se', '18th', 'sweatshirt', 'leinenkugels', 'craftbeer', 'Norfolk…', '//t.co/TgSLjjN6g0', 'inbox', '//t.co/NbZ45jCd1r', 'Knoxville', 'filing', 'transports', 'monthly', '//t.co/CyoOnZfTdC', 'caution', 'dependents', 'eligible', 'phone/inperson', '952', '5:40pm', 'CHI-MID', 'woohoo', 'whyyy', '4223', 'Damion', 'damionflight4223', 'YO', 'InternJohnRadio', 'mrerickv', 'threatening', 'Kaneshow', 'EVERYTHING', 'Whoa', 'Working', 'specifics', 'anticipate', '//t.co/16c9ex79Rk', '😁😁😁😁', 'LeeAnnHealey', 'places', 'beatsmusic', 'velourlive', 'saturday', 'personalized', 'snapchat', 'ONE', 'demolish', '3933', 'iMessage', 'instagram', 'bloody', 'alas', 'witty', 'repartee', 'BSO', 'attentive', 'bicycles', '62', 'criteria', 'bikes', '75/each', 'FAQ', 'Austin-Bergstrom', 'lanes', 'PIT-', 'LuvSW', 'curb', 'rico', 'A-list-ey', 'Bingo', 'Noah', '^MR', 'postcode', 'Ireland', 'Pre', 'messaging', 'SW900001-vyiL1XKlROG24fS-918j_A', 'giant', 'require', '1A', 'stewardesses', 'Cun', 'Atl', 'sing', 'Humphrey', '//t.co/mAvIgetbBw', '87yearsLate', 'maybeijustlost', 'whyyounoloveme', 'love_dragonss', 'LAUREN', 'GOD', 'AHHHH', 'Noted', 'sets', 'Hard', 'GAVE', 'EVEN', 'HAHA', '//t.co/sKKewqhssG', '10mins', 'taylormdowns', '1,750', '1800Flowers', '2/14/15', 'karajusto', '8FKQW', 'Times', '//t.co/osox9h7fWY', 'worstthingever', 'fedexed', 'Updated', '//t.co/WrWqrUblPs', 'ubergizmo', 'rr', 'Courtney', 'LGA-BWI', 'expedite', '3526665682', 'VinylVegas', '10/31', 'anni', 'Worried', '//t.co/BApE6RuMNE', 'PAID', 'JamesAsworth', 'Brent', '70plus', 'additonal', 'cantblametheweather', 'NH', 'MHTforlife', 'SWADiversity', 'brendanpshannon', 'Brendan', '^RS', 'announcing', 'Account', 'kindly', 'MardiGras2015', '//t.co/8WBzOrRn3C', 'lem', '😭😭😭', 'university', 'books', 'straying', 'thingsishouldknow', 'ifeeldumb', '//t.co/lEdNoCdQee', 'craving', 'yay', 'roadtrip', 'Deal', '//t.co/CFI1E3KXA9', '//t.co/S3EsW5AgUm', 'Days', 'PastMyPatienceExpirationDate', 'Inclusion', 'popping', 'OH-ing', 'jackass', 'kirkwoodtiger', 'Caribbean', '//t.co/AAY5avg99b', '^LD', 'WARM', 'saysorrychris', '^SW', 'lead', 'BABY', 'Apology', 'customerserviceWIN', 'itravelalot', '//t.co/z5znfwkKWP', 'Basically', '3:55', 'Costa', 'Rica', 'government', 'approval', 'CompanionPasses', 'residing', '//t.co/mdN5ED58ze', 'SCREAMING', 'DEAD', 'sooo', 'compete', 'hidden', 'fuckinf', 'HoLY', 'SHT', 'gain', '//t.co/ILqzmMJiYQ', 'deltanews', 'SCREAKJMF', 'Emerging', 'Leader', 'Development', 'Program-', '//t.co/jLHM0x7UkB', 'PV', '3854', 'forecasted', 'display', '//t.co/0kN7PjelZL', 'Thought', 'flysouthwest', 'lovesouthwest', 'mybday', 'Sagerooski', 'GOSH', '😭😭', 'august', 'Ahhhh', 'TWO', 'undignified', 'behavior', 'freedrinkcoupons', 'mltple', 'p.m.Can', 'Jax2BNA', 'notokay', 'Lastly', 'letters', '2078', 'Balt', 'babies', 'cried', 'vomited', 'Chaos', 'Caroline', 'superhero', '1703', 'BNASnow', 'Therefore', 'astounded', 'contempt', 'purse', 'Tired', 'Wendell', 'Holton', 'N8661A', '737-8H4', '//t.co/5z9STyUQJ3', 'Secondly', 'Thus', 'packingayak', 'BrianReganComic', 'cockroaches', 'crawling', 'traps', 'displeased', '//t.co/RYXbPLgMnK', 'FS4VE7', 'DeltaPoints', 'unlike', 'policy/fees', 'Re', 'DevotedyYours', 'NL', 'disappointments', '4110', 'discusses', 'possibilities', 'NHL', 'arena', '//t.co/t3E4SH5xNg', 'SMUSportMgt', 'sportsbiz', 'always-', 'closet/overhead', 'CAKairport', 'winner', '//t.co/p6r5rt5Ow5', 'Octavia', 'fll', '//t.co/2Boh2Mh3cb', 'downnnnn', 'CourtSnod', 'HillAConlin', 'solar', 'charger', 'Amazon', 'Game', 'changer', 'plug', 'usb', 'tryin', 'bicycle', 'bike', 'Fla.', 'TinaIsBack', 'SMH', 'unloaded', 'neveind', 'ModeloDeNegocio', 'innovacion', 'BusinessModel', 'Flight-checked', 'OAK-', 'JohnWayneAir', 'Official', 'DivadaPouch', 'ThePoopQueen', '//t.co/XXY2d2iMnP', 'wonderfully', 'film', 'reload', 'txt', 'emp', 'wide', 'Phi', 'freecomedyshow', 'newlifetimecustomer', 'Engadget', 'Theverge', 'Wired', 'reddit', 'Bigger', 'Dick', 'People', 'iusedtoloveu', '//t.co/tEFHpuWMdJ', 'emerg', 'communicated', '1831', 'ERW', '442998', 'Dale', 'commit', 'Patience', 'kisses', 'snacks.Thank', '//t.co/NKloZcNtto', 'disheartening', 'covered', 'ROCKS', 'LEAST', 'smaller', 'requirements', 'backpacks', '4/4', 'Shotwest', 'FVF9YW', 'SWRR', '298033455', 'codes', 'service.Open', '154', 'acting', 'short-shorts', 'reachable', 'According', 'interviews', 'uneventful', 'outline', 'scenarios', 'travelportland', 'Mt', 'hood', '//t.co/y3SAHVX3Zk', 'Nashville.Should', 'snag', 'NAS', 'pumped', 'essential', 'attire', 'grant', 'StL', 'Majority', 'Commercial', 'test', 'tomoro', 'concentrate😭😭', 'feelingtheluv', 'ProfitBeforePeople', 'IMO', '2020', 'Throw', '3111', 'N614SW', '//t.co/qefKFWZo7d', 'rubs', 'wasn', 'BAGS', 'wigs', 'Michele', 'rocked', 'me=', 'Nature', 'good-humored', 'aus', 'Drove', '4968', 'N8325D', 'NO_Airport', '//t.co/fd4SnvKIeM', 'poisonpill76', '1945', 'snowbama', 'pieces', 'promos', '✈️anywhere', 'fly=130', 'NoThanks', 'evaluate', 'Bullshit', '💩💩💩💩', '😠😠', 'flights😔', 'May❤❤❤😍🌏', '2:00', 'Undefined', 'working.Family', 'Cgroup', '4125', 'comeon', 'Matt_e_Boss', 'predict', 'Disney', '//t.co/PIvxean3jY', 'iiiii', 'slow-fi', '1802', 'CostaRica', 'pennies', 'VacaTime', '✈️💺', '771', 'DEN-BNA', 'DONT', '😜✈️', 'reopens', '☺️', 'fattuesday', 'mardigras', 'Awwweesssooomee', 'prchase', 'retailer', '6-8', 'L8', 'keepmy', 'swamped', 'TREMENDOUS', 'Mardi', 'Gras', 'dealt', 'Fastest', 'instrument', 'involved', '10/10', 'Deicer', 'Thankfully', '1613', 'slc', 'bushleague', 'weakservice', 'SouthWestAirlines', '3768', '2522', 'rt', 'nochill', '//t.co/esd3XD5V1r', 'MSY-DCA', 'SWA=mistake', 'electric', 'skateboard', 'regular', 'FP9M6Y', 'jennifer.cascino', 'gmail.com', 'becuz', 'SWfan', '//t.co/jU9rHZ4RQc', '4/9/14', 'GSP', 'DSM', 'separately', '7min', 'spreading', 'MardiGras', 'NFTYConvention', '//t.co/ttbtY89Ilo', 'Originally', 'store', 'necessities', '2.5yrs', 'Tulsa', 'SouthwestLuvSweeps', 'runways', 'TomVH', '//t.co/0HmmQCzkCf', '3:30am', 'starving', '211pilot', 'spilled', 'elevator', 'southworst', 'grades', '6,000', 'create', 'DtW', '11:55am', 'desparately', 'BNA-', 'TUL', 'annebevi', 'PaulBev1', 'MikeAbramson', 'lodge', 're-routed', 'bummed', 'callbacks', 'w/reso', 'FRAUD', 'Vegas-Chicago', '3397', 'caller', 'CBSsoxfan', 'off.calls', '3-6', 'phonedied', 'AListpreferred', '//t.co/1TZZ0vbMbS', '87', '43rd', 'soured', 'thu', 'screencap', 'unspecified', 'Buying', 'PaytonTaylor129', 'Payton', 'SWAir-', 'tortured', '1971', 'assisted', '-RR', '1079871763', 'incidents', 'Heard', '~45', 'will.make', 'guidance', 'bham', '648', 'Buf', 'FGKXV5', '587701925COUNT', 'Oct', '25-oct', '31', 'BernhardtJH', 'attitudes', 'adjustment', 'ding', 'bruh', 'bool', 'niggaz', 'imma', 'loyalRRmember', 'Ya', 'LOVESOUTHWESTAIR', 'NotPghTimothy', 'national', 'Integration', 'Valentine', 'gruber', 'dontchangeathing', '5:50', '3:50', 'Biggest', 'snowing', 'snowfall', '//t.co/apRZsPxigE', 'Fhk2te', 'Measles', 'outbreak', 'F5R3ZZ', 'challemann', 'jvstatus', 'streamline', 'commute', '😊☕📲✈', 'condescension', 'co', 'messing', 'serenitynow', 'insight', 'LAX-', 'octaviannightmare', 'dr.', '59:57', 'chart', 'PAX', 'alleviate', 'graded', 'EQP', 'modifications', 'FUSTURATED', '//t.co/IyUZM2PUVS', '464', '3574', 'Hi-My', '1814', 'TUL-DAL', '1:00PM', '//t.co/xmRvR4lGEg', '//t.co/wJoc9f14SU', 'tori_leggieri', 'Beautiful', '4720', '4+', 'hangup', '30-60', 'Nuts', 'daycare', '//t.co/N5O43sVl8i', 'harass', 'mistakeFURIOUS', 'NOTHING', '6yo', 'inability', 'temporary', 'GEG', 'HorribleService', 'NeverAgain', 'AnswerThePhone', 'SJU', 'staffing', 'balls-turn', 'take-off', 'JetBlueSoFly', '//t.co/9xkiy0Kq2j', '1041', '462', '//t.co/1syWlmTZek', 'aisles', 'evermoreroom', 'Waste', 'jetbluebos', 'Marty', 'George', 'nobaggagefees', '//t.co/tjDzaMHPEw', 'PGFRYZ', 'Submitted', 'tied', 'Proposal-', '27th', 'Gala', 'Org-', 'Boundless', 'Readers', 'same-day', 'Republic', 'ive', 'more👺', 'tan', 'june', 'rejecting', '1170', 'canister', 'powder', 'formula', 'divider', '117.', 'Area', 'Lame', 'opt-in', 'Verified', 'sxsw', 'fleek', 'PointsMe', 'JB', 'overchging', 'bg', 'herded', 'cattle2slaughter', 'rainy', 'poop', 'signing', 'TrueBlue', 'credentials', 'BaeJet', 'amirite', 'terrybrokebad', 'AskAmex', 'Plat', 'Airspace', 'Destin-', 'Walton', 'Beach', 'CatfoodBeerGlue', '//t.co/2thC9RKURT', 'yer', 'Headed', 'LBC', 'napkins', '//t.co/OxY1Jnpjm3', '//t.co/b5ttno68xu', 'Ruth_Slobodin', 'JustDoIt', 'YouKnowYouWantTo', 'versa', 'Longing', 'firstlove', 'flyfi', 'ondemand', 'leatherseats', 'hipunis', '//t.co/W5NL0AY9Bl', 'Guyana', 'eatgregeat', 'WOW~Thx', 'Greg', 'ps', 'TeamNKH', 'Annnndddd', '//t.co/clu5pdPrHP', 'glowing', 'sparkled', 'nokidhungry', 'partnership', 'JetBlueCheeps', 'FoodNetwork', 'tummy', 'snack', 'sunrises', 'jetbluesofly', '//t.co/JGdu5us8Dz', 'tried-', 'Input', 'BTV', 'jetbluehatesbtv', 'TruBlue', 'Veterans', 'Advantage', 'MCO.Keep', '👏👏👏👏', 'Vieques', 'Offering', 'Special', 'Fares', 'GoPureGrenada', 'discovergrenada', '//t.co/MBcEhCSZX3', 'CaribbeJan', 'islandexpert', '//t.co/2Zm4jkAlZl', 'occasion', 'Question', 'jannasaurusrex', 'Janna', 'WeAppreciateYou', \"'M\", 'jetbluefame', 'sosmart', 'frequentflyerappreciates', 'alsoyayforsnacks', '1856', 'transportation', 'deplorable', 'PRBound', '2016', 'N598JB', 'UVF', 'weekday', 'trueblue', '//t.co/iIMTJxcvLG', 'pr', 'NATCA', 'ATCT', '//t.co/hPsiEaokwh', 'lane', '1447', 'N351JB', 'JBLU', 'Westchester', 'County', '//t.co/xX2M2jxQep', 'MarinaDomine', 'Customs', 'EricBradleyPT', '//t.co/J6Hb4JDvER', 'BrianSumers', 'suffered', 'fifth', 'persistence', '//t.co/WEZUMDimYF', '1373', 'pooling', 'Soooooo', 'sleepy', 'NoPlaceLikeHome', 'eventhoughits2degreesathome', 'setup', 'join', 'pid', 'Twice', 'dim', 'maatkare67', 'TatianaKing', 'thewayoftheid', 'haa', 'Blushing', 'container', '18Gal', 'totes', '//t.co/mJtK2SFuhG', '1680', 'flight108', 'pwm', '2/3', 'redirect', '//t.co/Vxn2J36M7V', 'stole', 'policy-', 'discovered', 'theft', 'stealing', 'Security', 'cameras', 'SYR', 'hitch', 'hike', 'passengersarepeople', 'LUGGAGE', 'GET', 'TOGETHER', 'Relax', 'Adv', 'companies', 'madness', '//t.co/7x9uSbj2FV', 'goodnight', '616', 'comfortably', 'civilized', 'DatingRev', 'lag', 'infants', 'aiecraft', 'CODE', 'TEST', '//t.co/BBM6PAbORt', 'fuckin', 'LBAirport', 'LongBeachCity', 'establish', 'facilities', '//t.co/jByVMsOd29', 'nytimes', '//t.co/atd2Sm8HF4', 'Navigating', 'rebooks', 'flu', 'possibility', 'gone-now', 'charleston-very', 'pricy', '1274', 'zombie', 'Welp', '//t.co/kwUEk1uKbC', '//t.co/ui9M8YpzH2', 'WSJ', 'thy', '//t.co/7XMaV13G2W', '//t.co/Ela7TNtcIR', 'SC', 'chging', 'isit', 'redemption', 'barbados', 'Cuba', '//t.co/FTv2NWWQF1', 'froward', '//t.co/M2wSg2olgo', '-_-', 'Btw', 'Works', 'deny', '//t.co/eNXV64RkbU', '👉🚪RT', '//t.co/dSDEbodmEL', '//t.co/g97HAbyeP5', 'sway', '//t.co/tQc96tKcI9', 'um', 'wut', '//t.co/M4UWcPxtXJ', '//t.co/lchVJoliDg', '//t.co/EUl6sDURbU', 'SHUT', 'DOOR', 'transferring', 'contribution-to-pool', 'Gotcha', 'Enjoy', 'non-profit', 'ARC', 'rely', 'extractions', 'abducted', 'lessening', 'agencies', '//t.co/QRxz0bGbtq', 'WMCActionNews5', '//t.co/Gbd5R1OlSI', '//t.co/vO3eQsEPqH', '//t.co/P6eef1zWzc', '//t.co/IRiXaIfJJX', 'BucketObolts', '//t.co/7iM9rHIvyR', '//t.co/TnKIXXrxHB', 'appease', 'Wall', 'Street', 'Columbian', '//t.co/pG96ys9aSW', 'weepysweetmonty', 'compartments', 'MrJustyn', 'studying', 'lingo', 'depressing', '1316', 'Jax', 'ty', 'LOLOLOLOLOL', '//t.co/YXSwFq9tGP', '//t.co/mpi4yuo9jR', 'overreacting', '//t.co/5KshTUe6Q0', 'chips', 'E190', 'tails', 'relieved', 'neighboring', '//t.co/g12sn5qsqZ', '//t.co/LSYbgLF59j', 'OMGee', 'OnFleek', '😭😁😆😵', 'battles', 'Waterbury', 'Republican', '//t.co/fW3cy8HGdJ', '//t.co/aJM3BhJVaa', 'foh', '//t.co/tEjrN09tfw', 'NOOOOOOOOOOOOOOOOOO', 'chats', '//t.co/rKorHvR9z1', 'contentmarketing', 'staring', 'blank', '//t.co/g4WwR6VBRQ', 'HA', '//t.co/zQuTUS7epW', 'mag', 'kangaroos', 'rectified', '-.-', '//t.co/58B7swRpmq', '😂😂😂', '//t.co/BBaONx9txD', 'deemed', '//t.co/W9BQiw0aou', 'investors', 'Toledo', 'Blade', '//t.co/R4xJXQRX1z', '//t.co/HovuAIsG16', '😂😂😂😂', 'k.', '//t.co/IUX94Rgc83', '//t.co/XX5QSCjlL1', 'BrandsSayingBae', 'Freberg15', 'Noooo', '😩RT', '//t.co/lsxJI0oUvR', '//t.co/pr3OeBC2N2', '.............', '//t.co/X7iLzqdwe2', '//t.co/4LlWi5oxvO', 'lmfaooooo', '//t.co/FVYzjLDTON', '🚶🚶🚶🚶', 'Indeed', 'plane-wide', 'System', '3-yr-old', 'Nassau', 'great-granny', '103', 'FlyingitForward', 'YASSSSS', 'Da', 'Fuccc-', '//t.co/oAJ5mnuchA', '//t.co/we7Pf5Ll1Y', 'sm', '//t.co/l0i8fnz3KU', '//t.co/ERzht75kqZ', 'unfollowing', 'fustrated', 'preciation', 'Nj', '✈️Tampa', '🔵🔵🔵', 'lord', '//t.co/nlzS1Ehnee', '//t.co/pa7dCjXlzL', 'fam😭😭', '//t.co/iZfofgjzUi', '//t.co/cRFrwpc1Sx', 'Fedora', '//t.co/qqlzk2jkzR', '//t.co/UgFCKErmrW', '//t.co/RLWBJ80mA5', '//t.co/HP9RPPCvHx', '//t.co/rinzYSK6kI', '//t.co/1incNCaV4n', 'lolol', 's_myc88', 'tongue-in-cheek', 'etiquette', '//t.co/GGuAA1JvDF', '//t.co/G4O6yX7TMJ', '//t.co/W0HOAewhwS', 'fights', '//t.co/Q16Xvwg0L6', '//t.co/dxn58rxDkS', 'jameskraw', 'STAHHPPP', '//t.co/VHFJGneOZO', 'JetBlue…', 'Just…', '//t.co/mB3IPGs8zQ', 'Brands', '//t.co/sKEbqKtxvX', '//t.co/nJ5Ga1gds5', '//t.co/kHZrCCyp2A', 'shits', '//t.co/PEQ90pqMpp', '//t.co/a7NvbJ8ipx', 'JetBae', '//t.co/yZXfe7au22', 'Welllllll', '//t.co/dHHomG2kiX', '//t.co/gHJBp5Gg67', 'Peak', 'Caucasity', '//t.co/cSNRPVY9b9', '//t.co/uTdfqF5WPA', 'Moves', '//t.co/t9s68korSN', 'Sir', '//t.co/F5IXyw8XyB', '//t.co/Ac6zwmuOOn', '//t.co/lvIrTDtqly', '//t.co/Q5a7jtkI5K', '//t.co/uKM4e99Dz0', 'lmaoooo', 'Delete', '//t.co/y5qE9HcQzT', 'duh', 'hired', 'Lmfaooo', '//t.co/1G9RnmYUQe', 'assuage', 'indignation', 'records', 'exits', 'wens', '//t.co/knUVuOVhub', '//t.co/LYcARlTFHl', '//t.co/udPq0flIQo', 'cultural', 'appropriation', '😩😩😩', '//t.co/46am1BSi2G', '//t.co/V5QWkYXSW6', 'community', 'managers', '//t.co/e2AXlqzWvh', 'martysg', 'Corp', 'Regards', 'ballin', '//t.co/jm4GeyXbY5', '//t.co/cpZB285o71', 'bostongarden', 'welcoming', 'BLOCK', 'BIKE', '//t.co/2z3hGqPRSG', '704', 'Awww', '//t.co/vw2v8GVnGq', '😐😑', '1065', '//t.co/4KH92mKoTZ', 'toss', 'wit', '👀👀', '//t.co/WJYAs2D94n', '……', '//t.co/vOsIzh17sl', '//t.co/K66SRFnw77', '//t.co/XASPqDsqhE', '//t.co/3kVkd8yRxa', '340', 'brink', 'bankruptcy', '//t.co/01ldxn3QqQ', 'LAX-NYC', '190', 'X__x', '//t.co/xxppZo88j1', '1way', '//t.co/CXTTxV2lMP', '//t.co/ar0VayLmFc', 'Lmao', '//t.co/Hi6Fl1AX9E', '//t.co/5xGnyHGAFz', 'sporting', '//t.co/FRAqDPKyga', 'hellobrittNEY_', '//t.co/NfjAuW16vZ', 'STAHP', '😂😂😭😭😭😭', '//t.co/BM2unRaOnI', '//t.co/t2qBGAMfpc', 'BOOOO', '🍅🍅🍅🍅', '//t.co/0WbJAWx7xD', '//t.co/QavvlAXLkl', 'bops', 'newspaper', 'X____x', '//t.co/Y39YzDpBvU', '//t.co/62GoDFaKNB', '//t.co/MB0hVfqB1t', '-see', 'ihop', '//t.co/RkwugmanM9', 'lmao', '//t.co/413GiAL0yl', 'multimedia', '//t.co/UHUmAskLdv', '//t.co/826Pkiq5HI', 'too😊😊', '//t.co/ncguZDgDaQ', '//t.co/8o3SCR5EFW', 'Nah', '//t.co/Hez4jk4ZsK', '~huh', '//t.co/tLGoihqkvS', \"Y'ALL\", '//t.co/LQjT2jvOYS', '💙💙💙💙', 'courteroy', 'LOLZ', 'Fleek', 'tweeter', 'USING.THIS.WORD', \"'RE\", 'COMPANY', '//t.co/Fd2TNYcTrB', '//t.co/JMnkJ6Bmc2', 'Blizzue', 'hizouse', '//t.co/Lv9HwQDK9A', '✌️', '123', 'Mint', '//t.co/6H5uEZH4cv', '//t.co/yZH4ZRQM0i', 'petty', '//t.co/H11jglw74L', 'ayyy', 'hahah', '😂👌👌👌', '//t.co/7VeE44MACM', '//t.co/mFSsh2UHUe', 'LMFAO', '//t.co/vOUUFRN4jS', 'YASSS', 'reconsidering', '//t.co/1yLn1Gx4QX', 'woof', '//t.co/I7Ut2ZvHCO', '//t.co/3Ltx7JKBo9', '//t.co/wGYzTnjCXm', '//t.co/2UaICFJRmS', '//t.co/PULp4i0w96', '//t.co/oxsA8btVTB', '//t.co/dqny4aKTg9', '//t.co/9SHhTvIOTI', '💯💯💯', '//t.co/SrM13qbRZD', '//t.co/BBHTlZgH2C', '//t.co/gdzadXzBYA', '//t.co/aIyC9WV5oq', 'digg', 'Haha', '//t.co/KmaNLdQbh4', '//t.co/kVXs1lCqLp', 'alynewton', 'donut', 'designer', '😩😂😂😂😂', '//t.co/yco9dikpt9', 'duct-taped', 'ohboy', 'shouldigetoutandpush', 'flying…', '//t.co/R9ZsVzuRLw', '//t.co/IMVMpnQXAI', 'chairs', 'TLC', 'UniversalORL', '//t.co/tNY9uIpha5', 'alternatively', 'charter', 'PITT', 'gladly', 'Tweet', 'York…', '//t.co/QygXGmd3Sn', 'drawing', 'Irina', 'flip-side', 'EatUp', 'Cafe', '1914', 'buggy', 'mons', 'abassinet', 'Gerne', 'Stupid', 'methods', 'Example', 'debit', 'BillMeLate', 'Everytime', 'Auto', 'Vmsg', 'Rates', '//t.co/Kk6EixifP5', 'Nantucket', 'Aviation', 'Mark', 'T.', 'glass', 'dig', 'heels', 'novel', 'jeff_hofmann', 'DeniseJTaylor', 'LaurieAMeacham', 'multi-x', 'strollers', 'EMS', 'environment', \"'mile\", 'surely', 'misspelled', '19JUN-6SEP', 'Joanna', 'Geraghty', 'Unlike', 'nyjets', 'GoPatriots', '25m', 'westpalmbeach', 'flybetter', 'Chasing', 'curb-side', 'self-check', 'Ended', '+TV', '+WIFI', 'RedSox', '❤️NY', 'catsanddogslivingtogether', '//t.co/KFUyYoKUFv', 'pearl', '460', 'Departure', 'complex', 'pull-down', 'sub-option', 'forms=maddening', '25-', 'Waldorf', 'Astoria', 'outfit', 'liking', 'Hence', '653', 'opposite', '2324', 'Dca', 'Robert', 'shocker', 'Mosaic', 'attended', 'Daniel', '1557', 'Webpage', '8162', 'Fl382', 'sittin', 'birder', 'trap', 'Rats', 'sloooooow', 'JFK-SFO', 'pure', 'awesomeness', 'Tim', '915', '1918', 'wall', 'separating', 'safetyconcerns', '//t.co/zTrDwV0N4l', 'Cali', 'idk', 'FlyFi', '//t.co/T1RYpzEBc8', '9:30pm', '1.5hrs', 'mint', 'emaleesugano', 'odds', 'reunited', 'delinquent', 'homeward', 'joke-', 'specified', 'Monsoon', 'selfies', 'amybruni', 'DIRECTTV', 'devastated', 'bridges', 'jetblues', '//t.co/ncB2oNcS9i', 'measured', 'Large', 'extralight', 'Fly-fi', 'zakkohane', 'Ricoh', 'happytohelp', '611', 'maimi', 'maimi😭', 'backup', 'Cosmopolitan', 'blacklist', 'Goodwill', '125.00', '27,000', 'Fine', '136', '11:23', 'contactless', 'EMV', 'testing', 'younger', 'siblings', 'diffused', 'mosaic', \"'perks\", '5lbs', 'inflation', 'nexttime', 'andthewinneris', 'guys😍😍😍', '//t.co/3X9NRUOvtS', 'WEEK', 'terms', '//t.co/Ji2pg4gom9', 'ABCNetwork', 'permissions', 'whyabcwhy', 'shannonwoodward', 'nerds', 'geeks', 'dressed', '0510', 'informs', 'exceed', 'the16', 'julesdameron', 'Considering', 'Accessibility', 'MUST', 'Equality', 'abc', 'missingtheoscars', 'ooookay', 'reactions', 'tap', 'readers', 'shiver', 'forevercold', 'Scheduled', '8:15p', 'SDQ', '//t.co/7gB0hgW51t', 'dissapointed', 'paseengers', 'Santo', 'Domingo', '9hrs', 'surfboard', 'BQN', 'gif', 'thng', '//t.co/ML1JaCpmch', '98', 'forecast', 'prechk', '8PM', 'costumers', 'disorganization', 'GetItTogether', 'Medium', 'tanked', 'JUSTWRONG', 'Names', 'SJ', 'Alamo', 'Tatiana', 'Ali', 'aha', 'serv', 'Smith', 'oust', '2070', 'Space', 'Tx', 'accurately', 'FinleyBklynCFS', 'video.', \"m'good\", '2601', 'dissatisfied', 'Treat', '1106', \"'Preciate\", 'WELL', 'essentially', 'focus', '2:14', 'psgrs', '5:39', 'AKA', 'BUS', '//t.co/KfKjF1ZtGi', 'Nikon', 'reliable/friendly', 'rep/exper', 'smell', 'nd', 'undrstnd', '-but', 'wlcm', 'onbrd', 'bulb', 'cabcelled', 'Jetblue', 'apologizes', 'Wrong', 'DONE', 'Byebyejetblue', 'Token', '75.00', 'stairs', 'distances', 'untz', '//t.co/lj2lARivE0', 'jetbluefail', '//t.co/v8SB0RBICx', '//t.co/vPDRPLXj5a', 'snowbound', 'scent', 'tht', '//t.co/LAiGgef9Kj', 'deli', 'sFO', 'customerservicenot', '2008', 'prefference', 'Esp', '//t.co/x6SYW3MDVu', '1025', '8:05am', '1117', '//t.co/HDoXiM6NZ2', 'north', '//t.co/clvlhfgUZw', 'criminal', '//t.co/qgtCao1J2U', '//t.co/lKFh9HYHW8', 'resulting', '10-minute', '//t.co/MzZfGqfHu2', '50.000', 'inconceivable', '//t.co/q9n6NZYSpK', 'Third', 'Syracuse', 'ishouldhavedriven', 'dick', '//t.co/2HXsDP0ha4', '//t.co/49FLbgzZkd', 'Domestic', 'ChrisHasMadeUsBLUSH', 'trending', 'increments', 'cArpet', '//t.co/iIdrbLNOoX', 'pics', '37,000ft', 'bluecarpet', 'SEA✈️BOS', 'Hayes', 'USChamber', 'summit', 'ought', 'perspective', 'expressed', 'communicationiskey', '599', '1970', '3yr', 'Hawaiian', 'HawaiianAir', '175', 'PEOPLE', 'ventilation', '🙌✈️', 'president', 'goodwill', 'hunky-dory', '1159', '1384', 'bro-in-law', 'Craziness', '118', 'garage', 'replying-I', '☺️✈️', 'do-but', 'time-that', 'Yea', 'Expedia-there', '☺👍👍', '561', '//t.co/4Ktk2hsmGy', '584', 'luggagegate', 'Yoga', 'edits', 'msbgu', 'MBAs', 'justify', '1415', 'reassign', 'Endless', 'SRQ', 'PTO', 'MintyFresh', 'brandmance', 'Four-hour', 'Tv', 'B6', '620', '1691', 'CTG', '1562', 'Figure', '2littlebirds', 'captured', 'Brittany', 'Newburgh', '795', 'loweredexpectations', 'yest', '12am.Today', 'txt/email', 'inform', 'Enzo', 'Setorii', 'pooch', '//t.co/dLh9138HBg', 'T5', 'directing', 'Promo', '33', '//t.co/leNaOwFyvU', '//t.co/epqqONHO2H', 'buf', '8:45am', 'bevies', 'alcohol', 'CookJaycook123', 'Amagrino', 'Landing', 'wiyh', 'jetbluerocks', 'newborns', 'HPN', 'Several', 'inebriated', 'league', 'DEPLANE', 'closure', 'THIRD', '//t.co/UfBdr5AxeO', 'Using', 'quickie', '1533', 'Cartagena', 'praises', 'pact', 'organizational', 'Chartering', 'sugar', 'idlovetoask', '//t.co/DPX3yoGTEj', 'startled', 'description', 'expanded', 'Bonnie', 'gorgeous', '//t.co/5Db9eSBNzG', 'beach', '//t.co/obqIro1bUJ', 'Newburg', 'Touchdown', '226', 'JetBlueRocks', 'any1', 'rly', '8:30a', '9a', '9:30a', '10a', '11a', '11:30a', 'gracious', 'BUY', 'Investigation', 'tux', 'UMosaicMeCrazy', '//t.co/hap4gboSTU', 'cannedtweet', 'autoresponse', 'demanded', 'handles', 'ALOT', 'waved', '489', '589', 'inserted', 'TrueBlueColors', 'flight16', 'circling', 'time.Someone', 'updateyourwebsite', 'lil', 'desires', '//t.co/WmX12F33ZC', '10:45', '11am', 'communicationFAIL', 'dobetterJetBlue', 'ideal', 'flt1533', 'Carta', 'wat', 'cpap', 'apnea', '//t.co/BTvpxTZJu0', 'Glenn', 'Coles', 'Buffalo-Niagara', 'Top', 'direction', '//t.co/sEUlpvfn95', 'airport-wide', 'unlucky', 'Sunshine', 'Tryna', '502', 'woulda', 'hmmm', 'haning', 'mosaicmecrazy', 'nofilterneeded', 'FlyFi…', '//t.co/NY6CS7jRuV', 'circle', 'upstate', 'miraculously', 'liftin', 'higherandhigher', '//t.co/xGfS6tJTMo', '//t.co/ixM3t5mIZc', 'resources', '😭😭😭😭', 'BrandLoveAffair', 'soulandinspiration', '//t.co/IGkoGyWksr', 'umosaicmecrazy', 'Issue', 'Closer', 'ACY', '8:00', 'takr', '11:00pm', '906', '//t.co/zvfmxnuELJ', '904AM', '//t.co/iEG2ObcEpp', '622', '2301', '4:05', 'Erie', 'fllairport', 'kill', 'nine', 'port', 'authority', '751', 'america', 'scheme', 'badairline', 'Pitts', 'MDE', '475', 'tf', 'tfgreenairport', 'wore', 'protection', 'sylvie75015', 'Sylvie', 'yourock', 'mxo42', 'henrikwagner73', 'follow-up', 'Yep', '-JFK', 'srsly', 'eternity', '5amMisery', '723', 'Animal', 'HELLA', '4-10', '9:48', 'Highlight', 'bumper', 'AmericanAirBR', '2/emailed', 'Didnt', 'surprises', '1222', 'e190', 'Shocked', 'misbehavior', 'airways', 'Dubai', 'controllers', 'equalizer', 'dgruber1700', 'shucks', 'GOOD', 'engagements', 'tar-mat', 'minimum', 'Earlier', 'Pandora', 'backhome', 'noplacelikehome', \"'various\", 'relationships', '//t.co/vGqOihtRkH', 'Maddie_Flood', 'hesitant', 'sized', 'LET', 'MAKE', 'FUN', 'SIZE', 'COOKIES', 'stuckonaplane', 'sos', 'babyfood', 'rum', 'coke', 'cushy', 'Help_Lindsey', 'mother-in-law', 'NHLonNBCSports', 'Inept', 'havent', 'rethink', 'Unprofessional', '454', 'PBI-JFK', '2.5hours', 'hatch', 'flite454', 'interupt', 'Staduim', 'Series', 'Emergency', 'release', 'ijustwanttobeinBoston', 'thanksDC', 'flite', '790', 'L_Burley11', 'praise', 'CHS', 'concerning', 'lost/stolen', 'ADA', 'sex', '2202', 'goodcustomerservice', '8088', 'SXM', 'c26', 'nj', 'wouldn', '2morrow', 'Cory', 'Greatcustomerservice✈☺', 'Party', 'incase', 'Charles', 'cave', 'glasses', 'annual', 'HeinekenUSACorp', 'distributor', 'livethelegend', 'mercy', 'playlist', 'seeks', 'Journal', '//t.co/9bzqZQx8DC', 'C12', '//t.co/ltwhmOL1Dr', 'rain/sleet', 'instant', 'lipstick', 'pig', 'mins+', 'toolong', 'restless', 'ST', 'Maarten', 'Exciting', '😁🎉', '//t.co/Xf9MPnAaJE', 'tempting', 'sodone', 'treacherous', 'Counting', '989', 'rockers', 'knock', 'JohnNosta', '684', 'tonight-', '5:26', '1272', 'DCA-', '//t.co/E0R0NTO4TR', '//t.co/NRpWmGyv3e', 'allowances', '🆘🆘🆘🆘🆘🆘🆘🆘🆘🆘🆘🆘🆘🆘', 'lizaapproved', '82°', 'predicted', '//t.co/ufyxXkIsa3', 'PGAShow', 'weathers', 'Phew', 'Pant', 'Wheeze', '//t.co/ZPZ78POeON', 'warmer', '1089', '1098', '7:16', '20-30', 'pricewise', 'cough', 'compact', 'folding', '//t.co/9nivw9ftZw', 'sons', 'redo', 'thismosaicnothappy', '1002', '//t.co/K7uBOTMr1r', 'regularly', 'asleep', 'bestdressed', 'Stewardess', 'giggled', 'goodgenes', 'ilookyoung', '3/13-17', 'LB', 'ItsLaLoca', 'CARE', 'jumping', 'Absolute', 'Needs', 'condolences', 'viraltech', 'creates', 'institutional', 'Revenue', 'predictive', 'analytics', 'forecasts', 'Alicia', 'ExceptionalService', 'lauderdale-Bogotá', 'Colombian', 'disapptment', 'bdng', 'tad', 'ASSURED', 'earthquake', 'Haiti', 'rebuilding', 'flyingitforward', 'chatted', 'lowdown', '33036', 'paulgordonbrown', 'hug', '//t.co/LT1pYKfvRq', '2gether', 'session', 'beloved', '//t.co/vv8cFyhKVb', 'itenary', 'foreverrrrrr', 'CUSTOMER', 'marathon', '2a', 'FlightLED', 'Fliers', 'Gain', 'Access', 'Content', 'Analyst', 'Blog', 'Nasdaq', '//t.co/dWEse7Xidr', 'nixchangefees', 'Port-Au-Prince', 'orphan', '//t.co/fn2QXybT9K', 'Id', 'villages', '//t.co/lTf2quD3Xc', 'medicine', 'orphanage', '//t.co/pGoeUXnsPI', 'Covered', 'Dakota', 'Financial', 'News', '//t.co/WOwxhpU5qv', '17-month-old', 'fold-up', 'crib', 'Forward', 'campaign', '//t.co/Yh1KZkYZrR', '//t.co/wmO6tKqhXp', 'usatodaytravel', 'dualcam', 'RedReserve', 'Stock', 'Rating', 'Lowered', 'Vetr', 'Inc.', '//t.co/QW2eBEEMVg', '6.5', 'Greedy', 'foolish', 'waiver', 'benjaminokeefe', '❄️⛄️', 'WereNotinCaliAnymore', 'beverages', 'NY-ers', 'happytweet', 'TuftsEnergyConf', 'Breaking', 'Barriers', 'Clean', 'Energy', 'Iata', '//t.co/FFc13zYGJS', '//t.co/dbcvEPn5QC', 'Bluemanity', 'CoreValues', 'Passion', 'AeroJobMarket', 'LifeIsGood', 'nigga', 'guacamole', 'westpalmbeachbound', '🌞✈️👸', 'Strong', 'Sell', 'Mideast', '//t.co/yMMH9k4CBr', 'zacks_com', '//t.co/GouzrdT7ZF', 'Define', 'incidentals', '162', 'anyways', 'nomoreaggravation', 'BOS-SJU', '5-12', '5-19', 'flywhonotblue', '1:02', 'wailing', '672', '9:30', '11:47', 'nov', 'kin', 'flt348', 'ping', 'Ping', 'FerrisSalameh', 'likelihood', '//t.co/ebxC94kFJD', '1183', '1225', 'delayforwhat', '631', '891-5722', '348', 'sittingonthetarmac', 'decide', '//t.co/lxwbsfxfj0', 'nix', '834', 'dlewis2412', 'Inflght', 'to.', '2034', 'Shouldnt', 'thre', 'ABCLetJetBlueStreamFeed', '6F', '1818', 'Planned', 'cavs', 'Nooooo', 'bein', 'loosing', 'disturb', 'dl', '//t.co/Nh2i9ZlzMk', 'Pura', 'Vida', 'Inflight', 'SharkTank', 'toplay', 'vainglorygame', '//t.co/CmjRIWOP7O', 'makingthingseasy', 'feelbetter', '266', 'LGB', 'Cal', '//t.co/V015PK7DSi', 'effect', 'markie_post', 'Markie', 'Mayweather', 'Pacquiao', 'Terra', 'Mommy', 'daddy', 'Corporation', 'Insider', 'Trading', 'Hill', '//t.co/vvzkSMFKVw', \"'em\", 'fitbit', 'flexes', 'hgeronemus', 'completing', 'installation', '//t.co/sGckBopATA', 'sooooooo', 'Ridiculously', '2168', 'checkin/bag', 'blue/blackish', '445pm', 'MT', '//t.co/mTHM9waObu', 'pbi-boston', 'NASDAQ', 'Reaches', 'High', 'Range', 'StreetWise', '//t.co/C7tpdKqULM', 'chaos', 'underway', 'query', 'scrum', 'learnt', '16mont', 'Birth', 'certificate/S.S', '6:48', 'exceptionally', 'uncourteous', '6:44', 'Push', 'reality', 'Dare', 'burger', 'Were', 'butnot', 'grumpy', 'flight1407', 'diverting', 'inflatable', 'savethoseseats', '//t.co/TpzhjX7Hbt', '9:51pm', 'Thoughts', '691', 'Ah', 'grasshopper', 'twitterz', 'kung', 'fu', '//t.co/8MWItRi9kF', 'discontinue', '471', 'Negroni', 'bitcoin', 'dec', 'Lucia', 'natural', 'beefjerky', 'snacks😉', '1572', 'muscles', 'frown', 'FEW', 'SMILE', 'flyin', 'JDHADP', 'Joe', '633', 'howhardcanthatreallybe', 'van', 'nogearnotraining', 'warmest', 'negativedegrees', 'snowwillnevermelt', 'hanneslohmann', '//t.co/jWL26G6lRw', 'steward', 'sunshine', 'escape', 'bliss', 'InDenial', 'WhatFrozenPipes', '//t.co/6TtzEJV3hY', 'dontflythem', 'random', '1729', 'alarm', 'older', 'misread', '1202', 'AfterAll', '//t.co/swWhYhEn76', 'LoveSongFriday', 'Cheesy', '80sweresomuchfun', 'trading', 'colder', 'journal', '//t.co/PTsbkA4cDJ', 'lay', 'BedofRoses', 'colored', '//t.co/3QYEzHjGsb', 'guns', 'IWouldDoAnythingForLove', '//t.co/Yx1DQJn8nL', 'BrandMance', 'smart', 'partnered', 'digital', '//t.co/0LiwEcAsOe', 'OOH', 'Speaking', 'MiAmore', 'IAdore', '//t.co/fWZClBvuG4', 'Loving', 'IDontWannaLiveWithoutYourLove', '//t.co/i9KCgaxxFa', 'ItWasMintToBe', 'BestInClassSocial', 'Offer', 'In-', 'Digital', '//t.co/ucF0B0bQ8r', 'Stevie', 'jetgreen', 'jetred', 'flightlanding', 'sunscreen', 'feelsgood', '//t.co/5PvG2hJXKp', 'StacyCrossB6', 'SaharaSams', 'FLAWLESS', 'PROUD', 'BlueHeros', 'JETBLUE', 'disabledtraveler', 'jamaica', '//t.co/Ur60Un86gy', 'finder', 'WikiPearl', 'NatProdExpo', 'ExpoWest', 'EvenMoreSpace', 'EvenMoreView', '//t.co/dXuX6DBfd3', 'first-time-flying-w-a-16mo', '2nt', 'internship', '277', 'tke', 'div', 'sis', 'mega', 'Challenge', 'wager', 'IsItSummerYet', 'Thankful', 'Wylie', '//t.co/jgor0vdI3S', 'Dre', 'Snoop', 'classes', 'thanksJetBlue', 'Bring', 'Princess', 'Marathon', '//t.co/D1eRGPdWsJ', 'trivia', '//t.co/AucSYKFUHD', 'WSJPlus', 'MakingLoveOutofNothingAtAll', 'brandloveaffair', '//t.co/kdHRUF54sW', 'Bottom', 'taxiing', 'patienceiswearingthin', 'Admirals', 'slide', '290', 'itscostingmeincome', 'Mintalicious', 'TrueBlueLove', 'ShelleyandMarcRock', '//t.co/xDjzkC34GB', 'LostinLove', '//t.co/Bzwgp7aDVE', 'wemosaictogether', '//t.co/LA397zaoAY', 'bearable', 'notwheelsup', 'BOS-MCO', 'Hits', '52-Week', '17.58', 'sleekmoney', '//t.co/zdKXn4kTOu', 'steamed', 'conjunction', '7-hour', 'complainer', 'w/you', 'Shanese', 'Bryant-Melton', 'hard-working', 'grandmother', 'bucket', 'flyitforward', 'TB', 'Success', '//t.co/Yxn00pnOav', '//t.co/Of7PFvQpOY', 'Lines', 'HoldOn', 'EverythingsGonnaBeAlright', '//t.co/64kN6GEEP8', 'Paper', 'serviced', 'Crewmember', '24//', 'CCNDJP/', 'Inconvenience', 'torture', 'cling', 'crewmember', '3HrDelay', '669', 'countless', 'strips', 'workhard', 'playsoon', 'TheVDT', '//t.co/VD0tLomtwu', 'Denver-Boston', '2/10', '994', 'Boston-Denver', '493', 'crumbs', 'Felt', 'insult', 'seven', 'hip', 'Sirius', 'XM', 'sounded', '1at', '1stTimeFlyer', '//t.co/o5sifHp4RT', 'Frustrated', 'contain', 'herself', 'Ricardo', 'Olavarria', 'Fixed', 'walls29', 'NNY', 'Mom', 'kitties', 'countingdown', 'D.C.', 'erring', 'D.C', 'Summer', 'Broadway', '//t.co/dS22ceeEnj', 'UpWhereWeBelong', '//t.co/KtAWbiUUro', '//t.co/AsYqE1tDjp', 'suuuuper', 'HOT', 'ardent', 'Poughkeepsie', '//t.co/zSdGzyDNDe', '12-Month', 'WKRB', '//t.co/XvBjCzlMDA', '802', 'A321', 'JFK-SEA', 'Core', 'Config', 'island', 'SamChampion', '//t.co/N3SUIip0VW', 'MarketWatch', '//t.co/yI4wGUk5tr', '10:55pm', 'Inform', '😒👺', 'schedules', 'Havana', 'photography', 'pictures', 'much-needed', 'slowest', 'cflanagian', '//t.co/7E5bxwG16t', 'scenario', 'Camp', 'starts', 'toolittletooLate', 'camp', '108', '😘🙌', '//t.co/2Nzh3QOaZo', '670', 'predictable', '1503', 'icyflight', 'poorcommunication', 'waitingsince', '10:51', '424', 'flight424', 'carsl', 'comedic', 'othr', '10:51pm', 'Unloaded', 'incomprehensible', 'frM', 'ITS', 'HR', 'fromthefrontseat', 'jetblueBlues', 'anku', 'yaffasolin', '2302', 'Pereira', 'Cartago', 'streets', 'misunderstanding', 'kgonzales89', 'Scandal', '10hrs', 'tower', 'inoperable', 'N615JB', 'Sox', 'livery', 'capture', 'Uvf', '//t.co/Lj2ZXZN8kG', 'N775JB', 'Island', 'Angel', '415', 'loyalmosaicmember', 'gettingoffplane', 'BuffaloAirport', '💙💙', '2maro', 'currentlysittingontarmac', 'mosiacfail', '833', 'Helene', 'reevaluate', '//t.co/pEUc0BMij9', 'JET', 'BLUE', 'NinaDavuluri', '😃cool', '😊✈️', 'lopezlaymari', 'patronizing', 'Gangway', 'massages', 'Catering', '10-10:30', 'hurts', 'lovejetblue', 'bottles', 'static', 'November-December', 'Markets', 'Bureau', '//t.co/aPY3zLSqUu', '❤️✨', 'airbusintheus', 'aruba_airport', 'warmweather', '//t.co/Kaej9G0CHd', 'tvs/music', 'SYS-CON', '//t.co/ZoFWLdQXbe', 'hopes', 'Cutting', 'firefighters', 'AL', 'bugging', 'expand', '2007', '2/24-2/27', '320', 'doubled', 'Inquiring', '1684', 'disclose', '//t.co/p6ucbVlv5E', '2416', 'notbabysitters', 'whrsthecoach', '☕✈👍', '//t.co/urcyfcp2Lx', 'savannah', 'semantics', 'dictionary', 'heated', 'ItsCold', 'rack', 'latte', 'disappoints', '😢😢', 'Peaches275', 'qualify', 'bdl-dca', '1800-flowers', '1553', '4/19', '//t.co/wVGpp3Ymz1', 'pages', 'lick', 'Ahoy', 'AllYouCanJetPass', 'Vacation', 'though-', 'Mosiac', 'it.This', 'ruins', 'okie', 'doke', 'Knowing', 'acces', 'hub', 'vino', 'Receives', 'Coverage', 'Analysts', 'Legacy', '//t.co/dORuxBqla1', '69', 'Oveur', 'Murdock', '1099', 'Julian', 'substitute', 'Magical', 'AM.I', '//t.co/5fmipW9dhi', 'Rocky', 'milehighselfieclub', '//t.co/A1ChOxKPJp', 'reassigned', 'fraud', 'physical', 'telephones', 'Capital', 'NHLBruins', 'repping', 'Bruins', 'Roll', 'HOF', 'Story', 'JetBlueBruins', '//t.co/JKnWuGJ778', 'marked', 'reposted', 'JetScrew', 'AwfulCustomerService', 'Alternatives', 'Pooling', 'gifting', '375', 'Wendi', '127', 'noting', 'dealings', 'Stubborn', 'Demanding', 'Unwilling', 'choices', 'LA-ish', 'comparing', '😊😊😊✈️✈️✈️', 'dunkin', 'donuts', 'hazard', 'thingsyoucantmakeup', 'switch2SBux', 'remembers', 'excuse.Geez', 'coffeeneeded', 'relying', 'needcoffee', '7:30AM', 'INeedCoffee', 'princesses', 'glassslipperchallenge', 'WDW', '533', 'onlyblue', 'jetblueforever', 'descent', 'truebluemember4life', 'rifle', 'hunting', 'pistol', 'themed', 'TSAnightmare', 'transferable', 'acquired', 'Kravitz', '3X', 'ZKatcher', '😂😂😂😂😂OMG', 'Bored', 'convo', 'fixthis', 'bretharold', 'isthisreal', 'nevertoldus', 'lile', 'florida', 'buyer', 'sea', 'DELIVER', 'fancy', 'LieFlat', 'Saxonandparole', 'LobsterMac', 'BloodyMary', 'JetSetter', '//t.co/zf5wjgtXzT', '1318', 'telleveryone', 'JustifyThisSupport', 'lostrevenue', 'angryandsober', 'bachelorpartymishap', 'sham', 'vacations', '//t.co/vYUAnh4Iqr', 'diversions', 'NotTRUE', '//t.co/3oq1T4ohjl', 'FlySouthwest', '597', '566.80', 'CASH', 'RIPOFF', 'NoSupport', 'Oct.', 'INFORMED', 'Instructed', '//t.co/c7Kzbvf8h8', 'infuriated', 'ionlyflyblue', 'TA', 'thelodge', 'YeniettElswood', 'AndrewBiga', 'CodyCleverly', 'HeidiMacey', 'motherpollock', 'fi', '+20min', 'television', 'staticy', 'ithelpsabit', 'Disneyworld', 'runDisney', '//t.co/sTQY9V8256', 'Brazil', '4/24/15', '11:31', '12:08', 'bestplanesever', 'AirlineAdviser', 'peter', 'rqstd', 'bcz', 'YEAH', '//t.co/dFmvmiBH4x', '577', 'pillow', 'Gains', 'Altitude', 'SkyWest', 'Turbulence', 'SKYW', '//t.co/P2HUM7lXUR', 'TailfinThursday', '//t.co/Nc0ES6e4Lf', '//t.co/h6cE3mWCqj', 'Reveals', \"'Bluemanity\", 'Livery', 'TravelPulse', '//t.co/fTTfyFMvCO', '//t.co/ueGgKN79zA', 'Marks', 'Design', '//t.co/E5NaxBUe4s', '//t.co/KlxivnbCYh', 'Jetblue👌☺️', 'bday😏☺️', 'mi-boston', 'icelandair', 'iceland', 'Jetbae', 'ozs', 'Letting', 'sexy', 'tattoo', '//t.co/Ox4w6KtsGI', '1951', 'StBernard', 'comm', 'Gnight', 'Jua', \"'Just\", 'Ask', 'Jorge', 'cri', 'ClosePWCS', 'this🙏🙏❤️', 'btw😏', '🙏❤️', 'closepwcs', 'Samantha', 'BOS-SAN', 'evasive', 'KyleComer_', '9:58', '9:19', 'Amazingly', 'Helping', 'Martha', 'African', 'Film', 'Festival', '10-15', 'attendees', 'MV', 'significant', 'gripeo', '//t.co/F6COpX1Fvj', 'T5Sparrow', 'birds', 'fed', 'chrome', 'Perfect', 'Swift', 'programming', 'TeamTreehouse', 'Statement', 'Incentive', '//t.co/GqP69g9ZGW', 'ANYWHERE', '//t.co/FeFHPmFPlE', 'Fare', 'Finder', 'youth', 'refresher', 'courses', 'FlyItForward', 'fridge…that', 'dorm', 'genius', 'love-doll', 'Reminded', 'pattonoswalt', 'them-hence', 'huxleyesque', 'Reliability', 'allergies', '8oz', 'bottle', 'Benadryl', 'epipens', '//t.co/esUu0hiAjM', 'sand', 'palm', 'Donkey', 'Balls', 'warriors', 'sofly', 'firststari', 'seetonight', '//t.co/pyJAoayNx6', '105', 'waters', 'annnnnd', 'hall', 'Carousel', 'signage', 'Headphone', 'memgrizz', 'spurs', 'okcthunder', 'JetBlueBOS', 'DCA-BOS', 'pointer', 'NBA', 'skytrax', 'corpgreed', 'nevertakeno', '//t.co/6MBVJFlpBM', '-0.06', 'WallStreet', 'Scope', '//t.co/oFW4A8b5WS', 'nvr', 'BWI-BOSTON', '8:30', 'sch', '530', 'dads', 'Earliest', 'wrestle', 'Target', 'Stafford', '//t.co/vQmdmZaFUJ', 'Italy', 'relatives', 'FlyingItForward', '453', 'Reported', '12A', '11A', '2792125083854', '😢😢😢', 'ATH', 'airlinequality', '//t.co/tU9JX2jaZN', 'Cty', '//t.co/JI7xkS2jkk', 'jetbluesucks', 'gears', 'grinding', 'highest', '//t.co/xZY7pHKFGR', 'Patriarc', '//t.co/bdUaUZFhW2', 'affects', 'entrusted', 'Portsmouth', 'postpone', 'PR-friendly', 'Mr.', 'cometoAustin', 'there.🌴', 'Marie', 'Harf', 'Iraiq', 'marieharf', 'Port', 'au', 'on-going', 'relief', 'Impact', 'Share', 'Count', '//t.co/VU7XSWJKiY', 'Unsure', 'Registers', 'Short', 'Interest', 'Pulse', '//t.co/hXSnv7fbbh', 'True', 'xD', 'SEAT', 'SET', 'Badges', 'laptop-large', 'swap', 'fool', '5a', 'feelings', 'MINT', 'happy4them', 'pilyoc', 'thefutureisweird', 'incidentally', 'Sheila', 'grandpa', 'ashes', 'Naples', 'lived', 'serving', 'USNavy', 'swooped', 'restored', 'Stockhouse', '//t.co/obF9jbPc6A', 'LGA-FLL', 'android', 'applicable', 'FARE', 'FoodAllergy', 'insensitive', 'FoodAllergies', 'life-threatening', 'Unsolicited', 'UNEDUCATED', 'opinions', 'reckless', 'dangerous', '1-3', 'Sees', 'Significant', 'Decline', '//t.co/lZFGUTxIYN', 'DaytonaBeach', 'February.…', '//t.co/oYLlRZQU5m', '//t.co/5t4FpCGREJ', 'Truly', 'FANTASTIC', 'extra-speed', 'engaging', 'personable', 'tore', 'hid', 'badge', 'Seatac', 'Dude', 'valued', 'LisaPal', '//t.co/FRhuXiB8II', 'Magic', 'eight', 'steered', 'sensitive', 'j_beatz247', 'consult', 'NOLA', '//t.co/SjVEelween', '👍👍👍', '//t.co/67k4N9eQ6E', 'interns', 'greatest', '💕✈️💺', 'TrueBluePoints', 'jetbluemember', 'sliced', 'bread', 'Beatriz', 'Susan', '0xjared', 'AIs', 'FTL', 'pizza', 'WEBSITE', 'INFO', 'Easter', 'depends', 'vibe', 'UDUB', 'cameron__roe', '//t.co/kbHYM5GkAP', 'Cayman_Islands', 'Charter', '//t.co/lYQrb4HCYU', '4helped', 'SeattleBound', 'armrest', 'controller', 'agian', '😔😓😤', 'Cinnabon', 'cinnabons', 'BonsInTheSky', '//t.co/8jceDiKY9U', 'hotter', 'Celebrates', '15-Year', '//t.co/p7skxZVe1A', '40min', '9:04', 'Turns', 'smitten', '1401', '25A', 'slog', 'LikeAGirl', 'SMM', 'Brand', '//t.co/nTGl2WnQVM', 'Lekvhg', '430', '1348', 'lift', 'itsthelittlethings', 'compounded', 'jetbluemess', 'exists', '//t.co/NsJWVTTjGo', 'drwinston001', 'philpete', 'suddenly', 'Argh', '730', '645', '1408', 'Dumps', '//t.co/DZg99JFIiK', '_justdippin_', 'TheTakeover', 'produced', 'YpOnTheBeat', '//t.co/IKQBdZA7TN', 'End', '//t.co/WhuFmI2Ytd', '//t.co/fbTEMFwRsP', \"'Blumanity\", 'paint', '//t.co/lFGR0Nifut', 'Battles', 'Appease', '//t.co/E1Mex0t6Q5', 'Investors', 'BloombergNews', '//t.co/6redD3vC73', 'LAS-FLL-SJU', 'Anywhere', 'Clients', 'career', 'possible.2', 'Italian', 'robbed', '1366', '1552', 'ocean', '//t.co/sk6W9XQaQB', '//t.co/U5HXri6Crx', 'awe', 'Announced', 'brushing', 'Orbitz', 'ValentinesDay', 'loveisintheair', '//t.co/DoCmvoTWTI', 'Geraldine', 'center.Worst', 'airline=', 'jetbluejfk', '5+', '//t.co/bTb4awQtln', '705', 'KleinErin', 'Know', 'pastor', 'homeschool', 'SpiritED', 'Prefundia', '//t.co/jRbZLHRW7y', 'ControllableIrregularity', 'fluid', 'shoutout', '2017', '486', 'roc', 'c19', 'applepay', 'hacked', 'Alaska', 'Highway', '//t.co/tynchOeLac', 'Kate', 'spade', 'spiced', 'Leopolds_IC', 'Phillip', 'Heller', 'IFC', 'delicious', 'gum', '//t.co/n9hmcrJChb', 'ChillyCVZ', 'ThankGoodness', 'mypompanobeach', 'Email', '//t.co/soiQrN19aj', '//t.co/IbVvTzLS4E', 'fitz', '1326', 'bwi/Bos', 'invitation', 'participate', 'e-rewards', 'know-', 'humiliated', 'uncompromising', 'blindsided', '2275', 'pp', 'flatiron', 'SIL', 'declined', 'accused', 'activity', 'dispatcher', 'warehouse', 'mon', 'OhNo', 'BundleUp', 'Leastthebeverageswillbecold', 'Analystdoc', '2/11', 'fashioned', 'accessing', 'becomes', '//t.co/czOr4nyh9n', 'structures', 'hated', 'targeting', 'vulnerable', 'thieves', 'Citi', 'safetyfirst', 'Accepting', 'Enterprise', '//t.co/Ci5cfrlqBe', '203-382-3312', 'towed', 'Risk', 'corrupt', '83', 'Supertzar85', '//t.co/QRANZImHTr', 'whilst', 'delivering', 'Tinman2IronMan', 'meggersrocks', 'penalized', 'lightly', 'unloading', 'writes', 'spotty', 'Request', 'backpack', '135', 'b6', '619', 'satellite', 'crewmembers', 'BOOKS', '//t.co/9rAGncw2Bk', 'N559JB', 'Kid', '//t.co/qeaDA92MW6', 'wifes', 'ProfessorpaUL15', 'profits', 'Cramming', 'plane.NO', 'MORE', 'TSA-Pre', '☀️🌴✈️🍸🎲', 'TRUE', 'delayedl', 'Fly-Fi', 'peanut/treenut', '654', 'EllaHenderson', 'freeconcert', '894', '//t.co/uy28D1UEgX', '//t.co/vJFV7KSGcQ', 'TSA-pre', 'HP', 'printers', 'MFPs', 'vincenzolandino', 'CBarrows', '1133', 'N353JB', 'La', '//t.co/SWZm2fX3nu', '//t.co/eiGaJyzcW2', 'Enraging', 'thursday', 'well-priced', 'Oahu', 'anybody', '305', 'Voice', 'Drop', '//t.co/SSBaUJtOuW', 'style', 'rings', 'mailbox', 'forwarding', 'Hot', 'nightlife', 'Wires', '//t.co/Swb1gR57Cc', 'Aww', 'oui', 'awesomeee', 'ment', 'Quoting', 'effective', 'upgrade😉', 'KeepItUp', '//t.co/BKmfeY7QOL', 'CinziannaP', 'BLUEtiful', 'lifeneedsfrosting', '1601', 'generated', 'hint', 'painted', '//t.co/9vTFM7kNad', 'Constitution', 'Declaration', 'Independence', 'Navy', 'tailfin', '//t.co/qxV45MV0Ug', '//t.co/KKAY8XaPs1', '//t.co/MCSI0dzpnz', 'geekandahalf', 'Slash', 'engagement', 'cooler', 'those😂', 'PDW', 'ilovejetblue', 'Connecticut❄️', '👏👍', 'stpatricksfoundation', 'rotary', 'Down', '//t.co/znsUjP86Bv', '//t.co/cH0NmjyMgh', 'PamGrout', 'backtodelta', 'KyleJudah', 'tighter', 'Colonist', '//t.co/NzDXRvszWv', 'meaning', 'N/A', 'McGraw', '16,000+', 'embody', 'thanksDave', '//t.co/iNNP0Kkyby', 'learning', 'famous', 'asset', 'PhD_Mama_', 'Learning', 'Marketing', 'SXU', 'BlueManity', 'inspiring', '117', 'vegecomgirl', '6/15', 'JayVig', 'JVMChat', 'roxydigital', 'awww', '^_^', 'realtime', 'rockingthetweets', 'real-time', 'alittle', 'Weyburn', 'Review', '//t.co/rtQyjCvTQ3', 'okayyyy', 'irons', 'Promise', 'no2jetblue', 'NZherald', '//t.co/Q4Amiw7FSw', 'brands', 'things…', 'wouldve', 'liked', 'simultaneously', 'wishmyflightwaslonger', 'lovejetBlue', '//t.co/frrfxCCw7Z', '//t.co/nKlW9SsVRQ', 'knowledge.Provide', 'squished', 'Peggy', '⭐️⭐️⭐️⭐️⭐️', 'LFT5', 'getittogether', 'hemophilia', 'rudeservice', '//t.co/w8MTmSP2RY', 'bleed', 'Leeds', 'selection/change', '918', '//t.co/dUhBJ41jHx', 'weighs', 'ChronicleHerald', 'registration', '//t.co/9vKj9S7jrM', 'oversleeping', 'uncontrollable', 'irregularity', 'stocking', 'Wedding', 'VT', 'Grateful', '//t.co/l2n0egHdgn', 'nerves', 'Greenfield', 'Reporter', '//t.co/LM3opxkxch', 'Fortunately', 'S.', 'DeeDee', 'NICE', 'badwebsite', 'Richard', 'P.', 'ripping', 'tixs', 'deboards', 'crummyservice', 'whydidntiflysouthwest', 'goodluckamericanair', 'Cathy', '~10', 'PHO', 'impossibly', '1lesscustomer', 'cheesy', 'travel.Purchased', 'CheapOairChat', 'xtra', 'donotflyusair', 'Germany', 'Sadly', 'Iowa', 'AIRWAYS', 'srv', 'Carolinas', 'AlsoNoDrinkCartComingAround', 'AshleyKAtherton', 'usairways', 'Dmoukdarath', 'usair', 'leaking', 'USAIR', '43', '//t.co/cHGy5yrVka', '//t.co/5cwH1yfOow', 'diamond', 'challenging', '1925', 'friendlyteam', '//t.co/0JJT4X3YxG', 'finish', 'pump', 'disciplined', 'divided', 'sympathy', 'breast', 'pumps', 'referred', '17A', 'US4551', 'PHL-BOS', 'impressions', 'reverse', 'presentation', 'Pandu', 'dividend', '167', 'chairman', '740', '2/26/14', 'you…I', 'Spain', 'Israel', 'whining', 'Coincidence', 'openskies', 'it-', 'Beamske', 'wrecked', 'yorkshire2002', 'clt', 'lengthy', 'endless', 'taxi-ing', 'retweeted', 'mystery', 'spelling', '4011', 'HELLO', 'available.Your', 'UX', '300RT', 'National', 'Forever', 'impaired', 'jetblueanyone', 'weather….call', 'outofbusiness', 'ruiningmy', 'gas', 'cap', '1801-', 'revision', 'casual', '//t.co/JIEYCat1Ek', 'TARMAC', 'Recording', '2139', 'HOLD', '781', '879', '4505', 'Opposite', 'thete', 'employ', 'grandparents', 'Mechanical', '3837', 'Youre', '.1000', 'sarita', 'status/delays', '//t.co/vuxf4r4Unu', 'flaw', '5203', 'insanity', '581', 'semester', 'Chkd', '//t.co/MbLTALr4BS', 'STATUS=AWAITING', 'ASGMNT', 'DRIVER', '10:15am', 'list.Someone', 'Wouldt', 'yellow', 'her-', '2063', '2:50pm', '18feb', 'herba', 'Chairman', '7-day', '1946', '41min', 'citizen', 'Entire', 'flexibility', 'flexible', 'position-', '504', 'forgets', 'Ricky', 'Excuses', 'utterly', 'US624', 'va', '11:40am', '1820', '2rsw', 'courtsey', '2min', '10:01pm', '719', '2/22/14', 'illness', 'forfeits', '50,000', 'swallowed', 'picks', 'solves', 'dmsc', 'usairways.com', 'help/complaint', 'applies', 'day/', '44,000+', '20,748', 'forfeit', 'inactivity', 'CSM', 'daryl', '1/4', 'Aa', '//t.co/Uld0hWFkfo', 'louder', 'Bhm', 'army', 'sine', '9:50pm', 'Process', 'initiated', 'coverage', 'glitchy', 'CAN', 'BOOK', 'DIVIDEND', 'TRAVEL', '11:30pm', 'NoExcuses', 'BY', 'GRACE', 'MADE', '__RWG__', 'powers', 'charac', 'shortcomings', 'wiil', 'agency', 'wrongfully', 'Dividend', '639', 'weary', 'frustrations', '730a', 'socialtantrum', 'bougth', 'mc', 'caren', 'mccaren', 'US1799', 'CLT-', 'desert', 'basket', 'transf', '15-18', 'supv', 'ing', '1K+', '50K', 'skyscanner', '2046', 'BOS-CLT', 'narrow', '//t.co/wSgYckCIIO', 'USAW', 'responsive.Thoughts', 'vm', 'joyadventuremom', 'breastfeeding', 'DividendRewards', 'Urgently', 'fulfilled', 'reqs', 'mediocre', 'combo', 'SwitchingBoth', 'DividendMiles', 'cardholder', 'fligths', 'steering', 'disconnecting', 'schooler', 'FlyKnoxville', 'established', 'NoClothesNoInfo', 'FAILINGYOURCUSTOMER', 'PhilaCarService', 'delay/missed', '1,223.22', 'usairwaysfailscustomers', 'guinea', 'pigs', '5612', '1798', 'missedupgrades', 'Bumped', 'Rudest', 'customer.relations', 'aa.com', 'Hopkins', 'Intel', 'Flightaware', 'mitchsunderland', 'Mitchell', 'Hi-i', 'dissemination', '5545', 'B18', 'argue', 'tailwind…', '1500', 'convey', 'emailmailto', 'unmonitored', 'PAY', 'argued', 'Exec', 'ITFITS', '//t.co/AUrn07pWD4', 'toes', 'candy', '449', 'exe', 'plat', '686', '521', 'VincesViews', 'Attendants', 'Embarrassing', 'Gregm528', 'scenes', 'Noaccountability', 'Rachel', '//t.co/HG7vEqhGHy', 'grandcayman', '//t.co/GX7QbtckBr', '3/4', '200/trip', 'goes…', 'tailwinds', '2:20', 'now.', 'asking…', 'greeted', 'welcomes', 'drink/snack', 'detailed', '//t.co/9zA6xb1h89', '//t.co/LfT7QD23Sy', 'HANG', 'WEATHER', 'ARIZONA', 'moveup', 'terminology', 'brings', 'verbiage', 'priv', '//t.co/WbhbljJkS7', 'queries', 'airway', 'HAS', 'FOUND', 'hhagerty', 'Standby', 'CBSNews', 'shined', 'in/out', 'Single', 'PLANS', 'CHANGED', 'BEIN', 'ABLE', 'PARK', 'PLANES', 'LAYOVER', 'CONNECTION', 'Thur', 'chairmans', 'bigger', 'TLH', 'downgraded', 'lostandforgotten', 'Doors', 'CTL', '//t.co/1XdLbiBClP', 'nailed', '5:55', '4:15', 'exchange/credit', 'shadier', 'White', 'House', 'Dissatisfied', 'nines', '1-way', 'shutting', 'flydelta', 'flyjetblue', 'theyareallbetter', 'exhaustion', 'runnin', '2rent', 'killin', 'OFFERING', 'force', 'shock', 'Derrick', 'Bussey', 'reiterate', 'misunderstood', 'unreasonable', 'women', 'offended', 'Props', 'notourfaultyoudontuseyourgatesright', 'sided', 'owes', 'Tammy', 'Winston-Salem', 'shaking', 'bussey', '25.00', 'logistically', 'desition', 'nade', 'weather/backup', 'goodgriefpeople', 'Parizad', 'balls', 'voucher/confirmation', 'checkout', 'manifests', 'wedontcarebecauseyoupaidalready', 'backs', 'Phones', '5-8pm', 'CLTDouglas', 'Printed', 'TakeResponsibility', 'Diane', 'EYW', 'Dulles.we', 'on.multiple', '838', '728/Feb', 'Kim', 'enters', 'deteriorating', 'Unhelpful', 'assurances', 'marvinatorsb', 'thnk', 'w/other', 'Ground', 'shorts', 'Weary', 'German', 'deplanes', 'jealous', 'Auf', 'wiedersehen', '728', 'Refuel', 'Look', 'Actual', 'org', 'fly.We', 'nonprofit-ca', 'Applaud', 'MEL', 'sticker', 'endlessly', 'Gatwick', 'Moments', 'periods', '8D', '545', 'dividendsmember', '//t.co/NUhpLNXRIq', 'publicity', 'cargo', 'Understand', '1715', '//t.co/HQHdAD7fvK', 'resorting', 'afterward', 'US5268', '4050', 'US728', '5268', 'av_duffy', \"I'vebeen\", 'ff', 'nbr', 'wAA', 'Gnv', 'Depot', 'WD40', 'squeaks', 'restrooms', 'FlightAware', '456', 'inconvenienced', 'over-', 'Faced', 'apology=', 'inputted', 'sittingontheplane', '445', 'readded', 'Asha', 'Wilmington', 'involve', 'removing', 'lists', 'initiative', 'minefits', 'red-eye', '1mnth', 'CONFIRMED', 'bcs', 'ownership', 'breathing', 'Aye', 'OneWorld', 'buys', 'bracket', 'jhughes1025', 'grrrrrrrr', '5077', 'twist', 'plot', 'unsecured', 'HARDWORKING', 'taping', '//t.co/I5V9wfbtuE', 'attach', '94LXA62', 'E2KVM4', 'Thansk', 'aa', '2119', 'BOS-DCA', 'Flighted/rescheduled', '5594', '3937', 'admirals', 'stare', 'Speed', 'Stick', 'F.', '610-362-7498', 'VM', 'chillpill', '6170', 'HutchinsJim', 'workout', '603', '2705', '1899', 'await', 'height', 'SPEAK', 'SOMEBODY', 'RESERVATION', 'prompting', 'stepitup', 'lightning', 'struggling', 'pleads', '1937', 'Grrrr', 'Roads', '2102', 'proactively', 'DOMINICK', 'L.', 'Guardia', 'Thanku', 'chosen', 'offline', 'rodeo', 'acnewsguy', 'Acarl4', 'identical', '1826', 'delayed/Cancelled', 'US1562', 'RIC2DFW', '6-10pm', 'bora', 'Oprah', '//t.co/8TJUuM22dD', '5097', 'Strike', 'minors', '//t.co/4kLfywwMq1', 'Finnair', 'pho-mia', 'Foolish', 'documentation', 'itinerary/confirmation', 'fend4urself', 'tonnes', '4914', \"ma'am\", 'laughter', '9:05am', '8:41am', '8:57am', 'recordings', 'U.S', 'orf', 'mia', 'Cincy', 'phone/online', 'merging', 'EXACTLY', 'Burned', 'contagious', 'virus', 'wth', 'restrictions', 'measurements', 'TIA', 'Discovered', '3:30PM', 'americanairlnes', '0316', 'health', '4473', 'sport', '~30', 'bashing', 'unproductive', 'NEEDED', 'pumping', 'parts', 'FIX', 'freeflight', 'relied', 'weighing', 'affecting', 'referring', '//t.co/N8UvCLMADA', 'gloves', 'verification', 'THX', 'Quintana', 'Roo', 'pamper', 'fend4yourself', '//t.co/Pw1eudlcZg', 'Drive', 'Savings', 'hegshmeg', 'elaborate', '//t.co/hb799CCo0t', 'wannagohome', '3841', 'jail', 'sections', 'differently', 'bailed', '419', 'negatively', 'integrity', 'FOLLOW', '🙏🙏🙏', '457', '4469', 'Est', 'Tallahassee', 'Gainesville', 'long😒', 'reflection', 'extinct', 'RINGLING', 'BROTHERS', 'BARNUM', 'BAILEY', 'SHOULD', 'KEEP', 'EYES', 'PEELED', 'CLOWN', 'CAR', 'COMPUTERS', 'WERE', 'DOWN', 'trivialize', 'PST', 'communist', 'Russia', 'Ben', 'legitimately', 'mundane', 'qs', 'PDQuigley', 'Patrick', 'landonschott', 'likes', 'inconsiderate', 'pride', '//t.co/5cDX2ROAE6', 'upholding', 'alwayshappensthere', 'angrytraveler', '12.45am', '138', '//t.co/Ps9Q9RPSiL', 'TheWorstAirline', 'Between', 'ultimately', 'Time😡😡😡', 'cvg', '5163', '3751', 'rescued', 'C29', 'A18', 'EXPLANATION', 'carts', 'handicap', 'PHL-MIA', '20years', 'eventprof', 'merged', 'departments', 'recover', 'Enjoyed', 'managing', 'undelayed', 'offload', 'Bwahahaha', 'notafanofyourmerger', 'wewanttoknow', 'sauce', '5:44pm', 'clarion', 'RenHotels', 'MarriottRewards', 'PeterPiatetsky', 'Ummmm', 'Instructions', 'USairways', 'me-right', 'hindered', 'snapped', 'fudgin', 'justwantmybed', 'billed', 'phone-not', 'DEN-PHL', '1:36', 'synch', 'Fudgers', '799', 'longbeachairport', 'onholdwith', 'Gave', 'instructions', '694', 'follow/dm', 'BREAKFAST', '//t.co/v24QNp3DOi', '6x', 'poorplanning', 'Flightd…incompetence', 'WhatCustomerService', '518,758', '4424', 'FlyRepublicAir', 'N813MA', '//t.co/OSc9OFlol3', '//t.co/oyLgeao7Y8', 'teen', 'Flight5182', 'Southern', 'Hospitality', 'SAV', 'AWFUL', 'transported', 'stupidity', 'compliments', 'GoingForGreatnessFAIL', '4500', '//t.co/XFWXsRwkHa', 'waaaaaaiting', '5182', 'roll', 'Myself', '//t.co/eQePkkPSXM', '4047', 'GregWallace66', 'cents', 'drunks', 'abysmal', 'efficencies', '1581', 'sexually', 'ELMIRA', 'detectors', 'specialist', 'plains', 'Son', 'disconnects', 'CSRs', '2120', '//t.co/k0MHZrJF6e', 'raleigh', 'charlote', 'lexington', 'istead', 'Costs', 'Restrictions', 'FunFlightAttendants', 'flt635', 'SundayFunday', '759', 'soLate', '4278', 'bozos', 'Lot', 'smarter', 'mooks', 'goDelta', '614', 'brokenpromises', 'jetways', 'plane.', 'pisspoor', '2118', 'pissing', '5:40', '10m', '1h40m', 'nofood', 'nodrinks', 'nohelp', 'NONE', '729', '⌚️', 'ALWAYSLate', '4827', 'ELM', '878', 'F6', 'issues.She', 'grounds', 'failover', 'Truthh4', 'Smh', 'locating', '555PHLtoSLC', 'UnansweredQuestions', 'off😂😂😂', '4609', 'aflame', 'Rumors', 'Sabre', '837', 'row-', 'info-', 'printer', 'checkIn', 'AuroraBIZ', 'improves', 'americanairlines', 'angryairtravel', 'winterstorm', 'Massive', 'Poorly', 'USAirwaysCenter', '639p', 'Danbury', 'Geeks', 'servers', '2/15/15', 'BUF-CLT', 'Emily', 'gso', 'Account…', 'drunkpilots', '//t.co/Zira2z3UDc', 'Islands', 'stuckintheloop', 'HI', '//t.co/214i0RTIH4', 'flight2031', 'valuables', 'us2146', 'aa2924', 'outtage', '2031', 'Regretting', 'hotterandlongerthanhell', 'shameonyou', '45minutes', 'AMS', 'downright', 'hostile', '8+', 'AWE474', '20th', '//t.co/BgtJFmnEOT', 'CBSPhilly', 'DCA.Manual', 'ystrdy', 'tryng', 'rsrv', 'Intentionally', '8hr+', 'unsuitable', 'system-wide', 'preventing', '601', 'cus', 'Rett', 'Cavan', 'gofundme', 'breath', 'BGR', '695', 'deferring', 'at😳', '8AM', 'behave', 'offensively', '699', 'Message', 'particulars', '55min', 'US755-AA2595', 'realistic', '2595', 'BOS-PHL', '//t.co/9rx5HOmM25', 'help/info', 'Gs', '480', 'CSTSVC', 'honors', 'RCD', '4035', 'baggages', 'usaireays', '//t.co/vU5lBZXtRX', 'eating', 'TRAIN', 'STAFF', 'unload', 'interpreting', 'sarcastic', 'KPHL', 'excellentcustomerservice', 'waitinginphilly', 'flight838', 'USDELAY-ways', \"'paperwork\", 'letsgoalready', '2022', 'Phil', '4454', '3818', 'whyisusairALWAYSDELAYED', 'emotional', 'incurred', 'approximately', '600117', 'superiors', 'BarclaycardUS', 'emplid', 'AA67', '20feb15', 'appealing', '4565', 'SUNDAY', 'influx', '//t.co/tyXAZtMQ1U', 'sum1', 'SIX', 'w/lil', 'LOTS', 'w/that', 'Todays', 'utilize', 'the_USO', 'C26', 'nocommunication', 'nocrew', '//t.co/hFjYN2vtVj', 'housing', '//t.co/GiEnNyqN22', 'ClaudOakeshott', '//t.co/dr5oCtp1DY', '10x', 'Dividends', 'sympathize', '4-minute', 'US5235', '//t.co/clOB5qwMXR', '//t.co/8Je1h3666w', 'wtop', '4210', 'Bradley_Airport', 'F/As', '//t.co/EEqWVAMmiy', 'lodging', 'st', 'CHA', 'plane-so', 'FLIGHTS', 'OPTIONS', 'FireVan', 'EXTREMELY', 'Father', 'development', 'Painless', 'effortless', 'Tory', 'rivets', 'churn', 'service✌️', '//t.co/WDAKTmr7Mj', 'non-delayed', 'fear', 'takingthistothetop', 'overhaul', 'employees✌️', '//t.co/BRCsjBxG2s', 'stuffing', 'sweat', 'MrRenevendez', '//t.co/gn30p75KqB', 'Competitor', 'scoop', 'accomplish', 'AAdvantage', 'corybronze', 'INCONVENIENCE', 'KIDS', 'HIM', 'STRAND', 'stt', 'john', 'TheHaileyTate', 'Round', 'aboout', 'JosephTReis', 'MHtT', '2hrs35minOnHold', 'lastnight', 'philadelphia', 'Careless', '//t.co/jN3V3k3qGv', 'overloads', '4435', 'brush', 'sorude', 'delays.handling', '1898', 'BZE', '//t.co/AwGjkjIIac', '54', 'brutal', '//t.co/VsKXyAmnom', '//t.co/3LPVFhKy2F', 'fm', 'S/by', 'nose', 'Flightglobal', '//t.co/Yf9NhMwyFF', 'reinforcements', '2go', '1735', 'conditioning', 'PHONEEEEE', 'Chairmans', 'Wth', '4097', '8:50', '4478', '1848', 'Malcome', 'Replicate', 'day.I', 'contingency', 'assholes', 'empl', 'greatjob', 'boggling', 'melting', '//t.co/jJdoSFYIBM', 'Clt', 'Oversold', 'CARRY', 'luggage.Cancelled', 'agents…no', 'Past', 'tense', 'F623', 'attndt', 'wrecking', 'havoc', 'smugsmirk', 'norush', 'ALfamilyoffour', '.For', 'tues', 'exhibited', 'newamericanairline', 'cheapslogannotmotto', '623', 'attdt', 'decides', 'aggravating', 'flt1727', '//t.co/w3XS6TVpZg', 'UsAirways-', 'overwhelming', 'msscottwg', 'unusual', 'Mellani', 'B.', 'superstars', 'nburnside26', 'Mellie', 'vouchers…any', 'Icecream', 'Sb5551', 'Um', 'USeless', 'Collectively', 'Desperately', 'percentage', 'yout', 're-accommodation', 'Liza', 'IDIOTIC', 'diet', 'bizness', 'A4', 'b16', 'colleagues', 'in-laws', 'suggesting', '800-428-4322', 'podium', '1773', '1903', 'Tiffany', '//t.co/HHOxQPsUbA', 'usairsucks', 'auto-reFlight', 'nanceebing', 'infrastructure', 'massivefail', 'failphone', '3739', 'flgjt', 'Fll', 'pops', 'dozens', 'BRizzyberg27', '//t.co/NeHnsDCkTY', 'grief', '0400', 'ANSWER', 'BLOODY', 'PHONE', 'Usairways', 'selling', 'loans', 'Flowers', 'SMFH', 'travel/points', 'abounds', 'EVV', '4663', '3960', 'Overbooked', 'SXM-CLT', 'missedconnection', 'forcedovernight', 'lodging/food', 'worstflightexperienceever', 'getmehome', '3hr', '26min', 'loanr.5084773604', 'canld', 'resch', '1:30.If', 'opt', 'tom', 'cng', '//t.co/6CGFv02gzb', 'lapse', 'exercise', 'miserably', 'Ten', 'Army', 'cots', 'poorlyhandled', 'usairheads', '//t.co/18fMr06mn6', 'on-hold', 'gifts', 'revers', 'agt', 'Family', 'vacationing', '1:10', 'LITERALLY', 'est.PlatinumEventually', 'Tabitha', 'hd', '3min', '3:00am', '50minssss', 'processes', 'anotherfail', 'hanged', '41CGQueen', 'vows', 'smoothtransition', 'Tight', 'secs', 'jabevan221', '//t.co/G3Uy6w28QH', 'jtrexsocial', 'midght', 'fkn', 'unbelieavle', 'unaccpetable', 'failback', 'actualy', 'situations.Your', 'hostel', 'fake.Snow', 'air-miles', 'XNA', 'Precheck', 'fwd', 'stillbagless', 'Dealing', 'Des', 'Moines', 'commitments', 'excusable', 'Lynchburg', 'Wld', 'Orl', 'Char', '//t.co/DkZl57uPQI', 'Husband', 'NoExcusesAccepted', '755', 'MORNING', 'KieranMahan', '58', 'usuck', 'Answering', '6:00', '//t.co/pD7R1lL6Re', 'pleading', 'grt', 'uppp', 'imtired', 'abandoned', 'saveface', 'showup', 'professors', 'class/write', 'midterm', 'whichever', 'Hooray', 'EBHSET', 'caterobbie', 'PATIENCE', 'Pleasehurryup', 'answerphone', 'reschedulemyflight', 'FIOUSAirways', 'FIVE', 'FOLKS', 'Teach', 'tools', 'prayer', 'mishaps', 'lotttttttt', '74', 'y/o', 'ch_mom', 'wait.', '734', 'nm4agoodlife', 'synergy', '_RobPrice', 'Contingency', 'Safe', '//t.co/P8xFhq4kps', 'idontwanttocallback', 'becuase', 'UsAirways', 'disappearing', '4,000', 'followers', 'non-existent/', 'Dozens', 'allready', 'traveloneworld', 'Utterly', 'amend', 'OW', 'Emerald', '7:50', 'ru', '2h30m', '680', 'dumped', 'needlessly', 'Wronganswer', 'Talk', 'FAILED', 'Reagan_Airport', 'Dumped', 'unnoticed', '3yr-old-twins', '1796', 'CHL', 'faulty', 'Coming', 'WorstAirlineInAmerica', 'mod', '4322', '3hr30min', 'hosp.3', 'trys', 'sys', 'cuts', 'hlp', '496', 'kitchen', 'Nowhere', '558', 'Amsterdam', 'SnowStorm', 'hasty', 'unwise', 'pushback', 'plows', 'pullin', 'sh', 'OBJ_3', '//t.co/Av2rfFHMcV', 'TRBL', 'terriblecommunication', 'gangway', 'Sexy', '//t.co/qgMfCB7yT4', 'essence', '5283', 'Knew', 'WX', 'reschedules', '2hr15min', 'cherry', 'top-flight', '880', 'E36', 'truthful', '40th', 'onTarmac', '1881', 'donaldaroberts1', '1030pm', 'PHL-MCO', 'srvc', 'Srvc', '94', 'Flex', 'workforces', 'house👋', 'Eyyyy', 'drift', '//t.co/i1SfMI7zat', \"G'ma\", 'FlyDelta', '-Really', 'AF', 'clog', 'already-crowded', 'vegetarianproblems', 'Expecting', 'Ontario', '2023', '60th', 'trip.Never', 'depending', 'determination', 'cabinfever', 'hve', 'flght', 'nw', 'LANDED', '5530', '717', 'D1MQF5', '1776', 'respectful', '5hourwait', 'cesspool', 'germs', 'un-delay', 'dividends', 'rylietolbert15', 'tequila', 'through.', '2692', '1861', 'recorded', 'US643', 'stopover', 'flustered', 'Kristy', 'ShoutOut', 'Kristie', 'Gate4', 'RockStar', 'PromoteThatGirl', 'tomrw', 'key', 'flightCancelled', 'custservicehasnonumber', 'US733', 'horriblecustomerservice', '45min-hour', '//t.co/AygAOeB6Uu', 'joined', '1world', 'CLT-NYC', 'notion', 'versace', 'biceps', 'toll', 'nght', 'Flighted-mech.probs', 'Flighted-snow', 'cls', 'sche', 'genious', 'AA1061', 'preggo', 'hormones', '4:17pm', '//t.co/emRUbu4WzD', 'curvygirltravels', 'digit', 'diversion', 'Okee', '1875', 'stats', 'Nick', '742', 'DELIVERED', 'comin', 'h8', 'ThankJesus', 'ThankMe', 'hubbys', '//t.co/Fupf0UAyir', 'USAirways-', 'callers', 'HUSBAND', 'SweetingR', 'eaten', 'DoBetter', 'UsAirwaysSuck', 'Bunch', 'Ute', 'Dulles-Washington', 'Effin', 'shitting', '2/29', '150000', 'i❤usair', 'multi', '275', '-beg', 'differ', 'USAirSucks', 'weather/flight', 'attendant.Can', 'this-green', 'ACU', '//t.co/0jUtCDRLjl', 'timbennettg3', '4532', '8:38', 'assed', '//t.co/UA6doUA34l', 'dmv', 'noshadetothedmv', 'AZ-', 'pregame', 'KentuckyMBB', 'Amtrak', 'Flights/refunds', '//t.co/RKVCZBpdCE', 'Tamara', 'R.', 'badcustomersrvice', 'whereismybag', 'ITIS', 'BEING', 'THAN', 'POORCUSTUMERSERVICE', 'veg', 'onhold', '//t.co/uTfDhxa8pU', 'Eagle', 'ew', '//t.co/B4xhiRuGzV', 'undermines', 'intelligence', 'tempLate', 'Flight/get', '😑😩', '//t.co/Cm4roIypc2', 'enormous', '//t.co/ffanixJhwh', 'Flight850', 'chose', '667', 'COME', 'inaccessibility', 'marccopely', 'discourteous', 'FrequentFlyers', 'chuckhole', '1/1', 'Failing', '850', 'shivadelrahim', 'AAL', 'AWE', '//t.co/04SDytT7zd', 'retweets', 'dedicated', '1815', 'N747UW', '//t.co/TtLwZgIyAg', 'fee-you', 'aligned', 'Connecting', '80°', 'MoBay', 'Sapphire', 'quoting', '900', 'PRof_Solutions', 'represent', 'SeanVRose', 'Sean', 'large-size', 'Owen', 'usairwaysfflyer', 'F6DK04', 'XZMSCW', 'quarter', '2-1/2', 'basketball', 'wheresmyrefund', 'jerks', 'Clown', 'leak', 'getmeoffthisplane', 'ineedabeer', 'franchise02', '813', '826', 'MBJ', '816', 'stating', 'Least', 'MC', 'time-have', 'flt5127', 'greatcustomerservice', 'LAST', '8:30am', 'selves', 'reativation', 'backed', 'hospice', 'soc', 'dontflyusairways', 'shitshow', 'destination=rude', 'weights', 'jobfail', 'guesstimate', 'Weak', 'incapable', '2yo', 'Toddler', 'airbus321seat14Fproblems', '//t.co/ZKOE6clGiU', 'prepare', 'scareways', 'neverfails', 'AUmilo1', 'FRA-CAT', 'zig-zagging', 'movements', 'NOT-', '4297', \"'extra\", '849', 'free/5', 'havin', 'DESPICABLE', 'shuttles', 'authorize', '250k', 'Billing', 'wasteoftime', 'already-got', 'dadeland', 'misery', 'lawsuit', 'lawyerup', 'disbelief', 'stephenrodrick', 'TheMagicalStranger', '-doing', 'zip', '730pm', '150am', 'CR', '-1st', 'advisory-now', 'Fl', 'go-HELP', '30timesenough', 'dumping', 'theworstairlineever', 'miles😡', '//t.co/Yqhk8LJaBN', 'w/inclement', 'USAIRsucks', 'Lost/Found', 'delightful', 'Cherry', 'DenverAirport', 'GreatService', 'professionalism', '49', 'pulls', 'pleeeeeeeease', '3797', 'corporate-paid', 'Jeanine', 'Sailor', 'w/someone', 'keithlaw', 'propositioned', 'Creditcardsales', 'Naval', 'commands', 'slogan', 'recharging', 'AnyHelp', 'fresno', 'pittsburgh', 'HORRID', 'jammed', 'dontmakemegooutside', '//t.co/WJIiGZtiwg', 'Explain', 'incedentals', 'noworstairline', 'worstever', '//t.co/myNZitCovn', 'daddyshome', 'notnice', 'tellyourstory', 'terrifyingly', 'JWA', 'Throwing', 'shade', 'reachingnewlows', 'smelly', 'aruba', '7:15', '1:15', 'waitingagain', 'misjudging', 'deliberate', 'Seen', 'expens', '1851', '1769', 'Burroughs', 'yourairlinesucks', 'triage', 'Personality/', 'pre-purchase', \"'Promotions\", 'GOGO', 'changes=', 'travelfail', 'Sc', 'MIGHT', 'Nightmarish', 'Further', 'patiencerunningout', 'barclay', 'Freeze', 'AVP', 'TGIF', '//t.co/WXowZhpgfL', 'findurgrip', 'advis', 'phil', '-winter', 'weather-', '2/13', 'missing.stollen', 'Mobil', 'Wishing', 'yousuck', 'PRN', 'planebroken', 'neverontime', 'paymytab', '428-4322', 'CHO', '//t.co/3KhGjoFgpX', 'fastest', 'MYR-CLT-ORD', 'problematic', '5238', 'US1765', 'Shavon', 'evn', 'day.Reward', 'CHO-CLT', 'squashed', 'nrhodes85', '//t.co/ocqk0JFXuA', 'achieve', 'Check-in', 'Batting', 'comps', 'Merging', 'yield', '_exact_', 'navigate', '2066', 'congratulation', '4009', 'Solution', '35X', 'NationalAirpor', 'Nothin.I', 'bout', 'ghettofab', '//t.co/mAqw2nLNiU', 'SOMEONE', 'z1', 'proceeded', 'tricities', 'Tn', 'Obviously', 'patience.', 'AWE1701', 'appreciates', 'C38', 'US626', 'Irritated', 'boyfriends', 'Iwas', '12am.sound', '25min', '676', 'emphasize', 'VAPE', 'Welcome', 'Housing', 'Education', 'opportunities', 'GR8', 'State', 'Saddens', 'mini', 'no-fee', 'UpInAirClaire', 'Melinda', 'greensboro', 'nc', 'jewel', 'workng', 'ET', 'pushy', 'GAgent', 'Danny', 'US628', 'DFW-CLT', 'sarahpompei', 'beareavement', '2:35pm', '-not', 'grace', 'bttr', 'lunchtime', '//t.co/By3vDioSUA', 'AndrewFallis', 'to-', 'stillnotonmyflight', 'Daughter', 'NotImpressed', '2133', 'mimosa', 'kinder', 'breavement', 'sync', '1707', 'reschedule/replane', 'youcandobetter', 'groan', 'Bloody', '5223', 'valuing', 'curt', 'eternal', 'mergerdisaster', 'Gets', 'comms', 'crowded', 'DCA-PIT', '//t.co/jasKYPLWt5', 'Weds', 'D9', '835', '8.51/ticket', 'API', 'Flightedflight', 'Yvonne', 'HappyFriday', 'tier', 'burning', '//t.co/qjLzrYWFj2', 'complainers', 'in-person', 'Robyn', 'Manch', 'Started', 'Sit', 'gsp', 'sprawled', 'Choice', 'Grossedout', 'nice/dismissive', 'recycle', 'bagtag', '⛄️☀️', 'Thks', '1786', 'Overall', '//t.co/pKy7ZhnNRH', 'Scotch', 'F/A', 'crosswords', 'Glasses', 'oldseatnocushion', 'worstflight', 'nohelponboard', 'coathanging', 'Obama', '428', 'frozentoilet', 'medicalissue', 'mechanicalissue', 'dispatchissue', 'LetsGo', 'Able', '9:50', 'Gassing', 'finalstretch', 'execplat', 'mileagerun', '6k', '1839', 'PROVIDING', '//t.co/3dDQq0gQni', '1:30pm', 'faithful', 'Absolutely', '1838', 'sunday', '1907', 'offloading', 'jdbwaffles', 'Break', 'dishonest', 'Exicted', 'psychological', 'tricks', 'colors', 'embarrassment', 'worldwide', 'usairwayssucks', 'guys…see', 'circles', 'STRANDED', '11:21p', '3935', 'prof', 'takers.We', 'mvmt', '890', '5136', 'connection…', '1857', 'google', '.not', 'occupied', 'Ripoff', 'unemployment', 'Consumer', 'Affairs', '4553', 'fab', '1F', 'ffstatusdontmatter', 'thenewaa', 'grandbabies', 'births', '46min', 'w/NO', 'Evaluate', '-Chairman', 'Geeeeezzzzz', 'PHLtoLAS', 'Cinci', '29', 'Promised', 'baggagelost', 'zfv', 'AskPayPal', 'USAIRWAYS', '//t.co/KigfKVXxDQ', '5137', '5547', '1777', 'clearance', 'tedious', '6:05pm', 'Manager', '4-50', 'overfilled', '10,000lbs', 'lavoratories', 'est', '437', 'Lead', 'Bill', 'AB', '//t.co/AXRYeIWzh0', 'vuelo24.es', 'vuelos24.es', 'MAD-NYC', 'webs', 'w.', 'anarchy', '555', 'arms', 'hockey', 'sticks', 'Pleeeeease', 'pits', 'overwhelmed', 'Nbr', 'Dept', 'Bdl', '//t.co/n9vGe2nPIB', '//t.co/KCqeBEej7S', 'ihatemergers', '4420', 'Monterey', 'fog', 'veggies', 'olives', 'Velcro', \"'footrest\", 'shelf', 'A330', '//t.co/ZL4bVEXmcJ', 'Realizing', 'mask', 'polite', 'habitually', 'FUK', 'SHITTY', 'CHICKEN', 'SALAD', 'SANDWICH', 'OVERPRICED', 'FUKING', 'uncertainty', 'undue', \"req'ing\", 'wewantcomps', 'strandedattheairport', 'Highly', 'meds', 'sponsorship', '//t.co/q6Xedzvhh9', 'silicon', 'valleys', 'festival', 'garywerk', 'sandwiches', 'csr', 'yuma', '2702', '2696', 'MontereyRegionalAirport', 'alan_bledsoe', 'Alan.', 'Lve', 'w/open', '//t.co/etfjqIwUvt', 'inferior', 'mergers', 'irony', 'barking', 'chkd', 'College', '666', '1783', 'chathes', '297', 'MasterCard', 'scattered', 'Yuma', 'backwards', 'destroying', 'GastonCounty', 'lively', '03', 'Bit', 'nostalgic', 'exec', 'bene', '5095', 'CAK', 're-scheduled', '4-5', 'scheming', 'OBJ', 'LMAOOO', 'Reminder', '//t.co/mFMNKmvOTR', 'h2o', 'flight1797', 'END', '//t.co/NBpCJCpEW9', 'Dreading', '//t.co/WBMHRl3bvl', 'AlbertBreer', 'interchangeably', '556', 'BEFORE', 'MP3', 'player', 'usage', '//t.co/Nvk3IrG4KP', 'Aug.', '10:05am', '1917', 'Lilly', 'badcustomerexperience', '657', 'Candice', '5:00', 'onion', 'tbt', 'jax', 'A9', 'B13', 'CakeNDeath', 'DL', 'Ethan', 'revive', 'laundry', 'tabs', '1217', 'Passed', 'Frozen', 'pipes', 'skys', 'imagined', 'SPEND', 'Stubbornly', 'phf', '11:35', 'too👍', 'Icing', 'FlyUS', 'M-phx', 'accts', '4438', 'holz', 'labeled', 'occupy', 'musical', 'KUDOS', 'correLate', 'HirasmusBidragi', '9:25', 'DublinAirport', 'LoveLoughNeagh', '20,000', 'ft', '//t.co/FRd0cAy6DA', '1870', 'Part', '//t.co/Sl6BDRXfN8', \"'preciate\", '5015', 'knoxville', 'petition', 'faa', 'docs', 'TYS', '810', 'GTH239', 'usaiways', 'coded', 'trumping', 'booster', '7F', 'brochure', 'touting', '130am', 'you.3860', 'cincy.just', 'landed.you', 'C-team', 'NotEvenJV', 'Than', 'recvd', '.This', 'sucks.i', '40k', '125', 'tckt', 'PHX-PHL', 'pointy', 'Def', 'ApplePay', 'anyone40min', 'AnnetteNaif', 'Roberto', 'words.', 'flight4592', 'OFF', 'CheapOair', '10:00p', '10:07p', 'SmoothOperation', 'experience//', 'misplace', '1pm10:15', '1:34', '//t.co/N7pSuEJDC8', '48hrs', 'Freaky', '.Other', 'DCA-DSM', 'Inconvenient', 'nofun', '//t.co/m7MMq2f5FA', 'ckin', 'Emailed', 'AllegiantTravel', 'evenLate', 'ThereIsAFirstForEverything', \"'tough\", 'Solid', 'Eliz', '673', 'crosswinds', 'yell', 'amateur', 'WellDone', 'Loosing', 'Barclays', 'Myrtle', 'transactions', 'TMRW', '3/19', 'WallStSlumLord', 'PKG49', 'not-friendly', \"'Please\", 'bush', 'Yell', 'devs', 'w/de-icing.Three', 'sill', 'USExpress/PSA', 'Door', 'reopened', 'wd', 'Secondary', 'screenings', 'TSAPreCheck', 'disconnection', 'prompts', 'desired', '5141', 'Cha', 'MarciaVeronicaa', 'considerate', 'Marsha', 'M.', 'ThankYouForEverything', 'AWOL', 'lite', '//t.co/mT8sPlm02v', 'Joined', 'pity', 'misguided', 'nothings', 'creating', '3880', 'Suggestion', 'vrm', 'ignorant', 'fallen', 'DOUG', 'PARKER', 'attendants-', 'vile', 'US4485', '💺✈️', 'portlandjetport', '//t.co/kDMq0jps02', 'us2118', '=we', 'pple', '//t.co/r7ibqr4CYd', 'Usair', '2218', 'US2218', '36min', 'flattering', 'Betty', 'ILM', 'DRVRugby', 'blizzard', 'surprisingly', 'strandedinnashville', 'FRUSTRATED', 'LivePersonPlease', 'occasions', 'Doubt', '35x', 'encounter', 'outright', 'Priorities', 'FLT1999', 'upsetting', 'Wondering', 'disguised', '//t.co/uH6UwuOSC0', 'coffeemaker', 'FT1892', 'be4', 'coma', 'in…', 'mins…', 'requiring', 'rumors', 'TV/movie', 'installing', 'muzak', 'tsaprecheck', '3,000', 'Samsonite', 'totaled', 'baked', 'usairwaysssuck', 'comforting', 'stationary', '214-725-1966', 'CANT', 'sucks.', 'lucycat', 'scm1133', '//t.co/7STktJXAN1', 'timbit', '🙏🙏🙏✌️✌️✌️🙏🙏🙏', 'reassess', 'Goal', 'usairwayssuck', '11:51', '4:41', 'rejected', 'fendforyourself', 'locator', 'Div', '2k424j0', 'DNX58V', 'Philly-', 'Starving', 'flailing', '//t.co/JhXWMuTx4G', 'severally', 'chairmanlove', '//t.co/mEOAlCIPdD', 'monetary', 'DAYS', 'overloaded', 'PLUS', 'emergencies', 'REAL', \"'direct\", 'whatajoke', '//t.co/Q5SB0DaVuy', 'Isabelle', 'Gramp', '🙏🙏🙏🙏🙏🙏🙏🙏🙏🙏🙏🙏🙏🙏🙏🙏🙏🙏', 'Divident', '⤵for', '//t.co/ef4P0HISHb', '1748', 'systemic', '153.69.214.203', 'SPF', 'disallows', 'makeovertime', 'customerserviceplease', 'donthavehighhopes', 'noreply', 'usairwaysmobile.com', 'filters', 'DNS', 'admin', '19B', '1943', '//t.co/HAJ5lKqjW4', 'Antitrust', 'unprofessionalism', '2daysLate', '//t.co/JhaU4K48yv', 'itin', '//t.co/79waJk7EyT', '//t.co/BuwjTVUWKM', 'secret', 'Pordes', '5080', '5129', 'helpful.I', 'holdtime', '//t.co/UPp41AbxrQ', 'srq', 'BohnJai', '👎✈️', '👎😬', '👎😡', '😊👏', 'verbally', 'cussed', 'cae', 'SDFAirport', 'peeved', '5534', 'Pascucci', '//t.co/YiwLhQhZgp', 'reaccommodation', 'mumbled', 'uses', '//t.co/2eDgc6TbLs', 'SVLLINDIA', 'provides', 'logistics', 'Mumbai', 'Surat', 'NaviMumbai', 'Forsyth_Factor', 'passengersLose', 'dsearls', 'gooutofbusiness', 'fispahani', 'disruptions', '325', '//t.co/e09keJ9bv1', 'worsttraveldayever', 'maddening', 'unexplained', 'Communication', '//t.co/pkAxUNYfn2', 'Dallas=raise=now', 'tweetin', 'Doin', 'anythin', 'wiser', 'leads', 'US558', '2/16', 'crew.I', 'NeverflyUSairways', '👠👠👠', 'heel', 'clicks', '4439', 'red-headed', '3389', 'thislinehasntmovedforanhour', 'Shaquille', 'scotch', 'grouping', 'TYSVM', '3121', '1874get', 'fate', 'TYVM', 'hectic', 'husainhaqqani', 'Husain', 'shld', 'protest', 'Rehman', 'Malik', '1hour', '8.20', '9.50', '8.10', '//t.co/L7lWjaZiOA', 'noltnancy', 'joke.Boston', '//t.co/DH2rfUIJYP', 'erickofiejones', 'billing', 'cycles', '1:23', '//t.co/DPhQRgkdoA', 'spreadtheword', 'borrow', 'F38ish', 'Commitment', 'praised', 'Barklays', \"'out\", 'throne', '470', 'conn', '763', 'ExecutivePlatinumMeansNothing', 'IWantCoffee', 'Eh', 'Member', 'Profits', 'powered', 'longday', 'waivethefee', 'Neptune', 'reposting', 'imateacher', 'Couldnt', 'neptune', 'notmyfault', 'v-mail', 'C68LD9', 'Manage', '//t.co/bCwckWtnlE', 'C14', '1791', '5302', '5:51', 'schedule/contact', 'snaps', 'cups', 'EIGHT', 'LONGER', 'steaming', '7:44', 'Lord', 'Sold', 'WheresTheCustomerServiceAt', '//t.co/phI2IfNjIT', '893', 'emilylyonss', '4524', 'deadhead', 'versus', 'Hungary', '0372389047497', 'USAirway', 'satesq', 'PHL-CRW', '//t.co/8Hh0c63TIe', 'HTS', '604', 'Lets', 'DialUp', 'TheEnd', 'GoodDay', 'Ernie_Vigil', 'sickcrew', '🙏🙏🙏🙏🙏🙏🙏🙏🙏🙏🙏😢😢😢😢😢😢😢😢🙏🙏🙏🙏🙏🙏🙏🙏🙏🙏🙏🙏🙏🙏🙏🙏🙏🙏🙏🙏🙏', 'Uncalled', 'BostonBBB', '🙏🙏🙏😢😢😢🙏🙏🙏', 'Tanpa', 'tic', '200fee', '🙏🙏🙏🙏🙏🙏🙏🙏🙏🙏🙏🙏🙏🙏🙏🙏🙏🙏🙏🙏🙏🙏🙏🙏🙏🙏🙏', 'WAIVE', 'FUTURE', 'DATE', '3-1/2', 'unprofessionally', 'uncalled', 'FMJTYL', '🙏🙏🙏✌️😉', '9º', 'anticipation', '1808', 'Crappy', 'sub-par', 'Freddie', 'sibling', 'wether', 'approproately', 'tooooo', 'command', 'absorb', 'deceiving', 'reprehensible', 'Joke', '50hrs', 'winkwink', 'intimate', '5202', 'Firefox', 'Button', 'gray', 'submits', '2check', '3:22', '1855', '//t.co/hLZaHXkdSn', 'Travis', 'Skis', 'rush', 'jetway—why', 'us/aa', '4443.We', '2:12', 'apx', '✈️🌞', 'closing', '4443', 'nobackup', '10:05pm', '2:45', 'begun', 'Jack_Kairys', 'LGA-IAH', 'customer-friendly', 'accessible', 'planestrainsandautomobiles', '8:20pm', 'preparedness', 'snowballed', 'could/wanted', '//t.co/xGPaAyFDwt', '1923', 'Pull', 'aforementioned', 'patron', 'hoodlums', '//t.co/C24cEfa9pl', '3729', 'do-I', 'speciifc', 'character', 'AA/US', '3923', 'hogs', 'Fabulous', 'Quality', '628', '1PM', 'impediment', 'tips', 'Duke', 'hat', '1761', 'Mason', 't-24', 'registering', '//t.co/a0YoSJHZMc', 'researching', 'w/class', 'contaced', 'EYEWITNESS', 'NEWS', 'unheard', 'manned', '2069', 'HSV', 'crickets', '3900', 'ubetter', 'smth', 'seet', 'dating', 'Nov', 'eDreams_en', 'Optimistic', 'Oy', 'Tara', '11:45am', 'delayed-thats', 'gem', 'Furious', 'someone-awesome', 'coin', 'SM', 'OneHourOnHold', '1797', 'perks', 'senseless', 'reactivate', 'casimir', 'Believe', '2955', 'unwilling', 'rotten', 'nocareforcustomers', 'Mold', 'US3825', 'filthyplane', 'hopeidonotgetsick', '//t.co/zIK2UoXGnW', '2013', 'AvGeek', '//t.co/1yWXRfn0Gr', 'slapintheface', '9:45', '46', '788', '188', 'nexttimeiwillflysouthwest', 'TPA-DFW-LAX', 'GRK', 'LEX', 'XT', 'f-1571AUS', 'prolonged', 'prds', '304min', 'AA2444', 'ohio', 'dallas', '//t.co/DNMsblzumr', 'Chef', 'Miguel', 'Allende', '//t.co/7t1rDRCRe6', 'Followed', 'horrible.went', 'flight-no', 'button-4that.Called', '.800', 'hungupNOHELP', 'cot', 'Andrew_Wasila', 'Andrew', 'SMA', 'rollercoaster', '16+', 'Killeen', 'w/customer', 'droped', 'rwrd', 'AA-no', 'AAdv', 'narrowly', 'snags', 'pbpinftworth', '64GB', '9hour', 'RobertDwyer', 'choppiest', 'Whiplash', 'americanairlinesfail', 'iwantmymoneyback', 'reversed', 'bereavement', '580815', 'TRUST', 'stuckinmemphis', 'texasisclosed', '//t.co/VMqUURZUpW', '//t.co/22iPGeIcSm', 'faves', '1357', 'sju', 'thenewamerican', '8.1.3', 'Sheesh', 'Alex', 'Espinosa', '//t.co/0HXLNvZknP', 'crated', 'would-be', 'pets', 'painfully', 'inexperienced', 'paged', 'spaced', '//t.co/aCebo6ELPa', 'Clarkey_19', 'biggie', 'iTunesMusic', 'Spagnuolo', 'coached', 'Rams', 'night-_-', '1181', 'whammie', '//t.co/oUmC1LrXDN', '386', 'robocalls', 'on-plane', 'Twitter/DM', 'AA76', 'gems', 'origin/destination/dates', '777-200', 'ORD-PVG', 'arbitrary', 'Pafe', 'A.A', 'trv', 'gogo', 'boat-style', 'swivel', 'dietcoke', 'happyflier', 'rampers', 'b40', 'marshaled', 'retired', 'MD80', 'resoled', 'Kax', 'beantownmatty', 'ExecPlat', 'grievance', 'rno', 'Maria', 'beanie', '//t.co/AnEqXZR4bp', 'lpalumbo', 'rdu', 'sexual', 'assult', 'Woo-hoo', 'LaGuardiaAir', 'diapers', '3.10.0', 'manners', 'dfwairport', 'stilling', 'dialing', 'Attempted', 'SouljaCoy', 'obscene', 'acquisition', '1843', 'dwell', 'encouragement', '1565', '57', 'logical', 'ALLOWING', 'wear', 'xxx', 'LIVING', 'CLOSE', 'VIEWS', 'vastly', '//t.co/vOxcghciJi', 'Bundle', 'applause', '1-the', 'freezes', '2-', 'nitrogen', '3-a', 'inflating', 'fligt', '//t.co/wCSAZZQPae', 'Barbados', 'beaches', '1636', 'temorris2010', 'Gold/Sapphire', '//t.co/tY9C0Gae2o', 'md80/dc10', 'md80', 'ods1819', '//t.co/HEpkNpuzwU', 'CDG', '1-2888155964', '//t.co/fgJbex480D', 'Brrr', 'chilly', '1463', 'probls', 'w/comm', 'Cxld', 'rtrn', 'COOL', 'nickeled', '2559', '8:55', 'DC9', 'TT', '3322', 'planB', 'upgrademe', '//t.co/9Gx5mMmubb', '25/26th', '//t.co/wDyEkVB1Ze', 'Wichita', 'Falls', '//t.co/Ib8kyjBCJM', 'animals', 'americandairlinesSUCKS', 'southern', 'experts', '//t.co/mPliO6DYgn', 'AA3688', 'preventable', 'w/companies', 'forU', 'Luck', 'Birthday', 'Kept', 'allowable', 'admitted', '2495/1170', '1229', 'w/connection', '1120am', 'days/plans', 'AA3490', 'delay/pending', 'hormonal', 'teenager', 'wastedeffort', 'reappeared', 'Avios', 'undone', 'MCE', 'DURING', 'BOARDING', 'UTEVGW', 'bragging', 'JS', 'Frustration', 'donedeal', 'talktoahuman', 'strength', 'MauererPower', 'reached', 'Gogo', 'guys.I', 'RNO-DFW', 'tomorrow.Plane', 'AM.should', 'Fê-route', 'struts', 'nozzle', 'calibrated', 'US1937', 'way.Big', 'ground/outside', 'absorber', 'ksml', 'enhance', 'fuel.', 'cycle', 'communication/competition', '4285', 'yucki', '//t.co/9R9OmzQAVI', 'AA4285', '1/28', 'PRERECORDED', '//t.co/hYrAo7A4Uu', 'US2065', 'Smiles', 'miles.Thank', 'ORD.We', 'RefundProcedureNotTooPainful', 'tmr', 'la-la', 'leather', 'ay', 'seams', 'Marsh', 'cityandsand', 'hand-off', 'Nutella', 'veryimportantproject', 'refurbish', 'ex-EU', 'intra-EU', 'drain', 'fearing', '60+', 'potable', 'recommendation', 'Breakfast', 'burrito', '1119', 'overzealous', 'pns', 'frequently', 'advisories', 'Hub', '//t.co/dzKc3auZU9', 'wiggle', 'AA1119', 'AA157', 'Killing', '3M', 'sliver', 'NeedCoffee', 'YESTERDAY', 'Dumas2TTG', 'can.', 'NoXTraLegRoom', 'NoCoatCloset', 'faail', 'mci', 'Yayayay', '24-48', 'BA1551', '4628', 'Wack', 'Bueno', '5348', 'cheque', 'Unknowledgeable', '11c', 'potatoes', '//t.co/m2PHoavRxC', 'DCA-STL', '//t.co/iFESPcBzTm', 'ballbag', 'SAT', 'worrisome', 'preoccupied', 'flagging', 'observer', 'counterparts', '1278', 'BSUXLU', 'AA3465', '8:16', '80-90', 'Before/after', 'whereas', 'SGF', 'TYR', 'outta', '3200', 'mikes', 'Tk', 'spk', 'sufficiently', 'presumably', 'reproach', 'reform', 'pre-TSA', 'bitchy', 'way-i', 'youd', 'cater', 'superyan', '8A', \"'thank\", 'happened/what', 'AA3186', 'AA2401', 'Confirm', 'USXLON', '5/21', '5/22', 'US84', 'weekly', '5hs', 'A/C', '20yr', 'NoFunAtAll', 'Uwo', 'me2make', 'me2sit', 'excess', 'chasefoster', 'celebs', 'press', 'deice', 'Requiring', 'clunky', '2160', 'Ref', '1-2990176298', '1-3001885409', 'motor', 'CVGairport', 'rising', '//t.co/VAhdekVOKe', 'awheelchair', 'MIA-SFO', 'nonewplanes', '//t.co/TwETPXUpPN', 'Changes', 'no-show', 'scoot', 'AA1103', 'EXPERIENCE', 'miserablemorning', 're-staff', 'commence', 'DPDFPP', 'Regina', 'argg', 'BPDFPP', 'trite', 'platitudes', 'Embassy', 'Suites', '13341', 'Woodland', 'Park', 'Herndon', 'Virginia', '20171', '+1-703-464-0200', 'needed.Why', 'Provide', 'tcf', 'LAX-OGG-LAX', 'Midnight', 'info.Bag', '350', 'shrug', 'IATA', 'TheFAAOnline', 'JayFranceschi', 'Drawing', 'machines', '1130pm', 'pouting', 'AttitudeIssues', 'abilities', '//t.co/4MQFMxeBXt', 'extenuating', 'downstairs', 'Elise', 'EEs', 'K20', 'chking', 'schd', 'HRS', '4:30', 'plainly', 'comp/mech', '1679', 'N76200', '//t.co/XbKvcraOKn', 're-boarded', 'Policy', 'makers', 'mindset', '//t.co/DQnn0Rf1V8', 'did-', 'journalist', 'medication', '4days', 'apologise', 'appalling', 'Slacksoft_uk', 'colours', 'Skipper', 'walk-around', 'Veers', 'Icy', '//t.co/DW6VDvqXBB', 'IFE', '6hr', 'no-one', 'time/money', 'suprise', 'vanity', '//t.co/fA7Nygn1Ux', 'gah', 'disorganised', 'times.hand', 'called.please', 'abc7newsBayArea', 'HIS', 'inhumane', 'humanity', 'terror', 'twice.got', 'bills', 'xox', 'subscription', 'hoping/praying', 'again😞', 'argentina', 'tollfree', 'Nightmare', 'emxlyy', 'swear', 'earrings', 'a8', 'a15', 'earring', 'dayjustgotWORSE', '//t.co/UieSR3GHHO', 'Texting', 'winks', 'LONG', 'AUH', 'commutation', 'dialogue', 'drives', 'worstcustomerserviceever', '2284', 'Flightrs', 'curfew', 'AA1237', '👎😡✈️', 'notahappycustomer', 'leavingtomm', 'Bleh', 'Clubs', 'Reference', '1-3001408092', 'Nor', '+-10pm', 'CRJs', 'airstairs', 'Valet', '10:20pm', 'brave', 'conference.We', '1568', 'SpiritAirPR', 'ChicagosMayor', 'Noise', 'NoRahm', '//t.co/CFzdJmn0uI', 'sure👌', 'djevolutionhd', 'EP', '125K+', 'lawyer', 'wrath', 'Provides', 'drag', 'gerri_elliott', 'Impossible', 'chronological', 'mis-purchase', 'FOOTAGE', 'filmcrew', 'latimes', 'chicagotribune', 'ABI', '2298', '2339', 'veers', '//t.co/Q37pOWn6uv', 'Cowboycerrone', 'figures', 'MEGENTRIPODI', 'jordnnicole7', 'retaining', 'Responding', 'Q2', 'Q3', 'clueless', 'midnite', 'whisper', 'react', '//t.co/atwyiFh6Zy', 'XOXO', 're-read', 'p.m', '10:45pm', 'Joanne', 'flightnightmare', '1239', 'DART', 'DEN-DFW', 'dartmedia', 'gunna', '2348/3499', 'Suntimes', 'cameragear', '//t.co/1m36NTPTR8', 'DUB', 'injuries', 'periolodicly', 'snow/ice', 'Tu', 'pm-We', 'leeway', '25mn', 'Ohare', 'sna2ord', '1644', 'geez', 'flt2417', 'unserviceable', 'usair4603', '4591', '2417', 'SWU', 'JFK-MAN', 'TWA', 'yikes', 'us-', 'AA5411', '//t.co/I7Vdi9WqSF', 'thanksm', 'louprice13', 'aacustomerservice', 'cabs', 'w/small', 'slides', 'taxiway', 'STORY', '//t.co/4pONJ3jidE', '//t.co/3DCWerZ1kr', '1074', 'outoftouchwithreality', 'nrosenb1', 'aafail', 'Dr.', 'appointment', 'deactivated', 'deactivate', '2/27.Just', 'inv', 'AA1679', 'successful', '4369.', 'w/buses', 'Rizzilient', 'ridicules', 'w/in', '5392', '//t.co/XGgCNTco8m', 'infinite', 'loop', 'hamsters', 'rabbits', 'agent-booked', 'pregnantwithtwins', '2498', '//t.co/IMRLAu77iH', 'TheCandaceSmith', 'shout-out', 'Candace', 'ride.', 'krescate', 'posting', 'fourth', 'contactcej', 'BQONPA', '1641', 'POS-MIA', '2214', 'MIA-', 'AirPort', 'Executive', 'displeasure', 'WorstCustomerService', '3487', 'Advised', 'BBB_media', 'DoNotFlyWithThem', 'Fidencio', '👌👌👌', 'KYBILC', 'y.o', 'isle', 'Gabriela', 'employee.Working', 'MIA-LGA', '402', 'lip', '3611', '5:10pm', '7:34pm', 'maryella_green', 'continues-still', 'shafted', 'twins', 'abandon', '7:40pm', 'DESTINATION', 'Pensacola', '3670', 'jokerunning', 'Lima', 'Cuzco', 'saidi', 'Buenos', 'ares', 'sre', 'hon', 'Inquired', 'Sauvignon', 'blanc', 'pronounce', 'Mistake', 'multibillion', 'multimillion', 'CustServ', 'barrettkarabis', 'Them', '//t.co/66NXZhBbMT', 'btr', 'agts', 'unamericanairlines', 'Southwestairwasthere', 'Envoy', 'B1', '5347', 'of40.I', '10:39', 'wudda', 'ktn', 'up-', 'AmericanView', 'unfold', 'Advise', '😩😭💔', '10:14am', '9:19pm', '1389', 'wrench', 'uvf', 'apron', 'suree', '362', 'grnd', 'Havoc', 'T-shirt', 'jeans', 'suits', 'TPA-DFW-AUS', 'IAH-DFW', 'cnn', 'nbc', '//t.co/FWKJ49B1LE', '195', 'Pounds', 'amen', 'Meelan', 'funerals', '//t.co/IN24Bpb7dw', 'unaccommodating', 'capability', '3349', 'boom', '//t.co/PzGc6Jch7n', 'hitawall', 'Newplanesmell', '//t.co/dJJjN9sLHT', 'pissed/very', 'evil', 'anything.Just', '6wks', 'chariot', 'angle', '//t.co/3ZZKQWWbJz', 'oneworld', 'oldplanes', 'damageluggage', 'Replied', '//t.co/NBZkhiZF3V', '//t.co/Uq2ooPjPwg', 'originating', 'chge', 'Americans', 'Ecuador', '//t.co/5ON3KlzVMT', '//t.co/4SFpcbyy9m', '160', '1510', 'ud', 'chnge', 'retrn', 'pickng', 'phone.Only', 'complaint/questions', 'preparation', 'Depending', 'US4623', '4:08', 'commend', 'rubbed', 'B787', 'PN', '320008A', 'deflator', 'Chapter', 'AMM', '//t.co/kfD4WQRkLW', 'AirportCardio', '//t.co/oilnCfWEyg', '1152', 'BRO', 'Partial', '3127', 'Complaint', 'TravelProblems', '1642', 'entree', 'nosedived', 'NewAmerican', '//t.co/56eSsfOOwt', 'Delaney', 'Shawn', 'kanne822', 'AA291', 'mex', '//t.co/se57dmjHiW', 'AATeam', 'rigorous', 'Staffer', 'Brownsville', 'hardtodo', 'AA1675', 'problems.BTW', 'Miami-PhL', 'WANT', 'hah', 'hahahah', '2mins', 'LIAR', 'pacify', 'span', '........', 'un', 'F-in', 'believable', 'elwoodblues77', 'Americant', 'reuse', 'Hm', '//t.co/LE4H2gTzXZ', 'aaadvantage', 'balloons', 'need2know', 'today.Rather', 'MAF', '//t.co/gVgKHbx1RB', 'hardest', 'agent-what', '//t.co/PfseNJk5Pw', '6A', '1620', '//t.co/X4rsvAGIjN', 'Delivery', '1338', 'Providenciales', '1651', '//t.co/31cFHtK60r', '1672.', '//t.co/5SdlyN9MSS', 'Becky', 'Piela', 'Orange', 'sooooo', '//t.co/cEHrOeurC5', '89ish', '4302', 'pounds', 'Bar', 'phl-mia', 'Meaning', 'AAdavantage', 'LAN', '-help', '11:20', 'bankruptcies', 'probability', '1330', '👍👍👍👍👍', 'Uhmmm', 'JColeNC', '😫😫😫', 'helpline', 'Holler', 'GTSVYB', 'unprepared', 'lacked', 'ho', 'booklet', '11:59', 'revs', 'ystday', 'angrybird', \"where'smybag\", 'xx', 'AA199', 'MXP-JFK', 'SVU', 'gang', 'Mind', '77min', 'pats', 'doyourjob', 'extraordinary', 'GoingForGreat', 'acpt', 'trickling', '//t.co/4KbTzVjU3b', 'buses', 'Disorganized', 'WakingInMemphis', '~80-100', 'maxfitgirl29', 'Specially', 'Carlton', '767-300', 'goodbye', 'up…', '//t.co/R1OQAVEO7I', 'Gladys', 'es', 'mi', 'Amiga', 'fllight', 'bussines', 'genuine', 'umm', 'shortage', 'Natt', '1300', 'PanAm', '249', 'neverflyAAagain', 'CXL', 'evoucher', 'fluctuated', 'back.Ended', 'MattThomasNews', 'Siberia', 'followback', 'Hahaha', 'woase2015', 'HelsinkiAirport', 'winterops', 'Prebook', 'MIDOExhibition', 'derekc21', 'nastiest', 'yesterday.Rubber', 'slime', 'ENTIRE', 'back.FAs', 'congested', 'dissapointing', 'Attempting', 'EdPlotts', '31F', 'AA1469', '2/22/15', '//t.co/t9JBN9WZtq', 'thanksamericanairlines', 'Talent', 'BDSM', 'porn', '//t.co/UQGW6qsFFU', 'Dungeon', '//t.co/pl9Sop5IHu', 'op', 'Tulsa.Not', 'service.Looks', 'Fight', '1337', 'raft', '//t.co/DTHEyOFXrB', 'dmed', 'Yessir', 'yourlocalnyer', 'Rob', 'botched', 'absurdity', 'tug', '800-433-7300', 'outraged😡😡', '49min', 'F-A-N-T-A-S-T-I-C', 'memorize', 'five-word', 'phrase', 'numerical', 'shortcuts', 'TyWinter', 'itover', 'someones', 'nbsnewsr', 'cnnbrk', 'youve', '106', '104', 'Company', 'protocols', 'Relations', '10-hour', 'reservation/change', 'NUTS', 'mikehertz7', 'phrased', '1081', '2513', '1555', '2334', '11:40', 'fakeawards', 'LUVisbetter', 'justynmoro', 'automatic', 'attendent', 'terrible.Been', 'MTY', 'Mex', 'Ok.', '7hours', 'surfer', 'noloveforsurfers', 'ANYONE', 'LAX-MAD', 'Iberia', '2321', '12:17pm', 'thankU', 'Center', 'escaLate', 'Retrain', 'adjustments', 'Own', 'Mistakes', 'seemless', 'connection=', '15lb', 'surfboardbag', 'nomoAA', 'mait', 'Repair', 'formality', 'rudely-returning', 'reader', 'nohotel', 'ahem', '353', 'frowny', 'K13', '//t.co/rKPRxTGvfL', 'unsat', 'UNBELIEVABLE', '3months', 'SJC-', 'Angelo', '_Lucy_May', 'discussing', 'Record', 'HFJKTO', 'DallasAirport.I', '2208', 'CLE.Would', 'Starbucks', 'A20', 'Howdy', 'erroring', '20minute', 'skycaps', 'educate', 'LOSING', 'GUITAR', 'THOUSANDTH', 'mistreated', \"'it\", 'guru', 'ease', 'evidently', 'meetings/interviews', 'DOMESTIC', 'rides', 'circuit', 'breaker', 'bus/first', 'milesaaver', 'whyfly', 'min+', '2hourwaitsucks', 'madhouse', 'Yikes', 'skycap', 'response.Tough', 'Montrose', '1-800-433-7300', 'allrepresentativesbusy', 'nooption', 'packermama1', '4333', 'pit', 'bademployeeproblem', 'Students', '1542', 'flight353', 'surgeryHELP', 'Locator', 'IRRLCD', '=UNAmerican', 'cathaypacific', 'cathaypacificUS', '😥😥', 'AA3230', 'AirSouthwest', '//t.co/WnY9TzsR8N', 'dehydrated', '//t.co/nwF2FkA8fY', '50k', 'oaaret', '2917', 'CID-DFW', 'be/is', 'chaperone', 'RLDelahunty', 'answerthephone', 'M.Robinson', 'crazybitch', 'c11', '11:30am', 'andyellwood', 'delk', 'half-thought', 'AA2334', 'wed', '//t.co/45kTsSK18J', 'pie', 'BRING', 'FIANCÉ', 'meerikangas', 'hahahaha', '2224', 'hoagy10', 'pasting', 'w/reservations', 'anticipating', '6.55pm', '1.50', '3.30', 'bride', 'attending', 'Brooklyn', 'Jacqueline', 'amexserve', 'witnessed', 'Denise', 'Extend', 'rtn', 'no.Worse', 'air/at', 'rudestaff', 'incompetentmanagers', 'Eleonora7', 'tisk', '//t.co/XHSUUpHeZe', 'awfully', 'unclear', 'audio', 'PIR', '2,500', 'cud', '1230am', '230am', 'Wong', 'Marisol', 'Pimentel', '.thank', '1AM', '1605', '6/25', '6/28', 'reasonably', 'alternative', 'MallowFairy', 'C2Next', 'Telling', 'kthxbai', 'strict', 'lacks', 'door-close', 'drinks/snacks', 'self-upgraded', '2396', 'Automated', '😋I', 'Jaipur', 'Dehli', '-NYC', 'w/AA', '2plains', '2fails', 'MurphyJulie', '1108', 'basics', 'stiiiil', 'malhoit', 'hating', 'CAC', 'FAs', 'family/Friends', '4:45', 'cle', '259', '6:23', '//t.co/hF8aJZ4ffl', 'lmk', 'mwangbickler', 'Michael', '-got', '12:00', 'the15hours', 'Infuriating', '7hrs', 'Riedel', 'Active_Aly', 'iberia', 'usairwis', 'Kaha58', ':15', 'AA3390', 'AmericanAir.If', 'it.', 'UMM', 'QSVGRU', 'stmt', 'GetYourActTogether', 'painandsuffering', 'emrey35', 'TJYCQH', 'nite.Not', 'PU', 'unt', 'aft', 'remained', '3days', 'Insane', 'unreachable', 'Callbacks', '2516', '2244', 'date/time', 'revieving', 'uk', 'agreed', 'Mr', 'Parker', '4275', '//t.co/rxmjWoo7Qi', 'CHECK', 'POOR', 'chkin', 'w/supervisor', 'mtg', 'BaggageDrama', '//t.co/CS1673hrqQ', 'Eventually', '2413', 'AA65', 'squawked', '7700', 'AdmiralsClub', 'worstcustservice', 'Zurich-New', 'flights.This', 'nationalized', 'nation', 'AAL65', 'declared', 'Squawking', 'AA106', 'weather✈️', 'Horrendous', '953', 'fligth', 'Somthing', '2062', 'dawn', 'nickcunningham1', 'QQBMUG', 'reticketed', 'loganex', 'westjet', 'Dealt', 'epicfailure', 'Flightlation-', '10:30a', '4:00a', 'aa5/BA1506', 'unsettling', 'emeyerson', 'ggreenwald', 'Walmart', 'rebook-', '//t.co/4G0K0z2rei', 'KOA-LAX-PHL-ORD', 'savr', 'awrd', 'KOA-LAX-PHX-ORD', 'BlameShiftOverload', 'help.Thanks', 'JFK-LAS', 'france', 'shirt', 'visiting', 'paris', 'languages', '-without', 'answer-', 'latinamerican', '/PBI', 'th', 'NEW', 'HS', 'Ithaca', 'xld', 'rulesshouldbend', 'mastercard', 'AA973', '24/7', 'Losing', 'sheer', 'reigning', 'GD', 'sloooowresponses', 'robinreda', '3hours', 'TWENTY', 'MINUTES', 'SPOKEN', 'prank', 'plt', 'KARAAX', 'Neuer', 'Reebooked', 'LV-DFW', '12.50pm', '1h08', '1080', 'REPLY', '1418', 'EXP', 'champagne', 'AA153', 'ORD-NRT', 'TokyoMarathon2015', '//t.co/Ij4xL01tKX', '2222', 'TUES.', 'insure', 'fricken', 'AmericanAir-everyone', 'dickheads', 'arent', 'callings', '235', 'finale', 'rebook-please', 'instance', 'unsuccessful', 'nonperformance', '12:30am', 'onholdfordays', 'Hanging', '1:30am', 'plebes', 'YoureDoingItWrong', 'tree', '2390', 'foresight', 'Tahiti', 'Err', 'KEVOLT', 'SOZLDJ', '//t.co/NcrMqIBIWo', '2962', 'CLL', 'IMPORTANTFLIGHT', 'sample', 'chargers', 'lenses', '4606', 'scareair', 'call-centre', 'Whoooo', 'Hooooo', '25,367', 'pace', '152,202', 'for40', 'for4', 'Nashinmypants', 'quitting', 'cars', '1610', 'sounding', 'bitch-slapped', 'juliasinton948', '2424', 'DM-still', 'waiting.So', '11:10p', 'interesting-Agent', 'refers', 'auto-rebooked', 'AA3370', '2/25/15', 'AA1457', 'Staying', 'trial', 'WONDERFUL', 'crystal', 'Shows', 'Toby', 'Thanx', 'ArminRosen', 'BensonHenderson', 'BMI', '1457', 'reciprocate', 'dogbuckeye', 'txfd', '37', 'OnHoldForever', 'Suboptimal', 'incompetency', 'B16', '1261', 'TUS/DFW', 'w/cx', '9hr', 'centre', 'NA', 'oscar😄💝💝💝', 'TON', 'WillNeverFlyWithYou', '2386', 'LeslieWolfson', 'ltr', 'nlrphoto', 'dmd', 'ESPN_CoachMack', 'ANGRY', 'w/aa', 'conv', '1046', 'ticks', '1579', 'passengers-', 'yrs.', 'SOME', 'pigeon', 'warn', 'AA951', '1388', '5:15', '409', '0671', '😡😤😖😲😩', 'AA111', 'MDBEEI', 'McMullen', 'WhyAreYouYelling', '//t.co/v1RADYKEP2', 'doll', '😘😑', 'Virtual', '//t.co/Upaz1eF3Dl', 'ago…still', 'users', 'Email/text', '2010', 'ratchet', 'Watson', 'Kelsey', 'Jennings', 'GreyhoundBus', 'AA304', 'els', '1891', 'ow', 'queuing', 'quickest', 'ex-boyfriend', 'Note', 'maps', 'electronics', 'AA215', '//t.co/hcNN0wXQQr', 'mentions', 'gratitude', '🇺🇸✈️', '//t.co/J6icLV8DTs', 'LTALJX', 'goodthingscome', 'ti2469', 'shiz', 'barrier', 'racist', 'barcodes', '20.', 'whereisthelove', 'whybeAAFF', 'PERSON', 'DuaneNClark', 'AA-', 'sizer', 'apathetic', 'organized', 'breeze', '//t.co/uOARyQ98PU', 'Plse', '//t.co/CSddCCMvbD', 'equivalent', 'DIRT', 'SFO-JFK', 'legacy', '//t.co/6MBK79mdnW', 'programmers', 'instantly', 'avenue', '528', 'Pissed', 'jal', 'cathay', '1675', '4828', 'marshall', 'tracker', 'AA45', 'americanairsucks', 'hiremorepoeple', 'hints', 'w/nothing', 'WTW', 'assistance.', 'wait.about', '1per/hr', 'burden', '5350', 'kys', 'weve', 'oxgen', 'tank', 'Cincinnati', 'informing', 'aircraft/runways', 'today/tomorrow', 'hurry', 'combative', 'hury', 'aa977', 'MIA-CUR', '3D', '2350', 'americanview', '//t.co/Gt6umHbh43', '//t.co/nOPq5xIsbS', '90mins', 'Texarkana', 'shouldhavedriven', 'Dallas/Fort', '5320', 'psych', '2463', 'AA1401', '8:55pm', '959', 'yourphonesystemsucks', 'Shout-out', 'phl-dfw', 'angel', 'blessed', 'Adolfo', 'Garcia', 'Twiiter', 'VCP', 'hats', 'banana', 'undies', 'Mall', '//t.co/N7ExdbcRHg', 'vanessaannz', 'inclemental', '8:25', 'strtd', 'pummeled', 'slcairport', 'Pulled', 'On-hold', 'arpt', 'AA2450', 'Wat', 'activated', '750.', '1058', 'Final', 'Seeing', 'Circle', 'nosecuritylines', 'poorest', '//t.co/mF7rABGn8a', 'Alabama', 'thickens', 'AAALWAYSLate', 'dandy', '//t.co/FvlxIRh1F1', 'LookforwardtoflywithAA', 'aa223', '-it', 'nbr1', 'helper', 'MO3TVida', 'aged', 'internally', '2258', 'preferably', '😢😕😦', 'profiting', 'billions', 'hurting', 'covert', 'tactics', 'jeopardy', 'DAI_President', 'cncdld', '390', 'snuck', 'cookie', 'AA2402', 'spectacular.Fed', 'CineDrones', '//t.co/o3CjsVSsqF', 'carlw1980', '1512', 'N924AN', '//t.co/j0mhMkDiVl', 'bear', 'retains', 'Flight293', '382', 'Cstmr', 'ctr', '//t.co/uCvEU2hurZ', 'gross.The', 'Survey', '2470', 'cancld', 'discnct.Any', 'AA3195', 'ABI-DFW', 'En', 'AA1458', 'Goodbye', 'cheat', 'horribly', 'stray', 'praywinn', 'understaffing', 'slowdown', 'spectacular', 'LHRDFW', 'priceline', 'troubleshot', 'paranoid', 'jaynegelman', 'Blacklist', 'retrieved', '//t.co/NA5G5EAKPA', 'insisted', 'HeyMyNameIsSEAN', \"new'airplanes\", 'kconti44', 'Berlin', 'jameswester', 'James', 'w/flights', 'cjdjpdx', 'multinational', 'Unmoving', '//t.co/ASW6QwUf1Z', 'kaps12', '28hrs', 'plane😡', 'totallyconfused', '//t.co/dvSLtQZKmQ', 'AA919', 'freaks', 'Surreal', '901', 'Rio', 'RCM_Oficial', 'representing', 'CisnerosMedia', 'yourstoryhere', 'cyncyn661', '763s', 'DFW/ORD', 'watered', 'PatrichRuben', 'maximization', 'registers', 'dinosaurs', 'CNBC', 'BloombergRadio', '//t.co/HPgXYZRW8o', 'derek.austin', 'century21.ca', 'manuel_c', 'flight293', '745', '815', 'Flat', 'ezemanalyst', 'impersonal', 'impatient', 'skillful', 'Flightness', 'snafu', '//t.co/YPVPVdlTYs', 'deiced', 'untrue', 'cncld', '//t.co/QKkJdFObOS', 'brothaaaaaa', 'repaired', '740pm', 'sarahzou', 'translation', 'reinvest', \"'Cause\", 'FlightED', 'colossal', 'infringement', 'JimDayTV', 'HOME', 'Unannounced', '1228', '640', 'FingersCrossed', 'pleasegod', 'missmykids', '3198', 'AEX', 'g8', 'c17', 'Close', '1265', 'Sincerely', 'overflow', 'REM', 'Mess', 'ensued', 'Marcos', 'Concierge', 'Key', 'GRU', 'sorting', 'PHI', 'AA104', '2330', 'sleepless', 'worthy', 'useles', 'AA362', 'tomorrows', '293', 'allll', 'convenience', 'yuck', '16A', '1024', '2238', 'D6', 'A15', 'Hail', 'Joplin', 'JLN', 'AA363', 'ORD-LGA', 'temper', 'INSIDE', 'WeeklyCommuteOnAA', '//t.co/JQHg4jTm4w', 'sour', 'taste', '24hours', 'flight919', 'saveus', 'AA1691', 'hassles', 'PatheticCX', 'compares', 'aa106', 'shortstaffed', 'adress', 'spontaneously', 'overtime', 'bershawnjackson', 'D.Dean', '❤❤', 'deoderant', '//t.co/oM1vIEg74a', 'AA3181', 'french', 'Teco', 'teco', 'reclameaqui', 'TripAdvisor', '//t.co/auGJsCmoLu', 'Yousuck', 'sabotaging', 'lines-', 'Advan', 'Mem', '4491', 'unloads', 'badbusiness', 'Others', 'Supvrs', 'fruit', 'mistreatment', 'Austic', 'change/massive', 'layovers/', 'crackers/', 'H2O', '2oz', 'number.Phone', 'EGE', '356', '2934', 'repainted', 'AA1344', '2.23', '623/544', '2.24', 'dot', 'passengerbillofrights', '//t.co/GxvFumn3iZ', 'AA1657', '1019', 'D/FW', 'parameters', 'usable', 'Sharon', 'saviour', 'RTW', 'planner', 'spec', 'Iceday', 'gather', 'Flightled.ca', 'ThxU', 'ABCNews', 'MSNBC', '//t.co/OoEJ4d4JoP', '6:05', '6:55', 'sa_craig', 'hinted', 'abandonment', '12:13pm', 'PLATINUMS', 'stupidly', '1416', 'nothelpful', 'U.K.', 'badmgmt', 'aggravated', 'Dawn_Davis', 'Dawn', '😓😭', 'hospitals', 'Flight/change', 'hoops', '11.5', '12B', '41G', 'to/from', 'AA375', '02/23', 'cncled', 'arrangement', 'AA1224', 'INOP', '1702', 'dotnetnate', 'EXPs', 'SeguineJ', 'nevergettinghome', '2293', '1138', 'aw', 'mk', 'warrants', 'YeseniaHernandez', 'peculiar', 'FixYourStuff', 'complt', '295.Lav', 'pln', 'lnded', 'inedible', 'shrimp', '//t.co/Sotl8XQsrp', 'theydontanswer', 'SentieriMelinda', '//t.co/ypbkCiRBXu', 'pasta', 'tastes', 'consumption', 'Surely', 'hateful', 'spell', 'gobankrupt', '//t.co/aM9CuieWO4', 'AA953', 'usvi', '//t.co/DnDOepquKz', 'niece', 'site/complicated', 'ordering', '6:00am', '//t.co/BTTGmyN0A0', 'AA91', 'LHR-ORD', '3231DTW', 'LAG', 'skype…well', 'viracopos', '//t.co/3FheS0lPMU', 'travisamex', 'fuckoff', 'D4', 'helped-2', 'men', 'UA4753', 'AA3074', 'LGA.Sat', 'US1951+US874.Do', 'inventory', '3A➡️8C', 'D.', 'americanforlife', 'toledo', 'fiscal', '1613/2440', 'AA2416', '03.03', 'GUC', 'BAGs', '7403607771', 'gvn', 'Rented', '//t.co/nxQiJCoJNj', 'tcunningham10', 'columbus', 'Jacquelyn', '2251', 'tomo', '245', 'online=useless', 'stucked', 'AADelay', '2954', 'Junction', 'AmazingFlightCrew', 'aftr', 'bng', 'hstg', 'refsd', 'med', 'fnd', 'cnceld', 'downloaded', 'Notice', 'cop', 'fcuk', 'Shit', 'vacancies', '343', 'forever-anyone', 'Extra', 'Saver', '//t.co/YokkHHQcMP', 'karabuxthomps', 'dare', 'US/AA', 'renewed', '500-mile', 'PE', 'thnkx', 'bt', 'sux', '//t.co/oTTy5rYMzD', 'Somehow', '2312', 'worlds', 'macario2', 'cal', '8004337300', 'GolfWithWoody', 'Woody', 'pre-rookie', 'aa2227', 'miatoiah', 'RussellsWriting', 'Russ', 'options.', 'Slammed', 'DALLAS', 'Nail', 'coffin', 'Nicest', 'Chicago.Thanks', 'Deane', 'Norma', 'Sedholm', '✈️✈️✈️✈️✈️✈️✈️', 'Accurate', 'authoritative', 'stagnant', 'double/triple', 'METARs', 'orange', 'burbank', 'top-down', 'TheNateK', 'Dec.', 'Jan.', 'HEARD', 'Greatest', 'Luz', 'Calderon', 'king', 'struggle', '//t.co/hQdB5IRuVg', '2488', 'la', 'WA', '02/28/2015', '03/03/2015', 'securing', 'cheerUPDATES', '2401', '6:50am', 'MONDAY', '2586', 'FAT', '1359', 'helpAA', 'naomi_cooper', 'Form', 'BDinDallas', 'AA138', 'neglected', '✈️✌️', 'boofin', '7a', '//t.co/XPM98Igqjn', '_emmaclifford', 'attackingbabymomma', 'crazinessintherockies', '-in', 'ejacqui', 'russelneiss', 'HER', 'Basic', 'Guatemala', 'Canadians', 'ringing', 'Appleton', 'Eliza', 'AirTahitiNui', '//t.co/p7fSLuxEGW', 'sweetmel', '1320', 'evidence', 'ILS', 'CAexhibitions', 'incompetence/understaffing', 'compounding', 'tennetexan', 'marxsterbcow', 'AA3031so', 'ActingOutMgmnt', 'brewcrewfan8', 'emailing/calling/DMing', 'unavoidable', 'Understaffing', 'controllable', '5418', 'yvonneokaka', 'twitterhug', 'shesaidrun', 'messes', 'aadvantage', 'w/this', 'nthin', 'EVR', \"'Priority\", 'ohare', 'nat', 'hour.Flight', '//t.co/sDm2wvR3zr', 'Manuel', 'SAP-', '1504', '1102', 'disconnections', 'chewey', 'oatmeal', 'AA504', 'AA200', 'Entered', 'CST', '2:26', 'ahhhh', 'golden', 'tops', 'custy', 'PVR', 'ShannonBloom', 'Stone9956', 'duck', '//t.co/EIw2sYb8Fu', 'roberts', 's=1', 'stuffy', 'laguardia', 'louisville', 'ky', '296', 'hold-', 'phone-', 'Advice', 'arbitrarily', 'Weekend', 'Ky', 'retribution', 'Backwards', 'Dump', '3078', 'cxld/protection', 'PLS', 'amenities', 'function', 'NoCharge', '//t.co/dRW08djHAI', 'NYC-Buenos', 'Aires', '10PM', '3.30PM', 'jlhalldc', 'TilleyMonsta', '//t.co/4gr39s91Dl', 'delays👌', 'BlackBerry10'])"
      ]
     },
     "execution_count": 119,
     "metadata": {},
     "output_type": "execute_result"
    }
   ],
   "source": [
    "word_m1en.keys()"
   ]
  },
  {
   "cell_type": "code",
   "execution_count": 120,
   "metadata": {},
   "outputs": [],
   "source": [
    "def score(en, v1, v2):\n",
    "    a, b = en[v1], en[v2]\n",
    "    sc = a - b\n",
    "    \n",
    "    s = abs(sum(sc))\n",
    "    m = abs(np.mean(sc))\n",
    "    c = np.dot(a.T, b) / (np.linalg.norm(a.T) * np.linalg.norm(b))\n",
    "    a = np.arccos(c)\n",
    "    \n",
    "    print(\"Word 1: \", v1, \" Word 2: \", v2)\n",
    "    print(\"Sum score: \", s[0])\n",
    "    print(\"Mean score: \", m)\n",
    "    print(\"Cos score: \", c[0][0])\n",
    "    print(\"Angle score: \", a[0][0])"
   ]
  },
  {
   "cell_type": "code",
   "execution_count": 104,
   "metadata": {},
   "outputs": [
    {
     "name": "stdout",
     "output_type": "stream",
     "text": [
      "Word 1:  little  Word 2:  large\n",
      "Sum score:  0.37267090007662773\n",
      "Mean score:  0.0006607640072280633\n",
      "Cos score:  0.6774348578168652\n",
      "Angle score:  0.8265265414168432\n"
     ]
    }
   ],
   "source": [
    "score(word_m1en, 'little', 'large')"
   ]
  },
  {
   "cell_type": "code",
   "execution_count": 126,
   "metadata": {},
   "outputs": [
    {
     "name": "stdout",
     "output_type": "stream",
     "text": [
      "Word 1:  little  Word 2:  large\n",
      "Sum score:  2783.71572126995\n",
      "Mean score:  4.93566617246445\n",
      "Cos score:  0.6919659408556749\n",
      "Angle score:  0.8065876421563254\n"
     ]
    }
   ],
   "source": [
    "score(word_m1en, 'little', 'large')"
   ]
  },
  {
   "cell_type": "code",
   "execution_count": 106,
   "metadata": {},
   "outputs": [
    {
     "name": "stdout",
     "output_type": "stream",
     "text": [
      "Word 1:  big  Word 2:  large\n",
      "Sum score:  0.555789340287447\n",
      "Mean score:  0.0009854420927082393\n",
      "Cos score:  0.77832890291628\n",
      "Angle score:  0.6787965078577078\n"
     ]
    }
   ],
   "source": [
    "score(word_m1en, 'big', 'large') #success"
   ]
  },
  {
   "cell_type": "code",
   "execution_count": 123,
   "metadata": {},
   "outputs": [
    {
     "name": "stdout",
     "output_type": "stream",
     "text": [
      "Word 1:  big  Word 2:  large\n",
      "Sum score:  2758.003045534039\n",
      "Mean score:  4.890076321868863\n",
      "Cos score:  0.8076808744071436\n",
      "Angle score:  0.6305881307994896\n"
     ]
    }
   ],
   "source": [
    "score(word_m1en, 'big', 'large')"
   ]
  },
  {
   "cell_type": "code",
   "execution_count": 107,
   "metadata": {},
   "outputs": [
    {
     "name": "stdout",
     "output_type": "stream",
     "text": [
      "Word 1:  604  Word 2:  large\n",
      "Sum score:  0.6639841087162495\n",
      "Mean score:  0.0011772767885039883\n",
      "Cos score:  -0.08554845242118371\n",
      "Angle score:  1.6564494726376786\n"
     ]
    }
   ],
   "source": [
    "score(word_m1en, '604', 'large') #success"
   ]
  },
  {
   "cell_type": "code",
   "execution_count": 128,
   "metadata": {},
   "outputs": [
    {
     "name": "stdout",
     "output_type": "stream",
     "text": [
      "Word 1:  604  Word 2:  large\n",
      "Sum score:  107.46506804176852\n",
      "Mean score:  0.1905409007832775\n",
      "Cos score:  0.6545578404241481\n",
      "Angle score:  0.8571987124418162\n"
     ]
    }
   ],
   "source": [
    "score(word_m1en, '604', 'large') #success"
   ]
  },
  {
   "cell_type": "code",
   "execution_count": null,
   "metadata": {},
   "outputs": [],
   "source": []
  },
  {
   "cell_type": "code",
   "execution_count": null,
   "metadata": {},
   "outputs": [],
   "source": []
  },
  {
   "cell_type": "code",
   "execution_count": 80,
   "metadata": {},
   "outputs": [],
   "source": [
    "def topsim(en, term, top=10):\n",
    "    a = en[term]\n",
    "    fin = []\n",
    "    \n",
    "    # calculating all the similarities\n",
    "    for i in en.keys():\n",
    "        if i == term:\n",
    "            continue\n",
    "        b = en[i]\n",
    "        cosine = np.dot(a.T, b) / (np.linalg.norm(a).T * np.linalg.norm(b))\n",
    "        angle = np.arccos(cosine[0][0]) * 180 / 3.14\n",
    "        tup = (i, angle)\n",
    "        fin.append(tup)\n",
    "        \n",
    "    # sorting angles in ascending\n",
    "    for i in range(len(fin)):\n",
    "        for j in range(i, len(fin)):\n",
    "            if fin[i][1] > fin[j][1]:\n",
    "                temp = fin[i]\n",
    "                fin[i] = fin[j]\n",
    "                fin[j] = temp\n",
    "                \n",
    "    for i in range(top):\n",
    "        print(i+1, \" : \", fin[i])\n",
    "                \n",
    "    #return fin"
   ]
  },
  {
   "cell_type": "code",
   "execution_count": 48,
   "metadata": {},
   "outputs": [
    {
     "data": {
      "text/plain": [
       "(0, 30, 45, 60, 90)"
      ]
     },
     "execution_count": 48,
     "metadata": {},
     "output_type": "execute_result"
    }
   ],
   "source": [
    "0, 30, 45, 60, 90"
   ]
  },
  {
   "cell_type": "code",
   "execution_count": 90,
   "metadata": {},
   "outputs": [
    {
     "name": "stdout",
     "output_type": "stream",
     "text": [
      "Cosine:  [0.54030231 1.         0.54030231]\n",
      "Inverse Cosine (rad):  [0.         1.57079633 3.14159265]\n",
      "Inverse Cosine (deg):  [  0.          90.04564931 180.09129861]\n",
      "Inverse Cosine (r90):  [-9.00000000e+01  4.56493067e-02  9.00912986e+01]\n"
     ]
    }
   ],
   "source": [
    "print(\"Cosine: \", np.cos([1, 0, -1]))\n",
    "print(\"Inverse Cosine (rad): \", np.arccos([1, 0, -1]))\n",
    "print(\"Inverse Cosine (deg): \", (np.arccos([1, 0, -1]) / 3.14) * 180)\n",
    "print(\"Inverse Cosine (r90): \", ((np.arccos([1, 0, -1]) / 3.14) * 180) - 90)"
   ]
  },
  {
   "cell_type": "code",
   "execution_count": 44,
   "metadata": {},
   "outputs": [
    {
     "data": {
      "text/plain": [
       "(1, 0.8660254037844386, 0.7071067811865475, 0.5, 0)"
      ]
     },
     "execution_count": 44,
     "metadata": {},
     "output_type": "execute_result"
    }
   ],
   "source": [
    "1, np.sqrt(3)/2, 1/np.sqrt(2), 1/2, 0"
   ]
  },
  {
   "cell_type": "code",
   "execution_count": 86,
   "metadata": {
    "scrolled": true
   },
   "outputs": [
    {
     "name": "stdout",
     "output_type": "stream",
     "text": [
      "1  :  ('response', 21.18647678190303)\n",
      "2  :  ('Glad', 21.41188035584553)\n",
      "3  :  ('8-10', 21.613715915968918)\n",
      "4  :  ('Alright', 21.747497971117443)\n",
      "5  :  ('769', 22.063084796226725)\n",
      "6  :  ('who', 22.377970721696343)\n",
      "7  :  ('forward', 22.799899535744967)\n",
      "8  :  ('professionalism', 22.837924006193997)\n",
      "9  :  ('are', 22.925725919215232)\n",
      "10  :  ('two', 23.566804533328526)\n",
      "11  :  ('http', 23.88266189770861)\n",
      "12  :  ('sit', 24.12279907649079)\n",
      "13  :  ('last', 24.34712938564421)\n",
      "14  :  ('due', 24.445023454689473)\n",
      "15  :  ('seriously', 24.58044502383968)\n",
      "16  :  ('RECEIPT', 27.79043764861043)\n",
      "17  :  ('string', 28.596283269066983)\n",
      "18  :  ('adult', 28.85126315736019)\n",
      "19  :  ('beat', 28.871507364832976)\n",
      "20  :  ('allowance', 28.9000899788949)\n",
      "21  :  ('Jfk', 29.093596491662986)\n",
      "22  :  ('wonderful', 29.19175737153598)\n",
      "23  :  ('barbados', 29.262054400592966)\n",
      "24  :  ('punished', 29.28219298830232)\n",
      "25  :  ('already', 29.282578899615594)\n",
      "26  :  ('TGIF', 29.355495482884727)\n",
      "27  :  ('11/13/2012', 29.365950853626355)\n",
      "28  :  ('meal', 29.405769713906835)\n",
      "29  :  ('Howdy', 29.60214707163398)\n",
      "30  :  ('bot', 29.614313998935515)\n",
      "31  :  ('coincidence', 29.679113201552312)\n",
      "32  :  ('nabisco', 29.70908507773412)\n",
      "33  :  ('fail', 29.84766302511851)\n",
      "34  :  ('tail', 29.92915223843657)\n",
      "35  :  ('3336', 29.93889614529747)\n",
      "36  :  ('Carrieunderwood', 30.12609350799536)\n",
      "37  :  ('//t.co/O4ZR27Qpcr', 30.137078754952796)\n",
      "38  :  ('UA1568', 30.262350049477554)\n",
      "39  :  ('bold', 30.33799690914029)\n",
      "40  :  ('AnyHelp', 30.423979583539698)\n",
      "41  :  ('OFF', 30.553915272140152)\n",
      "42  :  ('efforts', 30.673786654022905)\n",
      "43  :  ('usairwayssucks', 30.9036914150489)\n",
      "44  :  ('AUS', 30.949244701838676)\n",
      "45  :  ('FLL-', 31.00401966475549)\n",
      "46  :  ('.800', 31.06787661080331)\n",
      "47  :  ('tickets', 31.099228255590866)\n",
      "48  :  ('stylesheets', 31.35448998826755)\n",
      "49  :  ('innovation', 31.65627828837303)\n",
      "50  :  ('no', 31.80384938927738)\n",
      "51  :  ('PDX', 31.80667800023081)\n",
      "52  :  ('selects', 31.90352560010867)\n",
      "53  :  ('match', 32.16244928456917)\n",
      "54  :  ('birthdate', 32.21348125998802)\n",
      "55  :  ('emailed', 32.28932858976761)\n",
      "56  :  ('Then', 32.35906316084092)\n",
      "57  :  ('ItsAaronChriz', 32.39421995208636)\n",
      "58  :  ('irritated', 32.425668904290866)\n",
      "59  :  ('logic', 32.56688820603347)\n",
      "60  :  ('weeks', 32.57498293699423)\n",
      "61  :  ('UA1641', 32.64351382452834)\n",
      "62  :  ('volunteers', 32.697802698885)\n",
      "63  :  ('security', 32.78717005176749)\n",
      "64  :  ('UA1260', 32.90486968856886)\n",
      "65  :  ('relieved', 33.11668236382626)\n",
      "66  :  ('looking', 33.15660562257218)\n",
      "67  :  ('travelled', 33.17946472383375)\n",
      "68  :  ('transfer', 33.38134155107135)\n",
      "69  :  ('humor', 33.4022432461477)\n",
      "70  :  ('pretty', 33.471355275940894)\n",
      "71  :  ('Is', 33.47218281232392)\n",
      "72  :  ('Venezuela', 33.47535714793608)\n",
      "73  :  ('class', 33.48016654349528)\n",
      "74  :  ('Thnx', 33.50028556013907)\n",
      "75  :  ('americanair', 33.530866798442375)\n",
      "76  :  ('uncomfortable', 33.53515579258057)\n",
      "77  :  ('SoundOfMusic', 33.59260742175131)\n",
      "78  :  ('de-icing', 33.59849303283278)\n",
      "79  :  ('where', 33.60698313508545)\n",
      "80  :  ('All', 33.61154632353084)\n",
      "81  :  ('overheads', 33.638832988047)\n",
      "82  :  ('find', 33.67216620314466)\n",
      "83  :  ('GreatService', 33.6876895288267)\n",
      "84  :  ('Just', 33.72867626246686)\n",
      "85  :  ('why', 33.73417471007891)\n",
      "86  :  ('be', 33.742223565345654)\n",
      "87  :  ('CHECKIN', 33.812052414637236)\n",
      "88  :  ('ideas', 33.83052011144808)\n",
      "89  :  ('fabulous', 33.87618678664199)\n",
      "90  :  ('GATE', 33.91386349634937)\n",
      "91  :  ('time', 33.92539462156609)\n",
      "92  :  ('Miriam', 33.93364321958185)\n",
      "93  :  ('wut', 33.95211670809836)\n",
      "94  :  ('10A', 33.97279467168793)\n",
      "95  :  ('careyon', 33.97403530881077)\n",
      "96  :  ('delightful', 34.026638316095585)\n",
      "97  :  ('versions', 34.06204365503402)\n",
      "98  :  ('intuitlife', 34.063301132731254)\n",
      "99  :  ('Munich', 34.07692305291131)\n",
      "100  :  ('travel', 34.08822574813462)\n"
     ]
    }
   ],
   "source": [
    "topsim(word_m1en, 'large', 100)"
   ]
  },
  {
   "cell_type": "code",
   "execution_count": 122,
   "metadata": {
    "scrolled": true
   },
   "outputs": [
    {
     "name": "stdout",
     "output_type": "stream",
     "text": [
      "1  :  ('professionalism', 8.714528070451346)\n",
      "2  :  ('response', 12.730449833812607)\n",
      "3  :  ('innovation', 13.676574675514567)\n",
      "4  :  ('29DaysToGo', 13.718539929206841)\n",
      "5  :  ('//t.co/Cm4roIypc2', 14.022822644731779)\n",
      "6  :  ('posted', 14.578178459267352)\n",
      "7  :  ('769', 15.086901131294828)\n",
      "8  :  ('who', 15.094522794264034)\n",
      "9  :  ('plane', 15.142683135881411)\n",
      "10  :  ('travelled', 15.633736286839468)\n",
      "11  :  ('Glad', 15.788060711873722)\n",
      "12  :  ('two', 16.1441724790982)\n",
      "13  :  ('TGIF', 16.2640783171232)\n",
      "14  :  ('Alright', 16.30844697287405)\n",
      "15  :  ('pretty', 16.30925128181247)\n",
      "16  :  ('from', 16.331799686353822)\n",
      "17  :  ('delightful', 16.407885600484157)\n",
      "18  :  ('myVXexperience', 16.47478606723989)\n",
      "19  :  ('are', 16.497028694137484)\n",
      "20  :  ('250k', 16.582422923856033)\n",
      "21  :  ('8-10', 16.83771928689472)\n",
      "22  :  ('forward', 16.922729774119485)\n",
      "23  :  ('http', 16.995051160265028)\n",
      "24  :  ('JWA', 17.08010291725296)\n",
      "25  :  ('choice', 17.115109117167993)\n",
      "26  :  ('sit', 17.210534215683026)\n",
      "27  :  ('reativation', 17.352521060927653)\n",
      "28  :  ('PLEASE', 17.45600398261875)\n",
      "29  :  ('due', 17.458778815348158)\n",
      "30  :  ('weeks', 17.60809480872635)\n",
      "31  :  ('30timesenough', 17.788562819699923)\n",
      "32  :  ('no', 17.957768260242556)\n",
      "33  :  ('Just', 18.000587451465954)\n",
      "34  :  ('class', 18.04479951965292)\n",
      "35  :  ('666', 18.15330391750642)\n",
      "36  :  ('25min', 18.198423731543325)\n",
      "37  :  ('versions', 18.202549536149693)\n",
      "38  :  ('GreatService', 18.24659161147957)\n",
      "39  :  ('last', 18.676914618859012)\n",
      "40  :  ('PRof_Solutions', 18.698778716894065)\n",
      "41  :  ('OFF', 18.748370663772395)\n",
      "42  :  ('seriously', 18.8070358654815)\n",
      "43  :  ('usairwayssucks', 19.07847955333312)\n",
      "44  :  ('humor', 19.094746873512772)\n",
      "45  :  ('where', 19.096597825580307)\n",
      "46  :  ('there', 19.19352703063607)\n",
      "47  :  ('patiencerunningout', 19.353321686349126)\n",
      "48  :  ('All', 19.378319227448777)\n",
      "49  :  ('AnyHelp', 19.57253040142403)\n",
      "50  :  ('time', 19.648105458828898)\n",
      "51  :  ('transfer', 19.72856250765644)\n",
      "52  :  ('bag', 19.92708507456433)\n",
      "53  :  ('Naval', 19.972169188742637)\n",
      "54  :  ('header.elevateUser.numOfPointsAvailable', 20.00081374606834)\n",
      "55  :  ('Venezuela', 20.274415291266312)\n",
      "56  :  ('shuttles', 20.313340769127233)\n",
      "57  :  ('AAL', 20.34844617792395)\n",
      "58  :  ('americanair', 20.34991208038422)\n",
      "59  :  ('but', 20.369205051611218)\n",
      "60  :  ('DenverAirport', 20.576711741019178)\n",
      "61  :  ('beat', 20.5961186259161)\n",
      "62  :  ('find', 20.61229027849593)\n",
      "63  :  ('could', 20.642040727026988)\n",
      "64  :  ('string', 20.64854874777849)\n",
      "65  :  ('View', 20.651181693243895)\n",
      "66  :  ('RECEIPT', 20.67320972151675)\n",
      "67  :  ('AnnetteNaif', 20.695817944334912)\n",
      "68  :  ('Then', 20.718231290992726)\n",
      "69  :  ('nite', 20.762944112783035)\n",
      "70  :  ('soreback', 20.87799737791669)\n",
      "71  :  ('already', 20.88594800712663)\n",
      "72  :  ('hipster', 21.006251318177426)\n",
      "73  :  ('gave', 21.07188136326072)\n",
      "74  :  ('TYS', 21.09385508793383)\n",
      "75  :  ('Pacificbiznews', 21.13475992474002)\n",
      "76  :  ('Howdy', 21.216754177275117)\n",
      "77  :  ('careyon', 21.26175455422592)\n",
      "78  :  ('.800', 21.26348560076695)\n",
      "79  :  ('MattThomasNews', 21.268936554871104)\n",
      "80  :  ('AVP', 21.2699563960139)\n",
      "81  :  ('//t.co/Yqhk8LJaBN', 21.289252051076197)\n",
      "82  :  ('she', 21.312897029605264)\n",
      "83  :  ('adult', 21.317522346183782)\n",
      "84  :  ('page', 21.33602075199242)\n",
      "85  :  ('Starryeyes_Dev_', 21.357532611064766)\n",
      "86  :  ('OVERPRICED', 21.377447534478616)\n",
      "87  :  ('Jfk', 21.38548484823973)\n",
      "88  :  ('fail', 21.392921138029653)\n",
      "89  :  ('noair', 21.395420034394196)\n",
      "90  :  ('//t.co/pX8hQOKS3R', 21.395859038487355)\n",
      "91  :  ('bafore', 21.45278474532247)\n",
      "92  :  ('biz', 21.574030896593484)\n",
      "93  :  ('submits', 21.6332607635163)\n",
      "94  :  ('seating', 21.665169199311833)\n",
      "95  :  ('dance', 21.686485937008783)\n",
      "96  :  ('ride', 21.755275849164722)\n",
      "97  :  ('campus', 21.87311372394611)\n",
      "98  :  ('ACU', 21.878042429072686)\n",
      "99  :  ('tricks', 21.92955366698173)\n",
      "100  :  ('mexico', 21.957748092468854)\n"
     ]
    }
   ],
   "source": [
    "topsim(word_m1en, 'large', 100)"
   ]
  },
  {
   "cell_type": "code",
   "execution_count": 87,
   "metadata": {
    "scrolled": true
   },
   "outputs": [
    {
     "name": "stdout",
     "output_type": "stream",
     "text": [
      "1  :  ('among', 25.876426468109734)\n",
      "2  :  ('person', 26.103593015152637)\n",
      "3  :  ('TY', 26.466451003352308)\n",
      "4  :  ('11PM', 26.820900775724358)\n",
      "5  :  ('seriously', 27.029914507752196)\n",
      "6  :  ('hours', 27.45954808753277)\n",
      "7  :  ('Who', 27.607668154792613)\n",
      "8  :  ('sit', 27.625774850443893)\n",
      "9  :  ('floors', 27.839471340111)\n",
      "10  :  ('VA', 28.267012872259254)\n",
      "11  :  ('intelligence', 28.553971307874026)\n",
      "12  :  ('and', 30.496167458729676)\n",
      "13  :  ('the', 30.908863668411502)\n",
      "14  :  ('guests', 31.55303480467763)\n",
      "15  :  ('recourse', 31.695899566488855)\n",
      "16  :  ('More', 33.4170123733402)\n",
      "17  :  ('folks', 33.904773315849134)\n",
      "18  :  ('transfer', 34.166739277501556)\n",
      "19  :  ('guy', 34.25058526881314)\n",
      "20  :  ('Tnx', 34.25791937428673)\n",
      "21  :  ('4:36', 34.445699534286604)\n",
      "22  :  ('myVXexperience', 34.48279366575079)\n",
      "23  :  ('weeks', 34.577323088691834)\n",
      "24  :  ('exposed', 34.70674508742982)\n",
      "25  :  ('pretty', 34.70677902226536)\n",
      "26  :  ('header.elevateUser.numOfPointsAvailable', 34.72208787966176)\n",
      "27  :  ('support', 34.88872141585408)\n",
      "28  :  ('operations', 34.902709254263755)\n",
      "29  :  ('travelled', 35.02447493604619)\n",
      "30  :  ('meet', 35.358362195093385)\n",
      "31  :  ('Special', 35.37365326139782)\n",
      "32  :  ('honour', 35.42895242262483)\n",
      "33  :  ('FU', 35.435987582979024)\n",
      "34  :  ('earlybird', 35.44073843564633)\n",
      "35  :  ('abbreve', 35.488959502896535)\n",
      "36  :  ('versions', 35.49176688909549)\n",
      "37  :  ('scotthroth', 35.572641036830625)\n",
      "38  :  ('time', 35.593529061854596)\n",
      "39  :  ('CXL', 35.632305891935395)\n",
      "40  :  ('greatcustomerservice', 35.654503064561965)\n",
      "41  :  ('certificate', 35.69455197934108)\n",
      "42  :  ('choice', 35.696090979917926)\n",
      "43  :  ('americanair', 35.7177020326813)\n",
      "44  :  ('Already', 35.72550573310982)\n",
      "45  :  ('research', 35.77155620203117)\n",
      "46  :  ('humor', 35.94792901963803)\n",
      "47  :  ('large', 36.04378205033992)\n",
      "48  :  ('MLI-', 36.147435703015994)\n",
      "49  :  ('posted', 36.308103930346256)\n",
      "50  :  ('8th', 36.446290020216935)\n",
      "51  :  ('class', 36.55174780868735)\n",
      "52  :  ('All', 36.568131799149185)\n",
      "53  :  ('one', 36.69130961190663)\n",
      "54  :  ('plane', 36.792827214761175)\n",
      "55  :  ('3745', 36.80201226912201)\n",
      "56  :  ('lives', 36.85234786582255)\n",
      "57  :  ('Call', 36.99722533492091)\n",
      "58  :  ('//t.co/Cm4roIypc2', 37.18832137070956)\n",
      "59  :  ('1/1', 37.242446332765965)\n",
      "60  :  ('5202', 37.34284393085992)\n",
      "61  :  ('ABQ', 37.4303877382078)\n",
      "62  :  ('PLEASE', 37.49043925645294)\n",
      "63  :  ('delightful', 37.59152629504951)\n",
      "64  :  ('irony', 37.63321775245782)\n",
      "65  :  ('1+', 37.66579985737254)\n",
      "66  :  ('some', 37.668189866300864)\n",
      "67  :  ('Irritated', 38.00903360180037)\n",
      "68  :  ('provide', 38.01320692763843)\n",
      "69  :  ('sky', 38.15468435262347)\n",
      "70  :  ('LOVE', 38.71296164715445)\n",
      "71  :  ('caring', 38.752701984094855)\n",
      "72  :  ('Plenty', 38.94952181803709)\n",
      "73  :  ('container', 39.18233058254697)\n",
      "74  :  ('nite', 39.20515519697275)\n",
      "75  :  ('Starryeyes_Dev_', 39.30852052409793)\n",
      "76  :  ('8477733', 39.38790721148458)\n",
      "77  :  ('As', 39.46951058055188)\n",
      "78  :  ('damper', 39.504534419639185)\n",
      "79  :  ('Finals', 39.564253309267926)\n",
      "80  :  ('Maine', 39.57164039119855)\n",
      "81  :  ('Plane', 39.60801005604342)\n",
      "82  :  ('JenniferDawnPro', 39.671874159246826)\n",
      "83  :  ('8-10', 39.70954212018369)\n",
      "84  :  ('SD', 39.74302826253027)\n",
      "85  :  ('luxurious', 39.762834599687515)\n",
      "86  :  ('dance', 39.77634082630478)\n",
      "87  :  ('Among', 39.78590188192698)\n",
      "88  :  ('Men', 39.87658144303804)\n",
      "89  :  ('toddlers', 39.87698673334442)\n",
      "90  :  ('6533', 39.94526380181787)\n",
      "91  :  ('bafore', 39.95773022844818)\n",
      "92  :  ('woven', 39.970226010670196)\n",
      "93  :  ('UA1745', 39.9862361975718)\n",
      "94  :  ('BBBNE_SD_KS_IA', 40.07452546256575)\n",
      "95  :  ('104', 40.12775977694846)\n",
      "96  :  ('HelacoHLC', 40.130434487151064)\n",
      "97  :  (\"cx'ed\", 40.13251823869193)\n",
      "98  :  ('pins', 40.14699305453883)\n",
      "99  :  ('checks', 40.17564931804286)\n",
      "100  :  ('TMadCLE', 40.21548335102285)\n"
     ]
    }
   ],
   "source": [
    "topsim(word_m1en, 'big', 100)"
   ]
  },
  {
   "cell_type": "code",
   "execution_count": 88,
   "metadata": {
    "scrolled": true
   },
   "outputs": [
    {
     "name": "stdout",
     "output_type": "stream",
     "text": [
      "1  :  ('destinations', 23.232779990515798)\n",
      "2  :  ('ottawa', 23.48683912790114)\n",
      "3  :  ('sld', 23.573379027086084)\n",
      "4  :  ('embossed', 23.574211678553887)\n",
      "5  :  ('payments', 23.604716287859993)\n",
      "6  :  ('complain', 23.679458850066585)\n",
      "7  :  ('carry', 24.05601247447221)\n",
      "8  :  ('Left', 24.51753875242772)\n",
      "9  :  ('representative', 24.533192193639614)\n",
      "10  :  ('worstcustomerserviceever', 24.563473838860855)\n",
      "11  :  ('job', 26.450389625884416)\n",
      "12  :  ('purchase', 26.55406886454398)\n",
      "13  :  ('When', 26.636089903580668)\n",
      "14  :  ('ws', 26.899664943472754)\n",
      "15  :  ('looks', 27.01183015820531)\n",
      "16  :  ('meat', 30.84428763445798)\n",
      "17  :  ('A319', 30.91062051662797)\n",
      "18  :  ('frequency', 30.934936707169577)\n",
      "19  :  ('goal', 30.98028383776987)\n",
      "20  :  ('matters', 31.02667392781554)\n",
      "21  :  ('tiday', 31.150333468498353)\n",
      "22  :  ('FtMyers', 31.15989475298963)\n",
      "23  :  ('Spread', 31.17437823648189)\n",
      "24  :  ('tweet', 31.207808068002723)\n",
      "25  :  ('pls', 31.332755493475187)\n",
      "26  :  ('ton', 31.347922146477195)\n",
      "27  :  ('knack', 31.388691035545634)\n",
      "28  :  ('nelsjeff', 31.483745249530184)\n",
      "29  :  ('shitty', 31.575069444486346)\n",
      "30  :  ('visa', 31.68603152111767)\n",
      "31  :  ('XM', 31.82621697138572)\n",
      "32  :  ('//t.co/JK7qmdfqgf', 31.856957462633797)\n",
      "33  :  ('family', 31.9254202377246)\n",
      "34  :  ('Provides', 31.996924158355778)\n",
      "35  :  ('Try', 32.04551197185374)\n",
      "36  :  ('public', 32.04749418587877)\n",
      "37  :  ('Joanne', 32.06403474053582)\n",
      "38  :  ('thrilled', 32.08107152411961)\n",
      "39  :  ('//t.co/2b4bDTldX2', 32.103885054926025)\n",
      "40  :  ('Valet', 32.13765406441222)\n",
      "41  :  ('Replied', 32.17449903030049)\n",
      "42  :  ('Hoo', 32.283734937642635)\n",
      "43  :  ('ending', 32.306756002911804)\n",
      "44  :  ('SFO-', 32.32956780340421)\n",
      "45  :  ('badges', 32.34295325610217)\n",
      "46  :  ('blazer', 32.39013736488401)\n",
      "47  :  ('Bleh', 32.41969293198746)\n",
      "48  :  ('rental', 32.430895425804124)\n",
      "49  :  ('LukeWyckoff', 32.43289919303014)\n",
      "50  :  ('iusedtoloveu', 32.49710760704174)\n",
      "51  :  ('2284', 32.59357129942391)\n",
      "52  :  ('solution', 32.77230394043882)\n",
      "53  :  ('standards', 32.79245800451733)\n",
      "54  :  ('DUH', 32.895365713211056)\n",
      "55  :  ('antonio', 32.972250239315734)\n",
      "56  :  ('Visa', 33.13879388755934)\n",
      "57  :  ('article', 33.39757782227168)\n",
      "58  :  ('WaltDisneyWorld', 35.094625708737134)\n",
      "59  :  ('👍👍✈️✈️💗', 35.323179556621305)\n",
      "60  :  ('portfolio', 35.48148896471333)\n",
      "61  :  ('twitter-literate', 35.52232424830736)\n",
      "62  :  ('props', 35.682353613254875)\n",
      "63  :  ('get2', 35.69723255318999)\n",
      "64  :  ('displays', 35.85240007217848)\n",
      "65  :  (\"'unwind\", 35.97405983901004)\n",
      "66  :  ('quicker', 35.994563881446474)\n",
      "67  :  ('here', 36.01594153857337)\n",
      "68  :  ('28APR', 36.087939012443464)\n",
      "69  :  ('Diego', 36.09376997455067)\n",
      "70  :  ('submitted', 36.11383233700399)\n",
      "71  :  ('earphone', 36.118978139608465)\n",
      "72  :  ('//t.co/XvBjCzlMDA', 36.12614604388465)\n",
      "73  :  ('boost', 36.15347601284626)\n",
      "74  :  ('//t.co/x5ZQssJtRB', 36.173620861695376)\n",
      "75  :  ('2d', 36.192650780236576)\n",
      "76  :  ('Till11', 36.21494677057695)\n",
      "77  :  ('UA230', 36.23603394377001)\n",
      "78  :  ('half', 36.257059364023185)\n",
      "79  :  ('Could', 36.30009040357139)\n",
      "80  :  ('D.C.', 36.32440960128795)\n",
      "81  :  ('deciding', 36.3244734229945)\n",
      "82  :  ('back', 36.339308833547896)\n",
      "83  :  ('drinker', 36.39331092973786)\n",
      "84  :  ('Flight/chng', 36.39758134141138)\n",
      "85  :  ('blocked', 36.45493561642458)\n",
      "86  :  ('bins', 36.49640832143076)\n",
      "87  :  ('SheRocks', 36.509791135383864)\n",
      "88  :  ('CS', 36.510037027948755)\n",
      "89  :  ('six', 36.5168889456394)\n",
      "90  :  ('Like', 36.520152406000356)\n",
      "91  :  ('1114', 36.53634667205614)\n",
      "92  :  ('rates', 36.575690275963844)\n",
      "93  :  ('1503', 36.580221889462294)\n",
      "94  :  ('LEAST', 36.593857031568646)\n",
      "95  :  ('Portland', 36.599827640061875)\n",
      "96  :  ('aircrft', 36.60051103909068)\n",
      "97  :  ('tailwind', 36.6204310914257)\n",
      "98  :  ('video', 36.638922275888795)\n",
      "99  :  ('THREE', 36.65133993141673)\n",
      "100  :  ('substandard', 36.67094233973441)\n"
     ]
    }
   ],
   "source": [
    "topsim(word_m1en, 'small', 100)"
   ]
  },
  {
   "cell_type": "code",
   "execution_count": 89,
   "metadata": {
    "scrolled": true
   },
   "outputs": [
    {
     "name": "stdout",
     "output_type": "stream",
     "text": [
      "1  :  ('started', 34.034681392643265)\n",
      "2  :  ('cause', 34.20496784493173)\n",
      "3  :  ('2/23', 35.38355504396434)\n",
      "4  :  ('erased', 35.707253503672064)\n",
      "5  :  ('bad', 35.870882702529045)\n",
      "6  :  ('week', 35.883222653474114)\n",
      "7  :  ('Booking', 35.97804277056959)\n",
      "8  :  ('and', 36.15997155423727)\n",
      "9  :  ('recourse', 36.328530238125225)\n",
      "10  :  ('playing', 36.802227543208346)\n",
      "11  :  ('stranded', 36.94521907411822)\n",
      "12  :  ('40', 37.11072906300338)\n",
      "13  :  ('ew', 37.67816995426513)\n",
      "14  :  ('economy', 42.495067039441196)\n",
      "15  :  ('sign', 42.618383628888694)\n",
      "16  :  ('make/change', 43.02276399499228)\n",
      "17  :  ('//t.co/pXEXIlSjBs', 43.23419135524006)\n",
      "18  :  ('program', 43.37990056980343)\n",
      "19  :  ('seated', 43.547756783091494)\n",
      "20  :  ('sprinted', 43.81789108266923)\n",
      "21  :  ('book', 43.94824881805721)\n",
      "22  :  ('scolding', 44.12733707339193)\n",
      "23  :  ('PSP', 44.144932841978026)\n",
      "24  :  ('touched', 44.14842575639582)\n",
      "25  :  ('uncontrollably', 44.174710544728036)\n",
      "26  :  ('teens', 44.230627656748)\n",
      "27  :  ('received', 44.28473587099596)\n",
      "28  :  ('overhead', 44.29150176284766)\n",
      "29  :  ('Visit', 44.63754481688522)\n",
      "30  :  ('death', 44.662024110190465)\n",
      "31  :  ('PanAm', 44.74791035029632)\n",
      "32  :  ('such', 44.75737023858483)\n",
      "33  :  ('of', 44.76477470768122)\n",
      "34  :  ('fully', 44.80858822842986)\n",
      "35  :  ('help.Pls', 44.82844070654873)\n",
      "36  :  ('Volkswagen', 44.88295999614387)\n",
      "37  :  ('DCA-EWR', 44.88999666888401)\n",
      "38  :  ('yes', 44.95964793841116)\n",
      "39  :  ('EWR-MCO', 45.00782675247404)\n",
      "40  :  ('roadwarrior', 45.078829498565725)\n",
      "41  :  ('worthless', 45.13066103704495)\n",
      "42  :  ('which', 45.19148413821491)\n",
      "43  :  ('MC', 45.20752978936463)\n",
      "44  :  ('consider', 45.23964576196556)\n",
      "45  :  ('seat', 45.26495652261696)\n",
      "46  :  ('gets', 45.35142866129725)\n",
      "47  :  ('Oscars2015', 45.37762969806274)\n",
      "48  :  ('big', 45.41304947191498)\n",
      "49  :  ('SAME', 45.47143961061855)\n",
      "50  :  ('Are', 45.48603798876514)\n",
      "51  :  ('👏👏👏👏', 45.538479606443204)\n",
      "52  :  ('7PM', 45.55209126171723)\n",
      "53  :  ('Seat', 45.69538251912465)\n",
      "54  :  ('flying', 45.70215819347182)\n",
      "55  :  ('tears', 45.74222784768645)\n",
      "56  :  ('injured', 45.74723257270056)\n",
      "57  :  ('Problems', 45.75005313958484)\n",
      "58  :  ('thing', 45.7808761599848)\n",
      "59  :  ('operation', 45.80339032626081)\n",
      "60  :  ('could', 45.80633850638705)\n",
      "61  :  ('reimburse', 46.02112818415766)\n",
      "62  :  ('MegZezzo', 46.06988315955165)\n",
      "63  :  ('about', 46.09900816047581)\n",
      "64  :  ('told', 46.101103950250426)\n",
      "65  :  ('1am', 46.19553503735552)\n",
      "66  :  ('amazingly', 46.2436470398382)\n",
      "67  :  ('only', 46.2515831437859)\n",
      "68  :  ('parents', 46.43380676892954)\n",
      "69  :  ('added', 46.43963790676941)\n",
      "70  :  ('DOT', 46.517539215920486)\n",
      "71  :  ('undermines', 46.610006816911984)\n",
      "72  :  ('JFK', 46.612370319992344)\n",
      "73  :  ('dirty', 46.68227189032811)\n",
      "74  :  ('discourteous', 46.725496153943226)\n",
      "75  :  ('connected', 46.887655348008764)\n",
      "76  :  ('w/inclement', 46.893405924026005)\n",
      "77  :  ('//t.co/hy0VrfhjHt', 47.05086112827443)\n",
      "78  :  ('talk', 47.11334482913111)\n",
      "79  :  ('tempLate', 47.172764232459855)\n",
      "80  :  ('tables', 47.18091362634156)\n",
      "81  :  ('7th', 47.21864871256927)\n",
      "82  :  ('landing', 47.30067423551166)\n",
      "83  :  ('//t.co/B4xhiRuGzV', 47.35305680428743)\n",
      "84  :  ('event', 47.4102302538044)\n",
      "85  :  ('correct', 47.446390335306866)\n",
      "86  :  ('claim', 47.55159509750782)\n",
      "87  :  (\"''\", 47.60086918490852)\n",
      "88  :  ('appreciates', 47.62923352866359)\n",
      "89  :  ('tonite', 47.703043195823255)\n",
      "90  :  ('50hrs', 47.77799350594159)\n",
      "91  :  ('ever', 47.91037237369531)\n",
      "92  :  ('//t.co/etfjqIwUvt', 47.983363620957405)\n",
      "93  :  ('70oz', 48.1701834174642)\n",
      "94  :  ('59/way', 48.18929311190003)\n",
      "95  :  ('GUYS', 48.19450402951089)\n",
      "96  :  ('actual', 48.29061944042788)\n",
      "97  :  ('incredible', 48.36842083792858)\n",
      "98  :  ('Flawed', 48.384917255404105)\n",
      "99  :  ('investigated—my', 48.448990812827034)\n",
      "100  :  ('CheerTymeDad', 48.474691092571504)\n"
     ]
    }
   ],
   "source": [
    "topsim(word_m1en, 'little', 100)"
   ]
  },
  {
   "cell_type": "code",
   "execution_count": null,
   "metadata": {},
   "outputs": [],
   "source": []
  }
 ],
 "metadata": {
  "kernelspec": {
   "display_name": "tensorflow",
   "language": "python",
   "name": "tensorflow"
  },
  "language_info": {
   "codemirror_mode": {
    "name": "ipython",
    "version": 3
   },
   "file_extension": ".py",
   "mimetype": "text/x-python",
   "name": "python",
   "nbconvert_exporter": "python",
   "pygments_lexer": "ipython3",
   "version": "3.6.7"
  }
 },
 "nbformat": 4,
 "nbformat_minor": 2
}
