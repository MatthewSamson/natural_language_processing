{
 "cells": [
  {
   "cell_type": "markdown",
   "metadata": {},
   "source": [
    "# Importing required packages"
   ]
  },
  {
   "cell_type": "code",
   "execution_count": 1,
   "metadata": {},
   "outputs": [
    {
     "data": {
      "text/plain": [
       "<torch._C.Generator at 0x1f7be3019b0>"
      ]
     },
     "execution_count": 1,
     "metadata": {},
     "output_type": "execute_result"
    }
   ],
   "source": [
    "# importing regular built in packages\n",
    "import time\n",
    "import os\n",
    "import glob\n",
    "import urllib as url\n",
    "\n",
    "# importing required AI/ML packages\n",
    "import numpy as np\n",
    "import pandas as pd\n",
    "import sklearn as sk\n",
    "import torch\n",
    "import matplotlib.pyplot as plt\n",
    "%matplotlib inline\n",
    "\n",
    "# importing some nlp packages\n",
    "import nltk\n",
    "import spacy\n",
    "import gensim\n",
    "import gensim.downloader as api\n",
    "import unicodedata\n",
    "import re\n",
    "import string\n",
    "\n",
    "#glove_embed = api.load(\"glove-wiki-gigaword-300\")\n",
    "#nlp = spacy.load(\"en_core_web_sm\")\n",
    "torch.manual_seed(1234)"
   ]
  },
  {
   "cell_type": "code",
   "execution_count": null,
   "metadata": {},
   "outputs": [],
   "source": []
  },
  {
   "cell_type": "markdown",
   "metadata": {},
   "source": [
    "# 1. Loading and cleaning data"
   ]
  },
  {
   "cell_type": "code",
   "execution_count": 2,
   "metadata": {},
   "outputs": [],
   "source": [
    "def load_clean(fname):\n",
    "    '''\n",
    "    fname: the name of the file to be loaded and cleaned\n",
    "    '''\n",
    "    \n",
    "    ### load raw data section\n",
    "    data = []\n",
    "    \n",
    "    file = open(fname, \"r\")\n",
    "    text = file.read()\n",
    "    file.close()\n",
    "\n",
    "    data = text.split(\"\\n\")\n",
    "    print(\"File \", fname, \" has been loaded!!\")\n",
    "    print(\"File contains \",len(data), \" number of lines.\")\n",
    "    \n",
    "    \n",
    "    ### clean raw data section\n",
    "    mainlabels, sublabels, questions = [], [], []\n",
    "    no_punc, word_list = [], []\n",
    "    \n",
    "    # iterate through each line\n",
    "    for line in data:\n",
    "        words = line.split()\n",
    "        text = []\n",
    "        \n",
    "        # iterate through each word in the line\n",
    "        for i, w in enumerate(words):\n",
    "            # collecting all the labels\n",
    "            if i == 0:\n",
    "                lab = w.split(':')\n",
    "                mainlabels.append(lab[0])\n",
    "                sublabels.append(w)\n",
    "                continue   \n",
    "            \n",
    "            text.append(w.strip())\n",
    "            \n",
    "        # join the words to form the text\n",
    "        full_line = \" \".join([w for w in text])\n",
    "        questions.append(full_line)\n",
    "        \n",
    "        # clean up new line\n",
    "        text = full_line[:-2]\n",
    "        \n",
    "        # removing punctuations, forming sentence and split words\n",
    "        punct = \"\".join([c for c in string.punctuation if c is not '-'])\n",
    "        sentence = \" \".join([w.lower().strip() for w in text.split()])\n",
    "        \n",
    "        rm_punc = \"\".join([c for c in sentence if c not in punct])\n",
    "        rm_1char_punc = \" \".join([w for w in rm_punc.split() if len(w) > 1])\n",
    "        words = rm_1char_punc.split()\n",
    "        \n",
    "        no_punc.append(rm_1char_punc)\n",
    "        word_list.append(words)\n",
    "        \n",
    "    # convert all the required data into a dataframe for ease of visualization and manipulation\n",
    "    dataframe = pd.DataFrame({'label': mainlabels, 'inner label': sublabels, 'text': questions,\n",
    "                             'clean_sentence': no_punc, 'clean_words': word_list})\n",
    "    \n",
    "    return dataframe"
   ]
  },
  {
   "cell_type": "code",
   "execution_count": 3,
   "metadata": {},
   "outputs": [
    {
     "name": "stdout",
     "output_type": "stream",
     "text": [
      "File  [input] 5500 training questions.txt  has been loaded!!\n",
      "File contains  5452  number of lines.\n"
     ]
    },
    {
     "data": {
      "text/html": [
       "<div>\n",
       "<style scoped>\n",
       "    .dataframe tbody tr th:only-of-type {\n",
       "        vertical-align: middle;\n",
       "    }\n",
       "\n",
       "    .dataframe tbody tr th {\n",
       "        vertical-align: top;\n",
       "    }\n",
       "\n",
       "    .dataframe thead th {\n",
       "        text-align: right;\n",
       "    }\n",
       "</style>\n",
       "<table border=\"1\" class=\"dataframe\">\n",
       "  <thead>\n",
       "    <tr style=\"text-align: right;\">\n",
       "      <th></th>\n",
       "      <th>label</th>\n",
       "      <th>inner label</th>\n",
       "      <th>text</th>\n",
       "      <th>clean_sentence</th>\n",
       "      <th>clean_words</th>\n",
       "    </tr>\n",
       "  </thead>\n",
       "  <tbody>\n",
       "    <tr>\n",
       "      <th>0</th>\n",
       "      <td>DESC</td>\n",
       "      <td>DESC:manner</td>\n",
       "      <td>How did serfdom develop in and then leave Russ...</td>\n",
       "      <td>how did serfdom develop in and then leave russia</td>\n",
       "      <td>[how, did, serfdom, develop, in, and, then, le...</td>\n",
       "    </tr>\n",
       "    <tr>\n",
       "      <th>1</th>\n",
       "      <td>ENTY</td>\n",
       "      <td>ENTY:cremat</td>\n",
       "      <td>What films featured the character Popeye Doyle ?</td>\n",
       "      <td>what films featured the character popeye doyle</td>\n",
       "      <td>[what, films, featured, the, character, popeye...</td>\n",
       "    </tr>\n",
       "    <tr>\n",
       "      <th>2</th>\n",
       "      <td>DESC</td>\n",
       "      <td>DESC:manner</td>\n",
       "      <td>How can I find a list of celebrities ' real na...</td>\n",
       "      <td>how can find list of celebrities real names</td>\n",
       "      <td>[how, can, find, list, of, celebrities, real, ...</td>\n",
       "    </tr>\n",
       "    <tr>\n",
       "      <th>3</th>\n",
       "      <td>ENTY</td>\n",
       "      <td>ENTY:animal</td>\n",
       "      <td>What fowl grabs the spotlight after the Chines...</td>\n",
       "      <td>what fowl grabs the spotlight after the chines...</td>\n",
       "      <td>[what, fowl, grabs, the, spotlight, after, the...</td>\n",
       "    </tr>\n",
       "    <tr>\n",
       "      <th>4</th>\n",
       "      <td>ABBR</td>\n",
       "      <td>ABBR:exp</td>\n",
       "      <td>What is the full form of .com ?</td>\n",
       "      <td>what is the full form of com</td>\n",
       "      <td>[what, is, the, full, form, of, com]</td>\n",
       "    </tr>\n",
       "  </tbody>\n",
       "</table>\n",
       "</div>"
      ],
      "text/plain": [
       "  label  inner label                                               text  \\\n",
       "0  DESC  DESC:manner  How did serfdom develop in and then leave Russ...   \n",
       "1  ENTY  ENTY:cremat   What films featured the character Popeye Doyle ?   \n",
       "2  DESC  DESC:manner  How can I find a list of celebrities ' real na...   \n",
       "3  ENTY  ENTY:animal  What fowl grabs the spotlight after the Chines...   \n",
       "4  ABBR     ABBR:exp                    What is the full form of .com ?   \n",
       "\n",
       "                                      clean_sentence  \\\n",
       "0   how did serfdom develop in and then leave russia   \n",
       "1     what films featured the character popeye doyle   \n",
       "2        how can find list of celebrities real names   \n",
       "3  what fowl grabs the spotlight after the chines...   \n",
       "4                       what is the full form of com   \n",
       "\n",
       "                                         clean_words  \n",
       "0  [how, did, serfdom, develop, in, and, then, le...  \n",
       "1  [what, films, featured, the, character, popeye...  \n",
       "2  [how, can, find, list, of, celebrities, real, ...  \n",
       "3  [what, fowl, grabs, the, spotlight, after, the...  \n",
       "4               [what, is, the, full, form, of, com]  "
      ]
     },
     "execution_count": 3,
     "metadata": {},
     "output_type": "execute_result"
    }
   ],
   "source": [
    "# loading and cleaning the required data\n",
    "clean_5500 = load_clean('[input] 5500 training questions.txt')\n",
    "clean_5500.head()"
   ]
  },
  {
   "cell_type": "code",
   "execution_count": null,
   "metadata": {},
   "outputs": [],
   "source": []
  },
  {
   "cell_type": "markdown",
   "metadata": {},
   "source": [
    "# 2. One hot encoded label"
   ]
  },
  {
   "cell_type": "code",
   "execution_count": 4,
   "metadata": {},
   "outputs": [],
   "source": [
    "# function to one hot encode the labels of each question\n",
    "def onehot_label(df, feature):\n",
    "    '''\n",
    "    df: the dataframe being used currently\n",
    "    feature: the column name for which one hot encoded labels are to be labeled\n",
    "    '''\n",
    "    \n",
    "    # converting labels into arrays\n",
    "    label = np.array(df[feature]).reshape(-1, 1)\n",
    "    \n",
    "    # using the sklearn one hot encoding method\n",
    "    onehot = sk.preprocessing.OneHotEncoder()\n",
    "    onehot_label = onehot.fit_transform(label)\n",
    "    \n",
    "    print(\"One hot encoding of labels complete!\")\n",
    "    print(\"Categories in the one hot encoding: \", onehot.categories_)\n",
    "    print(\"Shape of the resulting encoding: \", onehot_label.shape)\n",
    "    \n",
    "    # returning the dataframe consisting of the results\n",
    "    encoded = pd.DataFrame(data=onehot_label.toarray(), columns=onehot.categories_)\n",
    "    return encoded"
   ]
  },
  {
   "cell_type": "code",
   "execution_count": 5,
   "metadata": {},
   "outputs": [
    {
     "name": "stdout",
     "output_type": "stream",
     "text": [
      "One hot encoding of labels complete!\n",
      "Categories in the one hot encoding:  [array(['ABBR', 'DESC', 'ENTY', 'HUM', 'LOC', 'NUM'], dtype=object)]\n",
      "Shape of the resulting encoding:  (5452, 6)\n"
     ]
    },
    {
     "data": {
      "text/html": [
       "<div>\n",
       "<style scoped>\n",
       "    .dataframe tbody tr th:only-of-type {\n",
       "        vertical-align: middle;\n",
       "    }\n",
       "\n",
       "    .dataframe tbody tr th {\n",
       "        vertical-align: top;\n",
       "    }\n",
       "\n",
       "    .dataframe thead tr th {\n",
       "        text-align: left;\n",
       "    }\n",
       "</style>\n",
       "<table border=\"1\" class=\"dataframe\">\n",
       "  <thead>\n",
       "    <tr>\n",
       "      <th></th>\n",
       "      <th>ABBR</th>\n",
       "      <th>DESC</th>\n",
       "      <th>ENTY</th>\n",
       "      <th>HUM</th>\n",
       "      <th>LOC</th>\n",
       "      <th>NUM</th>\n",
       "    </tr>\n",
       "  </thead>\n",
       "  <tbody>\n",
       "    <tr>\n",
       "      <th>0</th>\n",
       "      <td>0.0</td>\n",
       "      <td>1.0</td>\n",
       "      <td>0.0</td>\n",
       "      <td>0.0</td>\n",
       "      <td>0.0</td>\n",
       "      <td>0.0</td>\n",
       "    </tr>\n",
       "    <tr>\n",
       "      <th>1</th>\n",
       "      <td>0.0</td>\n",
       "      <td>0.0</td>\n",
       "      <td>1.0</td>\n",
       "      <td>0.0</td>\n",
       "      <td>0.0</td>\n",
       "      <td>0.0</td>\n",
       "    </tr>\n",
       "    <tr>\n",
       "      <th>2</th>\n",
       "      <td>0.0</td>\n",
       "      <td>1.0</td>\n",
       "      <td>0.0</td>\n",
       "      <td>0.0</td>\n",
       "      <td>0.0</td>\n",
       "      <td>0.0</td>\n",
       "    </tr>\n",
       "    <tr>\n",
       "      <th>3</th>\n",
       "      <td>0.0</td>\n",
       "      <td>0.0</td>\n",
       "      <td>1.0</td>\n",
       "      <td>0.0</td>\n",
       "      <td>0.0</td>\n",
       "      <td>0.0</td>\n",
       "    </tr>\n",
       "    <tr>\n",
       "      <th>4</th>\n",
       "      <td>1.0</td>\n",
       "      <td>0.0</td>\n",
       "      <td>0.0</td>\n",
       "      <td>0.0</td>\n",
       "      <td>0.0</td>\n",
       "      <td>0.0</td>\n",
       "    </tr>\n",
       "  </tbody>\n",
       "</table>\n",
       "</div>"
      ],
      "text/plain": [
       "  ABBR DESC ENTY  HUM  LOC  NUM\n",
       "0  0.0  1.0  0.0  0.0  0.0  0.0\n",
       "1  0.0  0.0  1.0  0.0  0.0  0.0\n",
       "2  0.0  1.0  0.0  0.0  0.0  0.0\n",
       "3  0.0  0.0  1.0  0.0  0.0  0.0\n",
       "4  1.0  0.0  0.0  0.0  0.0  0.0"
      ]
     },
     "execution_count": 5,
     "metadata": {},
     "output_type": "execute_result"
    }
   ],
   "source": [
    "# loading up the output encodings\n",
    "onehot_5500 = onehot_label(clean_5500, 'label')\n",
    "onehot_5500.head()"
   ]
  },
  {
   "cell_type": "code",
   "execution_count": null,
   "metadata": {},
   "outputs": [],
   "source": []
  },
  {
   "cell_type": "markdown",
   "metadata": {},
   "source": [
    "# 3. Loading up the pre trained and then trained vectors"
   ]
  },
  {
   "cell_type": "code",
   "execution_count": 8,
   "metadata": {},
   "outputs": [
    {
     "data": {
      "text/html": [
       "<div>\n",
       "<style scoped>\n",
       "    .dataframe tbody tr th:only-of-type {\n",
       "        vertical-align: middle;\n",
       "    }\n",
       "\n",
       "    .dataframe tbody tr th {\n",
       "        vertical-align: top;\n",
       "    }\n",
       "\n",
       "    .dataframe thead th {\n",
       "        text-align: right;\n",
       "    }\n",
       "</style>\n",
       "<table border=\"1\" class=\"dataframe\">\n",
       "  <thead>\n",
       "    <tr style=\"text-align: right;\">\n",
       "      <th></th>\n",
       "      <th>label</th>\n",
       "      <th>inner label</th>\n",
       "      <th>text</th>\n",
       "      <th>clean_sentence</th>\n",
       "      <th>clean_words</th>\n",
       "      <th>gensim_clean</th>\n",
       "    </tr>\n",
       "  </thead>\n",
       "  <tbody>\n",
       "    <tr>\n",
       "      <th>0</th>\n",
       "      <td>DESC</td>\n",
       "      <td>DESC:manner</td>\n",
       "      <td>How did serfdom develop in and then leave Russ...</td>\n",
       "      <td>how did serfdom develop in and then leave russia</td>\n",
       "      <td>[how, did, serfdom, develop, in, and, then, le...</td>\n",
       "      <td>[how, did, serfdom, develop, in, and, then, le...</td>\n",
       "    </tr>\n",
       "    <tr>\n",
       "      <th>1</th>\n",
       "      <td>ENTY</td>\n",
       "      <td>ENTY:cremat</td>\n",
       "      <td>What films featured the character Popeye Doyle ?</td>\n",
       "      <td>what films featured the character popeye doyle</td>\n",
       "      <td>[what, films, featured, the, character, popeye...</td>\n",
       "      <td>[what, films, featured, the, character, popeye...</td>\n",
       "    </tr>\n",
       "    <tr>\n",
       "      <th>2</th>\n",
       "      <td>DESC</td>\n",
       "      <td>DESC:manner</td>\n",
       "      <td>How can I find a list of celebrities ' real na...</td>\n",
       "      <td>how can find list of celebrities real names</td>\n",
       "      <td>[how, can, find, list, of, celebrities, real, ...</td>\n",
       "      <td>[how, can, find, list, of, celebrities, real, ...</td>\n",
       "    </tr>\n",
       "    <tr>\n",
       "      <th>3</th>\n",
       "      <td>ENTY</td>\n",
       "      <td>ENTY:animal</td>\n",
       "      <td>What fowl grabs the spotlight after the Chines...</td>\n",
       "      <td>what fowl grabs the spotlight after the chines...</td>\n",
       "      <td>[what, fowl, grabs, the, spotlight, after, the...</td>\n",
       "      <td>[what, fowl, grabs, the, spotlight, after, the...</td>\n",
       "    </tr>\n",
       "    <tr>\n",
       "      <th>4</th>\n",
       "      <td>ABBR</td>\n",
       "      <td>ABBR:exp</td>\n",
       "      <td>What is the full form of .com ?</td>\n",
       "      <td>what is the full form of com</td>\n",
       "      <td>[what, is, the, full, form, of, com]</td>\n",
       "      <td>[what, is, the, full, form, of, com]</td>\n",
       "    </tr>\n",
       "  </tbody>\n",
       "</table>\n",
       "</div>"
      ],
      "text/plain": [
       "  label  inner label                                               text  \\\n",
       "0  DESC  DESC:manner  How did serfdom develop in and then leave Russ...   \n",
       "1  ENTY  ENTY:cremat   What films featured the character Popeye Doyle ?   \n",
       "2  DESC  DESC:manner  How can I find a list of celebrities ' real na...   \n",
       "3  ENTY  ENTY:animal  What fowl grabs the spotlight after the Chines...   \n",
       "4  ABBR     ABBR:exp                    What is the full form of .com ?   \n",
       "\n",
       "                                      clean_sentence  \\\n",
       "0   how did serfdom develop in and then leave russia   \n",
       "1     what films featured the character popeye doyle   \n",
       "2        how can find list of celebrities real names   \n",
       "3  what fowl grabs the spotlight after the chines...   \n",
       "4                       what is the full form of com   \n",
       "\n",
       "                                         clean_words  \\\n",
       "0  [how, did, serfdom, develop, in, and, then, le...   \n",
       "1  [what, films, featured, the, character, popeye...   \n",
       "2  [how, can, find, list, of, celebrities, real, ...   \n",
       "3  [what, fowl, grabs, the, spotlight, after, the...   \n",
       "4               [what, is, the, full, form, of, com]   \n",
       "\n",
       "                                        gensim_clean  \n",
       "0  [how, did, serfdom, develop, in, and, then, le...  \n",
       "1  [what, films, featured, the, character, popeye...  \n",
       "2  [how, can, find, list, of, celebrities, real, ...  \n",
       "3  [what, fowl, grabs, the, spotlight, after, the...  \n",
       "4               [what, is, the, full, form, of, com]  "
      ]
     },
     "execution_count": 8,
     "metadata": {},
     "output_type": "execute_result"
    }
   ],
   "source": [
    "# using the gensim function to clean and tokenize the text\n",
    "clean_5500['gensim_clean'] = clean_5500['text'].apply(lambda x: gensim.utils.simple_preprocess(x))\n",
    "clean_5500.head()"
   ]
  },
  {
   "cell_type": "code",
   "execution_count": 167,
   "metadata": {},
   "outputs": [
    {
     "data": {
      "text/plain": [
       "array([-0.03767836, -0.14755373, -0.25785303,  0.3687091 , -0.17937383,\n",
       "       -0.01613118,  0.757773  , -0.10143571,  0.30006182,  0.17047554,\n",
       "        0.8188774 , -0.1041642 , -0.353399  ,  0.625181  , -0.69155914,\n",
       "        0.20440276,  0.38170278, -0.04678288,  0.4412677 , -0.4381382 ,\n",
       "       -0.26271564, -0.44058645, -0.23022822, -0.07919661, -0.46207285,\n",
       "       -0.43104732,  0.2878037 , -0.26285115,  0.5273679 ,  0.03374153,\n",
       "       -0.10948228, -0.00717028,  0.0291024 , -0.16392864,  0.08129709,\n",
       "       -0.1302403 ,  0.5638297 , -0.6421315 ,  0.11053333, -0.20486686,\n",
       "        0.25215313, -0.20635764,  0.01797247,  0.08350865, -0.3166323 ,\n",
       "        0.16504246, -0.01690575,  0.78841066, -0.10319585, -0.15116751,\n",
       "        0.13857701,  0.01183684,  0.30259028,  0.5597777 , -0.4233133 ,\n",
       "       -0.10353647,  0.00557435,  0.64496464,  0.05992203,  0.48058787,\n",
       "       -0.04977149,  0.36644852,  0.3276535 ,  0.01343803,  0.49237624,\n",
       "        0.17227092,  0.29820964, -0.33770066, -0.15252665, -0.4270305 ,\n",
       "        0.5826646 , -0.13418373,  0.2995371 , -0.18973564,  0.27195516,\n",
       "       -0.17823431,  0.40677935,  0.47724134, -0.10436034,  0.5231299 ,\n",
       "        0.2361599 ,  0.24491416,  0.6468431 ,  0.03728903,  0.14950688,\n",
       "        0.11111151,  0.41970712, -0.6342902 ,  0.11720961, -0.6473941 ,\n",
       "       -0.21182558,  0.06000227,  0.8478084 , -0.28454876,  0.18000658,\n",
       "        0.07847878,  0.20569296,  0.5829727 ,  0.2222706 ,  0.21130288],\n",
       "      dtype=float32)"
      ]
     },
     "execution_count": 167,
     "metadata": {},
     "output_type": "execute_result"
    }
   ],
   "source": [
    "# loading up the trained pre trained model and their word embeddings\n",
    "w2v_5500_model = gensim.models.Word2Vec.load('init_trained_wvmodel')\n",
    "w2v_5500_vectors = gensim.models.KeyedVectors.load('init_trained_wvvectors')\n",
    "\n",
    "w2v_5500_vectors['and']"
   ]
  },
  {
   "cell_type": "code",
   "execution_count": null,
   "metadata": {},
   "outputs": [],
   "source": []
  },
  {
   "cell_type": "markdown",
   "metadata": {},
   "source": [
    "# 4. Post processing above embeddings"
   ]
  },
  {
   "cell_type": "code",
   "execution_count": 146,
   "metadata": {},
   "outputs": [],
   "source": [
    "from gensim.test import utils\n",
    "from sklearn.decomposition import PCA"
   ]
  },
  {
   "cell_type": "code",
   "execution_count": 147,
   "metadata": {},
   "outputs": [],
   "source": [
    "def post_processing(embed, thresh):\n",
    "    '''\n",
    "    embed: the pre trained word representations after training on input data\n",
    "    thresh: the threshold parameter for the number of components in pca (components = (dimension of vector = 100) / 100)\n",
    "    '''\n",
    "\n",
    "    # saving the original vectors to be used later\n",
    "    #embed.wv.save('original_vectors')\n",
    "    \n",
    "    words = embed.wv.index2word\n",
    "    vects = embed.wv\n",
    "\n",
    "    # get mean\n",
    "    print(\"Calculating the mean...\")\n",
    "    embed_mean = torch.mean(torch.tensor([vects[w] for w in words]), dim=0).numpy()\n",
    "    \n",
    "    # sub mean\n",
    "    print(\"Removing the mean...\")\n",
    "    for w in words:\n",
    "        vects[w] = vects[w] - embed_mean\n",
    "    \n",
    "    # apply pca\n",
    "    print(\"Calculating the PCA...\")\n",
    "    vect_stack = np.vstack([vects[w] for w in words])\n",
    "    pca = PCA(n_components=thresh)\n",
    "    pca.fit(vect_stack)\n",
    "    \n",
    "    # load back the trained vectors from the initial word2vec model\n",
    "    og_vects = embed.wv.load('init_trained_wvvectors')\n",
    "    \n",
    "    # pca process\n",
    "    print(\"Finding eigenvalues projecting away from thresh: \", thresh, \" axis...\")\n",
    "    for w in words:\n",
    "        # apply eigen vectors on og_vectors\n",
    "        vector = np.zeros(vects[w].shape)\n",
    "\n",
    "        for eigen in pca.components_:\n",
    "            vector += np.dot(np.dot(eigen.T, og_vects[w]), eigen)\n",
    "\n",
    "        vects[w] = vects[w] - vector\n",
    "    \n",
    "    # save the newly processed vectors\n",
    "    vects.wv.save('post_processed_vectors1')\n",
    "    \n",
    "    # return the new embedding\n",
    "    return vects"
   ]
  },
  {
   "cell_type": "code",
   "execution_count": null,
   "metadata": {},
   "outputs": [],
   "source": [
    "# load post processed vectors directly without re-running the function\n",
    "#post_process1 = w2v_5500_vectors.wv.load('post_processed_vectors1')"
   ]
  },
  {
   "cell_type": "code",
   "execution_count": 148,
   "metadata": {},
   "outputs": [
    {
     "name": "stderr",
     "output_type": "stream",
     "text": [
      "C:\\Users\\sunny\\Anaconda3\\lib\\site-packages\\ipykernel_launcher.py:10: DeprecationWarning: Call to deprecated `wv` (Attribute will be removed in 4.0.0, use self instead).\n",
      "  # Remove the CWD from sys.path while we load stuff.\n",
      "C:\\Users\\sunny\\Anaconda3\\lib\\site-packages\\ipykernel_launcher.py:11: DeprecationWarning: Call to deprecated `wv` (Attribute will be removed in 4.0.0, use self instead).\n",
      "  # This is added back by InteractiveShellApp.init_path()\n"
     ]
    },
    {
     "name": "stdout",
     "output_type": "stream",
     "text": [
      "Calculating the mean...\n",
      "Removing the mean...\n",
      "Calculating the PCA...\n"
     ]
    },
    {
     "name": "stderr",
     "output_type": "stream",
     "text": [
      "C:\\Users\\sunny\\Anaconda3\\lib\\site-packages\\ipykernel_launcher.py:29: DeprecationWarning: Call to deprecated `wv` (Attribute will be removed in 4.0.0, use self instead).\n",
      "C:\\Users\\sunny\\Anaconda3\\lib\\site-packages\\ipykernel_launcher.py:42: DeprecationWarning: Call to deprecated `wv` (Attribute will be removed in 4.0.0, use self instead).\n"
     ]
    }
   ],
   "source": [
    "# load post processed vectors by re-running the function\n",
    "post_process1 = post_processing(w2v_5500_vectors, 1)`"
   ]
  },
  {
   "cell_type": "code",
   "execution_count": 160,
   "metadata": {},
   "outputs": [
    {
     "data": {
      "text/plain": [
       "array([ 4.66692820e-03,  1.08693838e-02,  2.14577615e-02, -2.65060663e-02,\n",
       "        8.93951952e-03, -2.82363035e-04, -6.39053583e-02,  4.07133251e-03,\n",
       "       -2.97076404e-02, -1.64767653e-02, -6.35055304e-02,  5.40876389e-03,\n",
       "        2.91978121e-02, -4.71910834e-02,  5.24143577e-02, -2.06674933e-02,\n",
       "       -2.59889066e-02, -1.46266073e-04, -3.27817500e-02,  3.07828486e-02,\n",
       "        2.08834112e-02,  3.53237391e-02,  2.27116495e-02,  5.55031002e-03,\n",
       "        3.31479609e-02,  4.12860811e-02, -2.07691491e-02,  2.40642577e-02,\n",
       "       -4.92502749e-02,  4.93159518e-04,  6.38861209e-03,  1.50792627e-03,\n",
       "        2.14667432e-03,  1.62994415e-02, -4.55434620e-03,  1.48531571e-02,\n",
       "       -4.17168140e-02,  5.72012663e-02, -1.19229332e-02,  1.44455582e-02,\n",
       "       -2.34894902e-02,  1.38603002e-02, -6.27608597e-03, -1.13065615e-02,\n",
       "        2.98016071e-02, -1.66372210e-02, -1.03431847e-03, -5.94154000e-02,\n",
       "        5.72865456e-03,  1.06442869e-02, -1.29882544e-02, -3.53774149e-03,\n",
       "       -2.98647583e-02, -5.11870980e-02,  3.80789042e-02,  1.27506107e-02,\n",
       "        2.56248703e-03, -5.43675423e-02, -3.50244343e-03, -3.84040475e-02,\n",
       "        3.57853621e-03, -2.42015123e-02, -2.61459649e-02,  1.81421638e-06,\n",
       "       -3.67050767e-02, -1.13058835e-02, -2.71946788e-02,  3.28440368e-02,\n",
       "        1.05141252e-02,  3.91403735e-02, -4.65397835e-02,  8.69466364e-03,\n",
       "       -2.38693655e-02,  1.36302263e-02, -1.93079710e-02,  1.55287385e-02,\n",
       "       -3.46510708e-02, -3.86781096e-02,  7.25561380e-03, -4.54311669e-02,\n",
       "       -1.84918791e-02, -1.50876641e-02, -4.91517782e-02, -4.49677929e-03,\n",
       "       -1.09600425e-02, -5.01908362e-03, -3.43302190e-02,  4.80921268e-02,\n",
       "       -1.25550479e-02,  5.50395846e-02,  1.28628910e-02, -9.09746438e-03,\n",
       "       -6.66680932e-02,  2.13792920e-02, -1.12725943e-02, -1.34908408e-03,\n",
       "       -1.24226511e-02, -4.40800190e-02, -1.50914788e-02, -1.48731917e-02],\n",
       "      dtype=float32)"
      ]
     },
     "execution_count": 160,
     "metadata": {},
     "output_type": "execute_result"
    }
   ],
   "source": [
    "post_process1['and']"
   ]
  },
  {
   "cell_type": "code",
   "execution_count": null,
   "metadata": {},
   "outputs": [],
   "source": []
  },
  {
   "cell_type": "markdown",
   "metadata": {},
   "source": [
    "# 5 Helper functions for building the LSTM"
   ]
  },
  {
   "cell_type": "code",
   "execution_count": 161,
   "metadata": {},
   "outputs": [],
   "source": [
    "def split_data(input_data, output_data, sp):\n",
    "    '''\n",
    "    input_data: the series containing the data to be used as input\n",
    "    output_data: the one hot encoded output\n",
    "    sp[0]: the split fraction to divide training and test data\n",
    "    sp[1]: the split fraction to divide training and validated data\n",
    "    '''\n",
    "    \n",
    "    x_tr, x_te, y_tr, y_te = sk.model_selection.train_test_split(input_data, output_data, test_size=sp[0], random_state=3)\n",
    "    x_tr, x_va, y_tr, y_va = sk.model_selection.train_test_split(x_tr, y_tr, test_size=sp[1], random_state=123)\n",
    "    \n",
    "    print(\"Shape of training set: \", x_tr.shape, y_tr.shape)\n",
    "    print(\"Shape of validation set: \", x_va.shape, y_va.shape)\n",
    "    print(\"Shape of testing set: \", x_te.shape, y_te.shape)\n",
    "    \n",
    "    return (x_tr, y_tr), (x_va, y_va), (x_te, y_te)\n",
    "\n",
    "\n",
    "# extracting the text into a group of tensors\n",
    "def text_tensor(text, embed):\n",
    "    '''\n",
    "    text: the input text consisting of a list of words\n",
    "    embed: the pre trained gensim embedding after being trained on the input data\n",
    "    '''\n",
    "    \n",
    "    # cleaning the text by gensim procedures\n",
    "    clean = gensim.utils.simple_preprocess(text)\n",
    "    \n",
    "    # creating a mean vector of the sentence in case the specific word is not encoded\n",
    "    mean_embed = torch.mean(torch.tensor([embed[w] for w in clean if w in embed.wv.index2word]), dim=0)\n",
    "    \n",
    "    # collect the respective tensors\n",
    "    samp = []\n",
    "    for w in clean:\n",
    "        if w in embed.wv.index2word:\n",
    "            samp.append(torch.tensor(embed[w]))\n",
    "        else:\n",
    "            samp.append(torch.tensor(mean_embed))\n",
    "            \n",
    "    # combine the tensors into a single batch\n",
    "    torch_text = torch.cat([torch.tensor(s) for s in samp]).reshape(len(clean), 1, -1)\n",
    "    return torch_text"
   ]
  },
  {
   "cell_type": "code",
   "execution_count": 162,
   "metadata": {},
   "outputs": [],
   "source": [
    "# saving a trained model\n",
    "def saving(model, loc):\n",
    "    '''\n",
    "    model: the trained model to be saved\n",
    "    loc: the name of the model (can be used together with /dir/name)\n",
    "    '''\n",
    "    torch.save(model, loc)\n",
    "    return\n",
    "\n",
    "\n",
    "# loading a trained model\n",
    "def loading(model, loc):\n",
    "    '''\n",
    "    model: the newly initialised model (should be the same architecture of the model to be loaded)\n",
    "    loc: the name of the model (can be used together with /dir/name)\n",
    "    '''\n",
    "    # model must be initialised with same class as saved\n",
    "    model = torch.load(loc)\n",
    "    return model"
   ]
  },
  {
   "cell_type": "code",
   "execution_count": null,
   "metadata": {},
   "outputs": [],
   "source": []
  },
  {
   "cell_type": "markdown",
   "metadata": {},
   "source": [
    "# 6. Building the LSTM Model"
   ]
  },
  {
   "cell_type": "code",
   "execution_count": 163,
   "metadata": {
    "scrolled": true
   },
   "outputs": [],
   "source": [
    "class gensim_lstm(torch.nn.Module):\n",
    "    \n",
    "    def __init__(self, input_dim, output_dim, hidden_dim, hidden_layers, dropout):\n",
    "        super(gensim_lstm, self).__init__()\n",
    "        '''\n",
    "        input_dim: the size of the input vector (a single word in a sentence)\n",
    "        output_dim: the size of the expected output layer nodes\n",
    "        hidden_dim: the size of the hidden layer nodes\n",
    "        hidden_layers: the number of hidden lstm layers\n",
    "        dropout: fraction of lstm results that are to be dropped\n",
    "        '''\n",
    "        \n",
    "        self.input_dim = input_dim\n",
    "        self.output_dim = output_dim\n",
    "        self.hidden_dim = hidden_dim\n",
    "        self.hidden_layers = hidden_layers\n",
    "        self.dropout = dropout\n",
    "        \n",
    "        self.lstm = torch.nn.LSTM(self.input_dim, self.hidden_dim, self.hidden_layers, dropout=self.dropout)\n",
    "        self.dense = torch.nn.Linear(self.hidden_dim * 2, self.output_dim)\n",
    "        self.sigm = torch.nn.Sigmoid()\n",
    "        \n",
    "\n",
    "    def forward(self, vector, hid):\n",
    "        '''\n",
    "        vector: the input vector of the entire sentence\n",
    "        hid: the initialized hidden and cell state\n",
    "        '''\n",
    "        \n",
    "        # passing input and hid into lstm per each input vector\n",
    "        for vec in vector:\n",
    "            output, hid = self.lstm(vec.reshape(1, 1, -1), hid)\n",
    "            \n",
    "        # combining the last output and hidden\n",
    "        combined = torch.cat((output[-1, :, :], hid[0][-1, :, :]), dim=1)\n",
    "        # apply the combined into a dense layer\n",
    "        final_output = self.dense(combined)\n",
    "        # passing the final output through the sigmoid activation\n",
    "        active_output = self.sigm(final_output)\n",
    "        return active_output\n",
    "        \n",
    "        \n",
    "    def init_hidden(self):\n",
    "        # initializing the hidden and cell state\n",
    "        hidden = (torch.zeros(self.hidden_layers * self.hidden_dim).reshape(self.hidden_layers, 1, -1), \n",
    "                  torch.zeros(self.hidden_layers * self.hidden_dim).reshape(self.hidden_layers, 1, -1))\n",
    "        return hidden"
   ]
  },
  {
   "cell_type": "code",
   "execution_count": 164,
   "metadata": {},
   "outputs": [
    {
     "name": "stdout",
     "output_type": "stream",
     "text": [
      "Model Architecture: \n",
      "gensim_lstm(\n",
      "  (lstm): LSTM(100, 1000, num_layers=10, dropout=0.5)\n",
      "  (dense): Linear(in_features=2000, out_features=6, bias=True)\n",
      "  (sigm): Sigmoid()\n",
      ")\n"
     ]
    },
    {
     "data": {
      "text/plain": [
       "gensim_lstm(\n",
       "  (lstm): LSTM(100, 1000, num_layers=10, dropout=0.5)\n",
       "  (dense): Linear(in_features=2000, out_features=6, bias=True)\n",
       "  (sigm): Sigmoid()\n",
       ")"
      ]
     },
     "execution_count": 164,
     "metadata": {},
     "output_type": "execute_result"
    }
   ],
   "source": [
    "# hyperparameters\n",
    "def set_model(hidden_dim, hidden_layers, dropout):\n",
    "    '''\n",
    "    hidden_dim: the size of the lstm hidden layer\n",
    "    hidden_layers: the number of lstm hidden layers\n",
    "    dropout: the fraction of lstm results to be dropped\n",
    "    '''\n",
    "    \n",
    "    input_dim = 100\n",
    "    output_dim = 6\n",
    "\n",
    "    # instantiate the model\n",
    "    model = gensim_lstm(input_dim, output_dim, hidden_dim, hidden_layers, dropout)\n",
    "    \n",
    "    print(\"Model Architecture: \")\n",
    "    print(model)\n",
    "    return model\n",
    "\n",
    "set_model(1000, 10, 0.5)"
   ]
  },
  {
   "cell_type": "code",
   "execution_count": 177,
   "metadata": {},
   "outputs": [],
   "source": [
    "def train_valid(model, train, valid, epochs, clip, name):\n",
    "    '''\n",
    "    model: the newly initialized model\n",
    "    train: the training dataset (train[0] is input train[1] is output)\n",
    "    valid: the validation dataset (valid[0] is input valid[1] is output)\n",
    "    epochs: the number of epochs to train the model\n",
    "    clip: the norm value of when to clip the gradients\n",
    "    name: the name of the model to be used in saving\n",
    "    '''\n",
    "    \n",
    "    # loss function\n",
    "    loss_fn = torch.nn.BCELoss()\n",
    "    \n",
    "    # set optimizer\n",
    "    optim = torch.optim.Adam(model.parameters(), lr=1e-3)\n",
    "    \n",
    "    # collecting and averaging the loss\n",
    "    train_losses, train_avg_loss = [], []\n",
    "    valid_losses, valid_avg_loss = [], []\n",
    "    train_acc, valid_acc = [], []\n",
    "    \n",
    "    # iterating through the epochs\n",
    "    for i in range(epochs):\n",
    "        \n",
    "        tic = time.time()\n",
    "\n",
    "        # setting model to train mode\n",
    "        model.train()\n",
    "        train_actual_class, train_predict_class = [], []\n",
    "        \n",
    "        # iterating through the training data\n",
    "        for vec in range(len(train[0])):\n",
    "            \n",
    "            # initialize the hidden and cell state\n",
    "            hidden = model.init_hidden()\n",
    "            \n",
    "            # zeroing the gradients\n",
    "            model.zero_grad()\n",
    "\n",
    "            # setting up the input and output\n",
    "            inp = text_tensor(train[0].iloc[vec], post_process1)\n",
    "            out = torch.tensor(train[1].iloc[vec], dtype=torch.float).reshape(1, -1)\n",
    "            \n",
    "            #for vector in inp:\n",
    "            pred = model(inp, hidden)\n",
    "\n",
    "            # calculating the loss and back propagate\n",
    "            loss = loss_fn(pred, out)\n",
    "            train_losses.append(loss.item())\n",
    "            loss.backward()\n",
    "            \n",
    "            # `clip_grad_norm` helps prevent the exploding gradient problem\n",
    "            torch.nn.utils.clip_grad_norm_(model.parameters(), clip)\n",
    "            \n",
    "            # optimizing on the loss\n",
    "            optim.step()\n",
    "\n",
    "            train_actual_class.append(torch.argmax(out))\n",
    "            train_predict_class.append(torch.argmax(pred).detach())\n",
    "            \n",
    "            if (vec+1) % 500 == 0:\n",
    "                print(\"Training document \", vec+1, \" / \", len(train[0]), \"...\")\n",
    "\n",
    "        train_accuracy = sk.metrics.accuracy_score(train_actual_class, train_predict_class)\n",
    "        train_acc.append(train_accuracy)\n",
    "        train_avg_loss.append(sum(train_losses) / len(train_losses))\n",
    "        \n",
    "\n",
    "\n",
    "        #### setting model to evaluate mode\n",
    "        model.eval()\n",
    "        valid_actual_class, valid_predict_class = [], []\n",
    "\n",
    "        # iterating through the training data\n",
    "        for vec in range(len(valid[0])):\n",
    "            \n",
    "            # initialize the hidden and cell state\n",
    "            hidden = model.init_hidden()\n",
    "\n",
    "            # setting up the input and output\n",
    "            inp = text_tensor(valid[0].iloc[vec], post_process1)\n",
    "            out = torch.tensor(valid[1].iloc[vec], dtype=torch.float).reshape(1, -1)\n",
    "\n",
    "            #for vector in inp:\n",
    "            pred = model(inp, hidden)\n",
    "\n",
    "            # calculating the loss\n",
    "            loss = loss_fn(pred, out)\n",
    "            valid_losses.append(loss.item())\n",
    "\n",
    "            valid_actual_class.append(torch.argmax(out))\n",
    "            valid_predict_class.append(torch.argmax(pred).detach())\n",
    "\n",
    "            if (vec+1) % 500 == 0:\n",
    "                print(\"Validating document \", vec+1, \" / \", len(valid[0]), \"...\")\n",
    "\n",
    "\n",
    "        valid_avg_loss.append(sum(valid_losses) / len(valid_losses))\n",
    "        valid_accuracy = sk.metrics.accuracy_score(valid_actual_class, valid_predict_class)\n",
    "        valid_acc.append(valid_accuracy)\n",
    "        confusion = sk.metrics.confusion_matrix(valid_actual_class, valid_predict_class)\n",
    "\n",
    "        print(\"\\nTrain Loss: \", train_avg_loss[-1])\n",
    "        print(\"Validation Loss: \", valid_avg_loss[-1])\n",
    "        print(\"Train Accuracy: \", train_accuracy)\n",
    "        print(\"Validation Accuracy: \", valid_accuracy)\n",
    "\n",
    "        print(\"Confusion matrix:\")\n",
    "        print(confusion)\n",
    "\n",
    "        title = \"Confusion at epoch: \" + str(i + 1)\n",
    "        plt.title(title)\n",
    "        plt.imshow(confusion)\n",
    "        plt.show()\n",
    "        \n",
    "        \n",
    "        if (i+1) % 100 == 0:\n",
    "            mod_name = name + str(i+1)\n",
    "            location = \"ques_lstm/\" + mod_name\n",
    "            saving(model, location)\n",
    "            print(\"Saving the model at epoch: \", i + 1, \" as \", mod_name)\n",
    "        \n",
    "\n",
    "        print(\"Epoch \", i + 1, \" is complete!\")\n",
    "        print(\"Complete in \", (time.time() - tic), \" seconds\\n\\n\")\n",
    "\n",
    "    \n",
    "    plt.figure(figsize=(10, 5))\n",
    "    plt.title(\"Plotting the train loss vs. validation loss\")\n",
    "    plt.plot([i for i in range(epochs)], train_avg_loss)\n",
    "    plt.plot([i for i in range(epochs)], valid_avg_loss)\n",
    "    \n",
    "    plt.figure(figsize=(10, 5))\n",
    "    plt.title(\"Plotting the train accuracy vs. validation accuracy\")\n",
    "    plt.plot([i for i in range(epochs)], train_acc)\n",
    "    plt.plot([i for i in range(epochs)], valid_acc)\n",
    "    \n",
    "    res = pd.DataFrame({'train_accuracy': train_acc, 'valid_accuracy': valid_acc, 'train_avg_loss': train_avg_loss,\n",
    "                       'valid_avg_loss': valid_avg_loss,})\n",
    "    \n",
    "    return model, res"
   ]
  },
  {
   "cell_type": "code",
   "execution_count": 169,
   "metadata": {},
   "outputs": [
    {
     "name": "stdout",
     "output_type": "stream",
     "text": [
      "Shape of training set:  (3488,) (3488, 6)\n",
      "Shape of validation set:  (873,) (873, 6)\n",
      "Shape of testing set:  (1091,) (1091, 6)\n",
      "Model Architecture: \n",
      "gensim_lstm(\n",
      "  (lstm): LSTM(100, 300, num_layers=3, dropout=0.7)\n",
      "  (dense): Linear(in_features=600, out_features=6, bias=True)\n",
      "  (sigm): Sigmoid()\n",
      ")\n"
     ]
    }
   ],
   "source": [
    "## training the model from scratch\n",
    "\n",
    "# setting up the train, validation and test sets\n",
    "#tr1, va1, te1 = split_data(clean_5500['text'], onehot_5500, (0.2, 0.2))\n",
    "\n",
    "# initializing a new model\n",
    "#mod1 = set_model(300, 3, 0.7)"
   ]
  },
  {
   "cell_type": "code",
   "execution_count": 178,
   "metadata": {
    "scrolled": true
   },
   "outputs": [
    {
     "name": "stderr",
     "output_type": "stream",
     "text": [
      "C:\\Users\\sunny\\Anaconda3\\lib\\site-packages\\ipykernel_launcher.py:30: DeprecationWarning: Call to deprecated `wv` (Attribute will be removed in 4.0.0, use self instead).\n",
      "C:\\Users\\sunny\\Anaconda3\\lib\\site-packages\\ipykernel_launcher.py:35: DeprecationWarning: Call to deprecated `wv` (Attribute will be removed in 4.0.0, use self instead).\n",
      "C:\\Users\\sunny\\Anaconda3\\lib\\site-packages\\ipykernel_launcher.py:38: UserWarning: To copy construct from a tensor, it is recommended to use sourceTensor.clone().detach() or sourceTensor.clone().detach().requires_grad_(True), rather than torch.tensor(sourceTensor).\n",
      "C:\\Users\\sunny\\Anaconda3\\lib\\site-packages\\ipykernel_launcher.py:41: UserWarning: To copy construct from a tensor, it is recommended to use sourceTensor.clone().detach() or sourceTensor.clone().detach().requires_grad_(True), rather than torch.tensor(sourceTensor).\n"
     ]
    },
    {
     "name": "stdout",
     "output_type": "stream",
     "text": [
      "Training document  500  /  3488 ...\n",
      "Training document  1000  /  3488 ...\n",
      "Training document  1500  /  3488 ...\n",
      "Training document  2000  /  3488 ...\n",
      "Training document  2500  /  3488 ...\n",
      "Training document  3000  /  3488 ...\n",
      "Validating document  500  /  873 ...\n",
      "\n",
      "Train Loss:  0.42428530630689765\n",
      "Validation Loss:  0.41940117990950126\n",
      "Train Accuracy:  0.2548738532110092\n",
      "Validation Accuracy:  0.293241695303551\n",
      "Confusion matrix:\n",
      "[[  0  15   4   0   0   0]\n",
      " [  0  91  94   1   0   0]\n",
      " [  0  46 147  11   0   0]\n",
      " [  0  58 131  18   0   0]\n",
      " [  0  29  88   3   0   0]\n",
      " [  0  29 105   3   0   0]]\n"
     ]
    },
    {
     "data": {
      "image/png": "[encoded data removed]",
      "text/plain": [
       "<Figure size 432x288 with 1 Axes>"
      ]
     },
     "metadata": {
      "needs_background": "light"
     },
     "output_type": "display_data"
    },
    {
     "name": "stdout",
     "output_type": "stream",
     "text": [
      "Epoch  1  is complete!\n",
      "Complete in  547.7690989971161  seconds\n",
      "\n",
      "\n",
      "Training document  500  /  3488 ...\n",
      "Training document  1000  /  3488 ...\n",
      "Training document  1500  /  3488 ...\n",
      "Training document  2000  /  3488 ...\n",
      "Training document  2500  /  3488 ...\n",
      "Training document  3000  /  3488 ...\n",
      "Validating document  500  /  873 ...\n",
      "\n",
      "Train Loss:  0.42117703211100754\n",
      "Validation Loss:  0.4198439422469983\n",
      "Train Accuracy:  0.2686353211009174\n",
      "Validation Accuracy:  0.27033218785796104\n",
      "Confusion matrix:\n",
      "[[  0  15   0   4   0   0]\n",
      " [  0 112   0  74   0   0]\n",
      " [  0  76   0 128   0   0]\n",
      " [  0  83   0 124   0   0]\n",
      " [  0  46   0  74   0   0]\n",
      " [  0  48   0  89   0   0]]\n"
     ]
    },
    {
     "data": {
      "image/png": "[encoded data removed]",
      "text/plain": [
       "<Figure size 432x288 with 1 Axes>"
      ]
     },
     "metadata": {
      "needs_background": "light"
     },
     "output_type": "display_data"
    },
    {
     "name": "stdout",
     "output_type": "stream",
     "text": [
      "Epoch  2  is complete!\n",
      "Complete in  555.3217170238495  seconds\n",
      "\n",
      "\n",
      "Training document  500  /  3488 ...\n",
      "Training document  1000  /  3488 ...\n",
      "Training document  1500  /  3488 ...\n",
      "Training document  2000  /  3488 ...\n",
      "Training document  2500  /  3488 ...\n",
      "Training document  3000  /  3488 ...\n",
      "Validating document  500  /  873 ...\n",
      "\n",
      "Train Loss:  0.419627140275066\n",
      "Validation Loss:  0.4205049805516685\n",
      "Train Accuracy:  0.2694954128440367\n",
      "Validation Accuracy:  0.284077892325315\n",
      "Confusion matrix:\n",
      "[[  0  15   4   0   0   0]\n",
      " [  0 112  73   1   0   0]\n",
      " [  0  76 124   4   0   0]\n",
      " [  0  83 112  12   0   0]\n",
      " [  0  46  71   3   0   0]\n",
      " [  0  48  89   0   0   0]]\n"
     ]
    },
    {
     "data": {
      "image/png": "[encoded data removed]",
      "text/plain": [
       "<Figure size 432x288 with 1 Axes>"
      ]
     },
     "metadata": {
      "needs_background": "light"
     },
     "output_type": "display_data"
    },
    {
     "name": "stdout",
     "output_type": "stream",
     "text": [
      "Epoch  3  is complete!\n",
      "Complete in  553.1544127464294  seconds\n",
      "\n",
      "\n",
      "Training document  500  /  3488 ...\n",
      "Training document  1000  /  3488 ...\n",
      "Training document  1500  /  3488 ...\n",
      "Training document  2000  /  3488 ...\n",
      "Training document  2500  /  3488 ...\n",
      "Training document  3000  /  3488 ...\n",
      "Validating document  500  /  873 ...\n",
      "\n",
      "Train Loss:  0.4185439409266777\n",
      "Validation Loss:  0.42027761859078927\n",
      "Train Accuracy:  0.28411697247706424\n",
      "Validation Accuracy:  0.2943871706758305\n",
      "Confusion matrix:\n",
      "[[  0  15   4   0   0   0]\n",
      " [  0 144  39   3   0   0]\n",
      " [  0 108  81  15   0   0]\n",
      " [  0  99  76  32   0   0]\n",
      " [  0  74  40   6   0   0]\n",
      " [  0  77  56   4   0   0]]\n"
     ]
    },
    {
     "data": {
      "image/png": "[encoded data removed]",
      "text/plain": [
       "<Figure size 432x288 with 1 Axes>"
      ]
     },
     "metadata": {
      "needs_background": "light"
     },
     "output_type": "display_data"
    },
    {
     "name": "stdout",
     "output_type": "stream",
     "text": [
      "Epoch  4  is complete!\n",
      "Complete in  613.8518011569977  seconds\n",
      "\n",
      "\n",
      "Training document  500  /  3488 ...\n",
      "Training document  1000  /  3488 ...\n",
      "Training document  1500  /  3488 ...\n",
      "Training document  2000  /  3488 ...\n",
      "Training document  2500  /  3488 ...\n",
      "Training document  3000  /  3488 ...\n",
      "Validating document  500  /  873 ...\n",
      "\n",
      "Train Loss:  0.41644370184758456\n",
      "Validation Loss:  0.415696187699715\n",
      "Train Accuracy:  0.3265481651376147\n",
      "Validation Accuracy:  0.37915234822451316\n",
      "Confusion matrix:\n",
      "[[  0  15   4   0   0   0]\n",
      " [  0  91  95   0   0   0]\n",
      " [  0  46 157   1   0   0]\n",
      " [  0  26  98  83   0   0]\n",
      " [  0  29  90   1   0   0]\n",
      " [  0  29 108   0   0   0]]\n"
     ]
    },
    {
     "data": {
      "image/png": "[encoded data removed]",
      "text/plain": [
       "<Figure size 432x288 with 1 Axes>"
      ]
     },
     "metadata": {
      "needs_background": "light"
     },
     "output_type": "display_data"
    },
    {
     "name": "stdout",
     "output_type": "stream",
     "text": [
      "Epoch  5  is complete!\n",
      "Complete in  634.5085201263428  seconds\n",
      "\n",
      "\n",
      "Training document  500  /  3488 ...\n",
      "Training document  1000  /  3488 ...\n",
      "Training document  1500  /  3488 ...\n",
      "Training document  2000  /  3488 ...\n",
      "Training document  2500  /  3488 ...\n",
      "Training document  3000  /  3488 ...\n",
      "Validating document  500  /  873 ...\n",
      "\n",
      "Train Loss:  0.4116418528880528\n",
      "Validation Loss:  0.40909555910392364\n",
      "Train Accuracy:  0.36840596330275227\n",
      "Validation Accuracy:  0.3837342497136312\n",
      "Confusion matrix:\n",
      "[[  0  15   4   0   0   0]\n",
      " [  0  90  96   0   0   0]\n",
      " [  0  44 158   2   0   0]\n",
      " [  0  20 100  87   0   0]\n",
      " [  0  29  91   0   0   0]\n",
      " [  0  29 108   0   0   0]]\n"
     ]
    },
    {
     "data": {
      "image/png": "[encoded data removed]",
      "text/plain": [
       "<Figure size 432x288 with 1 Axes>"
      ]
     },
     "metadata": {
      "needs_background": "light"
     },
     "output_type": "display_data"
    },
    {
     "name": "stdout",
     "output_type": "stream",
     "text": [
      "Epoch  6  is complete!\n",
      "Complete in  499.30739641189575  seconds\n",
      "\n",
      "\n",
      "Training document  500  /  3488 ...\n",
      "Training document  1000  /  3488 ...\n",
      "Training document  1500  /  3488 ...\n",
      "Training document  2000  /  3488 ...\n",
      "Training document  2500  /  3488 ...\n",
      "Training document  3000  /  3488 ...\n",
      "Validating document  500  /  873 ...\n",
      "\n",
      "Train Loss:  0.40618292251657173\n",
      "Validation Loss:  0.40304895305815075\n",
      "Train Accuracy:  0.37786697247706424\n",
      "Validation Accuracy:  0.40778923253150057\n",
      "Confusion matrix:\n",
      "[[  0  15   4   0   0   0]\n",
      " [  0 109  52   0  24   1]\n",
      " [  0  71 111   2  20   0]\n",
      " [  0  24  72  88  22   1]\n",
      " [  0  24  47   0  48   1]\n",
      " [  0  54  59   0  24   0]]\n"
     ]
    },
    {
     "data": {
      "image/png": "[encoded data removed]",
      "text/plain": [
       "<Figure size 432x288 with 1 Axes>"
      ]
     },
     "metadata": {
      "needs_background": "light"
     },
     "output_type": "display_data"
    },
    {
     "name": "stdout",
     "output_type": "stream",
     "text": [
      "Epoch  7  is complete!\n",
      "Complete in  537.7082192897797  seconds\n",
      "\n",
      "\n",
      "Training document  500  /  3488 ...\n",
      "Training document  1000  /  3488 ...\n",
      "Training document  1500  /  3488 ...\n",
      "Training document  2000  /  3488 ...\n",
      "Training document  2500  /  3488 ...\n",
      "Training document  3000  /  3488 ...\n",
      "Validating document  500  /  873 ...\n",
      "\n",
      "Train Loss:  0.40135147712604025\n",
      "Validation Loss:  0.3958267221809748\n",
      "Train Accuracy:  0.3973623853211009\n",
      "Validation Accuracy:  0.4581901489117984\n",
      "Confusion matrix:\n",
      "[[  0  12   7   0   0   0]\n",
      " [  0  69  84   0   0  33]\n",
      " [  0  26 172   4   0   2]\n",
      " [  0   9 110  88   0   0]\n",
      " [  0  18  98   4   0   0]\n",
      " [  0  14  51   1   0  71]]\n"
     ]
    },
    {
     "data": {
      "image/png": "[encoded data removed]",
      "text/plain": [
       "<Figure size 432x288 with 1 Axes>"
      ]
     },
     "metadata": {
      "needs_background": "light"
     },
     "output_type": "display_data"
    },
    {
     "name": "stdout",
     "output_type": "stream",
     "text": [
      "Epoch  8  is complete!\n",
      "Complete in  538.620805978775  seconds\n",
      "\n",
      "\n",
      "Training document  500  /  3488 ...\n",
      "Training document  1000  /  3488 ...\n",
      "Training document  1500  /  3488 ...\n",
      "Training document  2000  /  3488 ...\n",
      "Training document  2500  /  3488 ...\n",
      "Training document  3000  /  3488 ...\n",
      "Validating document  500  /  873 ...\n",
      "\n",
      "Train Loss:  0.3952060347371977\n",
      "Validation Loss:  0.3899608659045338\n",
      "Train Accuracy:  0.44724770642201833\n",
      "Validation Accuracy:  0.45933562428407787\n",
      "Confusion matrix:\n",
      "[[  0  12   7   0   0   0]\n",
      " [  0  69  84   0   0  33]\n",
      " [  0  26 175   1   0   2]\n",
      " [  0   9 112  86   0   0]\n",
      " [  0  18 102   0   0   0]\n",
      " [  0  14  52   0   0  71]]\n"
     ]
    },
    {
     "data": {
      "image/png": "[encoded data removed]",
      "text/plain": [
       "<Figure size 432x288 with 1 Axes>"
      ]
     },
     "metadata": {
      "needs_background": "light"
     },
     "output_type": "display_data"
    },
    {
     "name": "stdout",
     "output_type": "stream",
     "text": [
      "Epoch  9  is complete!\n",
      "Complete in  487.2731297016144  seconds\n",
      "\n",
      "\n",
      "Training document  500  /  3488 ...\n",
      "Training document  1000  /  3488 ...\n",
      "Training document  1500  /  3488 ...\n",
      "Training document  2000  /  3488 ...\n",
      "Training document  2500  /  3488 ...\n",
      "Training document  3000  /  3488 ...\n",
      "Validating document  500  /  873 ...\n",
      "\n",
      "Train Loss:  0.3898004061454387\n",
      "Validation Loss:  0.3849206091422174\n",
      "Train Accuracy:  0.4521215596330275\n",
      "Validation Accuracy:  0.4616265750286369\n",
      "Confusion matrix:\n",
      "[[  0  12   7   0   0   0]\n",
      " [  0  68  85   0   0  33]\n",
      " [  0  25 174   3   0   2]\n",
      " [  0   8 109  90   0   0]\n",
      " [  0  18  99   3   0   0]\n",
      " [  0  11  55   0   0  71]]\n"
     ]
    },
    {
     "data": {
      "image/png": "[encoded data removed]",
      "text/plain": [
       "<Figure size 432x288 with 1 Axes>"
      ]
     },
     "metadata": {
      "needs_background": "light"
     },
     "output_type": "display_data"
    },
    {
     "name": "stdout",
     "output_type": "stream",
     "text": [
      "Epoch  10  is complete!\n",
      "Complete in  484.27095317840576  seconds\n",
      "\n",
      "\n",
      "Training document  500  /  3488 ...\n",
      "Training document  1000  /  3488 ...\n",
      "Training document  1500  /  3488 ...\n",
      "Training document  2000  /  3488 ...\n",
      "Training document  2500  /  3488 ...\n",
      "Training document  3000  /  3488 ...\n",
      "Validating document  500  /  873 ...\n",
      "\n",
      "Train Loss:  0.3853862960412424\n",
      "Validation Loss:  0.3807079051518305\n",
      "Train Accuracy:  0.45240825688073394\n",
      "Validation Accuracy:  0.4639175257731959\n",
      "Confusion matrix:\n",
      "[[  0  12   7   0   0   0]\n",
      " [  0  69  67   0  17  33]\n",
      " [  0  25 156   1  20   2]\n",
      " [  0   8  93  88  18   0]\n",
      " [  0  18  81   0  21   0]\n",
      " [  0  11  31   0  24  71]]\n"
     ]
    },
    {
     "data": {
      "image/png": "[encoded data removed]",
      "text/plain": [
       "<Figure size 432x288 with 1 Axes>"
      ]
     },
     "metadata": {
      "needs_background": "light"
     },
     "output_type": "display_data"
    },
    {
     "name": "stdout",
     "output_type": "stream",
     "text": [
      "Epoch  11  is complete!\n",
      "Complete in  542.2760372161865  seconds\n",
      "\n",
      "\n",
      "Training document  500  /  3488 ...\n",
      "Training document  1000  /  3488 ...\n",
      "Training document  1500  /  3488 ...\n",
      "Training document  2000  /  3488 ...\n",
      "Training document  2500  /  3488 ...\n",
      "Training document  3000  /  3488 ...\n",
      "Validating document  500  /  873 ...\n",
      "\n",
      "Train Loss:  0.38188079663970115\n",
      "Validation Loss:  0.37709832420202666\n",
      "Train Accuracy:  0.4481077981651376\n",
      "Validation Accuracy:  0.47880870561282934\n",
      "Confusion matrix:\n",
      "[[  0  12   7   0   0   0]\n",
      " [  0  66  64   0  23  33]\n",
      " [  0  25 155   8  14   2]\n",
      " [  0   6  87  94  20   0]\n",
      " [  0  14  65   9  32   0]\n",
      " [  0  11  31   3  21  71]]\n"
     ]
    },
    {
     "data": {
      "image/png": "[encoded data removed]",
      "text/plain": [
       "<Figure size 432x288 with 1 Axes>"
      ]
     },
     "metadata": {
      "needs_background": "light"
     },
     "output_type": "display_data"
    },
    {
     "name": "stdout",
     "output_type": "stream",
     "text": [
      "Epoch  12  is complete!\n",
      "Complete in  608.0469176769257  seconds\n",
      "\n",
      "\n",
      "Training document  500  /  3488 ...\n",
      "Training document  1000  /  3488 ...\n",
      "Training document  1500  /  3488 ...\n",
      "Training document  2000  /  3488 ...\n",
      "Training document  2500  /  3488 ...\n",
      "Training document  3000  /  3488 ...\n",
      "Validating document  500  /  873 ...\n",
      "\n",
      "Train Loss:  0.3782482864462575\n",
      "Validation Loss:  0.37355888983983243\n",
      "Train Accuracy:  0.4690366972477064\n",
      "Validation Accuracy:  0.48911798396334477\n",
      "Confusion matrix:\n",
      "[[  0  12   7   0   0   0]\n",
      " [  0  66  64   0  23  33]\n",
      " [  0  25 156   0  21   2]\n",
      " [  0   6  90  86  25   0]\n",
      " [  0   5  66   1  48   0]\n",
      " [  0  11  31   0  24  71]]\n"
     ]
    },
    {
     "data": {
      "image/png": "[encoded data removed]",
      "text/plain": [
       "<Figure size 432x288 with 1 Axes>"
      ]
     },
     "metadata": {
      "needs_background": "light"
     },
     "output_type": "display_data"
    },
    {
     "name": "stdout",
     "output_type": "stream",
     "text": [
      "Epoch  13  is complete!\n",
      "Complete in  618.2003231048584  seconds\n",
      "\n",
      "\n",
      "Training document  500  /  3488 ...\n",
      "Training document  1000  /  3488 ...\n",
      "Training document  1500  /  3488 ...\n",
      "Training document  2000  /  3488 ...\n",
      "Training document  2500  /  3488 ...\n",
      "Training document  3000  /  3488 ...\n",
      "Validating document  500  /  873 ...\n",
      "\n",
      "Train Loss:  0.3749542933004011\n",
      "Validation Loss:  0.3704397251352926\n",
      "Train Accuracy:  0.4782110091743119\n",
      "Validation Accuracy:  0.4925544100801833\n",
      "Confusion matrix:\n",
      "[[  0  12   7   0   0   0]\n",
      " [  0  67  65   0  21  33]\n",
      " [  0  25 156   0  21   2]\n",
      " [  0   5  91  85  26   0]\n",
      " [  0   2  67   0  51   0]\n",
      " [  0  11  31   0  24  71]]\n"
     ]
    },
    {
     "data": {
      "image/png": "[encoded data removed]",
      "text/plain": [
       "<Figure size 432x288 with 1 Axes>"
      ]
     },
     "metadata": {
      "needs_background": "light"
     },
     "output_type": "display_data"
    },
    {
     "name": "stdout",
     "output_type": "stream",
     "text": [
      "Epoch  14  is complete!\n",
      "Complete in  609.3881525993347  seconds\n",
      "\n",
      "\n",
      "Training document  500  /  3488 ...\n",
      "Training document  1000  /  3488 ...\n",
      "Training document  1500  /  3488 ...\n",
      "Training document  2000  /  3488 ...\n",
      "Training document  2500  /  3488 ...\n",
      "Training document  3000  /  3488 ...\n",
      "Validating document  500  /  873 ...\n",
      "\n",
      "Train Loss:  0.37196596367694007\n",
      "Validation Loss:  0.36738119255909085\n",
      "Train Accuracy:  0.48480504587155965\n",
      "Validation Accuracy:  0.4925544100801833\n",
      "Confusion matrix:\n",
      "[[  0  12   7   0   0   0]\n",
      " [  0  67  80   0   6  33]\n",
      " [  0  25 157   1  19   2]\n",
      " [  0   5  97  85  20   0]\n",
      " [  0   2  68   0  50   0]\n",
      " [  0  11  31   0  24  71]]\n"
     ]
    },
    {
     "data": {
      "image/png": "[encoded data removed]",
      "text/plain": [
       "<Figure size 432x288 with 1 Axes>"
      ]
     },
     "metadata": {
      "needs_background": "light"
     },
     "output_type": "display_data"
    },
    {
     "name": "stdout",
     "output_type": "stream",
     "text": [
      "Epoch  15  is complete!\n",
      "Complete in  669.9287104606628  seconds\n",
      "\n",
      "\n",
      "Training document  500  /  3488 ...\n",
      "Training document  1000  /  3488 ...\n",
      "Training document  1500  /  3488 ...\n",
      "Training document  2000  /  3488 ...\n",
      "Training document  2500  /  3488 ...\n",
      "Training document  3000  /  3488 ...\n",
      "Validating document  500  /  873 ...\n",
      "\n",
      "Train Loss:  0.36911869190003876\n",
      "Validation Loss:  0.36465893330204563\n",
      "Train Accuracy:  0.4974197247706422\n",
      "Validation Accuracy:  0.5005727376861397\n",
      "Confusion matrix:\n",
      "[[  0  12   7   0   0   0]\n",
      " [  0  67  81   0   5  33]\n",
      " [  0  25 163   1  13   2]\n",
      " [  0   6 101  87  11   2]\n",
      " [  0   2  68   1  49   0]\n",
      " [  0  11  31   0  24  71]]\n"
     ]
    },
    {
     "data": {
      "image/png": "[encoded data removed]",
      "text/plain": [
       "<Figure size 432x288 with 1 Axes>"
      ]
     },
     "metadata": {
      "needs_background": "light"
     },
     "output_type": "display_data"
    },
    {
     "name": "stdout",
     "output_type": "stream",
     "text": [
      "Epoch  16  is complete!\n",
      "Complete in  555.699675321579  seconds\n",
      "\n",
      "\n",
      "Training document  500  /  3488 ...\n",
      "Training document  1000  /  3488 ...\n",
      "Training document  1500  /  3488 ...\n",
      "Training document  2000  /  3488 ...\n",
      "Training document  2500  /  3488 ...\n",
      "Training document  3000  /  3488 ...\n",
      "Validating document  500  /  873 ...\n",
      "\n",
      "Train Loss:  0.3665442280397427\n",
      "Validation Loss:  0.3619326799829873\n",
      "Train Accuracy:  0.5\n",
      "Validation Accuracy:  0.5085910652920962\n",
      "Confusion matrix:\n",
      "[[  0  12   7   0   0   0]\n",
      " [  0  67  77   3   6  33]\n",
      " [  0  25 142  19  12   6]\n",
      " [  0   5  75 109  16   2]\n",
      " [  0   2  65   4  46   3]\n",
      " [  0  11  26   5  15  80]]\n"
     ]
    },
    {
     "data": {
      "image/png": "[encoded data removed]",
      "text/plain": [
       "<Figure size 432x288 with 1 Axes>"
      ]
     },
     "metadata": {
      "needs_background": "light"
     },
     "output_type": "display_data"
    },
    {
     "name": "stdout",
     "output_type": "stream",
     "text": [
      "Epoch  17  is complete!\n",
      "Complete in  491.5675575733185  seconds\n",
      "\n",
      "\n",
      "Training document  500  /  3488 ...\n",
      "Training document  1000  /  3488 ...\n",
      "Training document  1500  /  3488 ...\n",
      "Training document  2000  /  3488 ...\n",
      "Training document  2500  /  3488 ...\n",
      "Training document  3000  /  3488 ...\n",
      "Validating document  500  /  873 ...\n",
      "\n",
      "Train Loss:  0.36392980335418723\n",
      "Validation Loss:  0.35999915468725824\n",
      "Train Accuracy:  0.5103211009174312\n",
      "Validation Accuracy:  0.5189003436426117\n",
      "Confusion matrix:\n",
      "[[  0  12   7   0   0   0]\n",
      " [  0  68  81   0   4  33]\n",
      " [  0  26 172   2   1   3]\n",
      " [  0   9 111  77   0  10]\n",
      " [  0   2  72   3  43   0]\n",
      " [  0  11  32   1   0  93]]\n"
     ]
    },
    {
     "data": {
      "image/png": "[encoded data removed]",
      "text/plain": [
       "<Figure size 432x288 with 1 Axes>"
      ]
     },
     "metadata": {
      "needs_background": "light"
     },
     "output_type": "display_data"
    },
    {
     "name": "stdout",
     "output_type": "stream",
     "text": [
      "Epoch  18  is complete!\n",
      "Complete in  484.71304845809937  seconds\n",
      "\n",
      "\n",
      "Training document  500  /  3488 ...\n",
      "Training document  1000  /  3488 ...\n",
      "Training document  1500  /  3488 ...\n",
      "Training document  2000  /  3488 ...\n",
      "Training document  2500  /  3488 ...\n",
      "Training document  3000  /  3488 ...\n",
      "Validating document  500  /  873 ...\n",
      "\n",
      "Train Loss:  0.3615356090529084\n",
      "Validation Loss:  0.3575009221865808\n",
      "Train Accuracy:  0.5223623853211009\n",
      "Validation Accuracy:  0.5257731958762887\n",
      "Confusion matrix:\n",
      "[[  0  12   7   0   0   0]\n",
      " [  0  73  80   2   4  27]\n",
      " [  0  26 156  18   1   3]\n",
      " [  0   9  93 103   0   2]\n",
      " [  0   2  66   7  43   2]\n",
      " [  0  20  31   2   0  84]]\n"
     ]
    },
    {
     "data": {
      "image/png": "[encoded data removed]",
      "text/plain": [
       "<Figure size 432x288 with 1 Axes>"
      ]
     },
     "metadata": {
      "needs_background": "light"
     },
     "output_type": "display_data"
    },
    {
     "name": "stdout",
     "output_type": "stream",
     "text": [
      "Epoch  19  is complete!\n",
      "Complete in  575.9640667438507  seconds\n",
      "\n",
      "\n",
      "Training document  500  /  3488 ...\n",
      "Training document  1000  /  3488 ...\n",
      "Training document  1500  /  3488 ...\n",
      "Training document  2000  /  3488 ...\n",
      "Training document  2500  /  3488 ...\n",
      "Training document  3000  /  3488 ...\n",
      "Validating document  500  /  873 ...\n",
      "\n",
      "Train Loss:  0.35932415509076315\n",
      "Validation Loss:  0.3576049343478259\n",
      "Train Accuracy:  0.5217889908256881\n",
      "Validation Accuracy:  0.4742268041237113\n",
      "Confusion matrix:\n",
      "[[  0  12   7   0   0   0]\n",
      " [  0  67  66   0  20  33]\n",
      " [  0  25 152   3  22   2]\n",
      " [  0   5  85  73  44   0]\n",
      " [  0   2  64   3  51   0]\n",
      " [  0  11  31   0  24  71]]\n"
     ]
    },
    {
     "data": {
      "image/png": "[encoded data removed]",
      "text/plain": [
       "<Figure size 432x288 with 1 Axes>"
      ]
     },
     "metadata": {
      "needs_background": "light"
     },
     "output_type": "display_data"
    },
    {
     "name": "stdout",
     "output_type": "stream",
     "text": [
      "Epoch  20  is complete!\n",
      "Complete in  617.2199976444244  seconds\n",
      "\n",
      "\n",
      "Training document  500  /  3488 ...\n",
      "Training document  1000  /  3488 ...\n",
      "Training document  1500  /  3488 ...\n",
      "Training document  2000  /  3488 ...\n",
      "Training document  2500  /  3488 ...\n",
      "Training document  3000  /  3488 ...\n",
      "Validating document  500  /  873 ...\n",
      "\n",
      "Train Loss:  0.3573256289036808\n",
      "Validation Loss:  0.3581212245720854\n",
      "Train Accuracy:  0.5197821100917431\n",
      "Validation Accuracy:  0.4845360824742268\n",
      "Confusion matrix:\n",
      "[[  0  12   7   0   0   0]\n",
      " [  0  70  81   0   2  33]\n",
      " [  0  28 164   9   1   2]\n",
      " [  0  10 101  96   0   0]\n",
      " [  1  19  72   6  22   0]\n",
      " [  0  11  33  22   0  71]]\n"
     ]
    },
    {
     "data": {
      "image/png": "[encoded data removed]",
      "text/plain": [
       "<Figure size 432x288 with 1 Axes>"
      ]
     },
     "metadata": {
      "needs_background": "light"
     },
     "output_type": "display_data"
    },
    {
     "name": "stdout",
     "output_type": "stream",
     "text": [
      "Epoch  21  is complete!\n",
      "Complete in  624.4850788116455  seconds\n",
      "\n",
      "\n",
      "Training document  500  /  3488 ...\n",
      "Training document  1000  /  3488 ...\n",
      "Training document  1500  /  3488 ...\n",
      "Training document  2000  /  3488 ...\n",
      "Training document  2500  /  3488 ...\n",
      "Training document  3000  /  3488 ...\n",
      "Validating document  500  /  873 ...\n",
      "\n",
      "Train Loss:  0.35534681959326414\n",
      "Validation Loss:  0.356212301551429\n",
      "Train Accuracy:  0.5263761467889908\n",
      "Validation Accuracy:  0.5303550973654066\n",
      "Confusion matrix:\n",
      "[[  0  12   7   0   0   0]\n",
      " [  0  68  81   0   4  33]\n",
      " [  0  26 161  13   1   3]\n",
      " [  0   9  99  98   0   1]\n",
      " [  0   2  70   5  43   0]\n",
      " [  0  11  32   1   0  93]]\n"
     ]
    },
    {
     "data": {
      "image/png": "[encoded data removed]",
      "text/plain": [
       "<Figure size 432x288 with 1 Axes>"
      ]
     },
     "metadata": {
      "needs_background": "light"
     },
     "output_type": "display_data"
    },
    {
     "name": "stdout",
     "output_type": "stream",
     "text": [
      "Epoch  22  is complete!\n",
      "Complete in  651.9341180324554  seconds\n",
      "\n",
      "\n",
      "Training document  500  /  3488 ...\n",
      "Training document  1000  /  3488 ...\n",
      "Training document  1500  /  3488 ...\n",
      "Training document  2000  /  3488 ...\n",
      "Training document  2500  /  3488 ...\n",
      "Training document  3000  /  3488 ...\n",
      "Validating document  500  /  873 ...\n",
      "\n",
      "Train Loss:  0.35346625230417306\n",
      "Validation Loss:  0.3542043672908111\n",
      "Train Accuracy:  0.5246559633027523\n",
      "Validation Accuracy:  0.5303550973654066\n",
      "Confusion matrix:\n",
      "[[  0  12   7   0   0   0]\n",
      " [  0  67  80   2   4  33]\n",
      " [  0  25 154  21   1   3]\n",
      " [  0   8  92 106   0   1]\n",
      " [  0   2  66   9  43   0]\n",
      " [  0  11  30   3   0  93]]\n"
     ]
    },
    {
     "data": {
      "image/png": "[encoded data removed]",
      "text/plain": [
       "<Figure size 432x288 with 1 Axes>"
      ]
     },
     "metadata": {
      "needs_background": "light"
     },
     "output_type": "display_data"
    },
    {
     "name": "stdout",
     "output_type": "stream",
     "text": [
      "Epoch  23  is complete!\n",
      "Complete in  623.7965261936188  seconds\n",
      "\n",
      "\n",
      "Training document  500  /  3488 ...\n",
      "Training document  1000  /  3488 ...\n",
      "Training document  1500  /  3488 ...\n",
      "Training document  2000  /  3488 ...\n",
      "Training document  2500  /  3488 ...\n",
      "Training document  3000  /  3488 ...\n",
      "Validating document  500  /  873 ...\n",
      "\n",
      "Train Loss:  0.35194801643726686\n",
      "Validation Loss:  0.35242555105423\n",
      "Train Accuracy:  0.5177752293577982\n",
      "Validation Accuracy:  0.5292096219931272\n",
      "Confusion matrix:\n",
      "[[  0  12   7   0   0   0]\n",
      " [  0  67  82   0   4  33]\n",
      " [  0  25 171   4   1   3]\n",
      " [  0   8 110  88   0   1]\n",
      " [  0   2  69   6  43   0]\n",
      " [  0  11  32   1   0  93]]\n"
     ]
    },
    {
     "data": {
      "image/png": "[encoded data removed]",
      "text/plain": [
       "<Figure size 432x288 with 1 Axes>"
      ]
     },
     "metadata": {
      "needs_background": "light"
     },
     "output_type": "display_data"
    },
    {
     "name": "stdout",
     "output_type": "stream",
     "text": [
      "Epoch  24  is complete!\n",
      "Complete in  605.9908411502838  seconds\n",
      "\n",
      "\n",
      "Training document  500  /  3488 ...\n",
      "Training document  1000  /  3488 ...\n",
      "Training document  1500  /  3488 ...\n",
      "Training document  2000  /  3488 ...\n",
      "Training document  2500  /  3488 ...\n",
      "Training document  3000  /  3488 ...\n",
      "Validating document  500  /  873 ...\n",
      "\n",
      "Train Loss:  0.3503427765507106\n",
      "Validation Loss:  0.3507308906694035\n",
      "Train Accuracy:  0.5229357798165137\n",
      "Validation Accuracy:  0.5315005727376861\n",
      "Confusion matrix:\n",
      "[[  0  12   7   0   0   0]\n",
      " [  0  67  82   0   4  33]\n",
      " [  0  25 163  12   1   3]\n",
      " [  0   8 100  98   0   1]\n",
      " [  0   2  66   9  43   0]\n",
      " [  0  11  32   1   0  93]]\n"
     ]
    },
    {
     "data": {
      "image/png": "[encoded data removed]",
      "text/plain": [
       "<Figure size 432x288 with 1 Axes>"
      ]
     },
     "metadata": {
      "needs_background": "light"
     },
     "output_type": "display_data"
    },
    {
     "name": "stdout",
     "output_type": "stream",
     "text": [
      "Epoch  25  is complete!\n",
      "Complete in  738.0263938903809  seconds\n",
      "\n",
      "\n",
      "Training document  500  /  3488 ...\n",
      "Training document  1000  /  3488 ...\n",
      "Training document  1500  /  3488 ...\n",
      "Training document  2000  /  3488 ...\n",
      "Training document  2500  /  3488 ...\n",
      "Training document  3000  /  3488 ...\n",
      "Validating document  500  /  873 ...\n",
      "\n",
      "Train Loss:  0.3488761616396573\n",
      "Validation Loss:  0.3490758901091316\n",
      "Train Accuracy:  0.5232224770642202\n",
      "Validation Accuracy:  0.5360824742268041\n",
      "Confusion matrix:\n",
      "[[  0  12   7   0   0   0]\n",
      " [  0  67  76   4   4  35]\n",
      " [  0  25 146  25   1   7]\n",
      " [  0   5  81 117   0   4]\n",
      " [  0   2  65   4  43   6]\n",
      " [  0  11  26   5   0  95]]\n"
     ]
    },
    {
     "data": {
      "image/png": "[encoded data removed]",
      "text/plain": [
       "<Figure size 432x288 with 1 Axes>"
      ]
     },
     "metadata": {
      "needs_background": "light"
     },
     "output_type": "display_data"
    },
    {
     "name": "stdout",
     "output_type": "stream",
     "text": [
      "Epoch  26  is complete!\n",
      "Complete in  570.0928032398224  seconds\n",
      "\n",
      "\n",
      "Training document  500  /  3488 ...\n",
      "Training document  1000  /  3488 ...\n",
      "Training document  1500  /  3488 ...\n",
      "Training document  2000  /  3488 ...\n",
      "Training document  2500  /  3488 ...\n",
      "Training document  3000  /  3488 ...\n",
      "Validating document  500  /  873 ...\n",
      "\n",
      "Train Loss:  0.34757243421531325\n",
      "Validation Loss:  0.3476811133030372\n",
      "Train Accuracy:  0.5275229357798165\n",
      "Validation Accuracy:  0.5315005727376861\n",
      "Confusion matrix:\n",
      "[[  0  12   7   0   0   0]\n",
      " [  0  68  81   0   4  33]\n",
      " [  0  26 163  11   1   3]\n",
      " [  0   9 100  97   0   1]\n",
      " [  0   2  68   7  43   0]\n",
      " [  0  11  32   1   0  93]]\n"
     ]
    },
    {
     "data": {
      "image/png": "[encoded data removed]",
      "text/plain": [
       "<Figure size 432x288 with 1 Axes>"
      ]
     },
     "metadata": {
      "needs_background": "light"
     },
     "output_type": "display_data"
    },
    {
     "name": "stdout",
     "output_type": "stream",
     "text": [
      "Epoch  27  is complete!\n",
      "Complete in  562.7506020069122  seconds\n",
      "\n",
      "\n",
      "Training document  500  /  3488 ...\n",
      "Training document  1000  /  3488 ...\n",
      "Training document  1500  /  3488 ...\n",
      "Training document  2000  /  3488 ...\n",
      "Training document  2500  /  3488 ...\n",
      "Training document  3000  /  3488 ...\n",
      "Validating document  500  /  873 ...\n",
      "\n",
      "Train Loss:  0.3462233055099366\n",
      "Validation Loss:  0.34630872431536064\n",
      "Train Accuracy:  0.5272362385321101\n",
      "Validation Accuracy:  0.5326460481099656\n",
      "Confusion matrix:\n",
      "[[  0  12   7   0   0   0]\n",
      " [  0  67  79   3   4  33]\n",
      " [  0  25 152  23   1   3]\n",
      " [  0   8  85 110   0   4]\n",
      " [  0   2  69   6  43   0]\n",
      " [  0  11  26   7   0  93]]\n"
     ]
    },
    {
     "data": {
      "image/png": "[encoded data removed]",
      "text/plain": [
       "<Figure size 432x288 with 1 Axes>"
      ]
     },
     "metadata": {
      "needs_background": "light"
     },
     "output_type": "display_data"
    },
    {
     "name": "stdout",
     "output_type": "stream",
     "text": [
      "Epoch  28  is complete!\n",
      "Complete in  585.8817799091339  seconds\n",
      "\n",
      "\n",
      "Training document  500  /  3488 ...\n",
      "Training document  1000  /  3488 ...\n",
      "Training document  1500  /  3488 ...\n",
      "Training document  2000  /  3488 ...\n",
      "Training document  2500  /  3488 ...\n",
      "Training document  3000  /  3488 ...\n",
      "Validating document  500  /  873 ...\n",
      "\n",
      "Train Loss:  0.3450580983045529\n",
      "Validation Loss:  0.3465347140343926\n",
      "Train Accuracy:  0.523795871559633\n",
      "Validation Accuracy:  0.49942726231386025\n",
      "Confusion matrix:\n",
      "[[  0  12   7   0   0   0]\n",
      " [  0  68  78   3   4  33]\n",
      " [  0  26 154  21   1   2]\n",
      " [  0   9 104  94   0   0]\n",
      " [  0   2  70   5  43   0]\n",
      " [  0  11  27  22   0  77]]\n"
     ]
    },
    {
     "data": {
      "image/png": "[encoded data removed]",
      "text/plain": [
       "<Figure size 432x288 with 1 Axes>"
      ]
     },
     "metadata": {
      "needs_background": "light"
     },
     "output_type": "display_data"
    },
    {
     "name": "stdout",
     "output_type": "stream",
     "text": [
      "Epoch  29  is complete!\n",
      "Complete in  608.065993309021  seconds\n",
      "\n",
      "\n",
      "Training document  500  /  3488 ...\n",
      "Training document  1000  /  3488 ...\n",
      "Training document  1500  /  3488 ...\n",
      "Training document  2000  /  3488 ...\n",
      "Training document  2500  /  3488 ...\n",
      "Training document  3000  /  3488 ...\n",
      "Validating document  500  /  873 ...\n",
      "\n",
      "Train Loss:  0.3442555616198662\n",
      "Validation Loss:  0.3454473337100747\n",
      "Train Accuracy:  0.5094610091743119\n",
      "Validation Accuracy:  0.5315005727376861\n",
      "Confusion matrix:\n",
      "[[  0  12   7   0   0   0]\n",
      " [  0  68  81   0   4  33]\n",
      " [  0  26 173   1   1   3]\n",
      " [  0   9 110  87   0   1]\n",
      " [  0   2  73   2  43   0]\n",
      " [  0  11  33   0   0  93]]\n"
     ]
    },
    {
     "data": {
      "image/png": "[encoded data removed]",
      "text/plain": [
       "<Figure size 432x288 with 1 Axes>"
      ]
     },
     "metadata": {
      "needs_background": "light"
     },
     "output_type": "display_data"
    },
    {
     "name": "stdout",
     "output_type": "stream",
     "text": [
      "Epoch  30  is complete!\n",
      "Complete in  609.6246535778046  seconds\n",
      "\n",
      "\n",
      "Training document  500  /  3488 ...\n",
      "Training document  1000  /  3488 ...\n",
      "Training document  1500  /  3488 ...\n",
      "Training document  2000  /  3488 ...\n",
      "Training document  2500  /  3488 ...\n",
      "Training document  3000  /  3488 ...\n",
      "Validating document  500  /  873 ...\n",
      "\n",
      "Train Loss:  0.3432272488403881\n",
      "Validation Loss:  0.3444093468071507\n",
      "Train Accuracy:  0.5192087155963303\n",
      "Validation Accuracy:  0.5303550973654066\n",
      "Confusion matrix:\n",
      "[[  0  12   7   0   0   0]\n",
      " [  0  68  81   0   4  33]\n",
      " [  0  27 173   0   1   3]\n",
      " [  0   9 111  86   0   1]\n",
      " [  0   2  75   0  43   0]\n",
      " [  0  11  33   0   0  93]]\n"
     ]
    },
    {
     "data": {
      "image/png": "[encoded data removed]",
      "text/plain": [
       "<Figure size 432x288 with 1 Axes>"
      ]
     },
     "metadata": {
      "needs_background": "light"
     },
     "output_type": "display_data"
    },
    {
     "name": "stdout",
     "output_type": "stream",
     "text": [
      "Epoch  31  is complete!\n",
      "Complete in  643.7205173969269  seconds\n",
      "\n",
      "\n",
      "Training document  500  /  3488 ...\n",
      "Training document  1000  /  3488 ...\n",
      "Training document  1500  /  3488 ...\n",
      "Training document  2000  /  3488 ...\n",
      "Training document  2500  /  3488 ...\n",
      "Training document  3000  /  3488 ...\n",
      "Validating document  500  /  873 ...\n",
      "\n",
      "Train Loss:  0.3421793109219489\n",
      "Validation Loss:  0.3432512380976881\n",
      "Train Accuracy:  0.5246559633027523\n",
      "Validation Accuracy:  0.5349369988545246\n",
      "Confusion matrix:\n",
      "[[  0  12   7   0   0   0]\n",
      " [  0  68  81   0   4  33]\n",
      " [  0  25 170   5   1   3]\n",
      " [  0   8 105  93   0   1]\n",
      " [  0   2  72   3  43   0]\n",
      " [  0  11  33   0   0  93]]\n"
     ]
    },
    {
     "data": {
      "image/png": "[encoded data removed]",
      "text/plain": [
       "<Figure size 432x288 with 1 Axes>"
      ]
     },
     "metadata": {
      "needs_background": "light"
     },
     "output_type": "display_data"
    },
    {
     "name": "stdout",
     "output_type": "stream",
     "text": [
      "Epoch  32  is complete!\n",
      "Complete in  596.6816246509552  seconds\n",
      "\n",
      "\n",
      "Training document  500  /  3488 ...\n",
      "Training document  1000  /  3488 ...\n",
      "Training document  1500  /  3488 ...\n",
      "Training document  2000  /  3488 ...\n",
      "Training document  2500  /  3488 ...\n",
      "Training document  3000  /  3488 ...\n",
      "Validating document  500  /  873 ...\n",
      "\n",
      "Train Loss:  0.341259661310968\n",
      "Validation Loss:  0.34215643876796953\n",
      "Train Accuracy:  0.5252293577981652\n",
      "Validation Accuracy:  0.5292096219931272\n",
      "Confusion matrix:\n",
      "[[  0  12   7   0   0   0]\n",
      " [  0  67  82   0   4  33]\n",
      " [  0  25 161  14   1   3]\n",
      " [  0   6 100  98   0   3]\n",
      " [  0   2  70   5  43   0]\n",
      " [  0  11  32   1   0  93]]\n"
     ]
    },
    {
     "data": {
      "image/png": "[encoded data removed]",
      "text/plain": [
       "<Figure size 432x288 with 1 Axes>"
      ]
     },
     "metadata": {
      "needs_background": "light"
     },
     "output_type": "display_data"
    },
    {
     "name": "stdout",
     "output_type": "stream",
     "text": [
      "Epoch  33  is complete!\n",
      "Complete in  626.4264848232269  seconds\n",
      "\n",
      "\n",
      "Training document  500  /  3488 ...\n",
      "Training document  1000  /  3488 ...\n",
      "Training document  1500  /  3488 ...\n",
      "Training document  2000  /  3488 ...\n",
      "Training document  2500  /  3488 ...\n",
      "Training document  3000  /  3488 ...\n",
      "Validating document  500  /  873 ...\n",
      "\n",
      "Train Loss:  0.3404131937034183\n",
      "Validation Loss:  0.3422454835661567\n",
      "Train Accuracy:  0.5226490825688074\n",
      "Validation Accuracy:  0.5085910652920962\n",
      "Confusion matrix:\n",
      "[[  0  12   3   4   0   0]\n",
      " [  0  68  61  20   4  33]\n",
      " [  0  26  80  94   1   3]\n",
      " [  0   9  37 160   0   1]\n",
      " [  0   2  43  32  43   0]\n",
      " [  0  11  13  20   0  93]]\n"
     ]
    },
    {
     "data": {
      "image/png": "[encoded data removed]",
      "text/plain": [
       "<Figure size 432x288 with 1 Axes>"
      ]
     },
     "metadata": {
      "needs_background": "light"
     },
     "output_type": "display_data"
    },
    {
     "name": "stdout",
     "output_type": "stream",
     "text": [
      "Epoch  34  is complete!\n",
      "Complete in  620.8120329380035  seconds\n",
      "\n",
      "\n",
      "Training document  500  /  3488 ...\n",
      "Training document  1000  /  3488 ...\n",
      "Training document  1500  /  3488 ...\n",
      "Training document  2000  /  3488 ...\n",
      "Training document  2500  /  3488 ...\n",
      "Training document  3000  /  3488 ...\n",
      "Validating document  500  /  873 ...\n",
      "\n",
      "Train Loss:  0.33965122881283033\n",
      "Validation Loss:  0.34199996599150706\n",
      "Train Accuracy:  0.5229357798165137\n",
      "Validation Accuracy:  0.49140893470790376\n",
      "Confusion matrix:\n",
      "[[  0  12   7   0   0   0]\n",
      " [  0  68  80   1   4  33]\n",
      " [  0  25 163  13   1   2]\n",
      " [  0   6 103  98   0   0]\n",
      " [  0   2  67   8  29  14]\n",
      " [  0  11  34  21   0  71]]\n"
     ]
    },
    {
     "data": {
      "image/png": "[encoded data removed]",
      "text/plain": [
       "<Figure size 432x288 with 1 Axes>"
      ]
     },
     "metadata": {
      "needs_background": "light"
     },
     "output_type": "display_data"
    },
    {
     "name": "stdout",
     "output_type": "stream",
     "text": [
      "Epoch  35  is complete!\n",
      "Complete in  602.5238366127014  seconds\n",
      "\n",
      "\n",
      "Training document  500  /  3488 ...\n",
      "Training document  1000  /  3488 ...\n",
      "Training document  1500  /  3488 ...\n",
      "Training document  2000  /  3488 ...\n",
      "Training document  2500  /  3488 ...\n",
      "Training document  3000  /  3488 ...\n",
      "Validating document  500  /  873 ...\n",
      "\n",
      "Train Loss:  0.33887440596976615\n",
      "Validation Loss:  0.3411183813946468\n",
      "Train Accuracy:  0.5263761467889908\n",
      "Validation Accuracy:  0.5337915234822451\n",
      "Confusion matrix:\n",
      "[[  0  12   7   0   0   0]\n",
      " [  0  67  82   0   4  33]\n",
      " [  0  25 165  10   1   3]\n",
      " [  0   6 102  98   0   1]\n",
      " [  0   2  67   8  43   0]\n",
      " [  0  11  31   2   0  93]]\n"
     ]
    },
    {
     "data": {
      "image/png": "[encoded data removed]",
      "text/plain": [
       "<Figure size 432x288 with 1 Axes>"
      ]
     },
     "metadata": {
      "needs_background": "light"
     },
     "output_type": "display_data"
    },
    {
     "name": "stdout",
     "output_type": "stream",
     "text": [
      "Epoch  36  is complete!\n",
      "Complete in  580.5317296981812  seconds\n",
      "\n",
      "\n",
      "Training document  500  /  3488 ...\n",
      "Training document  1000  /  3488 ...\n",
      "Training document  1500  /  3488 ...\n",
      "Training document  2000  /  3488 ...\n",
      "Training document  2500  /  3488 ...\n",
      "Training document  3000  /  3488 ...\n",
      "Validating document  500  /  873 ...\n",
      "\n",
      "Train Loss:  0.3381822665947383\n",
      "Validation Loss:  0.3402826057622123\n",
      "Train Accuracy:  0.5263761467889908\n",
      "Validation Accuracy:  0.5337915234822451\n",
      "Confusion matrix:\n",
      "[[  0  12   7   0   0   0]\n",
      " [  0  67  78   3   4  34]\n",
      " [  0  25 138  33   1   7]\n",
      " [  0   5  73 124   0   5]\n",
      " [  0   2  64   5  43   6]\n",
      " [  0  11  25   7   0  94]]\n"
     ]
    },
    {
     "data": {
      "image/png": "[encoded data removed]",
      "text/plain": [
       "<Figure size 432x288 with 1 Axes>"
      ]
     },
     "metadata": {
      "needs_background": "light"
     },
     "output_type": "display_data"
    },
    {
     "name": "stdout",
     "output_type": "stream",
     "text": [
      "Epoch  37  is complete!\n",
      "Complete in  558.8837602138519  seconds\n",
      "\n",
      "\n",
      "Training document  500  /  3488 ...\n",
      "Training document  1000  /  3488 ...\n",
      "Training document  1500  /  3488 ...\n",
      "Training document  2000  /  3488 ...\n",
      "Training document  2500  /  3488 ...\n",
      "Training document  3000  /  3488 ...\n",
      "Validating document  500  /  873 ...\n",
      "\n",
      "Train Loss:  0.3374154739779579\n",
      "Validation Loss:  0.33950115250689017\n",
      "Train Accuracy:  0.5298165137614679\n",
      "Validation Accuracy:  0.5280641466208477\n",
      "Confusion matrix:\n",
      "[[  0  12   7   0   0   0]\n",
      " [  0  68  79   2   4  33]\n",
      " [  0  26 156  18   1   3]\n",
      " [  0   9  96 101   0   1]\n",
      " [  0   2  66   9  43   0]\n",
      " [  0  11  31   2   0  93]]\n"
     ]
    },
    {
     "data": {
      "image/png": "[encoded data removed]",
      "text/plain": [
       "<Figure size 432x288 with 1 Axes>"
      ]
     },
     "metadata": {
      "needs_background": "light"
     },
     "output_type": "display_data"
    },
    {
     "name": "stdout",
     "output_type": "stream",
     "text": [
      "Epoch  38  is complete!\n",
      "Complete in  494.2991507053375  seconds\n",
      "\n",
      "\n",
      "Training document  500  /  3488 ...\n",
      "Training document  1000  /  3488 ...\n",
      "Training document  1500  /  3488 ...\n",
      "Training document  2000  /  3488 ...\n",
      "Training document  2500  /  3488 ...\n",
      "Training document  3000  /  3488 ...\n",
      "Validating document  500  /  873 ...\n",
      "\n",
      "Train Loss:  0.3367191719035507\n",
      "Validation Loss:  0.33871561840775655\n",
      "Train Accuracy:  0.5255160550458715\n",
      "Validation Accuracy:  0.5349369988545246\n",
      "Confusion matrix:\n",
      "[[  0  12   7   0   0   0]\n",
      " [  0  69  79   1   4  33]\n",
      " [  0  25 158  17   1   3]\n",
      " [  0   8  94 104   0   1]\n",
      " [  0   2  66   9  43   0]\n",
      " [  0  11  30   3   0  93]]\n"
     ]
    },
    {
     "data": {
      "image/png": "[encoded data removed]",
      "text/plain": [
       "<Figure size 432x288 with 1 Axes>"
      ]
     },
     "metadata": {
      "needs_background": "light"
     },
     "output_type": "display_data"
    },
    {
     "name": "stdout",
     "output_type": "stream",
     "text": [
      "Epoch  39  is complete!\n",
      "Complete in  492.78912353515625  seconds\n",
      "\n",
      "\n",
      "Training document  500  /  3488 ...\n",
      "Training document  1000  /  3488 ...\n",
      "Training document  1500  /  3488 ...\n",
      "Training document  2000  /  3488 ...\n",
      "Training document  2500  /  3488 ...\n",
      "Training document  3000  /  3488 ...\n",
      "Validating document  500  /  873 ...\n",
      "\n",
      "Train Loss:  0.3360192400881361\n",
      "Validation Loss:  0.3379217161649335\n",
      "Train Accuracy:  0.5303899082568807\n",
      "Validation Accuracy:  0.5326460481099656\n",
      "Confusion matrix:\n",
      "[[  0  12   7   0   0   0]\n",
      " [  0  68  78   3   4  33]\n",
      " [  0  25 152  23   1   3]\n",
      " [  0   6  91 109   0   1]\n",
      " [  0   2  66   9  43   0]\n",
      " [  0  11  30   3   0  93]]\n"
     ]
    },
    {
     "data": {
      "image/png": "[encoded data removed]",
      "text/plain": [
       "<Figure size 432x288 with 1 Axes>"
      ]
     },
     "metadata": {
      "needs_background": "light"
     },
     "output_type": "display_data"
    },
    {
     "name": "stdout",
     "output_type": "stream",
     "text": [
      "Epoch  40  is complete!\n",
      "Complete in  494.83009672164917  seconds\n",
      "\n",
      "\n",
      "Training document  500  /  3488 ...\n",
      "Training document  1000  /  3488 ...\n",
      "Training document  1500  /  3488 ...\n",
      "Training document  2000  /  3488 ...\n",
      "Training document  2500  /  3488 ...\n",
      "Training document  3000  /  3488 ...\n",
      "Validating document  500  /  873 ...\n",
      "\n",
      "Train Loss:  0.3352632473619495\n",
      "Validation Loss:  0.33710795548448746\n",
      "Train Accuracy:  0.5355504587155964\n",
      "Validation Accuracy:  0.5521191294387171\n",
      "Confusion matrix:\n",
      "[[  0  12   7   0   0   0]\n",
      " [  0  84  62   3   4  33]\n",
      " [  0  25 153  22   1   3]\n",
      " [  0   8  89 109   0   1]\n",
      " [  0   2  66   9  43   0]\n",
      " [  0  11  30   3   0  93]]\n"
     ]
    },
    {
     "data": {
      "image/png": "[encoded data removed]",
      "text/plain": [
       "<Figure size 432x288 with 1 Axes>"
      ]
     },
     "metadata": {
      "needs_background": "light"
     },
     "output_type": "display_data"
    },
    {
     "name": "stdout",
     "output_type": "stream",
     "text": [
      "Epoch  41  is complete!\n",
      "Complete in  493.9553303718567  seconds\n",
      "\n",
      "\n",
      "Training document  500  /  3488 ...\n",
      "Training document  1000  /  3488 ...\n",
      "Training document  1500  /  3488 ...\n",
      "Training document  2000  /  3488 ...\n",
      "Training document  2500  /  3488 ...\n",
      "Training document  3000  /  3488 ...\n",
      "Validating document  500  /  873 ...\n",
      "\n",
      "Train Loss:  0.33464300670842934\n",
      "Validation Loss:  0.33621868470713645\n",
      "Train Accuracy:  0.5358371559633027\n",
      "Validation Accuracy:  0.5486827033218786\n",
      "Confusion matrix:\n",
      "[[  0  12   7   0   0   0]\n",
      " [  0  83  65   0   4  34]\n",
      " [  0  25 166   5   2   6]\n",
      " [  0   5 104  93   1   4]\n",
      " [  0   2  68   1  43   6]\n",
      " [  0  11  32   0   0  94]]\n"
     ]
    },
    {
     "data": {
      "image/png": "[encoded data removed]",
      "text/plain": [
       "<Figure size 432x288 with 1 Axes>"
      ]
     },
     "metadata": {
      "needs_background": "light"
     },
     "output_type": "display_data"
    },
    {
     "name": "stdout",
     "output_type": "stream",
     "text": [
      "Epoch  42  is complete!\n",
      "Complete in  493.58261036872864  seconds\n",
      "\n",
      "\n",
      "Training document  500  /  3488 ...\n",
      "Training document  1000  /  3488 ...\n",
      "Training document  1500  /  3488 ...\n",
      "Training document  2000  /  3488 ...\n",
      "Training document  2500  /  3488 ...\n",
      "Training document  3000  /  3488 ...\n",
      "Validating document  500  /  873 ...\n",
      "\n",
      "Train Loss:  0.33393989325227724\n",
      "Validation Loss:  0.335389561631205\n",
      "Train Accuracy:  0.536697247706422\n",
      "Validation Accuracy:  0.5589919816723941\n",
      "Confusion matrix:\n",
      "[[  0  12   7   0   0   0]\n",
      " [  0  84  61   4   4  33]\n",
      " [  0  25 151  24   1   3]\n",
      " [  0   6  83 117   0   1]\n",
      " [  0   2  66   9  43   0]\n",
      " [  0  11  26   7   0  93]]\n"
     ]
    },
    {
     "data": {
      "image/png": "[encoded data removed]",
      "text/plain": [
       "<Figure size 432x288 with 1 Axes>"
      ]
     },
     "metadata": {
      "needs_background": "light"
     },
     "output_type": "display_data"
    },
    {
     "name": "stdout",
     "output_type": "stream",
     "text": [
      "Epoch  43  is complete!\n",
      "Complete in  495.5534772872925  seconds\n",
      "\n",
      "\n",
      "Training document  500  /  3488 ...\n",
      "Training document  1000  /  3488 ...\n",
      "Training document  1500  /  3488 ...\n",
      "Training document  2000  /  3488 ...\n",
      "Training document  2500  /  3488 ...\n",
      "Training document  3000  /  3488 ...\n",
      "Validating document  500  /  873 ...\n",
      "\n",
      "Train Loss:  0.333249323887987\n",
      "Validation Loss:  0.33457784025312987\n",
      "Train Accuracy:  0.5352637614678899\n",
      "Validation Accuracy:  0.5521191294387171\n",
      "Confusion matrix:\n",
      "[[  0  12   7   0   0   0]\n",
      " [  0  83  62   4   4  33]\n",
      " [  0  25 129  46   1   3]\n",
      " [  0   6  66 134   0   1]\n",
      " [  0   2  60  15  43   0]\n",
      " [  0  11  25   8   0  93]]\n"
     ]
    },
    {
     "data": {
      "image/png": "[encoded data removed]",
      "text/plain": [
       "<Figure size 432x288 with 1 Axes>"
      ]
     },
     "metadata": {
      "needs_background": "light"
     },
     "output_type": "display_data"
    },
    {
     "name": "stdout",
     "output_type": "stream",
     "text": [
      "Epoch  44  is complete!\n",
      "Complete in  497.7678737640381  seconds\n",
      "\n",
      "\n",
      "Training document  500  /  3488 ...\n",
      "Training document  1000  /  3488 ...\n",
      "Training document  1500  /  3488 ...\n",
      "Training document  2000  /  3488 ...\n",
      "Training document  2500  /  3488 ...\n",
      "Training document  3000  /  3488 ...\n",
      "Validating document  500  /  873 ...\n",
      "\n",
      "Train Loss:  0.33253368706464215\n",
      "Validation Loss:  0.3337669519307445\n",
      "Train Accuracy:  0.5401376146788991\n",
      "Validation Accuracy:  0.5544100801832761\n",
      "Confusion matrix:\n",
      "[[  0  12   7   0   0   0]\n",
      " [  0  83  63   3   4  33]\n",
      " [  0  25 149  26   1   3]\n",
      " [  0   6  84 116   0   1]\n",
      " [  0   2  66   9  43   0]\n",
      " [  0  11  26   7   0  93]]\n"
     ]
    },
    {
     "data": {
      "image/png": "[encoded data removed]",
      "text/plain": [
       "<Figure size 432x288 with 1 Axes>"
      ]
     },
     "metadata": {
      "needs_background": "light"
     },
     "output_type": "display_data"
    },
    {
     "name": "stdout",
     "output_type": "stream",
     "text": [
      "Epoch  45  is complete!\n",
      "Complete in  542.7220094203949  seconds\n",
      "\n",
      "\n",
      "Training document  500  /  3488 ...\n",
      "Training document  1000  /  3488 ...\n",
      "Training document  1500  /  3488 ...\n",
      "Training document  2000  /  3488 ...\n",
      "Training document  2500  /  3488 ...\n",
      "Training document  3000  /  3488 ...\n",
      "Validating document  500  /  873 ...\n",
      "\n",
      "Train Loss:  0.3321479344964987\n",
      "Validation Loss:  0.3339900567622737\n",
      "Train Accuracy:  0.5349770642201835\n",
      "Validation Accuracy:  0.49026345933562426\n",
      "Confusion matrix:\n",
      "[[  0  12   7   0   0   0]\n",
      " [  0  84  65   0   4  33]\n",
      " [  0  26 174   1   1   2]\n",
      " [  0   9 123  37   0  38]\n",
      " [  0   2  75   0  43   0]\n",
      " [  0  11  33   3   0  90]]\n"
     ]
    },
    {
     "data": {
      "image/png": "[encoded data removed]",
      "text/plain": [
       "<Figure size 432x288 with 1 Axes>"
      ]
     },
     "metadata": {
      "needs_background": "light"
     },
     "output_type": "display_data"
    },
    {
     "name": "stdout",
     "output_type": "stream",
     "text": [
      "Epoch  46  is complete!\n",
      "Complete in  585.9806642532349  seconds\n",
      "\n",
      "\n",
      "Training document  500  /  3488 ...\n",
      "Training document  1000  /  3488 ...\n",
      "Training document  1500  /  3488 ...\n",
      "Training document  2000  /  3488 ...\n",
      "Training document  2500  /  3488 ...\n",
      "Training document  3000  /  3488 ...\n",
      "Validating document  500  /  873 ...\n",
      "\n",
      "Train Loss:  0.33158072112647763\n",
      "Validation Loss:  0.3332448949302866\n",
      "Train Accuracy:  0.5424311926605505\n",
      "Validation Accuracy:  0.5475372279495991\n",
      "Confusion matrix:\n",
      "[[  0  12   7   0   0   0]\n",
      " [  0  84  65   0   4  33]\n",
      " [  0  25 159  16   1   3]\n",
      " [  0   6 101  99   0   1]\n",
      " [  0   2  69   6  43   0]\n",
      " [  0  11  31   2   0  93]]\n"
     ]
    },
    {
     "data": {
      "image/png": "[encoded data removed]",
      "text/plain": [
       "<Figure size 432x288 with 1 Axes>"
      ]
     },
     "metadata": {
      "needs_background": "light"
     },
     "output_type": "display_data"
    },
    {
     "name": "stdout",
     "output_type": "stream",
     "text": [
      "Epoch  47  is complete!\n",
      "Complete in  575.9568214416504  seconds\n",
      "\n",
      "\n",
      "Training document  500  /  3488 ...\n",
      "Training document  1000  /  3488 ...\n",
      "Training document  1500  /  3488 ...\n",
      "Training document  2000  /  3488 ...\n",
      "Training document  2500  /  3488 ...\n",
      "Training document  3000  /  3488 ...\n",
      "Validating document  500  /  873 ...\n",
      "\n",
      "Train Loss:  0.33094298316497694\n",
      "Validation Loss:  0.3324891888817728\n",
      "Train Accuracy:  0.544151376146789\n",
      "Validation Accuracy:  0.5509736540664376\n",
      "Confusion matrix:\n",
      "[[  0  12   7   0   0   0]\n",
      " [  0  83  64   2   4  33]\n",
      " [  0  25 150  25   1   3]\n",
      " [  0   5  89 112   0   1]\n",
      " [  0   2  67   8  43   0]\n",
      " [  0  11  30   3   0  93]]\n"
     ]
    },
    {
     "data": {
      "image/png": "[encoded data removed]",
      "text/plain": [
       "<Figure size 432x288 with 1 Axes>"
      ]
     },
     "metadata": {
      "needs_background": "light"
     },
     "output_type": "display_data"
    },
    {
     "name": "stdout",
     "output_type": "stream",
     "text": [
      "Epoch  48  is complete!\n",
      "Complete in  572.0854916572571  seconds\n",
      "\n",
      "\n",
      "Training document  500  /  3488 ...\n",
      "Training document  1000  /  3488 ...\n",
      "Training document  1500  /  3488 ...\n",
      "Training document  2000  /  3488 ...\n",
      "Training document  2500  /  3488 ...\n",
      "Training document  3000  /  3488 ...\n",
      "Validating document  500  /  873 ...\n",
      "\n",
      "Train Loss:  0.3303203536627348\n",
      "Validation Loss:  0.33273535844137975\n",
      "Train Accuracy:  0.5415711009174312\n",
      "Validation Accuracy:  0.5418098510882016\n",
      "Confusion matrix:\n",
      "[[  0  12   7   0   0   0]\n",
      " [  0  83  62   2   4  35]\n",
      " [  0  25 144  20   1  14]\n",
      " [  0   5  79 108   0  15]\n",
      " [  0   2  64   5  43   6]\n",
      " [  0  11  30   1   0  95]]\n"
     ]
    },
    {
     "data": {
      "image/png": "[encoded data removed]",
      "text/plain": [
       "<Figure size 432x288 with 1 Axes>"
      ]
     },
     "metadata": {
      "needs_background": "light"
     },
     "output_type": "display_data"
    },
    {
     "name": "stdout",
     "output_type": "stream",
     "text": [
      "Epoch  49  is complete!\n",
      "Complete in  570.0394427776337  seconds\n",
      "\n",
      "\n",
      "Training document  500  /  3488 ...\n",
      "Training document  1000  /  3488 ...\n",
      "Training document  1500  /  3488 ...\n",
      "Training document  2000  /  3488 ...\n",
      "Training document  2500  /  3488 ...\n",
      "Training document  3000  /  3488 ...\n",
      "Validating document  500  /  873 ...\n",
      "\n",
      "Train Loss:  0.3297372390685767\n",
      "Validation Loss:  0.3320458151176031\n",
      "Train Accuracy:  0.5438646788990825\n",
      "Validation Accuracy:  0.5486827033218786\n",
      "Confusion matrix:\n",
      "[[  0  12   7   0   0   0]\n",
      " [  0  84  62   3   4  33]\n",
      " [  0  26 153  21   1   3]\n",
      " [  0   8  92 106   0   1]\n",
      " [  0   2  69   6  43   0]\n",
      " [  0  11  27   6   0  93]]\n"
     ]
    },
    {
     "data": {
      "image/png": "[encoded data removed]",
      "text/plain": [
       "<Figure size 432x288 with 1 Axes>"
      ]
     },
     "metadata": {
      "needs_background": "light"
     },
     "output_type": "display_data"
    },
    {
     "name": "stdout",
     "output_type": "stream",
     "text": [
      "Epoch  50  is complete!\n",
      "Complete in  589.4978969097137  seconds\n",
      "\n",
      "\n",
      "Training document  500  /  3488 ...\n",
      "Training document  1000  /  3488 ...\n",
      "Training document  1500  /  3488 ...\n",
      "Training document  2000  /  3488 ...\n",
      "Training document  2500  /  3488 ...\n",
      "Training document  3000  /  3488 ...\n",
      "Validating document  500  /  873 ...\n",
      "\n",
      "Train Loss:  0.3292820890016742\n",
      "Validation Loss:  0.3313925403291009\n",
      "Train Accuracy:  0.5427178899082569\n",
      "Validation Accuracy:  0.5509736540664376\n",
      "Confusion matrix:\n",
      "[[  0  12   7   0   0   0]\n",
      " [  0  83  66   0   4  33]\n",
      " [  0  25 170   5   1   3]\n",
      " [  0   5 109  92   0   1]\n",
      " [  0   2  73   2  43   0]\n",
      " [  0  11  33   0   0  93]]\n"
     ]
    },
    {
     "data": {
      "image/png": "[encoded data removed]",
      "text/plain": [
       "<Figure size 432x288 with 1 Axes>"
      ]
     },
     "metadata": {
      "needs_background": "light"
     },
     "output_type": "display_data"
    },
    {
     "name": "stdout",
     "output_type": "stream",
     "text": [
      "Epoch  51  is complete!\n",
      "Complete in  514.9512481689453  seconds\n",
      "\n",
      "\n",
      "Training document  500  /  3488 ...\n",
      "Training document  1000  /  3488 ...\n",
      "Training document  1500  /  3488 ...\n",
      "Training document  2000  /  3488 ...\n",
      "Training document  2500  /  3488 ...\n",
      "Training document  3000  /  3488 ...\n",
      "Validating document  500  /  873 ...\n",
      "\n",
      "Train Loss:  0.32873449808870897\n",
      "Validation Loss:  0.3308282268565396\n",
      "Train Accuracy:  0.5513188073394495\n",
      "Validation Accuracy:  0.5521191294387171\n",
      "Confusion matrix:\n",
      "[[  0  12   7   0   0   0]\n",
      " [  0  84  65   0   4  33]\n",
      " [  0  26 169   5   1   3]\n",
      " [  0   8 105  93   0   1]\n",
      " [  0   2  72   3  43   0]\n",
      " [  0  11  33   0   0  93]]\n"
     ]
    },
    {
     "data": {
      "image/png": "[encoded data removed]",
      "text/plain": [
       "<Figure size 432x288 with 1 Axes>"
      ]
     },
     "metadata": {
      "needs_background": "light"
     },
     "output_type": "display_data"
    },
    {
     "name": "stdout",
     "output_type": "stream",
     "text": [
      "Epoch  52  is complete!\n",
      "Complete in  492.48169469833374  seconds\n",
      "\n",
      "\n",
      "Training document  500  /  3488 ...\n",
      "Training document  1000  /  3488 ...\n",
      "Training document  1500  /  3488 ...\n",
      "Training document  2000  /  3488 ...\n",
      "Training document  2500  /  3488 ...\n",
      "Training document  3000  /  3488 ...\n",
      "Validating document  500  /  873 ...\n",
      "\n",
      "Train Loss:  0.3282492214889956\n",
      "Validation Loss:  0.3302418464218928\n",
      "Train Accuracy:  0.5427178899082569\n",
      "Validation Accuracy:  0.5544100801832761\n",
      "Confusion matrix:\n",
      "[[  0  12   7   0   0   0]\n",
      " [  0  83  66   0   4  33]\n",
      " [  0  25 158  17   1   3]\n",
      " [  0   6  93 107   0   1]\n",
      " [  0   2  68   7  43   0]\n",
      " [  0  11  30   3   0  93]]\n"
     ]
    },
    {
     "data": {
      "image/png": "[encoded data removed]",
      "text/plain": [
       "<Figure size 432x288 with 1 Axes>"
      ]
     },
     "metadata": {
      "needs_background": "light"
     },
     "output_type": "display_data"
    },
    {
     "name": "stdout",
     "output_type": "stream",
     "text": [
      "Epoch  53  is complete!\n",
      "Complete in  494.6060166358948  seconds\n",
      "\n",
      "\n",
      "Training document  500  /  3488 ...\n",
      "Training document  1000  /  3488 ...\n",
      "Training document  1500  /  3488 ...\n",
      "Training document  2000  /  3488 ...\n",
      "Training document  2500  /  3488 ...\n",
      "Training document  3000  /  3488 ...\n",
      "Validating document  500  /  873 ...\n",
      "\n",
      "Train Loss:  0.3277359098159303\n",
      "Validation Loss:  0.3330710617087701\n",
      "Train Accuracy:  0.5444380733944955\n",
      "Validation Accuracy:  0.43184421534937\n",
      "Confusion matrix:\n",
      "[[  0  12   7   0   0   0]\n",
      " [  0  67  66   0   4  49]\n",
      " [  0  25 162  12   1   4]\n",
      " [  0   5 103  12   1  86]\n",
      " [  0   2  70   5  43   0]\n",
      " [  0  11  32   1   0  93]]\n"
     ]
    },
    {
     "data": {
      "image/png": "[encoded data removed]",
      "text/plain": [
       "<Figure size 432x288 with 1 Axes>"
      ]
     },
     "metadata": {
      "needs_background": "light"
     },
     "output_type": "display_data"
    },
    {
     "name": "stdout",
     "output_type": "stream",
     "text": [
      "Epoch  54  is complete!\n",
      "Complete in  522.3285660743713  seconds\n",
      "\n",
      "\n",
      "Training document  500  /  3488 ...\n",
      "Training document  1000  /  3488 ...\n",
      "Training document  1500  /  3488 ...\n",
      "Training document  2000  /  3488 ...\n",
      "Training document  2500  /  3488 ...\n",
      "Training document  3000  /  3488 ...\n",
      "Validating document  500  /  873 ...\n",
      "\n",
      "Train Loss:  0.32730654424848693\n",
      "Validation Loss:  0.3324221487436531\n",
      "Train Accuracy:  0.5435779816513762\n",
      "Validation Accuracy:  0.5521191294387171\n",
      "Confusion matrix:\n",
      "[[  0  12   7   0   0   0]\n",
      " [  0  84  63   2   4  33]\n",
      " [  0  25 155  20   1   3]\n",
      " [  0   6  93 107   0   1]\n",
      " [  0   2  68   7  43   0]\n",
      " [  0  11  30   3   0  93]]\n"
     ]
    },
    {
     "data": {
      "image/png": "[encoded data removed]",
      "text/plain": [
       "<Figure size 432x288 with 1 Axes>"
      ]
     },
     "metadata": {
      "needs_background": "light"
     },
     "output_type": "display_data"
    },
    {
     "name": "stdout",
     "output_type": "stream",
     "text": [
      "Epoch  55  is complete!\n",
      "Complete in  557.0671000480652  seconds\n",
      "\n",
      "\n",
      "Training document  500  /  3488 ...\n",
      "Training document  1000  /  3488 ...\n",
      "Training document  1500  /  3488 ...\n",
      "Training document  2000  /  3488 ...\n",
      "Training document  2500  /  3488 ...\n",
      "Training document  3000  /  3488 ...\n",
      "Validating document  500  /  873 ...\n",
      "\n",
      "Train Loss:  0.3268328601940818\n",
      "Validation Loss:  0.3318592088485493\n",
      "Train Accuracy:  0.5432912844036697\n",
      "Validation Accuracy:  0.5509736540664376\n",
      "Confusion matrix:\n",
      "[[  0  12   7   0   0   0]\n",
      " [  0  84  62   3   4  33]\n",
      " [  0  25 146  29   1   3]\n",
      " [  0   8  83 115   0   1]\n",
      " [  0   2  67   8  43   0]\n",
      " [  0  11  26   7   0  93]]\n"
     ]
    },
    {
     "data": {
      "image/png": "[encoded data removed]",
      "text/plain": [
       "<Figure size 432x288 with 1 Axes>"
      ]
     },
     "metadata": {
      "needs_background": "light"
     },
     "output_type": "display_data"
    },
    {
     "name": "stdout",
     "output_type": "stream",
     "text": [
      "Epoch  56  is complete!\n",
      "Complete in  628.5709223747253  seconds\n",
      "\n",
      "\n",
      "Training document  500  /  3488 ...\n",
      "Training document  1000  /  3488 ...\n",
      "Training document  1500  /  3488 ...\n",
      "Training document  2000  /  3488 ...\n",
      "Training document  2500  /  3488 ...\n",
      "Training document  3000  /  3488 ...\n",
      "Validating document  500  /  873 ...\n",
      "\n",
      "Train Loss:  0.32647427870835083\n",
      "Validation Loss:  0.3312813343431202\n",
      "Train Accuracy:  0.5424311926605505\n",
      "Validation Accuracy:  0.5555555555555556\n",
      "Confusion matrix:\n",
      "[[  0  12   7   0   0   0]\n",
      " [  0  83  62   4   4  33]\n",
      " [  0  25 149  26   1   3]\n",
      " [  0   5  84 117   0   1]\n",
      " [  0   2  66   9  43   0]\n",
      " [  0  11  26   7   0  93]]\n"
     ]
    },
    {
     "data": {
      "image/png": "[encoded data removed]",
      "text/plain": [
       "<Figure size 432x288 with 1 Axes>"
      ]
     },
     "metadata": {
      "needs_background": "light"
     },
     "output_type": "display_data"
    },
    {
     "name": "stdout",
     "output_type": "stream",
     "text": [
      "Epoch  57  is complete!\n",
      "Complete in  544.8471217155457  seconds\n",
      "\n",
      "\n",
      "Training document  500  /  3488 ...\n",
      "Training document  1000  /  3488 ...\n",
      "Training document  1500  /  3488 ...\n",
      "Training document  2000  /  3488 ...\n",
      "Training document  2500  /  3488 ...\n",
      "Training document  3000  /  3488 ...\n",
      "Validating document  500  /  873 ...\n",
      "\n",
      "Train Loss:  0.32606117574915555\n",
      "Validation Loss:  0.33071757975062677\n",
      "Train Accuracy:  0.5501720183486238\n",
      "Validation Accuracy:  0.5498281786941581\n",
      "Confusion matrix:\n",
      "[[  0  12   7   0   0   0]\n",
      " [  0  83  65   1   4  33]\n",
      " [  0  25 159  16   1   3]\n",
      " [  0   5  99 102   0   1]\n",
      " [  0   2  66   9  43   0]\n",
      " [  0  11  31   2   0  93]]\n"
     ]
    },
    {
     "data": {
      "image/png": "[encoded data removed]",
      "text/plain": [
       "<Figure size 432x288 with 1 Axes>"
      ]
     },
     "metadata": {
      "needs_background": "light"
     },
     "output_type": "display_data"
    },
    {
     "name": "stdout",
     "output_type": "stream",
     "text": [
      "Epoch  58  is complete!\n",
      "Complete in  646.883847951889  seconds\n",
      "\n",
      "\n",
      "Training document  500  /  3488 ...\n",
      "Training document  1000  /  3488 ...\n",
      "Training document  1500  /  3488 ...\n",
      "Training document  2000  /  3488 ...\n",
      "Training document  2500  /  3488 ...\n",
      "Training document  3000  /  3488 ...\n",
      "Validating document  500  /  873 ...\n",
      "\n",
      "Train Loss:  0.32564750002472903\n",
      "Validation Loss:  0.3301997875480084\n",
      "Train Accuracy:  0.5455848623853211\n",
      "Validation Accuracy:  0.5544100801832761\n",
      "Confusion matrix:\n",
      "[[  0  12   7   0   0   0]\n",
      " [  0  84  62   3   4  33]\n",
      " [  0  25 155  20   1   3]\n",
      " [  0   6  91 109   0   1]\n",
      " [  0   2  66   9  43   0]\n",
      " [  0  11  31   2   0  93]]\n"
     ]
    },
    {
     "data": {
      "image/png": "[encoded data removed]",
      "text/plain": [
       "<Figure size 432x288 with 1 Axes>"
      ]
     },
     "metadata": {
      "needs_background": "light"
     },
     "output_type": "display_data"
    },
    {
     "name": "stdout",
     "output_type": "stream",
     "text": [
      "Epoch  59  is complete!\n",
      "Complete in  692.6213948726654  seconds\n",
      "\n",
      "\n",
      "Training document  500  /  3488 ...\n",
      "Training document  1000  /  3488 ...\n",
      "Training document  1500  /  3488 ...\n",
      "Training document  2000  /  3488 ...\n",
      "Training document  2500  /  3488 ...\n",
      "Training document  3000  /  3488 ...\n",
      "Validating document  500  /  873 ...\n",
      "\n",
      "Train Loss:  0.32521687642992814\n",
      "Validation Loss:  0.32969354439148674\n",
      "Train Accuracy:  0.5498853211009175\n",
      "Validation Accuracy:  0.5521191294387171\n",
      "Confusion matrix:\n",
      "[[  0  12   7   0   0   0]\n",
      " [  0  84  63   2   4  33]\n",
      " [  0  25 159  16   1   3]\n",
      " [  0   8  95 103   0   1]\n",
      " [  0   2  72   3  43   0]\n",
      " [  0  11  32   1   0  93]]\n"
     ]
    },
    {
     "data": {
      "image/png": "[encoded data removed]",
      "text/plain": [
       "<Figure size 432x288 with 1 Axes>"
      ]
     },
     "metadata": {
      "needs_background": "light"
     },
     "output_type": "display_data"
    },
    {
     "name": "stdout",
     "output_type": "stream",
     "text": [
      "Epoch  60  is complete!\n",
      "Complete in  577.9809737205505  seconds\n",
      "\n",
      "\n",
      "Training document  500  /  3488 ...\n",
      "Training document  1000  /  3488 ...\n",
      "Training document  1500  /  3488 ...\n",
      "Training document  2000  /  3488 ...\n",
      "Training document  2500  /  3488 ...\n",
      "Training document  3000  /  3488 ...\n",
      "Validating document  500  /  873 ...\n",
      "\n",
      "Train Loss:  0.3247893956314259\n",
      "Validation Loss:  0.32919400465322074\n",
      "Train Accuracy:  0.544151376146789\n",
      "Validation Accuracy:  0.5521191294387171\n",
      "Confusion matrix:\n",
      "[[  0  12   7   0   0   0]\n",
      " [  0  84  62   3   4  33]\n",
      " [  0  25 151  24   1   3]\n",
      " [  0   6  89 111   0   1]\n",
      " [  0   2  68   7  43   0]\n",
      " [  0  11  26   7   0  93]]\n"
     ]
    },
    {
     "data": {
      "image/png": "[encoded data removed]",
      "text/plain": [
       "<Figure size 432x288 with 1 Axes>"
      ]
     },
     "metadata": {
      "needs_background": "light"
     },
     "output_type": "display_data"
    },
    {
     "name": "stdout",
     "output_type": "stream",
     "text": [
      "Epoch  61  is complete!\n",
      "Complete in  649.6074471473694  seconds\n",
      "\n",
      "\n",
      "Training document  500  /  3488 ...\n",
      "Training document  1000  /  3488 ...\n",
      "Training document  1500  /  3488 ...\n",
      "Training document  2000  /  3488 ...\n",
      "Training document  2500  /  3488 ...\n",
      "Training document  3000  /  3488 ...\n",
      "Validating document  500  /  873 ...\n",
      "\n",
      "Train Loss:  0.3244114757705281\n",
      "Validation Loss:  0.3287425170801234\n",
      "Train Accuracy:  0.5464449541284404\n",
      "Validation Accuracy:  0.5498281786941581\n",
      "Confusion matrix:\n",
      "[[  0  12   7   0   0   0]\n",
      " [  0  84  62   3   4  33]\n",
      " [  0  25 154  21   1   3]\n",
      " [  0   8  92 106   0   1]\n",
      " [  0   2  69   6  43   0]\n",
      " [  0  11  27   6   0  93]]\n"
     ]
    },
    {
     "data": {
      "image/png": "[encoded data removed]",
      "text/plain": [
       "<Figure size 432x288 with 1 Axes>"
      ]
     },
     "metadata": {
      "needs_background": "light"
     },
     "output_type": "display_data"
    },
    {
     "name": "stdout",
     "output_type": "stream",
     "text": [
      "Epoch  62  is complete!\n",
      "Complete in  582.5007543563843  seconds\n",
      "\n",
      "\n",
      "Training document  500  /  3488 ...\n",
      "Training document  1000  /  3488 ...\n",
      "Training document  1500  /  3488 ...\n",
      "Training document  2000  /  3488 ...\n",
      "Training document  2500  /  3488 ...\n",
      "Training document  3000  /  3488 ...\n",
      "Validating document  500  /  873 ...\n",
      "\n",
      "Train Loss:  0.3240417698141851\n",
      "Validation Loss:  0.32825715534948985\n",
      "Train Accuracy:  0.5447247706422018\n",
      "Validation Accuracy:  0.5486827033218786\n",
      "Confusion matrix:\n",
      "[[  0  12   7   0   0   0]\n",
      " [  0  84  63   2   4  33]\n",
      " [  0  25 156  19   1   3]\n",
      " [  0   6  97 103   0   1]\n",
      " [  0   2  69   6  43   0]\n",
      " [  0  11  31   2   0  93]]\n"
     ]
    },
    {
     "data": {
      "image/png": "[encoded data removed]",
      "text/plain": [
       "<Figure size 432x288 with 1 Axes>"
      ]
     },
     "metadata": {
      "needs_background": "light"
     },
     "output_type": "display_data"
    },
    {
     "name": "stdout",
     "output_type": "stream",
     "text": [
      "Epoch  63  is complete!\n",
      "Complete in  709.9383141994476  seconds\n",
      "\n",
      "\n",
      "Training document  500  /  3488 ...\n",
      "Training document  1000  /  3488 ...\n",
      "Training document  1500  /  3488 ...\n",
      "Training document  2000  /  3488 ...\n",
      "Training document  2500  /  3488 ...\n",
      "Training document  3000  /  3488 ...\n",
      "Validating document  500  /  873 ...\n",
      "\n",
      "Train Loss:  0.3236600067507237\n",
      "Validation Loss:  0.3277691441607145\n",
      "Train Accuracy:  0.5455848623853211\n",
      "Validation Accuracy:  0.5521191294387171\n",
      "Confusion matrix:\n",
      "[[  0  12   7   0   0   0]\n",
      " [  0  83  62   4   4  33]\n",
      " [  0  25 143  32   1   3]\n",
      " [  0   6  80 120   0   1]\n",
      " [  0   2  65  10  43   0]\n",
      " [  0  11  25   8   0  93]]\n"
     ]
    },
    {
     "data": {
      "image/png": "[encoded data removed]",
      "text/plain": [
       "<Figure size 432x288 with 1 Axes>"
      ]
     },
     "metadata": {
      "needs_background": "light"
     },
     "output_type": "display_data"
    },
    {
     "name": "stdout",
     "output_type": "stream",
     "text": [
      "Epoch  64  is complete!\n",
      "Complete in  650.7942779064178  seconds\n",
      "\n",
      "\n",
      "Training document  500  /  3488 ...\n",
      "Training document  1000  /  3488 ...\n",
      "Training document  1500  /  3488 ...\n",
      "Training document  2000  /  3488 ...\n",
      "Training document  2500  /  3488 ...\n",
      "Training document  3000  /  3488 ...\n",
      "Validating document  500  /  873 ...\n",
      "\n",
      "Train Loss:  0.3236510871961611\n",
      "Validation Loss:  0.3272959827408837\n",
      "Train Accuracy:  0.53125\n",
      "Validation Accuracy:  0.5521191294387171\n",
      "Confusion matrix:\n",
      "[[  0  12   7   0   0   0]\n",
      " [  0  83  62   4   4  33]\n",
      " [  0  25 150  25   1   3]\n",
      " [  0   6  87 113   0   1]\n",
      " [  0   2  66   9  43   0]\n",
      " [  0  11  26   7   0  93]]\n"
     ]
    },
    {
     "data": {
      "image/png": "[encoded data removed]",
      "text/plain": [
       "<Figure size 432x288 with 1 Axes>"
      ]
     },
     "metadata": {
      "needs_background": "light"
     },
     "output_type": "display_data"
    },
    {
     "name": "stdout",
     "output_type": "stream",
     "text": [
      "Epoch  65  is complete!\n",
      "Complete in  637.1313788890839  seconds\n",
      "\n",
      "\n",
      "Training document  500  /  3488 ...\n",
      "Training document  1000  /  3488 ...\n",
      "Training document  1500  /  3488 ...\n",
      "Training document  2000  /  3488 ...\n",
      "Training document  2500  /  3488 ...\n",
      "Training document  3000  /  3488 ...\n",
      "Validating document  500  /  873 ...\n",
      "\n",
      "Train Loss:  0.32328852993686313\n",
      "Validation Loss:  0.32687969786097476\n",
      "Train Accuracy:  0.5438646788990825\n",
      "Validation Accuracy:  0.5498281786941581\n",
      "Confusion matrix:\n",
      "[[  0  12   7   0   0   0]\n",
      " [  0  83  65   1   4  33]\n",
      " [  0  25 159  16   1   3]\n",
      " [  0   6  98 102   0   1]\n",
      " [  0   2  66   9  43   0]\n",
      " [  0  11  31   2   0  93]]\n"
     ]
    },
    {
     "data": {
      "image/png": "[encoded data removed]",
      "text/plain": [
       "<Figure size 432x288 with 1 Axes>"
      ]
     },
     "metadata": {
      "needs_background": "light"
     },
     "output_type": "display_data"
    },
    {
     "name": "stdout",
     "output_type": "stream",
     "text": [
      "Epoch  66  is complete!\n",
      "Complete in  574.0886871814728  seconds\n",
      "\n",
      "\n",
      "Training document  500  /  3488 ...\n",
      "Training document  1000  /  3488 ...\n",
      "Training document  1500  /  3488 ...\n",
      "Training document  2000  /  3488 ...\n",
      "Training document  2500  /  3488 ...\n",
      "Training document  3000  /  3488 ...\n",
      "Validating document  500  /  873 ...\n",
      "\n",
      "Train Loss:  0.3229357111327684\n",
      "Validation Loss:  0.3264382298162752\n",
      "Train Accuracy:  0.5490252293577982\n",
      "Validation Accuracy:  0.5544100801832761\n",
      "Confusion matrix:\n",
      "[[  0  12   7   0   0   0]\n",
      " [  0  83  63   3   4  33]\n",
      " [  0  25 150  25   1   3]\n",
      " [  0   5  86 115   0   1]\n",
      " [  0   2  66   9  43   0]\n",
      " [  0  11  27   6   0  93]]\n"
     ]
    },
    {
     "data": {
      "image/png": "[encoded data removed]",
      "text/plain": [
       "<Figure size 432x288 with 1 Axes>"
      ]
     },
     "metadata": {
      "needs_background": "light"
     },
     "output_type": "display_data"
    },
    {
     "name": "stdout",
     "output_type": "stream",
     "text": [
      "Epoch  67  is complete!\n",
      "Complete in  530.8288588523865  seconds\n",
      "\n",
      "\n",
      "Training document  500  /  3488 ...\n",
      "Training document  1000  /  3488 ...\n",
      "Training document  1500  /  3488 ...\n",
      "Training document  2000  /  3488 ...\n",
      "Training document  2500  /  3488 ...\n",
      "Training document  3000  /  3488 ...\n",
      "Validating document  500  /  873 ...\n",
      "\n",
      "Train Loss:  0.32261928111481086\n",
      "Validation Loss:  0.3260021590622993\n",
      "Train Accuracy:  0.5470183486238532\n",
      "Validation Accuracy:  0.5486827033218786\n",
      "Confusion matrix:\n",
      "[[  0  12   7   0   0   0]\n",
      " [  0  84  65   0   4  33]\n",
      " [  0  25 159  16   1   3]\n",
      " [  1   7  98 100   0   1]\n",
      " [  0   2  69   6  43   0]\n",
      " [  0  11  31   2   0  93]]\n"
     ]
    },
    {
     "data": {
      "image/png": "[encoded data removed]",
      "text/plain": [
       "<Figure size 432x288 with 1 Axes>"
      ]
     },
     "metadata": {
      "needs_background": "light"
     },
     "output_type": "display_data"
    },
    {
     "name": "stdout",
     "output_type": "stream",
     "text": [
      "Epoch  68  is complete!\n",
      "Complete in  516.6421737670898  seconds\n",
      "\n",
      "\n",
      "Training document  500  /  3488 ...\n",
      "Training document  1000  /  3488 ...\n",
      "Training document  1500  /  3488 ...\n",
      "Training document  2000  /  3488 ...\n",
      "Training document  2500  /  3488 ...\n",
      "Training document  3000  /  3488 ...\n",
      "Validating document  500  /  873 ...\n",
      "\n",
      "Train Loss:  0.32227641586307504\n",
      "Validation Loss:  0.3256014909950319\n",
      "Train Accuracy:  0.5498853211009175\n",
      "Validation Accuracy:  0.5486827033218786\n",
      "Confusion matrix:\n",
      "[[  0  12   7   0   0   0]\n",
      " [  0  83  64   2   4  33]\n",
      " [  0  25 153  22   1   3]\n",
      " [  0   5  94 107   0   1]\n",
      " [  0   2  68   7  43   0]\n",
      " [  0  11  30   3   0  93]]\n"
     ]
    },
    {
     "data": {
      "image/png": "[encoded data removed]",
      "text/plain": [
       "<Figure size 432x288 with 1 Axes>"
      ]
     },
     "metadata": {
      "needs_background": "light"
     },
     "output_type": "display_data"
    },
    {
     "name": "stdout",
     "output_type": "stream",
     "text": [
      "Epoch  69  is complete!\n",
      "Complete in  638.2762801647186  seconds\n",
      "\n",
      "\n",
      "Training document  500  /  3488 ...\n",
      "Training document  1000  /  3488 ...\n",
      "Training document  1500  /  3488 ...\n",
      "Training document  2000  /  3488 ...\n",
      "Training document  2500  /  3488 ...\n",
      "Training document  3000  /  3488 ...\n",
      "Validating document  500  /  873 ...\n",
      "\n",
      "Train Loss:  0.3219598771254685\n",
      "Validation Loss:  0.3252298469076718\n",
      "Train Accuracy:  0.5467316513761468\n",
      "Validation Accuracy:  0.5486827033218786\n",
      "Confusion matrix:\n",
      "[[  0  12   7   0   0   0]\n",
      " [  0  83  65   1   4  33]\n",
      " [  0  25 155  20   1   3]\n",
      " [  0   5  96 105   0   1]\n",
      " [  0   2  66   9  43   0]\n",
      " [  0  11  30   3   0  93]]\n"
     ]
    },
    {
     "data": {
      "image/png": "[encoded data removed]",
      "text/plain": [
       "<Figure size 432x288 with 1 Axes>"
      ]
     },
     "metadata": {
      "needs_background": "light"
     },
     "output_type": "display_data"
    },
    {
     "name": "stdout",
     "output_type": "stream",
     "text": [
      "Epoch  70  is complete!\n",
      "Complete in  719.1673009395599  seconds\n",
      "\n",
      "\n",
      "Training document  500  /  3488 ...\n",
      "Training document  1000  /  3488 ...\n",
      "Training document  1500  /  3488 ...\n",
      "Training document  2000  /  3488 ...\n",
      "Training document  2500  /  3488 ...\n",
      "Training document  3000  /  3488 ...\n",
      "Validating document  500  /  873 ...\n",
      "\n",
      "Train Loss:  0.32160803199102017\n",
      "Validation Loss:  0.32485935704083946\n",
      "Train Accuracy:  0.5521788990825688\n",
      "Validation Accuracy:  0.5475372279495991\n",
      "Confusion matrix:\n",
      "[[  0  12   7   0   0   0]\n",
      " [  0  84  65   0   4  33]\n",
      " [  0  25 159  16   1   3]\n",
      " [  0   6 101  99   0   1]\n",
      " [  0   2  69   6  43   0]\n",
      " [  0  11  31   2   0  93]]\n"
     ]
    },
    {
     "data": {
      "image/png": "[encoded data removed]",
      "text/plain": [
       "<Figure size 432x288 with 1 Axes>"
      ]
     },
     "metadata": {
      "needs_background": "light"
     },
     "output_type": "display_data"
    },
    {
     "name": "stdout",
     "output_type": "stream",
     "text": [
      "Epoch  71  is complete!\n",
      "Complete in  707.7189385890961  seconds\n",
      "\n",
      "\n",
      "Training document  500  /  3488 ...\n",
      "Training document  1000  /  3488 ...\n",
      "Training document  1500  /  3488 ...\n",
      "Training document  2000  /  3488 ...\n",
      "Training document  2500  /  3488 ...\n",
      "Training document  3000  /  3488 ...\n",
      "Validating document  500  /  873 ...\n",
      "\n",
      "Train Loss:  0.321335884366046\n",
      "Validation Loss:  0.3244908865329172\n",
      "Train Accuracy:  0.549598623853211\n",
      "Validation Accuracy:  0.5544100801832761\n",
      "Confusion matrix:\n",
      "[[  0  12   7   0   0   0]\n",
      " [  0  84  61   4   4  33]\n",
      " [  0  25 152  23   1   3]\n",
      " [  0   6  88 112   0   1]\n",
      " [  0   2  68   7  43   0]\n",
      " [  0  11  27   6   0  93]]\n"
     ]
    },
    {
     "data": {
      "image/png": "[encoded data removed]",
      "text/plain": [
       "<Figure size 432x288 with 1 Axes>"
      ]
     },
     "metadata": {
      "needs_background": "light"
     },
     "output_type": "display_data"
    },
    {
     "name": "stdout",
     "output_type": "stream",
     "text": [
      "Epoch  72  is complete!\n",
      "Complete in  690.9400429725647  seconds\n",
      "\n",
      "\n",
      "Training document  500  /  3488 ...\n",
      "Training document  1000  /  3488 ...\n",
      "Training document  1500  /  3488 ...\n",
      "Training document  2000  /  3488 ...\n",
      "Training document  2500  /  3488 ...\n",
      "Training document  3000  /  3488 ...\n",
      "Validating document  500  /  873 ...\n",
      "\n",
      "Train Loss:  0.32108088475915547\n",
      "Validation Loss:  0.3241475324977246\n",
      "Train Accuracy:  0.544151376146789\n",
      "Validation Accuracy:  0.5532646048109966\n",
      "Confusion matrix:\n",
      "[[  0  12   7   0   0   0]\n",
      " [  0  83  64   2   4  33]\n",
      " [  0  25 153  22   1   3]\n",
      " [  0   5  90 111   0   1]\n",
      " [  0   2  67   8  43   0]\n",
      " [  0  11  30   3   0  93]]\n"
     ]
    },
    {
     "data": {
      "image/png": "[encoded data removed]",
      "text/plain": [
       "<Figure size 432x288 with 1 Axes>"
      ]
     },
     "metadata": {
      "needs_background": "light"
     },
     "output_type": "display_data"
    },
    {
     "name": "stdout",
     "output_type": "stream",
     "text": [
      "Epoch  73  is complete!\n",
      "Complete in  726.8487195968628  seconds\n",
      "\n",
      "\n",
      "Training document  500  /  3488 ...\n",
      "Training document  1000  /  3488 ...\n",
      "Training document  1500  /  3488 ...\n",
      "Training document  2000  /  3488 ...\n",
      "Training document  2500  /  3488 ...\n",
      "Training document  3000  /  3488 ...\n",
      "Validating document  500  /  873 ...\n",
      "\n",
      "Train Loss:  0.32078325437686855\n",
      "Validation Loss:  0.3238456871498299\n",
      "Train Accuracy:  0.5478784403669725\n",
      "Validation Accuracy:  0.5463917525773195\n",
      "Confusion matrix:\n",
      "[[  0  15   4   0   0   0]\n",
      " [  0  98  51   0   4  33]\n",
      " [  0  42 149   9   1   3]\n",
      " [  0  19  93  94   0   1]\n",
      " [  0   8  63   6  43   0]\n",
      " [  0  12  31   1   0  93]]\n"
     ]
    },
    {
     "data": {
      "image/png": "[encoded data removed]",
      "text/plain": [
       "<Figure size 432x288 with 1 Axes>"
      ]
     },
     "metadata": {
      "needs_background": "light"
     },
     "output_type": "display_data"
    },
    {
     "name": "stdout",
     "output_type": "stream",
     "text": [
      "Epoch  74  is complete!\n",
      "Complete in  704.1589045524597  seconds\n",
      "\n",
      "\n",
      "Training document  500  /  3488 ...\n",
      "Training document  1000  /  3488 ...\n",
      "Training document  1500  /  3488 ...\n",
      "Training document  2000  /  3488 ...\n",
      "Training document  2500  /  3488 ...\n",
      "Training document  3000  /  3488 ...\n",
      "Validating document  500  /  873 ...\n",
      "\n",
      "Train Loss:  0.32055719855370846\n",
      "Validation Loss:  0.32352393442102345\n",
      "Train Accuracy:  0.5461582568807339\n",
      "Validation Accuracy:  0.5555555555555556\n",
      "Confusion matrix:\n",
      "[[  0  12   7   0   0   0]\n",
      " [  0  83  65   1   4  33]\n",
      " [  0  25 158  17   1   3]\n",
      " [  0   6  92 108   0   1]\n",
      " [  0   2  66   9  43   0]\n",
      " [  0  11  31   2   0  93]]\n"
     ]
    },
    {
     "data": {
      "image/png": "[encoded data removed]",
      "text/plain": [
       "<Figure size 432x288 with 1 Axes>"
      ]
     },
     "metadata": {
      "needs_background": "light"
     },
     "output_type": "display_data"
    },
    {
     "name": "stdout",
     "output_type": "stream",
     "text": [
      "Epoch  75  is complete!\n",
      "Complete in  595.3697373867035  seconds\n",
      "\n",
      "\n",
      "Training document  500  /  3488 ...\n",
      "Training document  1000  /  3488 ...\n",
      "Training document  1500  /  3488 ...\n",
      "Training document  2000  /  3488 ...\n",
      "Training document  2500  /  3488 ...\n",
      "Training document  3000  /  3488 ...\n",
      "Validating document  500  /  873 ...\n",
      "\n",
      "Train Loss:  0.3204025747144974\n",
      "Validation Loss:  0.3231925151657081\n",
      "Train Accuracy:  0.5455848623853211\n",
      "Validation Accuracy:  0.5544100801832761\n",
      "Confusion matrix:\n",
      "[[  0  12   7   0   0   0]\n",
      " [  0  83  62   4   4  33]\n",
      " [  0  25 147  28   1   3]\n",
      " [  0   8  80 118   0   1]\n",
      " [  0   2  65  10  43   0]\n",
      " [  0  11  26   7   0  93]]\n"
     ]
    },
    {
     "data": {
      "image/png": "[encoded data removed]",
      "text/plain": [
       "<Figure size 432x288 with 1 Axes>"
      ]
     },
     "metadata": {
      "needs_background": "light"
     },
     "output_type": "display_data"
    },
    {
     "name": "stdout",
     "output_type": "stream",
     "text": [
      "Epoch  76  is complete!\n",
      "Complete in  669.680029630661  seconds\n",
      "\n",
      "\n",
      "Training document  500  /  3488 ...\n",
      "Training document  1000  /  3488 ...\n",
      "Training document  1500  /  3488 ...\n",
      "Training document  2000  /  3488 ...\n",
      "Training document  2500  /  3488 ...\n",
      "Training document  3000  /  3488 ...\n",
      "Validating document  500  /  873 ...\n",
      "\n",
      "Train Loss:  0.32012595606086564\n",
      "Validation Loss:  0.3228663944088326\n",
      "Train Accuracy:  0.5447247706422018\n",
      "Validation Accuracy:  0.5544100801832761\n",
      "Confusion matrix:\n",
      "[[  0  12   7   0   0   0]\n",
      " [  0  83  65   1   4  33]\n",
      " [  0  25 159  16   1   3]\n",
      " [  0   6  94 106   0   1]\n",
      " [  0   2  66   9  43   0]\n",
      " [  0  11  31   2   0  93]]\n"
     ]
    },
    {
     "data": {
      "image/png": "[encoded data removed]",
      "text/plain": [
       "<Figure size 432x288 with 1 Axes>"
      ]
     },
     "metadata": {
      "needs_background": "light"
     },
     "output_type": "display_data"
    },
    {
     "name": "stdout",
     "output_type": "stream",
     "text": [
      "Epoch  77  is complete!\n",
      "Complete in  636.0429329872131  seconds\n",
      "\n",
      "\n",
      "Training document  500  /  3488 ...\n",
      "Training document  1000  /  3488 ...\n",
      "Training document  1500  /  3488 ...\n",
      "Training document  2000  /  3488 ...\n",
      "Training document  2500  /  3488 ...\n",
      "Training document  3000  /  3488 ...\n",
      "Validating document  500  /  873 ...\n",
      "\n",
      "Train Loss:  0.31995660074234894\n",
      "Validation Loss:  0.3225612592964409\n",
      "Train Accuracy:  0.5455848623853211\n",
      "Validation Accuracy:  0.5418098510882016\n",
      "Confusion matrix:\n",
      "[[  0  12   7   0   0   0]\n",
      " [  0  93  64   2   4  23]\n",
      " [  0  27 151  23   2   1]\n",
      " [  0   6  88 111   1   1]\n",
      " [  0   2  67   8  43   0]\n",
      " [  0  29  30   3   0  75]]\n"
     ]
    },
    {
     "data": {
      "image/png": "[encoded data removed]",
      "text/plain": [
       "<Figure size 432x288 with 1 Axes>"
      ]
     },
     "metadata": {
      "needs_background": "light"
     },
     "output_type": "display_data"
    },
    {
     "name": "stdout",
     "output_type": "stream",
     "text": [
      "Epoch  78  is complete!\n",
      "Complete in  547.2554998397827  seconds\n",
      "\n",
      "\n",
      "Training document  500  /  3488 ...\n",
      "Training document  1000  /  3488 ...\n",
      "Training document  1500  /  3488 ...\n",
      "Training document  2000  /  3488 ...\n",
      "Training document  2500  /  3488 ...\n",
      "Training document  3000  /  3488 ...\n",
      "Validating document  500  /  873 ...\n",
      "\n",
      "Train Loss:  0.3197606630825933\n",
      "Validation Loss:  0.3222672983927774\n",
      "Train Accuracy:  0.5470183486238532\n",
      "Validation Accuracy:  0.5544100801832761\n",
      "Confusion matrix:\n",
      "[[  0  12   7   0   0   0]\n",
      " [  0  83  65   1   4  33]\n",
      " [  0  25 162  13   1   3]\n",
      " [  0   6  97 103   0   1]\n",
      " [  0   2  66   9  43   0]\n",
      " [  0  11  31   2   0  93]]\n"
     ]
    },
    {
     "data": {
      "image/png": "[encoded data removed]",
      "text/plain": [
       "<Figure size 432x288 with 1 Axes>"
      ]
     },
     "metadata": {
      "needs_background": "light"
     },
     "output_type": "display_data"
    },
    {
     "name": "stdout",
     "output_type": "stream",
     "text": [
      "Epoch  79  is complete!\n",
      "Complete in  549.399092912674  seconds\n",
      "\n",
      "\n",
      "Training document  500  /  3488 ...\n",
      "Training document  1000  /  3488 ...\n",
      "Training document  1500  /  3488 ...\n",
      "Training document  2000  /  3488 ...\n",
      "Training document  2500  /  3488 ...\n",
      "Training document  3000  /  3488 ...\n",
      "Validating document  500  /  873 ...\n",
      "\n",
      "Train Loss:  0.319522737953993\n",
      "Validation Loss:  0.32199729959066514\n",
      "Train Accuracy:  0.5501720183486238\n",
      "Validation Accuracy:  0.5486827033218786\n",
      "Confusion matrix:\n",
      "[[  0  12   7   0   0   0]\n",
      " [  0  84  64   1   4  33]\n",
      " [  0  25 155  20   1   3]\n",
      " [  0   8  94 104   0   1]\n",
      " [  0   2  67   8  43   0]\n",
      " [  0  11  31   2   0  93]]\n"
     ]
    },
    {
     "data": {
      "image/png": "[encoded data removed]",
      "text/plain": [
       "<Figure size 432x288 with 1 Axes>"
      ]
     },
     "metadata": {
      "needs_background": "light"
     },
     "output_type": "display_data"
    },
    {
     "name": "stdout",
     "output_type": "stream",
     "text": [
      "Epoch  80  is complete!\n",
      "Complete in  613.3495151996613  seconds\n",
      "\n",
      "\n",
      "Training document  500  /  3488 ...\n",
      "Training document  1000  /  3488 ...\n",
      "Training document  1500  /  3488 ...\n",
      "Training document  2000  /  3488 ...\n",
      "Training document  2500  /  3488 ...\n",
      "Training document  3000  /  3488 ...\n",
      "Validating document  500  /  873 ...\n",
      "\n",
      "Train Loss:  0.31930515626246725\n",
      "Validation Loss:  0.32166027111798307\n",
      "Train Accuracy:  0.5470183486238532\n",
      "Validation Accuracy:  0.5567010309278351\n",
      "Confusion matrix:\n",
      "[[  0  12   7   0   0   0]\n",
      " [  0  83  62   4   4  33]\n",
      " [  0  25 148  27   1   3]\n",
      " [  0   6  81 119   0   1]\n",
      " [  0   2  65  10  43   0]\n",
      " [  0  11  26   7   0  93]]\n"
     ]
    },
    {
     "data": {
      "image/png": "[encoded data removed]",
      "text/plain": [
       "<Figure size 432x288 with 1 Axes>"
      ]
     },
     "metadata": {
      "needs_background": "light"
     },
     "output_type": "display_data"
    },
    {
     "name": "stdout",
     "output_type": "stream",
     "text": [
      "Epoch  81  is complete!\n",
      "Complete in  529.5484702587128  seconds\n",
      "\n",
      "\n",
      "Training document  500  /  3488 ...\n",
      "Training document  1000  /  3488 ...\n",
      "Training document  1500  /  3488 ...\n",
      "Training document  2000  /  3488 ...\n",
      "Training document  2500  /  3488 ...\n",
      "Training document  3000  /  3488 ...\n",
      "Validating document  500  /  873 ...\n",
      "\n",
      "Train Loss:  0.3190554807203923\n",
      "Validation Loss:  0.3214123307658518\n",
      "Train Accuracy:  0.5458715596330275\n",
      "Validation Accuracy:  0.5555555555555556\n",
      "Confusion matrix:\n",
      "[[  0  12   7   0   0   0]\n",
      " [  0  84  61   4   4  33]\n",
      " [  0  25 150  25   1   3]\n",
      " [  0   8  83 115   0   1]\n",
      " [  0   2  66   9  43   0]\n",
      " [  0  11  27   6   0  93]]\n"
     ]
    },
    {
     "data": {
      "image/png": "[encoded data removed]",
      "text/plain": [
       "<Figure size 432x288 with 1 Axes>"
      ]
     },
     "metadata": {
      "needs_background": "light"
     },
     "output_type": "display_data"
    },
    {
     "name": "stdout",
     "output_type": "stream",
     "text": [
      "Epoch  82  is complete!\n",
      "Complete in  580.8776981830597  seconds\n",
      "\n",
      "\n",
      "Training document  500  /  3488 ...\n",
      "Training document  1000  /  3488 ...\n",
      "Training document  1500  /  3488 ...\n",
      "Training document  2000  /  3488 ...\n",
      "Training document  2500  /  3488 ...\n",
      "Training document  3000  /  3488 ...\n",
      "Validating document  500  /  873 ...\n",
      "\n",
      "Train Loss:  0.31895679043591185\n",
      "Validation Loss:  0.3211464349746021\n",
      "Train Accuracy:  0.5372706422018348\n",
      "Validation Accuracy:  0.5532646048109966\n",
      "Confusion matrix:\n",
      "[[  0  12   7   0   0   0]\n",
      " [  0  84  62   3   4  33]\n",
      " [  0  25 151  24   1   3]\n",
      " [  0   6  88 112   0   1]\n",
      " [  0   2  66   9  43   0]\n",
      " [  0  11  30   3   0  93]]\n"
     ]
    },
    {
     "data": {
      "image/png": "[encoded data removed]",
      "text/plain": [
       "<Figure size 432x288 with 1 Axes>"
      ]
     },
     "metadata": {
      "needs_background": "light"
     },
     "output_type": "display_data"
    },
    {
     "name": "stdout",
     "output_type": "stream",
     "text": [
      "Epoch  83  is complete!\n",
      "Complete in  727.4662988185883  seconds\n",
      "\n",
      "\n",
      "Training document  500  /  3488 ...\n",
      "Training document  1000  /  3488 ...\n",
      "Training document  1500  /  3488 ...\n",
      "Training document  2000  /  3488 ...\n",
      "Training document  2500  /  3488 ...\n",
      "Training document  3000  /  3488 ...\n",
      "Validating document  500  /  873 ...\n",
      "\n",
      "Train Loss:  0.3187810293877112\n",
      "Validation Loss:  0.3208888376991626\n",
      "Train Accuracy:  0.5461582568807339\n",
      "Validation Accuracy:  0.5486827033218786\n",
      "Confusion matrix:\n",
      "[[  0  12   7   0   0   0]\n",
      " [  0  83  65   1   4  33]\n",
      " [  0  25 153  22   1   3]\n",
      " [  0   6  93 107   0   1]\n",
      " [  0   2  66   9  43   0]\n",
      " [  0  11  30   3   0  93]]\n"
     ]
    },
    {
     "data": {
      "image/png": "[encoded data removed]",
      "text/plain": [
       "<Figure size 432x288 with 1 Axes>"
      ]
     },
     "metadata": {
      "needs_background": "light"
     },
     "output_type": "display_data"
    },
    {
     "name": "stdout",
     "output_type": "stream",
     "text": [
      "Epoch  84  is complete!\n",
      "Complete in  587.1673843860626  seconds\n",
      "\n",
      "\n",
      "Training document  500  /  3488 ...\n",
      "Training document  1000  /  3488 ...\n",
      "Training document  1500  /  3488 ...\n",
      "Training document  2000  /  3488 ...\n",
      "Training document  2500  /  3488 ...\n",
      "Training document  3000  /  3488 ...\n",
      "Validating document  500  /  873 ...\n",
      "\n",
      "Train Loss:  0.3186226725257496\n",
      "Validation Loss:  0.32062736720868557\n",
      "Train Accuracy:  0.5464449541284404\n",
      "Validation Accuracy:  0.5509736540664376\n",
      "Confusion matrix:\n",
      "[[  0  12   7   0   0   0]\n",
      " [  0  83  63   3   4  33]\n",
      " [  0  25 152  23   1   3]\n",
      " [  0   6  90 110   0   1]\n",
      " [  0   2  66   9  43   0]\n",
      " [  0  11  30   3   0  93]]\n"
     ]
    },
    {
     "data": {
      "image/png": "[encoded data removed]",
      "text/plain": [
       "<Figure size 432x288 with 1 Axes>"
      ]
     },
     "metadata": {
      "needs_background": "light"
     },
     "output_type": "display_data"
    },
    {
     "name": "stdout",
     "output_type": "stream",
     "text": [
      "Epoch  85  is complete!\n",
      "Complete in  573.7850081920624  seconds\n",
      "\n",
      "\n",
      "Training document  500  /  3488 ...\n",
      "Training document  1000  /  3488 ...\n",
      "Training document  1500  /  3488 ...\n",
      "Training document  2000  /  3488 ...\n",
      "Training document  2500  /  3488 ...\n",
      "Training document  3000  /  3488 ...\n",
      "Validating document  500  /  873 ...\n",
      "\n",
      "Train Loss:  0.31839119442965924\n",
      "Validation Loss:  0.32035715432631573\n",
      "Train Accuracy:  0.5461582568807339\n",
      "Validation Accuracy:  0.5532646048109966\n",
      "Confusion matrix:\n",
      "[[  0  12   7   0   0   0]\n",
      " [  0  84  62   3   4  33]\n",
      " [  0  25 152  23   1   3]\n",
      " [  0   5  90 111   0   1]\n",
      " [  0   2  66   9  43   0]\n",
      " [  0  11  30   3   0  93]]\n"
     ]
    },
    {
     "data": {
      "image/png": "[encoded data removed]",
      "text/plain": [
       "<Figure size 432x288 with 1 Axes>"
      ]
     },
     "metadata": {
      "needs_background": "light"
     },
     "output_type": "display_data"
    },
    {
     "name": "stdout",
     "output_type": "stream",
     "text": [
      "Epoch  86  is complete!\n",
      "Complete in  602.1257257461548  seconds\n",
      "\n",
      "\n",
      "Training document  500  /  3488 ...\n",
      "Training document  1000  /  3488 ...\n",
      "Training document  1500  /  3488 ...\n",
      "Training document  2000  /  3488 ...\n",
      "Training document  2500  /  3488 ...\n",
      "Training document  3000  /  3488 ...\n",
      "Validating document  500  /  873 ...\n",
      "\n",
      "Train Loss:  0.3182425381996392\n",
      "Validation Loss:  0.32009333427434516\n",
      "Train Accuracy:  0.5510321100917431\n",
      "Validation Accuracy:  0.5509736540664376\n",
      "Confusion matrix:\n",
      "[[  0  12   7   0   0   0]\n",
      " [  0  84  63   2   4  33]\n",
      " [  0  25 154  21   1   3]\n",
      " [  0   5  94 107   0   1]\n",
      " [  0   2  68   7  43   0]\n",
      " [  0  11  31   2   0  93]]\n"
     ]
    },
    {
     "data": {
      "image/png": "[encoded data removed]",
      "text/plain": [
       "<Figure size 432x288 with 1 Axes>"
      ]
     },
     "metadata": {
      "needs_background": "light"
     },
     "output_type": "display_data"
    },
    {
     "name": "stdout",
     "output_type": "stream",
     "text": [
      "Epoch  87  is complete!\n",
      "Complete in  24115.897564649582  seconds\n",
      "\n",
      "\n",
      "Training document  500  /  3488 ...\n",
      "Training document  1000  /  3488 ...\n",
      "Training document  1500  /  3488 ...\n",
      "Training document  2000  /  3488 ...\n",
      "Training document  2500  /  3488 ...\n",
      "Training document  3000  /  3488 ...\n",
      "Validating document  500  /  873 ...\n",
      "\n",
      "Train Loss:  0.318081622141434\n",
      "Validation Loss:  0.31985277880948393\n",
      "Train Accuracy:  0.5475917431192661\n",
      "Validation Accuracy:  0.5498281786941581\n",
      "Confusion matrix:\n",
      "[[  0  12   7   0   0   0]\n",
      " [  0  84  63   2   4  33]\n",
      " [  0  25 158  17   1   3]\n",
      " [  0   8  96 102   0   1]\n",
      " [  0   2  70   5  43   0]\n",
      " [  0  11  31   2   0  93]]\n"
     ]
    },
    {
     "data": {
      "image/png": "[encoded data removed]",
      "text/plain": [
       "<Figure size 432x288 with 1 Axes>"
      ]
     },
     "metadata": {
      "needs_background": "light"
     },
     "output_type": "display_data"
    },
    {
     "name": "stdout",
     "output_type": "stream",
     "text": [
      "Epoch  88  is complete!\n",
      "Complete in  642.0313899517059  seconds\n",
      "\n",
      "\n",
      "Training document  500  /  3488 ...\n",
      "Training document  1000  /  3488 ...\n",
      "Training document  1500  /  3488 ...\n",
      "Training document  2000  /  3488 ...\n",
      "Training document  2500  /  3488 ...\n",
      "Training document  3000  /  3488 ...\n",
      "Validating document  500  /  873 ...\n",
      "\n",
      "Train Loss:  0.3180306645197138\n",
      "Validation Loss:  0.31964008859011567\n",
      "Train Accuracy:  0.5461582568807339\n",
      "Validation Accuracy:  0.5498281786941581\n",
      "Confusion matrix:\n",
      "[[  0  12   7   0   0   0]\n",
      " [  0  84  62   3   4  33]\n",
      " [  0  25 152  23   1   3]\n",
      " [  0   8  90 108   0   1]\n",
      " [  0   2  69   6  43   0]\n",
      " [  0  11  27   6   0  93]]\n"
     ]
    },
    {
     "data": {
      "image/png": "[encoded data removed]",
      "text/plain": [
       "<Figure size 432x288 with 1 Axes>"
      ]
     },
     "metadata": {
      "needs_background": "light"
     },
     "output_type": "display_data"
    },
    {
     "name": "stdout",
     "output_type": "stream",
     "text": [
      "Epoch  89  is complete!\n",
      "Complete in  647.2064514160156  seconds\n",
      "\n",
      "\n",
      "Training document  500  /  3488 ...\n",
      "Training document  1000  /  3488 ...\n",
      "Training document  1500  /  3488 ...\n",
      "Training document  2000  /  3488 ...\n",
      "Training document  2500  /  3488 ...\n",
      "Training document  3000  /  3488 ...\n",
      "Validating document  500  /  873 ...\n",
      "\n",
      "Train Loss:  0.31788313880274405\n",
      "Validation Loss:  0.3194404368488674\n",
      "Train Accuracy:  0.5504587155963303\n",
      "Validation Accuracy:  0.5475372279495991\n",
      "Confusion matrix:\n",
      "[[  0  12   7   0   0   0]\n",
      " [  0  84  62   3   4  33]\n",
      " [  0  25 153  22   1   3]\n",
      " [  0   8  91 108   0   0]\n",
      " [  0   2  69   6  43   0]\n",
      " [  0  11  27   9   0  90]]\n"
     ]
    },
    {
     "data": {
      "image/png": "[encoded data removed]",
      "text/plain": [
       "<Figure size 432x288 with 1 Axes>"
      ]
     },
     "metadata": {
      "needs_background": "light"
     },
     "output_type": "display_data"
    },
    {
     "name": "stdout",
     "output_type": "stream",
     "text": [
      "Epoch  90  is complete!\n",
      "Complete in  643.6296246051788  seconds\n",
      "\n",
      "\n",
      "Training document  500  /  3488 ...\n",
      "Training document  1000  /  3488 ...\n",
      "Training document  1500  /  3488 ...\n",
      "Training document  2000  /  3488 ...\n",
      "Training document  2500  /  3488 ...\n",
      "Training document  3000  /  3488 ...\n",
      "Validating document  500  /  873 ...\n",
      "\n",
      "Train Loss:  0.31773740400459666\n",
      "Validation Loss:  0.3191939139500545\n",
      "Train Accuracy:  0.5447247706422018\n",
      "Validation Accuracy:  0.5567010309278351\n",
      "Confusion matrix:\n",
      "[[  0  12   7   0   0   0]\n",
      " [  0  83  62   4   4  33]\n",
      " [  0  25 146  29   1   3]\n",
      " [  0   5  80 121   0   1]\n",
      " [  0   2  66   9  43   0]\n",
      " [  0  11  26   7   0  93]]\n"
     ]
    },
    {
     "data": {
      "image/png": "[encoded data removed]",
      "text/plain": [
       "<Figure size 432x288 with 1 Axes>"
      ]
     },
     "metadata": {
      "needs_background": "light"
     },
     "output_type": "display_data"
    },
    {
     "name": "stdout",
     "output_type": "stream",
     "text": [
      "Epoch  91  is complete!\n",
      "Complete in  616.4894847869873  seconds\n",
      "\n",
      "\n",
      "Training document  500  /  3488 ...\n",
      "Training document  1000  /  3488 ...\n",
      "Training document  1500  /  3488 ...\n",
      "Training document  2000  /  3488 ...\n",
      "Training document  2500  /  3488 ...\n",
      "Training document  3000  /  3488 ...\n",
      "Validating document  500  /  873 ...\n",
      "\n",
      "Train Loss:  0.31764422761726946\n",
      "Validation Loss:  0.3189560163125555\n",
      "Train Accuracy:  0.5501720183486238\n",
      "Validation Accuracy:  0.5544100801832761\n",
      "Confusion matrix:\n",
      "[[  0  12   7   0   0   0]\n",
      " [  0  83  62   4   4  33]\n",
      " [  0  25 138  37   1   3]\n",
      " [  0   5  74 127   0   1]\n",
      " [  0   2  64  11  43   0]\n",
      " [  0  11  25   8   0  93]]\n"
     ]
    },
    {
     "data": {
      "image/png": "[encoded data removed]",
      "text/plain": [
       "<Figure size 432x288 with 1 Axes>"
      ]
     },
     "metadata": {
      "needs_background": "light"
     },
     "output_type": "display_data"
    },
    {
     "name": "stdout",
     "output_type": "stream",
     "text": [
      "Epoch  92  is complete!\n",
      "Complete in  613.6364340782166  seconds\n",
      "\n",
      "\n",
      "Training document  500  /  3488 ...\n",
      "Training document  1000  /  3488 ...\n",
      "Training document  1500  /  3488 ...\n",
      "Training document  2000  /  3488 ...\n",
      "Training document  2500  /  3488 ...\n",
      "Training document  3000  /  3488 ...\n",
      "Validating document  500  /  873 ...\n",
      "\n",
      "Train Loss:  0.31745207458973634\n",
      "Validation Loss:  0.3187502777271512\n",
      "Train Accuracy:  0.5470183486238532\n",
      "Validation Accuracy:  0.5486827033218786\n",
      "Confusion matrix:\n",
      "[[  0  12   7   0   0   0]\n",
      " [  0  84  63   2   4  33]\n",
      " [  0  25 154  21   1   3]\n",
      " [  0   8  93 105   0   1]\n",
      " [  0   2  68   7  43   0]\n",
      " [  0  11  31   2   0  93]]\n"
     ]
    },
    {
     "data": {
      "image/png": "[encoded data removed]",
      "text/plain": [
       "<Figure size 432x288 with 1 Axes>"
      ]
     },
     "metadata": {
      "needs_background": "light"
     },
     "output_type": "display_data"
    },
    {
     "name": "stdout",
     "output_type": "stream",
     "text": [
      "Epoch  93  is complete!\n",
      "Complete in  617.8563466072083  seconds\n",
      "\n",
      "\n",
      "Training document  500  /  3488 ...\n",
      "Training document  1000  /  3488 ...\n",
      "Training document  1500  /  3488 ...\n",
      "Training document  2000  /  3488 ...\n",
      "Training document  2500  /  3488 ...\n",
      "Training document  3000  /  3488 ...\n",
      "Validating document  500  /  873 ...\n",
      "\n",
      "Train Loss:  0.3172883991073866\n",
      "Validation Loss:  0.31857548002674757\n",
      "Train Accuracy:  0.5487385321100917\n",
      "Validation Accuracy:  0.5486827033218786\n",
      "Confusion matrix:\n",
      "[[  0  12   7   0   0   0]\n",
      " [  0  84  65   0   4  33]\n",
      " [  0  25 160  15   1   3]\n",
      " [  0   8  99  99   0   1]\n",
      " [  0   2  69   6  43   0]\n",
      " [  0  11  31   2   0  93]]\n"
     ]
    },
    {
     "data": {
      "image/png": "[encoded data removed]",
      "text/plain": [
       "<Figure size 432x288 with 1 Axes>"
      ]
     },
     "metadata": {
      "needs_background": "light"
     },
     "output_type": "display_data"
    },
    {
     "name": "stdout",
     "output_type": "stream",
     "text": [
      "Epoch  94  is complete!\n",
      "Complete in  668.9507055282593  seconds\n",
      "\n",
      "\n",
      "Training document  500  /  3488 ...\n",
      "Training document  1000  /  3488 ...\n",
      "Training document  1500  /  3488 ...\n",
      "Training document  2000  /  3488 ...\n",
      "Training document  2500  /  3488 ...\n",
      "Training document  3000  /  3488 ...\n",
      "Validating document  500  /  873 ...\n",
      "\n",
      "Train Loss:  0.3170948959471998\n",
      "Validation Loss:  0.31839015072667104\n",
      "Train Accuracy:  0.5530389908256881\n",
      "Validation Accuracy:  0.5463917525773195\n",
      "Confusion matrix:\n",
      "[[  0  12   7   0   0   0]\n",
      " [  0  84  65   0   4  33]\n",
      " [  0  25 158  17   1   3]\n",
      " [  0   8  99  99   0   1]\n",
      " [  0   2  68   7  43   0]\n",
      " [  0  11  31   2   0  93]]\n"
     ]
    },
    {
     "data": {
      "image/png": "[encoded data removed]",
      "text/plain": [
       "<Figure size 432x288 with 1 Axes>"
      ]
     },
     "metadata": {
      "needs_background": "light"
     },
     "output_type": "display_data"
    },
    {
     "name": "stdout",
     "output_type": "stream",
     "text": [
      "Epoch  95  is complete!\n",
      "Complete in  683.5045680999756  seconds\n",
      "\n",
      "\n",
      "Training document  500  /  3488 ...\n",
      "Training document  1000  /  3488 ...\n",
      "Training document  1500  /  3488 ...\n",
      "Training document  2000  /  3488 ...\n",
      "Training document  2500  /  3488 ...\n",
      "Training document  3000  /  3488 ...\n",
      "Validating document  500  /  873 ...\n",
      "\n",
      "Train Loss:  0.31700015599916703\n",
      "Validation Loss:  0.31816280479688913\n",
      "Train Accuracy:  0.5458715596330275\n",
      "Validation Accuracy:  0.5555555555555556\n",
      "Confusion matrix:\n",
      "[[  0  12   7   0   0   0]\n",
      " [  0  83  63   3   4  33]\n",
      " [  0  25 152  23   1   3]\n",
      " [  0   6  86 114   0   1]\n",
      " [  0   2  66   9  43   0]\n",
      " [  0  11  30   3   0  93]]\n"
     ]
    },
    {
     "data": {
      "image/png": "[encoded data removed]",
      "text/plain": [
       "<Figure size 432x288 with 1 Axes>"
      ]
     },
     "metadata": {
      "needs_background": "light"
     },
     "output_type": "display_data"
    },
    {
     "name": "stdout",
     "output_type": "stream",
     "text": [
      "Epoch  96  is complete!\n",
      "Complete in  791.7043960094452  seconds\n",
      "\n",
      "\n",
      "Training document  500  /  3488 ...\n",
      "Training document  1000  /  3488 ...\n",
      "Training document  1500  /  3488 ...\n",
      "Training document  2000  /  3488 ...\n",
      "Training document  2500  /  3488 ...\n",
      "Training document  3000  /  3488 ...\n",
      "Validating document  500  /  873 ...\n",
      "\n",
      "Train Loss:  0.3168428211340687\n",
      "Validation Loss:  0.31796024891066926\n",
      "Train Accuracy:  0.5527522935779816\n",
      "Validation Accuracy:  0.5532646048109966\n",
      "Confusion matrix:\n",
      "[[  0  12   7   0   0   0]\n",
      " [  0  84  62   3   4  33]\n",
      " [  0  25 154  21   1   3]\n",
      " [  0   8  89 109   0   1]\n",
      " [  0   2  68   7  43   0]\n",
      " [  0  11  31   2   0  93]]\n"
     ]
    },
    {
     "data": {
      "image/png": "[encoded data removed]",
      "text/plain": [
       "<Figure size 432x288 with 1 Axes>"
      ]
     },
     "metadata": {
      "needs_background": "light"
     },
     "output_type": "display_data"
    },
    {
     "name": "stdout",
     "output_type": "stream",
     "text": [
      "Epoch  97  is complete!\n",
      "Complete in  701.7628540992737  seconds\n",
      "\n",
      "\n",
      "Training document  500  /  3488 ...\n",
      "Training document  1000  /  3488 ...\n",
      "Training document  1500  /  3488 ...\n",
      "Training document  2000  /  3488 ...\n",
      "Training document  2500  /  3488 ...\n",
      "Training document  3000  /  3488 ...\n",
      "Validating document  500  /  873 ...\n",
      "\n",
      "Train Loss:  0.31672076603225835\n",
      "Validation Loss:  0.31773045992868054\n",
      "Train Accuracy:  0.5498853211009175\n",
      "Validation Accuracy:  0.5555555555555556\n",
      "Confusion matrix:\n",
      "[[  0  12   7   0   0   0]\n",
      " [  0  84  61   4   4  33]\n",
      " [  0  25 146  29   1   3]\n",
      " [  0   6  81 119   0   1]\n",
      " [  0   2  65  10  43   0]\n",
      " [  0  11  26   7   0  93]]\n"
     ]
    },
    {
     "data": {
      "image/png": "[encoded data removed]",
      "text/plain": [
       "<Figure size 432x288 with 1 Axes>"
      ]
     },
     "metadata": {
      "needs_background": "light"
     },
     "output_type": "display_data"
    },
    {
     "name": "stdout",
     "output_type": "stream",
     "text": [
      "Epoch  98  is complete!\n",
      "Complete in  605.4915328025818  seconds\n",
      "\n",
      "\n",
      "Training document  500  /  3488 ...\n",
      "Training document  1000  /  3488 ...\n",
      "Training document  1500  /  3488 ...\n",
      "Training document  2000  /  3488 ...\n",
      "Training document  2500  /  3488 ...\n",
      "Training document  3000  /  3488 ...\n",
      "Validating document  500  /  873 ...\n",
      "\n",
      "Train Loss:  0.31653829819574475\n",
      "Validation Loss:  0.3175418383257048\n",
      "Train Accuracy:  0.5561926605504587\n",
      "Validation Accuracy:  0.5544100801832761\n",
      "Confusion matrix:\n",
      "[[  0  12   7   0   0   0]\n",
      " [  0  83  65   1   4  33]\n",
      " [  0  25 153  22   1   3]\n",
      " [  0   5  89 112   0   1]\n",
      " [  0   2  65  10  43   0]\n",
      " [  0  11  30   3   0  93]]\n"
     ]
    },
    {
     "data": {
      "image/png": "[encoded data removed]",
      "text/plain": [
       "<Figure size 432x288 with 1 Axes>"
      ]
     },
     "metadata": {
      "needs_background": "light"
     },
     "output_type": "display_data"
    },
    {
     "name": "stdout",
     "output_type": "stream",
     "text": [
      "Epoch  99  is complete!\n",
      "Complete in  500.60235834121704  seconds\n",
      "\n",
      "\n",
      "Training document  500  /  3488 ...\n",
      "Training document  1000  /  3488 ...\n",
      "Training document  1500  /  3488 ...\n",
      "Training document  2000  /  3488 ...\n",
      "Training document  2500  /  3488 ...\n",
      "Training document  3000  /  3488 ...\n",
      "Validating document  500  /  873 ...\n",
      "\n",
      "Train Loss:  0.3165084885001576\n",
      "Validation Loss:  0.3173891591474755\n",
      "Train Accuracy:  0.5344036697247706\n",
      "Validation Accuracy:  0.5486827033218786\n",
      "Confusion matrix:\n",
      "[[  0  12   7   0   0   0]\n",
      " [  0  84  64   1   4  33]\n",
      " [  0  25 166  10   1   2]\n",
      " [  0   6 100 101   0   0]\n",
      " [  0   2  67   8  43   0]\n",
      " [  0  11  32   9   0  85]]\n"
     ]
    },
    {
     "data": {
      "image/png": "[encoded data removed]",
      "text/plain": [
       "<Figure size 432x288 with 1 Axes>"
      ]
     },
     "metadata": {
      "needs_background": "light"
     },
     "output_type": "display_data"
    },
    {
     "ename": "FileNotFoundError",
     "evalue": "[Errno 2] No such file or directory: 'ques_lstm/postprocess1_300n_3l_100'",
     "output_type": "error",
     "traceback": [
      "\u001b[1;31m---------------------------------------------------------------------------\u001b[0m",
      "\u001b[1;31mFileNotFoundError\u001b[0m                         Traceback (most recent call last)",
      "\u001b[1;32m<ipython-input-178-757fce7980ef>\u001b[0m in \u001b[0;36m<module>\u001b[1;34m\u001b[0m\n\u001b[0;32m      3\u001b[0m \u001b[1;33m\u001b[0m\u001b[0m\n\u001b[0;32m      4\u001b[0m \u001b[1;31m# training and validating the model on the post processed embeddings\u001b[0m\u001b[1;33m\u001b[0m\u001b[1;33m\u001b[0m\u001b[1;33m\u001b[0m\u001b[0m\n\u001b[1;32m----> 5\u001b[1;33m \u001b[0mtr_mod1\u001b[0m\u001b[1;33m,\u001b[0m \u001b[0mres1\u001b[0m \u001b[1;33m=\u001b[0m \u001b[0mtrain_valid\u001b[0m\u001b[1;33m(\u001b[0m\u001b[0minit_mod1\u001b[0m\u001b[1;33m,\u001b[0m \u001b[0mtr1\u001b[0m\u001b[1;33m,\u001b[0m \u001b[0mva1\u001b[0m\u001b[1;33m,\u001b[0m \u001b[1;36m100\u001b[0m\u001b[1;33m,\u001b[0m \u001b[1;36m5\u001b[0m\u001b[1;33m,\u001b[0m \u001b[1;34m'postprocess1_300n_3l_'\u001b[0m\u001b[1;33m)\u001b[0m\u001b[1;33m\u001b[0m\u001b[1;33m\u001b[0m\u001b[0m\n\u001b[0m",
      "\u001b[1;32m<ipython-input-177-1260dc192923>\u001b[0m in \u001b[0;36mtrain_valid\u001b[1;34m(model, train, valid, epochs, clip, name)\u001b[0m\n\u001b[0;32m    118\u001b[0m             \u001b[0mmod_name\u001b[0m \u001b[1;33m=\u001b[0m \u001b[0mname\u001b[0m \u001b[1;33m+\u001b[0m \u001b[0mstr\u001b[0m\u001b[1;33m(\u001b[0m\u001b[0mi\u001b[0m\u001b[1;33m+\u001b[0m\u001b[1;36m1\u001b[0m\u001b[1;33m)\u001b[0m\u001b[1;33m\u001b[0m\u001b[1;33m\u001b[0m\u001b[0m\n\u001b[0;32m    119\u001b[0m             \u001b[0mlocation\u001b[0m \u001b[1;33m=\u001b[0m \u001b[1;34m\"ques_lstm/\"\u001b[0m \u001b[1;33m+\u001b[0m \u001b[0mmod_name\u001b[0m\u001b[1;33m\u001b[0m\u001b[1;33m\u001b[0m\u001b[0m\n\u001b[1;32m--> 120\u001b[1;33m             \u001b[0msaving\u001b[0m\u001b[1;33m(\u001b[0m\u001b[0mmodel\u001b[0m\u001b[1;33m,\u001b[0m \u001b[0mlocation\u001b[0m\u001b[1;33m)\u001b[0m\u001b[1;33m\u001b[0m\u001b[1;33m\u001b[0m\u001b[0m\n\u001b[0m\u001b[0;32m    121\u001b[0m             \u001b[0mprint\u001b[0m\u001b[1;33m(\u001b[0m\u001b[1;34m\"Saving the model at epoch: \"\u001b[0m\u001b[1;33m,\u001b[0m \u001b[0mi\u001b[0m \u001b[1;33m+\u001b[0m \u001b[1;36m1\u001b[0m\u001b[1;33m,\u001b[0m \u001b[1;34m\" as \"\u001b[0m\u001b[1;33m,\u001b[0m \u001b[0mmod_name\u001b[0m\u001b[1;33m)\u001b[0m\u001b[1;33m\u001b[0m\u001b[1;33m\u001b[0m\u001b[0m\n\u001b[0;32m    122\u001b[0m \u001b[1;33m\u001b[0m\u001b[0m\n",
      "\u001b[1;32m<ipython-input-162-fdaf87a1d039>\u001b[0m in \u001b[0;36msaving\u001b[1;34m(model, loc)\u001b[0m\n\u001b[0;32m      5\u001b[0m     \u001b[0mloc\u001b[0m\u001b[1;33m:\u001b[0m \u001b[0mthe\u001b[0m \u001b[0mname\u001b[0m \u001b[0mof\u001b[0m \u001b[0mthe\u001b[0m \u001b[0mmodel\u001b[0m \u001b[1;33m(\u001b[0m\u001b[0mcan\u001b[0m \u001b[0mbe\u001b[0m \u001b[0mused\u001b[0m \u001b[0mtogether\u001b[0m \u001b[1;32mwith\u001b[0m \u001b[1;33m/\u001b[0m\u001b[0mdir\u001b[0m\u001b[1;33m/\u001b[0m\u001b[0mname\u001b[0m\u001b[1;33m)\u001b[0m\u001b[1;33m\u001b[0m\u001b[1;33m\u001b[0m\u001b[0m\n\u001b[0;32m      6\u001b[0m     '''\n\u001b[1;32m----> 7\u001b[1;33m     \u001b[0mtorch\u001b[0m\u001b[1;33m.\u001b[0m\u001b[0msave\u001b[0m\u001b[1;33m(\u001b[0m\u001b[0mmodel\u001b[0m\u001b[1;33m,\u001b[0m \u001b[0mloc\u001b[0m\u001b[1;33m)\u001b[0m\u001b[1;33m\u001b[0m\u001b[1;33m\u001b[0m\u001b[0m\n\u001b[0m\u001b[0;32m      8\u001b[0m     \u001b[1;32mreturn\u001b[0m\u001b[1;33m\u001b[0m\u001b[1;33m\u001b[0m\u001b[0m\n\u001b[0;32m      9\u001b[0m \u001b[1;33m\u001b[0m\u001b[0m\n",
      "\u001b[1;32m~\\Anaconda3\\lib\\site-packages\\torch\\serialization.py\u001b[0m in \u001b[0;36msave\u001b[1;34m(obj, f, pickle_module, pickle_protocol, _use_new_zipfile_serialization)\u001b[0m\n\u001b[0;32m    367\u001b[0m             \u001b[1;32mreturn\u001b[0m\u001b[1;33m\u001b[0m\u001b[1;33m\u001b[0m\u001b[0m\n\u001b[0;32m    368\u001b[0m \u001b[1;33m\u001b[0m\u001b[0m\n\u001b[1;32m--> 369\u001b[1;33m     \u001b[1;32mwith\u001b[0m \u001b[0m_open_file_like\u001b[0m\u001b[1;33m(\u001b[0m\u001b[0mf\u001b[0m\u001b[1;33m,\u001b[0m \u001b[1;34m'wb'\u001b[0m\u001b[1;33m)\u001b[0m \u001b[1;32mas\u001b[0m \u001b[0mopened_file\u001b[0m\u001b[1;33m:\u001b[0m\u001b[1;33m\u001b[0m\u001b[1;33m\u001b[0m\u001b[0m\n\u001b[0m\u001b[0;32m    370\u001b[0m         \u001b[0m_legacy_save\u001b[0m\u001b[1;33m(\u001b[0m\u001b[0mobj\u001b[0m\u001b[1;33m,\u001b[0m \u001b[0mopened_file\u001b[0m\u001b[1;33m,\u001b[0m \u001b[0mpickle_module\u001b[0m\u001b[1;33m,\u001b[0m \u001b[0mpickle_protocol\u001b[0m\u001b[1;33m)\u001b[0m\u001b[1;33m\u001b[0m\u001b[1;33m\u001b[0m\u001b[0m\n\u001b[0;32m    371\u001b[0m \u001b[1;33m\u001b[0m\u001b[0m\n",
      "\u001b[1;32m~\\Anaconda3\\lib\\site-packages\\torch\\serialization.py\u001b[0m in \u001b[0;36m_open_file_like\u001b[1;34m(name_or_buffer, mode)\u001b[0m\n\u001b[0;32m    232\u001b[0m \u001b[1;32mdef\u001b[0m \u001b[0m_open_file_like\u001b[0m\u001b[1;33m(\u001b[0m\u001b[0mname_or_buffer\u001b[0m\u001b[1;33m,\u001b[0m \u001b[0mmode\u001b[0m\u001b[1;33m)\u001b[0m\u001b[1;33m:\u001b[0m\u001b[1;33m\u001b[0m\u001b[1;33m\u001b[0m\u001b[0m\n\u001b[0;32m    233\u001b[0m     \u001b[1;32mif\u001b[0m \u001b[0m_is_path\u001b[0m\u001b[1;33m(\u001b[0m\u001b[0mname_or_buffer\u001b[0m\u001b[1;33m)\u001b[0m\u001b[1;33m:\u001b[0m\u001b[1;33m\u001b[0m\u001b[1;33m\u001b[0m\u001b[0m\n\u001b[1;32m--> 234\u001b[1;33m         \u001b[1;32mreturn\u001b[0m \u001b[0m_open_file\u001b[0m\u001b[1;33m(\u001b[0m\u001b[0mname_or_buffer\u001b[0m\u001b[1;33m,\u001b[0m \u001b[0mmode\u001b[0m\u001b[1;33m)\u001b[0m\u001b[1;33m\u001b[0m\u001b[1;33m\u001b[0m\u001b[0m\n\u001b[0m\u001b[0;32m    235\u001b[0m     \u001b[1;32melse\u001b[0m\u001b[1;33m:\u001b[0m\u001b[1;33m\u001b[0m\u001b[1;33m\u001b[0m\u001b[0m\n\u001b[0;32m    236\u001b[0m         \u001b[1;32mif\u001b[0m \u001b[1;34m'w'\u001b[0m \u001b[1;32min\u001b[0m \u001b[0mmode\u001b[0m\u001b[1;33m:\u001b[0m\u001b[1;33m\u001b[0m\u001b[1;33m\u001b[0m\u001b[0m\n",
      "\u001b[1;32m~\\Anaconda3\\lib\\site-packages\\torch\\serialization.py\u001b[0m in \u001b[0;36m__init__\u001b[1;34m(self, name, mode)\u001b[0m\n\u001b[0;32m    213\u001b[0m \u001b[1;32mclass\u001b[0m \u001b[0m_open_file\u001b[0m\u001b[1;33m(\u001b[0m\u001b[0m_opener\u001b[0m\u001b[1;33m)\u001b[0m\u001b[1;33m:\u001b[0m\u001b[1;33m\u001b[0m\u001b[1;33m\u001b[0m\u001b[0m\n\u001b[0;32m    214\u001b[0m     \u001b[1;32mdef\u001b[0m \u001b[0m__init__\u001b[0m\u001b[1;33m(\u001b[0m\u001b[0mself\u001b[0m\u001b[1;33m,\u001b[0m \u001b[0mname\u001b[0m\u001b[1;33m,\u001b[0m \u001b[0mmode\u001b[0m\u001b[1;33m)\u001b[0m\u001b[1;33m:\u001b[0m\u001b[1;33m\u001b[0m\u001b[1;33m\u001b[0m\u001b[0m\n\u001b[1;32m--> 215\u001b[1;33m         \u001b[0msuper\u001b[0m\u001b[1;33m(\u001b[0m\u001b[0m_open_file\u001b[0m\u001b[1;33m,\u001b[0m \u001b[0mself\u001b[0m\u001b[1;33m)\u001b[0m\u001b[1;33m.\u001b[0m\u001b[0m__init__\u001b[0m\u001b[1;33m(\u001b[0m\u001b[0mopen\u001b[0m\u001b[1;33m(\u001b[0m\u001b[0mname\u001b[0m\u001b[1;33m,\u001b[0m \u001b[0mmode\u001b[0m\u001b[1;33m)\u001b[0m\u001b[1;33m)\u001b[0m\u001b[1;33m\u001b[0m\u001b[1;33m\u001b[0m\u001b[0m\n\u001b[0m\u001b[0;32m    216\u001b[0m \u001b[1;33m\u001b[0m\u001b[0m\n\u001b[0;32m    217\u001b[0m     \u001b[1;32mdef\u001b[0m \u001b[0m__exit__\u001b[0m\u001b[1;33m(\u001b[0m\u001b[0mself\u001b[0m\u001b[1;33m,\u001b[0m \u001b[1;33m*\u001b[0m\u001b[0margs\u001b[0m\u001b[1;33m)\u001b[0m\u001b[1;33m:\u001b[0m\u001b[1;33m\u001b[0m\u001b[1;33m\u001b[0m\u001b[0m\n",
      "\u001b[1;31mFileNotFoundError\u001b[0m: [Errno 2] No such file or directory: 'ques_lstm/postprocess1_300n_3l_100'"
     ]
    }
   ],
   "source": [
    "# loading initialized weights from the model in option 1 to compare resulting training results \n",
    "#init_mod1 = loading(mod1, 'init_300n_3l')\n",
    "\n",
    "# training and validating the model on the post processed embeddings\n",
    "#tr_mod1, res1 = train_valid(init_mod1, tr1, va1, 100, 5, 'postprocess1_300n_3l_')"
   ]
  },
  {
   "cell_type": "code",
   "execution_count": 184,
   "metadata": {},
   "outputs": [
    {
     "name": "stderr",
     "output_type": "stream",
     "text": [
      "C:\\Users\\sunny\\Anaconda3\\lib\\site-packages\\torch\\serialization.py:402: UserWarning: Couldn't retrieve source code for container of type gensim_lstm. It won't be checked for correctness upon loading.\n",
      "  \"type \" + obj.__name__ + \". It won't be checked \"\n"
     ]
    }
   ],
   "source": [
    "# resaving the trained model due to an error\n",
    "#saving(init_mod1, 'postprocess1_300n_3l_100')"
   ]
  },
  {
   "cell_type": "code",
   "execution_count": 185,
   "metadata": {},
   "outputs": [
    {
     "name": "stdout",
     "output_type": "stream",
     "text": [
      "Model Architecture: \n",
      "gensim_lstm(\n",
      "  (lstm): LSTM(100, 300, num_layers=3, dropout=0.7)\n",
      "  (dense): Linear(in_features=600, out_features=6, bias=True)\n",
      "  (sigm): Sigmoid()\n",
      ")\n"
     ]
    }
   ],
   "source": [
    "## loading the most recently trained model\n",
    "\n",
    "# setting a sample structure before loading a trained model\n",
    "mod0 = set_model(300, 3, 0.7)\n",
    "\n",
    "# directly load the trained lstm model\n",
    "trained_lstm = loading(mod0, 'postprocess1_300n_3l_100')"
   ]
  },
  {
   "cell_type": "code",
   "execution_count": 190,
   "metadata": {},
   "outputs": [],
   "source": [
    "def test_model(model, test):\n",
    "    '''\n",
    "    model: the trained model that will then be tested\n",
    "    test: the testing dataset (test[0] is input test[1] is output)\n",
    "    '''\n",
    "    \n",
    "    # loss function\n",
    "    loss_fn = torch.nn.BCELoss()\n",
    "    \n",
    "    # setting model to train mode\n",
    "    model.eval()\n",
    "    \n",
    "    predict_class, actual_class = [], []\n",
    "    test_losses, all_class = [], []\n",
    "    \n",
    "    # iterating through the training data\n",
    "    for vec in range(len(test[0])):\n",
    "\n",
    "        # initializing the hidden layer\n",
    "        hid = model.init_hidden()\n",
    "\n",
    "        # setting up the input and output\n",
    "        inp = text_tensor(test[0].iloc[vec], post_process1)\n",
    "        out = torch.tensor(test[1].iloc[vec], dtype=torch.float).reshape(1, -1)\n",
    "\n",
    "        pred = model(inp, hid)\n",
    "\n",
    "        # calculating the loss\n",
    "        loss = loss_fn(pred, out)\n",
    "        test_losses.append(loss.item())\n",
    "\n",
    "        actual_class.append(torch.argmax(out))\n",
    "        predict_class.append(torch.argmax(pred).detach())\n",
    "        all_class.append(pred.detach())\n",
    "        \n",
    "        op = \"\"\n",
    "        if actual_class[-1] == predict_class[-1]:\n",
    "            op = 'Y'\n",
    "        else:\n",
    "            op = 'N'\n",
    "            \n",
    "        print(vec, \" : \", \"actual - \", test[1].columns[actual_class[-1].item()], \n",
    "              \" predict - \", test[1].columns[predict_class[-1].item()], \" grade: \", op)\n",
    "    \n",
    "    accuracy = sk.metrics.accuracy_score(actual_class, predict_class)\n",
    "    confusion = sk.metrics.confusion_matrix(actual_class, predict_class)\n",
    "    \n",
    "    print(\"Accuracy: \", accuracy)\n",
    "    print(\"Confusion matrix:\")\n",
    "    print(confusion)\n",
    "\n",
    "    title = \"Confusion visualization\"\n",
    "    plt.title(title)\n",
    "    plt.imshow(confusion)\n",
    "    plt.show()\n",
    "    \n",
    "    return all_class"
   ]
  },
  {
   "cell_type": "code",
   "execution_count": 191,
   "metadata": {},
   "outputs": [
    {
     "name": "stderr",
     "output_type": "stream",
     "text": [
      "C:\\Users\\sunny\\Anaconda3\\lib\\site-packages\\ipykernel_launcher.py:30: DeprecationWarning: Call to deprecated `wv` (Attribute will be removed in 4.0.0, use self instead).\n",
      "C:\\Users\\sunny\\Anaconda3\\lib\\site-packages\\ipykernel_launcher.py:35: DeprecationWarning: Call to deprecated `wv` (Attribute will be removed in 4.0.0, use self instead).\n",
      "C:\\Users\\sunny\\Anaconda3\\lib\\site-packages\\ipykernel_launcher.py:41: UserWarning: To copy construct from a tensor, it is recommended to use sourceTensor.clone().detach() or sourceTensor.clone().detach().requires_grad_(True), rather than torch.tensor(sourceTensor).\n"
     ]
    },
    {
     "name": "stdout",
     "output_type": "stream",
     "text": [
      "0  :  actual -  ('NUM',)  predict -  ('NUM',)  grade:  Y\n",
      "1  :  actual -  ('ENTY',)  predict -  ('DESC',)  grade:  N\n",
      "2  :  actual -  ('LOC',)  predict -  ('LOC',)  grade:  Y\n",
      "3  :  actual -  ('DESC',)  predict -  ('NUM',)  grade:  N\n",
      "4  :  actual -  ('DESC',)  predict -  ('ENTY',)  grade:  N\n",
      "5  :  actual -  ('HUM',)  predict -  ('ENTY',)  grade:  N\n"
     ]
    },
    {
     "name": "stderr",
     "output_type": "stream",
     "text": [
      "C:\\Users\\sunny\\Anaconda3\\lib\\site-packages\\ipykernel_launcher.py:38: UserWarning: To copy construct from a tensor, it is recommended to use sourceTensor.clone().detach() or sourceTensor.clone().detach().requires_grad_(True), rather than torch.tensor(sourceTensor).\n"
     ]
    },
    {
     "name": "stdout",
     "output_type": "stream",
     "text": [
      "6  :  actual -  ('ENTY',)  predict -  ('ENTY',)  grade:  Y\n",
      "7  :  actual -  ('HUM',)  predict -  ('HUM',)  grade:  Y\n",
      "8  :  actual -  ('HUM',)  predict -  ('HUM',)  grade:  Y\n",
      "9  :  actual -  ('LOC',)  predict -  ('ENTY',)  grade:  N\n",
      "10  :  actual -  ('HUM',)  predict -  ('HUM',)  grade:  Y\n",
      "11  :  actual -  ('DESC',)  predict -  ('DESC',)  grade:  Y\n",
      "12  :  actual -  ('NUM',)  predict -  ('ENTY',)  grade:  N\n",
      "13  :  actual -  ('ENTY',)  predict -  ('ENTY',)  grade:  Y\n",
      "14  :  actual -  ('HUM',)  predict -  ('ENTY',)  grade:  N\n",
      "15  :  actual -  ('HUM',)  predict -  ('ENTY',)  grade:  N\n",
      "16  :  actual -  ('DESC',)  predict -  ('ENTY',)  grade:  N\n",
      "17  :  actual -  ('NUM',)  predict -  ('ENTY',)  grade:  N\n",
      "18  :  actual -  ('NUM',)  predict -  ('NUM',)  grade:  Y\n",
      "19  :  actual -  ('DESC',)  predict -  ('ENTY',)  grade:  N\n",
      "20  :  actual -  ('NUM',)  predict -  ('HUM',)  grade:  N\n",
      "21  :  actual -  ('ENTY',)  predict -  ('ENTY',)  grade:  Y\n",
      "22  :  actual -  ('ENTY',)  predict -  ('DESC',)  grade:  N\n",
      "23  :  actual -  ('DESC',)  predict -  ('ENTY',)  grade:  N\n",
      "24  :  actual -  ('NUM',)  predict -  ('ENTY',)  grade:  N\n",
      "25  :  actual -  ('ENTY',)  predict -  ('DESC',)  grade:  N\n",
      "26  :  actual -  ('ENTY',)  predict -  ('ENTY',)  grade:  Y\n",
      "27  :  actual -  ('HUM',)  predict -  ('HUM',)  grade:  Y\n",
      "28  :  actual -  ('HUM',)  predict -  ('ENTY',)  grade:  N\n",
      "29  :  actual -  ('DESC',)  predict -  ('ENTY',)  grade:  N\n",
      "30  :  actual -  ('DESC',)  predict -  ('ENTY',)  grade:  N\n",
      "31  :  actual -  ('NUM',)  predict -  ('NUM',)  grade:  Y\n",
      "32  :  actual -  ('HUM',)  predict -  ('HUM',)  grade:  Y\n",
      "33  :  actual -  ('LOC',)  predict -  ('ENTY',)  grade:  N\n",
      "34  :  actual -  ('NUM',)  predict -  ('ENTY',)  grade:  N\n",
      "35  :  actual -  ('ENTY',)  predict -  ('ENTY',)  grade:  Y\n",
      "36  :  actual -  ('HUM',)  predict -  ('ENTY',)  grade:  N\n",
      "37  :  actual -  ('LOC',)  predict -  ('ENTY',)  grade:  N\n",
      "38  :  actual -  ('NUM',)  predict -  ('ENTY',)  grade:  N\n",
      "39  :  actual -  ('HUM',)  predict -  ('HUM',)  grade:  Y\n",
      "40  :  actual -  ('ENTY',)  predict -  ('ENTY',)  grade:  Y\n",
      "41  :  actual -  ('NUM',)  predict -  ('NUM',)  grade:  Y\n",
      "42  :  actual -  ('DESC',)  predict -  ('NUM',)  grade:  N\n",
      "43  :  actual -  ('LOC',)  predict -  ('ENTY',)  grade:  N\n",
      "44  :  actual -  ('DESC',)  predict -  ('LOC',)  grade:  N\n",
      "45  :  actual -  ('NUM',)  predict -  ('HUM',)  grade:  N\n",
      "46  :  actual -  ('HUM',)  predict -  ('HUM',)  grade:  Y\n",
      "47  :  actual -  ('ENTY',)  predict -  ('ENTY',)  grade:  Y\n",
      "48  :  actual -  ('ENTY',)  predict -  ('ENTY',)  grade:  Y\n",
      "49  :  actual -  ('ABBR',)  predict -  ('ENTY',)  grade:  N\n",
      "50  :  actual -  ('LOC',)  predict -  ('DESC',)  grade:  N\n",
      "51  :  actual -  ('ENTY',)  predict -  ('ENTY',)  grade:  Y\n",
      "52  :  actual -  ('ENTY',)  predict -  ('ENTY',)  grade:  Y\n",
      "53  :  actual -  ('HUM',)  predict -  ('ENTY',)  grade:  N\n",
      "54  :  actual -  ('DESC',)  predict -  ('DESC',)  grade:  Y\n",
      "55  :  actual -  ('LOC',)  predict -  ('ENTY',)  grade:  N\n",
      "56  :  actual -  ('DESC',)  predict -  ('NUM',)  grade:  N\n",
      "57  :  actual -  ('NUM',)  predict -  ('ENTY',)  grade:  N\n",
      "58  :  actual -  ('ENTY',)  predict -  ('ENTY',)  grade:  Y\n",
      "59  :  actual -  ('LOC',)  predict -  ('LOC',)  grade:  Y\n",
      "60  :  actual -  ('ENTY',)  predict -  ('ENTY',)  grade:  Y\n",
      "61  :  actual -  ('HUM',)  predict -  ('HUM',)  grade:  Y\n",
      "62  :  actual -  ('ENTY',)  predict -  ('ENTY',)  grade:  Y\n",
      "63  :  actual -  ('NUM',)  predict -  ('NUM',)  grade:  Y\n",
      "64  :  actual -  ('NUM',)  predict -  ('ENTY',)  grade:  N\n",
      "65  :  actual -  ('NUM',)  predict -  ('ENTY',)  grade:  N\n",
      "66  :  actual -  ('ENTY',)  predict -  ('ENTY',)  grade:  Y\n",
      "67  :  actual -  ('ENTY',)  predict -  ('ENTY',)  grade:  Y\n",
      "68  :  actual -  ('NUM',)  predict -  ('NUM',)  grade:  Y\n",
      "69  :  actual -  ('DESC',)  predict -  ('DESC',)  grade:  Y\n",
      "70  :  actual -  ('ENTY',)  predict -  ('ENTY',)  grade:  Y\n",
      "71  :  actual -  ('HUM',)  predict -  ('ENTY',)  grade:  N\n",
      "72  :  actual -  ('LOC',)  predict -  ('HUM',)  grade:  N\n",
      "73  :  actual -  ('DESC',)  predict -  ('DESC',)  grade:  Y\n",
      "74  :  actual -  ('HUM',)  predict -  ('ENTY',)  grade:  N\n",
      "75  :  actual -  ('DESC',)  predict -  ('ENTY',)  grade:  N\n",
      "76  :  actual -  ('LOC',)  predict -  ('LOC',)  grade:  Y\n",
      "77  :  actual -  ('HUM',)  predict -  ('HUM',)  grade:  Y\n",
      "78  :  actual -  ('ENTY',)  predict -  ('ENTY',)  grade:  Y\n",
      "79  :  actual -  ('DESC',)  predict -  ('ENTY',)  grade:  N\n",
      "80  :  actual -  ('LOC',)  predict -  ('ENTY',)  grade:  N\n",
      "81  :  actual -  ('DESC',)  predict -  ('NUM',)  grade:  N\n",
      "82  :  actual -  ('ENTY',)  predict -  ('ENTY',)  grade:  Y\n",
      "83  :  actual -  ('DESC',)  predict -  ('DESC',)  grade:  Y\n",
      "84  :  actual -  ('ENTY',)  predict -  ('ENTY',)  grade:  Y\n",
      "85  :  actual -  ('HUM',)  predict -  ('HUM',)  grade:  Y\n",
      "86  :  actual -  ('HUM',)  predict -  ('HUM',)  grade:  Y\n",
      "87  :  actual -  ('HUM',)  predict -  ('HUM',)  grade:  Y\n",
      "88  :  actual -  ('DESC',)  predict -  ('ENTY',)  grade:  N\n",
      "89  :  actual -  ('HUM',)  predict -  ('HUM',)  grade:  Y\n",
      "90  :  actual -  ('ENTY',)  predict -  ('ENTY',)  grade:  Y\n",
      "91  :  actual -  ('LOC',)  predict -  ('HUM',)  grade:  N\n",
      "92  :  actual -  ('NUM',)  predict -  ('HUM',)  grade:  N\n",
      "93  :  actual -  ('DESC',)  predict -  ('DESC',)  grade:  Y\n",
      "94  :  actual -  ('NUM',)  predict -  ('HUM',)  grade:  N\n",
      "95  :  actual -  ('LOC',)  predict -  ('ENTY',)  grade:  N\n",
      "96  :  actual -  ('DESC',)  predict -  ('DESC',)  grade:  Y\n",
      "97  :  actual -  ('NUM',)  predict -  ('NUM',)  grade:  Y\n",
      "98  :  actual -  ('HUM',)  predict -  ('ENTY',)  grade:  N\n",
      "99  :  actual -  ('LOC',)  predict -  ('LOC',)  grade:  Y\n",
      "100  :  actual -  ('ENTY',)  predict -  ('ENTY',)  grade:  Y\n",
      "101  :  actual -  ('NUM',)  predict -  ('NUM',)  grade:  Y\n",
      "102  :  actual -  ('ENTY',)  predict -  ('DESC',)  grade:  N\n",
      "103  :  actual -  ('ENTY',)  predict -  ('ENTY',)  grade:  Y\n",
      "104  :  actual -  ('HUM',)  predict -  ('ENTY',)  grade:  N\n",
      "105  :  actual -  ('ENTY',)  predict -  ('ENTY',)  grade:  Y\n",
      "106  :  actual -  ('NUM',)  predict -  ('NUM',)  grade:  Y\n",
      "107  :  actual -  ('NUM',)  predict -  ('NUM',)  grade:  Y\n",
      "108  :  actual -  ('NUM',)  predict -  ('NUM',)  grade:  Y\n",
      "109  :  actual -  ('LOC',)  predict -  ('HUM',)  grade:  N\n",
      "110  :  actual -  ('HUM',)  predict -  ('ENTY',)  grade:  N\n",
      "111  :  actual -  ('NUM',)  predict -  ('DESC',)  grade:  N\n",
      "112  :  actual -  ('LOC',)  predict -  ('ENTY',)  grade:  N\n",
      "113  :  actual -  ('DESC',)  predict -  ('DESC',)  grade:  Y\n",
      "114  :  actual -  ('ENTY',)  predict -  ('ENTY',)  grade:  Y\n",
      "115  :  actual -  ('HUM',)  predict -  ('ENTY',)  grade:  N\n",
      "116  :  actual -  ('NUM',)  predict -  ('NUM',)  grade:  Y\n",
      "117  :  actual -  ('ENTY',)  predict -  ('ENTY',)  grade:  Y\n",
      "118  :  actual -  ('LOC',)  predict -  ('ENTY',)  grade:  N\n",
      "119  :  actual -  ('DESC',)  predict -  ('NUM',)  grade:  N\n",
      "120  :  actual -  ('NUM',)  predict -  ('ENTY',)  grade:  N\n",
      "121  :  actual -  ('NUM',)  predict -  ('ENTY',)  grade:  N\n",
      "122  :  actual -  ('LOC',)  predict -  ('LOC',)  grade:  Y\n",
      "123  :  actual -  ('NUM',)  predict -  ('NUM',)  grade:  Y\n",
      "124  :  actual -  ('DESC',)  predict -  ('NUM',)  grade:  N\n",
      "125  :  actual -  ('NUM',)  predict -  ('NUM',)  grade:  Y\n",
      "126  :  actual -  ('HUM',)  predict -  ('ENTY',)  grade:  N\n",
      "127  :  actual -  ('ENTY',)  predict -  ('DESC',)  grade:  N\n",
      "128  :  actual -  ('NUM',)  predict -  ('NUM',)  grade:  Y\n",
      "129  :  actual -  ('DESC',)  predict -  ('ENTY',)  grade:  N\n",
      "130  :  actual -  ('ENTY',)  predict -  ('ENTY',)  grade:  Y\n",
      "131  :  actual -  ('HUM',)  predict -  ('HUM',)  grade:  Y\n",
      "132  :  actual -  ('HUM',)  predict -  ('ENTY',)  grade:  N\n",
      "133  :  actual -  ('HUM',)  predict -  ('ENTY',)  grade:  N\n",
      "134  :  actual -  ('HUM',)  predict -  ('HUM',)  grade:  Y\n",
      "135  :  actual -  ('NUM',)  predict -  ('NUM',)  grade:  Y\n",
      "136  :  actual -  ('DESC',)  predict -  ('ENTY',)  grade:  N\n",
      "137  :  actual -  ('HUM',)  predict -  ('ENTY',)  grade:  N\n",
      "138  :  actual -  ('LOC',)  predict -  ('ENTY',)  grade:  N\n",
      "139  :  actual -  ('LOC',)  predict -  ('ENTY',)  grade:  N\n",
      "140  :  actual -  ('ENTY',)  predict -  ('ENTY',)  grade:  Y\n",
      "141  :  actual -  ('DESC',)  predict -  ('NUM',)  grade:  N\n",
      "142  :  actual -  ('LOC',)  predict -  ('ENTY',)  grade:  N\n",
      "143  :  actual -  ('NUM',)  predict -  ('ENTY',)  grade:  N\n",
      "144  :  actual -  ('ENTY',)  predict -  ('ENTY',)  grade:  Y\n",
      "145  :  actual -  ('ENTY',)  predict -  ('ENTY',)  grade:  Y\n",
      "146  :  actual -  ('HUM',)  predict -  ('HUM',)  grade:  Y\n",
      "147  :  actual -  ('NUM',)  predict -  ('DESC',)  grade:  N\n",
      "148  :  actual -  ('NUM',)  predict -  ('NUM',)  grade:  Y\n",
      "149  :  actual -  ('ENTY',)  predict -  ('DESC',)  grade:  N\n",
      "150  :  actual -  ('HUM',)  predict -  ('ENTY',)  grade:  N\n",
      "151  :  actual -  ('LOC',)  predict -  ('ENTY',)  grade:  N\n"
     ]
    },
    {
     "name": "stdout",
     "output_type": "stream",
     "text": [
      "152  :  actual -  ('DESC',)  predict -  ('ENTY',)  grade:  N\n",
      "153  :  actual -  ('HUM',)  predict -  ('ENTY',)  grade:  N\n",
      "154  :  actual -  ('DESC',)  predict -  ('DESC',)  grade:  Y\n",
      "155  :  actual -  ('ENTY',)  predict -  ('ENTY',)  grade:  Y\n",
      "156  :  actual -  ('HUM',)  predict -  ('HUM',)  grade:  Y\n",
      "157  :  actual -  ('ENTY',)  predict -  ('DESC',)  grade:  N\n",
      "158  :  actual -  ('ENTY',)  predict -  ('ENTY',)  grade:  Y\n",
      "159  :  actual -  ('ENTY',)  predict -  ('ENTY',)  grade:  Y\n",
      "160  :  actual -  ('ABBR',)  predict -  ('HUM',)  grade:  N\n",
      "161  :  actual -  ('NUM',)  predict -  ('NUM',)  grade:  Y\n",
      "162  :  actual -  ('ENTY',)  predict -  ('ENTY',)  grade:  Y\n",
      "163  :  actual -  ('LOC',)  predict -  ('LOC',)  grade:  Y\n",
      "164  :  actual -  ('HUM',)  predict -  ('ENTY',)  grade:  N\n",
      "165  :  actual -  ('HUM',)  predict -  ('HUM',)  grade:  Y\n",
      "166  :  actual -  ('ENTY',)  predict -  ('ENTY',)  grade:  Y\n",
      "167  :  actual -  ('DESC',)  predict -  ('NUM',)  grade:  N\n",
      "168  :  actual -  ('HUM',)  predict -  ('ENTY',)  grade:  N\n",
      "169  :  actual -  ('HUM',)  predict -  ('HUM',)  grade:  Y\n",
      "170  :  actual -  ('LOC',)  predict -  ('ENTY',)  grade:  N\n",
      "171  :  actual -  ('ENTY',)  predict -  ('HUM',)  grade:  N\n",
      "172  :  actual -  ('NUM',)  predict -  ('NUM',)  grade:  Y\n",
      "173  :  actual -  ('LOC',)  predict -  ('ENTY',)  grade:  N\n",
      "174  :  actual -  ('HUM',)  predict -  ('ENTY',)  grade:  N\n",
      "175  :  actual -  ('ENTY',)  predict -  ('ENTY',)  grade:  Y\n",
      "176  :  actual -  ('NUM',)  predict -  ('ENTY',)  grade:  N\n",
      "177  :  actual -  ('DESC',)  predict -  ('DESC',)  grade:  Y\n",
      "178  :  actual -  ('NUM',)  predict -  ('ENTY',)  grade:  N\n",
      "179  :  actual -  ('ENTY',)  predict -  ('ENTY',)  grade:  Y\n",
      "180  :  actual -  ('ENTY',)  predict -  ('ENTY',)  grade:  Y\n",
      "181  :  actual -  ('ENTY',)  predict -  ('DESC',)  grade:  N\n",
      "182  :  actual -  ('ENTY',)  predict -  ('ENTY',)  grade:  Y\n",
      "183  :  actual -  ('DESC',)  predict -  ('NUM',)  grade:  N\n",
      "184  :  actual -  ('DESC',)  predict -  ('ENTY',)  grade:  N\n",
      "185  :  actual -  ('ENTY',)  predict -  ('ENTY',)  grade:  Y\n",
      "186  :  actual -  ('ENTY',)  predict -  ('DESC',)  grade:  N\n",
      "187  :  actual -  ('NUM',)  predict -  ('DESC',)  grade:  N\n",
      "188  :  actual -  ('NUM',)  predict -  ('NUM',)  grade:  Y\n",
      "189  :  actual -  ('NUM',)  predict -  ('ENTY',)  grade:  N\n",
      "190  :  actual -  ('ENTY',)  predict -  ('HUM',)  grade:  N\n",
      "191  :  actual -  ('LOC',)  predict -  ('ENTY',)  grade:  N\n",
      "192  :  actual -  ('DESC',)  predict -  ('DESC',)  grade:  Y\n",
      "193  :  actual -  ('DESC',)  predict -  ('ENTY',)  grade:  N\n",
      "194  :  actual -  ('NUM',)  predict -  ('ENTY',)  grade:  N\n",
      "195  :  actual -  ('LOC',)  predict -  ('ENTY',)  grade:  N\n",
      "196  :  actual -  ('ENTY',)  predict -  ('ENTY',)  grade:  Y\n",
      "197  :  actual -  ('NUM',)  predict -  ('NUM',)  grade:  Y\n",
      "198  :  actual -  ('DESC',)  predict -  ('DESC',)  grade:  Y\n",
      "199  :  actual -  ('NUM',)  predict -  ('ENTY',)  grade:  N\n",
      "200  :  actual -  ('HUM',)  predict -  ('HUM',)  grade:  Y\n",
      "201  :  actual -  ('NUM',)  predict -  ('NUM',)  grade:  Y\n",
      "202  :  actual -  ('ENTY',)  predict -  ('ENTY',)  grade:  Y\n",
      "203  :  actual -  ('ENTY',)  predict -  ('ENTY',)  grade:  Y\n",
      "204  :  actual -  ('NUM',)  predict -  ('ENTY',)  grade:  N\n",
      "205  :  actual -  ('HUM',)  predict -  ('HUM',)  grade:  Y\n",
      "206  :  actual -  ('ENTY',)  predict -  ('DESC',)  grade:  N\n",
      "207  :  actual -  ('NUM',)  predict -  ('NUM',)  grade:  Y\n",
      "208  :  actual -  ('DESC',)  predict -  ('DESC',)  grade:  Y\n",
      "209  :  actual -  ('DESC',)  predict -  ('ENTY',)  grade:  N\n",
      "210  :  actual -  ('ENTY',)  predict -  ('DESC',)  grade:  N\n",
      "211  :  actual -  ('LOC',)  predict -  ('ENTY',)  grade:  N\n",
      "212  :  actual -  ('DESC',)  predict -  ('ENTY',)  grade:  N\n",
      "213  :  actual -  ('ENTY',)  predict -  ('ENTY',)  grade:  Y\n",
      "214  :  actual -  ('LOC',)  predict -  ('LOC',)  grade:  Y\n",
      "215  :  actual -  ('HUM',)  predict -  ('HUM',)  grade:  Y\n",
      "216  :  actual -  ('NUM',)  predict -  ('ENTY',)  grade:  N\n",
      "217  :  actual -  ('NUM',)  predict -  ('ENTY',)  grade:  N\n",
      "218  :  actual -  ('NUM',)  predict -  ('NUM',)  grade:  Y\n",
      "219  :  actual -  ('ENTY',)  predict -  ('ENTY',)  grade:  Y\n",
      "220  :  actual -  ('HUM',)  predict -  ('HUM',)  grade:  Y\n",
      "221  :  actual -  ('HUM',)  predict -  ('ENTY',)  grade:  N\n",
      "222  :  actual -  ('DESC',)  predict -  ('DESC',)  grade:  Y\n",
      "223  :  actual -  ('ENTY',)  predict -  ('ENTY',)  grade:  Y\n",
      "224  :  actual -  ('DESC',)  predict -  ('ENTY',)  grade:  N\n",
      "225  :  actual -  ('LOC',)  predict -  ('ENTY',)  grade:  N\n",
      "226  :  actual -  ('DESC',)  predict -  ('NUM',)  grade:  N\n",
      "227  :  actual -  ('HUM',)  predict -  ('ENTY',)  grade:  N\n",
      "228  :  actual -  ('DESC',)  predict -  ('DESC',)  grade:  Y\n",
      "229  :  actual -  ('DESC',)  predict -  ('ENTY',)  grade:  N\n",
      "230  :  actual -  ('LOC',)  predict -  ('LOC',)  grade:  Y\n",
      "231  :  actual -  ('LOC',)  predict -  ('LOC',)  grade:  Y\n",
      "232  :  actual -  ('DESC',)  predict -  ('DESC',)  grade:  Y\n",
      "233  :  actual -  ('LOC',)  predict -  ('ENTY',)  grade:  N\n",
      "234  :  actual -  ('DESC',)  predict -  ('DESC',)  grade:  Y\n",
      "235  :  actual -  ('HUM',)  predict -  ('ENTY',)  grade:  N\n",
      "236  :  actual -  ('ENTY',)  predict -  ('ENTY',)  grade:  Y\n",
      "237  :  actual -  ('LOC',)  predict -  ('ENTY',)  grade:  N\n",
      "238  :  actual -  ('ENTY',)  predict -  ('ENTY',)  grade:  Y\n",
      "239  :  actual -  ('DESC',)  predict -  ('ENTY',)  grade:  N\n",
      "240  :  actual -  ('ABBR',)  predict -  ('HUM',)  grade:  N\n",
      "241  :  actual -  ('DESC',)  predict -  ('DESC',)  grade:  Y\n",
      "242  :  actual -  ('ENTY',)  predict -  ('ENTY',)  grade:  Y\n",
      "243  :  actual -  ('DESC',)  predict -  ('DESC',)  grade:  Y\n",
      "244  :  actual -  ('HUM',)  predict -  ('ENTY',)  grade:  N\n",
      "245  :  actual -  ('DESC',)  predict -  ('DESC',)  grade:  Y\n",
      "246  :  actual -  ('DESC',)  predict -  ('ENTY',)  grade:  N\n",
      "247  :  actual -  ('HUM',)  predict -  ('HUM',)  grade:  Y\n",
      "248  :  actual -  ('DESC',)  predict -  ('DESC',)  grade:  Y\n",
      "249  :  actual -  ('ENTY',)  predict -  ('ENTY',)  grade:  Y\n",
      "250  :  actual -  ('HUM',)  predict -  ('ENTY',)  grade:  N\n",
      "251  :  actual -  ('ENTY',)  predict -  ('ENTY',)  grade:  Y\n",
      "252  :  actual -  ('HUM',)  predict -  ('HUM',)  grade:  Y\n",
      "253  :  actual -  ('HUM',)  predict -  ('HUM',)  grade:  Y\n",
      "254  :  actual -  ('HUM',)  predict -  ('HUM',)  grade:  Y\n",
      "255  :  actual -  ('ENTY',)  predict -  ('DESC',)  grade:  N\n",
      "256  :  actual -  ('LOC',)  predict -  ('LOC',)  grade:  Y\n",
      "257  :  actual -  ('ENTY',)  predict -  ('DESC',)  grade:  N\n",
      "258  :  actual -  ('NUM',)  predict -  ('NUM',)  grade:  Y\n",
      "259  :  actual -  ('NUM',)  predict -  ('ENTY',)  grade:  N\n",
      "260  :  actual -  ('HUM',)  predict -  ('HUM',)  grade:  Y\n",
      "261  :  actual -  ('ENTY',)  predict -  ('ENTY',)  grade:  Y\n",
      "262  :  actual -  ('DESC',)  predict -  ('NUM',)  grade:  N\n",
      "263  :  actual -  ('DESC',)  predict -  ('ENTY',)  grade:  N\n",
      "264  :  actual -  ('ENTY',)  predict -  ('ENTY',)  grade:  Y\n",
      "265  :  actual -  ('HUM',)  predict -  ('HUM',)  grade:  Y\n",
      "266  :  actual -  ('HUM',)  predict -  ('HUM',)  grade:  Y\n",
      "267  :  actual -  ('DESC',)  predict -  ('DESC',)  grade:  Y\n",
      "268  :  actual -  ('DESC',)  predict -  ('ENTY',)  grade:  N\n",
      "269  :  actual -  ('LOC',)  predict -  ('LOC',)  grade:  Y\n",
      "270  :  actual -  ('NUM',)  predict -  ('NUM',)  grade:  Y\n",
      "271  :  actual -  ('ENTY',)  predict -  ('ENTY',)  grade:  Y\n",
      "272  :  actual -  ('ENTY',)  predict -  ('ENTY',)  grade:  Y\n",
      "273  :  actual -  ('LOC',)  predict -  ('ENTY',)  grade:  N\n",
      "274  :  actual -  ('HUM',)  predict -  ('ENTY',)  grade:  N\n",
      "275  :  actual -  ('HUM',)  predict -  ('HUM',)  grade:  Y\n",
      "276  :  actual -  ('DESC',)  predict -  ('DESC',)  grade:  Y\n",
      "277  :  actual -  ('ENTY',)  predict -  ('ENTY',)  grade:  Y\n",
      "278  :  actual -  ('DESC',)  predict -  ('ENTY',)  grade:  N\n",
      "279  :  actual -  ('HUM',)  predict -  ('HUM',)  grade:  Y\n",
      "280  :  actual -  ('LOC',)  predict -  ('ENTY',)  grade:  N\n",
      "281  :  actual -  ('ENTY',)  predict -  ('ENTY',)  grade:  Y\n",
      "282  :  actual -  ('LOC',)  predict -  ('LOC',)  grade:  Y\n",
      "283  :  actual -  ('LOC',)  predict -  ('ENTY',)  grade:  N\n",
      "284  :  actual -  ('NUM',)  predict -  ('ENTY',)  grade:  N\n",
      "285  :  actual -  ('LOC',)  predict -  ('ENTY',)  grade:  N\n",
      "286  :  actual -  ('NUM',)  predict -  ('NUM',)  grade:  Y\n",
      "287  :  actual -  ('DESC',)  predict -  ('DESC',)  grade:  Y\n",
      "288  :  actual -  ('DESC',)  predict -  ('ENTY',)  grade:  N\n",
      "289  :  actual -  ('DESC',)  predict -  ('DESC',)  grade:  Y\n",
      "290  :  actual -  ('HUM',)  predict -  ('HUM',)  grade:  Y\n",
      "291  :  actual -  ('NUM',)  predict -  ('ENTY',)  grade:  N\n"
     ]
    },
    {
     "name": "stdout",
     "output_type": "stream",
     "text": [
      "292  :  actual -  ('DESC',)  predict -  ('NUM',)  grade:  N\n",
      "293  :  actual -  ('LOC',)  predict -  ('LOC',)  grade:  Y\n",
      "294  :  actual -  ('LOC',)  predict -  ('ENTY',)  grade:  N\n",
      "295  :  actual -  ('HUM',)  predict -  ('HUM',)  grade:  Y\n",
      "296  :  actual -  ('LOC',)  predict -  ('ENTY',)  grade:  N\n",
      "297  :  actual -  ('ENTY',)  predict -  ('ENTY',)  grade:  Y\n",
      "298  :  actual -  ('LOC',)  predict -  ('ENTY',)  grade:  N\n",
      "299  :  actual -  ('NUM',)  predict -  ('ENTY',)  grade:  N\n",
      "300  :  actual -  ('DESC',)  predict -  ('NUM',)  grade:  N\n",
      "301  :  actual -  ('DESC',)  predict -  ('NUM',)  grade:  N\n",
      "302  :  actual -  ('DESC',)  predict -  ('DESC',)  grade:  Y\n",
      "303  :  actual -  ('LOC',)  predict -  ('ENTY',)  grade:  N\n",
      "304  :  actual -  ('DESC',)  predict -  ('DESC',)  grade:  Y\n",
      "305  :  actual -  ('DESC',)  predict -  ('ENTY',)  grade:  N\n",
      "306  :  actual -  ('DESC',)  predict -  ('NUM',)  grade:  N\n",
      "307  :  actual -  ('LOC',)  predict -  ('ENTY',)  grade:  N\n",
      "308  :  actual -  ('HUM',)  predict -  ('ENTY',)  grade:  N\n",
      "309  :  actual -  ('NUM',)  predict -  ('NUM',)  grade:  Y\n",
      "310  :  actual -  ('ENTY',)  predict -  ('ENTY',)  grade:  Y\n",
      "311  :  actual -  ('DESC',)  predict -  ('ENTY',)  grade:  N\n",
      "312  :  actual -  ('DESC',)  predict -  ('ENTY',)  grade:  N\n",
      "313  :  actual -  ('DESC',)  predict -  ('DESC',)  grade:  Y\n",
      "314  :  actual -  ('LOC',)  predict -  ('ENTY',)  grade:  N\n",
      "315  :  actual -  ('NUM',)  predict -  ('NUM',)  grade:  Y\n",
      "316  :  actual -  ('NUM',)  predict -  ('NUM',)  grade:  Y\n",
      "317  :  actual -  ('NUM',)  predict -  ('HUM',)  grade:  N\n",
      "318  :  actual -  ('DESC',)  predict -  ('ENTY',)  grade:  N\n",
      "319  :  actual -  ('NUM',)  predict -  ('NUM',)  grade:  Y\n",
      "320  :  actual -  ('ENTY',)  predict -  ('ENTY',)  grade:  Y\n",
      "321  :  actual -  ('HUM',)  predict -  ('HUM',)  grade:  Y\n",
      "322  :  actual -  ('ENTY',)  predict -  ('ENTY',)  grade:  Y\n",
      "323  :  actual -  ('ENTY',)  predict -  ('ENTY',)  grade:  Y\n",
      "324  :  actual -  ('ENTY',)  predict -  ('ENTY',)  grade:  Y\n",
      "325  :  actual -  ('HUM',)  predict -  ('HUM',)  grade:  Y\n",
      "326  :  actual -  ('ENTY',)  predict -  ('ENTY',)  grade:  Y\n",
      "327  :  actual -  ('ENTY',)  predict -  ('ENTY',)  grade:  Y\n",
      "328  :  actual -  ('LOC',)  predict -  ('ENTY',)  grade:  N\n",
      "329  :  actual -  ('ENTY',)  predict -  ('ENTY',)  grade:  Y\n",
      "330  :  actual -  ('DESC',)  predict -  ('DESC',)  grade:  Y\n",
      "331  :  actual -  ('HUM',)  predict -  ('ENTY',)  grade:  N\n",
      "332  :  actual -  ('DESC',)  predict -  ('ENTY',)  grade:  N\n",
      "333  :  actual -  ('DESC',)  predict -  ('ENTY',)  grade:  N\n",
      "334  :  actual -  ('ENTY',)  predict -  ('ENTY',)  grade:  Y\n",
      "335  :  actual -  ('HUM',)  predict -  ('HUM',)  grade:  Y\n",
      "336  :  actual -  ('LOC',)  predict -  ('ENTY',)  grade:  N\n",
      "337  :  actual -  ('NUM',)  predict -  ('NUM',)  grade:  Y\n",
      "338  :  actual -  ('DESC',)  predict -  ('ENTY',)  grade:  N\n",
      "339  :  actual -  ('DESC',)  predict -  ('ENTY',)  grade:  N\n",
      "340  :  actual -  ('ENTY',)  predict -  ('HUM',)  grade:  N\n",
      "341  :  actual -  ('ENTY',)  predict -  ('ENTY',)  grade:  Y\n",
      "342  :  actual -  ('DESC',)  predict -  ('DESC',)  grade:  Y\n",
      "343  :  actual -  ('ENTY',)  predict -  ('ENTY',)  grade:  Y\n",
      "344  :  actual -  ('DESC',)  predict -  ('DESC',)  grade:  Y\n",
      "345  :  actual -  ('HUM',)  predict -  ('HUM',)  grade:  Y\n",
      "346  :  actual -  ('DESC',)  predict -  ('DESC',)  grade:  Y\n",
      "347  :  actual -  ('ENTY',)  predict -  ('HUM',)  grade:  N\n",
      "348  :  actual -  ('ENTY',)  predict -  ('ENTY',)  grade:  Y\n",
      "349  :  actual -  ('HUM',)  predict -  ('ENTY',)  grade:  N\n",
      "350  :  actual -  ('LOC',)  predict -  ('DESC',)  grade:  N\n",
      "351  :  actual -  ('DESC',)  predict -  ('DESC',)  grade:  Y\n",
      "352  :  actual -  ('NUM',)  predict -  ('HUM',)  grade:  N\n",
      "353  :  actual -  ('NUM',)  predict -  ('NUM',)  grade:  Y\n",
      "354  :  actual -  ('DESC',)  predict -  ('DESC',)  grade:  Y\n",
      "355  :  actual -  ('DESC',)  predict -  ('NUM',)  grade:  N\n",
      "356  :  actual -  ('DESC',)  predict -  ('DESC',)  grade:  Y\n",
      "357  :  actual -  ('ENTY',)  predict -  ('DESC',)  grade:  N\n",
      "358  :  actual -  ('ENTY',)  predict -  ('ENTY',)  grade:  Y\n",
      "359  :  actual -  ('DESC',)  predict -  ('ENTY',)  grade:  N\n",
      "360  :  actual -  ('DESC',)  predict -  ('DESC',)  grade:  Y\n",
      "361  :  actual -  ('DESC',)  predict -  ('DESC',)  grade:  Y\n",
      "362  :  actual -  ('DESC',)  predict -  ('DESC',)  grade:  Y\n",
      "363  :  actual -  ('LOC',)  predict -  ('ENTY',)  grade:  N\n",
      "364  :  actual -  ('ENTY',)  predict -  ('ENTY',)  grade:  Y\n",
      "365  :  actual -  ('HUM',)  predict -  ('HUM',)  grade:  Y\n",
      "366  :  actual -  ('LOC',)  predict -  ('ENTY',)  grade:  N\n",
      "367  :  actual -  ('LOC',)  predict -  ('LOC',)  grade:  Y\n",
      "368  :  actual -  ('ENTY',)  predict -  ('ENTY',)  grade:  Y\n",
      "369  :  actual -  ('LOC',)  predict -  ('LOC',)  grade:  Y\n",
      "370  :  actual -  ('DESC',)  predict -  ('NUM',)  grade:  N\n",
      "371  :  actual -  ('DESC',)  predict -  ('DESC',)  grade:  Y\n",
      "372  :  actual -  ('HUM',)  predict -  ('HUM',)  grade:  Y\n",
      "373  :  actual -  ('DESC',)  predict -  ('DESC',)  grade:  Y\n",
      "374  :  actual -  ('HUM',)  predict -  ('ENTY',)  grade:  N\n",
      "375  :  actual -  ('HUM',)  predict -  ('ENTY',)  grade:  N\n",
      "376  :  actual -  ('ENTY',)  predict -  ('DESC',)  grade:  N\n",
      "377  :  actual -  ('ENTY',)  predict -  ('ENTY',)  grade:  Y\n",
      "378  :  actual -  ('NUM',)  predict -  ('NUM',)  grade:  Y\n",
      "379  :  actual -  ('DESC',)  predict -  ('NUM',)  grade:  N\n",
      "380  :  actual -  ('NUM',)  predict -  ('NUM',)  grade:  Y\n",
      "381  :  actual -  ('HUM',)  predict -  ('ENTY',)  grade:  N\n",
      "382  :  actual -  ('DESC',)  predict -  ('NUM',)  grade:  N\n",
      "383  :  actual -  ('DESC',)  predict -  ('ENTY',)  grade:  N\n",
      "384  :  actual -  ('DESC',)  predict -  ('HUM',)  grade:  N\n",
      "385  :  actual -  ('HUM',)  predict -  ('ENTY',)  grade:  N\n",
      "386  :  actual -  ('LOC',)  predict -  ('DESC',)  grade:  N\n",
      "387  :  actual -  ('ENTY',)  predict -  ('ENTY',)  grade:  Y\n",
      "388  :  actual -  ('NUM',)  predict -  ('DESC',)  grade:  N\n",
      "389  :  actual -  ('LOC',)  predict -  ('ENTY',)  grade:  N\n",
      "390  :  actual -  ('HUM',)  predict -  ('ENTY',)  grade:  N\n",
      "391  :  actual -  ('NUM',)  predict -  ('NUM',)  grade:  Y\n",
      "392  :  actual -  ('DESC',)  predict -  ('ENTY',)  grade:  N\n",
      "393  :  actual -  ('ENTY',)  predict -  ('DESC',)  grade:  N\n",
      "394  :  actual -  ('ENTY',)  predict -  ('ENTY',)  grade:  Y\n",
      "395  :  actual -  ('HUM',)  predict -  ('ENTY',)  grade:  N\n",
      "396  :  actual -  ('ABBR',)  predict -  ('DESC',)  grade:  N\n",
      "397  :  actual -  ('ENTY',)  predict -  ('ENTY',)  grade:  Y\n",
      "398  :  actual -  ('DESC',)  predict -  ('NUM',)  grade:  N\n",
      "399  :  actual -  ('NUM',)  predict -  ('NUM',)  grade:  Y\n",
      "400  :  actual -  ('LOC',)  predict -  ('ENTY',)  grade:  N\n",
      "401  :  actual -  ('ENTY',)  predict -  ('ENTY',)  grade:  Y\n",
      "402  :  actual -  ('NUM',)  predict -  ('ENTY',)  grade:  N\n",
      "403  :  actual -  ('ENTY',)  predict -  ('ENTY',)  grade:  Y\n",
      "404  :  actual -  ('NUM',)  predict -  ('NUM',)  grade:  Y\n",
      "405  :  actual -  ('HUM',)  predict -  ('HUM',)  grade:  Y\n",
      "406  :  actual -  ('ENTY',)  predict -  ('ENTY',)  grade:  Y\n",
      "407  :  actual -  ('ENTY',)  predict -  ('ENTY',)  grade:  Y\n",
      "408  :  actual -  ('DESC',)  predict -  ('DESC',)  grade:  Y\n",
      "409  :  actual -  ('DESC',)  predict -  ('ENTY',)  grade:  N\n",
      "410  :  actual -  ('HUM',)  predict -  ('HUM',)  grade:  Y\n",
      "411  :  actual -  ('ENTY',)  predict -  ('ENTY',)  grade:  Y\n",
      "412  :  actual -  ('ENTY',)  predict -  ('DESC',)  grade:  N\n",
      "413  :  actual -  ('ENTY',)  predict -  ('ENTY',)  grade:  Y\n",
      "414  :  actual -  ('NUM',)  predict -  ('ENTY',)  grade:  N\n",
      "415  :  actual -  ('DESC',)  predict -  ('ENTY',)  grade:  N\n",
      "416  :  actual -  ('ENTY',)  predict -  ('ENTY',)  grade:  Y\n",
      "417  :  actual -  ('HUM',)  predict -  ('HUM',)  grade:  Y\n",
      "418  :  actual -  ('DESC',)  predict -  ('HUM',)  grade:  N\n",
      "419  :  actual -  ('LOC',)  predict -  ('ENTY',)  grade:  N\n",
      "420  :  actual -  ('HUM',)  predict -  ('ENTY',)  grade:  N\n",
      "421  :  actual -  ('DESC',)  predict -  ('ENTY',)  grade:  N\n",
      "422  :  actual -  ('DESC',)  predict -  ('DESC',)  grade:  Y\n",
      "423  :  actual -  ('ENTY',)  predict -  ('ENTY',)  grade:  Y\n",
      "424  :  actual -  ('LOC',)  predict -  ('ENTY',)  grade:  N\n",
      "425  :  actual -  ('ENTY',)  predict -  ('ENTY',)  grade:  Y\n",
      "426  :  actual -  ('ENTY',)  predict -  ('ENTY',)  grade:  Y\n",
      "427  :  actual -  ('HUM',)  predict -  ('HUM',)  grade:  Y\n",
      "428  :  actual -  ('LOC',)  predict -  ('ENTY',)  grade:  N\n",
      "429  :  actual -  ('DESC',)  predict -  ('DESC',)  grade:  Y\n",
      "430  :  actual -  ('ENTY',)  predict -  ('DESC',)  grade:  N\n"
     ]
    },
    {
     "name": "stdout",
     "output_type": "stream",
     "text": [
      "431  :  actual -  ('ENTY',)  predict -  ('ENTY',)  grade:  Y\n",
      "432  :  actual -  ('HUM',)  predict -  ('HUM',)  grade:  Y\n",
      "433  :  actual -  ('DESC',)  predict -  ('DESC',)  grade:  Y\n",
      "434  :  actual -  ('ENTY',)  predict -  ('ENTY',)  grade:  Y\n",
      "435  :  actual -  ('NUM',)  predict -  ('ENTY',)  grade:  N\n",
      "436  :  actual -  ('HUM',)  predict -  ('ENTY',)  grade:  N\n",
      "437  :  actual -  ('LOC',)  predict -  ('LOC',)  grade:  Y\n",
      "438  :  actual -  ('ENTY',)  predict -  ('ENTY',)  grade:  Y\n",
      "439  :  actual -  ('ENTY',)  predict -  ('ENTY',)  grade:  Y\n",
      "440  :  actual -  ('HUM',)  predict -  ('HUM',)  grade:  Y\n",
      "441  :  actual -  ('DESC',)  predict -  ('ENTY',)  grade:  N\n",
      "442  :  actual -  ('NUM',)  predict -  ('NUM',)  grade:  Y\n",
      "443  :  actual -  ('DESC',)  predict -  ('NUM',)  grade:  N\n",
      "444  :  actual -  ('ENTY',)  predict -  ('ENTY',)  grade:  Y\n",
      "445  :  actual -  ('HUM',)  predict -  ('ENTY',)  grade:  N\n",
      "446  :  actual -  ('DESC',)  predict -  ('ENTY',)  grade:  N\n",
      "447  :  actual -  ('NUM',)  predict -  ('NUM',)  grade:  Y\n",
      "448  :  actual -  ('ENTY',)  predict -  ('DESC',)  grade:  N\n",
      "449  :  actual -  ('LOC',)  predict -  ('ENTY',)  grade:  N\n",
      "450  :  actual -  ('DESC',)  predict -  ('ENTY',)  grade:  N\n",
      "451  :  actual -  ('ENTY',)  predict -  ('ENTY',)  grade:  Y\n",
      "452  :  actual -  ('LOC',)  predict -  ('ENTY',)  grade:  N\n",
      "453  :  actual -  ('NUM',)  predict -  ('NUM',)  grade:  Y\n",
      "454  :  actual -  ('HUM',)  predict -  ('ENTY',)  grade:  N\n",
      "455  :  actual -  ('DESC',)  predict -  ('NUM',)  grade:  N\n",
      "456  :  actual -  ('LOC',)  predict -  ('ENTY',)  grade:  N\n",
      "457  :  actual -  ('HUM',)  predict -  ('HUM',)  grade:  Y\n",
      "458  :  actual -  ('HUM',)  predict -  ('HUM',)  grade:  Y\n",
      "459  :  actual -  ('HUM',)  predict -  ('HUM',)  grade:  Y\n",
      "460  :  actual -  ('HUM',)  predict -  ('HUM',)  grade:  Y\n",
      "461  :  actual -  ('DESC',)  predict -  ('NUM',)  grade:  N\n",
      "462  :  actual -  ('HUM',)  predict -  ('DESC',)  grade:  N\n",
      "463  :  actual -  ('LOC',)  predict -  ('ENTY',)  grade:  N\n",
      "464  :  actual -  ('LOC',)  predict -  ('ENTY',)  grade:  N\n",
      "465  :  actual -  ('NUM',)  predict -  ('HUM',)  grade:  N\n",
      "466  :  actual -  ('NUM',)  predict -  ('NUM',)  grade:  Y\n",
      "467  :  actual -  ('DESC',)  predict -  ('DESC',)  grade:  Y\n",
      "468  :  actual -  ('LOC',)  predict -  ('ENTY',)  grade:  N\n",
      "469  :  actual -  ('HUM',)  predict -  ('HUM',)  grade:  Y\n",
      "470  :  actual -  ('NUM',)  predict -  ('NUM',)  grade:  Y\n",
      "471  :  actual -  ('LOC',)  predict -  ('ENTY',)  grade:  N\n",
      "472  :  actual -  ('HUM',)  predict -  ('HUM',)  grade:  Y\n",
      "473  :  actual -  ('DESC',)  predict -  ('ENTY',)  grade:  N\n",
      "474  :  actual -  ('ENTY',)  predict -  ('HUM',)  grade:  N\n",
      "475  :  actual -  ('DESC',)  predict -  ('ENTY',)  grade:  N\n",
      "476  :  actual -  ('DESC',)  predict -  ('DESC',)  grade:  Y\n",
      "477  :  actual -  ('HUM',)  predict -  ('ENTY',)  grade:  N\n",
      "478  :  actual -  ('HUM',)  predict -  ('DESC',)  grade:  N\n",
      "479  :  actual -  ('LOC',)  predict -  ('LOC',)  grade:  Y\n",
      "480  :  actual -  ('HUM',)  predict -  ('HUM',)  grade:  Y\n",
      "481  :  actual -  ('NUM',)  predict -  ('NUM',)  grade:  Y\n",
      "482  :  actual -  ('HUM',)  predict -  ('ENTY',)  grade:  N\n",
      "483  :  actual -  ('DESC',)  predict -  ('DESC',)  grade:  Y\n",
      "484  :  actual -  ('NUM',)  predict -  ('NUM',)  grade:  Y\n",
      "485  :  actual -  ('ENTY',)  predict -  ('ENTY',)  grade:  Y\n",
      "486  :  actual -  ('ENTY',)  predict -  ('ENTY',)  grade:  Y\n",
      "487  :  actual -  ('LOC',)  predict -  ('ENTY',)  grade:  N\n",
      "488  :  actual -  ('HUM',)  predict -  ('ENTY',)  grade:  N\n",
      "489  :  actual -  ('HUM',)  predict -  ('ENTY',)  grade:  N\n",
      "490  :  actual -  ('ENTY',)  predict -  ('ENTY',)  grade:  Y\n",
      "491  :  actual -  ('HUM',)  predict -  ('HUM',)  grade:  Y\n",
      "492  :  actual -  ('HUM',)  predict -  ('ENTY',)  grade:  N\n",
      "493  :  actual -  ('DESC',)  predict -  ('DESC',)  grade:  Y\n",
      "494  :  actual -  ('LOC',)  predict -  ('LOC',)  grade:  Y\n",
      "495  :  actual -  ('LOC',)  predict -  ('ENTY',)  grade:  N\n",
      "496  :  actual -  ('DESC',)  predict -  ('DESC',)  grade:  Y\n",
      "497  :  actual -  ('DESC',)  predict -  ('DESC',)  grade:  Y\n",
      "498  :  actual -  ('NUM',)  predict -  ('NUM',)  grade:  Y\n",
      "499  :  actual -  ('LOC',)  predict -  ('ENTY',)  grade:  N\n",
      "500  :  actual -  ('ENTY',)  predict -  ('ENTY',)  grade:  Y\n",
      "501  :  actual -  ('DESC',)  predict -  ('DESC',)  grade:  Y\n",
      "502  :  actual -  ('NUM',)  predict -  ('DESC',)  grade:  N\n",
      "503  :  actual -  ('HUM',)  predict -  ('ENTY',)  grade:  N\n",
      "504  :  actual -  ('HUM',)  predict -  ('ENTY',)  grade:  N\n",
      "505  :  actual -  ('LOC',)  predict -  ('ENTY',)  grade:  N\n",
      "506  :  actual -  ('HUM',)  predict -  ('HUM',)  grade:  Y\n",
      "507  :  actual -  ('HUM',)  predict -  ('ENTY',)  grade:  N\n",
      "508  :  actual -  ('NUM',)  predict -  ('ENTY',)  grade:  N\n",
      "509  :  actual -  ('NUM',)  predict -  ('NUM',)  grade:  Y\n",
      "510  :  actual -  ('ENTY',)  predict -  ('ENTY',)  grade:  Y\n",
      "511  :  actual -  ('LOC',)  predict -  ('ENTY',)  grade:  N\n",
      "512  :  actual -  ('LOC',)  predict -  ('ENTY',)  grade:  N\n",
      "513  :  actual -  ('DESC',)  predict -  ('ENTY',)  grade:  N\n",
      "514  :  actual -  ('DESC',)  predict -  ('DESC',)  grade:  Y\n",
      "515  :  actual -  ('HUM',)  predict -  ('HUM',)  grade:  Y\n",
      "516  :  actual -  ('NUM',)  predict -  ('NUM',)  grade:  Y\n",
      "517  :  actual -  ('ENTY',)  predict -  ('ENTY',)  grade:  Y\n",
      "518  :  actual -  ('DESC',)  predict -  ('DESC',)  grade:  Y\n",
      "519  :  actual -  ('LOC',)  predict -  ('ENTY',)  grade:  N\n",
      "520  :  actual -  ('DESC',)  predict -  ('NUM',)  grade:  N\n",
      "521  :  actual -  ('ENTY',)  predict -  ('ENTY',)  grade:  Y\n",
      "522  :  actual -  ('LOC',)  predict -  ('ENTY',)  grade:  N\n",
      "523  :  actual -  ('LOC',)  predict -  ('LOC',)  grade:  Y\n",
      "524  :  actual -  ('DESC',)  predict -  ('ENTY',)  grade:  N\n",
      "525  :  actual -  ('LOC',)  predict -  ('ENTY',)  grade:  N\n",
      "526  :  actual -  ('LOC',)  predict -  ('LOC',)  grade:  Y\n",
      "527  :  actual -  ('ENTY',)  predict -  ('HUM',)  grade:  N\n",
      "528  :  actual -  ('LOC',)  predict -  ('LOC',)  grade:  Y\n",
      "529  :  actual -  ('ENTY',)  predict -  ('DESC',)  grade:  N\n",
      "530  :  actual -  ('NUM',)  predict -  ('ENTY',)  grade:  N\n",
      "531  :  actual -  ('ENTY',)  predict -  ('ENTY',)  grade:  Y\n",
      "532  :  actual -  ('HUM',)  predict -  ('HUM',)  grade:  Y\n",
      "533  :  actual -  ('ENTY',)  predict -  ('ENTY',)  grade:  Y\n",
      "534  :  actual -  ('NUM',)  predict -  ('NUM',)  grade:  Y\n",
      "535  :  actual -  ('LOC',)  predict -  ('DESC',)  grade:  N\n",
      "536  :  actual -  ('DESC',)  predict -  ('ENTY',)  grade:  N\n",
      "537  :  actual -  ('NUM',)  predict -  ('LOC',)  grade:  N\n",
      "538  :  actual -  ('DESC',)  predict -  ('ENTY',)  grade:  N\n",
      "539  :  actual -  ('ENTY',)  predict -  ('ENTY',)  grade:  Y\n",
      "540  :  actual -  ('NUM',)  predict -  ('NUM',)  grade:  Y\n",
      "541  :  actual -  ('HUM',)  predict -  ('HUM',)  grade:  Y\n",
      "542  :  actual -  ('LOC',)  predict -  ('ENTY',)  grade:  N\n",
      "543  :  actual -  ('LOC',)  predict -  ('LOC',)  grade:  Y\n",
      "544  :  actual -  ('LOC',)  predict -  ('ENTY',)  grade:  N\n",
      "545  :  actual -  ('NUM',)  predict -  ('NUM',)  grade:  Y\n",
      "546  :  actual -  ('ENTY',)  predict -  ('ENTY',)  grade:  Y\n",
      "547  :  actual -  ('LOC',)  predict -  ('HUM',)  grade:  N\n",
      "548  :  actual -  ('NUM',)  predict -  ('NUM',)  grade:  Y\n",
      "549  :  actual -  ('DESC',)  predict -  ('NUM',)  grade:  N\n",
      "550  :  actual -  ('DESC',)  predict -  ('DESC',)  grade:  Y\n",
      "551  :  actual -  ('DESC',)  predict -  ('DESC',)  grade:  Y\n",
      "552  :  actual -  ('NUM',)  predict -  ('NUM',)  grade:  Y\n",
      "553  :  actual -  ('NUM',)  predict -  ('NUM',)  grade:  Y\n",
      "554  :  actual -  ('HUM',)  predict -  ('HUM',)  grade:  Y\n",
      "555  :  actual -  ('HUM',)  predict -  ('DESC',)  grade:  N\n",
      "556  :  actual -  ('HUM',)  predict -  ('HUM',)  grade:  Y\n",
      "557  :  actual -  ('DESC',)  predict -  ('DESC',)  grade:  Y\n",
      "558  :  actual -  ('LOC',)  predict -  ('LOC',)  grade:  Y\n",
      "559  :  actual -  ('ENTY',)  predict -  ('ENTY',)  grade:  Y\n",
      "560  :  actual -  ('HUM',)  predict -  ('ENTY',)  grade:  N\n",
      "561  :  actual -  ('ENTY',)  predict -  ('ENTY',)  grade:  Y\n",
      "562  :  actual -  ('ENTY',)  predict -  ('DESC',)  grade:  N\n",
      "563  :  actual -  ('DESC',)  predict -  ('DESC',)  grade:  Y\n",
      "564  :  actual -  ('ENTY',)  predict -  ('ENTY',)  grade:  Y\n",
      "565  :  actual -  ('LOC',)  predict -  ('ENTY',)  grade:  N\n",
      "566  :  actual -  ('HUM',)  predict -  ('ENTY',)  grade:  N\n",
      "567  :  actual -  ('DESC',)  predict -  ('NUM',)  grade:  N\n",
      "568  :  actual -  ('ENTY',)  predict -  ('DESC',)  grade:  N\n",
      "569  :  actual -  ('ENTY',)  predict -  ('ENTY',)  grade:  Y\n",
      "570  :  actual -  ('ENTY',)  predict -  ('ENTY',)  grade:  Y\n",
      "571  :  actual -  ('NUM',)  predict -  ('NUM',)  grade:  Y\n",
      "572  :  actual -  ('NUM',)  predict -  ('ENTY',)  grade:  N\n",
      "573  :  actual -  ('DESC',)  predict -  ('ENTY',)  grade:  N\n",
      "574  :  actual -  ('ENTY',)  predict -  ('ENTY',)  grade:  Y\n",
      "575  :  actual -  ('LOC',)  predict -  ('ENTY',)  grade:  N\n",
      "576  :  actual -  ('DESC',)  predict -  ('DESC',)  grade:  Y\n",
      "577  :  actual -  ('HUM',)  predict -  ('HUM',)  grade:  Y\n",
      "578  :  actual -  ('LOC',)  predict -  ('ENTY',)  grade:  N\n"
     ]
    },
    {
     "name": "stdout",
     "output_type": "stream",
     "text": [
      "579  :  actual -  ('DESC',)  predict -  ('NUM',)  grade:  N\n",
      "580  :  actual -  ('DESC',)  predict -  ('NUM',)  grade:  N\n",
      "581  :  actual -  ('HUM',)  predict -  ('HUM',)  grade:  Y\n",
      "582  :  actual -  ('HUM',)  predict -  ('HUM',)  grade:  Y\n",
      "583  :  actual -  ('LOC',)  predict -  ('LOC',)  grade:  Y\n",
      "584  :  actual -  ('LOC',)  predict -  ('ENTY',)  grade:  N\n",
      "585  :  actual -  ('NUM',)  predict -  ('ENTY',)  grade:  N\n",
      "586  :  actual -  ('LOC',)  predict -  ('ENTY',)  grade:  N\n",
      "587  :  actual -  ('ENTY',)  predict -  ('ENTY',)  grade:  Y\n",
      "588  :  actual -  ('DESC',)  predict -  ('NUM',)  grade:  N\n",
      "589  :  actual -  ('LOC',)  predict -  ('LOC',)  grade:  Y\n",
      "590  :  actual -  ('DESC',)  predict -  ('ENTY',)  grade:  N\n",
      "591  :  actual -  ('LOC',)  predict -  ('DESC',)  grade:  N\n",
      "592  :  actual -  ('HUM',)  predict -  ('HUM',)  grade:  Y\n",
      "593  :  actual -  ('LOC',)  predict -  ('ENTY',)  grade:  N\n",
      "594  :  actual -  ('HUM',)  predict -  ('HUM',)  grade:  Y\n",
      "595  :  actual -  ('NUM',)  predict -  ('NUM',)  grade:  Y\n",
      "596  :  actual -  ('ENTY',)  predict -  ('ENTY',)  grade:  Y\n",
      "597  :  actual -  ('NUM',)  predict -  ('NUM',)  grade:  Y\n",
      "598  :  actual -  ('ABBR',)  predict -  ('ENTY',)  grade:  N\n",
      "599  :  actual -  ('DESC',)  predict -  ('DESC',)  grade:  Y\n",
      "600  :  actual -  ('DESC',)  predict -  ('DESC',)  grade:  Y\n",
      "601  :  actual -  ('ENTY',)  predict -  ('HUM',)  grade:  N\n",
      "602  :  actual -  ('NUM',)  predict -  ('NUM',)  grade:  Y\n",
      "603  :  actual -  ('ENTY',)  predict -  ('ENTY',)  grade:  Y\n",
      "604  :  actual -  ('NUM',)  predict -  ('NUM',)  grade:  Y\n",
      "605  :  actual -  ('DESC',)  predict -  ('DESC',)  grade:  Y\n",
      "606  :  actual -  ('NUM',)  predict -  ('NUM',)  grade:  Y\n",
      "607  :  actual -  ('NUM',)  predict -  ('NUM',)  grade:  Y\n",
      "608  :  actual -  ('DESC',)  predict -  ('ENTY',)  grade:  N\n",
      "609  :  actual -  ('DESC',)  predict -  ('ENTY',)  grade:  N\n",
      "610  :  actual -  ('LOC',)  predict -  ('LOC',)  grade:  Y\n",
      "611  :  actual -  ('DESC',)  predict -  ('NUM',)  grade:  N\n",
      "612  :  actual -  ('ENTY',)  predict -  ('ENTY',)  grade:  Y\n",
      "613  :  actual -  ('HUM',)  predict -  ('HUM',)  grade:  Y\n",
      "614  :  actual -  ('HUM',)  predict -  ('ENTY',)  grade:  N\n",
      "615  :  actual -  ('DESC',)  predict -  ('DESC',)  grade:  Y\n",
      "616  :  actual -  ('HUM',)  predict -  ('ENTY',)  grade:  N\n",
      "617  :  actual -  ('HUM',)  predict -  ('ENTY',)  grade:  N\n",
      "618  :  actual -  ('ENTY',)  predict -  ('ENTY',)  grade:  Y\n",
      "619  :  actual -  ('LOC',)  predict -  ('LOC',)  grade:  Y\n",
      "620  :  actual -  ('HUM',)  predict -  ('HUM',)  grade:  Y\n",
      "621  :  actual -  ('ENTY',)  predict -  ('ENTY',)  grade:  Y\n",
      "622  :  actual -  ('LOC',)  predict -  ('ENTY',)  grade:  N\n",
      "623  :  actual -  ('HUM',)  predict -  ('ENTY',)  grade:  N\n",
      "624  :  actual -  ('ENTY',)  predict -  ('ENTY',)  grade:  Y\n",
      "625  :  actual -  ('HUM',)  predict -  ('HUM',)  grade:  Y\n",
      "626  :  actual -  ('ENTY',)  predict -  ('ENTY',)  grade:  Y\n",
      "627  :  actual -  ('ENTY',)  predict -  ('DESC',)  grade:  N\n",
      "628  :  actual -  ('NUM',)  predict -  ('NUM',)  grade:  Y\n",
      "629  :  actual -  ('LOC',)  predict -  ('ENTY',)  grade:  N\n",
      "630  :  actual -  ('LOC',)  predict -  ('ENTY',)  grade:  N\n",
      "631  :  actual -  ('ENTY',)  predict -  ('ENTY',)  grade:  Y\n",
      "632  :  actual -  ('DESC',)  predict -  ('DESC',)  grade:  Y\n",
      "633  :  actual -  ('LOC',)  predict -  ('DESC',)  grade:  N\n",
      "634  :  actual -  ('NUM',)  predict -  ('NUM',)  grade:  Y\n",
      "635  :  actual -  ('HUM',)  predict -  ('HUM',)  grade:  Y\n",
      "636  :  actual -  ('ENTY',)  predict -  ('ENTY',)  grade:  Y\n",
      "637  :  actual -  ('HUM',)  predict -  ('HUM',)  grade:  Y\n",
      "638  :  actual -  ('ENTY',)  predict -  ('ENTY',)  grade:  Y\n",
      "639  :  actual -  ('NUM',)  predict -  ('ENTY',)  grade:  N\n",
      "640  :  actual -  ('HUM',)  predict -  ('ENTY',)  grade:  N\n",
      "641  :  actual -  ('ENTY',)  predict -  ('ENTY',)  grade:  Y\n",
      "642  :  actual -  ('DESC',)  predict -  ('ENTY',)  grade:  N\n",
      "643  :  actual -  ('ENTY',)  predict -  ('ENTY',)  grade:  Y\n",
      "644  :  actual -  ('ENTY',)  predict -  ('ENTY',)  grade:  Y\n",
      "645  :  actual -  ('ENTY',)  predict -  ('ENTY',)  grade:  Y\n",
      "646  :  actual -  ('LOC',)  predict -  ('ENTY',)  grade:  N\n",
      "647  :  actual -  ('LOC',)  predict -  ('ENTY',)  grade:  N\n",
      "648  :  actual -  ('LOC',)  predict -  ('ENTY',)  grade:  N\n",
      "649  :  actual -  ('ENTY',)  predict -  ('ENTY',)  grade:  Y\n",
      "650  :  actual -  ('ENTY',)  predict -  ('HUM',)  grade:  N\n",
      "651  :  actual -  ('NUM',)  predict -  ('NUM',)  grade:  Y\n",
      "652  :  actual -  ('LOC',)  predict -  ('ENTY',)  grade:  N\n",
      "653  :  actual -  ('HUM',)  predict -  ('HUM',)  grade:  Y\n",
      "654  :  actual -  ('ENTY',)  predict -  ('ENTY',)  grade:  Y\n",
      "655  :  actual -  ('DESC',)  predict -  ('DESC',)  grade:  Y\n",
      "656  :  actual -  ('NUM',)  predict -  ('NUM',)  grade:  Y\n",
      "657  :  actual -  ('DESC',)  predict -  ('ENTY',)  grade:  N\n",
      "658  :  actual -  ('DESC',)  predict -  ('NUM',)  grade:  N\n",
      "659  :  actual -  ('LOC',)  predict -  ('ENTY',)  grade:  N\n",
      "660  :  actual -  ('NUM',)  predict -  ('NUM',)  grade:  Y\n",
      "661  :  actual -  ('DESC',)  predict -  ('NUM',)  grade:  N\n",
      "662  :  actual -  ('NUM',)  predict -  ('NUM',)  grade:  Y\n",
      "663  :  actual -  ('ENTY',)  predict -  ('ENTY',)  grade:  Y\n",
      "664  :  actual -  ('DESC',)  predict -  ('ENTY',)  grade:  N\n",
      "665  :  actual -  ('DESC',)  predict -  ('ENTY',)  grade:  N\n",
      "666  :  actual -  ('NUM',)  predict -  ('ENTY',)  grade:  N\n",
      "667  :  actual -  ('HUM',)  predict -  ('ENTY',)  grade:  N\n",
      "668  :  actual -  ('NUM',)  predict -  ('ENTY',)  grade:  N\n",
      "669  :  actual -  ('HUM',)  predict -  ('ENTY',)  grade:  N\n",
      "670  :  actual -  ('LOC',)  predict -  ('ENTY',)  grade:  N\n",
      "671  :  actual -  ('DESC',)  predict -  ('NUM',)  grade:  N\n",
      "672  :  actual -  ('DESC',)  predict -  ('DESC',)  grade:  Y\n",
      "673  :  actual -  ('ENTY',)  predict -  ('ENTY',)  grade:  Y\n",
      "674  :  actual -  ('LOC',)  predict -  ('LOC',)  grade:  Y\n",
      "675  :  actual -  ('LOC',)  predict -  ('ENTY',)  grade:  N\n",
      "676  :  actual -  ('ENTY',)  predict -  ('ENTY',)  grade:  Y\n",
      "677  :  actual -  ('HUM',)  predict -  ('ENTY',)  grade:  N\n",
      "678  :  actual -  ('NUM',)  predict -  ('HUM',)  grade:  N\n",
      "679  :  actual -  ('NUM',)  predict -  ('DESC',)  grade:  N\n",
      "680  :  actual -  ('NUM',)  predict -  ('NUM',)  grade:  Y\n",
      "681  :  actual -  ('ENTY',)  predict -  ('ENTY',)  grade:  Y\n",
      "682  :  actual -  ('LOC',)  predict -  ('LOC',)  grade:  Y\n",
      "683  :  actual -  ('ENTY',)  predict -  ('ENTY',)  grade:  Y\n",
      "684  :  actual -  ('ENTY',)  predict -  ('ENTY',)  grade:  Y\n",
      "685  :  actual -  ('NUM',)  predict -  ('NUM',)  grade:  Y\n",
      "686  :  actual -  ('DESC',)  predict -  ('ENTY',)  grade:  N\n",
      "687  :  actual -  ('LOC',)  predict -  ('ENTY',)  grade:  N\n",
      "688  :  actual -  ('ENTY',)  predict -  ('ENTY',)  grade:  Y\n",
      "689  :  actual -  ('NUM',)  predict -  ('DESC',)  grade:  N\n",
      "690  :  actual -  ('HUM',)  predict -  ('HUM',)  grade:  Y\n",
      "691  :  actual -  ('LOC',)  predict -  ('LOC',)  grade:  Y\n",
      "692  :  actual -  ('ENTY',)  predict -  ('ENTY',)  grade:  Y\n",
      "693  :  actual -  ('LOC',)  predict -  ('LOC',)  grade:  Y\n",
      "694  :  actual -  ('DESC',)  predict -  ('NUM',)  grade:  N\n",
      "695  :  actual -  ('LOC',)  predict -  ('LOC',)  grade:  Y\n",
      "696  :  actual -  ('LOC',)  predict -  ('ENTY',)  grade:  N\n",
      "697  :  actual -  ('ENTY',)  predict -  ('ENTY',)  grade:  Y\n",
      "698  :  actual -  ('HUM',)  predict -  ('HUM',)  grade:  Y\n",
      "699  :  actual -  ('ENTY',)  predict -  ('ENTY',)  grade:  Y\n",
      "700  :  actual -  ('HUM',)  predict -  ('HUM',)  grade:  Y\n",
      "701  :  actual -  ('LOC',)  predict -  ('HUM',)  grade:  N\n",
      "702  :  actual -  ('ENTY',)  predict -  ('ENTY',)  grade:  Y\n",
      "703  :  actual -  ('DESC',)  predict -  ('DESC',)  grade:  Y\n",
      "704  :  actual -  ('DESC',)  predict -  ('ENTY',)  grade:  N\n",
      "705  :  actual -  ('DESC',)  predict -  ('DESC',)  grade:  Y\n",
      "706  :  actual -  ('HUM',)  predict -  ('ENTY',)  grade:  N\n",
      "707  :  actual -  ('NUM',)  predict -  ('NUM',)  grade:  Y\n",
      "708  :  actual -  ('DESC',)  predict -  ('ENTY',)  grade:  N\n",
      "709  :  actual -  ('DESC',)  predict -  ('DESC',)  grade:  Y\n",
      "710  :  actual -  ('LOC',)  predict -  ('LOC',)  grade:  Y\n",
      "711  :  actual -  ('LOC',)  predict -  ('ENTY',)  grade:  N\n",
      "712  :  actual -  ('DESC',)  predict -  ('DESC',)  grade:  Y\n",
      "713  :  actual -  ('ENTY',)  predict -  ('ENTY',)  grade:  Y\n",
      "714  :  actual -  ('ABBR',)  predict -  ('ENTY',)  grade:  N\n",
      "715  :  actual -  ('NUM',)  predict -  ('ENTY',)  grade:  N\n",
      "716  :  actual -  ('ENTY',)  predict -  ('ENTY',)  grade:  Y\n",
      "717  :  actual -  ('LOC',)  predict -  ('LOC',)  grade:  Y\n",
      "718  :  actual -  ('NUM',)  predict -  ('NUM',)  grade:  Y\n",
      "719  :  actual -  ('HUM',)  predict -  ('ENTY',)  grade:  N\n",
      "720  :  actual -  ('ENTY',)  predict -  ('DESC',)  grade:  N\n",
      "721  :  actual -  ('DESC',)  predict -  ('DESC',)  grade:  Y\n",
      "722  :  actual -  ('ENTY',)  predict -  ('ENTY',)  grade:  Y\n",
      "723  :  actual -  ('ENTY',)  predict -  ('HUM',)  grade:  N\n"
     ]
    },
    {
     "name": "stdout",
     "output_type": "stream",
     "text": [
      "724  :  actual -  ('LOC',)  predict -  ('ENTY',)  grade:  N\n",
      "725  :  actual -  ('HUM',)  predict -  ('ENTY',)  grade:  N\n",
      "726  :  actual -  ('HUM',)  predict -  ('ENTY',)  grade:  N\n",
      "727  :  actual -  ('ENTY',)  predict -  ('ENTY',)  grade:  Y\n",
      "728  :  actual -  ('ENTY',)  predict -  ('ENTY',)  grade:  Y\n",
      "729  :  actual -  ('LOC',)  predict -  ('ENTY',)  grade:  N\n",
      "730  :  actual -  ('HUM',)  predict -  ('HUM',)  grade:  Y\n",
      "731  :  actual -  ('DESC',)  predict -  ('ENTY',)  grade:  N\n",
      "732  :  actual -  ('HUM',)  predict -  ('HUM',)  grade:  Y\n",
      "733  :  actual -  ('DESC',)  predict -  ('DESC',)  grade:  Y\n",
      "734  :  actual -  ('DESC',)  predict -  ('DESC',)  grade:  Y\n",
      "735  :  actual -  ('DESC',)  predict -  ('ENTY',)  grade:  N\n",
      "736  :  actual -  ('DESC',)  predict -  ('NUM',)  grade:  N\n",
      "737  :  actual -  ('HUM',)  predict -  ('ENTY',)  grade:  N\n",
      "738  :  actual -  ('HUM',)  predict -  ('HUM',)  grade:  Y\n",
      "739  :  actual -  ('DESC',)  predict -  ('ENTY',)  grade:  N\n",
      "740  :  actual -  ('DESC',)  predict -  ('ENTY',)  grade:  N\n",
      "741  :  actual -  ('DESC',)  predict -  ('ENTY',)  grade:  N\n",
      "742  :  actual -  ('LOC',)  predict -  ('ENTY',)  grade:  N\n",
      "743  :  actual -  ('DESC',)  predict -  ('NUM',)  grade:  N\n",
      "744  :  actual -  ('HUM',)  predict -  ('HUM',)  grade:  Y\n",
      "745  :  actual -  ('ENTY',)  predict -  ('ENTY',)  grade:  Y\n",
      "746  :  actual -  ('NUM',)  predict -  ('NUM',)  grade:  Y\n",
      "747  :  actual -  ('ENTY',)  predict -  ('ENTY',)  grade:  Y\n",
      "748  :  actual -  ('NUM',)  predict -  ('NUM',)  grade:  Y\n",
      "749  :  actual -  ('HUM',)  predict -  ('HUM',)  grade:  Y\n",
      "750  :  actual -  ('DESC',)  predict -  ('ENTY',)  grade:  N\n",
      "751  :  actual -  ('ENTY',)  predict -  ('ENTY',)  grade:  Y\n",
      "752  :  actual -  ('HUM',)  predict -  ('ENTY',)  grade:  N\n",
      "753  :  actual -  ('DESC',)  predict -  ('NUM',)  grade:  N\n",
      "754  :  actual -  ('LOC',)  predict -  ('ENTY',)  grade:  N\n",
      "755  :  actual -  ('DESC',)  predict -  ('DESC',)  grade:  Y\n",
      "756  :  actual -  ('NUM',)  predict -  ('NUM',)  grade:  Y\n",
      "757  :  actual -  ('ENTY',)  predict -  ('DESC',)  grade:  N\n",
      "758  :  actual -  ('ENTY',)  predict -  ('ENTY',)  grade:  Y\n",
      "759  :  actual -  ('HUM',)  predict -  ('HUM',)  grade:  Y\n",
      "760  :  actual -  ('ENTY',)  predict -  ('ENTY',)  grade:  Y\n",
      "761  :  actual -  ('HUM',)  predict -  ('ENTY',)  grade:  N\n",
      "762  :  actual -  ('NUM',)  predict -  ('ENTY',)  grade:  N\n",
      "763  :  actual -  ('HUM',)  predict -  ('ENTY',)  grade:  N\n",
      "764  :  actual -  ('LOC',)  predict -  ('ENTY',)  grade:  N\n",
      "765  :  actual -  ('HUM',)  predict -  ('HUM',)  grade:  Y\n",
      "766  :  actual -  ('ENTY',)  predict -  ('ENTY',)  grade:  Y\n",
      "767  :  actual -  ('LOC',)  predict -  ('LOC',)  grade:  Y\n",
      "768  :  actual -  ('ENTY',)  predict -  ('ENTY',)  grade:  Y\n",
      "769  :  actual -  ('LOC',)  predict -  ('ENTY',)  grade:  N\n",
      "770  :  actual -  ('ENTY',)  predict -  ('ENTY',)  grade:  Y\n",
      "771  :  actual -  ('HUM',)  predict -  ('ENTY',)  grade:  N\n",
      "772  :  actual -  ('ENTY',)  predict -  ('ENTY',)  grade:  Y\n",
      "773  :  actual -  ('HUM',)  predict -  ('HUM',)  grade:  Y\n",
      "774  :  actual -  ('DESC',)  predict -  ('NUM',)  grade:  N\n",
      "775  :  actual -  ('ENTY',)  predict -  ('ENTY',)  grade:  Y\n",
      "776  :  actual -  ('HUM',)  predict -  ('ENTY',)  grade:  N\n",
      "777  :  actual -  ('NUM',)  predict -  ('DESC',)  grade:  N\n",
      "778  :  actual -  ('NUM',)  predict -  ('HUM',)  grade:  N\n",
      "779  :  actual -  ('ENTY',)  predict -  ('ENTY',)  grade:  Y\n",
      "780  :  actual -  ('DESC',)  predict -  ('DESC',)  grade:  Y\n",
      "781  :  actual -  ('LOC',)  predict -  ('LOC',)  grade:  Y\n",
      "782  :  actual -  ('LOC',)  predict -  ('ENTY',)  grade:  N\n",
      "783  :  actual -  ('LOC',)  predict -  ('ENTY',)  grade:  N\n",
      "784  :  actual -  ('HUM',)  predict -  ('HUM',)  grade:  Y\n",
      "785  :  actual -  ('DESC',)  predict -  ('ENTY',)  grade:  N\n",
      "786  :  actual -  ('DESC',)  predict -  ('ENTY',)  grade:  N\n",
      "787  :  actual -  ('ENTY',)  predict -  ('ENTY',)  grade:  Y\n",
      "788  :  actual -  ('ENTY',)  predict -  ('ENTY',)  grade:  Y\n",
      "789  :  actual -  ('DESC',)  predict -  ('ENTY',)  grade:  N\n",
      "790  :  actual -  ('ENTY',)  predict -  ('ENTY',)  grade:  Y\n",
      "791  :  actual -  ('DESC',)  predict -  ('ENTY',)  grade:  N\n",
      "792  :  actual -  ('LOC',)  predict -  ('ENTY',)  grade:  N\n",
      "793  :  actual -  ('ENTY',)  predict -  ('ENTY',)  grade:  Y\n",
      "794  :  actual -  ('DESC',)  predict -  ('DESC',)  grade:  Y\n",
      "795  :  actual -  ('HUM',)  predict -  ('HUM',)  grade:  Y\n",
      "796  :  actual -  ('NUM',)  predict -  ('NUM',)  grade:  Y\n",
      "797  :  actual -  ('DESC',)  predict -  ('DESC',)  grade:  Y\n",
      "798  :  actual -  ('HUM',)  predict -  ('HUM',)  grade:  Y\n",
      "799  :  actual -  ('NUM',)  predict -  ('NUM',)  grade:  Y\n",
      "800  :  actual -  ('ENTY',)  predict -  ('ENTY',)  grade:  Y\n",
      "801  :  actual -  ('ENTY',)  predict -  ('ENTY',)  grade:  Y\n",
      "802  :  actual -  ('HUM',)  predict -  ('HUM',)  grade:  Y\n",
      "803  :  actual -  ('HUM',)  predict -  ('HUM',)  grade:  Y\n",
      "804  :  actual -  ('HUM',)  predict -  ('HUM',)  grade:  Y\n",
      "805  :  actual -  ('DESC',)  predict -  ('DESC',)  grade:  Y\n",
      "806  :  actual -  ('LOC',)  predict -  ('ENTY',)  grade:  N\n",
      "807  :  actual -  ('HUM',)  predict -  ('HUM',)  grade:  Y\n",
      "808  :  actual -  ('HUM',)  predict -  ('ENTY',)  grade:  N\n",
      "809  :  actual -  ('HUM',)  predict -  ('HUM',)  grade:  Y\n",
      "810  :  actual -  ('ENTY',)  predict -  ('ENTY',)  grade:  Y\n",
      "811  :  actual -  ('NUM',)  predict -  ('DESC',)  grade:  N\n",
      "812  :  actual -  ('NUM',)  predict -  ('NUM',)  grade:  Y\n",
      "813  :  actual -  ('DESC',)  predict -  ('DESC',)  grade:  Y\n",
      "814  :  actual -  ('HUM',)  predict -  ('HUM',)  grade:  Y\n",
      "815  :  actual -  ('DESC',)  predict -  ('NUM',)  grade:  N\n",
      "816  :  actual -  ('DESC',)  predict -  ('ENTY',)  grade:  N\n",
      "817  :  actual -  ('HUM',)  predict -  ('HUM',)  grade:  Y\n",
      "818  :  actual -  ('HUM',)  predict -  ('ENTY',)  grade:  N\n",
      "819  :  actual -  ('ENTY',)  predict -  ('ENTY',)  grade:  Y\n",
      "820  :  actual -  ('ENTY',)  predict -  ('ENTY',)  grade:  Y\n",
      "821  :  actual -  ('ENTY',)  predict -  ('ENTY',)  grade:  Y\n",
      "822  :  actual -  ('ENTY',)  predict -  ('ENTY',)  grade:  Y\n",
      "823  :  actual -  ('HUM',)  predict -  ('DESC',)  grade:  N\n",
      "824  :  actual -  ('DESC',)  predict -  ('DESC',)  grade:  Y\n",
      "825  :  actual -  ('ENTY',)  predict -  ('ENTY',)  grade:  Y\n",
      "826  :  actual -  ('DESC',)  predict -  ('DESC',)  grade:  Y\n",
      "827  :  actual -  ('LOC',)  predict -  ('ENTY',)  grade:  N\n",
      "828  :  actual -  ('DESC',)  predict -  ('DESC',)  grade:  Y\n",
      "829  :  actual -  ('ENTY',)  predict -  ('ENTY',)  grade:  Y\n",
      "830  :  actual -  ('NUM',)  predict -  ('ENTY',)  grade:  N\n",
      "831  :  actual -  ('HUM',)  predict -  ('ENTY',)  grade:  N\n",
      "832  :  actual -  ('DESC',)  predict -  ('ENTY',)  grade:  N\n",
      "833  :  actual -  ('NUM',)  predict -  ('ENTY',)  grade:  N\n",
      "834  :  actual -  ('HUM',)  predict -  ('HUM',)  grade:  Y\n",
      "835  :  actual -  ('HUM',)  predict -  ('HUM',)  grade:  Y\n",
      "836  :  actual -  ('HUM',)  predict -  ('ENTY',)  grade:  N\n",
      "837  :  actual -  ('DESC',)  predict -  ('DESC',)  grade:  Y\n",
      "838  :  actual -  ('LOC',)  predict -  ('ENTY',)  grade:  N\n",
      "839  :  actual -  ('NUM',)  predict -  ('NUM',)  grade:  Y\n",
      "840  :  actual -  ('NUM',)  predict -  ('NUM',)  grade:  Y\n",
      "841  :  actual -  ('HUM',)  predict -  ('HUM',)  grade:  Y\n",
      "842  :  actual -  ('NUM',)  predict -  ('HUM',)  grade:  N\n",
      "843  :  actual -  ('DESC',)  predict -  ('NUM',)  grade:  N\n",
      "844  :  actual -  ('ENTY',)  predict -  ('ENTY',)  grade:  Y\n",
      "845  :  actual -  ('HUM',)  predict -  ('ENTY',)  grade:  N\n",
      "846  :  actual -  ('LOC',)  predict -  ('ENTY',)  grade:  N\n",
      "847  :  actual -  ('ENTY',)  predict -  ('ENTY',)  grade:  Y\n",
      "848  :  actual -  ('ENTY',)  predict -  ('ENTY',)  grade:  Y\n",
      "849  :  actual -  ('HUM',)  predict -  ('HUM',)  grade:  Y\n",
      "850  :  actual -  ('DESC',)  predict -  ('ENTY',)  grade:  N\n",
      "851  :  actual -  ('DESC',)  predict -  ('DESC',)  grade:  Y\n",
      "852  :  actual -  ('HUM',)  predict -  ('HUM',)  grade:  Y\n",
      "853  :  actual -  ('LOC',)  predict -  ('LOC',)  grade:  Y\n",
      "854  :  actual -  ('NUM',)  predict -  ('NUM',)  grade:  Y\n",
      "855  :  actual -  ('DESC',)  predict -  ('DESC',)  grade:  Y\n",
      "856  :  actual -  ('HUM',)  predict -  ('HUM',)  grade:  Y\n",
      "857  :  actual -  ('NUM',)  predict -  ('HUM',)  grade:  N\n",
      "858  :  actual -  ('NUM',)  predict -  ('HUM',)  grade:  N\n",
      "859  :  actual -  ('NUM',)  predict -  ('NUM',)  grade:  Y\n",
      "860  :  actual -  ('DESC',)  predict -  ('NUM',)  grade:  N\n"
     ]
    },
    {
     "name": "stdout",
     "output_type": "stream",
     "text": [
      "861  :  actual -  ('HUM',)  predict -  ('HUM',)  grade:  Y\n",
      "862  :  actual -  ('HUM',)  predict -  ('ENTY',)  grade:  N\n",
      "863  :  actual -  ('ABBR',)  predict -  ('ENTY',)  grade:  N\n",
      "864  :  actual -  ('DESC',)  predict -  ('DESC',)  grade:  Y\n",
      "865  :  actual -  ('DESC',)  predict -  ('ENTY',)  grade:  N\n",
      "866  :  actual -  ('LOC',)  predict -  ('LOC',)  grade:  Y\n",
      "867  :  actual -  ('ENTY',)  predict -  ('ENTY',)  grade:  Y\n",
      "868  :  actual -  ('DESC',)  predict -  ('LOC',)  grade:  N\n",
      "869  :  actual -  ('HUM',)  predict -  ('ENTY',)  grade:  N\n",
      "870  :  actual -  ('NUM',)  predict -  ('NUM',)  grade:  Y\n",
      "871  :  actual -  ('ABBR',)  predict -  ('ENTY',)  grade:  N\n",
      "872  :  actual -  ('LOC',)  predict -  ('LOC',)  grade:  Y\n",
      "873  :  actual -  ('HUM',)  predict -  ('ENTY',)  grade:  N\n",
      "874  :  actual -  ('DESC',)  predict -  ('NUM',)  grade:  N\n",
      "875  :  actual -  ('ENTY',)  predict -  ('ENTY',)  grade:  Y\n",
      "876  :  actual -  ('HUM',)  predict -  ('HUM',)  grade:  Y\n",
      "877  :  actual -  ('DESC',)  predict -  ('DESC',)  grade:  Y\n",
      "878  :  actual -  ('ENTY',)  predict -  ('ENTY',)  grade:  Y\n",
      "879  :  actual -  ('HUM',)  predict -  ('ENTY',)  grade:  N\n",
      "880  :  actual -  ('LOC',)  predict -  ('ENTY',)  grade:  N\n",
      "881  :  actual -  ('ENTY',)  predict -  ('ENTY',)  grade:  Y\n",
      "882  :  actual -  ('ENTY',)  predict -  ('ENTY',)  grade:  Y\n",
      "883  :  actual -  ('NUM',)  predict -  ('ENTY',)  grade:  N\n",
      "884  :  actual -  ('DESC',)  predict -  ('ENTY',)  grade:  N\n",
      "885  :  actual -  ('HUM',)  predict -  ('HUM',)  grade:  Y\n",
      "886  :  actual -  ('LOC',)  predict -  ('ENTY',)  grade:  N\n",
      "887  :  actual -  ('NUM',)  predict -  ('HUM',)  grade:  N\n",
      "888  :  actual -  ('ENTY',)  predict -  ('ENTY',)  grade:  Y\n",
      "889  :  actual -  ('HUM',)  predict -  ('ENTY',)  grade:  N\n",
      "890  :  actual -  ('HUM',)  predict -  ('HUM',)  grade:  Y\n",
      "891  :  actual -  ('ENTY',)  predict -  ('DESC',)  grade:  N\n",
      "892  :  actual -  ('HUM',)  predict -  ('HUM',)  grade:  Y\n",
      "893  :  actual -  ('ENTY',)  predict -  ('ENTY',)  grade:  Y\n",
      "894  :  actual -  ('NUM',)  predict -  ('HUM',)  grade:  N\n",
      "895  :  actual -  ('DESC',)  predict -  ('NUM',)  grade:  N\n",
      "896  :  actual -  ('LOC',)  predict -  ('ENTY',)  grade:  N\n",
      "897  :  actual -  ('DESC',)  predict -  ('DESC',)  grade:  Y\n",
      "898  :  actual -  ('HUM',)  predict -  ('ENTY',)  grade:  N\n",
      "899  :  actual -  ('DESC',)  predict -  ('DESC',)  grade:  Y\n",
      "900  :  actual -  ('HUM',)  predict -  ('HUM',)  grade:  Y\n",
      "901  :  actual -  ('LOC',)  predict -  ('LOC',)  grade:  Y\n",
      "902  :  actual -  ('DESC',)  predict -  ('ENTY',)  grade:  N\n",
      "903  :  actual -  ('ENTY',)  predict -  ('ENTY',)  grade:  Y\n",
      "904  :  actual -  ('DESC',)  predict -  ('NUM',)  grade:  N\n",
      "905  :  actual -  ('LOC',)  predict -  ('ENTY',)  grade:  N\n",
      "906  :  actual -  ('HUM',)  predict -  ('ENTY',)  grade:  N\n",
      "907  :  actual -  ('DESC',)  predict -  ('DESC',)  grade:  Y\n",
      "908  :  actual -  ('DESC',)  predict -  ('DESC',)  grade:  Y\n",
      "909  :  actual -  ('HUM',)  predict -  ('ENTY',)  grade:  N\n",
      "910  :  actual -  ('LOC',)  predict -  ('DESC',)  grade:  N\n",
      "911  :  actual -  ('DESC',)  predict -  ('NUM',)  grade:  N\n",
      "912  :  actual -  ('HUM',)  predict -  ('ENTY',)  grade:  N\n",
      "913  :  actual -  ('LOC',)  predict -  ('LOC',)  grade:  Y\n",
      "914  :  actual -  ('LOC',)  predict -  ('ENTY',)  grade:  N\n",
      "915  :  actual -  ('DESC',)  predict -  ('ENTY',)  grade:  N\n",
      "916  :  actual -  ('HUM',)  predict -  ('ENTY',)  grade:  N\n",
      "917  :  actual -  ('LOC',)  predict -  ('LOC',)  grade:  Y\n",
      "918  :  actual -  ('ENTY',)  predict -  ('ENTY',)  grade:  Y\n",
      "919  :  actual -  ('LOC',)  predict -  ('ENTY',)  grade:  N\n",
      "920  :  actual -  ('LOC',)  predict -  ('LOC',)  grade:  Y\n",
      "921  :  actual -  ('NUM',)  predict -  ('NUM',)  grade:  Y\n",
      "922  :  actual -  ('DESC',)  predict -  ('ENTY',)  grade:  N\n",
      "923  :  actual -  ('HUM',)  predict -  ('ENTY',)  grade:  N\n",
      "924  :  actual -  ('LOC',)  predict -  ('ENTY',)  grade:  N\n",
      "925  :  actual -  ('HUM',)  predict -  ('ENTY',)  grade:  N\n",
      "926  :  actual -  ('DESC',)  predict -  ('DESC',)  grade:  Y\n",
      "927  :  actual -  ('NUM',)  predict -  ('NUM',)  grade:  Y\n",
      "928  :  actual -  ('NUM',)  predict -  ('NUM',)  grade:  Y\n",
      "929  :  actual -  ('LOC',)  predict -  ('ENTY',)  grade:  N\n",
      "930  :  actual -  ('HUM',)  predict -  ('ENTY',)  grade:  N\n",
      "931  :  actual -  ('DESC',)  predict -  ('ENTY',)  grade:  N\n",
      "932  :  actual -  ('NUM',)  predict -  ('ENTY',)  grade:  N\n",
      "933  :  actual -  ('HUM',)  predict -  ('HUM',)  grade:  Y\n",
      "934  :  actual -  ('DESC',)  predict -  ('ENTY',)  grade:  N\n",
      "935  :  actual -  ('DESC',)  predict -  ('DESC',)  grade:  Y\n",
      "936  :  actual -  ('DESC',)  predict -  ('DESC',)  grade:  Y\n",
      "937  :  actual -  ('DESC',)  predict -  ('ENTY',)  grade:  N\n",
      "938  :  actual -  ('NUM',)  predict -  ('NUM',)  grade:  Y\n",
      "939  :  actual -  ('LOC',)  predict -  ('LOC',)  grade:  Y\n",
      "940  :  actual -  ('NUM',)  predict -  ('ENTY',)  grade:  N\n",
      "941  :  actual -  ('NUM',)  predict -  ('NUM',)  grade:  Y\n",
      "942  :  actual -  ('LOC',)  predict -  ('LOC',)  grade:  Y\n",
      "943  :  actual -  ('HUM',)  predict -  ('HUM',)  grade:  Y\n",
      "944  :  actual -  ('DESC',)  predict -  ('DESC',)  grade:  Y\n",
      "945  :  actual -  ('ENTY',)  predict -  ('DESC',)  grade:  N\n",
      "946  :  actual -  ('ENTY',)  predict -  ('ENTY',)  grade:  Y\n",
      "947  :  actual -  ('NUM',)  predict -  ('ENTY',)  grade:  N\n",
      "948  :  actual -  ('ENTY',)  predict -  ('ENTY',)  grade:  Y\n",
      "949  :  actual -  ('ENTY',)  predict -  ('ENTY',)  grade:  Y\n",
      "950  :  actual -  ('LOC',)  predict -  ('LOC',)  grade:  Y\n",
      "951  :  actual -  ('HUM',)  predict -  ('HUM',)  grade:  Y\n",
      "952  :  actual -  ('ENTY',)  predict -  ('ENTY',)  grade:  Y\n",
      "953  :  actual -  ('ENTY',)  predict -  ('ENTY',)  grade:  Y\n",
      "954  :  actual -  ('ENTY',)  predict -  ('ENTY',)  grade:  Y\n",
      "955  :  actual -  ('DESC',)  predict -  ('DESC',)  grade:  Y\n",
      "956  :  actual -  ('ENTY',)  predict -  ('ENTY',)  grade:  Y\n",
      "957  :  actual -  ('DESC',)  predict -  ('ENTY',)  grade:  N\n",
      "958  :  actual -  ('HUM',)  predict -  ('HUM',)  grade:  Y\n",
      "959  :  actual -  ('LOC',)  predict -  ('ENTY',)  grade:  N\n",
      "960  :  actual -  ('DESC',)  predict -  ('DESC',)  grade:  Y\n",
      "961  :  actual -  ('LOC',)  predict -  ('ENTY',)  grade:  N\n",
      "962  :  actual -  ('HUM',)  predict -  ('HUM',)  grade:  Y\n",
      "963  :  actual -  ('HUM',)  predict -  ('HUM',)  grade:  Y\n",
      "964  :  actual -  ('NUM',)  predict -  ('NUM',)  grade:  Y\n",
      "965  :  actual -  ('HUM',)  predict -  ('ENTY',)  grade:  N\n",
      "966  :  actual -  ('ENTY',)  predict -  ('ENTY',)  grade:  Y\n",
      "967  :  actual -  ('HUM',)  predict -  ('HUM',)  grade:  Y\n",
      "968  :  actual -  ('NUM',)  predict -  ('NUM',)  grade:  Y\n",
      "969  :  actual -  ('NUM',)  predict -  ('HUM',)  grade:  N\n",
      "970  :  actual -  ('LOC',)  predict -  ('LOC',)  grade:  Y\n",
      "971  :  actual -  ('LOC',)  predict -  ('LOC',)  grade:  Y\n",
      "972  :  actual -  ('ENTY',)  predict -  ('ENTY',)  grade:  Y\n",
      "973  :  actual -  ('DESC',)  predict -  ('DESC',)  grade:  Y\n",
      "974  :  actual -  ('DESC',)  predict -  ('DESC',)  grade:  Y\n",
      "975  :  actual -  ('LOC',)  predict -  ('LOC',)  grade:  Y\n",
      "976  :  actual -  ('ENTY',)  predict -  ('ENTY',)  grade:  Y\n",
      "977  :  actual -  ('DESC',)  predict -  ('DESC',)  grade:  Y\n",
      "978  :  actual -  ('DESC',)  predict -  ('DESC',)  grade:  Y\n",
      "979  :  actual -  ('DESC',)  predict -  ('ENTY',)  grade:  N\n",
      "980  :  actual -  ('LOC',)  predict -  ('ENTY',)  grade:  N\n",
      "981  :  actual -  ('DESC',)  predict -  ('DESC',)  grade:  Y\n",
      "982  :  actual -  ('ENTY',)  predict -  ('ENTY',)  grade:  Y\n",
      "983  :  actual -  ('HUM',)  predict -  ('HUM',)  grade:  Y\n",
      "984  :  actual -  ('DESC',)  predict -  ('ENTY',)  grade:  N\n",
      "985  :  actual -  ('DESC',)  predict -  ('DESC',)  grade:  Y\n",
      "986  :  actual -  ('HUM',)  predict -  ('HUM',)  grade:  Y\n",
      "987  :  actual -  ('DESC',)  predict -  ('DESC',)  grade:  Y\n",
      "988  :  actual -  ('LOC',)  predict -  ('ENTY',)  grade:  N\n",
      "989  :  actual -  ('LOC',)  predict -  ('ENTY',)  grade:  N\n",
      "990  :  actual -  ('LOC',)  predict -  ('ENTY',)  grade:  N\n",
      "991  :  actual -  ('ENTY',)  predict -  ('ENTY',)  grade:  Y\n",
      "992  :  actual -  ('HUM',)  predict -  ('HUM',)  grade:  Y\n",
      "993  :  actual -  ('LOC',)  predict -  ('ENTY',)  grade:  N\n",
      "994  :  actual -  ('NUM',)  predict -  ('NUM',)  grade:  Y\n",
      "995  :  actual -  ('NUM',)  predict -  ('ENTY',)  grade:  N\n",
      "996  :  actual -  ('LOC',)  predict -  ('ENTY',)  grade:  N\n",
      "997  :  actual -  ('NUM',)  predict -  ('NUM',)  grade:  Y\n",
      "998  :  actual -  ('HUM',)  predict -  ('HUM',)  grade:  Y\n",
      "999  :  actual -  ('LOC',)  predict -  ('ENTY',)  grade:  N\n",
      "1000  :  actual -  ('ENTY',)  predict -  ('ENTY',)  grade:  Y\n",
      "1001  :  actual -  ('DESC',)  predict -  ('ENTY',)  grade:  N\n"
     ]
    },
    {
     "name": "stdout",
     "output_type": "stream",
     "text": [
      "1002  :  actual -  ('ENTY',)  predict -  ('HUM',)  grade:  N\n",
      "1003  :  actual -  ('ENTY',)  predict -  ('ENTY',)  grade:  Y\n",
      "1004  :  actual -  ('HUM',)  predict -  ('HUM',)  grade:  Y\n",
      "1005  :  actual -  ('ENTY',)  predict -  ('ENTY',)  grade:  Y\n",
      "1006  :  actual -  ('HUM',)  predict -  ('DESC',)  grade:  N\n",
      "1007  :  actual -  ('DESC',)  predict -  ('DESC',)  grade:  Y\n",
      "1008  :  actual -  ('LOC',)  predict -  ('ENTY',)  grade:  N\n",
      "1009  :  actual -  ('HUM',)  predict -  ('ENTY',)  grade:  N\n",
      "1010  :  actual -  ('HUM',)  predict -  ('HUM',)  grade:  Y\n",
      "1011  :  actual -  ('NUM',)  predict -  ('NUM',)  grade:  Y\n",
      "1012  :  actual -  ('ENTY',)  predict -  ('ENTY',)  grade:  Y\n",
      "1013  :  actual -  ('DESC',)  predict -  ('ENTY',)  grade:  N\n",
      "1014  :  actual -  ('DESC',)  predict -  ('DESC',)  grade:  Y\n",
      "1015  :  actual -  ('HUM',)  predict -  ('ENTY',)  grade:  N\n",
      "1016  :  actual -  ('ABBR',)  predict -  ('DESC',)  grade:  N\n",
      "1017  :  actual -  ('ENTY',)  predict -  ('ENTY',)  grade:  Y\n",
      "1018  :  actual -  ('ENTY',)  predict -  ('ENTY',)  grade:  Y\n",
      "1019  :  actual -  ('ENTY',)  predict -  ('ENTY',)  grade:  Y\n",
      "1020  :  actual -  ('ENTY',)  predict -  ('ENTY',)  grade:  Y\n",
      "1021  :  actual -  ('DESC',)  predict -  ('ENTY',)  grade:  N\n",
      "1022  :  actual -  ('HUM',)  predict -  ('ENTY',)  grade:  N\n",
      "1023  :  actual -  ('LOC',)  predict -  ('ENTY',)  grade:  N\n",
      "1024  :  actual -  ('ENTY',)  predict -  ('DESC',)  grade:  N\n",
      "1025  :  actual -  ('HUM',)  predict -  ('ENTY',)  grade:  N\n",
      "1026  :  actual -  ('DESC',)  predict -  ('DESC',)  grade:  Y\n",
      "1027  :  actual -  ('DESC',)  predict -  ('ENTY',)  grade:  N\n",
      "1028  :  actual -  ('HUM',)  predict -  ('HUM',)  grade:  Y\n",
      "1029  :  actual -  ('DESC',)  predict -  ('ENTY',)  grade:  N\n",
      "1030  :  actual -  ('LOC',)  predict -  ('ENTY',)  grade:  N\n",
      "1031  :  actual -  ('NUM',)  predict -  ('ENTY',)  grade:  N\n",
      "1032  :  actual -  ('HUM',)  predict -  ('HUM',)  grade:  Y\n",
      "1033  :  actual -  ('LOC',)  predict -  ('ENTY',)  grade:  N\n",
      "1034  :  actual -  ('HUM',)  predict -  ('HUM',)  grade:  Y\n",
      "1035  :  actual -  ('DESC',)  predict -  ('ENTY',)  grade:  N\n",
      "1036  :  actual -  ('ENTY',)  predict -  ('ENTY',)  grade:  Y\n",
      "1037  :  actual -  ('ENTY',)  predict -  ('ENTY',)  grade:  Y\n",
      "1038  :  actual -  ('HUM',)  predict -  ('ENTY',)  grade:  N\n",
      "1039  :  actual -  ('HUM',)  predict -  ('HUM',)  grade:  Y\n",
      "1040  :  actual -  ('DESC',)  predict -  ('NUM',)  grade:  N\n",
      "1041  :  actual -  ('DESC',)  predict -  ('DESC',)  grade:  Y\n",
      "1042  :  actual -  ('HUM',)  predict -  ('HUM',)  grade:  Y\n",
      "1043  :  actual -  ('DESC',)  predict -  ('ENTY',)  grade:  N\n",
      "1044  :  actual -  ('ABBR',)  predict -  ('ENTY',)  grade:  N\n",
      "1045  :  actual -  ('ENTY',)  predict -  ('ENTY',)  grade:  Y\n",
      "1046  :  actual -  ('HUM',)  predict -  ('ENTY',)  grade:  N\n",
      "1047  :  actual -  ('ABBR',)  predict -  ('ENTY',)  grade:  N\n",
      "1048  :  actual -  ('ENTY',)  predict -  ('ENTY',)  grade:  Y\n",
      "1049  :  actual -  ('ENTY',)  predict -  ('DESC',)  grade:  N\n",
      "1050  :  actual -  ('HUM',)  predict -  ('ENTY',)  grade:  N\n",
      "1051  :  actual -  ('LOC',)  predict -  ('ENTY',)  grade:  N\n",
      "1052  :  actual -  ('LOC',)  predict -  ('LOC',)  grade:  Y\n",
      "1053  :  actual -  ('DESC',)  predict -  ('DESC',)  grade:  Y\n",
      "1054  :  actual -  ('NUM',)  predict -  ('ENTY',)  grade:  N\n",
      "1055  :  actual -  ('ENTY',)  predict -  ('ENTY',)  grade:  Y\n",
      "1056  :  actual -  ('HUM',)  predict -  ('HUM',)  grade:  Y\n",
      "1057  :  actual -  ('ENTY',)  predict -  ('ENTY',)  grade:  Y\n",
      "1058  :  actual -  ('ABBR',)  predict -  ('ENTY',)  grade:  N\n",
      "1059  :  actual -  ('HUM',)  predict -  ('DESC',)  grade:  N\n",
      "1060  :  actual -  ('DESC',)  predict -  ('DESC',)  grade:  Y\n",
      "1061  :  actual -  ('ENTY',)  predict -  ('ENTY',)  grade:  Y\n",
      "1062  :  actual -  ('LOC',)  predict -  ('ENTY',)  grade:  N\n",
      "1063  :  actual -  ('NUM',)  predict -  ('NUM',)  grade:  Y\n",
      "1064  :  actual -  ('HUM',)  predict -  ('ENTY',)  grade:  N\n",
      "1065  :  actual -  ('DESC',)  predict -  ('DESC',)  grade:  Y\n",
      "1066  :  actual -  ('ENTY',)  predict -  ('ENTY',)  grade:  Y\n",
      "1067  :  actual -  ('HUM',)  predict -  ('ENTY',)  grade:  N\n",
      "1068  :  actual -  ('NUM',)  predict -  ('NUM',)  grade:  Y\n",
      "1069  :  actual -  ('HUM',)  predict -  ('HUM',)  grade:  Y\n",
      "1070  :  actual -  ('LOC',)  predict -  ('LOC',)  grade:  Y\n",
      "1071  :  actual -  ('NUM',)  predict -  ('NUM',)  grade:  Y\n",
      "1072  :  actual -  ('HUM',)  predict -  ('HUM',)  grade:  Y\n",
      "1073  :  actual -  ('NUM',)  predict -  ('ENTY',)  grade:  N\n",
      "1074  :  actual -  ('ENTY',)  predict -  ('ENTY',)  grade:  Y\n",
      "1075  :  actual -  ('LOC',)  predict -  ('ENTY',)  grade:  N\n",
      "1076  :  actual -  ('ABBR',)  predict -  ('ENTY',)  grade:  N\n",
      "1077  :  actual -  ('HUM',)  predict -  ('HUM',)  grade:  Y\n",
      "1078  :  actual -  ('NUM',)  predict -  ('DESC',)  grade:  N\n",
      "1079  :  actual -  ('ENTY',)  predict -  ('ENTY',)  grade:  Y\n",
      "1080  :  actual -  ('LOC',)  predict -  ('ENTY',)  grade:  N\n",
      "1081  :  actual -  ('DESC',)  predict -  ('ENTY',)  grade:  N\n",
      "1082  :  actual -  ('NUM',)  predict -  ('NUM',)  grade:  Y\n",
      "1083  :  actual -  ('HUM',)  predict -  ('HUM',)  grade:  Y\n",
      "1084  :  actual -  ('ENTY',)  predict -  ('DESC',)  grade:  N\n",
      "1085  :  actual -  ('ABBR',)  predict -  ('ENTY',)  grade:  N\n",
      "1086  :  actual -  ('LOC',)  predict -  ('ENTY',)  grade:  N\n",
      "1087  :  actual -  ('NUM',)  predict -  ('NUM',)  grade:  Y\n",
      "1088  :  actual -  ('HUM',)  predict -  ('DESC',)  grade:  N\n",
      "1089  :  actual -  ('DESC',)  predict -  ('DESC',)  grade:  Y\n",
      "1090  :  actual -  ('NUM',)  predict -  ('ENTY',)  grade:  N\n",
      "Accuracy:  0.5444546287809349\n",
      "Confusion matrix:\n",
      "[[  0   2  10   2   0   0]\n",
      " [  0 111  90   2   2  46]\n",
      " [  0  30 208  10   0   0]\n",
      " [  0   7  96 127   0   0]\n",
      " [  0   7 116   5  51   0]\n",
      " [  0  10  46  15   1  97]]\n"
     ]
    },
    {
     "data": {
      "image/png": "[encoded data removed]",
      "text/plain": [
       "<Figure size 432x288 with 1 Axes>"
      ]
     },
     "metadata": {
      "needs_background": "light"
     },
     "output_type": "display_data"
    }
   ],
   "source": [
    "mod1_test_results = test_model(trained_lstm, te1)"
   ]
  }
 ],
 "metadata": {
  "kernelspec": {
   "display_name": "Python 3",
   "language": "python",
   "name": "python3"
  },
  "language_info": {
   "codemirror_mode": {
    "name": "ipython",
    "version": 3
   },
   "file_extension": ".py",
   "mimetype": "text/x-python",
   "name": "python",
   "nbconvert_exporter": "python",
   "pygments_lexer": "ipython3",
   "version": "3.6.7"
  }
 },
 "nbformat": 4,
 "nbformat_minor": 2
}
