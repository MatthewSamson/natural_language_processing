{
 "cells": [
  {
   "cell_type": "markdown",
   "metadata": {},
   "source": [
    "# 1. Packages to Import"
   ]
  },
  {
   "cell_type": "code",
   "execution_count": 1,
   "metadata": {},
   "outputs": [],
   "source": [
    "import pandas as pd\n",
    "import numpy as np\n",
    "import sklearn as sk\n",
    "import torch\n",
    "import nltk\n",
    "import matplotlib.pyplot as plt\n",
    "import os"
   ]
  },
  {
   "cell_type": "code",
   "execution_count": null,
   "metadata": {},
   "outputs": [],
   "source": []
  },
  {
   "cell_type": "markdown",
   "metadata": {},
   "source": [
    "# 2. Load and Analyse data"
   ]
  },
  {
   "cell_type": "code",
   "execution_count": 2,
   "metadata": {
    "scrolled": true
   },
   "outputs": [
    {
     "name": "stdout",
     "output_type": "stream",
     "text": [
      "Meta data: \n",
      "<class 'pandas.core.frame.DataFrame'>\n",
      "RangeIndex: 156060 entries, 0 to 156059\n",
      "Data columns (total 4 columns):\n",
      "PhraseId      156060 non-null int64\n",
      "SentenceId    156060 non-null int64\n",
      "Phrase        156060 non-null object\n",
      "Sentiment     156060 non-null int64\n",
      "dtypes: int64(3), object(1)\n",
      "memory usage: 4.8+ MB\n",
      "None\n",
      "Data per class: \n",
      "2    79582\n",
      "3    32927\n",
      "1    27273\n",
      "4     9206\n",
      "0     7072\n",
      "Name: Sentiment, dtype: int64\n"
     ]
    }
   ],
   "source": [
    "data = pd.read_csv('train.tsv', sep='\\t')\n",
    "\n",
    "print(\"Meta data: \")\n",
    "print(data.info())\n",
    "\n",
    "print(\"Data per class: \")\n",
    "print(data['Sentiment'].value_counts())"
   ]
  },
  {
   "cell_type": "code",
   "execution_count": 3,
   "metadata": {},
   "outputs": [
    {
     "data": {
      "text/html": [
       "<div>\n",
       "<style scoped>\n",
       "    .dataframe tbody tr th:only-of-type {\n",
       "        vertical-align: middle;\n",
       "    }\n",
       "\n",
       "    .dataframe tbody tr th {\n",
       "        vertical-align: top;\n",
       "    }\n",
       "\n",
       "    .dataframe thead th {\n",
       "        text-align: right;\n",
       "    }\n",
       "</style>\n",
       "<table border=\"1\" class=\"dataframe\">\n",
       "  <thead>\n",
       "    <tr style=\"text-align: right;\">\n",
       "      <th></th>\n",
       "      <th>PhraseId</th>\n",
       "      <th>SentenceId</th>\n",
       "      <th>Phrase</th>\n",
       "    </tr>\n",
       "    <tr>\n",
       "      <th>Sentiment</th>\n",
       "      <th></th>\n",
       "      <th></th>\n",
       "      <th></th>\n",
       "    </tr>\n",
       "  </thead>\n",
       "  <tbody>\n",
       "    <tr>\n",
       "      <th>0</th>\n",
       "      <td>7072</td>\n",
       "      <td>7072</td>\n",
       "      <td>7072</td>\n",
       "    </tr>\n",
       "    <tr>\n",
       "      <th>1</th>\n",
       "      <td>27273</td>\n",
       "      <td>27273</td>\n",
       "      <td>27273</td>\n",
       "    </tr>\n",
       "    <tr>\n",
       "      <th>2</th>\n",
       "      <td>79582</td>\n",
       "      <td>79582</td>\n",
       "      <td>79582</td>\n",
       "    </tr>\n",
       "    <tr>\n",
       "      <th>3</th>\n",
       "      <td>32927</td>\n",
       "      <td>32927</td>\n",
       "      <td>32927</td>\n",
       "    </tr>\n",
       "    <tr>\n",
       "      <th>4</th>\n",
       "      <td>9206</td>\n",
       "      <td>9206</td>\n",
       "      <td>9206</td>\n",
       "    </tr>\n",
       "  </tbody>\n",
       "</table>\n",
       "</div>"
      ],
      "text/plain": [
       "           PhraseId  SentenceId  Phrase\n",
       "Sentiment                              \n",
       "0              7072        7072    7072\n",
       "1             27273       27273   27273\n",
       "2             79582       79582   79582\n",
       "3             32927       32927   32927\n",
       "4              9206        9206    9206"
      ]
     },
     "execution_count": 3,
     "metadata": {},
     "output_type": "execute_result"
    }
   ],
   "source": [
    "sentiment_count = data.groupby('Sentiment').count()\n",
    "sentiment_count"
   ]
  },
  {
   "cell_type": "code",
   "execution_count": null,
   "metadata": {},
   "outputs": [],
   "source": []
  },
  {
   "cell_type": "code",
   "execution_count": 4,
   "metadata": {},
   "outputs": [
    {
     "data": {
      "image/png": "[encoded data removed]",
      "text/plain": [
       "<Figure size 432x288 with 1 Axes>"
      ]
     },
     "metadata": {
      "needs_background": "light"
     },
     "output_type": "display_data"
    }
   ],
   "source": [
    "plt.bar(sentiment_count.index.values, sentiment_count['Phrase'])\n",
    "plt.xlabel('Review sentiments')\n",
    "plt.ylabel('Number of reviews')\n",
    "plt.show()"
   ]
  },
  {
   "cell_type": "code",
   "execution_count": 5,
   "metadata": {},
   "outputs": [
    {
     "name": "stdout",
     "output_type": "stream",
     "text": [
      "First 10 rows of data: \n"
     ]
    },
    {
     "data": {
      "text/html": [
       "<div>\n",
       "<style scoped>\n",
       "    .dataframe tbody tr th:only-of-type {\n",
       "        vertical-align: middle;\n",
       "    }\n",
       "\n",
       "    .dataframe tbody tr th {\n",
       "        vertical-align: top;\n",
       "    }\n",
       "\n",
       "    .dataframe thead th {\n",
       "        text-align: right;\n",
       "    }\n",
       "</style>\n",
       "<table border=\"1\" class=\"dataframe\">\n",
       "  <thead>\n",
       "    <tr style=\"text-align: right;\">\n",
       "      <th></th>\n",
       "      <th>PhraseId</th>\n",
       "      <th>SentenceId</th>\n",
       "      <th>Phrase</th>\n",
       "      <th>Sentiment</th>\n",
       "    </tr>\n",
       "  </thead>\n",
       "  <tbody>\n",
       "    <tr>\n",
       "      <th>0</th>\n",
       "      <td>1</td>\n",
       "      <td>1</td>\n",
       "      <td>A series of escapades demonstrating the adage ...</td>\n",
       "      <td>1</td>\n",
       "    </tr>\n",
       "    <tr>\n",
       "      <th>1</th>\n",
       "      <td>2</td>\n",
       "      <td>1</td>\n",
       "      <td>A series of escapades demonstrating the adage ...</td>\n",
       "      <td>2</td>\n",
       "    </tr>\n",
       "    <tr>\n",
       "      <th>2</th>\n",
       "      <td>3</td>\n",
       "      <td>1</td>\n",
       "      <td>A series</td>\n",
       "      <td>2</td>\n",
       "    </tr>\n",
       "    <tr>\n",
       "      <th>3</th>\n",
       "      <td>4</td>\n",
       "      <td>1</td>\n",
       "      <td>A</td>\n",
       "      <td>2</td>\n",
       "    </tr>\n",
       "    <tr>\n",
       "      <th>4</th>\n",
       "      <td>5</td>\n",
       "      <td>1</td>\n",
       "      <td>series</td>\n",
       "      <td>2</td>\n",
       "    </tr>\n",
       "    <tr>\n",
       "      <th>5</th>\n",
       "      <td>6</td>\n",
       "      <td>1</td>\n",
       "      <td>of escapades demonstrating the adage that what...</td>\n",
       "      <td>2</td>\n",
       "    </tr>\n",
       "    <tr>\n",
       "      <th>6</th>\n",
       "      <td>7</td>\n",
       "      <td>1</td>\n",
       "      <td>of</td>\n",
       "      <td>2</td>\n",
       "    </tr>\n",
       "    <tr>\n",
       "      <th>7</th>\n",
       "      <td>8</td>\n",
       "      <td>1</td>\n",
       "      <td>escapades demonstrating the adage that what is...</td>\n",
       "      <td>2</td>\n",
       "    </tr>\n",
       "    <tr>\n",
       "      <th>8</th>\n",
       "      <td>9</td>\n",
       "      <td>1</td>\n",
       "      <td>escapades</td>\n",
       "      <td>2</td>\n",
       "    </tr>\n",
       "    <tr>\n",
       "      <th>9</th>\n",
       "      <td>10</td>\n",
       "      <td>1</td>\n",
       "      <td>demonstrating the adage that what is good for ...</td>\n",
       "      <td>2</td>\n",
       "    </tr>\n",
       "  </tbody>\n",
       "</table>\n",
       "</div>"
      ],
      "text/plain": [
       "   PhraseId  SentenceId                                             Phrase  \\\n",
       "0         1           1  A series of escapades demonstrating the adage ...   \n",
       "1         2           1  A series of escapades demonstrating the adage ...   \n",
       "2         3           1                                           A series   \n",
       "3         4           1                                                  A   \n",
       "4         5           1                                             series   \n",
       "5         6           1  of escapades demonstrating the adage that what...   \n",
       "6         7           1                                                 of   \n",
       "7         8           1  escapades demonstrating the adage that what is...   \n",
       "8         9           1                                          escapades   \n",
       "9        10           1  demonstrating the adage that what is good for ...   \n",
       "\n",
       "   Sentiment  \n",
       "0          1  \n",
       "1          2  \n",
       "2          2  \n",
       "3          2  \n",
       "4          2  \n",
       "5          2  \n",
       "6          2  \n",
       "7          2  \n",
       "8          2  \n",
       "9          2  "
      ]
     },
     "execution_count": 5,
     "metadata": {},
     "output_type": "execute_result"
    }
   ],
   "source": [
    "print(\"First 10 rows of data: \")\n",
    "data.head(10)"
   ]
  },
  {
   "cell_type": "code",
   "execution_count": 6,
   "metadata": {},
   "outputs": [
    {
     "data": {
      "text/html": [
       "<div>\n",
       "<style scoped>\n",
       "    .dataframe tbody tr th:only-of-type {\n",
       "        vertical-align: middle;\n",
       "    }\n",
       "\n",
       "    .dataframe tbody tr th {\n",
       "        vertical-align: top;\n",
       "    }\n",
       "\n",
       "    .dataframe thead th {\n",
       "        text-align: right;\n",
       "    }\n",
       "</style>\n",
       "<table border=\"1\" class=\"dataframe\">\n",
       "  <thead>\n",
       "    <tr style=\"text-align: right;\">\n",
       "      <th></th>\n",
       "      <th>SentenceId</th>\n",
       "      <th>Phrase</th>\n",
       "      <th>Sentiment</th>\n",
       "    </tr>\n",
       "  </thead>\n",
       "  <tbody>\n",
       "    <tr>\n",
       "      <th>0</th>\n",
       "      <td>1</td>\n",
       "      <td>A series of escapades demonstrating the adage ...</td>\n",
       "      <td>1</td>\n",
       "    </tr>\n",
       "    <tr>\n",
       "      <th>1</th>\n",
       "      <td>1</td>\n",
       "      <td>A series of escapades demonstrating the adage ...</td>\n",
       "      <td>2</td>\n",
       "    </tr>\n",
       "    <tr>\n",
       "      <th>2</th>\n",
       "      <td>1</td>\n",
       "      <td>A series</td>\n",
       "      <td>2</td>\n",
       "    </tr>\n",
       "    <tr>\n",
       "      <th>3</th>\n",
       "      <td>1</td>\n",
       "      <td>A</td>\n",
       "      <td>2</td>\n",
       "    </tr>\n",
       "    <tr>\n",
       "      <th>4</th>\n",
       "      <td>1</td>\n",
       "      <td>series</td>\n",
       "      <td>2</td>\n",
       "    </tr>\n",
       "  </tbody>\n",
       "</table>\n",
       "</div>"
      ],
      "text/plain": [
       "   SentenceId                                             Phrase  Sentiment\n",
       "0           1  A series of escapades demonstrating the adage ...          1\n",
       "1           1  A series of escapades demonstrating the adage ...          2\n",
       "2           1                                           A series          2\n",
       "3           1                                                  A          2\n",
       "4           1                                             series          2"
      ]
     },
     "execution_count": 6,
     "metadata": {},
     "output_type": "execute_result"
    }
   ],
   "source": [
    "chdata = data.drop(['PhraseId'], axis=1)\n",
    "chdata.head()"
   ]
  },
  {
   "cell_type": "markdown",
   "metadata": {},
   "source": [
    "# 3. Examining NLTK functions"
   ]
  },
  {
   "cell_type": "code",
   "execution_count": 7,
   "metadata": {},
   "outputs": [
    {
     "name": "stdout",
     "output_type": "stream",
     "text": [
      "Sentence Tokenization:  ['A series of escapades demonstrating the adage that what is good for the goose is also good for the gander , some of which occasionally amuses but none of which amounts to much of a story .'] \n",
      "\n",
      "Word Tokenization:  ['A', 'series', 'of', 'escapades', 'demonstrating', 'the', 'adage', 'that', 'what', 'is', 'good', 'for', 'the', 'goose', 'is', 'also', 'good', 'for', 'the', 'gander', ',', 'some', 'of', 'which', 'occasionally', 'amuses', 'but', 'none', 'of', 'which', 'amounts', 'to', 'much', 'of', 'a', 'story', '.'] \n",
      "\n",
      "Frequency:  <FreqDist with 28 samples and 37 outcomes>\n",
      "[('of', 4), ('the', 3)]\n"
     ]
    },
    {
     "data": {
      "image/png": "[encoded data removed]",
      "text/plain": [
       "<Figure size 432x288 with 1 Axes>"
      ]
     },
     "metadata": {
      "needs_background": "light"
     },
     "output_type": "display_data"
    },
    {
     "data": {
      "text/plain": [
       "<matplotlib.axes._subplots.AxesSubplot at 0x2763a7a8470>"
      ]
     },
     "execution_count": 7,
     "metadata": {},
     "output_type": "execute_result"
    }
   ],
   "source": [
    "# taking a sample of the text to perform analysis\n",
    "text = chdata.iloc[0, 1]\n",
    "\n",
    "# sentence tokenization of text\n",
    "sentence = nltk.tokenize.sent_tokenize(text)\n",
    "print(\"Sentence Tokenization: \", sentence, \"\\n\")\n",
    "\n",
    "# word tokenization of text\n",
    "word = nltk.tokenize.word_tokenize(text)\n",
    "print(\"Word Tokenization: \", word, \"\\n\")\n",
    "\n",
    "# frequency distribution\n",
    "fdist = nltk.probability.FreqDist(word)\n",
    "print(\"Frequency: \", fdist)\n",
    "print(fdist.most_common(2))\n",
    "\n",
    "# plotting the word frequency\n",
    "fdist.plot(30, cumulative=False)"
   ]
  },
  {
   "cell_type": "code",
   "execution_count": 8,
   "metadata": {},
   "outputs": [
    {
     "name": "stdout",
     "output_type": "stream",
     "text": [
      "First 10 Stop words:  ['any', \"needn't\", 'of', \"should've\", 'and', 'all', 'hers', 'd', 'this', 'once']\n",
      "Before stoppers:  ['A', 'series', 'of', 'escapades', 'demonstrating', 'the', 'adage', 'that', 'what', 'is', 'good', 'for', 'the', 'goose', 'is', 'also', 'good', 'for', 'the', 'gander', ',', 'some', 'of', 'which', 'occasionally', 'amuses', 'but', 'none', 'of', 'which', 'amounts', 'to', 'much', 'of', 'a', 'story', '.']\n",
      "After removing stoppers:  ['A', 'series', 'escapades', 'demonstrating', 'adage', 'good', 'goose', 'also', 'good', 'gander', ',', 'occasionally', 'amuses', 'none', 'amounts', 'much', 'story', '.']\n",
      "Plotting after removing stop words:\n"
     ]
    },
    {
     "data": {
      "image/png": "[encoded data removed]",
      "text/plain": [
       "<Figure size 432x288 with 1 Axes>"
      ]
     },
     "metadata": {
      "needs_background": "light"
     },
     "output_type": "display_data"
    },
    {
     "data": {
      "text/plain": [
       "<matplotlib.axes._subplots.AxesSubplot at 0x2763a85f0f0>"
      ]
     },
     "execution_count": 8,
     "metadata": {},
     "output_type": "execute_result"
    }
   ],
   "source": [
    "stopper = list(set(nltk.corpus.stopwords.words(\"english\")))\n",
    "print(\"First 10 Stop words: \", stopper[:10])\n",
    "\n",
    "filtered = []\n",
    "\n",
    "for w in word:\n",
    "    if w not in stopper:\n",
    "        filtered.append(w)\n",
    "\n",
    "print(\"Before stoppers: \", word)\n",
    "print(\"After removing stoppers: \", filtered)\n",
    "\n",
    "after_stem = nltk.probability.FreqDist(filtered)\n",
    "print(\"Plotting after removing stop words:\")\n",
    "after_stem.plot(30, cumulative=False)"
   ]
  },
  {
   "cell_type": "code",
   "execution_count": 9,
   "metadata": {},
   "outputs": [
    {
     "name": "stdout",
     "output_type": "stream",
     "text": [
      "After performing stemmings:  ['A', 'seri', 'escapad', 'demonstr', 'adag', 'good', 'goos', 'also', 'good', 'gander', ',', 'occasion', 'amus', 'none', 'amount', 'much', 'stori', '.']\n",
      "After performing lemmatization:  ['A', 'series', 'escapade', 'demonstrating', 'adage', 'good', 'goose', 'also', 'good', 'gander', ',', 'occasionally', 'amuses', 'none', 'amount', 'much', 'story', '.']\n",
      "The resulting POS tagging:\n",
      "[('A', 'DT'), ('series', 'NN'), ('of', 'IN'), ('escapades', 'NNS'), ('demonstrating', 'VBG'), ('the', 'DT'), ('adage', 'NN'), ('that', 'IN'), ('what', 'WP'), ('is', 'VBZ'), ('good', 'JJ'), ('for', 'IN'), ('the', 'DT'), ('goose', 'NN'), ('is', 'VBZ'), ('also', 'RB'), ('good', 'JJ'), ('for', 'IN'), ('the', 'DT'), ('gander', 'NN'), (',', ','), ('some', 'DT'), ('of', 'IN'), ('which', 'WDT'), ('occasionally', 'RB'), ('amuses', 'VBZ'), ('but', 'CC'), ('none', 'NN'), ('of', 'IN'), ('which', 'WDT'), ('amounts', 'NNS'), ('to', 'TO'), ('much', 'JJ'), ('of', 'IN'), ('a', 'DT'), ('story', 'NN'), ('.', '.')]\n"
     ]
    }
   ],
   "source": [
    "# performing text normalization\n",
    "# stemming\n",
    "ps = nltk.stem.PorterStemmer()\n",
    "\n",
    "stemmed = []\n",
    "for w in filtered:\n",
    "    stemmed.append(ps.stem(w))\n",
    "\n",
    "print(\"After performing stemmings: \", stemmed)\n",
    "\n",
    "# lemmatization - a dictionary look up\n",
    "lem = nltk.stem.wordnet.WordNetLemmatizer()\n",
    "\n",
    "lemmaed = []\n",
    "for w in filtered:\n",
    "    lemmaed.append(lem.lemmatize(w))\n",
    "\n",
    "print(\"After performing lemmatization: \", lemmaed)\n",
    "\n",
    "# applying pos tagging\n",
    "postag = nltk.pos_tag(nltk.word_tokenize(text))\n",
    "print(\"The resulting POS tagging:\")\n",
    "print(postag)"
   ]
  },
  {
   "cell_type": "code",
   "execution_count": 10,
   "metadata": {},
   "outputs": [
    {
     "data": {
      "text/plain": [
       "'A series of escapades demonstrating the adage that what is good for the goose is also good for the gander , some of which occasionally amuses but none of which amounts to much of a story .'"
      ]
     },
     "execution_count": 10,
     "metadata": {},
     "output_type": "execute_result"
    }
   ],
   "source": [
    "lem.lemmatize(text)"
   ]
  },
  {
   "cell_type": "code",
   "execution_count": null,
   "metadata": {},
   "outputs": [],
   "source": []
  },
  {
   "cell_type": "markdown",
   "metadata": {},
   "source": [
    "# 4. Reducing the corpus size"
   ]
  },
  {
   "cell_type": "code",
   "execution_count": 11,
   "metadata": {},
   "outputs": [
    {
     "data": {
      "text/plain": [
       "729049"
      ]
     },
     "execution_count": 11,
     "metadata": {},
     "output_type": "execute_result"
    }
   ],
   "source": [
    "# function to collect the word corpus \n",
    "def collect_words(df, feature):\n",
    "    all_words = []\n",
    "    \n",
    "    for f in df[feature]:\n",
    "        wordlis = nltk.tokenize.word_tokenize(f)\n",
    "        \n",
    "        for word in wordlis:\n",
    "            if word not in stopper:\n",
    "                lemstr = lem.lemmatize(word)\n",
    "                stemstr = ps.stem(word)\n",
    "                # collect all the words\n",
    "                all_words.append(stemstr)\n",
    "            \n",
    "    return all_words\n",
    "\n",
    "\n",
    "corpus = collect_words(chdata, 'Phrase')\n",
    "len(corpus)"
   ]
  },
  {
   "cell_type": "code",
   "execution_count": 12,
   "metadata": {
    "scrolled": true
   },
   "outputs": [
    {
     "data": {
      "text/plain": [
       "['A',\n",
       " 'seri',\n",
       " 'escapad',\n",
       " 'demonstr',\n",
       " 'adag',\n",
       " 'good',\n",
       " 'goos',\n",
       " 'also',\n",
       " 'good',\n",
       " 'gander']"
      ]
     },
     "execution_count": 12,
     "metadata": {},
     "output_type": "execute_result"
    }
   ],
   "source": [
    "corpus[:10]"
   ]
  },
  {
   "cell_type": "code",
   "execution_count": 13,
   "metadata": {},
   "outputs": [
    {
     "data": {
      "image/png": "[encoded data removed]",
      "text/plain": [
       "<Figure size 1440x720 with 1 Axes>"
      ]
     },
     "metadata": {
      "needs_background": "light"
     },
     "output_type": "display_data"
    },
    {
     "data": {
      "text/plain": [
       "<matplotlib.axes._subplots.AxesSubplot at 0x2763b38e048>"
      ]
     },
     "execution_count": 13,
     "metadata": {},
     "output_type": "execute_result"
    }
   ],
   "source": [
    "plt.figure(figsize=(20, 10))\n",
    "corpus_freq = nltk.probability.FreqDist(corpus)\n",
    "corpus_freq.plot(100, cumulative=False)"
   ]
  },
  {
   "cell_type": "code",
   "execution_count": 14,
   "metadata": {},
   "outputs": [
    {
     "data": {
      "text/plain": [
       "[(',', 42006), ('.', 18075), (\"'s\", 16971), ('film', 7787), ('movi', 7250)]"
      ]
     },
     "execution_count": 14,
     "metadata": {},
     "output_type": "execute_result"
    }
   ],
   "source": [
    "corpus_freq.most_common(5)"
   ]
  },
  {
   "cell_type": "code",
   "execution_count": 15,
   "metadata": {},
   "outputs": [
    {
     "name": "stdout",
     "output_type": "stream",
     "text": [
      "Number of filtered words:  21 4050\n"
     ]
    }
   ],
   "source": [
    "# function to collect all the words above and below threshold\n",
    "def collect_threshold(freqd, mini_count=10, maxi_count=2000):\n",
    "\n",
    "    high_words = freqd.copy()\n",
    "    low_words = freqd.copy()\n",
    "    \n",
    "    for key in freqd.keys():\n",
    "        if freqd[key] < maxi_count:\n",
    "            del(high_words[key])\n",
    "        if freqd[key] > mini_count:\n",
    "            del(low_words[key])\n",
    "            \n",
    "    return high_words, low_words\n",
    "\n",
    "# the newly obtained keys will then be used for further filtering\n",
    "higher, lower = collect_threshold(corpus_freq)\n",
    "\n",
    "print(\"Number of filtered words: \", len(higher.keys()), len(lower.keys()))"
   ]
  },
  {
   "cell_type": "code",
   "execution_count": 16,
   "metadata": {},
   "outputs": [
    {
     "data": {
      "text/plain": [
       "dict_keys(['A', 'good', ',', 'stori', '.', \"'s\", 'work', 'time', 'one', 'charact', 'the', 'like', \"n't\", 'movi', '--', 'make', '``', 'film', \"'\", '-lrb-', '-rrb-'])"
      ]
     },
     "execution_count": 16,
     "metadata": {},
     "output_type": "execute_result"
    }
   ],
   "source": [
    "higher.keys()"
   ]
  },
  {
   "cell_type": "code",
   "execution_count": null,
   "metadata": {},
   "outputs": [],
   "source": []
  },
  {
   "cell_type": "markdown",
   "metadata": {},
   "source": [
    "# 5. Feature Engineering"
   ]
  },
  {
   "cell_type": "code",
   "execution_count": 17,
   "metadata": {},
   "outputs": [],
   "source": [
    "def cleaned_up(df, feature, high_words, low_words, stopper=stopper, lem=lem):\n",
    "    \n",
    "    new_text = []\n",
    "    all_words = []\n",
    "    \n",
    "    for f in df[feature]:\n",
    "        # list for words\n",
    "        cl = []\n",
    "        # words to string\n",
    "        cls = \"\"\n",
    "        \n",
    "        wordlis = nltk.tokenize.word_tokenize(f)\n",
    "        \n",
    "        # performing lemmatization and stop words removal\n",
    "        for st in wordlis:\n",
    "            if st not in stopper:\n",
    "                lemstr = lem.lemmatize(st)\n",
    "                stemstr = ps.stem(lemstr)\n",
    "            \n",
    "            if stemstr not in high_words and stemstr not in low_words:\n",
    "                # collect all the words\n",
    "                all_words.append(stemstr)\n",
    "                # collect words that are filtered\n",
    "                cl.append(stemstr)\n",
    "        \n",
    "        if len(cl) == 0:\n",
    "            cls = \"\"\n",
    "        \n",
    "        else:\n",
    "            cls = cl[0]\n",
    "            for st in range(1, len(cl)):\n",
    "                cls = cls + \" \" + cl[st]\n",
    "                \n",
    "        new_text.append(cls)\n",
    "    \n",
    "    return new_text, all_words\n",
    "\n",
    "cleaned_text, full_set = cleaned_up(data, 'Phrase', higher, lower)\n",
    "#data = data.drop(columns=['PhraseId'])"
   ]
  },
  {
   "cell_type": "code",
   "execution_count": 18,
   "metadata": {},
   "outputs": [
    {
     "data": {
      "text/plain": [
       "['seri seri escapad demonstr demonstr adag adag adag adag goos goos also occasion amus amus none none none amount amount much much much',\n",
       " 'seri seri escapad demonstr demonstr adag adag adag adag goos',\n",
       " 'seri',\n",
       " '',\n",
       " 'seri',\n",
       " 'seri escapad demonstr demonstr adag adag adag adag goos',\n",
       " 'goos',\n",
       " 'escapad demonstr demonstr adag adag adag adag goos',\n",
       " 'escapad',\n",
       " 'demonstr demonstr adag adag adag adag goos']"
      ]
     },
     "execution_count": 18,
     "metadata": {},
     "output_type": "execute_result"
    }
   ],
   "source": [
    "cleaned_text[:10]"
   ]
  },
  {
   "cell_type": "code",
   "execution_count": 19,
   "metadata": {},
   "outputs": [
    {
     "data": {
      "text/html": [
       "<div>\n",
       "<style scoped>\n",
       "    .dataframe tbody tr th:only-of-type {\n",
       "        vertical-align: middle;\n",
       "    }\n",
       "\n",
       "    .dataframe tbody tr th {\n",
       "        vertical-align: top;\n",
       "    }\n",
       "\n",
       "    .dataframe thead th {\n",
       "        text-align: right;\n",
       "    }\n",
       "</style>\n",
       "<table border=\"1\" class=\"dataframe\">\n",
       "  <thead>\n",
       "    <tr style=\"text-align: right;\">\n",
       "      <th></th>\n",
       "      <th>PhraseId</th>\n",
       "      <th>SentenceId</th>\n",
       "      <th>Phrase</th>\n",
       "      <th>Sentiment</th>\n",
       "      <th>cleaned_text</th>\n",
       "    </tr>\n",
       "  </thead>\n",
       "  <tbody>\n",
       "    <tr>\n",
       "      <th>0</th>\n",
       "      <td>1</td>\n",
       "      <td>1</td>\n",
       "      <td>A series of escapades demonstrating the adage ...</td>\n",
       "      <td>1</td>\n",
       "      <td>seri seri escapad demonstr demonstr adag adag ...</td>\n",
       "    </tr>\n",
       "    <tr>\n",
       "      <th>1</th>\n",
       "      <td>2</td>\n",
       "      <td>1</td>\n",
       "      <td>A series of escapades demonstrating the adage ...</td>\n",
       "      <td>2</td>\n",
       "      <td>seri seri escapad demonstr demonstr adag adag ...</td>\n",
       "    </tr>\n",
       "    <tr>\n",
       "      <th>2</th>\n",
       "      <td>3</td>\n",
       "      <td>1</td>\n",
       "      <td>A series</td>\n",
       "      <td>2</td>\n",
       "      <td>seri</td>\n",
       "    </tr>\n",
       "    <tr>\n",
       "      <th>3</th>\n",
       "      <td>4</td>\n",
       "      <td>1</td>\n",
       "      <td>A</td>\n",
       "      <td>2</td>\n",
       "      <td></td>\n",
       "    </tr>\n",
       "    <tr>\n",
       "      <th>4</th>\n",
       "      <td>5</td>\n",
       "      <td>1</td>\n",
       "      <td>series</td>\n",
       "      <td>2</td>\n",
       "      <td>seri</td>\n",
       "    </tr>\n",
       "    <tr>\n",
       "      <th>5</th>\n",
       "      <td>6</td>\n",
       "      <td>1</td>\n",
       "      <td>of escapades demonstrating the adage that what...</td>\n",
       "      <td>2</td>\n",
       "      <td>seri escapad demonstr demonstr adag adag adag ...</td>\n",
       "    </tr>\n",
       "    <tr>\n",
       "      <th>6</th>\n",
       "      <td>7</td>\n",
       "      <td>1</td>\n",
       "      <td>of</td>\n",
       "      <td>2</td>\n",
       "      <td>goos</td>\n",
       "    </tr>\n",
       "    <tr>\n",
       "      <th>7</th>\n",
       "      <td>8</td>\n",
       "      <td>1</td>\n",
       "      <td>escapades demonstrating the adage that what is...</td>\n",
       "      <td>2</td>\n",
       "      <td>escapad demonstr demonstr adag adag adag adag ...</td>\n",
       "    </tr>\n",
       "    <tr>\n",
       "      <th>8</th>\n",
       "      <td>9</td>\n",
       "      <td>1</td>\n",
       "      <td>escapades</td>\n",
       "      <td>2</td>\n",
       "      <td>escapad</td>\n",
       "    </tr>\n",
       "    <tr>\n",
       "      <th>9</th>\n",
       "      <td>10</td>\n",
       "      <td>1</td>\n",
       "      <td>demonstrating the adage that what is good for ...</td>\n",
       "      <td>2</td>\n",
       "      <td>demonstr demonstr adag adag adag adag goos</td>\n",
       "    </tr>\n",
       "  </tbody>\n",
       "</table>\n",
       "</div>"
      ],
      "text/plain": [
       "   PhraseId  SentenceId                                             Phrase  \\\n",
       "0         1           1  A series of escapades demonstrating the adage ...   \n",
       "1         2           1  A series of escapades demonstrating the adage ...   \n",
       "2         3           1                                           A series   \n",
       "3         4           1                                                  A   \n",
       "4         5           1                                             series   \n",
       "5         6           1  of escapades demonstrating the adage that what...   \n",
       "6         7           1                                                 of   \n",
       "7         8           1  escapades demonstrating the adage that what is...   \n",
       "8         9           1                                          escapades   \n",
       "9        10           1  demonstrating the adage that what is good for ...   \n",
       "\n",
       "   Sentiment                                       cleaned_text  \n",
       "0          1  seri seri escapad demonstr demonstr adag adag ...  \n",
       "1          2  seri seri escapad demonstr demonstr adag adag ...  \n",
       "2          2                                               seri  \n",
       "3          2                                                     \n",
       "4          2                                               seri  \n",
       "5          2  seri escapad demonstr demonstr adag adag adag ...  \n",
       "6          2                                               goos  \n",
       "7          2  escapad demonstr demonstr adag adag adag adag ...  \n",
       "8          2                                            escapad  \n",
       "9          2         demonstr demonstr adag adag adag adag goos  "
      ]
     },
     "execution_count": 19,
     "metadata": {},
     "output_type": "execute_result"
    }
   ],
   "source": [
    "data['cleaned_text'] = cleaned_text\n",
    "data.head(10)"
   ]
  },
  {
   "cell_type": "code",
   "execution_count": 20,
   "metadata": {},
   "outputs": [
    {
     "name": "stdout",
     "output_type": "stream",
     "text": [
      "Total number of words after all filteration: \n"
     ]
    },
    {
     "data": {
      "image/png": "[encoded data removed]",
      "text/plain": [
       "<Figure size 1440x360 with 1 Axes>"
      ]
     },
     "metadata": {
      "needs_background": "light"
     },
     "output_type": "display_data"
    },
    {
     "data": {
      "text/plain": [
       "<matplotlib.axes._subplots.AxesSubplot at 0x27644ba8da0>"
      ]
     },
     "execution_count": 20,
     "metadata": {},
     "output_type": "execute_result"
    }
   ],
   "source": [
    "# plotting the final frequency plot of all the filtered words\n",
    "plotting = nltk.probability.FreqDist(full_set)\n",
    "print(\"Total number of words after all filteration: \", )\n",
    "plt.figure(figsize=(20, 5))\n",
    "plotting.plot(100, cumulative=False)"
   ]
  },
  {
   "cell_type": "code",
   "execution_count": null,
   "metadata": {},
   "outputs": [],
   "source": []
  },
  {
   "cell_type": "code",
   "execution_count": 21,
   "metadata": {},
   "outputs": [],
   "source": [
    "def getclass(df, uqv, minval):\n",
    "    filt = data['Sentiment'] == uqv\n",
    "    filtidx = []\n",
    "    \n",
    "    for idx in range(len(filt)):\n",
    "        if filt[idx] == True:\n",
    "            filtidx.append(idx)\n",
    "            \n",
    "    filtset = np.random.choice(filtidx, mini, replace=False)\n",
    "    df = data.iloc[filtset, :]\n",
    "    \n",
    "    print(uqv, df.shape)\n",
    "    return df"
   ]
  },
  {
   "cell_type": "code",
   "execution_count": 22,
   "metadata": {
    "scrolled": true
   },
   "outputs": [
    {
     "name": "stdout",
     "output_type": "stream",
     "text": [
      "2 (7072, 5)\n",
      "3 (7072, 5)\n",
      "1 (7072, 5)\n",
      "4 (7072, 5)\n",
      "0 (7072, 5)\n"
     ]
    }
   ],
   "source": [
    "# evening out the samples, making sure that each class has equal number of samples!\n",
    "uqval = data['Sentiment'].value_counts()\n",
    "mini = min(uqval)\n",
    "res = []\n",
    "\n",
    "for i in range(len(uqval)):\n",
    "    m = getclass(data, uqval.index[i], mini)\n",
    "    res.append(m)"
   ]
  },
  {
   "cell_type": "code",
   "execution_count": 23,
   "metadata": {},
   "outputs": [
    {
     "data": {
      "text/html": [
       "<div>\n",
       "<style scoped>\n",
       "    .dataframe tbody tr th:only-of-type {\n",
       "        vertical-align: middle;\n",
       "    }\n",
       "\n",
       "    .dataframe tbody tr th {\n",
       "        vertical-align: top;\n",
       "    }\n",
       "\n",
       "    .dataframe thead th {\n",
       "        text-align: right;\n",
       "    }\n",
       "</style>\n",
       "<table border=\"1\" class=\"dataframe\">\n",
       "  <thead>\n",
       "    <tr style=\"text-align: right;\">\n",
       "      <th></th>\n",
       "      <th>PhraseId</th>\n",
       "      <th>SentenceId</th>\n",
       "      <th>Phrase</th>\n",
       "      <th>Sentiment</th>\n",
       "      <th>cleaned_text</th>\n",
       "    </tr>\n",
       "  </thead>\n",
       "  <tbody>\n",
       "    <tr>\n",
       "      <th>48522</th>\n",
       "      <td>48523</td>\n",
       "      <td>2371</td>\n",
       "      <td>those visual in-jokes , as in the film 's verb...</td>\n",
       "      <td>2</td>\n",
       "      <td>style visual in-jok verbal poke poke everyth e...</td>\n",
       "    </tr>\n",
       "    <tr>\n",
       "      <th>58110</th>\n",
       "      <td>58111</td>\n",
       "      <td>2928</td>\n",
       "      <td>confined to a single theater company and its s...</td>\n",
       "      <td>2</td>\n",
       "      <td>confin confin confin singl theater compani com...</td>\n",
       "    </tr>\n",
       "    <tr>\n",
       "      <th>55471</th>\n",
       "      <td>55472</td>\n",
       "      <td>2768</td>\n",
       "      <td>rush right out</td>\n",
       "      <td>2</td>\n",
       "      <td>rush right right</td>\n",
       "    </tr>\n",
       "    <tr>\n",
       "      <th>69958</th>\n",
       "      <td>69959</td>\n",
       "      <td>3559</td>\n",
       "      <td>likably</td>\n",
       "      <td>2</td>\n",
       "      <td>likabl</td>\n",
       "    </tr>\n",
       "    <tr>\n",
       "      <th>66627</th>\n",
       "      <td>66628</td>\n",
       "      <td>3383</td>\n",
       "      <td>-LRB- and literally -RRB-</td>\n",
       "      <td>2</td>\n",
       "      <td>liter</td>\n",
       "    </tr>\n",
       "  </tbody>\n",
       "</table>\n",
       "</div>"
      ],
      "text/plain": [
       "       PhraseId  SentenceId  \\\n",
       "48522     48523        2371   \n",
       "58110     58111        2928   \n",
       "55471     55472        2768   \n",
       "69958     69959        3559   \n",
       "66627     66628        3383   \n",
       "\n",
       "                                                  Phrase  Sentiment  \\\n",
       "48522  those visual in-jokes , as in the film 's verb...          2   \n",
       "58110  confined to a single theater company and its s...          2   \n",
       "55471                                     rush right out          2   \n",
       "69958                                            likably          2   \n",
       "66627                          -LRB- and literally -RRB-          2   \n",
       "\n",
       "                                            cleaned_text  \n",
       "48522  style visual in-jok verbal poke poke everyth e...  \n",
       "58110  confin confin confin singl theater compani com...  \n",
       "55471                                   rush right right  \n",
       "69958                                             likabl  \n",
       "66627                                              liter  "
      ]
     },
     "execution_count": 23,
     "metadata": {},
     "output_type": "execute_result"
    }
   ],
   "source": [
    "fin = pd.concat(res, axis=0)\n",
    "fin.head()"
   ]
  },
  {
   "cell_type": "code",
   "execution_count": null,
   "metadata": {},
   "outputs": [],
   "source": []
  }
 ],
 "metadata": {
  "kernelspec": {
   "display_name": "tensorflow",
   "language": "python",
   "name": "tensorflow"
  },
  "language_info": {
   "codemirror_mode": {
    "name": "ipython",
    "version": 3
   },
   "file_extension": ".py",
   "mimetype": "text/x-python",
   "name": "python",
   "nbconvert_exporter": "python",
   "pygments_lexer": "ipython3",
   "version": "3.6.7"
  }
 },
 "nbformat": 4,
 "nbformat_minor": 2
}
